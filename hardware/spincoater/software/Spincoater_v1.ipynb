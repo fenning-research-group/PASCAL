{
 "cells": [
  {
   "cell_type": "code",
   "execution_count": 324,
   "metadata": {},
   "outputs": [],
   "source": [
    "import serial\n",
    "import time"
   ]
  },
  {
   "cell_type": "markdown",
   "metadata": {},
   "source": [
    "## List ports in use"
   ]
  },
  {
   "cell_type": "code",
   "execution_count": 325,
   "metadata": {},
   "outputs": [
    {
     "name": "stdout",
     "output_type": "stream",
     "text": [
      "\u001b[34m\u001b[43m/dev/tty.Bluetooth-Incoming-Port\u001b[m\u001b[m   \u001b[34m\u001b[43m/dev/tty.usbmodem143301\u001b[m\u001b[m\n",
      "\u001b[34m\u001b[43m/dev/tty.DenizsiPhone-WirelessiAP\u001b[m\u001b[m\n"
     ]
    }
   ],
   "source": [
    "ls /dev/tty.*"
   ]
  },
  {
   "cell_type": "markdown",
   "metadata": {},
   "source": [
    "## Connect to Arduino"
   ]
  },
  {
   "cell_type": "code",
   "execution_count": 387,
   "metadata": {},
   "outputs": [],
   "source": [
    "ser = serial.Serial('/dev/cu.usbmodem143301', 9600) # Establish the connection on a specific port\n",
    "ser.flushInput()"
   ]
  },
  {
   "cell_type": "markdown",
   "metadata": {},
   "source": [
    "## Send Command to Arduino"
   ]
  },
  {
   "cell_type": "code",
   "execution_count": 370,
   "metadata": {},
   "outputs": [],
   "source": [
    "def spincoat(rpm, duration): #duration = time it takes to get to target\n",
    "    ser.flushInput()\n",
    "    ser.write('r{0:d},{1:d}'.format(rpm, duration).encode())\n",
    "#     msg=ser.readline()\n",
    "#     print(msg.decode('utf-8'))"
   ]
  },
  {
   "cell_type": "code",
   "execution_count": 382,
   "metadata": {},
   "outputs": [],
   "source": [
    "def setRPM(rpm): \n",
    "    ser.flushInput()\n",
    "    ser.write('a{0:d}'.format(rpm).encode())\n",
    "    time.sleep(.2)\n",
    "    msg = ser.readline(); # read all characters in buffer\n",
    "    print(msg.decode('utf-8'));"
   ]
  },
  {
   "cell_type": "code",
   "execution_count": 318,
   "metadata": {},
   "outputs": [],
   "source": [
    "# ser.flushInput()\n",
    "# ser.write('r0000,2000'.encode());"
   ]
  },
  {
   "cell_type": "markdown",
   "metadata": {},
   "source": [
    "## Coating Recipe"
   ]
  },
  {
   "cell_type": "code",
   "execution_count": 329,
   "metadata": {},
   "outputs": [],
   "source": [
    "def HTL():\n",
    "    ser.flushImput\n",
    "    spincoat(0, 0) # to ensure starting from off positon\n",
    "    spincoat(4000, 1000)\n",
    "    time.sleep(2)\n",
    "    spincoat(0, 0)"
   ]
  },
  {
   "cell_type": "code",
   "execution_count": 389,
   "metadata": {},
   "outputs": [],
   "source": [
    "def PSK():\n",
    "    spincoat(0, 0)\n",
    "    spincoat(3000, 2000)\n",
    "    time.sleep(2)\n",
    "    spincoat(6000, 2000)\n",
    "    time.sleep(2)\n",
    "    spincoat(0, 0)"
   ]
  },
  {
   "cell_type": "markdown",
   "metadata": {},
   "source": [
    "## Example set and hold specific RPM "
   ]
  },
  {
   "cell_type": "code",
   "execution_count": 390,
   "metadata": {},
   "outputs": [
    {
     "name": "stdout",
     "output_type": "stream",
     "text": [
      "ing 4428 Command\n",
      "\n"
     ]
    }
   ],
   "source": [
    "setRPM(0)"
   ]
  },
  {
   "cell_type": "markdown",
   "metadata": {},
   "source": [
    "## Example running a coating recipe"
   ]
  },
  {
   "cell_type": "code",
   "execution_count": 391,
   "metadata": {},
   "outputs": [],
   "source": [
    "PSK()"
   ]
  },
  {
   "cell_type": "code",
   "execution_count": 393,
   "metadata": {},
   "outputs": [],
   "source": [
    "HTL()"
   ]
  }
 ],
 "metadata": {
  "kernelspec": {
   "display_name": "Python 3",
   "language": "python",
   "name": "python3"
  },
  "language_info": {
   "codemirror_mode": {
    "name": "ipython",
    "version": 3
   },
   "file_extension": ".py",
   "mimetype": "text/x-python",
   "name": "python",
   "nbconvert_exporter": "python",
   "pygments_lexer": "ipython3",
   "version": "3.7.5"
  }
 },
 "nbformat": 4,
 "nbformat_minor": 4
}
