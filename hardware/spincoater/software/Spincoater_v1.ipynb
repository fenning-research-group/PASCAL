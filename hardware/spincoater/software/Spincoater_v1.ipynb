{
 "cells": [
  {
   "cell_type": "code",
   "execution_count": 1,
   "metadata": {},
   "outputs": [],
   "source": [
    "import serial\n",
    "import time"
   ]
  },
  {
   "cell_type": "markdown",
   "metadata": {},
   "source": [
    "## List ports in use"
   ]
  },
  {
   "cell_type": "code",
   "execution_count": 2,
   "metadata": {
    "scrolled": false
   },
   "outputs": [
    {
     "name": "stdout",
     "output_type": "stream",
     "text": [
      "\u001b[0m\u001b[40;33;01m/dev/tty\u001b[0m    \u001b[40;33;01m/dev/tty23\u001b[0m  \u001b[40;33;01m/dev/tty39\u001b[0m  \u001b[40;33;01m/dev/tty54\u001b[0m      \u001b[40;33;01m/dev/ttyS0\u001b[0m   \u001b[40;33;01m/dev/ttyS24\u001b[0m\r\n",
      "\u001b[40;33;01m/dev/tty0\u001b[0m   \u001b[40;33;01m/dev/tty24\u001b[0m  \u001b[40;33;01m/dev/tty4\u001b[0m   \u001b[40;33;01m/dev/tty55\u001b[0m      \u001b[40;33;01m/dev/ttyS1\u001b[0m   \u001b[40;33;01m/dev/ttyS25\u001b[0m\r\n",
      "\u001b[40;33;01m/dev/tty1\u001b[0m   \u001b[40;33;01m/dev/tty25\u001b[0m  \u001b[40;33;01m/dev/tty40\u001b[0m  \u001b[40;33;01m/dev/tty56\u001b[0m      \u001b[40;33;01m/dev/ttyS10\u001b[0m  \u001b[40;33;01m/dev/ttyS26\u001b[0m\r\n",
      "\u001b[40;33;01m/dev/tty10\u001b[0m  \u001b[40;33;01m/dev/tty26\u001b[0m  \u001b[40;33;01m/dev/tty41\u001b[0m  \u001b[40;33;01m/dev/tty57\u001b[0m      \u001b[40;33;01m/dev/ttyS11\u001b[0m  \u001b[40;33;01m/dev/ttyS27\u001b[0m\r\n",
      "\u001b[40;33;01m/dev/tty11\u001b[0m  \u001b[40;33;01m/dev/tty27\u001b[0m  \u001b[40;33;01m/dev/tty42\u001b[0m  \u001b[40;33;01m/dev/tty58\u001b[0m      \u001b[40;33;01m/dev/ttyS12\u001b[0m  \u001b[40;33;01m/dev/ttyS28\u001b[0m\r\n",
      "\u001b[40;33;01m/dev/tty12\u001b[0m  \u001b[40;33;01m/dev/tty28\u001b[0m  \u001b[40;33;01m/dev/tty43\u001b[0m  \u001b[40;33;01m/dev/tty59\u001b[0m      \u001b[40;33;01m/dev/ttyS13\u001b[0m  \u001b[40;33;01m/dev/ttyS29\u001b[0m\r\n",
      "\u001b[40;33;01m/dev/tty13\u001b[0m  \u001b[40;33;01m/dev/tty29\u001b[0m  \u001b[40;33;01m/dev/tty44\u001b[0m  \u001b[40;33;01m/dev/tty6\u001b[0m       \u001b[40;33;01m/dev/ttyS14\u001b[0m  \u001b[40;33;01m/dev/ttyS3\u001b[0m\r\n",
      "\u001b[40;33;01m/dev/tty14\u001b[0m  \u001b[40;33;01m/dev/tty3\u001b[0m   \u001b[40;33;01m/dev/tty45\u001b[0m  \u001b[40;33;01m/dev/tty60\u001b[0m      \u001b[40;33;01m/dev/ttyS15\u001b[0m  \u001b[40;33;01m/dev/ttyS30\u001b[0m\r\n",
      "\u001b[40;33;01m/dev/tty15\u001b[0m  \u001b[40;33;01m/dev/tty30\u001b[0m  \u001b[40;33;01m/dev/tty46\u001b[0m  \u001b[40;33;01m/dev/tty61\u001b[0m      \u001b[40;33;01m/dev/ttyS16\u001b[0m  \u001b[40;33;01m/dev/ttyS31\u001b[0m\r\n",
      "\u001b[40;33;01m/dev/tty16\u001b[0m  \u001b[40;33;01m/dev/tty31\u001b[0m  \u001b[40;33;01m/dev/tty47\u001b[0m  \u001b[40;33;01m/dev/tty62\u001b[0m      \u001b[40;33;01m/dev/ttyS17\u001b[0m  \u001b[40;33;01m/dev/ttyS4\u001b[0m\r\n",
      "\u001b[40;33;01m/dev/tty17\u001b[0m  \u001b[40;33;01m/dev/tty32\u001b[0m  \u001b[40;33;01m/dev/tty48\u001b[0m  \u001b[40;33;01m/dev/tty63\u001b[0m      \u001b[40;33;01m/dev/ttyS18\u001b[0m  \u001b[40;33;01m/dev/ttyS5\u001b[0m\r\n",
      "\u001b[40;33;01m/dev/tty18\u001b[0m  \u001b[40;33;01m/dev/tty33\u001b[0m  \u001b[40;33;01m/dev/tty49\u001b[0m  \u001b[40;33;01m/dev/tty7\u001b[0m       \u001b[40;33;01m/dev/ttyS19\u001b[0m  \u001b[40;33;01m/dev/ttyS6\u001b[0m\r\n",
      "\u001b[40;33;01m/dev/tty19\u001b[0m  \u001b[40;33;01m/dev/tty34\u001b[0m  \u001b[40;33;01m/dev/tty5\u001b[0m   \u001b[40;33;01m/dev/tty8\u001b[0m       \u001b[40;33;01m/dev/ttyS2\u001b[0m   \u001b[40;33;01m/dev/ttyS7\u001b[0m\r\n",
      "\u001b[40;33;01m/dev/tty2\u001b[0m   \u001b[40;33;01m/dev/tty35\u001b[0m  \u001b[40;33;01m/dev/tty50\u001b[0m  \u001b[40;33;01m/dev/tty9\u001b[0m       \u001b[40;33;01m/dev/ttyS20\u001b[0m  \u001b[40;33;01m/dev/ttyS8\u001b[0m\r\n",
      "\u001b[40;33;01m/dev/tty20\u001b[0m  \u001b[40;33;01m/dev/tty36\u001b[0m  \u001b[40;33;01m/dev/tty51\u001b[0m  \u001b[40;33;01m/dev/ttyACM0\u001b[0m    \u001b[40;33;01m/dev/ttyS21\u001b[0m  \u001b[40;33;01m/dev/ttyS9\u001b[0m\r\n",
      "\u001b[40;33;01m/dev/tty21\u001b[0m  \u001b[40;33;01m/dev/tty37\u001b[0m  \u001b[40;33;01m/dev/tty52\u001b[0m  \u001b[40;33;01m/dev/ttyACM1\u001b[0m    \u001b[40;33;01m/dev/ttyS22\u001b[0m\r\n",
      "\u001b[40;33;01m/dev/tty22\u001b[0m  \u001b[40;33;01m/dev/tty38\u001b[0m  \u001b[40;33;01m/dev/tty53\u001b[0m  \u001b[40;33;01m/dev/ttyprintk\u001b[0m  \u001b[40;33;01m/dev/ttyS23\u001b[0m\r\n"
     ]
    }
   ],
   "source": [
    "ls /dev/tty*"
   ]
  },
  {
   "cell_type": "markdown",
   "metadata": {},
   "source": [
    "## Connect to Arduino"
   ]
  },
  {
   "cell_type": "code",
   "execution_count": 8,
   "metadata": {},
   "outputs": [],
   "source": [
    "ser = serial.Serial('/dev/ttyACM0', 56700) # Establish the connection on a specific port\n",
    "ser.timeout = 2\n",
    "ser.flushInput()"
   ]
  },
  {
   "cell_type": "markdown",
   "metadata": {},
   "source": [
    "## Send Command to Arduino"
   ]
  },
  {
   "cell_type": "code",
   "execution_count": 3,
   "metadata": {},
   "outputs": [],
   "source": [
    "def spincoat(rpm, duration): #duration = time it takes to get to target\n",
    "    ser.flushInput()\n",
    "    ser.write('r{0:d},{1:d}'.format(rpm, duration).encode())\n",
    "#     msg=ser.readline()\n",
    "#     print(msg.decode('utf-8'))"
   ]
  },
  {
   "cell_type": "code",
   "execution_count": 4,
   "metadata": {},
   "outputs": [],
   "source": [
    "def setRPM(rpm): \n",
    "    ser.flushInput()\n",
    "    ser.write('a{0:d}'.format(rpm).encode())\n",
    "    time.sleep(.2)\n",
    "    msg = ser.readline(); # read all characters in buffer\n",
    "    print(msg.decode('utf-8'));"
   ]
  },
  {
   "cell_type": "code",
   "execution_count": 5,
   "metadata": {},
   "outputs": [],
   "source": [
    "# ser.flushInput()\n",
    "# ser.write('r0000,2000'.encode());"
   ]
  },
  {
   "cell_type": "code",
   "execution_count": 6,
   "metadata": {},
   "outputs": [],
   "source": [
    "def checkRPM(): \n",
    "    ser.flushInput()\n",
    "    ser.write('c'.encode())\n",
    "    time.sleep(.2)\n",
    "    msg = ser.readline(); # read all characters in buffer\n",
    "    print(msg.decode('utf-8'));"
   ]
  },
  {
   "cell_type": "markdown",
   "metadata": {},
   "source": [
    "## Coating Recipe"
   ]
  },
  {
   "cell_type": "code",
   "execution_count": null,
   "metadata": {},
   "outputs": [],
   "source": [
    "def HTL():\n",
    "    ser.flushImput\n",
    "    spincoat(0, 0) # to ensure starting from off positon\n",
    "    spincoat(4000, 1000)\n",
    "    time.sleep(2)\n",
    "    spincoat(0, 0)"
   ]
  },
  {
   "cell_type": "code",
   "execution_count": null,
   "metadata": {},
   "outputs": [],
   "source": [
    "def PSK():\n",
    "    spincoat(0, 0)\n",
    "    spincoat(3000, 2000)\n",
    "    time.sleep(2)\n",
    "    spincoat(6000, 2000)\n",
    "    time.sleep(2)\n",
    "    spincoat(0, 0)"
   ]
  },
  {
   "cell_type": "markdown",
   "metadata": {},
   "source": [
    "## Example set and hold specific RPM "
   ]
  },
  {
   "cell_type": "code",
   "execution_count": 10,
   "metadata": {},
   "outputs": [
    {
     "name": "stdout",
     "output_type": "stream",
     "text": [
      "\n"
     ]
    }
   ],
   "source": [
    "setRPM(0)"
   ]
  },
  {
   "cell_type": "code",
   "execution_count": null,
   "metadata": {},
   "outputs": [],
   "source": [
    "checkRPM()"
   ]
  },
  {
   "cell_type": "markdown",
   "metadata": {},
   "source": [
    "## Example running a coating recipe"
   ]
  },
  {
   "cell_type": "code",
   "execution_count": 391,
   "metadata": {},
   "outputs": [],
   "source": [
    "PSK()"
   ]
  },
  {
   "cell_type": "code",
   "execution_count": 393,
   "metadata": {},
   "outputs": [],
   "source": [
    "HTL()"
   ]
  },
  {
   "cell_type": "code",
   "execution_count": null,
   "metadata": {},
   "outputs": [],
   "source": []
  },
  {
   "cell_type": "code",
   "execution_count": 11,
   "metadata": {},
   "outputs": [],
   "source": [
    "import serial\n",
    "import time\n",
    "\n",
    "class SpinCoater:\n",
    "\tdef __init__(self, port = '/dev/ttyACM2', baudrate=57600):\n",
    "\t\t#constants\n",
    "\t\tself.POLLINGRATE = 0.5 #query rate to arduino, in seconds\n",
    "\t\t# self.ACCELERATIONRANGE = (1,200) #rpm/s\n",
    "\t\tself.SPEEDRANGE = (1000, 9000) #rpm\n",
    "\t\tself.TERMINATOR = '\\n'\n",
    "\t\tself.baudrate =57600\n",
    "\t\tself.connect(port =port) #where do i input baudrate?\n",
    "\t\tself.unlock()\n",
    "\n",
    "\t@property\n",
    "\tdef rpm(self):\n",
    "\t\tself.write('c') #command to read rpm\n",
    "\t\tself.__rpm = float(self.__handle.readline().strip())\n",
    "\t\treturn self.__rpm\n",
    "\t\n",
    "\tdef connect(self, port, **kwargs):\n",
    "\t\tself.ser = serial.Serial()\n",
    "\t\tself.ser.baudrate = self.baudrate\n",
    "\t\tself.ser.port = self.port\n",
    "\n",
    "\t\tself.__handle = self.ser()\n",
    "\t\tself.__handle.open()\n",
    "\n",
    "\n",
    "\t\t# routine to initialize spincoater \n",
    "\t\t# - cycle ESC power\n",
    "\t\t# - pwm to low, 2 seconds\n",
    "\t\t# - pwm to high, x seconds\n",
    "\t\t# finish\n",
    "\n",
    "\tdef disconnect(self):\n",
    "\t\tself.__handle.close()\n",
    "\n",
    "\tdef write(self, s):\n",
    "\t\t'''\n",
    "\t\tappends terminator and converts to bytes before sending message to arduino\n",
    "\t\t'''\n",
    "\t\tself.__handle.write(f'{s}{self.TERMINATOR}'.encode())\n",
    " \t\n",
    "\tdef lock(self):\n",
    "\t\t\"\"\"\n",
    "\t\troutine to lock rotor in registered position for sample transfer\n",
    "\t\t\"\"\"\n",
    "\t\tif self.locked:\n",
    "\t\t\treturn\n",
    "\n",
    "\t\tself.write('z') # \n",
    "\t\ttime.sleep(2) #wait some time to ensure rotor has stopped and engaged with electromagnet\n",
    "\t\tself.write('i4') #send command to engage electromagnet\n",
    "\t\ttime.sleep(2) #wait some time to ensure rotor has stopped and engaged with electromagnet\n",
    "\t\tself.locked = True\n",
    "\n",
    "\tdef unlock(self):\n",
    "\t\t\"\"\"\n",
    "\t\tunlocks the rotor from registered position\n",
    "\t\t\"\"\"\n",
    "\t\tself.write('o4') #send command to disengage electromagnet\n",
    "\t\ttime.sleep(2) #wait some time to ensure rotor has unlocked before attempting to rotate \n",
    "\t\tself.locked = False\n",
    "\n",
    "\tdef setspeed(self, speed): #acceleration = max(self.ACCELERATIONRANGE)):\n",
    "\t\t\n",
    "\t\tspeed = int(speed) #arduino only takes integer inputs\n",
    "\n",
    "\t\tif self.locked:\n",
    "\t\t\tself.unlock()\n",
    "\t\tself.__handle.write('a{speed:d}') \n",
    "\n",
    "\t\t#send command to arduino. assumes arduino responds to \"s{rpm},{acceleration}\\r'\n",
    "\t\t'''\n",
    "\t\tsends commands to arduino to set a target speed with a target acceleration\n",
    "\n",
    "\t\tspeed - target angular velocity, in rpm\n",
    "\t\tacceleration - target angular acceleration, in rpm/second. always positive\n",
    "\t\tacceleration = int(acceleration) \n",
    "\t\t#possible code to wait for confirmation response from arduino that speed was hit successfully\n",
    "\t\t'''\n",
    "\n",
    "\tdef stop(self):\n",
    "\t\t\"\"\"\n",
    "\t\tstop rotation and locks the rotor in position\n",
    "\t\t\"\"\"\n",
    "\t\tself.write('z') # \n",
    "\t\tself.lock()\n",
    "\n",
    "\tdef recipe(self, recipe):\n",
    "\t\t\"\"\"\n",
    "\t\texecutes a series of spin coating steps. A final \"stop\" step is inserted\n",
    "\t\tat the end to bring the rotor to a halt.\n",
    "\n",
    "\t\trecipe - nested list of steps in format:\n",
    "\t\t\t\n",
    "\t\t\t[\n",
    "\t\t\t\t[speed, acceleration, duration],\n",
    "\t\t\t\t[speed, acceleration, duration],\n",
    "\t\t\t\t...,\n",
    "\t\t\t\t[speed, acceleration, duration]\n",
    "\t\t\t]\n",
    "\n",
    "\t\t\twhere speed = rpm, acceleration = rpm/s, duration = s\n",
    "\n",
    "\t\t\"\"\"\n",
    "\t\t# record = {\n",
    "\t\t# \t'time':[],\n",
    "\t\t# \t'rpm': []\n",
    "\t\t# \t}\n",
    "\n",
    "\t\t# start_time = time.time()\n",
    "\t\t# next_step_time = 0\n",
    "\t\t# time_elapsed = 0\n",
    "\t\t# for step in recipe:\n",
    "\t\t# \tspeed = step[0]\n",
    "\t\t# \tacceleration = step[1]\n",
    "\t\t# \tduration = step[2]\n",
    "\n",
    "\t\t# \twhile time_elapsed <= next_step_time:\n",
    "\t\t# \t\trecord['time'].append(time_elapsed)\n",
    "\t\t# \t\trecord['rpm'].append(self.rpm)\n",
    "\t\t# \t\ttime.sleep(self.POLLINGRATE)\n",
    "\n",
    "\t\t# \tself.setspeed(speed, acceleration)\n",
    "\t\t# \tnext_step_time += duration\n",
    "\t\t# self.stop()\n",
    "\n",
    "\t\t# return record\n",
    "\n",
    "\n",
    "\n"
   ]
  },
  {
   "cell_type": "code",
   "execution_count": 7,
   "metadata": {},
   "outputs": [
    {
     "data": {
      "text/plain": [
       "__main__.SpinCoater"
      ]
     },
     "execution_count": 7,
     "metadata": {},
     "output_type": "execute_result"
    }
   ],
   "source": [
    "SpinCoater"
   ]
  },
  {
   "cell_type": "code",
   "execution_count": 8,
   "metadata": {},
   "outputs": [
    {
     "ename": "NameError",
     "evalue": "name 'self' is not defined",
     "output_type": "error",
     "traceback": [
      "\u001b[0;31m---------------------------------------------------------------------------\u001b[0m",
      "\u001b[0;31mNameError\u001b[0m                                 Traceback (most recent call last)",
      "\u001b[0;32m<ipython-input-8-a078ed468f60>\u001b[0m in \u001b[0;36m<module>\u001b[0;34m\u001b[0m\n\u001b[0;32m----> 1\u001b[0;31m \u001b[0mself\u001b[0m\u001b[0;34m.\u001b[0m\u001b[0mconnect\u001b[0m\u001b[0;34m(\u001b[0m\u001b[0;34m)\u001b[0m\u001b[0;34m\u001b[0m\u001b[0;34m\u001b[0m\u001b[0m\n\u001b[0m",
      "\u001b[0;31mNameError\u001b[0m: name 'self' is not defined"
     ]
    }
   ],
   "source": [
    "self.connect()"
   ]
  },
  {
   "cell_type": "code",
   "execution_count": 11,
   "metadata": {},
   "outputs": [
    {
     "data": {
      "text/plain": [
       "Serial<id=0x7f497c652210, open=False>(port='/dev/ttyACM2', baudrate=57600, bytesize=8, parity='N', stopbits=1, timeout=None, xonxoff=False, rtscts=False, dsrdtr=False)"
      ]
     },
     "execution_count": 11,
     "metadata": {},
     "output_type": "execute_result"
    }
   ],
   "source": [
    "ser = serial.Serial()\n",
    "ser.baudrate = 57600\n",
    "ser.port = '/dev/ttyACM2'\n",
    "ser"
   ]
  },
  {
   "cell_type": "code",
   "execution_count": 12,
   "metadata": {},
   "outputs": [
    {
     "data": {
      "text/plain": [
       "Serial<id=0x7f497c63c7d0, open=True>(port='/dev/ttyACM2', baudrate=57600, bytesize=8, parity='N', stopbits=1, timeout=None, xonxoff=False, rtscts=False, dsrdtr=False)"
      ]
     },
     "execution_count": 12,
     "metadata": {},
     "output_type": "execute_result"
    }
   ],
   "source": [
    "serial.Serial(port='/dev/ttyACM2', baudrate=57600)"
   ]
  },
  {
   "cell_type": "code",
   "execution_count": null,
   "metadata": {},
   "outputs": [],
   "source": []
  }
 ],
 "metadata": {
  "kernelspec": {
   "display_name": "Python 3",
   "language": "python",
   "name": "python3"
  },
  "language_info": {
   "codemirror_mode": {
    "name": "ipython",
    "version": 3
   },
   "file_extension": ".py",
   "mimetype": "text/x-python",
   "name": "python",
   "nbconvert_exporter": "python",
   "pygments_lexer": "ipython3",
   "version": "3.7.6"
  }
 },
 "nbformat": 4,
 "nbformat_minor": 4
}
