{
 "cells": [
  {
   "cell_type": "code",
   "execution_count": 1,
   "id": "convenient-prize",
   "metadata": {},
   "outputs": [
    {
     "name": "stderr",
     "output_type": "stream",
     "text": [
      "C:\\ProgramData\\Anaconda3\\lib\\site-packages\\numpy\\_distributor_init.py:30: UserWarning: loaded more than 1 DLL from .libs:\n",
      "C:\\ProgramData\\Anaconda3\\lib\\site-packages\\numpy\\.libs\\libopenblas.GK7GX5KEQ4F6UYO3P26ULGBQYHGQO7J4.gfortran-win_amd64.dll\n",
      "C:\\ProgramData\\Anaconda3\\lib\\site-packages\\numpy\\.libs\\libopenblas.JPIJNSWNNAN3CE6LLI5FWSPHUT2VXMTH.gfortran-win_amd64.dll\n",
      "  warnings.warn(\"loaded more than 1 DLL from .libs:\"\n"
     ]
    }
   ],
   "source": [
    "import pandas as pd\n",
    "import numpy as np\n",
    "import matplotlib.pyplot as plt"
   ]
  },
  {
   "cell_type": "code",
   "execution_count": 3,
   "id": "talented-brunswick",
   "metadata": {},
   "outputs": [],
   "source": [
    "df = pd.read_csv('rpmpwmcalibration.csv')"
   ]
  },
  {
   "cell_type": "code",
   "execution_count": 4,
   "id": "treated-arrow",
   "metadata": {},
   "outputs": [
    {
     "data": {
      "text/html": [
       "<div>\n",
       "<style scoped>\n",
       "    .dataframe tbody tr th:only-of-type {\n",
       "        vertical-align: middle;\n",
       "    }\n",
       "\n",
       "    .dataframe tbody tr th {\n",
       "        vertical-align: top;\n",
       "    }\n",
       "\n",
       "    .dataframe thead th {\n",
       "        text-align: right;\n",
       "    }\n",
       "</style>\n",
       "<table border=\"1\" class=\"dataframe\">\n",
       "  <thead>\n",
       "    <tr style=\"text-align: right;\">\n",
       "      <th></th>\n",
       "      <th>Datetime</th>\n",
       "      <th>Target RPM</th>\n",
       "      <th>Actual RPM</th>\n",
       "      <th>PWM Signal</th>\n",
       "    </tr>\n",
       "  </thead>\n",
       "  <tbody>\n",
       "    <tr>\n",
       "      <th>0</th>\n",
       "      <td>2021/5/18 1:11:6</td>\n",
       "      <td>0.0</td>\n",
       "      <td>0.0</td>\n",
       "      <td>700</td>\n",
       "    </tr>\n",
       "    <tr>\n",
       "      <th>1</th>\n",
       "      <td>2021/5/18 1:11:6</td>\n",
       "      <td>0.0</td>\n",
       "      <td>0.0</td>\n",
       "      <td>700</td>\n",
       "    </tr>\n",
       "    <tr>\n",
       "      <th>2</th>\n",
       "      <td>2021/5/18 1:11:6</td>\n",
       "      <td>0.0</td>\n",
       "      <td>0.0</td>\n",
       "      <td>700</td>\n",
       "    </tr>\n",
       "    <tr>\n",
       "      <th>3</th>\n",
       "      <td>2021/5/18 1:11:6</td>\n",
       "      <td>0.0</td>\n",
       "      <td>0.0</td>\n",
       "      <td>700</td>\n",
       "    </tr>\n",
       "    <tr>\n",
       "      <th>4</th>\n",
       "      <td>2021/5/18 1:11:7</td>\n",
       "      <td>0.0</td>\n",
       "      <td>0.0</td>\n",
       "      <td>700</td>\n",
       "    </tr>\n",
       "  </tbody>\n",
       "</table>\n",
       "</div>"
      ],
      "text/plain": [
       "           Datetime   Target RPM   Actual RPM   PWM Signal\n",
       "0  2021/5/18 1:11:6          0.0          0.0          700\n",
       "1  2021/5/18 1:11:6          0.0          0.0          700\n",
       "2  2021/5/18 1:11:6          0.0          0.0          700\n",
       "3  2021/5/18 1:11:6          0.0          0.0          700\n",
       "4  2021/5/18 1:11:7          0.0          0.0          700"
      ]
     },
     "execution_count": 4,
     "metadata": {},
     "output_type": "execute_result"
    }
   ],
   "source": [
    "df.head()"
   ]
  },
  {
   "cell_type": "code",
   "execution_count": 8,
   "id": "duplicate-judge",
   "metadata": {},
   "outputs": [
    {
     "data": {
      "text/plain": [
       "Index(['Datetime', ' Target RPM', ' Actual RPM', ' PWM Signal'], dtype='object')"
      ]
     },
     "execution_count": 8,
     "metadata": {},
     "output_type": "execute_result"
    }
   ],
   "source": [
    "df.columns"
   ]
  },
  {
   "cell_type": "code",
   "execution_count": 9,
   "id": "seasonal-possibility",
   "metadata": {},
   "outputs": [
    {
     "data": {
      "text/plain": [
       "dtype('float64')"
      ]
     },
     "execution_count": 9,
     "metadata": {},
     "output_type": "execute_result"
    }
   ],
   "source": [
    "df[' Target RPM'].dtype"
   ]
  },
  {
   "cell_type": "code",
   "execution_count": 80,
   "id": "nasty-musician",
   "metadata": {},
   "outputs": [],
   "source": [
    "pwm = df[' PWM Signal'].values\n",
    "rpm = df[' Actual RPM'].values"
   ]
  },
  {
   "cell_type": "code",
   "execution_count": 81,
   "id": "obvious-circumstances",
   "metadata": {},
   "outputs": [],
   "source": [
    "pwms = np.unique(pwm)[1:-1]"
   ]
  },
  {
   "cell_type": "code",
   "execution_count": 82,
   "id": "temporal-haven",
   "metadata": {},
   "outputs": [],
   "source": [
    "rpms = []\n",
    "for p in pwms:\n",
    "    r = rpm[pwm==p]\n",
    "    rpms.append(np.mean(r[-10:]))\n",
    "rpms = np.array(rpms)"
   ]
  },
  {
   "cell_type": "code",
   "execution_count": 83,
   "id": "allied-morris",
   "metadata": {},
   "outputs": [],
   "source": [
    "popt = np.polyfit(rpms,pwms, 3)\n",
    "pwms_fit = np.polyval(popt, rpms)\n",
    "pwms_residual = pwms_fit-pwms"
   ]
  },
  {
   "cell_type": "code",
   "execution_count": 84,
   "id": "short-banana",
   "metadata": {},
   "outputs": [
    {
     "data": {
      "text/plain": [
       "Text(0, 0.5, 'ESC PWM Signal')"
      ]
     },
     "execution_count": 84,
     "metadata": {},
     "output_type": "execute_result"
    },
    {
     "data": {
      "image/png": "[encoded data removed]",
      "text/plain": [
       "<Figure size 432x288 with 1 Axes>"
      ]
     },
     "metadata": {
      "needs_background": "light"
     },
     "output_type": "display_data"
    }
   ],
   "source": [
    "plt.scatter(rpms, pwms)\n",
    "plt.plot(rpms, pwms_fit)\n",
    "plt.xlabel('RPM')\n",
    "plt.ylabel('ESC PWM Signal')"
   ]
  },
  {
   "cell_type": "code",
   "execution_count": 85,
   "id": "crucial-vietnam",
   "metadata": {},
   "outputs": [
    {
     "data": {
      "text/plain": [
       "<matplotlib.collections.PathCollection at 0x1c44009fdc0>"
      ]
     },
     "execution_count": 85,
     "metadata": {},
     "output_type": "execute_result"
    },
    {
     "data": {
      "image/png": "[encoded data removed]",
      "text/plain": [
       "<Figure size 432x288 with 1 Axes>"
      ]
     },
     "metadata": {
      "needs_background": "light"
     },
     "output_type": "display_data"
    }
   ],
   "source": [
    "plt.scatter(rpms, pwms_residual)"
   ]
  },
  {
   "cell_type": "code",
   "execution_count": 86,
   "id": "wound-zimbabwe",
   "metadata": {},
   "outputs": [
    {
     "data": {
      "text/plain": [
       "array([ 1.29239574e-09, -1.28689654e-05,  6.63914326e-02,  7.39221611e+02])"
      ]
     },
     "execution_count": 86,
     "metadata": {},
     "output_type": "execute_result"
    }
   ],
   "source": [
    "popt"
   ]
  },
  {
   "cell_type": "code",
   "execution_count": 89,
   "id": "flying-salmon",
   "metadata": {},
   "outputs": [],
   "source": [
    "def rpm_to_pwm(rpm):\n",
    "    return 0.00000000129*rpm*rpm*rpm - 0.000012869*rpm*rpm + 0.06639*rpm + 739.2216"
   ]
  },
  {
   "cell_type": "code",
   "execution_count": 90,
   "id": "lucky-northwest",
   "metadata": {},
   "outputs": [
    {
     "data": {
      "text/plain": [
       "Text(0, 0.5, 'ESC PWM Signal')"
      ]
     },
     "execution_count": 90,
     "metadata": {},
     "output_type": "execute_result"
    },
    {
     "data": {
      "image/png": "[encoded data removed]",
      "text/plain": [
       "<Figure size 432x288 with 1 Axes>"
      ]
     },
     "metadata": {
      "needs_background": "light"
     },
     "output_type": "display_data"
    }
   ],
   "source": [
    "plt.scatter(rpms, pwms)\n",
    "plt.plot(rpms, rpm_to_pwm(rpms))\n",
    "plt.xlabel('RPM')\n",
    "plt.ylabel('ESC PWM Signal')"
   ]
  },
  {
   "cell_type": "code",
   "execution_count": 92,
   "id": "optional-domestic",
   "metadata": {},
   "outputs": [],
   "source": [
    "rpm_lut = np.linspace(1000, 10000)\n",
    "pwm_lut = np.polyval(popt, rpm_lut)"
   ]
  },
  {
   "cell_type": "code",
   "execution_count": 93,
   "id": "electoral-profile",
   "metadata": {},
   "outputs": [
    {
     "data": {
      "text/plain": [
       "Text(0, 0.5, 'ESC PWM Signal')"
      ]
     },
     "execution_count": 93,
     "metadata": {},
     "output_type": "execute_result"
    },
    {
     "data": {
      "image/png": "[encoded data removed]",
      "text/plain": [
       "<Figure size 432x288 with 1 Axes>"
      ]
     },
     "metadata": {
      "needs_background": "light"
     },
     "output_type": "display_data"
    }
   ],
   "source": [
    "plt.scatter(rpms, pwms)\n",
    "plt.plot(rpm_lut, pwm_lut)\n",
    "plt.xlabel('RPM')\n",
    "plt.ylabel('ESC PWM Signal')"
   ]
  },
  {
   "cell_type": "code",
   "execution_count": null,
   "id": "abroad-playing",
   "metadata": {},
   "outputs": [],
   "source": []
  }
 ],
 "metadata": {
  "kernelspec": {
   "display_name": "Python 3",
   "language": "python",
   "name": "python3"
  },
  "language_info": {
   "codemirror_mode": {
    "name": "ipython",
    "version": 3
   },
   "file_extension": ".py",
   "mimetype": "text/x-python",
   "name": "python",
   "nbconvert_exporter": "python",
   "pygments_lexer": "ipython3",
   "version": "3.8.5"
  }
 },
 "nbformat": 4,
 "nbformat_minor": 5
}
