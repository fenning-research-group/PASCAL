{
 "cells": [
  {
   "cell_type": "code",
   "execution_count": 12,
   "id": "curious-chapel",
   "metadata": {},
   "outputs": [],
   "source": [
    "import numpy as np\n",
    "import time as time\n",
    "import matplotlib.pyplot as plt"
   ]
  },
  {
   "cell_type": "code",
   "execution_count": 6,
   "id": "proprietary-bangkok",
   "metadata": {},
   "outputs": [],
   "source": [
    "def drop_psk():\n",
    "    print('drop psk')\n",
    "def drop_as():\n",
    "    print('drop as')"
   ]
  },
  {
   "cell_type": "code",
   "execution_count": 7,
   "id": "prepared-oregon",
   "metadata": {},
   "outputs": [],
   "source": [
    "def rpm():\n",
    "    return 1"
   ]
  },
  {
   "cell_type": "code",
   "execution_count": 15,
   "id": "electrical-restaurant",
   "metadata": {},
   "outputs": [],
   "source": [
    "recipe = [\n",
    "    [3000,None,2],\n",
    "    [4000,None,3],\n",
    "    [5000,None,1]\n",
    "]\n",
    "drops = {\n",
    "    'perovskite': 0,\n",
    "    'antisolvent': 1.5\n",
    "}"
   ]
  },
  {
   "cell_type": "code",
   "execution_count": 16,
   "id": "vulnerable-volunteer",
   "metadata": {},
   "outputs": [],
   "source": [
    "record = {\n",
    "    'time':[],\n",
    "    'rpm': [],\n",
    "    'droptime': {d:None for d in drops}\n",
    "    }"
   ]
  },
  {
   "cell_type": "code",
   "execution_count": 20,
   "id": "crazy-sound",
   "metadata": {},
   "outputs": [],
   "source": [
    "next_step_time = 0\n",
    "time_elapsed = 0\n",
    "step_idx = 0\n",
    "\n",
    "drop_idx = 0\n",
    "drop_times = list(drops.values())\n",
    "drop_names = list(drops.keys())\n",
    "                  \n",
    "next_drop_time = drop_times[drop_idx]\n",
    "drop_moves = [drop_psk, drop_as]\n",
    "\n",
    "spincoat_completed = False\n",
    "steps_completed = False\n",
    "drops_completed = False"
   ]
  },
  {
   "cell_type": "code",
   "execution_count": 21,
   "id": "military-japan",
   "metadata": {},
   "outputs": [
    {
     "name": "stdout",
     "output_type": "stream",
     "text": [
      "3000\n",
      "drop psk\n",
      "drop as\n",
      "4000\n",
      "5000\n"
     ]
    }
   ],
   "source": [
    "start_time = time.time()\n",
    "while not spincoat_completed:\n",
    "    time_elapsed = time.time() - start_time\n",
    "    record['time'].append(time_elapsed)\n",
    "    record['rpm'].append(rpm())\n",
    "\n",
    "    if time_elapsed >= next_step_time and not steps_completed:\n",
    "        if step_idx >= len(recipe):\n",
    "            steps_completed = True\n",
    "        else:\n",
    "            speed = recipe[step_idx][0]\n",
    "            acceleration = recipe[step_idx][1]\n",
    "            duration = recipe[step_idx][2]\n",
    "            \n",
    "    #         self.spincoater.setspeed(speed, acceleration)\n",
    "            print(speed)\n",
    "            next_step_time += duration\n",
    "            step_idx += 1\n",
    "    if time_elapsed >= next_drop_time and not drops_completed:\n",
    "        drop_moves[drop_idx]()\n",
    "        record['droptime'][drop_names[drop_idx]] = time_elapsed\n",
    "        drop_idx += 1\n",
    "        if drop_idx >= len(drop_times):\n",
    "            drops_completed = True\n",
    "        else:\n",
    "            next_drop_time = drop_times[drop_idx]\n",
    "\n",
    "    if drops_completed and steps_completed:\n",
    "        spincoat_completed = True\n",
    "    time.sleep(0.5)"
   ]
  },
  {
   "cell_type": "code",
   "execution_count": 23,
   "id": "spare-frequency",
   "metadata": {},
   "outputs": [
    {
     "data": {
      "text/plain": [
       "{'perovskite': 0.0, 'antisolvent': 1.5134203433990479}"
      ]
     },
     "execution_count": 23,
     "metadata": {},
     "output_type": "execute_result"
    }
   ],
   "source": [
    "record['droptime']"
   ]
  },
  {
   "cell_type": "code",
   "execution_count": 24,
   "id": "excess-track",
   "metadata": {},
   "outputs": [],
   "source": [
    "import frgtools.plotting as frgplt"
   ]
  },
  {
   "cell_type": "code",
   "execution_count": 25,
   "id": "micro-ordering",
   "metadata": {},
   "outputs": [
    {
     "data": {
      "text/plain": [
       "<matplotlib.legend.Legend at 0x1e609e5b100>"
      ]
     },
     "execution_count": 25,
     "metadata": {},
     "output_type": "execute_result"
    },
    {
     "data": {
      "image/png": "[encoded data removed]",
      "text/plain": [
       "<Figure size 432x288 with 1 Axes>"
      ]
     },
     "metadata": {
      "needs_background": "light"
     },
     "output_type": "display_data"
    }
   ],
   "source": [
    "plt.plot(record['time'], record['rpm'])\n",
    "for k,v in record['droptime'].items():\n",
    "    frgplt.vline(v, color = None, label = k)\n",
    "    \n",
    "plt.legend()"
   ]
  },
  {
   "cell_type": "code",
   "execution_count": 3,
   "id": "patient-suicide",
   "metadata": {},
   "outputs": [],
   "source": [
    "def spincoat(self, recipe, drops):\n",
    "    \"\"\"\n",
    "    executes a series of spin coating steps. A final \"stop\" step is inserted\n",
    "    at the end to bring the rotor to a halt.\n",
    "\n",
    "    recipe - nested list of steps in format:\n",
    "\n",
    "        [\n",
    "            [speed, acceleration, duration],\n",
    "            [speed, acceleration, duration],\n",
    "            ...,\n",
    "            [speed, acceleration, duration]\n",
    "        ]\n",
    "\n",
    "        where speed = rpm, acceleration = rpm/s, duration = s\n",
    "\n",
    "    \"\"\"\n",
    "    record = {\n",
    "        'time':[],\n",
    "        'rpm': [],\n",
    "        'droptime': {d:None for d in drops}\n",
    "        }\n",
    "\n",
    "    next_step_time = 0\n",
    "    time_elapsed = 0\n",
    "    step_idx = 0\n",
    "\n",
    "    drop_idx = 0\n",
    "    drop_times = list(drops.values())\n",
    "    drop_names = list(drops.keys())\n",
    "    next_drop_time = drop_times[0]\n",
    "    drop_moves = [self.liquidhandler.drop_perovskite, self.liquidhandler.drop_antisolvent]\n",
    "\n",
    "    spincoat_completed = False\n",
    "    start_time = time.time()\n",
    "    while not spincoat_completed:\n",
    "        time_elapsed = time.time() - start_time\n",
    "        record['time'].append(time_elapsed)\n",
    "        record['rpm'].append(self.spincoater.rpm)\n",
    "\n",
    "        if time_elapsed >= next_step_time:\n",
    "            speed = recipe[step_idx][0]\n",
    "            acceleration = recipe[step_idx][1]\n",
    "            duration = recipe[step_idx][2]\n",
    "\n",
    "            self.spincoater.setspeed(speed, acceleration)\n",
    "            next_step_time += duration\t\n",
    "        if time_elapsed >= next_drop_time:\n",
    "            drop_moves[drop_idx]\n",
    "            record['droptime'][drop_names[drop_idx]] = time_elapsed\n",
    "            drop_idx += 1\n",
    "\n",
    "\n",
    "        if drop_idx > len(drops) and step_idx > len(recipe):\n",
    "            spincoat_completed = True\n",
    "\n",
    "        time.sleep(self.spincoater.POLLINGRATE)\n",
    "\n",
    "\n",
    "    self.spincoater.stop()\n",
    "\n",
    "    return record"
   ]
  },
  {
   "cell_type": "code",
   "execution_count": null,
   "id": "complicated-duplicate",
   "metadata": {},
   "outputs": [],
   "source": []
  },
  {
   "cell_type": "code",
   "execution_count": null,
   "id": "failing-medicare",
   "metadata": {},
   "outputs": [],
   "source": []
  }
 ],
 "metadata": {
  "kernelspec": {
   "display_name": "Python 3",
   "language": "python",
   "name": "python3"
  },
  "language_info": {
   "codemirror_mode": {
    "name": "ipython",
    "version": 3
   },
   "file_extension": ".py",
   "mimetype": "text/x-python",
   "name": "python",
   "nbconvert_exporter": "python",
   "pygments_lexer": "ipython3",
   "version": "3.8.5"
  }
 },
 "nbformat": 4,
 "nbformat_minor": 5
}
