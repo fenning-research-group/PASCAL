{
 "cells": [
  {
   "cell_type": "code",
   "execution_count": 58,
   "id": "20694bed",
   "metadata": {},
   "outputs": [],
   "source": [
    "from frgpascal.hardware.sampletray import Tray1, Tray2 \n",
    "from frgpascal.hardware.liquidlabware import TipRack, LiquidLabware, AVAILABLE_VERSIONS as liquid_labware_versions \n",
    "from frgpascal.experimentaldesign.helpers import build_sample_list, get_next_tip\n",
    "from frgpascal.experimentaldesign.tasks import * \n",
    "from frgpascal.experimentaldesign import characterizationtasks as chtsk \n",
    "from frgpascal.experimentaldesign.helpers import PASCALPlanner \n",
    "from doepy import build \n",
    "import mixsol \n",
    "from scipy.optimize import fsolve \n",
    "import pandas as pd\n",
    "\n",
    "from natsort import natsorted\n",
    "\n",
    "import plotly.graph_objects as go\n",
    "from scipy.spatial import ConvexHull, distance\n",
    "from scipy.spatial.qhull import QhullError"
   ]
  },
  {
   "attachments": {},
   "cell_type": "markdown",
   "id": "2c99a03a",
   "metadata": {},
   "source": [
    "### Purpose of Experiment"
   ]
  },
  {
   "cell_type": "code",
   "execution_count": 2,
   "id": "57595a74",
   "metadata": {},
   "outputs": [],
   "source": [
    "purpose = \"3A3X-B29\" #adjusts the output file name"
   ]
  },
  {
   "cell_type": "code",
   "execution_count": 3,
   "id": "bc68e8ed",
   "metadata": {},
   "outputs": [],
   "source": [
    "# print('\\nAvailable Liquid Labwares:')\n",
    "# for v in liquid_labware_versions:\n",
    "#     print(f'\\t{v}')"
   ]
  },
  {
   "cell_type": "code",
   "execution_count": 4,
   "id": "d3b81edc",
   "metadata": {},
   "outputs": [],
   "source": [
    "tray4ml = LiquidLabware(\n",
    "    name=\"4mL_Tray1\",\n",
    "    version=\"frg_24_wellplate_4000ul\",\n",
    "    deck_slot=6,\n",
    ")\n",
    "\n",
    "# plate96 = LiquidLabware(\n",
    "#     name=\"96wellplate\", version=\"greiner_96_wellplate_360ul\", deck_slot=5\n",
    "# )\n",
    "\n",
    "plate96 = LiquidLabware(\n",
    "    name=\"96wellplate\",\n",
    "    version=\"greiner_96_wellplate_360ul\",\n",
    "    deck_slot=5,\n",
    "    starting_well=\"A1\"\n",
    ")\n",
    "\n",
    "tray15ml = LiquidLabware(\n",
    "    name=\"15mL_Tray1\", version=\"frg_12_wellplate_15000ul\", deck_slot=4\n",
    ")"
   ]
  },
  {
   "attachments": {},
   "cell_type": "markdown",
   "id": "f347a8c1",
   "metadata": {},
   "source": [
    "-----"
   ]
  },
  {
   "attachments": {},
   "cell_type": "markdown",
   "id": "f5061bec",
   "metadata": {},
   "source": [
    "## Solution Prep"
   ]
  },
  {
   "cell_type": "code",
   "execution_count": 5,
   "id": "cd77bdcd",
   "metadata": {},
   "outputs": [],
   "source": [
    "def dict_zip_matching(*dicts):\n",
    "    all_keys = {k for d in dicts for k in d.keys()}\n",
    "    return {k: [d[k] for d in dicts if k in d] for k in all_keys}\n",
    "\n",
    "def dict_zip(*dicts, fillvalue=0):\n",
    "    all_keys = {k for d in dicts for k in d.keys()}\n",
    "    return {k: [d.get(k, fillvalue) for d in dicts] for k in all_keys}\n",
    "\n",
    "def dict_combine(d1, ratio_0 = 0.5, units = 'mg'):\n",
    "    ratio_1 = 1 - ratio_0\n",
    "    d2 ={}\n",
    "    for key in d1:\n",
    "        if units == 'mg':\n",
    "            d2[key] = np.round((d1[key][0]*ratio_0+d1[key][1]*ratio_1)*1e3,2)\n",
    "        if units == 'g':\n",
    "            d2[key] = np.round((d1[key][0]*ratio_0+d1[key][1]*ratio_1),5)        \n",
    "    d2 = dict(sorted(d2.items(), key=lambda item: item[1]))\n",
    "    return d2\n",
    "\n",
    "def weight_error(d1, d2):\n",
    "    error = {}\n",
    "    for key in d1:\n",
    "        error[key] = (d1[key]-d2[key])/d1[key]*1e2\n",
    "    # error = dict(sorted(error.items(), key=lambda item: item[1]))\n",
    "    return error"
   ]
  },
  {
   "cell_type": "code",
   "execution_count": 6,
   "id": "e36c043b",
   "metadata": {},
   "outputs": [],
   "source": [
    "powders_1 = [\n",
    "    mx.Powder('Cs_I'), #if only using elements, you can simply input the formula delimited by underscores\n",
    "    mx.Powder('Pb_Br2'),\n",
    "    mx.Powder('Pb_Cl2'),\n",
    "    mx.Powder('Pb1_I2'), #you can also use a dictionary to specify the components\n",
    "    mx.Powder(\n",
    "        formula='MA_I', #you can have components that are not element (like methylammonium/MA here), but then the molar mass must be specified\n",
    "        molar_mass=mx.calculate_molar_mass('C_H6_N_I'), #molar mass can either be given as a float value, or the helper function can take an elemental formula (as string or dict) and calculate the molar mass\n",
    "        alias='MAI', #you can also give an alias for the powder - this just changes the string representation of the powder when printed\n",
    "    ),\n",
    "    mx.Powder(\n",
    "        formula='FA_I',\n",
    "        molar_mass = mx.calculate_molar_mass('C_H5_N2_I'),\n",
    "        alias='FAI',\n",
    "        ),\n",
    "    # mx.Powder(\n",
    "    # formula='MA_Cl',\n",
    "    # molar_mass = mx.calculate_molar_mass('C_H6_N_Cl'),\n",
    "    # alias='MACl',\n",
    "    #     )\n",
    "]\n",
    "\n",
    "weigher_1 = mx.Weigher(\n",
    "    powders=powders_1\n",
    ")"
   ]
  },
  {
   "cell_type": "code",
   "execution_count": 7,
   "id": "31f561f6",
   "metadata": {},
   "outputs": [
    {
     "ename": "NameError",
     "evalue": "name 'endpoint_solutions' is not defined",
     "output_type": "error",
     "traceback": [
      "\u001b[0;31m---------------------------------------------------------------------------\u001b[0m",
      "\u001b[0;31mNameError\u001b[0m                                 Traceback (most recent call last)",
      "\u001b[0;32m/var/folders/cg/npjcl03j1_g_q4sw465xcyx00000gn/T/ipykernel_72085/548670718.py\u001b[0m in \u001b[0;36m<module>\u001b[0;34m\u001b[0m\n\u001b[0;32m----> 1\u001b[0;31m \u001b[0;32mfor\u001b[0m \u001b[0mendpoint\u001b[0m \u001b[0;32min\u001b[0m \u001b[0mendpoint_solutions\u001b[0m\u001b[0;34m:\u001b[0m\u001b[0;34m\u001b[0m\u001b[0;34m\u001b[0m\u001b[0m\n\u001b[0m\u001b[1;32m      2\u001b[0m     \u001b[0mprint\u001b[0m\u001b[0;34m(\u001b[0m\u001b[0mendpoint\u001b[0m\u001b[0;34m.\u001b[0m\u001b[0msolutes\u001b[0m\u001b[0;34m)\u001b[0m\u001b[0;34m\u001b[0m\u001b[0;34m\u001b[0m\u001b[0m\n",
      "\u001b[0;31mNameError\u001b[0m: name 'endpoint_solutions' is not defined"
     ]
    }
   ],
   "source": [
    "for endpoint in endpoint_solutions:\n",
    "    print(endpoint.solutes)"
   ]
  },
  {
   "cell_type": "code",
   "execution_count": 8,
   "id": "53020256",
   "metadata": {},
   "outputs": [
    {
     "name": "stdout",
     "output_type": "stream",
     "text": [
      "Target weight in mg:\n",
      "MAI: 26.7\n",
      "Pb_Cl2: 58.4\n",
      "Cs_I: 276.4\n",
      "FAI: 751.2\n",
      "Pb1_I2: 2509.7\n"
     ]
    }
   ],
   "source": [
    "target_3=Solution(\n",
    "    #DO NOT CHANGE UNLESS YOU KNOW WHAT YOU ARE DOING\n",
    "    # solutes='Cs0.22_FA0.78_MA0.03_Pb1.04_I2.5755_Br0.45_Cl0.09', #stock xu recipe with 1% excess PbI Deniz Changed 2023-01-04\n",
    "    # solutes = 'Cs0.22_FA0.78_Pb1_I2.7_Br0.3',\n",
    "    # solutes = 'Cs0.22_FA0.78_Pb1_I2.7_Cl0.3',\n",
    "    # solutes = 'Cs0.22_FA0.78_Pb1_I2.4_Br0.6',\n",
    "    # solutes = 'Cs0.22_FA0.78_Pb1_I2.4_Br0.3_Cl0.3',\n",
    "    \n",
    "    # solutes = 'MA0.05_Cs0.17_FA0.78_Pb1_I2.7_Br0.3',\n",
    "    # solutes = 'MA0.05_Cs0.17_FA0.78_Pb1_I2.7_Cl0.3',\n",
    "    # solutes = 'MA0.05_Cs0.17_FA0.78_Pb1_I2.4_Br0.6',\n",
    "    # solutes = 'MA0.05_Cs0.17_FA0.78_Pb1_I2.4_Br0.3_Cl0.3',\n",
    "    \n",
    "    solutes = 'MA0.03_Cs0.19_FA0.78_Pb1_I2.925_Cl0.075',\n",
    "    # solutes = 'MA0.03_Cs0.19_FA0.78_Pb1_I2.4_Br0.525_Cl0.075',\n",
    "    # solutes = 'Cs0.22_FA0.78_Pb1_I2.4_Br0.525_Cl0.075',\n",
    "\n",
    "\n",
    "\n",
    "    \n",
    "    solvent='DMF3_DMSO1',\n",
    "    molarity=1.4,\n",
    ")\n",
    "\n",
    "answer_3 = weigher_1.get_weights(\n",
    "    target_3,\n",
    "    volume=4e-3, #in L\n",
    "    tolerance = 5e-5\n",
    ")\n",
    "\n",
    "\n",
    "# alphabet sort\n",
    "# answer_1 = dict(sorted(answer_1.items()))\n",
    "\n",
    "# add excess 1% PbI2\n",
    "if 'Pb1_I2' in answer_3:\n",
    "    answer_3['Pb1_I2'] *= 1.01\n",
    "    \n",
    "# value sort\n",
    "answer_3 = dict(sorted(answer_3.items(), key=lambda item: item[1]))\n",
    "\n",
    "\n",
    "print(f'Target weight in mg:')\n",
    "for key in answer_3:\n",
    "    print(f'{key}: {np.round(answer_3[key]*1e3,1)}')\n",
    "# print(answer) #masses of each powder, in grams"
   ]
  },
  {
   "cell_type": "code",
   "execution_count": 9,
   "id": "e35df3d1",
   "metadata": {},
   "outputs": [
    {
     "name": "stdout",
     "output_type": "stream",
     "text": [
      "Target weight in mg:\n",
      "MAI: 26.7\n",
      "Pb_Cl2: 58.4\n",
      "Cs_I: 276.4\n",
      "FAI: 751.2\n",
      "Pb1_I2: 2509.7\n"
     ]
    }
   ],
   "source": [
    "print(f'Target weight in mg:')\n",
    "for key in answer_3:\n",
    "    print(f'{key}: {np.round(answer_3[key]*1e3,1)}')"
   ]
  },
  {
   "cell_type": "code",
   "execution_count": 14,
   "id": "88457771",
   "metadata": {},
   "outputs": [],
   "source": [
    "# display_target=Solution(\n",
    "#     #DO NOT CHANGE UNLESS YOU KNOW WHAT YOU ARE DOING\n",
    "#     solutes='Cs0.22_FA0.78_MA0.03_Pb1.04_I2.5755_Br0.45_Cl0.09', #stock xu recipe \n",
    "#     solvent='DMF3_DMSO1',\n",
    "#     molarity=1,\n",
    "# )"
   ]
  },
  {
   "cell_type": "code",
   "execution_count": 15,
   "id": "a595c6ad",
   "metadata": {},
   "outputs": [],
   "source": [
    "# print('target stoichiometry:')\n",
    "# print(display_target.solutes)"
   ]
  },
  {
   "cell_type": "code",
   "execution_count": 16,
   "id": "ecb34083",
   "metadata": {},
   "outputs": [],
   "source": [
    "# # Recorded real values\n",
    "# masses_0 = {'MACl':11.5e-3, 'Pb_Cl2': 45.8e-3, 'Cs_I': 320.6e-3, 'Pb_Br2': 462.1e-3, 'FAI': 752.6e-3, 'Pb1_I2': 2031.8e-3} # B22\n",
    "# error = weight_error(masses_0, answer_3)\n",
    "\n",
    "# desired_order_list = ['Cs_I', 'FAI', 'MACl', 'Pb1_I2', 'Pb_Br2', 'Pb_Cl2']\n",
    "# error_reorder = {k: error[k] for k in desired_order_list}\n",
    "# for key in error_reorder:\n",
    "#     error_reorder[key] = round(error_reorder[key], 3)\n",
    "\n",
    "# print(f'Error in %:\\n {error_reorder}')\n",
    "# # print(f'Percentage error:')\n",
    "# # for key in error:\n",
    "# #     print(f'{key}: {np.round(error[key],2)}')"
   ]
  },
  {
   "cell_type": "code",
   "execution_count": 17,
   "id": "fd4ab31e",
   "metadata": {},
   "outputs": [],
   "source": [
    "# desired_M = 1\n",
    "\n",
    "# def solve_vsolvent_0(volume):\n",
    "#     temp = weigher_1.weights_to_solution(\n",
    "#         weights=masses_0, #the dictionary of masses we just created\n",
    "#         volume=volume, #volume of solution (L) \n",
    "#         solvent='DMF3_DMSO1', #solvent system\n",
    "#         molarity=['Cs', 'FA', 'MA'],)\n",
    "#     molarity = temp.molarity\n",
    "#     return molarity - desired_M \n",
    "\n",
    "# result_0 = weigher_1.weights_to_solution(\n",
    "#     weights=masses_0, #the dictionary of masses we just created\n",
    "#     volume=np.round(fsolve(solve_vsolvent_0, 4000e-6)[0],7), #volume of solution (L) \n",
    "#     solvent='DMF3_DMSO1', #solvent system\n",
    "#     molarity=['Cs', 'FA', 'MA'],\n",
    "# )\n",
    "# # print('result_0: '+str(result_0))\n",
    "\n",
    "# desired_order_list = ['Cs', 'FA', 'MA', 'Pb', 'I', 'Br', 'Cl']\n",
    "# result_0.solutes = {k: result_0.solutes[k] for k in desired_order_list}\n",
    "\n",
    "# nominal_stoich = result_0.solutes\n",
    "\n",
    "\n",
    "# for key in nominal_stoich:\n",
    "      \n",
    "#     # rounding to K using round()\n",
    "#     nominal_stoich[key] = round(nominal_stoich[key], 3)\n",
    "    \n",
    "# # for dict_value in nominal_stoich.items():\n",
    "# #         for k, v in dict_value.items():\n",
    "# #             dict_value[k] = round(v, 2)\n",
    "\n",
    "\n",
    "# print(f'nominal stoichiometry:\\n {nominal_stoich}')\n",
    "# # print(nominal_stoich)\n",
    "\n",
    "# # print('result_0 Solvent: '+str(np.round(fsolve(solve_vsolvent_0, 3300e-6)[0]*1e6, 1))+'µL')"
   ]
  },
  {
   "attachments": {},
   "cell_type": "markdown",
   "id": "4367922d",
   "metadata": {},
   "source": [
    "# Define Experimental Mesh\n",
    "\n",
    "Each of the following cells defines one dimension of the experiment. After defining the individual dimensions, a full sample list will be constructed using a user-selected Design of Expeiment (DOE)"
   ]
  },
  {
   "cell_type": "code",
   "execution_count": 70,
   "id": "5e2a7e9a",
   "metadata": {},
   "outputs": [
    {
     "data": {
      "application/vnd.plotly.v1+json": {
       "config": {
        "plotlyServerURL": "https://plot.ly"
       },
       "data": [
        {
         "a": [
          0.15000000000000002,
          0.17500000000000002,
          0.2,
          0.125,
          0.15000000000000002,
          0.17500000000000002,
          0.1,
          0.125,
          0.15000000000000002,
          0.07500000000000001,
          0.1,
          0.125,
          0.05,
          0.07500000000000001,
          0.1,
          0.025,
          0.05,
          0.07500000000000001,
          0,
          0.025,
          0.05,
          0,
          0.025,
          0
         ],
         "b": [
          0.8,
          0.8,
          0.8,
          0.8250000000000001,
          0.8250000000000001,
          0.8250000000000001,
          0.8500000000000001,
          0.8500000000000001,
          0.8500000000000001,
          0.875,
          0.875,
          0.875,
          0.9,
          0.9,
          0.9,
          0.925,
          0.925,
          0.925,
          0.95,
          0.95,
          0.95,
          0.975,
          0.975,
          1
         ],
         "c": [
          0.05,
          0.025,
          0,
          0.05,
          0.025,
          0,
          0.05,
          0.025,
          0,
          0.05,
          0.025,
          0,
          0.05,
          0.025,
          0,
          0.05,
          0.025,
          0,
          0.05,
          0.025,
          0,
          0.025,
          0,
          0
         ],
         "marker": {
          "color": "red",
          "size": 8,
          "symbol": "circle"
         },
         "mode": "markers",
         "type": "scatterternary"
        },
        {
         "a": [
          0,
          0.2,
          0.15000000000000002,
          0
         ],
         "b": [
          1,
          0.8,
          0.8,
          0.95
         ],
         "c": [
          0,
          0,
          0.05,
          0.05
         ],
         "marker": {
          "color": "blue",
          "size": 12,
          "symbol": "circle-open"
         },
         "mode": "markers",
         "type": "scatterternary"
        }
       ],
       "layout": {
        "paper_bgcolor": "white",
        "plot_bgcolor": "white",
        "template": {
         "data": {
          "bar": [
           {
            "error_x": {
             "color": "#2a3f5f"
            },
            "error_y": {
             "color": "#2a3f5f"
            },
            "marker": {
             "line": {
              "color": "#E5ECF6",
              "width": 0.5
             }
            },
            "type": "bar"
           }
          ],
          "barpolar": [
           {
            "marker": {
             "line": {
              "color": "#E5ECF6",
              "width": 0.5
             }
            },
            "type": "barpolar"
           }
          ],
          "carpet": [
           {
            "aaxis": {
             "endlinecolor": "#2a3f5f",
             "gridcolor": "white",
             "linecolor": "white",
             "minorgridcolor": "white",
             "startlinecolor": "#2a3f5f"
            },
            "baxis": {
             "endlinecolor": "#2a3f5f",
             "gridcolor": "white",
             "linecolor": "white",
             "minorgridcolor": "white",
             "startlinecolor": "#2a3f5f"
            },
            "type": "carpet"
           }
          ],
          "choropleth": [
           {
            "colorbar": {
             "outlinewidth": 0,
             "ticks": ""
            },
            "type": "choropleth"
           }
          ],
          "contour": [
           {
            "colorbar": {
             "outlinewidth": 0,
             "ticks": ""
            },
            "colorscale": [
             [
              0,
              "#0d0887"
             ],
             [
              0.1111111111111111,
              "#46039f"
             ],
             [
              0.2222222222222222,
              "#7201a8"
             ],
             [
              0.3333333333333333,
              "#9c179e"
             ],
             [
              0.4444444444444444,
              "#bd3786"
             ],
             [
              0.5555555555555556,
              "#d8576b"
             ],
             [
              0.6666666666666666,
              "#ed7953"
             ],
             [
              0.7777777777777778,
              "#fb9f3a"
             ],
             [
              0.8888888888888888,
              "#fdca26"
             ],
             [
              1,
              "#f0f921"
             ]
            ],
            "type": "contour"
           }
          ],
          "contourcarpet": [
           {
            "colorbar": {
             "outlinewidth": 0,
             "ticks": ""
            },
            "type": "contourcarpet"
           }
          ],
          "heatmap": [
           {
            "colorbar": {
             "outlinewidth": 0,
             "ticks": ""
            },
            "colorscale": [
             [
              0,
              "#0d0887"
             ],
             [
              0.1111111111111111,
              "#46039f"
             ],
             [
              0.2222222222222222,
              "#7201a8"
             ],
             [
              0.3333333333333333,
              "#9c179e"
             ],
             [
              0.4444444444444444,
              "#bd3786"
             ],
             [
              0.5555555555555556,
              "#d8576b"
             ],
             [
              0.6666666666666666,
              "#ed7953"
             ],
             [
              0.7777777777777778,
              "#fb9f3a"
             ],
             [
              0.8888888888888888,
              "#fdca26"
             ],
             [
              1,
              "#f0f921"
             ]
            ],
            "type": "heatmap"
           }
          ],
          "heatmapgl": [
           {
            "colorbar": {
             "outlinewidth": 0,
             "ticks": ""
            },
            "colorscale": [
             [
              0,
              "#0d0887"
             ],
             [
              0.1111111111111111,
              "#46039f"
             ],
             [
              0.2222222222222222,
              "#7201a8"
             ],
             [
              0.3333333333333333,
              "#9c179e"
             ],
             [
              0.4444444444444444,
              "#bd3786"
             ],
             [
              0.5555555555555556,
              "#d8576b"
             ],
             [
              0.6666666666666666,
              "#ed7953"
             ],
             [
              0.7777777777777778,
              "#fb9f3a"
             ],
             [
              0.8888888888888888,
              "#fdca26"
             ],
             [
              1,
              "#f0f921"
             ]
            ],
            "type": "heatmapgl"
           }
          ],
          "histogram": [
           {
            "marker": {
             "colorbar": {
              "outlinewidth": 0,
              "ticks": ""
             }
            },
            "type": "histogram"
           }
          ],
          "histogram2d": [
           {
            "colorbar": {
             "outlinewidth": 0,
             "ticks": ""
            },
            "colorscale": [
             [
              0,
              "#0d0887"
             ],
             [
              0.1111111111111111,
              "#46039f"
             ],
             [
              0.2222222222222222,
              "#7201a8"
             ],
             [
              0.3333333333333333,
              "#9c179e"
             ],
             [
              0.4444444444444444,
              "#bd3786"
             ],
             [
              0.5555555555555556,
              "#d8576b"
             ],
             [
              0.6666666666666666,
              "#ed7953"
             ],
             [
              0.7777777777777778,
              "#fb9f3a"
             ],
             [
              0.8888888888888888,
              "#fdca26"
             ],
             [
              1,
              "#f0f921"
             ]
            ],
            "type": "histogram2d"
           }
          ],
          "histogram2dcontour": [
           {
            "colorbar": {
             "outlinewidth": 0,
             "ticks": ""
            },
            "colorscale": [
             [
              0,
              "#0d0887"
             ],
             [
              0.1111111111111111,
              "#46039f"
             ],
             [
              0.2222222222222222,
              "#7201a8"
             ],
             [
              0.3333333333333333,
              "#9c179e"
             ],
             [
              0.4444444444444444,
              "#bd3786"
             ],
             [
              0.5555555555555556,
              "#d8576b"
             ],
             [
              0.6666666666666666,
              "#ed7953"
             ],
             [
              0.7777777777777778,
              "#fb9f3a"
             ],
             [
              0.8888888888888888,
              "#fdca26"
             ],
             [
              1,
              "#f0f921"
             ]
            ],
            "type": "histogram2dcontour"
           }
          ],
          "mesh3d": [
           {
            "colorbar": {
             "outlinewidth": 0,
             "ticks": ""
            },
            "type": "mesh3d"
           }
          ],
          "parcoords": [
           {
            "line": {
             "colorbar": {
              "outlinewidth": 0,
              "ticks": ""
             }
            },
            "type": "parcoords"
           }
          ],
          "pie": [
           {
            "automargin": true,
            "type": "pie"
           }
          ],
          "scatter": [
           {
            "marker": {
             "colorbar": {
              "outlinewidth": 0,
              "ticks": ""
             }
            },
            "type": "scatter"
           }
          ],
          "scatter3d": [
           {
            "line": {
             "colorbar": {
              "outlinewidth": 0,
              "ticks": ""
             }
            },
            "marker": {
             "colorbar": {
              "outlinewidth": 0,
              "ticks": ""
             }
            },
            "type": "scatter3d"
           }
          ],
          "scattercarpet": [
           {
            "marker": {
             "colorbar": {
              "outlinewidth": 0,
              "ticks": ""
             }
            },
            "type": "scattercarpet"
           }
          ],
          "scattergeo": [
           {
            "marker": {
             "colorbar": {
              "outlinewidth": 0,
              "ticks": ""
             }
            },
            "type": "scattergeo"
           }
          ],
          "scattergl": [
           {
            "marker": {
             "colorbar": {
              "outlinewidth": 0,
              "ticks": ""
             }
            },
            "type": "scattergl"
           }
          ],
          "scattermapbox": [
           {
            "marker": {
             "colorbar": {
              "outlinewidth": 0,
              "ticks": ""
             }
            },
            "type": "scattermapbox"
           }
          ],
          "scatterpolar": [
           {
            "marker": {
             "colorbar": {
              "outlinewidth": 0,
              "ticks": ""
             }
            },
            "type": "scatterpolar"
           }
          ],
          "scatterpolargl": [
           {
            "marker": {
             "colorbar": {
              "outlinewidth": 0,
              "ticks": ""
             }
            },
            "type": "scatterpolargl"
           }
          ],
          "scatterternary": [
           {
            "marker": {
             "colorbar": {
              "outlinewidth": 0,
              "ticks": ""
             }
            },
            "type": "scatterternary"
           }
          ],
          "surface": [
           {
            "colorbar": {
             "outlinewidth": 0,
             "ticks": ""
            },
            "colorscale": [
             [
              0,
              "#0d0887"
             ],
             [
              0.1111111111111111,
              "#46039f"
             ],
             [
              0.2222222222222222,
              "#7201a8"
             ],
             [
              0.3333333333333333,
              "#9c179e"
             ],
             [
              0.4444444444444444,
              "#bd3786"
             ],
             [
              0.5555555555555556,
              "#d8576b"
             ],
             [
              0.6666666666666666,
              "#ed7953"
             ],
             [
              0.7777777777777778,
              "#fb9f3a"
             ],
             [
              0.8888888888888888,
              "#fdca26"
             ],
             [
              1,
              "#f0f921"
             ]
            ],
            "type": "surface"
           }
          ],
          "table": [
           {
            "cells": {
             "fill": {
              "color": "#EBF0F8"
             },
             "line": {
              "color": "white"
             }
            },
            "header": {
             "fill": {
              "color": "#C8D4E3"
             },
             "line": {
              "color": "white"
             }
            },
            "type": "table"
           }
          ]
         },
         "layout": {
          "annotationdefaults": {
           "arrowcolor": "#2a3f5f",
           "arrowhead": 0,
           "arrowwidth": 1
          },
          "autotypenumbers": "strict",
          "coloraxis": {
           "colorbar": {
            "outlinewidth": 0,
            "ticks": ""
           }
          },
          "colorscale": {
           "diverging": [
            [
             0,
             "#8e0152"
            ],
            [
             0.1,
             "#c51b7d"
            ],
            [
             0.2,
             "#de77ae"
            ],
            [
             0.3,
             "#f1b6da"
            ],
            [
             0.4,
             "#fde0ef"
            ],
            [
             0.5,
             "#f7f7f7"
            ],
            [
             0.6,
             "#e6f5d0"
            ],
            [
             0.7,
             "#b8e186"
            ],
            [
             0.8,
             "#7fbc41"
            ],
            [
             0.9,
             "#4d9221"
            ],
            [
             1,
             "#276419"
            ]
           ],
           "sequential": [
            [
             0,
             "#0d0887"
            ],
            [
             0.1111111111111111,
             "#46039f"
            ],
            [
             0.2222222222222222,
             "#7201a8"
            ],
            [
             0.3333333333333333,
             "#9c179e"
            ],
            [
             0.4444444444444444,
             "#bd3786"
            ],
            [
             0.5555555555555556,
             "#d8576b"
            ],
            [
             0.6666666666666666,
             "#ed7953"
            ],
            [
             0.7777777777777778,
             "#fb9f3a"
            ],
            [
             0.8888888888888888,
             "#fdca26"
            ],
            [
             1,
             "#f0f921"
            ]
           ],
           "sequentialminus": [
            [
             0,
             "#0d0887"
            ],
            [
             0.1111111111111111,
             "#46039f"
            ],
            [
             0.2222222222222222,
             "#7201a8"
            ],
            [
             0.3333333333333333,
             "#9c179e"
            ],
            [
             0.4444444444444444,
             "#bd3786"
            ],
            [
             0.5555555555555556,
             "#d8576b"
            ],
            [
             0.6666666666666666,
             "#ed7953"
            ],
            [
             0.7777777777777778,
             "#fb9f3a"
            ],
            [
             0.8888888888888888,
             "#fdca26"
            ],
            [
             1,
             "#f0f921"
            ]
           ]
          },
          "colorway": [
           "#636efa",
           "#EF553B",
           "#00cc96",
           "#ab63fa",
           "#FFA15A",
           "#19d3f3",
           "#FF6692",
           "#B6E880",
           "#FF97FF",
           "#FECB52"
          ],
          "font": {
           "color": "#2a3f5f"
          },
          "geo": {
           "bgcolor": "white",
           "lakecolor": "white",
           "landcolor": "#E5ECF6",
           "showlakes": true,
           "showland": true,
           "subunitcolor": "white"
          },
          "hoverlabel": {
           "align": "left"
          },
          "hovermode": "closest",
          "mapbox": {
           "style": "light"
          },
          "paper_bgcolor": "white",
          "plot_bgcolor": "#E5ECF6",
          "polar": {
           "angularaxis": {
            "gridcolor": "white",
            "linecolor": "white",
            "ticks": ""
           },
           "bgcolor": "#E5ECF6",
           "radialaxis": {
            "gridcolor": "white",
            "linecolor": "white",
            "ticks": ""
           }
          },
          "scene": {
           "xaxis": {
            "backgroundcolor": "#E5ECF6",
            "gridcolor": "white",
            "gridwidth": 2,
            "linecolor": "white",
            "showbackground": true,
            "ticks": "",
            "zerolinecolor": "white"
           },
           "yaxis": {
            "backgroundcolor": "#E5ECF6",
            "gridcolor": "white",
            "gridwidth": 2,
            "linecolor": "white",
            "showbackground": true,
            "ticks": "",
            "zerolinecolor": "white"
           },
           "zaxis": {
            "backgroundcolor": "#E5ECF6",
            "gridcolor": "white",
            "gridwidth": 2,
            "linecolor": "white",
            "showbackground": true,
            "ticks": "",
            "zerolinecolor": "white"
           }
          },
          "shapedefaults": {
           "line": {
            "color": "#2a3f5f"
           }
          },
          "ternary": {
           "aaxis": {
            "gridcolor": "white",
            "linecolor": "white",
            "ticks": ""
           },
           "baxis": {
            "gridcolor": "white",
            "linecolor": "white",
            "ticks": ""
           },
           "bgcolor": "#E5ECF6",
           "caxis": {
            "gridcolor": "white",
            "linecolor": "white",
            "ticks": ""
           }
          },
          "title": {
           "x": 0.05
          },
          "xaxis": {
           "automargin": true,
           "gridcolor": "white",
           "linecolor": "white",
           "ticks": "",
           "title": {
            "standoff": 15
           },
           "zerolinecolor": "white",
           "zerolinewidth": 2
          },
          "yaxis": {
           "automargin": true,
           "gridcolor": "white",
           "linecolor": "white",
           "ticks": "",
           "title": {
            "standoff": 15
           },
           "zerolinecolor": "white",
           "zerolinewidth": 2
          }
         }
        },
        "ternary": {
         "aaxis": {
          "linecolor": "black",
          "linewidth": 1,
          "ticks": "outside",
          "title": {
           "text": "Br"
          }
         },
         "baxis": {
          "linecolor": "black",
          "linewidth": 1,
          "min": 0.8,
          "ticks": "outside",
          "title": {
           "text": "I"
          }
         },
         "caxis": {
          "linecolor": "black",
          "linewidth": 1,
          "ticks": "outside",
          "title": {
           "text": "Cl"
          }
         },
         "sum": 1
        }
       }
      }
     },
     "metadata": {},
     "output_type": "display_data"
    },
    {
     "name": "stdout",
     "output_type": "stream",
     "text": [
      "Total number of targets: 24\n"
     ]
    }
   ],
   "source": [
    "import numpy as np\n",
    "import plotly.graph_objects as go\n",
    "\n",
    "def generate_mesh(I_range, Br_range, Cl_range):\n",
    "    \"\"\"\n",
    "    Generate a mesh of points for I, Br, and Cl that sum to 1.\n",
    "\n",
    "    :param I_range: Tuple of (start, end, step) for I.\n",
    "    :param Br_range: Tuple of (start, end, step) for Br.\n",
    "    :param Cl_range: Tuple of (start, end, step) for Cl.\n",
    "    :return: List of [I, Br, Cl] points that sum to 1.\n",
    "    \"\"\"\n",
    "    mesh = []\n",
    "    I_start, I_end, I_step = I_range\n",
    "    Br_start, Br_end, Br_step = Br_range\n",
    "    Cl_start, Cl_end, Cl_step = Cl_range\n",
    "\n",
    "    I_values = np.linspace(I_start, I_end, round((I_end - I_start) / I_step) + 1)\n",
    "    Br_values = np.linspace(Br_start, Br_end, round((Br_end - Br_start) / Br_step) + 1)\n",
    "    Cl_values = np.linspace(Cl_start, Cl_end, round((Cl_end - Cl_start) / Cl_step) + 1)\n",
    "\n",
    "    for i in I_values:\n",
    "        for br in Br_values:\n",
    "            for cl in Cl_values:\n",
    "                if abs(br + cl + i - 1) < 1e-4:  # Add a small tolerance to deal with floating point precision\n",
    "                    mesh.append([i, br, cl])\n",
    "\n",
    "    return mesh\n",
    "\n",
    "\n",
    "def make_solution(ma, i, cl):\n",
    "    br = 1-i-cl  # Round to nearest 4 decimal places for consistency\n",
    "    cs_val = 0.22-ma  # Also round the calculated Cs value to 4 decimal places\n",
    "    solute = f'FA0.78_MA{ma:.4f}_Cs{cs_val:.4f}_Pb_(I{i:.4f}_Br{br:.4f}_Cl{cl:.4f})3'\n",
    "    return Solution(\n",
    "            solutes=solute,\n",
    "            solvent='solvent',\n",
    "            molarity=1,\n",
    "            alias=f'MA{ma:.2f}_Br{br:.2f}_Cl{cl:.2f}'\n",
    "        )\n",
    "\n",
    "def make_targets(MA_values, mesh_array):\n",
    "    # Create solutions\n",
    "    targets = []\n",
    "    for MA in MA_values:\n",
    "        for i, br, cl in mesh_array:\n",
    "            targets.append(make_solution(MA, i, cl))\n",
    "    return targets\n",
    "\n",
    "\n",
    "def plot_mesh(mesh_array,corner_coordinates):\n",
    "    # Plot the mesh points and corner points\n",
    "    fig = go.Figure(data=[go.Scatterternary(a=mesh_array[:, 1], b=mesh_array[:, 0], c=mesh_array[:, 2], mode='markers', marker_symbol='circle', marker=dict(color='red', size=8))])\n",
    "    # Add corner points\n",
    "    corner_array = np.array(corner_coordinates)\n",
    "    fig.add_trace(go.Scatterternary(a=corner_array[:, 1], b=corner_array[:, 0], c=corner_array[:, 2], mode='markers', marker_symbol='circle-open', marker=dict(color='blue', size=12)))\n",
    "\n",
    "    # Set axis labels\n",
    "    fig.update_ternaries(aaxis_title=\"Br\", baxis_title=\"I\", caxis_title=\"Cl\")\n",
    "\n",
    "    # Update axes ranges\n",
    "    fig.update_ternaries(sum=1, baxis_min=.8)  # update for I axis\n",
    "\n",
    "    # Change layout options\n",
    "    fig.update_layout({\n",
    "        'plot_bgcolor': 'white',  # make plot background white\n",
    "        'paper_bgcolor': 'white',  # make paper background white\n",
    "        'ternary': {\n",
    "            'sum': 1.0,\n",
    "            'aaxis': {'linecolor': 'black', 'linewidth': 1, 'ticks': 'outside'},\n",
    "            'baxis': {'linecolor': 'black', 'linewidth': 1, 'ticks': 'outside'},\n",
    "            'caxis': {'linecolor': 'black', 'linewidth': 1, 'ticks': 'outside'}\n",
    "        }\n",
    "    })\n",
    "\n",
    "    # Show the plot\n",
    "    fig.show()\n",
    "\n",
    "def make_corner_solutions(MA_values, corner_coordinates):\n",
    "    corner_solutions = []\n",
    "    for MA in MA_values:\n",
    "        for i, br, cl in corner_coordinates:\n",
    "            corner_solutions.append(make_solution(MA, i, cl))\n",
    "    return corner_solutions\n",
    "\n",
    "\n",
    "\n",
    "def find_corners(mesh_array):\n",
    "    # Convert ternary coordinates (barycentric) to cartesian\n",
    "    x = 0.5 * (2.*mesh_array[:,1] + mesh_array[:,2]) \n",
    "    y = mesh_array[:,2] * (3.**0.5) / 2.\n",
    "    \n",
    "    # Combine the x and y coordinates\n",
    "    points = np.column_stack((x,y))\n",
    "    \n",
    "    try:\n",
    "        # Compute ConvexHull\n",
    "        hull = ConvexHull(points)\n",
    "        \n",
    "        # Extract corner points\n",
    "        corners = mesh_array[hull.vertices]\n",
    "        \n",
    "    except QhullError:\n",
    "        # In case of collinear points, find the two extreme points\n",
    "        ref_point = points[0]  # can be any point, chosen arbitrarily\n",
    "        distances = distance.cdist([ref_point], points)[0]\n",
    "        min_index, max_index = np.argmin(distances), np.argmax(distances)\n",
    "        corners = mesh_array[[min_index, max_index]]\n",
    "    \n",
    "    return corners\n",
    "\n",
    "\n",
    "\n",
    "# Execution\n",
    "mesh = generate_mesh(I_range=(0.8, 1, 0.025), Br_range=(0, 0.2, 0.025), Cl_range=(0.00, 0.05, 0.025))\n",
    "mesh_array = np.array(mesh)\n",
    "corner_coordinates = find_corners(mesh_array)\n",
    "targets = make_targets([.03], mesh_array)\n",
    "endpoint_solutions = make_corner_solutions([0.03], corner_coordinates)\n",
    "\n",
    "\n",
    "plot_mesh(mesh_array, corner_coordinates)\n",
    "print(\"Total number of targets:\", len(targets))\n",
    "# print(\"Corner solutions:\", corner_solutions)\n"
   ]
  },
  {
   "cell_type": "code",
   "execution_count": null,
   "id": "dbe03742",
   "metadata": {},
   "outputs": [],
   "source": []
  },
  {
   "attachments": {},
   "cell_type": "markdown",
   "id": "0fb03e4e",
   "metadata": {},
   "source": [
    "## Stock Solutions"
   ]
  },
  {
   "cell_type": "code",
   "execution_count": 68,
   "id": "01e1495d",
   "metadata": {},
   "outputs": [
    {
     "data": {
      "text/plain": [
       "array([[0.8 , 0.15, 0.05],\n",
       "       [0.95, 0.  , 0.05]])"
      ]
     },
     "execution_count": 68,
     "metadata": {},
     "output_type": "execute_result"
    }
   ],
   "source": [
    "corner_coordinates"
   ]
  },
  {
   "cell_type": "code",
   "execution_count": 69,
   "id": "97627eda",
   "metadata": {},
   "outputs": [
    {
     "data": {
      "text/plain": [
       "[<Solution> MA0.03_Br0.15_Cl0.05, <Solution> MA0.03_Br0.00_Cl0.05]"
      ]
     },
     "execution_count": 69,
     "metadata": {},
     "output_type": "execute_result"
    }
   ],
   "source": [
    "endpoint_solutions"
   ]
  },
  {
   "cell_type": "code",
   "execution_count": 10,
   "id": "6b92667e",
   "metadata": {},
   "outputs": [
    {
     "data": {
      "text/plain": [
       "[<Solution> MA0.0_Br0.0_Cl0.0, <Solution> MA0.0_Br0.2_Cl0.0]"
      ]
     },
     "execution_count": 10,
     "metadata": {},
     "output_type": "execute_result"
    }
   ],
   "source": [
    "endpoint_solutions"
   ]
  },
  {
   "cell_type": "code",
   "execution_count": 11,
   "id": "6bafaaba",
   "metadata": {},
   "outputs": [],
   "source": [
    "stock_solutions = [\n",
    "    Solution(\n",
    "        solutes=\"SAMS_HTL\",\n",
    "        solvent=\"Ethanol\",\n",
    "        molarity=2e-3,\n",
    "        alias=\"HTL\",\n",
    "    ),\n",
    "    \n",
    "    Solution(\n",
    "        solutes=\"MeOAc\",\n",
    "        solvent=\"MeOAc\",\n",
    "        molarity=1,\n",
    "        alias=\"Antisolvent\",\n",
    "    ),\n",
    "]\n",
    "\n",
    "stock_solutions = stock_solutions + endpoint_solutions\n",
    "\n",
    "for es, slot in zip(stock_solutions, ['A1', 'A2', 'B1', 'B2']):#, 'B3', 'B4', 'C1', 'C2', 'C3', 'C4']):\n",
    "    tray15ml.load(es, slot)\n",
    "    \n",
    "    \n",
    "# Loading the tray\n",
    "# Loading the tray\n",
    "# tray15ml.load(stock_solutions[0], \"A1\") # HTL\n",
    "# tray15ml.load(stock_solutions[1], \"A2\") # Antisolvent\n",
    "# tray15ml.load(stock_solutions[2], \"A3\") # FA0.78_Cs0.22_Pb_I3\n",
    "# tray15ml.load(stock_solutions[3], \"B1\") # FA0.78_Cs0.22_Pb_I2.55_Br0.45\n",
    "# tray15ml.load(stock_solutions[4], \"B2\") # FA0.78_Cs0.22_Pb_I2.55_Cl0.45\n",
    "\n",
    "\n",
    "# tray15ml.load(stock_solutions[5], \"B3\") # FA0.78_MA0.05_Cs0.17_Pb_I3\n",
    "# tray15ml.load(stock_solutions[6], \"C1\") # FA0.78_MA0.05_Cs0.17_Pb_I2.55_Br0.45\n",
    "# tray15ml.load(stock_solutions[7], \"C2\") # FA0.78_MA0.05_Cs0.17_Pb_I2.55_Cl0.45\n",
    "# tray15ml.load(stock_solutions[8], \"C3\") # FA0.78_MA0.1_Cs0.12_Pb_I3\n",
    "# tray15ml.load(stock_solutions[9], \"C4\") # FA0.78_MA0.1_Cs0.12_Pb_I2.55_Br0.45\n",
    "\n"
   ]
  },
  {
   "cell_type": "code",
   "execution_count": 12,
   "id": "86afbb35",
   "metadata": {},
   "outputs": [
    {
     "name": "stdout",
     "output_type": "stream",
     "text": [
      "0: HTL\n",
      "1: Antisolvent\n",
      "2: MA0.0_Br0.0_Cl0.0\n",
      "3: MA0.0_Br0.2_Cl0.0\n"
     ]
    }
   ],
   "source": [
    "for n in range(len(stock_solutions)):\n",
    "    print(f\"{n}: {stock_solutions[n].alias}\")\n",
    "    \n",
    "# turn stock_solutions into list of aliases\n",
    "stock_list = []\n",
    "stock_list = [stock_solutions[n].alias for n in range(len(stock_solutions))]\n",
    "# stock_list[1:]"
   ]
  },
  {
   "attachments": {},
   "cell_type": "markdown",
   "id": "9c5b53a2",
   "metadata": {},
   "source": [
    "-----"
   ]
  },
  {
   "cell_type": "code",
   "execution_count": null,
   "id": "5fe58387",
   "metadata": {},
   "outputs": [],
   "source": []
  },
  {
   "cell_type": "code",
   "execution_count": 27,
   "id": "1b79f32a",
   "metadata": {},
   "outputs": [],
   "source": [
    "def build_sample_htl(): # pass parameters thru if needed\n",
    "    anneal = [\n",
    "        Anneal( #htl\n",
    "    temperature=100,\n",
    "    duration=10*60, \n",
    "),\n",
    "]\n",
    "    spincoat = [\n",
    "        Spincoat(\n",
    "        steps = [\n",
    "            [3000,500,30],\n",
    "        ],\n",
    "        drops = [       \n",
    "            Drop(\n",
    "                solution=stock_solutions[0], #HTL\n",
    "                volume= 100, #µL\n",
    "                time=-5,\n",
    "                reuse_tip = True,\n",
    "                blow_out= True,\n",
    "                pre_mix = (3,100),\n",
    "            )\n",
    "        ],\n",
    "        # immediate=True\n",
    "    )]\n",
    "    return Sample(\n",
    "        name=\"sample_will_be_overwritten\",\n",
    "        substrate=\"ITO\",\n",
    "        worklist = [\n",
    "            spincoat[0],#htl\n",
    "            anneal[0],\n",
    "        ]\n",
    "    )"
   ]
  },
  {
   "cell_type": "code",
   "execution_count": 28,
   "id": "2c38cff6",
   "metadata": {},
   "outputs": [
    {
     "data": {
      "text/plain": [
       "[<Solution> HTL,\n",
       " <Solution> Antisolvent,\n",
       " <Solution> MA0.0_Br0.0_Cl0.0,\n",
       " <Solution> MA0.0_Br0.2_Cl0.0]"
      ]
     },
     "execution_count": 28,
     "metadata": {},
     "output_type": "execute_result"
    }
   ],
   "source": [
    "stock_solutions"
   ]
  },
  {
   "cell_type": "code",
   "execution_count": 20,
   "id": "d67edb9b",
   "metadata": {},
   "outputs": [],
   "source": [
    "anneal_absorber = [\n",
    "    Anneal( # psk\n",
    "temperature=100,\n",
    "duration=30*60, \n",
    "),\n",
    "]\n",
    "\n",
    "spincoat_absorber_glass = [        \n",
    "            Spincoat(\n",
    "            steps=[\n",
    "                [5000,2000,50], #speed (rpm), acceleration (rpm/s), duration (s)\n",
    "            ],\n",
    "            drops = [\n",
    "                Drop(\n",
    "                    solution='absorber', # Perovskite\n",
    "                    volume=40, #TODO\n",
    "                    time=-5,\n",
    "                    blow_out=True\n",
    "                ),\n",
    "                \n",
    "                Drop(\n",
    "                    solution=stock_solutions[1], #Antisolvent\n",
    "                    volume=200,#µL #TODO\n",
    "                    time=25,#seconds\n",
    "                    reuse_tip=True,\n",
    "                    touch_tip=False,\n",
    "                    rate=2000,#µL/s\n",
    "                    pre_mix=(3,100),\n",
    "                    slow_travel=True,\n",
    "                    blow_out=True,\n",
    "                    height = .5, #mm from substrate\n",
    "                    air_gap=True,\n",
    "                )\n",
    "            ],\n",
    "        ),      \n",
    "        ]\n",
    "\n",
    "char_absorber = Characterize(\n",
    "    tasks = [\n",
    "        chtsk.Brightfield(),\n",
    "        chtsk.TransmissionSpectroscopy(\n",
    "            # exposure_times=[0.02, 0.05, 0.2, 1, 5],\n",
    "        ),\n",
    "        chtsk.PLSpectroscopy(\n",
    "            exposure_times=[0.5, 1, 5, 20], #TODO are these exposure times reasonable after realigning the optics?\n",
    "            num_scans=1\n",
    "        ),\n",
    "        chtsk.PLPhotostability(\n",
    "            exposure_time = 1, #TODO are these exposure times reasonable after realigning the optics?\n",
    "            duration=60\n",
    "        ),\n",
    "        chtsk.Darkfield(),\n",
    "        chtsk.PLImaging(\n",
    "            num_frames=10,\n",
    "        )\n",
    "    ]\n",
    ")"
   ]
  },
  {
   "cell_type": "code",
   "execution_count": 16,
   "id": "f404d222",
   "metadata": {},
   "outputs": [],
   "source": [
    "def build_sample_char(T='True'): # pass parameters thru if needed\n",
    "    if T == 'True':\n",
    "        char_absorber = Characterize(\n",
    "        tasks = [\n",
    "            chtsk.PLSpectroscopy(exposure_times=[0.1,0.3,0.5,1,5,10]),\n",
    "            chtsk.PLImaging(exposure_times=[0.1]),\n",
    "            chtsk.Brightfield(),\n",
    "            chtsk.TransmissionSpectroscopy(),\n",
    "            chtsk.Darkfield(),\n",
    "        ]\n",
    "        )\n",
    "        \n",
    "    if T == 'Full':\n",
    "        char_absorber = Characterize(\n",
    "        tasks = [\n",
    "            chtsk.PLSpectroscopy(exposure_times=[0.1,0.3,0.5,1,5,10]),\n",
    "            chtsk.PLImaging(exposure_times=[0.5]),\n",
    "            chtsk.Brightfield(),\n",
    "            chtsk.TransmissionSpectroscopy(),\n",
    "            chtsk.Darkfield(),\n",
    "            chtsk.PLPhotostability(\n",
    "                exposure_time = 1, #TODO are these exposure times reasonable after realigning the optics?\n",
    "                duration=60\n",
    "            ),\n",
    "        ]\n",
    "        )\n",
    "        \n",
    "    if T == 'False':\n",
    "        char_absorber = Characterize(\n",
    "        tasks = [\n",
    "            chtsk.PLSpectroscopy(exposure_times=[0.1,0.3,0.5,1,5,10]),\n",
    "            chtsk.PLImaging(exposure_times=[0.1]),\n",
    "            chtsk.Brightfield(),\n",
    "            # chtsk.TransmissionSpectroscopy(),\n",
    "            # chtsk.Darkfield(),\n",
    "        ]\n",
    "        )\n",
    "    if T == 'PL_only':\n",
    "        char_absorber = Characterize(\n",
    "        tasks = [\n",
    "            chtsk.PLSpectroscopy(exposure_times=[0.1,0.3,0.5,1,5,10]),\n",
    "            chtsk.PLImaging(exposure_times=[0.1]),\n",
    "        ]\n",
    "        )\n",
    "\n",
    "        \n",
    "    return Sample(\n",
    "        name=\"sample_will_be_overwritten\",\n",
    "        substrate=\"PSK\",\n",
    "        worklist = [\n",
    "            char_absorber\n",
    "        ]\n",
    "    )"
   ]
  },
  {
   "cell_type": "code",
   "execution_count": 18,
   "id": "d476e155",
   "metadata": {},
   "outputs": [
    {
     "data": {
      "text/plain": [
       "8"
      ]
     },
     "execution_count": 18,
     "metadata": {},
     "output_type": "execute_result"
    }
   ],
   "source": [
    "int(len(targets))"
   ]
  },
  {
   "cell_type": "code",
   "execution_count": 22,
   "id": "a86a6b72",
   "metadata": {},
   "outputs": [
    {
     "data": {
      "text/plain": [
       "[<Solution> MA0.0_Br0.2_Cl0.0,\n",
       " <Solution> MA0.0_Br0.1_Cl0.0,\n",
       " <Solution> MA0.0_Br0.1_Cl0.0,\n",
       " <Solution> MA0.0_Br0.1_Cl0.0,\n",
       " <Solution> MA0.0_Br0.1_Cl0.0,\n",
       " <Solution> MA0.0_Br0.0_Cl0.0,\n",
       " <Solution> MA0.0_Br0.0_Cl0.0,\n",
       " <Solution> MA0.0_Br0.0_Cl0.0]"
      ]
     },
     "execution_count": 22,
     "metadata": {},
     "output_type": "execute_result"
    }
   ],
   "source": [
    "targets"
   ]
  },
  {
   "cell_type": "code",
   "execution_count": 32,
   "id": "c0fe43e4",
   "metadata": {},
   "outputs": [
    {
     "name": "stdout",
     "output_type": "stream",
     "text": [
      "===== Stock Prep =====\n",
      "520.00 of MA0.0_Br0.2_Cl0.0\n",
      "520.00 of MA0.0_Br0.0_Cl0.0\n",
      "3250.00 of Antisolvent\n",
      "====== Mixing =====\n",
      "Distribute MA0.0_Br0.2_Cl0.0:\n",
      "\t139.29 to MA0.0_Br0.1_Cl0.0\n",
      "\t55.71 to MA0.0_Br0.0_Cl0.0\n",
      "\t55.71 to MA0.0_Br0.1_Cl0.0\n",
      "\t74.29 to MA0.0_Br0.1_Cl0.0\n",
      "\t65.00 to MA0.0_Br0.1_Cl0.0\n",
      "Distribute MA0.0_Br0.0_Cl0.0:\n",
      "\t55.71 to MA0.0_Br0.1_Cl0.0\n",
      "\t139.29 to MA0.0_Br0.0_Cl0.0\n",
      "\t74.29 to MA0.0_Br0.1_Cl0.0\n",
      "\t55.71 to MA0.0_Br0.1_Cl0.0\n",
      "\t65.00 to MA0.0_Br0.0_Cl0.0\n",
      "Distribute MA0.0_Br0.1_Cl0.0:\n",
      "\t65.00 to MA0.0_Br0.1_Cl0.0\n",
      "Distribute MA0.0_Br0.0_Cl0.0:\n",
      "\t65.00 to MA0.0_Br0.0_Cl0.0\n",
      "Solving final schedule\n",
      "\tsolution status: OPTIMAL\n",
      "schedule image saved to \"schedule_3A3X-B28-1.jpeg\"\n",
      "OT2 protocol dumped to \"./OT2PASCALProtocol_3A3X-B28-1.py\"\n",
      "Maestro Netlist dumped to \"maestronetlist_3A3X-B28-1.json\"\n",
      "Sample dataframe dumped to \"sampledataframe_3A3X-B28-1.csv\"\n"
     ]
    },
    {
     "data": {
      "image/png": "[encoded data removed]",
      "text/plain": [
       "<Figure size 1008x360 with 2 Axes>"
      ]
     },
     "metadata": {
      "needs_background": "light"
     },
     "output_type": "display_data"
    },
    {
     "data": {
      "image/png": "[encoded data removed]",
      "text/plain": [
       "<Figure size 432x576 with 2 Axes>"
      ]
     },
     "metadata": {
      "needs_background": "light"
     },
     "output_type": "display_data"
    },
    {
     "data": {
      "image/png": "[encoded data removed]",
      "text/plain": [
       "<Figure size 216x288 with 1 Axes>"
      ]
     },
     "metadata": {
      "needs_background": "light"
     },
     "output_type": "display_data"
    }
   ],
   "source": [
    "#Run this cell to make the \n",
    "wells = natsorted(list(plate96._coordinates.keys()))\n",
    "size=15\n",
    "\n",
    "# for batch in range(int(len(targets)*3/45)):\n",
    "batch = 1\n",
    "targetslice = slice(batch*size, (batch+1)*size)\n",
    "\n",
    "plate96 = LiquidLabware(\n",
    "    name=\"96wellplate\",\n",
    "    version=\"greiner_96_wellplate_360ul\",\n",
    "    deck_slot=5,\n",
    "    starting_well='A1'\n",
    ")\n",
    "# batch = 4\n",
    "\n",
    "\n",
    "\n",
    "\n",
    "samples_film_glass = build_sample_list(\n",
    "    input_substrates = ['glass'],\n",
    "    steps = [\n",
    "        spincoat_absorber_glass,\n",
    "        anneal_absorber,\n",
    "        # Rest(),\n",
    "        # char_absorber,\n",
    "    ],\n",
    "    solution_mesh = dict(\n",
    "        # absorber = targets[targetslice],\n",
    "        absorber = targets,\n",
    "    ),\n",
    "    n_repeats=2,\n",
    ")\n",
    "\n",
    "planner = PASCALPlanner(\n",
    "    name=f'{purpose}-{batch}',\n",
    "    description=purpose,\n",
    "    operator='dc',\n",
    "    samples= samples_film_glass,\n",
    "    sample_trays=[\n",
    "        Tray1(), #TODO check this\n",
    "        Tray2()\n",
    "    ],\n",
    "    tip_racks = [\n",
    "    TipRack(version=\"opentronsfrg_96_tiprack_1000ul\", deck_slot=10, starting_tip='A2'),\n",
    "    TipRack(version=\"opentronsfrg_96_tiprack_1000ul\", deck_slot=7, starting_tip='A2'),\n",
    "\n",
    "        TipRack(\n",
    "            version='perkinelmer_p235_tiprack_235ul', \n",
    "            deck_slot=8, #TODO check this\n",
    "            starting_tip=\"C1\"\n",
    "        ),\n",
    "        TipRack(\n",
    "            version='perkinelmer_p235_tiprack_235ul', \n",
    "            deck_slot=11, #TODO check this\n",
    "            starting_tip=\"C1\"\n",
    "        ),\n",
    "    ],\n",
    "    solution_storage = [\n",
    "        tray4ml,\n",
    "        plate96,\n",
    "        tray15ml,\n",
    "    ],\n",
    "    stock_solutions = stock_solutions,\n",
    ")\n",
    "\n",
    "planner.process_solutions(\n",
    "    min_volume = 50, # extra volume (uL) to add for each solution\n",
    "    strategy = 'prefer_stock', #prefer_stock or least_inputs\n",
    "    max_inputs = 5,\n",
    "    # tolerance=1e-3,\n",
    ")\n",
    "fp = f'{purpose}_PSK/Batch-{batch}'\n",
    "if not os.path.exists(fp):\n",
    "    os.makedirs(fp)\n",
    "os.chdir(fp)\n",
    "\n",
    "planner.solve_schedule(\n",
    "    shuffle=False, #randomize process order\n",
    "    solve_time = 30, #time (s) to spend finding a solution. \n",
    "    prioritize_first_spincoat=False,\n",
    ")\n",
    "\n",
    "\n",
    "planner.export()\n",
    "os.chdir(\"..\")\n",
    "os.chdir(\"..\")"
   ]
  },
  {
   "cell_type": "code",
   "execution_count": 30,
   "id": "77ec39f8",
   "metadata": {},
   "outputs": [],
   "source": [
    "# #Run this cell to make the \n",
    "# wells = natsorted(list(plate96._coordinates.keys()))\n",
    "# size=15\n",
    "\n",
    "# for batch in range(int(len(targets)*3/45)):\n",
    "# # batch = 1\n",
    "#     plate96 = LiquidLabware(\n",
    "#         name=\"96wellplate\",\n",
    "#         version=\"greiner_96_wellplate_360ul\",\n",
    "#         deck_slot=5,\n",
    "#         starting_well='A1'\n",
    "#     )\n",
    "#     # batch = 4\n",
    "\n",
    "\n",
    "#     targetslice = slice(batch*size, (batch+1)*size)\n",
    "\n",
    "\n",
    "#     samples_film_glass = build_sample_list(\n",
    "#         input_substrates = ['glass'],\n",
    "#         steps = [\n",
    "#             # spincoat_absorber_glass,\n",
    "#             # anneal_absorber,\n",
    "#             # Rest(),\n",
    "#             char_absorber,\n",
    "#         ],\n",
    "#         solution_mesh = dict(\n",
    "#             absorber = targets[targetslice],\n",
    "#         ),\n",
    "#         n_repeats=45,\n",
    "#     )\n",
    "\n",
    "#     planner = PASCALPlanner(\n",
    "#         name=f'{purpose}-{batch}',\n",
    "#         description=purpose,\n",
    "#         operator='dc',\n",
    "#         samples= samples_film_glass,\n",
    "#         sample_trays=[\n",
    "#             Tray1(), #TODO check this\n",
    "#             Tray2()\n",
    "#         ],\n",
    "#         tip_racks = [\n",
    "#         TipRack(version=\"opentronsfrg_96_tiprack_1000ul\", deck_slot=10, starting_tip='A2'),\n",
    "#         TipRack(version=\"opentronsfrg_96_tiprack_1000ul\", deck_slot=7, starting_tip='A2'),\n",
    "\n",
    "#             TipRack(\n",
    "#                 version='perkinelmer_p235_tiprack_235ul', \n",
    "#                 deck_slot=8, #TODO check this\n",
    "#                 starting_tip=\"C1\"\n",
    "#             ),\n",
    "#             TipRack(\n",
    "#                 version='perkinelmer_p235_tiprack_235ul', \n",
    "#                 deck_slot=11, #TODO check this\n",
    "#                 starting_tip=\"C1\"\n",
    "#             ),\n",
    "#         ],\n",
    "#         solution_storage = [\n",
    "#             tray4ml,\n",
    "#             plate96,\n",
    "#             tray15ml,\n",
    "#         ],\n",
    "#         stock_solutions = stock_solutions,\n",
    "#     )\n",
    "\n",
    "#     planner.process_solutions(\n",
    "#         min_volume = 50, # extra volume (uL) to add for each solution\n",
    "#         strategy = 'prefer_stock', #prefer_stock or least_inputs\n",
    "#         max_inputs = 5,\n",
    "#         # tolerance=1e-3,\n",
    "#     )\n",
    "#     fp = f'{purpose}_Char/Batch-{batch}'\n",
    "#     if not os.path.exists(fp):\n",
    "#         os.makedirs(fp)\n",
    "#     os.chdir(fp)\n",
    "\n",
    "#     planner.solve_schedule(\n",
    "#         shuffle=False, #randomize process order\n",
    "#         solve_time = 30, #time (s) to spend finding a solution. \n",
    "#         prioritize_first_spincoat=False,\n",
    "#     )\n",
    "\n",
    "\n",
    "#     planner.export()\n",
    "#     os.chdir(\"..\")\n",
    "#     os.chdir(\"..\")"
   ]
  },
  {
   "cell_type": "code",
   "execution_count": 30,
   "id": "23a88453",
   "metadata": {},
   "outputs": [
    {
     "ename": "NameError",
     "evalue": "name 'asdasd23312341231' is not defined",
     "output_type": "error",
     "traceback": [
      "\u001b[0;31m---------------------------------------------------------------------------\u001b[0m",
      "\u001b[0;31mNameError\u001b[0m                                 Traceback (most recent call last)",
      "\u001b[0;32m/var/folders/cg/npjcl03j1_g_q4sw465xcyx00000gn/T/ipykernel_45272/1684721265.py\u001b[0m in \u001b[0;36m<module>\u001b[0;34m\u001b[0m\n\u001b[0;32m----> 1\u001b[0;31m \u001b[0masdasd23312341231\u001b[0m\u001b[0;34m\u001b[0m\u001b[0;34m\u001b[0m\u001b[0m\n\u001b[0m",
      "\u001b[0;31mNameError\u001b[0m: name 'asdasd23312341231' is not defined"
     ]
    }
   ],
   "source": [
    "asdasd23312341231"
   ]
  },
  {
   "cell_type": "code",
   "execution_count": 31,
   "id": "ad2567e0",
   "metadata": {},
   "outputs": [
    {
     "name": "stdout",
     "output_type": "stream",
     "text": [
      "45\n"
     ]
    }
   ],
   "source": [
    "samples_htl = [\n",
    "    build_sample_htl() \n",
    "    for _ in range(45)\n",
    "    ]\n",
    "\n",
    "samples_char = [\n",
    "    build_sample_char(T='Full') \n",
    "    for _ in range(45)\n",
    "    ]\n",
    "\n",
    "htl = samples_htl \n",
    "# psk = samples_psk + samples_psk_addon+ samples_psk_cntrl\n",
    "char = samples_char \n",
    "\n",
    "\n",
    "print(len(htl))"
   ]
  },
  {
   "attachments": {},
   "cell_type": "markdown",
   "id": "d0f62785",
   "metadata": {},
   "source": [
    "### HTL"
   ]
  },
  {
   "cell_type": "code",
   "execution_count": 32,
   "id": "ce4028aa",
   "metadata": {},
   "outputs": [],
   "source": [
    "tiprack10_tip = 'B4' # 1000ul\n",
    "tiprack7_tip = 'A1' # 1000ul\n",
    "\n",
    "tiprack11_tip = 'B1' # 235ul\n",
    "tiprack8_tip = 'B1' # 235ul\n",
    "\n",
    "\n",
    "tipracks = [\n",
    "    TipRack(version=\"opentronsfrg_96_tiprack_1000ul\", deck_slot=10, starting_tip=tiprack10_tip),\n",
    "    TipRack(version=\"opentronsfrg_96_tiprack_1000ul\", deck_slot=7, starting_tip=tiprack7_tip),\n",
    "\n",
    "    TipRack(version=\"perkinelmer_p235_tiprack_235ul\", deck_slot=11, starting_tip=tiprack11_tip),\n",
    "    TipRack(version=\"perkinelmer_p235_tiprack_235ul\", deck_slot=8, starting_tip=tiprack8_tip),\n",
    "]"
   ]
  },
  {
   "cell_type": "code",
   "execution_count": 33,
   "id": "fe68fd9f",
   "metadata": {},
   "outputs": [
    {
     "name": "stdout",
     "output_type": "stream",
     "text": [
      "===== Stock Prep =====\n",
      "4600.00 of HTL\n"
     ]
    }
   ],
   "source": [
    "planner = PASCALPlanner(\n",
    "    name=f'{purpose}-htl',\n",
    "    description=purpose,\n",
    "    operator=\"DC\",\n",
    "    samples=htl,\n",
    "    sample_trays=[\n",
    "        Tray2(),# 45 cells per tray\n",
    "        Tray1()\n",
    "    ],\n",
    "    tip_racks=tipracks,\n",
    "    solution_storage=[\n",
    "        tray4ml,\n",
    "        tray15ml,\n",
    "        # plate96,\n",
    "    ],\n",
    "    stock_solutions=stock_solutions,\n",
    ")\n",
    "\n",
    "planner.process_solutions(\n",
    "    min_volume = 100, # extra volume (uL) to add for each solution default is 50\n",
    "    strategy = 'prefer_stock', #lowest volume transfer as high as possible \n",
    "    # tolerance = 1 # tolerance for volume transfer\n",
    ")"
   ]
  },
  {
   "cell_type": "code",
   "execution_count": 34,
   "id": "55cfeaeb",
   "metadata": {},
   "outputs": [
    {
     "name": "stdout",
     "output_type": "stream",
     "text": [
      "Solving final schedule\n",
      "\tsolution status: OPTIMAL\n",
      "schedule image saved to \"schedule_3A3X-B28-htl.jpeg\"\n",
      "OT2 protocol dumped to \"./OT2PASCALProtocol_3A3X-B28-htl.py\"\n",
      "Maestro Netlist dumped to \"maestronetlist_3A3X-B28-htl.json\"\n",
      "Sample dataframe dumped to \"sampledataframe_3A3X-B28-htl.csv\"\n"
     ]
    },
    {
     "data": {
      "image/png": "[encoded data removed]",
      "text/plain": [
       "<Figure size 1008x360 with 2 Axes>"
      ]
     },
     "metadata": {
      "needs_background": "light"
     },
     "output_type": "display_data"
    },
    {
     "data": {
      "image/png": "[encoded data removed]",
      "text/plain": [
       "<Figure size 432x288 with 1 Axes>"
      ]
     },
     "metadata": {
      "needs_background": "light"
     },
     "output_type": "display_data"
    },
    {
     "data": {
      "image/png": "[encoded data removed]",
      "text/plain": [
       "<Figure size 216x288 with 1 Axes>"
      ]
     },
     "metadata": {
      "needs_background": "light"
     },
     "output_type": "display_data"
    }
   ],
   "source": [
    "fp = \"{}_0_HTL\".format(purpose)\n",
    "if not os.path.exists(fp):\n",
    "    os.mkdir(fp)\n",
    "os.chdir(fp)\n",
    "\n",
    "planner.solve_schedule(\n",
    "    shuffle=False, #randomize process order\n",
    "    solve_time = 30,#time (s) to spend finding a solution. \n",
    "    prioritize_first_spincoat= False,\n",
    ")\n",
    "planner.export()\n",
    "os.chdir(\"..\")"
   ]
  },
  {
   "attachments": {},
   "cell_type": "markdown",
   "id": "8c86cbaf",
   "metadata": {},
   "source": [
    "### Char only"
   ]
  },
  {
   "cell_type": "code",
   "execution_count": 35,
   "id": "fe68fd9f",
   "metadata": {},
   "outputs": [
    {
     "name": "stdout",
     "output_type": "stream",
     "text": [
      "No solutions required for this experiment!\n"
     ]
    }
   ],
   "source": [
    "planner = PASCALPlanner(\n",
    "    name=f'{purpose}-char',\n",
    "    description=purpose,\n",
    "    operator=\"DC\",\n",
    "    samples=char,\n",
    "    sample_trays=[\n",
    "        Tray2(),# 45 cells per tray/\n",
    "        Tray1() # 18 cells per tray\n",
    "    ],\n",
    "    tip_racks=tipracks,\n",
    "    solution_storage=[\n",
    "        tray4ml,\n",
    "        tray15ml,\n",
    "        # plate96,\n",
    "    ],\n",
    "    stock_solutions=[\n",
    "        # stock_solutions[0],\n",
    "        # stock_solutions[1],\n",
    "        # stock_solutions[2],\n",
    "        # stock_solutions[3],\n",
    "        # stock_solutions[4]\n",
    "    ],\n",
    ")\n",
    "\n",
    "planner.process_solutions(\n",
    "    min_volume = 100, # extra volume (uL) to add for each solution default is 50\n",
    "    strategy = 'prefer_stock', #lowest volume transfer as high as possible \n",
    "    # tolerance = 1 # tolerance for volume transfer\n",
    ")"
   ]
  },
  {
   "cell_type": "code",
   "execution_count": 36,
   "id": "55cfeaeb",
   "metadata": {},
   "outputs": [
    {
     "name": "stdout",
     "output_type": "stream",
     "text": [
      "Solving final schedule\n",
      "\tsolution status: OPTIMAL\n",
      "schedule image saved to \"schedule_3A3X-B28-char.jpeg\"\n",
      "Maestro Netlist dumped to \"maestronetlist_3A3X-B28-char.json\"\n",
      "Sample dataframe dumped to \"sampledataframe_3A3X-B28-char.csv\"\n"
     ]
    },
    {
     "data": {
      "image/png": "[encoded data removed]",
      "text/plain": [
       "<Figure size 1008x360 with 2 Axes>"
      ]
     },
     "metadata": {
      "needs_background": "light"
     },
     "output_type": "display_data"
    },
    {
     "data": {
      "image/png": "[encoded data removed]",
      "text/plain": [
       "<Figure size 432x288 with 1 Axes>"
      ]
     },
     "metadata": {
      "needs_background": "light"
     },
     "output_type": "display_data"
    },
    {
     "data": {
      "image/png": "[encoded data removed]",
      "text/plain": [
       "<Figure size 216x288 with 1 Axes>"
      ]
     },
     "metadata": {
      "needs_background": "light"
     },
     "output_type": "display_data"
    }
   ],
   "source": [
    "fp = \"{}_2_Char\".format(purpose)\n",
    "if not os.path.exists(fp):\n",
    "    os.mkdir(fp)\n",
    "os.chdir(fp)\n",
    "\n",
    "planner.solve_schedule(\n",
    "    shuffle=False, #randomize process order\n",
    "    solve_time = 30,#time (s) to spend finding a solution. \n",
    "    prioritize_first_spincoat= True,\n",
    ")\n",
    "planner.export()\n",
    "os.chdir(\"..\")"
   ]
  },
  {
   "cell_type": "code",
   "execution_count": 37,
   "id": "af097ba9",
   "metadata": {},
   "outputs": [
    {
     "data": {
      "text/plain": [
       "['HTL',\n",
       " 'Antisolvent',\n",
       " 'MA0.0_Br0.1_Cl0.0',\n",
       " 'MA0.0_Br-0.0_Cl0.1',\n",
       " 'MA0.0_Br0.2_Cl0.0',\n",
       " 'MA0.0_Br0.1_Cl0.1',\n",
       " 'MA0.1_Br0.1_Cl0.0',\n",
       " 'MA0.1_Br-0.0_Cl0.1',\n",
       " 'MA0.1_Br0.2_Cl0.0',\n",
       " 'MA0.1_Br0.1_Cl0.1']"
      ]
     },
     "execution_count": 37,
     "metadata": {},
     "output_type": "execute_result"
    }
   ],
   "source": [
    "stock_solutions\n",
    "\n",
    "stock_list = []\n",
    "for item in stock_solutions:\n",
    "    stock_list.append(item.alias)\n",
    "    \n",
    "stock_list"
   ]
  },
  {
   "cell_type": "code",
   "execution_count": null,
   "id": "c5675ce4",
   "metadata": {},
   "outputs": [],
   "source": []
  },
  {
   "cell_type": "code",
   "execution_count": null,
   "id": "dd9c7fac",
   "metadata": {},
   "outputs": [],
   "source": [
    "exp_table = pd.concat([experiment_df]*3, ignore_index=True)\n",
    "add_on_table = pd.concat([add_on_df]*2, ignore_index=True)\n",
    "control_table = pd.concat([control_df]*2, ignore_index=True)\n",
    "combined_table = pd.concat([exp_table, add_on_table, control_table], ignore_index=True)\n",
    "\n",
    "combined_table['solution'] = ''\n",
    "\n",
    "for n in range(combined_table.shape[0]):\n",
    "    combined_table['solution'][n] = stock_list[combined_table['vial_index'][n].astype(int)]\n",
    "\n",
    "combined_table"
   ]
  },
  {
   "cell_type": "code",
   "execution_count": null,
   "id": "0572b744",
   "metadata": {},
   "outputs": [],
   "source": []
  }
 ],
 "metadata": {
  "kernelspec": {
   "display_name": "ds",
   "language": "python",
   "name": "python3"
  },
  "language_info": {
   "codemirror_mode": {
    "name": "ipython",
    "version": 3
   },
   "file_extension": ".py",
   "mimetype": "text/x-python",
   "name": "python",
   "nbconvert_exporter": "python",
   "pygments_lexer": "ipython3",
   "version": "3.7.9"
  },
  "vscode": {
   "interpreter": {
    "hash": "c86dfbc17468201bf110f641e56a1df81e3c9871b3a7a52a78db9d9bb9a33d6a"
   }
  }
 },
 "nbformat": 4,
 "nbformat_minor": 5
}
