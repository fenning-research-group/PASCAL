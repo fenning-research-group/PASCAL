{
   "cells": [
      {
         "cell_type": "code",
         "execution_count": 1,
         "metadata": {},
         "outputs": [],
         "source": [
            "EXPERIMENT_NAME = \"Closed Loop WBG Anneal\"\n",
            "EXPERIMENT_DESCRIPTION = \"Allow anneal temp, time to vary while co-optimizing PL Intenstiy, FWHM\""
         ]
      },
      {
         "cell_type": "markdown",
         "metadata": {},
         "source": [
            "# Generate instructions for liquid handler, characterization"
         ]
      },
      {
         "cell_type": "code",
         "execution_count": 2,
         "metadata": {},
         "outputs": [],
         "source": [
            "from frgpascal.experimentaldesign.helpers import export_closedloop\n",
            "from frgpascal.experimentaldesign.tasks import *\n",
            "from frgpascal.experimentaldesign.characterizationtasks import PLSpectroscopy, PLPhotostability,PLImaging, TransmissionSpectroscopy, Darkfield, Brightfield\n",
            "from frgpascal.hardware.liquidlabware import TipRack, LiquidLabware, AVAILABLE_VERSIONS as liquid_labware_versions\n",
            "from frgpascal.hardware.sampletray import SampleTray, AVAILABLE_VERSIONS as sampletray_versions\n",
            "\n"
         ]
      },
      {
         "cell_type": "markdown",
         "metadata": {},
         "source": [
            "Define hardware on liquid handler. Tip racks only, to get the ot2 protocol"
         ]
      },
      {
         "cell_type": "code",
         "execution_count": 18,
         "metadata": {},
         "outputs": [],
         "source": [
            "tray4ml = LiquidLabware(\n",
            "    name='4mL_Tray1',\n",
            "    version='frg_24_wellplate_4000ul',\n",
            "    deck_slot=6\n",
            "    )\n",
            "plate96 = LiquidLabware(\n",
            "    name=\"96wellplate\",\n",
            "    version=\"greiner_96_wellplate_360ul\",\n",
            "    deck_slot=5,\n",
            "    starting_well=\"F1\"\n",
            ")\n",
            "# tray15ml = LiquidLabware(\n",
            "#     name=\"15mL_Tray1\",\n",
            "#     version=\"frg_12_wellplate_15000ul\",\n",
            "#     deck_slot=4\n",
            "# )\n",
            "\n",
            "tipracks = [\n",
            "    TipRack(\n",
            "        version='perkinelmer_p235_tiprack_235ul', \n",
            "        deck_slot=8,\n",
            "        starting_tip=\"B11\"\n",
            "    ),\n",
            "    TipRack(\n",
            "        version='perkinelmer_p235_tiprack_235ul', \n",
            "        deck_slot=11,\n",
            "        starting_tip=\"B5\"\n",
            "    ),\n",
            "]"
         ]
      },
      {
         "cell_type": "code",
         "execution_count": null,
         "metadata": {},
         "outputs": [],
         "source": []
      },
      {
         "cell_type": "code",
         "execution_count": 9,
         "metadata": {},
         "outputs": [],
         "source": [
            "chartask = Characterize(\n",
            "    tasks = [\n",
            "        PLSpectroscopy(\n",
            "            exposure_times = [1,5,10,30,60]\n",
            "            ),\n",
            "        TransmissionSpectroscopy(),\n",
            "        PLPhotostability(\n",
            "            exposure_time = 2,\n",
            "            duration=60,\n",
            "            jitter = 1\n",
            "        ),\n",
            "        Brightfield(),\n",
            "        Darkfield(),\n",
            "        PLImaging(),\n",
            "    ],\n",
            "    # reorder_by_position=True,\n",
            ")"
         ]
      },
      {
         "cell_type": "code",
         "execution_count": 5,
         "metadata": {},
         "outputs": [
            {
               "name": "stdout",
               "output_type": "stream",
               "text": [
                  "OT2 protocol dumped to \".\\OT2PASCALProtocol_Closed Loop WBG Anneal.py\"\n",
                  "Closed Loop Maestro Netlist dumped to \"maestronetlist_closedloop_Closed Loop WBG Anneal.json\"\n"
               ]
            }
         ],
         "source": [
            "export_closedloop(\n",
            "    name = EXPERIMENT_NAME,\n",
            "    characterization_task= chartask,\n",
            "    labware = [\n",
            "        tray4ml,\n",
            "        # tray15ml,\n",
            "        plate96\n",
            "    ],\n",
            "    tipracks = tipracks,\n",
            ")"
         ]
      },
      {
         "cell_type": "code",
         "execution_count": null,
         "metadata": {},
         "outputs": [],
         "source": []
      },
      {
         "cell_type": "markdown",
         "metadata": {},
         "source": [
            "copy into cmdprmpt"
         ]
      },
      {
         "cell_type": "code",
         "execution_count": null,
         "metadata": {},
         "outputs": [],
         "source": [
            "lh.server.ip = '169.254.160.20'\n",
            "lh.server._start_directly()\n",
            "mixing_netlist = {\n",
            "   '4mL_Tray1-A2': {'96wellplate-F1': 35.0},\n",
            "   '4mL_Tray1-A1': {'96wellplate-F1': 20.0}\n",
            "}\n",
            "\n",
            "lh.mix(mixing_netlist = mixing_netlist)"
         ]
      },
      {
         "cell_type": "markdown",
         "metadata": {},
         "source": [
            "# Define Experiment"
         ]
      },
      {
         "cell_type": "code",
         "execution_count": 6,
         "metadata": {},
         "outputs": [],
         "source": [
            "from ax import *\n",
            "from frgpascal.closedloop.bridge import PASCALAxQueue, PASCALRunner"
         ]
      },
      {
         "cell_type": "markdown",
         "metadata": {},
         "source": [
            "Search Space"
         ]
      },
      {
         "cell_type": "code",
         "execution_count": 7,
         "metadata": {},
         "outputs": [
            {
               "name": "stderr",
               "output_type": "stream",
               "text": [
                  "C:\\Users\\Admin\\.conda\\envs\\pascal2\\lib\\site-packages\\ax\\core\\parameter.py:467: UserWarning:\n",
                  "\n",
                  "`sort_values` is not specified for `ChoiceParameter` \"anneal_temperature\". Defaulting to `True` for parameters of `ParameterType` FLOAT. To override this behavior (or avoid this warning), specify `sort_values` during `ChoiceParameter` construction.\n",
                  "\n"
               ]
            }
         ],
         "source": [
            "search_space = SearchSpace(\n",
            "    parameters = [\n",
            "        ChoiceParameter(\n",
            "            name=\"anneal_temperature\", \n",
            "            values = [100, 110, 120],\n",
            "            parameter_type=ParameterType.FLOAT, \n",
            "            is_ordered = True\n",
            "        ),\n",
            "        RangeParameter(\n",
            "            name=\"anneal_duration\",\n",
            "            lower=60*10.0, #10 minutes\n",
            "            upper = 60*90.0, #1.5 hrs\n",
            "            parameter_type=ParameterType.FLOAT\n",
            "        )\n",
            "    ]\n",
            ")"
         ]
      },
      {
         "cell_type": "markdown",
         "metadata": {},
         "source": [
            "Subclass `PASCALAxQueue` to fill in `initialize_labware` and `build_sample` methods."
         ]
      },
      {
         "cell_type": "code",
         "execution_count": 8,
         "metadata": {},
         "outputs": [],
         "source": [
            "from frgpascal.hardware.sampletray import Tray1, Tray2\n",
            "import mixsol as mx"
         ]
      },
      {
         "cell_type": "code",
         "execution_count": 9,
         "metadata": {},
         "outputs": [],
         "source": [
            "class ThisQueue(PASCALAxQueue):\n",
            "    hotplate_temperatures = []\n",
            "    metrics_to_watch = ['pl_fwhm_0', 'pl_intensity_0']\n",
            "    metrics_to_ignore = []\n",
            "\n",
            "    def initialize_labware(self):\n",
            "        self.liquidlabware = [tray4ml]\n",
            "        self.mixlabware = plate96\n",
            "        self.sampletray = Tray1()\n",
            "\n",
            "        self.solutions = {\n",
            "            'MethylAcetate': Solution(\n",
            "                solvent='MethylAcetate',\n",
            "            ),\n",
            "            'absorber1': Solution(\n",
            "                    solutes= 'FA_Pb_I3',\n",
            "                    solvent= 'DMF3_DMSO1',\n",
            "                    molarity= 1.2,\n",
            "                    alias=\"Absorber_1.09_PbX\"\n",
            "            ),\n",
            "            'absorber2': Solution(\n",
            "                    solutes= 'MA_Pb_Br3',\n",
            "                    solvent= 'DMF3_DMSO1',\n",
            "                    molarity= 1.2,\n",
            "            )\n",
            "        }\n",
            "\n",
            "        tray4ml.load(self.solutions['absorber1'], \"A1\")\n",
            "        tray4ml.load(self.solutions['absorber2'], \"A2\")\n",
            "        tray4ml.load(self.solutions[\"MethylAcetate\"], \"D1\")\n",
            "\n",
            "        self.mixer = mx.Mixer(\n",
            "            stock_solutions=list(self.solutions.values()),\n",
            "        )\n",
            "    def build_sample(self, parameters) -> Sample:\n",
            "        soln = Solution(\n",
            "            solutes = f'MA{parameters[\"MA\"]}_FA{1-parameters[\"MA\"]}_Pb_Br{3*parameters[\"MA\"]}_I{3*(1-parameters[\"MA\"])}',\n",
            "            solvent=\"DMF3_DMSO1\",\n",
            "            molarity=1.2\n",
            "        )\n",
            "        \n",
            "        mix_inputs = {\n",
            "            soln: v\n",
            "            for soln, v \n",
            "            in zip(\n",
            "                self.mixer.solutions,\n",
            "                self.mixer.mix(target=soln, volume=50, min_volume=0)\n",
            "            )\n",
            "        }\n",
            "\n",
            "        destination_well = self.mixlabware.load(soln)\n",
            "        mix = Mix(\n",
            "            inputs=mix_inputs,\n",
            "            inputs_labware=self.liquidlabware,\n",
            "            destination_labware=self.mixlabware,\n",
            "            destination_well=destination_well,\n",
            "        )\n",
            "\n",
            "        # spincoat_absorber = Spincoat(\n",
            "        #     steps=[\n",
            "        #         [1000,200,5], #speed (rpm), acceleration (rpm/s), duration (s)\n",
            "        #         [5000,2000,50], #speed (rpm), acceleration (rpm/s), duration (s)\n",
            "        #     ],\n",
            "        #     drops = [\n",
            "        #         Drop(\n",
            "        #             solution=soln,  #this will be filled later using the list of psk solutions\n",
            "        #             volume=20,\n",
            "        #             time=-1,\n",
            "        #             blow_out=True\n",
            "        #         ),\n",
            "        #         Drop(\n",
            "        #             solution=self.solutions['MethylAcetate'],\n",
            "        #             volume=50,\n",
            "        #             time=33,\n",
            "        #             reuse_tip=True,\n",
            "        #             touch_tip=False,\n",
            "        #             rate=100,\n",
            "        #             pre_mix=(3,100),\n",
            "        #             slow_travel=True,\n",
            "        #             blow_out=False\n",
            "        #         )\n",
            "        #     ],\n",
            "        #     # immediate=True\n",
            "        # )\n",
            "        # anneal_absorber = Anneal(\n",
            "        #     temperature=parameters['anneal_temperature'],\n",
            "        #     duration=parameters['anneal_duration'],\n",
            "        # )\n",
            "\n",
            "        samplename = f'sample{self.sample_counter}' #dont change\n",
            "        sample = Sample(\n",
            "            name = samplename, #dont change\n",
            "            substrate='glass',\n",
            "            worklist = [\n",
            "                mix,\n",
            "                # spincoat_absorber,\n",
            "                # anneal_absorber,\n",
            "                # Rest(),\n",
            "                # chartask,\n",
            "            ],\n",
            "            storage_slot = {\n",
            "                \"tray\": self.sampletray.name,  #dont change\n",
            "                \"slot\": self.sampletray.load(samplename) #dont change\n",
            "                },\n",
            "        )\n",
            "        return sample"
         ]
      },
      {
         "cell_type": "code",
         "execution_count": 10,
         "metadata": {},
         "outputs": [
            {
               "name": "stdout",
               "output_type": "stream",
               "text": [
                  "Note: attribute `hotplate_temperatures` was not defined, currently there are no temperatures/hotplates allocated for this experiment!\n"
               ]
            }
         ],
         "source": [
            "jq = ThisQueue()"
         ]
      },
      {
         "cell_type": "code",
         "execution_count": 12,
         "metadata": {},
         "outputs": [
            {
               "name": "stdout",
               "output_type": "stream",
               "text": [
                  "Solving final schedule\n",
                  "\tsolution status: OPTIMAL\n"
               ]
            },
            {
               "data": {
                  "text/plain": [
                     "'sample1'"
                  ]
               },
               "execution_count": 12,
               "metadata": {},
               "output_type": "execute_result"
            }
         ],
         "source": [
            "p = {\"MA\":0.8, \"anneal_temperature\":110, \"anneal_duration\":60*60}\n",
            "jq.schedule_job_with_parameters(parameters=p)"
         ]
      },
      {
         "cell_type": "code",
         "execution_count": 14,
         "metadata": {},
         "outputs": [],
         "source": [
            "import matplotlib.pyplot as plt"
         ]
      },
      {
         "cell_type": "code",
         "execution_count": 18,
         "metadata": {},
         "outputs": [
            {
               "data": {
                  "text/plain": [
                     "120"
                  ]
               },
               "execution_count": 18,
               "metadata": {},
               "output_type": "execute_result"
            }
         ],
         "source": []
      },
      {
         "cell_type": "code",
         "execution_count": 16,
         "metadata": {},
         "outputs": [
            {
               "data": {
                  "image/png": "[encoded data removed]",
                  "text/plain": [
                     "<Figure size 1400x500 with 2 Axes>"
                  ]
               },
               "metadata": {},
               "output_type": "display_data"
            }
         ],
         "source": [
            "jq.system.scheduler.plot_solution()\n",
            "plt.show()"
         ]
      },
      {
         "cell_type": "code",
         "execution_count": 21,
         "metadata": {},
         "outputs": [
            {
               "data": {
                  "text/plain": [
                     "{'name': 'mix',\n",
                     " 'start': 251,\n",
                     " 'id': 'mix-d7434ba3-7b2f-4dd4-b1f8-fd488bf52846',\n",
                     " 'details': {'mixing_netlist': {'4mL_Tray1-A2': {'96wellplate-F2': 40.0},\n",
                     "   '4mL_Tray1-A1': {'96wellplate-F2': 10.0}},\n",
                     "  'duration': 120},\n",
                     " 'sample': 'sample1',\n",
                     " 'precedent': 'storage_to_spincoater--76e0a4a0-99a4-4fc5-adc6-b7cc33c13563'}"
                  ]
               },
               "execution_count": 21,
               "metadata": {},
               "output_type": "execute_result"
            }
         ],
         "source": [
            "td = jq.system.scheduler.protocols[1].worklist[1].to_dict()\n",
            "td"
         ]
      },
      {
         "cell_type": "code",
         "execution_count": 22,
         "metadata": {},
         "outputs": [],
         "source": [
            "mixing_netlist = td['details']['mixing_netlist']"
         ]
      },
      {
         "cell_type": "code",
         "execution_count": 23,
         "metadata": {},
         "outputs": [],
         "source": [
            "ll = {\n",
            "    l.name: l\n",
            "    for l in jq.liquidlabware + [jq.mixlabware]\n",
            "}"
         ]
      },
      {
         "cell_type": "code",
         "execution_count": 24,
         "metadata": {},
         "outputs": [
            {
               "data": {
                  "text/plain": [
                     "{'4mL_Tray1': <LiquidLabware> 4mL_Tray1, 4.0 mL volume, 24 wells,\n",
                     " '96wellplate': <LiquidLabware> 96wellplate, 0.36 mL volume, 96 wells}"
                  ]
               },
               "execution_count": 24,
               "metadata": {},
               "output_type": "execute_result"
            }
         ],
         "source": [
            "ll"
         ]
      },
      {
         "cell_type": "code",
         "execution_count": 27,
         "metadata": {},
         "outputs": [
            {
               "name": "stdout",
               "output_type": "stream",
               "text": [
                  "<LiquidLabware> 4mL_Tray1, 4.0 mL volume, 24 wells [<LiquidLabware> 96wellplate, 0.36 mL volume, 96 wells] [15.0]\n",
                  "<LiquidLabware> 4mL_Tray1, 4.0 mL volume, 24 wells [<LiquidLabware> 96wellplate, 0.36 mL volume, 96 wells] [35.0]\n"
               ]
            }
         ],
         "source": [
            "for i, (source_str, destination_strings) in enumerate(mixing_netlist.items()):\n",
            "    source_labware, source_well = source_str.split(\"-\")\n",
            "    source = ll[source_labware]\n",
            "\n",
            "    destinations = []\n",
            "    volumes = []\n",
            "    for destination_str, volume in destination_strings.items():\n",
            "        destination_labware, destination_well = destination_str.split(\"-\")\n",
            "        destinations.append(\n",
            "            ll[destination_labware]\n",
            "        )\n",
            "        volumes.append(volume)\n",
            "    print(source, destinations, volumes)"
         ]
      },
      {
         "cell_type": "code",
         "execution_count": 16,
         "metadata": {},
         "outputs": [
            {
               "data": {
                  "text/plain": [
                     "<Protocol> e5c62373-4abb-4351-aecc-fb4270cf318e\n",
                     "Worklist:\n",
                     "\t<Transition: storage_to_spincoater, runs from 903 - 936>\n",
                     "\t<Mix> 3 solutions into 96wellplate-E4\n",
                     "\t<Spincoat>\n",
                     "\t0-5.0s:\t1000.0 rpm, 200 rpm/s\n",
                     "\t5.0-55.0s:\t5000.0 rpm, 2000 rpm/s\n",
                     "\t<Drop> 20 uL of 1.2M MA0.7_FA0.3_Pb_Br2.1_I0.9 in DMF0.75_DMSO0.25 at -1s\n",
                     "\t<Drop> 50 uL of MethylAcetate at 33s\n",
                     "\t<Transition: spincoater_to_hotplate, runs from 1165 - 1192>\n",
                     "\t<Anneal> 110C for 60.0 minutes\n",
                     "\t<Transition: hotplate_to_storage, runs from 4792 - 4810>\n",
                     "\t<Rest> 5.0 minutes\n",
                     "\t<Transition: storage_to_characterization, runs from 5140 - 5155>\n",
                     "\t<Characterize>\n",
                     "\tPL_635nm\n",
                     "\tTransmission\n",
                     "\tPhotostability_405nm\n",
                     "\tBrightfield\n",
                     "\tDarkfield\n",
                     "\tPLImaging\n",
                     "\t<Transition: characterization_to_storage, runs from 5421 - 5439>"
                  ]
               },
               "execution_count": 16,
               "metadata": {},
               "output_type": "execute_result"
            }
         ],
         "source": [
            "s.protocol"
         ]
      },
      {
         "cell_type": "code",
         "execution_count": 17,
         "metadata": {},
         "outputs": [
            {
               "data": {
                  "image/png": "[encoded data removed]",
                  "text/plain": [
                     "<Figure size 1008x360 with 2 Axes>"
                  ]
               },
               "metadata": {
                  "needs_background": "light"
               },
               "output_type": "display_data"
            }
         ],
         "source": [
            "jq.system.scheduler.plot_solution()"
         ]
      },
      {
         "cell_type": "markdown",
         "metadata": {},
         "source": [
            "Sample Generation Strategy"
         ]
      },
      {
         "cell_type": "code",
         "execution_count": 27,
         "metadata": {},
         "outputs": [],
         "source": [
            "from ax.modelbridge.generation_strategy import GenerationStrategy, GenerationStep\n",
            "\n",
            "\n",
            "\n",
            "NUM_SOBOL = 8\n",
            "generation_strategy = GenerationStrategy(\n",
            "    steps=[\n",
            "        # 1. Initialization step (does not require pre-existing data and is well-suited for\n",
            "        # initial sampling of the search space)\n",
            "        GenerationStep(\n",
            "            model=Models.SOBOL,\n",
            "            num_trials=NUM_SOBOL,  # How many trials should be produced from this generation step\n",
            "            min_trials_observed=5,  # How many trials need to be completed to move to next model\n",
            "            max_parallelism=NUM_SOBOL,  # Max parallelism for this step\n",
            "            model_kwargs={\"seed\": 999},  # Any kwargs you want passed into the model\n",
            "            model_gen_kwargs={},  # Any kwargs you want passed to `modelbridge.gen`\n",
            "        ),\n",
            "        # 2. Bayesian optimization step (requires data obtained from previous phase and learns\n",
            "        # from all data available at the time of each new candidate generation call)\n",
            "        GenerationStep(\n",
            "            model=Models.GPEI,\n",
            "            num_trials=-1,  # No limitation on how many trials should be produced from this step\n",
            "            max_parallelism=5,  # Parallelism limit for this step, often lower than for Sobol\n",
            "            # More on parallelism vs. required samples in BayesOpt:\n",
            "            # https://ax.dev/docs/bayesopt.html#tradeoff-between-parallelism-and-total-number-of-trials\n",
            "        ),\n",
            "    ]\n",
            ")"
         ]
      },
      {
         "cell_type": "markdown",
         "metadata": {},
         "source": [
            "----\n",
            "# Begin the experiment!"
         ]
      },
      {
         "cell_type": "markdown",
         "metadata": {},
         "source": [
            "\n",
            "Run `maestro.run_external(name, ot2_ip)` prior to proceeding"
         ]
      },
      {
         "cell_type": "code",
         "execution_count": 28,
         "metadata": {},
         "outputs": [],
         "source": [
            "job_queue = ThisQueue() #dont change"
         ]
      },
      {
         "cell_type": "markdown",
         "metadata": {},
         "source": [
            "Metric"
         ]
      },
      {
         "cell_type": "code",
         "execution_count": 29,
         "metadata": {},
         "outputs": [],
         "source": [
            "from frgpascal.closedloop.metrics import BFInhomogeneity, DFMedian, PLFWHM, PLIntensity, PLPeak, PSIntensityScale"
         ]
      },
      {
         "cell_type": "code",
         "execution_count": 102,
         "metadata": {},
         "outputs": [],
         "source": [
            "mo = MultiObjective(\n",
            "    objectives=[\n",
            "            Objective(PLIntensity(queue=job_queue)),\n",
            "            Objective(PLFWHM(queue=job_queue)),\n",
            "            ],\n",
            ")\n",
            "objective_thresholds = [\n",
            "    ObjectiveThreshold(metric=metric, bound=val, relative=False)\n",
            "    for metric, val in zip(mo.metrics, [0.4, 10])\n",
            "]\n",
            "\n",
            "optimization_config = MultiObjectiveOptimizationConfig(\n",
            "    objective=mo,\n",
            "    objective_thresholds=objective_thresholds,\n",
            ")"
         ]
      },
      {
         "cell_type": "code",
         "execution_count": 103,
         "metadata": {},
         "outputs": [
            {
               "data": {
                  "text/plain": [
                     "MultiObjectiveOptimizationConfig(objective=MultiObjective(objectives=[Objective(metric_name=\"pl_intensity\", minimize=False), Objective(metric_name=\"pl_fwhm\", minimize=True)]), outcome_constraints=[], objective_thresholds=[ObjectiveThreshold(pl_intensity >= 0.4), ObjectiveThreshold(pl_fwhm <= 10)])"
                  ]
               },
               "execution_count": 103,
               "metadata": {},
               "output_type": "execute_result"
            }
         ],
         "source": [
            "optimization_config"
         ]
      },
      {
         "cell_type": "code",
         "execution_count": 106,
         "metadata": {},
         "outputs": [
            {
               "ename": "AttributeError",
               "evalue": "can't set attribute",
               "output_type": "error",
               "traceback": [
                  "\u001b[1;31m---------------------------------------------------------------------------\u001b[0m",
                  "\u001b[1;31mAttributeError\u001b[0m                            Traceback (most recent call last)",
                  "\u001b[1;32m<ipython-input-106-9da5032ddab7>\u001b[0m in \u001b[0;36m<module>\u001b[1;34m\u001b[0m\n\u001b[1;32m----> 1\u001b[1;33m \u001b[0mexp\u001b[0m\u001b[1;33m.\u001b[0m\u001b[0mimmutable_search_space_and_opt_config\u001b[0m \u001b[1;33m=\u001b[0m \u001b[1;32mFalse\u001b[0m\u001b[1;33m\u001b[0m\u001b[1;33m\u001b[0m\u001b[0m\n\u001b[0m",
                  "\u001b[1;31mAttributeError\u001b[0m: can't set attribute"
               ]
            }
         ],
         "source": [
            "exp.immutable_search_space_and_opt_config "
         ]
      },
      {
         "cell_type": "code",
         "execution_count": 108,
         "metadata": {},
         "outputs": [
            {
               "data": {
                  "text/plain": [
                     "MultiObjectiveOptimizationConfig(objective=MultiObjective(objectives=[Objective(metric_name=\"pl_fwhm\", minimize=True), Objective(metric_name=\"pl_intensity\", minimize=False)]), outcome_constraints=[], objective_thresholds=[ObjectiveThreshold(pl_fwhm <= 0.4), ObjectiveThreshold(pl_intensity >= 10)])"
                  ]
               },
               "execution_count": 108,
               "metadata": {},
               "output_type": "execute_result"
            }
         ],
         "source": [
            "exp.optimization_config"
         ]
      },
      {
         "cell_type": "code",
         "execution_count": 109,
         "metadata": {},
         "outputs": [
            {
               "data": {
                  "text/plain": [
                     "MultiObjectiveOptimizationConfig(objective=MultiObjective(objectives=[Objective(metric_name=\"pl_intensity\", minimize=False), Objective(metric_name=\"pl_fwhm\", minimize=True)]), outcome_constraints=[], objective_thresholds=[ObjectiveThreshold(pl_intensity >= 0.4), ObjectiveThreshold(pl_fwhm <= 10)])"
                  ]
               },
               "execution_count": 109,
               "metadata": {},
               "output_type": "execute_result"
            }
         ],
         "source": [
            "optimization_config"
         ]
      },
      {
         "cell_type": "markdown",
         "metadata": {},
         "source": [
            "Runner"
         ]
      },
      {
         "cell_type": "code",
         "execution_count": 31,
         "metadata": {},
         "outputs": [],
         "source": [
            "job_runner = PASCALRunner(queue = job_queue)"
         ]
      },
      {
         "cell_type": "markdown",
         "metadata": {},
         "source": [
            "Experiment"
         ]
      },
      {
         "cell_type": "code",
         "execution_count": 32,
         "metadata": {},
         "outputs": [],
         "source": [
            "exp = Experiment(\n",
            "    name = EXPERIMENT_NAME,\n",
            "    description=EXPERIMENT_DESCRIPTION,\n",
            "    search_space = search_space,\n",
            "    optimization_config=optimization_config,\n",
            "    runner=job_runner,\n",
            ")"
         ]
      },
      {
         "cell_type": "code",
         "execution_count": 33,
         "metadata": {
            "code_folding": [],
            "collapsed": false,
            "executionStartTime": 1639600341052,
            "executionStopTime": 1639600341062,
            "hidden_ranges": [],
            "originalKey": "3fd42376-4487-485d-8d14-2af1e2780153",
            "requestMsgId": "fb1016fa-6e79-4bb5-8a68-4dd8fc82c955"
         },
         "outputs": [
            {
               "name": "stderr",
               "output_type": "stream",
               "text": [
                  "[INFO 04-05 14:58:19] Scheduler: `Scheduler` requires experiment to have immutable search space and optimization config. Setting property immutable_search_space_and_opt_config to `True` on experiment.\n"
               ]
            }
         ],
         "source": [
            "from ax.service.scheduler import Scheduler, SchedulerOptions\n",
            "import logging\n",
            "\n",
            "scheduler = Scheduler(\n",
            "    experiment=exp,\n",
            "    generation_strategy=generation_strategy,\n",
            "    options=SchedulerOptions(\n",
            "        log_filepath = os.path.join(job_queue.experiment_folder, 'ax_scheduler.log'),\n",
            "        logging_level = logging.DEBUG,\n",
            "        max_pending_trials=NUM_SOBOL,\n",
            "        init_seconds_between_polls = 5,\n",
            "        min_seconds_before_poll = 1,\n",
            "        seconds_between_polls_backoff_factor=1\n",
            "    ),\n",
            ")"
         ]
      },
      {
         "cell_type": "code",
         "execution_count": 111,
         "metadata": {},
         "outputs": [],
         "source": [
            "scheduler.generation_strategy = GenerationStrategy(\n",
            "    steps=[\n",
            "        GenerationStep(\n",
            "            model=Models.MOO,\n",
            "            num_trials=-1,  # No limitation on how many trials should be produced from this step\n",
            "            max_parallelism=5,  # Parallelism limit for this step, often lower than for Sobol\n",
            "            # More on parallelism vs. required samples in BayesOpt:\n",
            "            # https://ax.dev/docs/bayesopt.html#tradeoff-between-parallelism-and-total-number-of-trials\n",
            "        ),\n",
            "    ]\n",
            ")"
         ]
      },
      {
         "cell_type": "markdown",
         "metadata": {
            "originalKey": "f8a2cc5b-f289-497b-80b5-6807d85137b5",
            "showInput": false
         },
         "source": [
            "## 5. Running the optimization\n",
            "\n",
            "Once the `Scheduler` instance is set up, user can execute `run_n_trials` as many times as needed, and each execution will add up to the specified `max_trials` trials to the experiment. The number of trials actually run might be less than `max_trials` if the optimization was concluded (e.g. there are no more points in the search space)."
         ]
      },
      {
         "cell_type": "code",
         "execution_count": 112,
         "metadata": {},
         "outputs": [
            {
               "data": {
                  "text/plain": [
                     "defaultdict(set, {<TrialStatus.COMPLETED: 3>: {0, 1, 2, 3, 4, 5, 6, 7}})"
                  ]
               },
               "execution_count": 112,
               "metadata": {},
               "output_type": "execute_result"
            }
         ],
         "source": [
            "exp.runner.poll_trial_status(exp.trials.values())"
         ]
      },
      {
         "cell_type": "code",
         "execution_count": null,
         "metadata": {},
         "outputs": [],
         "source": []
      },
      {
         "cell_type": "code",
         "execution_count": 126,
         "metadata": {},
         "outputs": [
            {
               "name": "stderr",
               "output_type": "stream",
               "text": [
                  "[DEBUG 04-05 17:18:32] ax.modelbridge.generation_strategy: Fitting model with data for trials: [0, 1, 3, 5, 7]\n"
               ]
            },
            {
               "ename": "InputDataError",
               "evalue": "Input data contains NaN values.",
               "output_type": "error",
               "traceback": [
                  "\u001b[1;31m---------------------------------------------------------------------------\u001b[0m",
                  "\u001b[1;31mInputDataError\u001b[0m                            Traceback (most recent call last)",
                  "\u001b[1;32m<ipython-input-126-83827b93e853>\u001b[0m in \u001b[0;36m<module>\u001b[1;34m\u001b[0m\n\u001b[1;32m----> 1\u001b[1;33m \u001b[0mscheduler\u001b[0m\u001b[1;33m.\u001b[0m\u001b[0m_gen_new_trials_from_generation_strategy\u001b[0m\u001b[1;33m(\u001b[0m\u001b[1;36m1\u001b[0m\u001b[1;33m,\u001b[0m \u001b[1;33m{\u001b[0m\u001b[1;33m}\u001b[0m\u001b[1;33m)\u001b[0m\u001b[1;33m\u001b[0m\u001b[1;33m\u001b[0m\u001b[0m\n\u001b[0m",
                  "\u001b[1;32m~\\.conda\\envs\\pascal2\\lib\\site-packages\\ax\\service\\scheduler.py\u001b[0m in \u001b[0;36m_gen_new_trials_from_generation_strategy\u001b[1;34m(self, num_trials, pending)\u001b[0m\n\u001b[0;32m   1275\u001b[0m         \u001b[0minto\u001b[0m \u001b[0maccount\u001b[0m \u001b[0many\u001b[0m\u001b[0;31m \u001b[0m\u001b[0;31m`\u001b[0m\u001b[0;31m`\u001b[0m\u001b[0mpending\u001b[0m\u001b[0;31m`\u001b[0m\u001b[0;31m`\u001b[0m \u001b[0mobservations\u001b[0m\u001b[1;33m.\u001b[0m\u001b[1;33m\u001b[0m\u001b[1;33m\u001b[0m\u001b[0m\n\u001b[0;32m   1276\u001b[0m         \"\"\"\n\u001b[1;32m-> 1277\u001b[1;33m         return self.generation_strategy._gen_multiple(\n\u001b[0m\u001b[0;32m   1278\u001b[0m             \u001b[0mexperiment\u001b[0m\u001b[1;33m=\u001b[0m\u001b[0mself\u001b[0m\u001b[1;33m.\u001b[0m\u001b[0mexperiment\u001b[0m\u001b[1;33m,\u001b[0m\u001b[1;33m\u001b[0m\u001b[1;33m\u001b[0m\u001b[0m\n\u001b[0;32m   1279\u001b[0m             \u001b[0mnum_generator_runs\u001b[0m\u001b[1;33m=\u001b[0m\u001b[0mnum_trials\u001b[0m\u001b[1;33m,\u001b[0m\u001b[1;33m\u001b[0m\u001b[1;33m\u001b[0m\u001b[0m\n",
                  "\u001b[1;32m~\\.conda\\envs\\pascal2\\lib\\site-packages\\ax\\modelbridge\\generation_strategy.py\u001b[0m in \u001b[0;36m_gen_multiple\u001b[1;34m(self, experiment, num_generator_runs, data, n, pending_observations, **kwargs)\u001b[0m\n\u001b[0;32m    451\u001b[0m         \u001b[0mself\u001b[0m\u001b[1;33m.\u001b[0m\u001b[0mexperiment\u001b[0m \u001b[1;33m=\u001b[0m \u001b[0mexperiment\u001b[0m\u001b[1;33m\u001b[0m\u001b[1;33m\u001b[0m\u001b[0m\n\u001b[0;32m    452\u001b[0m         \u001b[0mself\u001b[0m\u001b[1;33m.\u001b[0m\u001b[0m_maybe_move_to_next_step\u001b[0m\u001b[1;33m(\u001b[0m\u001b[1;33m)\u001b[0m\u001b[1;33m\u001b[0m\u001b[1;33m\u001b[0m\u001b[0m\n\u001b[1;32m--> 453\u001b[1;33m         \u001b[0mself\u001b[0m\u001b[1;33m.\u001b[0m\u001b[0m_fit_or_update_current_model\u001b[0m\u001b[1;33m(\u001b[0m\u001b[0mdata\u001b[0m\u001b[1;33m=\u001b[0m\u001b[0mdata\u001b[0m\u001b[1;33m)\u001b[0m\u001b[1;33m\u001b[0m\u001b[1;33m\u001b[0m\u001b[0m\n\u001b[0m\u001b[0;32m    454\u001b[0m \u001b[1;33m\u001b[0m\u001b[0m\n\u001b[0;32m    455\u001b[0m         \u001b[1;31m# Make sure to not make too many generator runs and\u001b[0m\u001b[1;33m\u001b[0m\u001b[1;33m\u001b[0m\u001b[1;33m\u001b[0m\u001b[0m\n",
                  "\u001b[1;32m~\\.conda\\envs\\pascal2\\lib\\site-packages\\ax\\modelbridge\\generation_strategy.py\u001b[0m in \u001b[0;36m_fit_or_update_current_model\u001b[1;34m(self, data)\u001b[0m\n\u001b[0;32m    507\u001b[0m                 \u001b[0mself\u001b[0m\u001b[1;33m.\u001b[0m\u001b[0m_update_current_model\u001b[0m\u001b[1;33m(\u001b[0m\u001b[0mnew_data\u001b[0m\u001b[1;33m=\u001b[0m\u001b[0mnew_data\u001b[0m\u001b[1;33m)\u001b[0m\u001b[1;33m\u001b[0m\u001b[1;33m\u001b[0m\u001b[0m\n\u001b[0;32m    508\u001b[0m         \u001b[1;32melse\u001b[0m\u001b[1;33m:\u001b[0m\u001b[1;33m\u001b[0m\u001b[1;33m\u001b[0m\u001b[0m\n\u001b[1;32m--> 509\u001b[1;33m             \u001b[0mself\u001b[0m\u001b[1;33m.\u001b[0m\u001b[0m_fit_current_model\u001b[0m\u001b[1;33m(\u001b[0m\u001b[0mdata\u001b[0m\u001b[1;33m=\u001b[0m\u001b[0mself\u001b[0m\u001b[1;33m.\u001b[0m\u001b[0m_get_data_for_fit\u001b[0m\u001b[1;33m(\u001b[0m\u001b[0mpassed_in_data\u001b[0m\u001b[1;33m=\u001b[0m\u001b[0mdata\u001b[0m\u001b[1;33m)\u001b[0m\u001b[1;33m)\u001b[0m\u001b[1;33m\u001b[0m\u001b[1;33m\u001b[0m\u001b[0m\n\u001b[0m\u001b[0;32m    510\u001b[0m         \u001b[0mself\u001b[0m\u001b[1;33m.\u001b[0m\u001b[0m_save_seen_trial_indices\u001b[0m\u001b[1;33m(\u001b[0m\u001b[1;33m)\u001b[0m\u001b[1;33m\u001b[0m\u001b[1;33m\u001b[0m\u001b[0m\n\u001b[0;32m    511\u001b[0m \u001b[1;33m\u001b[0m\u001b[0m\n",
                  "\u001b[1;32m~\\.conda\\envs\\pascal2\\lib\\site-packages\\ax\\modelbridge\\generation_strategy.py\u001b[0m in \u001b[0;36m_fit_current_model\u001b[1;34m(self, data)\u001b[0m\n\u001b[0;32m    653\u001b[0m             \u001b[0mlogger\u001b[0m\u001b[1;33m.\u001b[0m\u001b[0mdebug\u001b[0m\u001b[1;33m(\u001b[0m\u001b[1;34mf\"Fitting model with data for trials: {trial_indices_in_data}\"\u001b[0m\u001b[1;33m)\u001b[0m\u001b[1;33m\u001b[0m\u001b[1;33m\u001b[0m\u001b[0m\n\u001b[0;32m    654\u001b[0m \u001b[1;33m\u001b[0m\u001b[0m\n\u001b[1;32m--> 655\u001b[1;33m         \u001b[0mself\u001b[0m\u001b[1;33m.\u001b[0m\u001b[0m_curr\u001b[0m\u001b[1;33m.\u001b[0m\u001b[0mfit\u001b[0m\u001b[1;33m(\u001b[0m\u001b[0mexperiment\u001b[0m\u001b[1;33m=\u001b[0m\u001b[0mself\u001b[0m\u001b[1;33m.\u001b[0m\u001b[0mexperiment\u001b[0m\u001b[1;33m,\u001b[0m \u001b[0mdata\u001b[0m\u001b[1;33m=\u001b[0m\u001b[0mdata\u001b[0m\u001b[1;33m,\u001b[0m \u001b[1;33m**\u001b[0m\u001b[0mmodel_state_on_lgr\u001b[0m\u001b[1;33m)\u001b[0m\u001b[1;33m\u001b[0m\u001b[1;33m\u001b[0m\u001b[0m\n\u001b[0m\u001b[0;32m    656\u001b[0m         \u001b[0mself\u001b[0m\u001b[1;33m.\u001b[0m\u001b[0m_model\u001b[0m \u001b[1;33m=\u001b[0m \u001b[0mself\u001b[0m\u001b[1;33m.\u001b[0m\u001b[0m_curr\u001b[0m\u001b[1;33m.\u001b[0m\u001b[0mmodel_spec\u001b[0m\u001b[1;33m.\u001b[0m\u001b[0mfitted_model\u001b[0m\u001b[1;33m\u001b[0m\u001b[1;33m\u001b[0m\u001b[0m\n\u001b[0;32m    657\u001b[0m \u001b[1;33m\u001b[0m\u001b[0m\n",
                  "\u001b[1;32m~\\.conda\\envs\\pascal2\\lib\\site-packages\\ax\\modelbridge\\generation_node.py\u001b[0m in \u001b[0;36mfit\u001b[1;34m(self, experiment, data, search_space, optimization_config, **kwargs)\u001b[0m\n\u001b[0;32m     72\u001b[0m         \"\"\"\n\u001b[0;32m     73\u001b[0m         \u001b[1;32mfor\u001b[0m \u001b[0mmodel_spec\u001b[0m \u001b[1;32min\u001b[0m \u001b[0mself\u001b[0m\u001b[1;33m.\u001b[0m\u001b[0mmodel_specs\u001b[0m\u001b[1;33m:\u001b[0m\u001b[1;33m\u001b[0m\u001b[1;33m\u001b[0m\u001b[0m\n\u001b[1;32m---> 74\u001b[1;33m             model_spec.fit(  # Stores the fitted model as `model_spec._fitted_model`\n\u001b[0m\u001b[0;32m     75\u001b[0m                 \u001b[0mexperiment\u001b[0m\u001b[1;33m=\u001b[0m\u001b[0mexperiment\u001b[0m\u001b[1;33m,\u001b[0m\u001b[1;33m\u001b[0m\u001b[1;33m\u001b[0m\u001b[0m\n\u001b[0;32m     76\u001b[0m                 \u001b[0mdata\u001b[0m\u001b[1;33m=\u001b[0m\u001b[0mdata\u001b[0m\u001b[1;33m,\u001b[0m\u001b[1;33m\u001b[0m\u001b[1;33m\u001b[0m\u001b[0m\n",
                  "\u001b[1;32m~\\.conda\\envs\\pascal2\\lib\\site-packages\\ax\\modelbridge\\model_spec.py\u001b[0m in \u001b[0;36mfit\u001b[1;34m(self, experiment, data, **model_kwargs)\u001b[0m\n\u001b[0;32m     91\u001b[0m         \u001b[1;31m# `self.model_kwargs`.\u001b[0m\u001b[1;33m\u001b[0m\u001b[1;33m\u001b[0m\u001b[1;33m\u001b[0m\u001b[0m\n\u001b[0;32m     92\u001b[0m         \u001b[0mcombined_model_kwargs\u001b[0m \u001b[1;33m=\u001b[0m \u001b[1;33m{\u001b[0m\u001b[1;33m**\u001b[0m\u001b[1;33m(\u001b[0m\u001b[0mself\u001b[0m\u001b[1;33m.\u001b[0m\u001b[0mmodel_kwargs\u001b[0m \u001b[1;32mor\u001b[0m \u001b[1;33m{\u001b[0m\u001b[1;33m}\u001b[0m\u001b[1;33m)\u001b[0m\u001b[1;33m,\u001b[0m \u001b[1;33m**\u001b[0m\u001b[0mmodel_kwargs\u001b[0m\u001b[1;33m}\u001b[0m\u001b[1;33m\u001b[0m\u001b[1;33m\u001b[0m\u001b[0m\n\u001b[1;32m---> 93\u001b[1;33m         self._fitted_model = self.model_enum(\n\u001b[0m\u001b[0;32m     94\u001b[0m             \u001b[0mexperiment\u001b[0m\u001b[1;33m=\u001b[0m\u001b[0mexperiment\u001b[0m\u001b[1;33m,\u001b[0m\u001b[1;33m\u001b[0m\u001b[1;33m\u001b[0m\u001b[0m\n\u001b[0;32m     95\u001b[0m             \u001b[0mdata\u001b[0m\u001b[1;33m=\u001b[0m\u001b[0mdata\u001b[0m\u001b[1;33m,\u001b[0m\u001b[1;33m\u001b[0m\u001b[1;33m\u001b[0m\u001b[0m\n",
                  "\u001b[1;32m~\\.conda\\envs\\pascal2\\lib\\site-packages\\ax\\modelbridge\\registry.py\u001b[0m in \u001b[0;36m__call__\u001b[1;34m(self, search_space, experiment, data, silently_filter_kwargs, **kwargs)\u001b[0m\n\u001b[0;32m    330\u001b[0m \u001b[1;33m\u001b[0m\u001b[0m\n\u001b[0;32m    331\u001b[0m         \u001b[1;31m# Create model bridge with the consolidated kwargs.\u001b[0m\u001b[1;33m\u001b[0m\u001b[1;33m\u001b[0m\u001b[1;33m\u001b[0m\u001b[0m\n\u001b[1;32m--> 332\u001b[1;33m         model_bridge = bridge_class(\n\u001b[0m\u001b[0;32m    333\u001b[0m             \u001b[0msearch_space\u001b[0m\u001b[1;33m=\u001b[0m\u001b[0msearch_space\u001b[0m \u001b[1;32mor\u001b[0m \u001b[0mnot_none\u001b[0m\u001b[1;33m(\u001b[0m\u001b[0mexperiment\u001b[0m\u001b[1;33m)\u001b[0m\u001b[1;33m.\u001b[0m\u001b[0msearch_space\u001b[0m\u001b[1;33m,\u001b[0m\u001b[1;33m\u001b[0m\u001b[1;33m\u001b[0m\u001b[0m\n\u001b[0;32m    334\u001b[0m             \u001b[0mexperiment\u001b[0m\u001b[1;33m=\u001b[0m\u001b[0mexperiment\u001b[0m\u001b[1;33m,\u001b[0m\u001b[1;33m\u001b[0m\u001b[1;33m\u001b[0m\u001b[0m\n",
                  "\u001b[1;32m~\\.conda\\envs\\pascal2\\lib\\site-packages\\ax\\modelbridge\\multi_objective_torch.py\u001b[0m in \u001b[0;36m__init__\u001b[1;34m(self, experiment, search_space, data, model, transforms, transform_configs, torch_dtype, torch_device, status_quo_name, status_quo_features, optimization_config, fit_out_of_design, objective_thresholds, default_model_gen_options)\u001b[0m\n\u001b[0;32m    101\u001b[0m         \u001b[0moptimization_config\u001b[0m \u001b[1;33m=\u001b[0m \u001b[0mmooc\u001b[0m\u001b[1;33m\u001b[0m\u001b[1;33m\u001b[0m\u001b[0m\n\u001b[0;32m    102\u001b[0m \u001b[1;33m\u001b[0m\u001b[0m\n\u001b[1;32m--> 103\u001b[1;33m         super().__init__(\n\u001b[0m\u001b[0;32m    104\u001b[0m             \u001b[0mexperiment\u001b[0m\u001b[1;33m=\u001b[0m\u001b[0mexperiment\u001b[0m\u001b[1;33m,\u001b[0m\u001b[1;33m\u001b[0m\u001b[1;33m\u001b[0m\u001b[0m\n\u001b[0;32m    105\u001b[0m             \u001b[0msearch_space\u001b[0m\u001b[1;33m=\u001b[0m\u001b[0msearch_space\u001b[0m\u001b[1;33m,\u001b[0m\u001b[1;33m\u001b[0m\u001b[1;33m\u001b[0m\u001b[0m\n",
                  "\u001b[1;32m~\\.conda\\envs\\pascal2\\lib\\site-packages\\ax\\modelbridge\\torch.py\u001b[0m in \u001b[0;36m__init__\u001b[1;34m(self, experiment, search_space, data, model, transforms, transform_configs, torch_dtype, torch_device, status_quo_name, status_quo_features, optimization_config, fit_out_of_design, default_model_gen_options)\u001b[0m\n\u001b[0;32m     67\u001b[0m         \u001b[0mself\u001b[0m\u001b[1;33m.\u001b[0m\u001b[0mdevice\u001b[0m \u001b[1;33m=\u001b[0m \u001b[0mtorch_device\u001b[0m\u001b[1;33m\u001b[0m\u001b[1;33m\u001b[0m\u001b[0m\n\u001b[0;32m     68\u001b[0m         \u001b[0mself\u001b[0m\u001b[1;33m.\u001b[0m\u001b[0m_default_model_gen_options\u001b[0m \u001b[1;33m=\u001b[0m \u001b[0mdefault_model_gen_options\u001b[0m \u001b[1;32mor\u001b[0m \u001b[1;33m{\u001b[0m\u001b[1;33m}\u001b[0m\u001b[1;33m\u001b[0m\u001b[1;33m\u001b[0m\u001b[0m\n\u001b[1;32m---> 69\u001b[1;33m         super().__init__(\n\u001b[0m\u001b[0;32m     70\u001b[0m             \u001b[0mexperiment\u001b[0m\u001b[1;33m=\u001b[0m\u001b[0mexperiment\u001b[0m\u001b[1;33m,\u001b[0m\u001b[1;33m\u001b[0m\u001b[1;33m\u001b[0m\u001b[0m\n\u001b[0;32m     71\u001b[0m             \u001b[0msearch_space\u001b[0m\u001b[1;33m=\u001b[0m\u001b[0msearch_space\u001b[0m\u001b[1;33m,\u001b[0m\u001b[1;33m\u001b[0m\u001b[1;33m\u001b[0m\u001b[0m\n",
                  "\u001b[1;32m~\\.conda\\envs\\pascal2\\lib\\site-packages\\ax\\modelbridge\\base.py\u001b[0m in \u001b[0;36m__init__\u001b[1;34m(self, search_space, model, transforms, experiment, data, transform_configs, status_quo_name, status_quo_features, optimization_config, fit_out_of_design, fit_abandoned)\u001b[0m\n\u001b[0;32m    179\u001b[0m         \u001b[0mself\u001b[0m\u001b[1;33m.\u001b[0m\u001b[0mmodel\u001b[0m \u001b[1;33m=\u001b[0m \u001b[0mmodel\u001b[0m\u001b[1;33m\u001b[0m\u001b[1;33m\u001b[0m\u001b[0m\n\u001b[0;32m    180\u001b[0m         \u001b[1;32mtry\u001b[0m\u001b[1;33m:\u001b[0m\u001b[1;33m\u001b[0m\u001b[1;33m\u001b[0m\u001b[0m\n\u001b[1;32m--> 181\u001b[1;33m             self._fit(\n\u001b[0m\u001b[0;32m    182\u001b[0m                 \u001b[0mmodel\u001b[0m\u001b[1;33m=\u001b[0m\u001b[0mmodel\u001b[0m\u001b[1;33m,\u001b[0m\u001b[1;33m\u001b[0m\u001b[1;33m\u001b[0m\u001b[0m\n\u001b[0;32m    183\u001b[0m                 \u001b[0msearch_space\u001b[0m\u001b[1;33m=\u001b[0m\u001b[0msearch_space\u001b[0m\u001b[1;33m,\u001b[0m\u001b[1;33m\u001b[0m\u001b[1;33m\u001b[0m\u001b[0m\n",
                  "\u001b[1;32m~\\.conda\\envs\\pascal2\\lib\\site-packages\\ax\\modelbridge\\torch.py\u001b[0m in \u001b[0;36m_fit\u001b[1;34m(self, model, search_space, observation_features, observation_data)\u001b[0m\n\u001b[0;32m     99\u001b[0m     ) -> None:  # pragma: no cover\n\u001b[0;32m    100\u001b[0m         \u001b[0mself\u001b[0m\u001b[1;33m.\u001b[0m\u001b[0m_validate_observation_data\u001b[0m\u001b[1;33m(\u001b[0m\u001b[0mobservation_data\u001b[0m\u001b[1;33m)\u001b[0m\u001b[1;33m\u001b[0m\u001b[1;33m\u001b[0m\u001b[0m\n\u001b[1;32m--> 101\u001b[1;33m         super()._fit(\n\u001b[0m\u001b[0;32m    102\u001b[0m             \u001b[0mmodel\u001b[0m\u001b[1;33m=\u001b[0m\u001b[0mmodel\u001b[0m\u001b[1;33m,\u001b[0m\u001b[1;33m\u001b[0m\u001b[1;33m\u001b[0m\u001b[0m\n\u001b[0;32m    103\u001b[0m             \u001b[0msearch_space\u001b[0m\u001b[1;33m=\u001b[0m\u001b[0msearch_space\u001b[0m\u001b[1;33m,\u001b[0m\u001b[1;33m\u001b[0m\u001b[1;33m\u001b[0m\u001b[0m\n",
                  "\u001b[1;32m~\\.conda\\envs\\pascal2\\lib\\site-packages\\ax\\modelbridge\\array.py\u001b[0m in \u001b[0;36m_fit\u001b[1;34m(self, model, search_space, observation_features, observation_data)\u001b[0m\n\u001b[0;32m    100\u001b[0m         )\n\u001b[0;32m    101\u001b[0m         \u001b[1;31m# Fit\u001b[0m\u001b[1;33m\u001b[0m\u001b[1;33m\u001b[0m\u001b[1;33m\u001b[0m\u001b[0m\n\u001b[1;32m--> 102\u001b[1;33m         self._model_fit(\n\u001b[0m\u001b[0;32m    103\u001b[0m             \u001b[0mmodel\u001b[0m\u001b[1;33m=\u001b[0m\u001b[0mmodel\u001b[0m\u001b[1;33m,\u001b[0m\u001b[1;33m\u001b[0m\u001b[1;33m\u001b[0m\u001b[0m\n\u001b[0;32m    104\u001b[0m             \u001b[0mXs\u001b[0m\u001b[1;33m=\u001b[0m\u001b[0mXs_array\u001b[0m\u001b[1;33m,\u001b[0m\u001b[1;33m\u001b[0m\u001b[1;33m\u001b[0m\u001b[0m\n",
                  "\u001b[1;32m~\\.conda\\envs\\pascal2\\lib\\site-packages\\ax\\modelbridge\\torch.py\u001b[0m in \u001b[0;36m_model_fit\u001b[1;34m(self, model, Xs, Ys, Yvars, search_space_digest, metric_names, candidate_metadata)\u001b[0m\n\u001b[0;32m    165\u001b[0m         \u001b[0mYvars\u001b[0m\u001b[1;33m:\u001b[0m \u001b[0mList\u001b[0m\u001b[1;33m[\u001b[0m\u001b[0mTensor\u001b[0m\u001b[1;33m]\u001b[0m \u001b[1;33m=\u001b[0m \u001b[0mself\u001b[0m\u001b[1;33m.\u001b[0m\u001b[0m_array_list_to_tensors\u001b[0m\u001b[1;33m(\u001b[0m\u001b[0mYvars\u001b[0m\u001b[1;33m)\u001b[0m\u001b[1;33m\u001b[0m\u001b[1;33m\u001b[0m\u001b[0m\n\u001b[0;32m    166\u001b[0m         \u001b[1;31m# pyre-fixme[16]: `Optional` has no attribute `fit`.\u001b[0m\u001b[1;33m\u001b[0m\u001b[1;33m\u001b[0m\u001b[1;33m\u001b[0m\u001b[0m\n\u001b[1;32m--> 167\u001b[1;33m         self.model.fit(\n\u001b[0m\u001b[0;32m    168\u001b[0m             \u001b[0mXs\u001b[0m\u001b[1;33m=\u001b[0m\u001b[0mXs\u001b[0m\u001b[1;33m,\u001b[0m\u001b[1;33m\u001b[0m\u001b[1;33m\u001b[0m\u001b[0m\n\u001b[0;32m    169\u001b[0m             \u001b[0mYs\u001b[0m\u001b[1;33m=\u001b[0m\u001b[0mYs\u001b[0m\u001b[1;33m,\u001b[0m\u001b[1;33m\u001b[0m\u001b[1;33m\u001b[0m\u001b[0m\n",
                  "\u001b[1;32m~\\.conda\\envs\\pascal2\\lib\\site-packages\\ax\\models\\torch\\botorch.py\u001b[0m in \u001b[0;36mfit\u001b[1;34m(self, Xs, Ys, Yvars, search_space_digest, metric_names, candidate_metadata)\u001b[0m\n\u001b[0;32m    293\u001b[0m         )\n\u001b[0;32m    294\u001b[0m         \u001b[0mself\u001b[0m\u001b[1;33m.\u001b[0m\u001b[0mmetric_names\u001b[0m \u001b[1;33m=\u001b[0m \u001b[0mmetric_names\u001b[0m\u001b[1;33m\u001b[0m\u001b[1;33m\u001b[0m\u001b[0m\n\u001b[1;32m--> 295\u001b[1;33m         self.model = self.model_constructor(  # pyre-ignore [28]\n\u001b[0m\u001b[0;32m    296\u001b[0m             \u001b[0mXs\u001b[0m\u001b[1;33m=\u001b[0m\u001b[0mXs\u001b[0m\u001b[1;33m,\u001b[0m\u001b[1;33m\u001b[0m\u001b[1;33m\u001b[0m\u001b[0m\n\u001b[0;32m    297\u001b[0m             \u001b[0mYs\u001b[0m\u001b[1;33m=\u001b[0m\u001b[0mYs\u001b[0m\u001b[1;33m,\u001b[0m\u001b[1;33m\u001b[0m\u001b[1;33m\u001b[0m\u001b[0m\n",
                  "\u001b[1;32m~\\.conda\\envs\\pascal2\\lib\\site-packages\\ax\\models\\torch\\botorch_defaults.py\u001b[0m in \u001b[0;36mget_and_fit_model\u001b[1;34m(Xs, Ys, Yvars, task_features, fidelity_features, metric_names, state_dict, refit_model, use_input_warping, use_loocv_pseudo_likelihood, **kwargs)\u001b[0m\n\u001b[0;32m    120\u001b[0m             \u001b[0mY\u001b[0m \u001b[1;33m=\u001b[0m \u001b[0mtorch\u001b[0m\u001b[1;33m.\u001b[0m\u001b[0mcat\u001b[0m\u001b[1;33m(\u001b[0m\u001b[0mYs\u001b[0m\u001b[1;33m,\u001b[0m \u001b[0mdim\u001b[0m\u001b[1;33m=\u001b[0m\u001b[1;33m-\u001b[0m\u001b[1;36m1\u001b[0m\u001b[1;33m)\u001b[0m\u001b[1;33m\u001b[0m\u001b[1;33m\u001b[0m\u001b[0m\n\u001b[0;32m    121\u001b[0m             \u001b[0mYvar\u001b[0m \u001b[1;33m=\u001b[0m \u001b[0mtorch\u001b[0m\u001b[1;33m.\u001b[0m\u001b[0mcat\u001b[0m\u001b[1;33m(\u001b[0m\u001b[0mYvars\u001b[0m\u001b[1;33m,\u001b[0m \u001b[0mdim\u001b[0m\u001b[1;33m=\u001b[0m\u001b[1;33m-\u001b[0m\u001b[1;36m1\u001b[0m\u001b[1;33m)\u001b[0m\u001b[1;33m\u001b[0m\u001b[1;33m\u001b[0m\u001b[0m\n\u001b[1;32m--> 122\u001b[1;33m             model = _get_model(\n\u001b[0m\u001b[0;32m    123\u001b[0m                 \u001b[0mX\u001b[0m\u001b[1;33m=\u001b[0m\u001b[0mXs\u001b[0m\u001b[1;33m[\u001b[0m\u001b[1;36m0\u001b[0m\u001b[1;33m]\u001b[0m\u001b[1;33m,\u001b[0m\u001b[1;33m\u001b[0m\u001b[1;33m\u001b[0m\u001b[0m\n\u001b[0;32m    124\u001b[0m                 \u001b[0mY\u001b[0m\u001b[1;33m=\u001b[0m\u001b[0mY\u001b[0m\u001b[1;33m,\u001b[0m\u001b[1;33m\u001b[0m\u001b[1;33m\u001b[0m\u001b[0m\n",
                  "\u001b[1;32m~\\.conda\\envs\\pascal2\\lib\\site-packages\\ax\\models\\torch\\botorch_defaults.py\u001b[0m in \u001b[0;36m_get_model\u001b[1;34m(X, Y, Yvar, task_feature, fidelity_features, use_input_warping, **kwargs)\u001b[0m\n\u001b[0;32m    577\u001b[0m         )\n\u001b[0;32m    578\u001b[0m     \u001b[1;32melif\u001b[0m \u001b[0mtask_feature\u001b[0m \u001b[1;32mis\u001b[0m \u001b[1;32mNone\u001b[0m \u001b[1;32mand\u001b[0m \u001b[0mall_nan_Yvar\u001b[0m\u001b[1;33m:\u001b[0m\u001b[1;33m\u001b[0m\u001b[1;33m\u001b[0m\u001b[0m\n\u001b[1;32m--> 579\u001b[1;33m         \u001b[0mgp\u001b[0m \u001b[1;33m=\u001b[0m \u001b[0mSingleTaskGP\u001b[0m\u001b[1;33m(\u001b[0m\u001b[0mtrain_X\u001b[0m\u001b[1;33m=\u001b[0m\u001b[0mX\u001b[0m\u001b[1;33m,\u001b[0m \u001b[0mtrain_Y\u001b[0m\u001b[1;33m=\u001b[0m\u001b[0mY\u001b[0m\u001b[1;33m,\u001b[0m \u001b[0minput_transform\u001b[0m\u001b[1;33m=\u001b[0m\u001b[0mwarp_tf\u001b[0m\u001b[1;33m,\u001b[0m \u001b[1;33m**\u001b[0m\u001b[0mkwargs\u001b[0m\u001b[1;33m)\u001b[0m\u001b[1;33m\u001b[0m\u001b[1;33m\u001b[0m\u001b[0m\n\u001b[0m\u001b[0;32m    580\u001b[0m     \u001b[1;32melif\u001b[0m \u001b[0mtask_feature\u001b[0m \u001b[1;32mis\u001b[0m \u001b[1;32mNone\u001b[0m\u001b[1;33m:\u001b[0m\u001b[1;33m\u001b[0m\u001b[1;33m\u001b[0m\u001b[0m\n\u001b[0;32m    581\u001b[0m         gp = FixedNoiseGP(\n",
                  "\u001b[1;32m~\\.conda\\envs\\pascal2\\lib\\site-packages\\botorch\\models\\gp_regression.py\u001b[0m in \u001b[0;36m__init__\u001b[1;34m(self, train_X, train_Y, likelihood, covar_module, outcome_transform, input_transform)\u001b[0m\n\u001b[0;32m    100\u001b[0m         \u001b[0mself\u001b[0m\u001b[1;33m.\u001b[0m\u001b[0m_validate_tensor_args\u001b[0m\u001b[1;33m(\u001b[0m\u001b[0mX\u001b[0m\u001b[1;33m=\u001b[0m\u001b[0mtransformed_X\u001b[0m\u001b[1;33m,\u001b[0m \u001b[0mY\u001b[0m\u001b[1;33m=\u001b[0m\u001b[0mtrain_Y\u001b[0m\u001b[1;33m)\u001b[0m\u001b[1;33m\u001b[0m\u001b[1;33m\u001b[0m\u001b[0m\n\u001b[0;32m    101\u001b[0m         \u001b[0mignore_X_dims\u001b[0m \u001b[1;33m=\u001b[0m \u001b[0mgetattr\u001b[0m\u001b[1;33m(\u001b[0m\u001b[0mself\u001b[0m\u001b[1;33m,\u001b[0m \u001b[1;34m\"_ignore_X_dims_scaling_check\"\u001b[0m\u001b[1;33m,\u001b[0m \u001b[1;32mNone\u001b[0m\u001b[1;33m)\u001b[0m\u001b[1;33m\u001b[0m\u001b[1;33m\u001b[0m\u001b[0m\n\u001b[1;32m--> 102\u001b[1;33m         validate_input_scaling(\n\u001b[0m\u001b[0;32m    103\u001b[0m             \u001b[0mtrain_X\u001b[0m\u001b[1;33m=\u001b[0m\u001b[0mtransformed_X\u001b[0m\u001b[1;33m,\u001b[0m \u001b[0mtrain_Y\u001b[0m\u001b[1;33m=\u001b[0m\u001b[0mtrain_Y\u001b[0m\u001b[1;33m,\u001b[0m \u001b[0mignore_X_dims\u001b[0m\u001b[1;33m=\u001b[0m\u001b[0mignore_X_dims\u001b[0m\u001b[1;33m\u001b[0m\u001b[1;33m\u001b[0m\u001b[0m\n\u001b[0;32m    104\u001b[0m         )\n",
                  "\u001b[1;32m~\\.conda\\envs\\pascal2\\lib\\site-packages\\botorch\\models\\utils.py\u001b[0m in \u001b[0;36mvalidate_input_scaling\u001b[1;34m(train_X, train_Y, train_Yvar, raise_on_fail, ignore_X_dims)\u001b[0m\n\u001b[0;32m    237\u001b[0m         \u001b[1;32mreturn\u001b[0m\u001b[1;33m\u001b[0m\u001b[1;33m\u001b[0m\u001b[0m\n\u001b[0;32m    238\u001b[0m     \u001b[0mcheck_no_nans\u001b[0m\u001b[1;33m(\u001b[0m\u001b[0mtrain_X\u001b[0m\u001b[1;33m)\u001b[0m\u001b[1;33m\u001b[0m\u001b[1;33m\u001b[0m\u001b[0m\n\u001b[1;32m--> 239\u001b[1;33m     \u001b[0mcheck_no_nans\u001b[0m\u001b[1;33m(\u001b[0m\u001b[0mtrain_Y\u001b[0m\u001b[1;33m)\u001b[0m\u001b[1;33m\u001b[0m\u001b[1;33m\u001b[0m\u001b[0m\n\u001b[0m\u001b[0;32m    240\u001b[0m     \u001b[1;32mif\u001b[0m \u001b[0mtrain_Yvar\u001b[0m \u001b[1;32mis\u001b[0m \u001b[1;32mnot\u001b[0m \u001b[1;32mNone\u001b[0m\u001b[1;33m:\u001b[0m\u001b[1;33m\u001b[0m\u001b[1;33m\u001b[0m\u001b[0m\n\u001b[0;32m    241\u001b[0m         \u001b[0mcheck_no_nans\u001b[0m\u001b[1;33m(\u001b[0m\u001b[0mtrain_Yvar\u001b[0m\u001b[1;33m)\u001b[0m\u001b[1;33m\u001b[0m\u001b[1;33m\u001b[0m\u001b[0m\n",
                  "\u001b[1;32m~\\.conda\\envs\\pascal2\\lib\\site-packages\\botorch\\models\\utils.py\u001b[0m in \u001b[0;36mcheck_no_nans\u001b[1;34m(Z)\u001b[0m\n\u001b[0;32m    130\u001b[0m     \"\"\"\n\u001b[0;32m    131\u001b[0m     \u001b[1;32mif\u001b[0m \u001b[0mtorch\u001b[0m\u001b[1;33m.\u001b[0m\u001b[0many\u001b[0m\u001b[1;33m(\u001b[0m\u001b[0mtorch\u001b[0m\u001b[1;33m.\u001b[0m\u001b[0misnan\u001b[0m\u001b[1;33m(\u001b[0m\u001b[0mZ\u001b[0m\u001b[1;33m)\u001b[0m\u001b[1;33m)\u001b[0m\u001b[1;33m.\u001b[0m\u001b[0mitem\u001b[0m\u001b[1;33m(\u001b[0m\u001b[1;33m)\u001b[0m\u001b[1;33m:\u001b[0m\u001b[1;33m\u001b[0m\u001b[1;33m\u001b[0m\u001b[0m\n\u001b[1;32m--> 132\u001b[1;33m         \u001b[1;32mraise\u001b[0m \u001b[0mInputDataError\u001b[0m\u001b[1;33m(\u001b[0m\u001b[1;34m\"Input data contains NaN values.\"\u001b[0m\u001b[1;33m)\u001b[0m\u001b[1;33m\u001b[0m\u001b[1;33m\u001b[0m\u001b[0m\n\u001b[0m\u001b[0;32m    133\u001b[0m \u001b[1;33m\u001b[0m\u001b[0m\n\u001b[0;32m    134\u001b[0m \u001b[1;33m\u001b[0m\u001b[0m\n",
                  "\u001b[1;31mInputDataError\u001b[0m: Input data contains NaN values."
               ]
            }
         ],
         "source": [
            "scheduler._"
         ]
      },
      {
         "cell_type": "code",
         "execution_count": 117,
         "metadata": {},
         "outputs": [
            {
               "name": "stderr",
               "output_type": "stream",
               "text": [
                  "[INFO 04-05 17:16:21] ax.core.experiment: Attached data has some metrics ({'pl_fhwm'}) that are not among the metrics on this experiment. Note that attaching data will not automatically add those metrics to the experiment. For these metrics to be automatically fetched by `experiment.fetch_data`, add them via `experiment.add_tracking_metric` or update the experiment's optimization config.\n",
                  "[INFO 04-05 17:16:21] ax.core.experiment: Attached data has some metrics ({'pl_fhwm'}) that are not among the metrics on this experiment. Note that attaching data will not automatically add those metrics to the experiment. For these metrics to be automatically fetched by `experiment.fetch_data`, add them via `experiment.add_tracking_metric` or update the experiment's optimization config.\n",
                  "[INFO 04-05 17:16:21] ax.core.experiment: Attached data has some metrics ({'pl_fhwm'}) that are not among the metrics on this experiment. Note that attaching data will not automatically add those metrics to the experiment. For these metrics to be automatically fetched by `experiment.fetch_data`, add them via `experiment.add_tracking_metric` or update the experiment's optimization config.\n",
                  "[INFO 04-05 17:16:21] ax.core.experiment: Attached data has some metrics ({'pl_fhwm'}) that are not among the metrics on this experiment. Note that attaching data will not automatically add those metrics to the experiment. For these metrics to be automatically fetched by `experiment.fetch_data`, add them via `experiment.add_tracking_metric` or update the experiment's optimization config.\n",
                  "[INFO 04-05 17:16:21] ax.core.experiment: Attached data has some metrics ({'pl_fhwm'}) that are not among the metrics on this experiment. Note that attaching data will not automatically add those metrics to the experiment. For these metrics to be automatically fetched by `experiment.fetch_data`, add them via `experiment.add_tracking_metric` or update the experiment's optimization config.\n"
               ]
            },
            {
               "data": {
                  "text/html": [
                     "<div>\n",
                     "<style scoped>\n",
                     "    .dataframe tbody tr th:only-of-type {\n",
                     "        vertical-align: middle;\n",
                     "    }\n",
                     "\n",
                     "    .dataframe tbody tr th {\n",
                     "        vertical-align: top;\n",
                     "    }\n",
                     "\n",
                     "    .dataframe thead th {\n",
                     "        text-align: right;\n",
                     "    }\n",
                     "</style>\n",
                     "<table border=\"1\" class=\"dataframe\">\n",
                     "  <thead>\n",
                     "    <tr style=\"text-align: right;\">\n",
                     "      <th></th>\n",
                     "      <th>arm_name</th>\n",
                     "      <th>metric_name</th>\n",
                     "      <th>mean</th>\n",
                     "      <th>sem</th>\n",
                     "      <th>trial_index</th>\n",
                     "    </tr>\n",
                     "  </thead>\n",
                     "  <tbody>\n",
                     "    <tr>\n",
                     "      <th>0</th>\n",
                     "      <td>0_0</td>\n",
                     "      <td>pl_intensity</td>\n",
                     "      <td>118.940688</td>\n",
                     "      <td>NaN</td>\n",
                     "      <td>0</td>\n",
                     "    </tr>\n",
                     "    <tr>\n",
                     "      <th>1</th>\n",
                     "      <td>1_0</td>\n",
                     "      <td>pl_intensity</td>\n",
                     "      <td>43.518609</td>\n",
                     "      <td>NaN</td>\n",
                     "      <td>1</td>\n",
                     "    </tr>\n",
                     "    <tr>\n",
                     "      <th>2</th>\n",
                     "      <td>3_0</td>\n",
                     "      <td>pl_intensity</td>\n",
                     "      <td>37.917029</td>\n",
                     "      <td>NaN</td>\n",
                     "      <td>3</td>\n",
                     "    </tr>\n",
                     "    <tr>\n",
                     "      <th>3</th>\n",
                     "      <td>5_0</td>\n",
                     "      <td>pl_intensity</td>\n",
                     "      <td>11.843146</td>\n",
                     "      <td>NaN</td>\n",
                     "      <td>5</td>\n",
                     "    </tr>\n",
                     "    <tr>\n",
                     "      <th>4</th>\n",
                     "      <td>7_0</td>\n",
                     "      <td>pl_intensity</td>\n",
                     "      <td>24.789821</td>\n",
                     "      <td>NaN</td>\n",
                     "      <td>7</td>\n",
                     "    </tr>\n",
                     "  </tbody>\n",
                     "</table>\n",
                     "</div>"
                  ],
                  "text/plain": [
                     "  arm_name   metric_name        mean  sem  trial_index\n",
                     "0      0_0  pl_intensity  118.940688  NaN            0\n",
                     "1      1_0  pl_intensity   43.518609  NaN            1\n",
                     "2      3_0  pl_intensity   37.917029  NaN            3\n",
                     "3      5_0  pl_intensity   11.843146  NaN            5\n",
                     "4      7_0  pl_intensity   24.789821  NaN            7"
                  ]
               },
               "execution_count": 117,
               "metadata": {},
               "output_type": "execute_result"
            }
         ],
         "source": [
            "scheduler.experiment.fetch_data().df"
         ]
      },
      {
         "cell_type": "code",
         "execution_count": 113,
         "metadata": {
            "collapsed": false,
            "executionStartTime": 1639600341077,
            "executionStopTime": 1639600344167,
            "originalKey": "886a04c1-792c-4a98-ab81-ee8bca3ba5f9",
            "requestMsgId": "a9fb4890-0c48-4d43-b788-26c3163b8bb9"
         },
         "outputs": [
            {
               "name": "stderr",
               "output_type": "stream",
               "text": [
                  "[DEBUG 04-05 17:14:03] ax.modelbridge.generation_strategy: Fitting model with data for trials: [0, 1, 3, 5, 7]\n"
               ]
            },
            {
               "ename": "InputDataError",
               "evalue": "Input data contains NaN values.",
               "output_type": "error",
               "traceback": [
                  "\u001b[1;31m---------------------------------------------------------------------------\u001b[0m",
                  "\u001b[1;31mInputDataError\u001b[0m                            Traceback (most recent call last)",
                  "\u001b[1;32m<ipython-input-113-9fd75e9b0a3b>\u001b[0m in \u001b[0;36m<module>\u001b[1;34m\u001b[0m\n\u001b[1;32m----> 1\u001b[1;33m \u001b[0mscheduler\u001b[0m\u001b[1;33m.\u001b[0m\u001b[0mrun_n_trials\u001b[0m\u001b[1;33m(\u001b[0m\u001b[0mmax_trials\u001b[0m\u001b[1;33m=\u001b[0m\u001b[1;36m25\u001b[0m\u001b[1;33m)\u001b[0m\u001b[1;33m\u001b[0m\u001b[1;33m\u001b[0m\u001b[0m\n\u001b[0m",
                  "\u001b[1;32m~\\.conda\\envs\\pascal2\\lib\\site-packages\\ax\\service\\scheduler.py\u001b[0m in \u001b[0;36mrun_n_trials\u001b[1;34m(self, max_trials, timeout_hours)\u001b[0m\n\u001b[0;32m    835\u001b[0m                 \u001b[0moptimization\u001b[0m \u001b[0mwill\u001b[0m \u001b[0mabort\u001b[0m \u001b[0meven\u001b[0m \u001b[1;32mif\u001b[0m \u001b[0mcompleton\u001b[0m \u001b[0mcriterion\u001b[0m \u001b[1;32mis\u001b[0m \u001b[1;32mnot\u001b[0m \u001b[0myet\u001b[0m \u001b[0mreached\u001b[0m\u001b[1;33m.\u001b[0m\u001b[1;33m\u001b[0m\u001b[1;33m\u001b[0m\u001b[0m\n\u001b[0;32m    836\u001b[0m         \"\"\"\n\u001b[1;32m--> 837\u001b[1;33m         for _ in self.run_trials_and_yield_results(\n\u001b[0m\u001b[0;32m    838\u001b[0m             \u001b[0mmax_trials\u001b[0m\u001b[1;33m=\u001b[0m\u001b[0mmax_trials\u001b[0m\u001b[1;33m,\u001b[0m \u001b[0mtimeout_hours\u001b[0m\u001b[1;33m=\u001b[0m\u001b[0mtimeout_hours\u001b[0m\u001b[1;33m\u001b[0m\u001b[1;33m\u001b[0m\u001b[0m\n\u001b[0;32m    839\u001b[0m         ):\n",
                  "\u001b[1;32m~\\.conda\\envs\\pascal2\\lib\\site-packages\\ax\\service\\scheduler.py\u001b[0m in \u001b[0;36mrun_trials_and_yield_results\u001b[1;34m(self, max_trials, timeout_hours)\u001b[0m\n\u001b[0;32m    785\u001b[0m             \u001b[1;31m# Also check that `max_trials` is not reached to not exceed it.\u001b[0m\u001b[1;33m\u001b[0m\u001b[1;33m\u001b[0m\u001b[1;33m\u001b[0m\u001b[0m\n\u001b[0;32m    786\u001b[0m             \u001b[0mn_remaining_to_generate\u001b[0m \u001b[1;33m=\u001b[0m \u001b[0mn_remaining_to_run\u001b[0m \u001b[1;33m-\u001b[0m \u001b[0mlen\u001b[0m\u001b[1;33m(\u001b[0m\u001b[0mself\u001b[0m\u001b[1;33m.\u001b[0m\u001b[0mcandidate_trials\u001b[0m\u001b[1;33m)\u001b[0m\u001b[1;33m\u001b[0m\u001b[1;33m\u001b[0m\u001b[0m\n\u001b[1;32m--> 787\u001b[1;33m             while n_remaining_to_run > 0 and self.run(\n\u001b[0m\u001b[0;32m    788\u001b[0m                 \u001b[0mmax_new_trials\u001b[0m\u001b[1;33m=\u001b[0m\u001b[0mn_remaining_to_generate\u001b[0m\u001b[1;33m\u001b[0m\u001b[1;33m\u001b[0m\u001b[0m\n\u001b[0;32m    789\u001b[0m             ):\n",
                  "\u001b[1;32m~\\.conda\\envs\\pascal2\\lib\\site-packages\\ax\\service\\scheduler.py\u001b[0m in \u001b[0;36mrun\u001b[1;34m(self, max_new_trials)\u001b[0m\n\u001b[0;32m    895\u001b[0m         \u001b[1;31m# trials as possible, limited by capacity and model requirements.\u001b[0m\u001b[1;33m\u001b[0m\u001b[1;33m\u001b[0m\u001b[1;33m\u001b[0m\u001b[0m\n\u001b[0;32m    896\u001b[0m         \u001b[0mself\u001b[0m\u001b[1;33m.\u001b[0m\u001b[0m_sleep_if_too_early_to_poll\u001b[0m\u001b[1;33m(\u001b[0m\u001b[1;33m)\u001b[0m\u001b[1;33m\u001b[0m\u001b[1;33m\u001b[0m\u001b[0m\n\u001b[1;32m--> 897\u001b[1;33m         existing_trials, new_trials = self._prepare_trials(\n\u001b[0m\u001b[0;32m    898\u001b[0m             \u001b[0mmax_new_trials\u001b[0m\u001b[1;33m=\u001b[0m\u001b[0mmax_new_trials\u001b[0m\u001b[1;33m\u001b[0m\u001b[1;33m\u001b[0m\u001b[0m\n\u001b[0;32m    899\u001b[0m         )\n",
                  "\u001b[1;32m~\\.conda\\envs\\pascal2\\lib\\site-packages\\ax\\service\\scheduler.py\u001b[0m in \u001b[0;36m_prepare_trials\u001b[1;34m(self, max_new_trials)\u001b[0m\n\u001b[0;32m   1202\u001b[0m         \u001b[0mexisting_candidate_trials\u001b[0m \u001b[1;33m=\u001b[0m \u001b[0mself\u001b[0m\u001b[1;33m.\u001b[0m\u001b[0mcandidate_trials\u001b[0m\u001b[1;33m[\u001b[0m\u001b[1;33m:\u001b[0m\u001b[0mn\u001b[0m\u001b[1;33m]\u001b[0m\u001b[1;33m\u001b[0m\u001b[1;33m\u001b[0m\u001b[0m\n\u001b[0;32m   1203\u001b[0m         \u001b[0mn_new\u001b[0m \u001b[1;33m=\u001b[0m \u001b[0mmin\u001b[0m\u001b[1;33m(\u001b[0m\u001b[0mn\u001b[0m \u001b[1;33m-\u001b[0m \u001b[0mlen\u001b[0m\u001b[1;33m(\u001b[0m\u001b[0mexisting_candidate_trials\u001b[0m\u001b[1;33m)\u001b[0m\u001b[1;33m,\u001b[0m \u001b[0mmax_new_trials\u001b[0m\u001b[1;33m)\u001b[0m\u001b[1;33m\u001b[0m\u001b[1;33m\u001b[0m\u001b[0m\n\u001b[1;32m-> 1204\u001b[1;33m         \u001b[0mnew_trials\u001b[0m \u001b[1;33m=\u001b[0m \u001b[0mself\u001b[0m\u001b[1;33m.\u001b[0m\u001b[0m_get_next_trials\u001b[0m\u001b[1;33m(\u001b[0m\u001b[0mnum_trials\u001b[0m\u001b[1;33m=\u001b[0m\u001b[0mn_new\u001b[0m\u001b[1;33m)\u001b[0m \u001b[1;32mif\u001b[0m \u001b[0mn_new\u001b[0m \u001b[1;33m>\u001b[0m \u001b[1;36m0\u001b[0m \u001b[1;32melse\u001b[0m \u001b[1;33m[\u001b[0m\u001b[1;33m]\u001b[0m\u001b[1;33m\u001b[0m\u001b[1;33m\u001b[0m\u001b[0m\n\u001b[0m\u001b[0;32m   1205\u001b[0m         \u001b[1;32mreturn\u001b[0m \u001b[0mexisting_candidate_trials\u001b[0m\u001b[1;33m,\u001b[0m \u001b[0mnew_trials\u001b[0m\u001b[1;33m\u001b[0m\u001b[1;33m\u001b[0m\u001b[0m\n\u001b[0;32m   1206\u001b[0m \u001b[1;33m\u001b[0m\u001b[0m\n",
                  "\u001b[1;32m~\\.conda\\envs\\pascal2\\lib\\site-packages\\ax\\service\\scheduler.py\u001b[0m in \u001b[0;36m_get_next_trials\u001b[1;34m(self, num_trials)\u001b[0m\n\u001b[0;32m   1220\u001b[0m         )\n\u001b[0;32m   1221\u001b[0m         \u001b[1;32mtry\u001b[0m\u001b[1;33m:\u001b[0m\u001b[1;33m\u001b[0m\u001b[1;33m\u001b[0m\u001b[0m\n\u001b[1;32m-> 1222\u001b[1;33m             generator_runs = self._gen_new_trials_from_generation_strategy(\n\u001b[0m\u001b[0;32m   1223\u001b[0m                 \u001b[0mnum_trials\u001b[0m\u001b[1;33m=\u001b[0m\u001b[0mnum_trials\u001b[0m\u001b[1;33m,\u001b[0m \u001b[0mpending\u001b[0m\u001b[1;33m=\u001b[0m\u001b[0mpending\u001b[0m\u001b[1;33m\u001b[0m\u001b[1;33m\u001b[0m\u001b[0m\n\u001b[0;32m   1224\u001b[0m             )\n",
                  "\u001b[1;32m~\\.conda\\envs\\pascal2\\lib\\site-packages\\ax\\service\\scheduler.py\u001b[0m in \u001b[0;36m_gen_new_trials_from_generation_strategy\u001b[1;34m(self, num_trials, pending)\u001b[0m\n\u001b[0;32m   1275\u001b[0m         \u001b[0minto\u001b[0m \u001b[0maccount\u001b[0m \u001b[0many\u001b[0m\u001b[0;31m \u001b[0m\u001b[0;31m`\u001b[0m\u001b[0;31m`\u001b[0m\u001b[0mpending\u001b[0m\u001b[0;31m`\u001b[0m\u001b[0;31m`\u001b[0m \u001b[0mobservations\u001b[0m\u001b[1;33m.\u001b[0m\u001b[1;33m\u001b[0m\u001b[1;33m\u001b[0m\u001b[0m\n\u001b[0;32m   1276\u001b[0m         \"\"\"\n\u001b[1;32m-> 1277\u001b[1;33m         return self.generation_strategy._gen_multiple(\n\u001b[0m\u001b[0;32m   1278\u001b[0m             \u001b[0mexperiment\u001b[0m\u001b[1;33m=\u001b[0m\u001b[0mself\u001b[0m\u001b[1;33m.\u001b[0m\u001b[0mexperiment\u001b[0m\u001b[1;33m,\u001b[0m\u001b[1;33m\u001b[0m\u001b[1;33m\u001b[0m\u001b[0m\n\u001b[0;32m   1279\u001b[0m             \u001b[0mnum_generator_runs\u001b[0m\u001b[1;33m=\u001b[0m\u001b[0mnum_trials\u001b[0m\u001b[1;33m,\u001b[0m\u001b[1;33m\u001b[0m\u001b[1;33m\u001b[0m\u001b[0m\n",
                  "\u001b[1;32m~\\.conda\\envs\\pascal2\\lib\\site-packages\\ax\\modelbridge\\generation_strategy.py\u001b[0m in \u001b[0;36m_gen_multiple\u001b[1;34m(self, experiment, num_generator_runs, data, n, pending_observations, **kwargs)\u001b[0m\n\u001b[0;32m    451\u001b[0m         \u001b[0mself\u001b[0m\u001b[1;33m.\u001b[0m\u001b[0mexperiment\u001b[0m \u001b[1;33m=\u001b[0m \u001b[0mexperiment\u001b[0m\u001b[1;33m\u001b[0m\u001b[1;33m\u001b[0m\u001b[0m\n\u001b[0;32m    452\u001b[0m         \u001b[0mself\u001b[0m\u001b[1;33m.\u001b[0m\u001b[0m_maybe_move_to_next_step\u001b[0m\u001b[1;33m(\u001b[0m\u001b[1;33m)\u001b[0m\u001b[1;33m\u001b[0m\u001b[1;33m\u001b[0m\u001b[0m\n\u001b[1;32m--> 453\u001b[1;33m         \u001b[0mself\u001b[0m\u001b[1;33m.\u001b[0m\u001b[0m_fit_or_update_current_model\u001b[0m\u001b[1;33m(\u001b[0m\u001b[0mdata\u001b[0m\u001b[1;33m=\u001b[0m\u001b[0mdata\u001b[0m\u001b[1;33m)\u001b[0m\u001b[1;33m\u001b[0m\u001b[1;33m\u001b[0m\u001b[0m\n\u001b[0m\u001b[0;32m    454\u001b[0m \u001b[1;33m\u001b[0m\u001b[0m\n\u001b[0;32m    455\u001b[0m         \u001b[1;31m# Make sure to not make too many generator runs and\u001b[0m\u001b[1;33m\u001b[0m\u001b[1;33m\u001b[0m\u001b[1;33m\u001b[0m\u001b[0m\n",
                  "\u001b[1;32m~\\.conda\\envs\\pascal2\\lib\\site-packages\\ax\\modelbridge\\generation_strategy.py\u001b[0m in \u001b[0;36m_fit_or_update_current_model\u001b[1;34m(self, data)\u001b[0m\n\u001b[0;32m    507\u001b[0m                 \u001b[0mself\u001b[0m\u001b[1;33m.\u001b[0m\u001b[0m_update_current_model\u001b[0m\u001b[1;33m(\u001b[0m\u001b[0mnew_data\u001b[0m\u001b[1;33m=\u001b[0m\u001b[0mnew_data\u001b[0m\u001b[1;33m)\u001b[0m\u001b[1;33m\u001b[0m\u001b[1;33m\u001b[0m\u001b[0m\n\u001b[0;32m    508\u001b[0m         \u001b[1;32melse\u001b[0m\u001b[1;33m:\u001b[0m\u001b[1;33m\u001b[0m\u001b[1;33m\u001b[0m\u001b[0m\n\u001b[1;32m--> 509\u001b[1;33m             \u001b[0mself\u001b[0m\u001b[1;33m.\u001b[0m\u001b[0m_fit_current_model\u001b[0m\u001b[1;33m(\u001b[0m\u001b[0mdata\u001b[0m\u001b[1;33m=\u001b[0m\u001b[0mself\u001b[0m\u001b[1;33m.\u001b[0m\u001b[0m_get_data_for_fit\u001b[0m\u001b[1;33m(\u001b[0m\u001b[0mpassed_in_data\u001b[0m\u001b[1;33m=\u001b[0m\u001b[0mdata\u001b[0m\u001b[1;33m)\u001b[0m\u001b[1;33m)\u001b[0m\u001b[1;33m\u001b[0m\u001b[1;33m\u001b[0m\u001b[0m\n\u001b[0m\u001b[0;32m    510\u001b[0m         \u001b[0mself\u001b[0m\u001b[1;33m.\u001b[0m\u001b[0m_save_seen_trial_indices\u001b[0m\u001b[1;33m(\u001b[0m\u001b[1;33m)\u001b[0m\u001b[1;33m\u001b[0m\u001b[1;33m\u001b[0m\u001b[0m\n\u001b[0;32m    511\u001b[0m \u001b[1;33m\u001b[0m\u001b[0m\n",
                  "\u001b[1;32m~\\.conda\\envs\\pascal2\\lib\\site-packages\\ax\\modelbridge\\generation_strategy.py\u001b[0m in \u001b[0;36m_fit_current_model\u001b[1;34m(self, data)\u001b[0m\n\u001b[0;32m    653\u001b[0m             \u001b[0mlogger\u001b[0m\u001b[1;33m.\u001b[0m\u001b[0mdebug\u001b[0m\u001b[1;33m(\u001b[0m\u001b[1;34mf\"Fitting model with data for trials: {trial_indices_in_data}\"\u001b[0m\u001b[1;33m)\u001b[0m\u001b[1;33m\u001b[0m\u001b[1;33m\u001b[0m\u001b[0m\n\u001b[0;32m    654\u001b[0m \u001b[1;33m\u001b[0m\u001b[0m\n\u001b[1;32m--> 655\u001b[1;33m         \u001b[0mself\u001b[0m\u001b[1;33m.\u001b[0m\u001b[0m_curr\u001b[0m\u001b[1;33m.\u001b[0m\u001b[0mfit\u001b[0m\u001b[1;33m(\u001b[0m\u001b[0mexperiment\u001b[0m\u001b[1;33m=\u001b[0m\u001b[0mself\u001b[0m\u001b[1;33m.\u001b[0m\u001b[0mexperiment\u001b[0m\u001b[1;33m,\u001b[0m \u001b[0mdata\u001b[0m\u001b[1;33m=\u001b[0m\u001b[0mdata\u001b[0m\u001b[1;33m,\u001b[0m \u001b[1;33m**\u001b[0m\u001b[0mmodel_state_on_lgr\u001b[0m\u001b[1;33m)\u001b[0m\u001b[1;33m\u001b[0m\u001b[1;33m\u001b[0m\u001b[0m\n\u001b[0m\u001b[0;32m    656\u001b[0m         \u001b[0mself\u001b[0m\u001b[1;33m.\u001b[0m\u001b[0m_model\u001b[0m \u001b[1;33m=\u001b[0m \u001b[0mself\u001b[0m\u001b[1;33m.\u001b[0m\u001b[0m_curr\u001b[0m\u001b[1;33m.\u001b[0m\u001b[0mmodel_spec\u001b[0m\u001b[1;33m.\u001b[0m\u001b[0mfitted_model\u001b[0m\u001b[1;33m\u001b[0m\u001b[1;33m\u001b[0m\u001b[0m\n\u001b[0;32m    657\u001b[0m \u001b[1;33m\u001b[0m\u001b[0m\n",
                  "\u001b[1;32m~\\.conda\\envs\\pascal2\\lib\\site-packages\\ax\\modelbridge\\generation_node.py\u001b[0m in \u001b[0;36mfit\u001b[1;34m(self, experiment, data, search_space, optimization_config, **kwargs)\u001b[0m\n\u001b[0;32m     72\u001b[0m         \"\"\"\n\u001b[0;32m     73\u001b[0m         \u001b[1;32mfor\u001b[0m \u001b[0mmodel_spec\u001b[0m \u001b[1;32min\u001b[0m \u001b[0mself\u001b[0m\u001b[1;33m.\u001b[0m\u001b[0mmodel_specs\u001b[0m\u001b[1;33m:\u001b[0m\u001b[1;33m\u001b[0m\u001b[1;33m\u001b[0m\u001b[0m\n\u001b[1;32m---> 74\u001b[1;33m             model_spec.fit(  # Stores the fitted model as `model_spec._fitted_model`\n\u001b[0m\u001b[0;32m     75\u001b[0m                 \u001b[0mexperiment\u001b[0m\u001b[1;33m=\u001b[0m\u001b[0mexperiment\u001b[0m\u001b[1;33m,\u001b[0m\u001b[1;33m\u001b[0m\u001b[1;33m\u001b[0m\u001b[0m\n\u001b[0;32m     76\u001b[0m                 \u001b[0mdata\u001b[0m\u001b[1;33m=\u001b[0m\u001b[0mdata\u001b[0m\u001b[1;33m,\u001b[0m\u001b[1;33m\u001b[0m\u001b[1;33m\u001b[0m\u001b[0m\n",
                  "\u001b[1;32m~\\.conda\\envs\\pascal2\\lib\\site-packages\\ax\\modelbridge\\model_spec.py\u001b[0m in \u001b[0;36mfit\u001b[1;34m(self, experiment, data, **model_kwargs)\u001b[0m\n\u001b[0;32m     91\u001b[0m         \u001b[1;31m# `self.model_kwargs`.\u001b[0m\u001b[1;33m\u001b[0m\u001b[1;33m\u001b[0m\u001b[1;33m\u001b[0m\u001b[0m\n\u001b[0;32m     92\u001b[0m         \u001b[0mcombined_model_kwargs\u001b[0m \u001b[1;33m=\u001b[0m \u001b[1;33m{\u001b[0m\u001b[1;33m**\u001b[0m\u001b[1;33m(\u001b[0m\u001b[0mself\u001b[0m\u001b[1;33m.\u001b[0m\u001b[0mmodel_kwargs\u001b[0m \u001b[1;32mor\u001b[0m \u001b[1;33m{\u001b[0m\u001b[1;33m}\u001b[0m\u001b[1;33m)\u001b[0m\u001b[1;33m,\u001b[0m \u001b[1;33m**\u001b[0m\u001b[0mmodel_kwargs\u001b[0m\u001b[1;33m}\u001b[0m\u001b[1;33m\u001b[0m\u001b[1;33m\u001b[0m\u001b[0m\n\u001b[1;32m---> 93\u001b[1;33m         self._fitted_model = self.model_enum(\n\u001b[0m\u001b[0;32m     94\u001b[0m             \u001b[0mexperiment\u001b[0m\u001b[1;33m=\u001b[0m\u001b[0mexperiment\u001b[0m\u001b[1;33m,\u001b[0m\u001b[1;33m\u001b[0m\u001b[1;33m\u001b[0m\u001b[0m\n\u001b[0;32m     95\u001b[0m             \u001b[0mdata\u001b[0m\u001b[1;33m=\u001b[0m\u001b[0mdata\u001b[0m\u001b[1;33m,\u001b[0m\u001b[1;33m\u001b[0m\u001b[1;33m\u001b[0m\u001b[0m\n",
                  "\u001b[1;32m~\\.conda\\envs\\pascal2\\lib\\site-packages\\ax\\modelbridge\\registry.py\u001b[0m in \u001b[0;36m__call__\u001b[1;34m(self, search_space, experiment, data, silently_filter_kwargs, **kwargs)\u001b[0m\n\u001b[0;32m    330\u001b[0m \u001b[1;33m\u001b[0m\u001b[0m\n\u001b[0;32m    331\u001b[0m         \u001b[1;31m# Create model bridge with the consolidated kwargs.\u001b[0m\u001b[1;33m\u001b[0m\u001b[1;33m\u001b[0m\u001b[1;33m\u001b[0m\u001b[0m\n\u001b[1;32m--> 332\u001b[1;33m         model_bridge = bridge_class(\n\u001b[0m\u001b[0;32m    333\u001b[0m             \u001b[0msearch_space\u001b[0m\u001b[1;33m=\u001b[0m\u001b[0msearch_space\u001b[0m \u001b[1;32mor\u001b[0m \u001b[0mnot_none\u001b[0m\u001b[1;33m(\u001b[0m\u001b[0mexperiment\u001b[0m\u001b[1;33m)\u001b[0m\u001b[1;33m.\u001b[0m\u001b[0msearch_space\u001b[0m\u001b[1;33m,\u001b[0m\u001b[1;33m\u001b[0m\u001b[1;33m\u001b[0m\u001b[0m\n\u001b[0;32m    334\u001b[0m             \u001b[0mexperiment\u001b[0m\u001b[1;33m=\u001b[0m\u001b[0mexperiment\u001b[0m\u001b[1;33m,\u001b[0m\u001b[1;33m\u001b[0m\u001b[1;33m\u001b[0m\u001b[0m\n",
                  "\u001b[1;32m~\\.conda\\envs\\pascal2\\lib\\site-packages\\ax\\modelbridge\\multi_objective_torch.py\u001b[0m in \u001b[0;36m__init__\u001b[1;34m(self, experiment, search_space, data, model, transforms, transform_configs, torch_dtype, torch_device, status_quo_name, status_quo_features, optimization_config, fit_out_of_design, objective_thresholds, default_model_gen_options)\u001b[0m\n\u001b[0;32m    101\u001b[0m         \u001b[0moptimization_config\u001b[0m \u001b[1;33m=\u001b[0m \u001b[0mmooc\u001b[0m\u001b[1;33m\u001b[0m\u001b[1;33m\u001b[0m\u001b[0m\n\u001b[0;32m    102\u001b[0m \u001b[1;33m\u001b[0m\u001b[0m\n\u001b[1;32m--> 103\u001b[1;33m         super().__init__(\n\u001b[0m\u001b[0;32m    104\u001b[0m             \u001b[0mexperiment\u001b[0m\u001b[1;33m=\u001b[0m\u001b[0mexperiment\u001b[0m\u001b[1;33m,\u001b[0m\u001b[1;33m\u001b[0m\u001b[1;33m\u001b[0m\u001b[0m\n\u001b[0;32m    105\u001b[0m             \u001b[0msearch_space\u001b[0m\u001b[1;33m=\u001b[0m\u001b[0msearch_space\u001b[0m\u001b[1;33m,\u001b[0m\u001b[1;33m\u001b[0m\u001b[1;33m\u001b[0m\u001b[0m\n",
                  "\u001b[1;32m~\\.conda\\envs\\pascal2\\lib\\site-packages\\ax\\modelbridge\\torch.py\u001b[0m in \u001b[0;36m__init__\u001b[1;34m(self, experiment, search_space, data, model, transforms, transform_configs, torch_dtype, torch_device, status_quo_name, status_quo_features, optimization_config, fit_out_of_design, default_model_gen_options)\u001b[0m\n\u001b[0;32m     67\u001b[0m         \u001b[0mself\u001b[0m\u001b[1;33m.\u001b[0m\u001b[0mdevice\u001b[0m \u001b[1;33m=\u001b[0m \u001b[0mtorch_device\u001b[0m\u001b[1;33m\u001b[0m\u001b[1;33m\u001b[0m\u001b[0m\n\u001b[0;32m     68\u001b[0m         \u001b[0mself\u001b[0m\u001b[1;33m.\u001b[0m\u001b[0m_default_model_gen_options\u001b[0m \u001b[1;33m=\u001b[0m \u001b[0mdefault_model_gen_options\u001b[0m \u001b[1;32mor\u001b[0m \u001b[1;33m{\u001b[0m\u001b[1;33m}\u001b[0m\u001b[1;33m\u001b[0m\u001b[1;33m\u001b[0m\u001b[0m\n\u001b[1;32m---> 69\u001b[1;33m         super().__init__(\n\u001b[0m\u001b[0;32m     70\u001b[0m             \u001b[0mexperiment\u001b[0m\u001b[1;33m=\u001b[0m\u001b[0mexperiment\u001b[0m\u001b[1;33m,\u001b[0m\u001b[1;33m\u001b[0m\u001b[1;33m\u001b[0m\u001b[0m\n\u001b[0;32m     71\u001b[0m             \u001b[0msearch_space\u001b[0m\u001b[1;33m=\u001b[0m\u001b[0msearch_space\u001b[0m\u001b[1;33m,\u001b[0m\u001b[1;33m\u001b[0m\u001b[1;33m\u001b[0m\u001b[0m\n",
                  "\u001b[1;32m~\\.conda\\envs\\pascal2\\lib\\site-packages\\ax\\modelbridge\\base.py\u001b[0m in \u001b[0;36m__init__\u001b[1;34m(self, search_space, model, transforms, experiment, data, transform_configs, status_quo_name, status_quo_features, optimization_config, fit_out_of_design, fit_abandoned)\u001b[0m\n\u001b[0;32m    179\u001b[0m         \u001b[0mself\u001b[0m\u001b[1;33m.\u001b[0m\u001b[0mmodel\u001b[0m \u001b[1;33m=\u001b[0m \u001b[0mmodel\u001b[0m\u001b[1;33m\u001b[0m\u001b[1;33m\u001b[0m\u001b[0m\n\u001b[0;32m    180\u001b[0m         \u001b[1;32mtry\u001b[0m\u001b[1;33m:\u001b[0m\u001b[1;33m\u001b[0m\u001b[1;33m\u001b[0m\u001b[0m\n\u001b[1;32m--> 181\u001b[1;33m             self._fit(\n\u001b[0m\u001b[0;32m    182\u001b[0m                 \u001b[0mmodel\u001b[0m\u001b[1;33m=\u001b[0m\u001b[0mmodel\u001b[0m\u001b[1;33m,\u001b[0m\u001b[1;33m\u001b[0m\u001b[1;33m\u001b[0m\u001b[0m\n\u001b[0;32m    183\u001b[0m                 \u001b[0msearch_space\u001b[0m\u001b[1;33m=\u001b[0m\u001b[0msearch_space\u001b[0m\u001b[1;33m,\u001b[0m\u001b[1;33m\u001b[0m\u001b[1;33m\u001b[0m\u001b[0m\n",
                  "\u001b[1;32m~\\.conda\\envs\\pascal2\\lib\\site-packages\\ax\\modelbridge\\torch.py\u001b[0m in \u001b[0;36m_fit\u001b[1;34m(self, model, search_space, observation_features, observation_data)\u001b[0m\n\u001b[0;32m     99\u001b[0m     ) -> None:  # pragma: no cover\n\u001b[0;32m    100\u001b[0m         \u001b[0mself\u001b[0m\u001b[1;33m.\u001b[0m\u001b[0m_validate_observation_data\u001b[0m\u001b[1;33m(\u001b[0m\u001b[0mobservation_data\u001b[0m\u001b[1;33m)\u001b[0m\u001b[1;33m\u001b[0m\u001b[1;33m\u001b[0m\u001b[0m\n\u001b[1;32m--> 101\u001b[1;33m         super()._fit(\n\u001b[0m\u001b[0;32m    102\u001b[0m             \u001b[0mmodel\u001b[0m\u001b[1;33m=\u001b[0m\u001b[0mmodel\u001b[0m\u001b[1;33m,\u001b[0m\u001b[1;33m\u001b[0m\u001b[1;33m\u001b[0m\u001b[0m\n\u001b[0;32m    103\u001b[0m             \u001b[0msearch_space\u001b[0m\u001b[1;33m=\u001b[0m\u001b[0msearch_space\u001b[0m\u001b[1;33m,\u001b[0m\u001b[1;33m\u001b[0m\u001b[1;33m\u001b[0m\u001b[0m\n",
                  "\u001b[1;32m~\\.conda\\envs\\pascal2\\lib\\site-packages\\ax\\modelbridge\\array.py\u001b[0m in \u001b[0;36m_fit\u001b[1;34m(self, model, search_space, observation_features, observation_data)\u001b[0m\n\u001b[0;32m    100\u001b[0m         )\n\u001b[0;32m    101\u001b[0m         \u001b[1;31m# Fit\u001b[0m\u001b[1;33m\u001b[0m\u001b[1;33m\u001b[0m\u001b[1;33m\u001b[0m\u001b[0m\n\u001b[1;32m--> 102\u001b[1;33m         self._model_fit(\n\u001b[0m\u001b[0;32m    103\u001b[0m             \u001b[0mmodel\u001b[0m\u001b[1;33m=\u001b[0m\u001b[0mmodel\u001b[0m\u001b[1;33m,\u001b[0m\u001b[1;33m\u001b[0m\u001b[1;33m\u001b[0m\u001b[0m\n\u001b[0;32m    104\u001b[0m             \u001b[0mXs\u001b[0m\u001b[1;33m=\u001b[0m\u001b[0mXs_array\u001b[0m\u001b[1;33m,\u001b[0m\u001b[1;33m\u001b[0m\u001b[1;33m\u001b[0m\u001b[0m\n",
                  "\u001b[1;32m~\\.conda\\envs\\pascal2\\lib\\site-packages\\ax\\modelbridge\\torch.py\u001b[0m in \u001b[0;36m_model_fit\u001b[1;34m(self, model, Xs, Ys, Yvars, search_space_digest, metric_names, candidate_metadata)\u001b[0m\n\u001b[0;32m    165\u001b[0m         \u001b[0mYvars\u001b[0m\u001b[1;33m:\u001b[0m \u001b[0mList\u001b[0m\u001b[1;33m[\u001b[0m\u001b[0mTensor\u001b[0m\u001b[1;33m]\u001b[0m \u001b[1;33m=\u001b[0m \u001b[0mself\u001b[0m\u001b[1;33m.\u001b[0m\u001b[0m_array_list_to_tensors\u001b[0m\u001b[1;33m(\u001b[0m\u001b[0mYvars\u001b[0m\u001b[1;33m)\u001b[0m\u001b[1;33m\u001b[0m\u001b[1;33m\u001b[0m\u001b[0m\n\u001b[0;32m    166\u001b[0m         \u001b[1;31m# pyre-fixme[16]: `Optional` has no attribute `fit`.\u001b[0m\u001b[1;33m\u001b[0m\u001b[1;33m\u001b[0m\u001b[1;33m\u001b[0m\u001b[0m\n\u001b[1;32m--> 167\u001b[1;33m         self.model.fit(\n\u001b[0m\u001b[0;32m    168\u001b[0m             \u001b[0mXs\u001b[0m\u001b[1;33m=\u001b[0m\u001b[0mXs\u001b[0m\u001b[1;33m,\u001b[0m\u001b[1;33m\u001b[0m\u001b[1;33m\u001b[0m\u001b[0m\n\u001b[0;32m    169\u001b[0m             \u001b[0mYs\u001b[0m\u001b[1;33m=\u001b[0m\u001b[0mYs\u001b[0m\u001b[1;33m,\u001b[0m\u001b[1;33m\u001b[0m\u001b[1;33m\u001b[0m\u001b[0m\n",
                  "\u001b[1;32m~\\.conda\\envs\\pascal2\\lib\\site-packages\\ax\\models\\torch\\botorch.py\u001b[0m in \u001b[0;36mfit\u001b[1;34m(self, Xs, Ys, Yvars, search_space_digest, metric_names, candidate_metadata)\u001b[0m\n\u001b[0;32m    293\u001b[0m         )\n\u001b[0;32m    294\u001b[0m         \u001b[0mself\u001b[0m\u001b[1;33m.\u001b[0m\u001b[0mmetric_names\u001b[0m \u001b[1;33m=\u001b[0m \u001b[0mmetric_names\u001b[0m\u001b[1;33m\u001b[0m\u001b[1;33m\u001b[0m\u001b[0m\n\u001b[1;32m--> 295\u001b[1;33m         self.model = self.model_constructor(  # pyre-ignore [28]\n\u001b[0m\u001b[0;32m    296\u001b[0m             \u001b[0mXs\u001b[0m\u001b[1;33m=\u001b[0m\u001b[0mXs\u001b[0m\u001b[1;33m,\u001b[0m\u001b[1;33m\u001b[0m\u001b[1;33m\u001b[0m\u001b[0m\n\u001b[0;32m    297\u001b[0m             \u001b[0mYs\u001b[0m\u001b[1;33m=\u001b[0m\u001b[0mYs\u001b[0m\u001b[1;33m,\u001b[0m\u001b[1;33m\u001b[0m\u001b[1;33m\u001b[0m\u001b[0m\n",
                  "\u001b[1;32m~\\.conda\\envs\\pascal2\\lib\\site-packages\\ax\\models\\torch\\botorch_defaults.py\u001b[0m in \u001b[0;36mget_and_fit_model\u001b[1;34m(Xs, Ys, Yvars, task_features, fidelity_features, metric_names, state_dict, refit_model, use_input_warping, use_loocv_pseudo_likelihood, **kwargs)\u001b[0m\n\u001b[0;32m    120\u001b[0m             \u001b[0mY\u001b[0m \u001b[1;33m=\u001b[0m \u001b[0mtorch\u001b[0m\u001b[1;33m.\u001b[0m\u001b[0mcat\u001b[0m\u001b[1;33m(\u001b[0m\u001b[0mYs\u001b[0m\u001b[1;33m,\u001b[0m \u001b[0mdim\u001b[0m\u001b[1;33m=\u001b[0m\u001b[1;33m-\u001b[0m\u001b[1;36m1\u001b[0m\u001b[1;33m)\u001b[0m\u001b[1;33m\u001b[0m\u001b[1;33m\u001b[0m\u001b[0m\n\u001b[0;32m    121\u001b[0m             \u001b[0mYvar\u001b[0m \u001b[1;33m=\u001b[0m \u001b[0mtorch\u001b[0m\u001b[1;33m.\u001b[0m\u001b[0mcat\u001b[0m\u001b[1;33m(\u001b[0m\u001b[0mYvars\u001b[0m\u001b[1;33m,\u001b[0m \u001b[0mdim\u001b[0m\u001b[1;33m=\u001b[0m\u001b[1;33m-\u001b[0m\u001b[1;36m1\u001b[0m\u001b[1;33m)\u001b[0m\u001b[1;33m\u001b[0m\u001b[1;33m\u001b[0m\u001b[0m\n\u001b[1;32m--> 122\u001b[1;33m             model = _get_model(\n\u001b[0m\u001b[0;32m    123\u001b[0m                 \u001b[0mX\u001b[0m\u001b[1;33m=\u001b[0m\u001b[0mXs\u001b[0m\u001b[1;33m[\u001b[0m\u001b[1;36m0\u001b[0m\u001b[1;33m]\u001b[0m\u001b[1;33m,\u001b[0m\u001b[1;33m\u001b[0m\u001b[1;33m\u001b[0m\u001b[0m\n\u001b[0;32m    124\u001b[0m                 \u001b[0mY\u001b[0m\u001b[1;33m=\u001b[0m\u001b[0mY\u001b[0m\u001b[1;33m,\u001b[0m\u001b[1;33m\u001b[0m\u001b[1;33m\u001b[0m\u001b[0m\n",
                  "\u001b[1;32m~\\.conda\\envs\\pascal2\\lib\\site-packages\\ax\\models\\torch\\botorch_defaults.py\u001b[0m in \u001b[0;36m_get_model\u001b[1;34m(X, Y, Yvar, task_feature, fidelity_features, use_input_warping, **kwargs)\u001b[0m\n\u001b[0;32m    577\u001b[0m         )\n\u001b[0;32m    578\u001b[0m     \u001b[1;32melif\u001b[0m \u001b[0mtask_feature\u001b[0m \u001b[1;32mis\u001b[0m \u001b[1;32mNone\u001b[0m \u001b[1;32mand\u001b[0m \u001b[0mall_nan_Yvar\u001b[0m\u001b[1;33m:\u001b[0m\u001b[1;33m\u001b[0m\u001b[1;33m\u001b[0m\u001b[0m\n\u001b[1;32m--> 579\u001b[1;33m         \u001b[0mgp\u001b[0m \u001b[1;33m=\u001b[0m \u001b[0mSingleTaskGP\u001b[0m\u001b[1;33m(\u001b[0m\u001b[0mtrain_X\u001b[0m\u001b[1;33m=\u001b[0m\u001b[0mX\u001b[0m\u001b[1;33m,\u001b[0m \u001b[0mtrain_Y\u001b[0m\u001b[1;33m=\u001b[0m\u001b[0mY\u001b[0m\u001b[1;33m,\u001b[0m \u001b[0minput_transform\u001b[0m\u001b[1;33m=\u001b[0m\u001b[0mwarp_tf\u001b[0m\u001b[1;33m,\u001b[0m \u001b[1;33m**\u001b[0m\u001b[0mkwargs\u001b[0m\u001b[1;33m)\u001b[0m\u001b[1;33m\u001b[0m\u001b[1;33m\u001b[0m\u001b[0m\n\u001b[0m\u001b[0;32m    580\u001b[0m     \u001b[1;32melif\u001b[0m \u001b[0mtask_feature\u001b[0m \u001b[1;32mis\u001b[0m \u001b[1;32mNone\u001b[0m\u001b[1;33m:\u001b[0m\u001b[1;33m\u001b[0m\u001b[1;33m\u001b[0m\u001b[0m\n\u001b[0;32m    581\u001b[0m         gp = FixedNoiseGP(\n",
                  "\u001b[1;32m~\\.conda\\envs\\pascal2\\lib\\site-packages\\botorch\\models\\gp_regression.py\u001b[0m in \u001b[0;36m__init__\u001b[1;34m(self, train_X, train_Y, likelihood, covar_module, outcome_transform, input_transform)\u001b[0m\n\u001b[0;32m    100\u001b[0m         \u001b[0mself\u001b[0m\u001b[1;33m.\u001b[0m\u001b[0m_validate_tensor_args\u001b[0m\u001b[1;33m(\u001b[0m\u001b[0mX\u001b[0m\u001b[1;33m=\u001b[0m\u001b[0mtransformed_X\u001b[0m\u001b[1;33m,\u001b[0m \u001b[0mY\u001b[0m\u001b[1;33m=\u001b[0m\u001b[0mtrain_Y\u001b[0m\u001b[1;33m)\u001b[0m\u001b[1;33m\u001b[0m\u001b[1;33m\u001b[0m\u001b[0m\n\u001b[0;32m    101\u001b[0m         \u001b[0mignore_X_dims\u001b[0m \u001b[1;33m=\u001b[0m \u001b[0mgetattr\u001b[0m\u001b[1;33m(\u001b[0m\u001b[0mself\u001b[0m\u001b[1;33m,\u001b[0m \u001b[1;34m\"_ignore_X_dims_scaling_check\"\u001b[0m\u001b[1;33m,\u001b[0m \u001b[1;32mNone\u001b[0m\u001b[1;33m)\u001b[0m\u001b[1;33m\u001b[0m\u001b[1;33m\u001b[0m\u001b[0m\n\u001b[1;32m--> 102\u001b[1;33m         validate_input_scaling(\n\u001b[0m\u001b[0;32m    103\u001b[0m             \u001b[0mtrain_X\u001b[0m\u001b[1;33m=\u001b[0m\u001b[0mtransformed_X\u001b[0m\u001b[1;33m,\u001b[0m \u001b[0mtrain_Y\u001b[0m\u001b[1;33m=\u001b[0m\u001b[0mtrain_Y\u001b[0m\u001b[1;33m,\u001b[0m \u001b[0mignore_X_dims\u001b[0m\u001b[1;33m=\u001b[0m\u001b[0mignore_X_dims\u001b[0m\u001b[1;33m\u001b[0m\u001b[1;33m\u001b[0m\u001b[0m\n\u001b[0;32m    104\u001b[0m         )\n",
                  "\u001b[1;32m~\\.conda\\envs\\pascal2\\lib\\site-packages\\botorch\\models\\utils.py\u001b[0m in \u001b[0;36mvalidate_input_scaling\u001b[1;34m(train_X, train_Y, train_Yvar, raise_on_fail, ignore_X_dims)\u001b[0m\n\u001b[0;32m    237\u001b[0m         \u001b[1;32mreturn\u001b[0m\u001b[1;33m\u001b[0m\u001b[1;33m\u001b[0m\u001b[0m\n\u001b[0;32m    238\u001b[0m     \u001b[0mcheck_no_nans\u001b[0m\u001b[1;33m(\u001b[0m\u001b[0mtrain_X\u001b[0m\u001b[1;33m)\u001b[0m\u001b[1;33m\u001b[0m\u001b[1;33m\u001b[0m\u001b[0m\n\u001b[1;32m--> 239\u001b[1;33m     \u001b[0mcheck_no_nans\u001b[0m\u001b[1;33m(\u001b[0m\u001b[0mtrain_Y\u001b[0m\u001b[1;33m)\u001b[0m\u001b[1;33m\u001b[0m\u001b[1;33m\u001b[0m\u001b[0m\n\u001b[0m\u001b[0;32m    240\u001b[0m     \u001b[1;32mif\u001b[0m \u001b[0mtrain_Yvar\u001b[0m \u001b[1;32mis\u001b[0m \u001b[1;32mnot\u001b[0m \u001b[1;32mNone\u001b[0m\u001b[1;33m:\u001b[0m\u001b[1;33m\u001b[0m\u001b[1;33m\u001b[0m\u001b[0m\n\u001b[0;32m    241\u001b[0m         \u001b[0mcheck_no_nans\u001b[0m\u001b[1;33m(\u001b[0m\u001b[0mtrain_Yvar\u001b[0m\u001b[1;33m)\u001b[0m\u001b[1;33m\u001b[0m\u001b[1;33m\u001b[0m\u001b[0m\n",
                  "\u001b[1;32m~\\.conda\\envs\\pascal2\\lib\\site-packages\\botorch\\models\\utils.py\u001b[0m in \u001b[0;36mcheck_no_nans\u001b[1;34m(Z)\u001b[0m\n\u001b[0;32m    130\u001b[0m     \"\"\"\n\u001b[0;32m    131\u001b[0m     \u001b[1;32mif\u001b[0m \u001b[0mtorch\u001b[0m\u001b[1;33m.\u001b[0m\u001b[0many\u001b[0m\u001b[1;33m(\u001b[0m\u001b[0mtorch\u001b[0m\u001b[1;33m.\u001b[0m\u001b[0misnan\u001b[0m\u001b[1;33m(\u001b[0m\u001b[0mZ\u001b[0m\u001b[1;33m)\u001b[0m\u001b[1;33m)\u001b[0m\u001b[1;33m.\u001b[0m\u001b[0mitem\u001b[0m\u001b[1;33m(\u001b[0m\u001b[1;33m)\u001b[0m\u001b[1;33m:\u001b[0m\u001b[1;33m\u001b[0m\u001b[1;33m\u001b[0m\u001b[0m\n\u001b[1;32m--> 132\u001b[1;33m         \u001b[1;32mraise\u001b[0m \u001b[0mInputDataError\u001b[0m\u001b[1;33m(\u001b[0m\u001b[1;34m\"Input data contains NaN values.\"\u001b[0m\u001b[1;33m)\u001b[0m\u001b[1;33m\u001b[0m\u001b[1;33m\u001b[0m\u001b[0m\n\u001b[0m\u001b[0;32m    133\u001b[0m \u001b[1;33m\u001b[0m\u001b[0m\n\u001b[0;32m    134\u001b[0m \u001b[1;33m\u001b[0m\u001b[0m\n",
                  "\u001b[1;31mInputDataError\u001b[0m: Input data contains NaN values."
               ]
            }
         ],
         "source": [
            "scheduler.run_n_trials(max_trials=25)"
         ]
      },
      {
         "cell_type": "code",
         "execution_count": 64,
         "metadata": {},
         "outputs": [
            {
               "name": "stdout",
               "output_type": "stream",
               "text": [
                  "sample0 118.9406880198529\n",
                  "sample1 43.518609233238045\n",
                  "sample3 37.91702921573621\n",
                  "sample5 11.843145600217493\n",
                  "sample6 17.639083053066216\n",
                  "sample7 24.789821489308004\n"
               ]
            }
         ],
         "source": [
            "for k, v in job_queue.jobs.items():\n",
            "    if v.outcome != {}:\n",
            "        print(k, v.outcome[\"pl_intensity_0\"])"
         ]
      },
      {
         "cell_type": "code",
         "execution_count": 65,
         "metadata": {},
         "outputs": [
            {
               "data": {
                  "text/plain": [
                     "{'pl_fwhm': PLFWHM('pl_fwhm'), 'pl_intensity': PLIntensity('pl_intensity')}"
                  ]
               },
               "execution_count": 65,
               "metadata": {},
               "output_type": "execute_result"
            }
         ],
         "source": [
            "exp.metrics"
         ]
      },
      {
         "cell_type": "code",
         "execution_count": 130,
         "metadata": {},
         "outputs": [
            {
               "name": "stderr",
               "output_type": "stream",
               "text": [
                  "[INFO 04-05 17:24:00] ax.core.experiment: Attached data has some metrics ({'pl_fhwm'}) that are not among the metrics on this experiment. Note that attaching data will not automatically add those metrics to the experiment. For these metrics to be automatically fetched by `experiment.fetch_data`, add them via `experiment.add_tracking_metric` or update the experiment's optimization config.\n",
                  "[INFO 04-05 17:24:00] ax.core.experiment: Attached data has some metrics ({'pl_fhwm'}) that are not among the metrics on this experiment. Note that attaching data will not automatically add those metrics to the experiment. For these metrics to be automatically fetched by `experiment.fetch_data`, add them via `experiment.add_tracking_metric` or update the experiment's optimization config.\n",
                  "[INFO 04-05 17:24:00] ax.core.experiment: Attached data has some metrics ({'pl_fhwm'}) that are not among the metrics on this experiment. Note that attaching data will not automatically add those metrics to the experiment. For these metrics to be automatically fetched by `experiment.fetch_data`, add them via `experiment.add_tracking_metric` or update the experiment's optimization config.\n",
                  "[INFO 04-05 17:24:00] ax.core.experiment: Attached data has some metrics ({'pl_fhwm'}) that are not among the metrics on this experiment. Note that attaching data will not automatically add those metrics to the experiment. For these metrics to be automatically fetched by `experiment.fetch_data`, add them via `experiment.add_tracking_metric` or update the experiment's optimization config.\n",
                  "[INFO 04-05 17:24:00] ax.core.experiment: Attached data has some metrics ({'pl_fhwm'}) that are not among the metrics on this experiment. Note that attaching data will not automatically add those metrics to the experiment. For these metrics to be automatically fetched by `experiment.fetch_data`, add them via `experiment.add_tracking_metric` or update the experiment's optimization config.\n"
               ]
            },
            {
               "data": {
                  "text/html": [
                     "<div>\n",
                     "<style scoped>\n",
                     "    .dataframe tbody tr th:only-of-type {\n",
                     "        vertical-align: middle;\n",
                     "    }\n",
                     "\n",
                     "    .dataframe tbody tr th {\n",
                     "        vertical-align: top;\n",
                     "    }\n",
                     "\n",
                     "    .dataframe thead th {\n",
                     "        text-align: right;\n",
                     "    }\n",
                     "</style>\n",
                     "<table border=\"1\" class=\"dataframe\">\n",
                     "  <thead>\n",
                     "    <tr style=\"text-align: right;\">\n",
                     "      <th></th>\n",
                     "      <th>pl_intensity</th>\n",
                     "      <th>trial_index</th>\n",
                     "      <th>arm_name</th>\n",
                     "      <th>anneal_temperature</th>\n",
                     "      <th>anneal_duration</th>\n",
                     "      <th>trial_status</th>\n",
                     "      <th>generation_method</th>\n",
                     "    </tr>\n",
                     "  </thead>\n",
                     "  <tbody>\n",
                     "    <tr>\n",
                     "      <th>0</th>\n",
                     "      <td>118.940688</td>\n",
                     "      <td>0</td>\n",
                     "      <td>0_0</td>\n",
                     "      <td>110.0</td>\n",
                     "      <td>3071.089268</td>\n",
                     "      <td>COMPLETED</td>\n",
                     "      <td>Sobol</td>\n",
                     "    </tr>\n",
                     "    <tr>\n",
                     "      <th>1</th>\n",
                     "      <td>43.518609</td>\n",
                     "      <td>1</td>\n",
                     "      <td>1_0</td>\n",
                     "      <td>110.0</td>\n",
                     "      <td>2502.075899</td>\n",
                     "      <td>COMPLETED</td>\n",
                     "      <td>Sobol</td>\n",
                     "    </tr>\n",
                     "    <tr>\n",
                     "      <th>5</th>\n",
                     "      <td>NaN</td>\n",
                     "      <td>2</td>\n",
                     "      <td>2_0</td>\n",
                     "      <td>100.0</td>\n",
                     "      <td>5087.644941</td>\n",
                     "      <td>RUNNING</td>\n",
                     "      <td>Sobol</td>\n",
                     "    </tr>\n",
                     "    <tr>\n",
                     "      <th>2</th>\n",
                     "      <td>37.917029</td>\n",
                     "      <td>3</td>\n",
                     "      <td>3_0</td>\n",
                     "      <td>120.0</td>\n",
                     "      <td>786.069569</td>\n",
                     "      <td>COMPLETED</td>\n",
                     "      <td>Sobol</td>\n",
                     "    </tr>\n",
                     "    <tr>\n",
                     "      <th>6</th>\n",
                     "      <td>NaN</td>\n",
                     "      <td>4</td>\n",
                     "      <td>4_0</td>\n",
                     "      <td>120.0</td>\n",
                     "      <td>4479.535103</td>\n",
                     "      <td>RUNNING</td>\n",
                     "      <td>Sobol</td>\n",
                     "    </tr>\n",
                     "    <tr>\n",
                     "      <th>3</th>\n",
                     "      <td>11.843146</td>\n",
                     "      <td>5</td>\n",
                     "      <td>5_0</td>\n",
                     "      <td>100.0</td>\n",
                     "      <td>1356.125370</td>\n",
                     "      <td>COMPLETED</td>\n",
                     "      <td>Sobol</td>\n",
                     "    </tr>\n",
                     "    <tr>\n",
                     "      <th>7</th>\n",
                     "      <td>NaN</td>\n",
                     "      <td>6</td>\n",
                     "      <td>6_0</td>\n",
                     "      <td>100.0</td>\n",
                     "      <td>3646.088621</td>\n",
                     "      <td>RUNNING</td>\n",
                     "      <td>Sobol</td>\n",
                     "    </tr>\n",
                     "    <tr>\n",
                     "      <th>4</th>\n",
                     "      <td>24.789821</td>\n",
                     "      <td>7</td>\n",
                     "      <td>7_0</td>\n",
                     "      <td>110.0</td>\n",
                     "      <td>1890.121311</td>\n",
                     "      <td>COMPLETED</td>\n",
                     "      <td>Sobol</td>\n",
                     "    </tr>\n",
                     "  </tbody>\n",
                     "</table>\n",
                     "</div>"
                  ],
                  "text/plain": [
                     "   pl_intensity  trial_index arm_name  anneal_temperature  anneal_duration  \\\n",
                     "0    118.940688            0      0_0               110.0      3071.089268   \n",
                     "1     43.518609            1      1_0               110.0      2502.075899   \n",
                     "5           NaN            2      2_0               100.0      5087.644941   \n",
                     "2     37.917029            3      3_0               120.0       786.069569   \n",
                     "6           NaN            4      4_0               120.0      4479.535103   \n",
                     "3     11.843146            5      5_0               100.0      1356.125370   \n",
                     "7           NaN            6      6_0               100.0      3646.088621   \n",
                     "4     24.789821            7      7_0               110.0      1890.121311   \n",
                     "\n",
                     "  trial_status generation_method  \n",
                     "0    COMPLETED             Sobol  \n",
                     "1    COMPLETED             Sobol  \n",
                     "5      RUNNING             Sobol  \n",
                     "2    COMPLETED             Sobol  \n",
                     "6      RUNNING             Sobol  \n",
                     "3    COMPLETED             Sobol  \n",
                     "7      RUNNING             Sobol  \n",
                     "4    COMPLETED             Sobol  "
                  ]
               },
               "execution_count": 130,
               "metadata": {},
               "output_type": "execute_result"
            }
         ],
         "source": [
            "from ax.service.utils.report_utils import exp_to_df\n",
            "\n",
            "exp_to_df(exp)"
         ]
      },
      {
         "cell_type": "code",
         "execution_count": 127,
         "metadata": {},
         "outputs": [
            {
               "name": "stderr",
               "output_type": "stream",
               "text": [
                  "[INFO 04-05 17:19:52] ax.core.experiment: Attached data has some metrics ({'pl_fhwm'}) that are not among the metrics on this experiment. Note that attaching data will not automatically add those metrics to the experiment. For these metrics to be automatically fetched by `experiment.fetch_data`, add them via `experiment.add_tracking_metric` or update the experiment's optimization config.\n",
                  "[INFO 04-05 17:19:52] ax.core.experiment: Attached data has some metrics ({'pl_fhwm'}) that are not among the metrics on this experiment. Note that attaching data will not automatically add those metrics to the experiment. For these metrics to be automatically fetched by `experiment.fetch_data`, add them via `experiment.add_tracking_metric` or update the experiment's optimization config.\n",
                  "[INFO 04-05 17:19:52] ax.core.experiment: Attached data has some metrics ({'pl_fhwm'}) that are not among the metrics on this experiment. Note that attaching data will not automatically add those metrics to the experiment. For these metrics to be automatically fetched by `experiment.fetch_data`, add them via `experiment.add_tracking_metric` or update the experiment's optimization config.\n",
                  "[INFO 04-05 17:19:52] ax.core.experiment: Attached data has some metrics ({'pl_fhwm'}) that are not among the metrics on this experiment. Note that attaching data will not automatically add those metrics to the experiment. For these metrics to be automatically fetched by `experiment.fetch_data`, add them via `experiment.add_tracking_metric` or update the experiment's optimization config.\n",
                  "[INFO 04-05 17:19:52] ax.core.experiment: Attached data has some metrics ({'pl_fhwm'}) that are not among the metrics on this experiment. Note that attaching data will not automatically add those metrics to the experiment. For these metrics to be automatically fetched by `experiment.fetch_data`, add them via `experiment.add_tracking_metric` or update the experiment's optimization config.\n"
               ]
            }
         ],
         "source": [
            "data = exp.fetch_data()"
         ]
      },
      {
         "cell_type": "markdown",
         "metadata": {},
         "source": [
            "Save results alone"
         ]
      },
      {
         "cell_type": "code",
         "execution_count": null,
         "metadata": {
            "collapsed": false,
            "executionStartTime": 1639600345584,
            "executionStopTime": 1639600345605,
            "originalKey": "c96fd413-2806-4f12-babe-e77f2c0570c5",
            "requestMsgId": "65efb7ad-39c0-4c29-97c8-b784f72a8335"
         },
         "outputs": [],
         "source": [
            "from ax.service.utils.report_utils import exp_to_df\n",
            "\n",
            "df = exp_to_df(exp)\n",
            "df.to_csv(os.path.join(job_queue.experiment_folder, f'{EXPERIMENT_NAME}_closedloop_results.csv'))"
         ]
      }
   ],
   "metadata": {
      "captumWidgetMessage": {},
      "kernelspec": {
         "display_name": "python3",
         "language": "python",
         "metadata": {
            "fbpkg_supported": true,
            "is_prebuilt": true,
            "kernel_name": "bento_kernel_ae",
            "nightly_builds": false
         },
         "name": "python3"
      },
      "language_info": {
         "codemirror_mode": {
            "name": "ipython",
            "version": 3
         },
         "file_extension": ".py",
         "mimetype": "text/x-python",
         "name": "python",
         "nbconvert_exporter": "python",
         "pygments_lexer": "ipython3",
         "version": "3.8.10"
      },
      "last_base_url": "https://devvm3002.frc0.facebook.com:8090/",
      "last_kernel_id": "22fd970c-2dde-4c1f-a439-66bbfbbb43b9",
      "last_msg_id": "b1d49dc1-9824bf694d4896bac87b2d67_177",
      "last_server_session_id": "f69f0901-efdd-4230-86a6-08d17f806aa5",
      "outputWidgetContext": {}
   },
   "nbformat": 4,
   "nbformat_minor": 2
}