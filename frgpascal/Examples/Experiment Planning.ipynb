{
 "cells": [
  {
   "cell_type": "code",
   "execution_count": 1,
   "metadata": {},
   "outputs": [],
   "source": [
    "import numpy as np\n",
    "import csv\n",
    "%matplotlib inline\n",
    "import pandas as pd\n",
    "from frgpascal.hardware.sampletray import SampleTray, AVAILABLE_VERSIONS as sampletray_versions\n",
    "from frgpascal.hardware.liquidlabware import TipRack, LiquidLabware, AVAILABLE_VERSIONS as liquid_labware_versions\n",
    "from frgpascal.hardware.hotplate import AVAILABLE_VERSIONS as hotplate_versions\n",
    "from frgpascal.experimentaldesign.helpers import build_sample_list, load_sample_trays, plot_tray, handle_liquids, samples_to_dataframe\n",
    "from frgpascal.experimentaldesign.tasks import *\n",
    "from frgpascal.experimentaldesign.scheduler import Scheduler\n",
    "from frgpascal.experimentaldesign.protocolwriter import generate_ot2_protocol\n",
    "import mixsol as mx"
   ]
  },
  {
   "cell_type": "markdown",
   "metadata": {},
   "source": [
    "------"
   ]
  },
  {
   "cell_type": "markdown",
   "metadata": {},
   "source": [
    "# Define Experiment Metadata"
   ]
  },
  {
   "cell_type": "code",
   "execution_count": 2,
   "metadata": {},
   "outputs": [],
   "source": [
    "experiment_name = 'MA(SnPbBiAg)I3 First Spread_absorbers'\n",
    "experiment_description = \"MA(SnPbBiAg)I3 First Spread_absorbers\""
   ]
  },
  {
   "cell_type": "markdown",
   "metadata": {},
   "source": [
    "-----"
   ]
  },
  {
   "cell_type": "markdown",
   "metadata": {},
   "source": [
    "# Define hardware for this experiment"
   ]
  },
  {
   "cell_type": "code",
   "execution_count": 3,
   "metadata": {},
   "outputs": [
    {
     "name": "stdout",
     "output_type": "stream",
     "text": [
      "Available Sample Tray Versions:\n",
      "\tstorage_v3\n",
      "\tstorage_v2\n",
      "\tstorage_v1\n",
      "\n",
      "Available Liquid Labwares:\n",
      "\tfrg_12_wellplate_15000ul\n",
      "\tsartorius_safetyspace_tiprack_200ul\n",
      "\tgreiner_96_wellplate_360ul\n",
      "\tfrg_spincoater_v1\n",
      "\tfrg_24_wellplate_4000ul\n"
     ]
    }
   ],
   "source": [
    "print('Available Sample Tray Versions:')\n",
    "for v in sampletray_versions:\n",
    "    print(f'\\t{v}')\n",
    "\n",
    "print('\\nAvailable Liquid Labwares:')\n",
    "for v in liquid_labware_versions:\n",
    "    print(f'\\t{v}')"
   ]
  },
  {
   "cell_type": "markdown",
   "metadata": {},
   "source": [
    "## Sample Storage Trays\n",
    "These are the trays used to load samples in/out of the glovebox"
   ]
  },
  {
   "cell_type": "code",
   "execution_count": 4,
   "metadata": {},
   "outputs": [],
   "source": [
    "sample_trays = [\n",
    "    SampleTray(\n",
    "        name='Tray1',\n",
    "        version='storage_v1',\n",
    "        gantry=None,\n",
    "        gripper=None,\n",
    "        p0=[0,0,0]\n",
    "    ),\n",
    "    # SampleTray(\n",
    "    #     name='Tray2',\n",
    "    #     version='storage_v1',\n",
    "    #     gantry=None,\n",
    "    #     gripper=None,\n",
    "    #     p0=[0,0,0]\n",
    "    # )\n",
    "]"
   ]
  },
  {
   "cell_type": "markdown",
   "metadata": {},
   "source": [
    "## Liquid Labware \n",
    "\n",
    "Include _all possible_ liquid storage + pipette tipracks. Later on we will narrow this down to what is required once we know what solutions and volumes we need.\n",
    "\n",
    "Versions are defined by the same json files used to define custom labware for the Opentrons2 liquid handler. \n",
    "New labware can be defined by following https://support.opentrons.com/en/articles/3136504-creating-custom-labware-definitions\n",
    "\n",
    "The location of the labware/tiprack on the opentrons deck must be specified as well.\n",
    "\n",
    "\n",
    "| Deck | Slot | Layout |\n",
    "| ----------- | ----------- | ----------- |\n",
    "| 10      | 11       | _Trash_ |\n",
    "| 7   | 8        | 9 |\n",
    "|4 | 5 | 6|\n",
    "|1 | _Spin_ | _Coater_|\n",
    "\n",
    "\n",
    "For partially consumed tip racks, the `starting_tip` argument can be used to specify the first available tip. Tips before this assumed to be used up. (moves down->right, like A1, B1...H1, A2, B2 etc). If this argument is omitted, we assume to start at tip A1"
   ]
  },
  {
   "cell_type": "code",
   "execution_count": 5,
   "metadata": {},
   "outputs": [],
   "source": [
    "tipracks = [\n",
    "    TipRack(\n",
    "        version='sartorius_safetyspace_tiprack_200ul', \n",
    "        deck_slot=7,\n",
    "        starting_tip=\"A1\"\n",
    "    ),\n",
    "    TipRack(\n",
    "        version='sartorius_safetyspace_tiprack_200ul', \n",
    "        deck_slot=10,\n",
    "        starting_tip=\"C5\"\n",
    "    ),\n",
    "    ]"
   ]
  },
  {
   "cell_type": "markdown",
   "metadata": {},
   "source": [
    "the `starting_well` argument can be used to similarly specify the first available well on the tray. This is useful for mixing on partially used well plates. Note that the use order of wells differs from tips (moves right->down, like A1, A2,...A12, B1, B2 etc)"
   ]
  },
  {
   "cell_type": "code",
   "execution_count": 6,
   "metadata": {},
   "outputs": [
    {
     "name": "stdout",
     "output_type": "stream",
     "text": [
      "Priority Fill Order:\n",
      "<LiquidLabware> 96_Plate1, 0.36 mL volume, 96 wells\n",
      "<LiquidLabware> 4mL_AntisolventTray, 4.0 mL volume, 24 wells\n",
      "<LiquidLabware> 4mL_SolutionTray, 4.0 mL volume, 24 wells\n"
     ]
    }
   ],
   "source": [
    "solution_storage = [\n",
    "    LiquidLabware(\n",
    "        name='96_Plate1',\n",
    "        version='greiner_96_wellplate_360ul',\n",
    "        deck_slot=5,\n",
    "        # starting_well=\"A1\" \n",
    "    ),\n",
    "    LiquidLabware(\n",
    "        name='4mL_AntisolventTray',\n",
    "        version='frg_24_wellplate_4000ul',\n",
    "        deck_slot=6\n",
    "    ),\n",
    "    LiquidLabware(\n",
    "        name='4mL_SolutionTray',\n",
    "        version='frg_24_wellplate_4000ul',\n",
    "        deck_slot=4\n",
    "    ),\n",
    "    # LiquidLabware(\n",
    "    #     name='15mL_Tray1',\n",
    "    #     version='frg_12_wellplate_15000ul',\n",
    "    #     deck_slot=8  \n",
    "    # ),\n",
    "]\n",
    "\n",
    "#sort by volume,name\n",
    "solution_storage.sort(key=lambda labware: labware.name)\n",
    "solution_storage.sort(key=lambda labware: labware.volume)\n",
    "print('Priority Fill Order:')\n",
    "for ss in solution_storage: print(ss)"
   ]
  },
  {
   "cell_type": "markdown",
   "metadata": {},
   "source": [
    "-----"
   ]
  },
  {
   "cell_type": "markdown",
   "metadata": {},
   "source": [
    "# Define Experimental Mesh\n",
    "\n",
    "Each of the following cells defines one dimension of the experiment. After defining the individual dimensions, a full sample list will be constructed using a user-selected Design of Expeiment (DOE)"
   ]
  },
  {
   "cell_type": "markdown",
   "metadata": {},
   "source": [
    "## List of unique substrates that will be loaded to start the experiment.\n",
    "These are just strings to describe the substrate types."
   ]
  },
  {
   "cell_type": "code",
   "execution_count": 7,
   "metadata": {},
   "outputs": [],
   "source": [
    "input_substrates = [\n",
    "    '1mm glass'\n",
    "]"
   ]
  },
  {
   "cell_type": "markdown",
   "metadata": {},
   "source": [
    "## Solutions to spincast. \n",
    "\n",
    "Solutions are defined using `Solution` class instances.\n",
    "\n",
    "Chemical formula is defined with underscores between each component. If no coefficient is provided, assumes =1. Example:\n",
    "\n",
    "``` \n",
    "SolutionRecipe(\n",
    "        solutes='MA_Pb_I3',\n",
    "        solvent='DMF9_DMSO1',\n",
    "        molarity=1\n",
    "    )\n",
    "```\n",
    "Note that you can use parentheses to simplify the formulae.\n",
    "``` \n",
    "SolutionRecipe(\n",
    "        solutes='MA_Pb_(I0.8_Br0.2)3',\n",
    "        solvent='DMF9_DMSO1',\n",
    "        molarity=1\n",
    "    )\n",
    "```\n",
    "\n",
    "Antisolvents are also defined using `Solution` class instances. Solutes are left empty, and molarity is unused so can be left as 1/whatever number you like.\n",
    "\n",
    "Example:\n",
    "``` \n",
    "Solution(\n",
    "        solutes='',\n",
    "        solvent='Chlorobenzene',\n",
    "        molarity=1\n",
    "    )\n",
    "```\n",
    "\n",
    "Solutions that will be interchanged (for example, different absorber solutions for compositional search) should be stored in a list. This list will be used later to permute sample process variables\n"
   ]
  },
  {
   "cell_type": "code",
   "execution_count": 8,
   "metadata": {},
   "outputs": [],
   "source": [
    "\n",
    "target_absorbers = []\n",
    "# x = [1, 0.999, 0.995, 0.99, 0.95, 0.9, 0.8]\n",
    "x = [1, 0.995, 0.99, 0.95, 0.9]\n",
    "y = [0.4, 0.5, 0.6]\n",
    "for a in x:\n",
    "    for b in y:\n",
    "        target_absorbers.append(Solution(\n",
    "            solutes=f\"MA_Sn{a*b:0.4f}_Pb{a-(a*b):0.4f}_Bi{(1-a)/2:0.4f}_Ag{(1-a)/2:0.4f}_I3\",\n",
    "            solvent=\"DMF4_DMSO1\",\n",
    "            molarity=1.2,\n",
    "            # alias= f\"{b*100:0.0f}:{(1-b)*100:0.0f} Sn:Pb, {(1-a)*100:0.1f}% [Bi:Ag]\"\n",
    "        ))\n"
   ]
  },
  {
   "cell_type": "code",
   "execution_count": 9,
   "metadata": {},
   "outputs": [],
   "source": [
    "\n",
    "target_absorbers = []\n",
    "# x = [1, 0.999, 0.995, 0.99, 0.95, 0.9, 0.8]\n",
    "bi_loadings = [0, 0.01, 0.05, 0.1]\n",
    "pb_pbsn = 0.4 #pb/pb+sn fraction\n",
    "for bi in bi_loadings:\n",
    "    # without Ag\n",
    "    pbsn = 1-bi\n",
    "    pb = pbsn*pb_pbsn\n",
    "    sn = pbsn-pb\n",
    "    target_absorbers.append(Solution(\n",
    "        solutes=f\"MA_Sn{sn:0.4f}_Pb{pb:0.4f}_Bi{bi:0.4f}_I3\",\n",
    "        solvent=\"DMF4_DMSO1\",\n",
    "        molarity=1.2,\n",
    "        # alias= f\"{b*100:0.0f}:{(1-b)*100:0.0f} Sn:Pb, {(1-a)*100:0.1f}% [Bi:Ag]\"\n",
    "    ))\n",
    "\n",
    "    #with Ag\n",
    "    ag = bi\n",
    "    pbsn = 1-bi-ag\n",
    "    pb = pbsn*pb_pbsn\n",
    "    sn = pbsn-pb\n",
    "    target_absorbers.append(Solution(\n",
    "        solutes=f\"MA_Sn{sn:0.4f}_Pb{pb:0.4f}_Bi{bi:0.4f}_Ag{ag:0.4f}_I3\",\n",
    "        solvent=\"DMF4_DMSO1\",\n",
    "        molarity=1.2,\n",
    "        # alias= f\"{b*100:0.0f}:{(1-b)*100:0.0f} Sn:Pb, {(1-a)*100:0.1f}% [Bi:Ag]\"\n",
    "    ))"
   ]
  },
  {
   "cell_type": "code",
   "execution_count": 10,
   "metadata": {},
   "outputs": [],
   "source": [
    "antisolvent_cb = Solution(\n",
    "        solvent='Chlorobenzene',\n",
    "    )"
   ]
  },
  {
   "cell_type": "markdown",
   "metadata": {},
   "source": [
    "## Spincoating Recipes\n",
    "\n",
    "\n",
    "Spincoating recipes are defined using the `Spincoat` object. This takes two arguments: `steps`,a nested list of [speed, acceleration, duration] spin steps, and `drops`, a list of `Drop` objects that capture the details of each solution drop during spincoating. \n",
    "\n",
    "```\n",
    "Spincoat(\n",
    "        steps=[\n",
    "            [500,1000,20], #speed (rpm), acceleration (rpm/s), duration (s)\n",
    "            [4000,4000,30]\n",
    "        ],\n",
    "        drops=[\n",
    "            Drop(\n",
    "                solution=target_solutions[0],\n",
    "                volume=20, # uL\n",
    "                time=5, # seconds from start of spincoating\n",
    "                height=2, # mm above substrate to dispense from, optional\n",
    "                rate=50, # dispense rate (uL/sec), optional\n",
    "                pre_mix=3, #number of sequential aspirate->dispense cycles to mix solution prior to aspiration, optional\n",
    "            ),\n",
    "            Drop(\n",
    "                solution=cb_antisolvent,\n",
    "                volume=50,\n",
    "                rate=150,\n",
    "                time=30,\n",
    "                reuse_tip=True #whether to reuse this pipette tip (only uses tips previously used for the same solution.)\n",
    "            )\n",
    "        ]\n",
    "    )\n",
    "```\n",
    "\n",
    "often we will be using many solutions with the same spincoating recipe. In these cases, the `solution` argument of a `Drop` object can just be a string. This string can be substituted by a list of solutions at the final step. Example:\n",
    "\n",
    "```\n",
    "spincoat_recipes = [\n",
    "    Spincoat(\n",
    "        steps=[\n",
    "            [500,1000,20], #speed (rpm), acceleration (rpm/s), duration (s)\n",
    "            [4000,4000,30]\n",
    "        ],\n",
    "        drops = [\n",
    "            Drop(\n",
    "                solution='psk_solution', # we will fill any Drop solutions labeled as 'psk_solution' later\n",
    "                volume=20,\n",
    "                time=5,\n",
    "                pre_mix=3,\n",
    "            ),\n",
    "            Drop(\n",
    "                solution=cb_antisolvent,\n",
    "                volume=50,\n",
    "                rate=150,\n",
    "                time=40,\n",
    "                reuse_tip=True,\n",
    "            )\n",
    "        ]\n",
    "    ),\n",
    "```"
   ]
  },
  {
   "cell_type": "markdown",
   "metadata": {},
   "source": [
    "#### Defining spincoating parameters"
   ]
  },
  {
   "cell_type": "code",
   "execution_count": 11,
   "metadata": {},
   "outputs": [],
   "source": [
    "spincoat_absorber = Spincoat(\n",
    "        steps=[\n",
    "            [1000,500,10], #speed (rpm), acceleration (rpm/s), duration (s)\n",
    "            [3000,1000,30], #speed (rpm), acceleration (rpm/s), duration (s)\n",
    "        ],\n",
    "        drops = [\n",
    "            Drop(\n",
    "                solution='target_absorbers',  #this will be filled later using the list of psk solutions\n",
    "                volume=20,\n",
    "                time=-5,\n",
    "                pre_mix=(3,50),\n",
    "            ),\n",
    "            Drop(\n",
    "                solution=antisolvent_cb,\n",
    "                volume=50,\n",
    "                time=35,\n",
    "                reuse_tip=True,\n",
    "                touch_tip=False,\n",
    "                rate=150,\n",
    "                pre_mix=(3,100),\n",
    "                slow_travel=True\n",
    "            )\n",
    "        ],\n",
    "        immediate=False\n",
    "    )"
   ]
  },
  {
   "cell_type": "markdown",
   "metadata": {},
   "source": [
    "## Annealing Conditions\n",
    "Annealing conditions are defined as a list of `Anneal` class instances. Only two parameters - temperature (C) and duration (s)\n",
    "\n",
    "Example:\n",
    "``` \n",
    "    Anneal(\n",
    "        temperature=100, #degrees C\n",
    "        duration=60*60, #seconds\n",
    "    ),\n",
    "```"
   ]
  },
  {
   "cell_type": "code",
   "execution_count": 37,
   "metadata": {},
   "outputs": [],
   "source": [
    "anneal_absorber = [\n",
    "    Anneal(\n",
    "        temperature=100, #degrees C\n",
    "        duration=30*60, #seconds\n",
    "    ),\n",
    "    Anneal(\n",
    "        temperature=125, #degrees C\n",
    "        duration=30*60, #seconds\n",
    "    ),\n",
    "    Anneal(\n",
    "        temperature=150, #degrees C\n",
    "        duration=30*60, #seconds\n",
    "    ),\n",
    "    Anneal(\n",
    "        temperature=150, #degrees C\n",
    "        duration=60*60, #seconds\n",
    "    ),\n",
    "]"
   ]
  },
  {
   "cell_type": "markdown",
   "metadata": {},
   "source": [
    "-----"
   ]
  },
  {
   "cell_type": "markdown",
   "metadata": {},
   "source": [
    "# Design of Experiment\n",
    "\n",
    "We will input all the values defined above into `build_sample_list` to generate a sample list. Currently only a full-factorial design is implemented. \n",
    "The arguments for `build_sample_list` are as follows:\n",
    "- `input_substrates`: list of substrates (strings) describing the unique starting substrates\n",
    "- `steps`: worklist of process steps (`Spincoat`, `Anneal`, `Rest`, or `Characterize`) **in desired order of completion**. Each of the list elements can be a single step (if the step does not change across samples), or a list of steps of the same kind (for example, a list of spincoat variations)\n",
    "- `solution_mesh`: a dictionary used to fill in solution placeholders in `Drop` objects. Keys should match the placeholder strings, and values should be lists of `Solution` objects to put into the `Drop` object.\n",
    "- `n_repeats`: number of duplicates to run for each unique worklist\n",
    "\n",
    "arguments are lists defined above, and n_repeats is the number of times to repeat each unique combination of conditions"
   ]
  },
  {
   "cell_type": "code",
   "execution_count": 38,
   "metadata": {},
   "outputs": [],
   "source": [
    "\n",
    "samples = build_sample_list(\n",
    "    input_substrates = input_substrates,\n",
    "    steps = [\n",
    "        spincoat_absorber, \n",
    "        anneal_absorber, \n",
    "        Rest(60, immediate=True), \n",
    "        Characterize(immediate=False),\n",
    "    ],\n",
    "    solution_mesh = dict(\n",
    "        target_absorbers = target_absorbers\n",
    "    ),\n",
    "    n_repeats=1,\n",
    ")\n",
    "load_sample_trays(samples, sample_trays)\n"
   ]
  },
  {
   "cell_type": "code",
   "execution_count": 39,
   "metadata": {},
   "outputs": [
    {
     "name": "stdout",
     "output_type": "stream",
     "text": [
      "32\n"
     ]
    },
    {
     "data": {
      "text/html": [
       "<div>\n",
       "<style scoped>\n",
       "    .dataframe tbody tr th:only-of-type {\n",
       "        vertical-align: middle;\n",
       "    }\n",
       "\n",
       "    .dataframe tbody tr th {\n",
       "        vertical-align: top;\n",
       "    }\n",
       "\n",
       "    .dataframe thead th {\n",
       "        text-align: right;\n",
       "    }\n",
       "</style>\n",
       "<table border=\"1\" class=\"dataframe\">\n",
       "  <thead>\n",
       "    <tr style=\"text-align: right;\">\n",
       "      <th></th>\n",
       "      <th>name</th>\n",
       "      <th>storage_tray</th>\n",
       "      <th>storage_slot</th>\n",
       "      <th>worklist</th>\n",
       "      <th>spincoat0_steps</th>\n",
       "      <th>spincoat0_duration</th>\n",
       "      <th>spincoat0_drop0_solutes</th>\n",
       "      <th>spincoat0_drop0_solvent</th>\n",
       "      <th>spincoat0_drop0_molarity</th>\n",
       "      <th>spincoat0_drop0_time</th>\n",
       "      <th>...</th>\n",
       "      <th>spincoat0_drop1_solutes</th>\n",
       "      <th>spincoat0_drop1_solvent</th>\n",
       "      <th>spincoat0_drop1_molarity</th>\n",
       "      <th>spincoat0_drop1_time</th>\n",
       "      <th>spincoat0_drop1_height</th>\n",
       "      <th>spincoat0_drop1_rate</th>\n",
       "      <th>anneal0_temperature</th>\n",
       "      <th>anneal0_duration</th>\n",
       "      <th>rest0_type</th>\n",
       "      <th>rest0_duration</th>\n",
       "    </tr>\n",
       "  </thead>\n",
       "  <tbody>\n",
       "    <tr>\n",
       "      <th>0</th>\n",
       "      <td>sample0</td>\n",
       "      <td>Tray1</td>\n",
       "      <td>A1</td>\n",
       "      <td>[{'sample': 'sample0', 'start': nan, 'task': '...</td>\n",
       "      <td>[{'rpm': 1000.0, 'acceleration': 500.0, 'durat...</td>\n",
       "      <td>102</td>\n",
       "      <td>MA_Sn0.6000_Pb0.4000_Bi0.0000_I3</td>\n",
       "      <td>DMF4_DMSO1</td>\n",
       "      <td>1.2</td>\n",
       "      <td>-5</td>\n",
       "      <td>...</td>\n",
       "      <td></td>\n",
       "      <td>Chlorobenzene</td>\n",
       "      <td>1</td>\n",
       "      <td>35</td>\n",
       "      <td>2</td>\n",
       "      <td>150</td>\n",
       "      <td>100</td>\n",
       "      <td>1800</td>\n",
       "      <td>rest</td>\n",
       "      <td>60</td>\n",
       "    </tr>\n",
       "    <tr>\n",
       "      <th>1</th>\n",
       "      <td>sample1</td>\n",
       "      <td>Tray1</td>\n",
       "      <td>A2</td>\n",
       "      <td>[{'sample': 'sample1', 'start': nan, 'task': '...</td>\n",
       "      <td>[{'rpm': 1000.0, 'acceleration': 500.0, 'durat...</td>\n",
       "      <td>102</td>\n",
       "      <td>MA_Sn0.6000_Pb0.4000_Bi0.0000_Ag0.0000_I3</td>\n",
       "      <td>DMF4_DMSO1</td>\n",
       "      <td>1.2</td>\n",
       "      <td>-5</td>\n",
       "      <td>...</td>\n",
       "      <td></td>\n",
       "      <td>Chlorobenzene</td>\n",
       "      <td>1</td>\n",
       "      <td>35</td>\n",
       "      <td>2</td>\n",
       "      <td>150</td>\n",
       "      <td>100</td>\n",
       "      <td>1800</td>\n",
       "      <td>rest</td>\n",
       "      <td>60</td>\n",
       "    </tr>\n",
       "    <tr>\n",
       "      <th>2</th>\n",
       "      <td>sample2</td>\n",
       "      <td>Tray1</td>\n",
       "      <td>A3</td>\n",
       "      <td>[{'sample': 'sample2', 'start': nan, 'task': '...</td>\n",
       "      <td>[{'rpm': 1000.0, 'acceleration': 500.0, 'durat...</td>\n",
       "      <td>102</td>\n",
       "      <td>MA_Sn0.5940_Pb0.3960_Bi0.0100_I3</td>\n",
       "      <td>DMF4_DMSO1</td>\n",
       "      <td>1.2</td>\n",
       "      <td>-5</td>\n",
       "      <td>...</td>\n",
       "      <td></td>\n",
       "      <td>Chlorobenzene</td>\n",
       "      <td>1</td>\n",
       "      <td>35</td>\n",
       "      <td>2</td>\n",
       "      <td>150</td>\n",
       "      <td>100</td>\n",
       "      <td>1800</td>\n",
       "      <td>rest</td>\n",
       "      <td>60</td>\n",
       "    </tr>\n",
       "    <tr>\n",
       "      <th>3</th>\n",
       "      <td>sample3</td>\n",
       "      <td>Tray1</td>\n",
       "      <td>A4</td>\n",
       "      <td>[{'sample': 'sample3', 'start': nan, 'task': '...</td>\n",
       "      <td>[{'rpm': 1000.0, 'acceleration': 500.0, 'durat...</td>\n",
       "      <td>102</td>\n",
       "      <td>MA_Sn0.5880_Pb0.3920_Bi0.0100_Ag0.0100_I3</td>\n",
       "      <td>DMF4_DMSO1</td>\n",
       "      <td>1.2</td>\n",
       "      <td>-5</td>\n",
       "      <td>...</td>\n",
       "      <td></td>\n",
       "      <td>Chlorobenzene</td>\n",
       "      <td>1</td>\n",
       "      <td>35</td>\n",
       "      <td>2</td>\n",
       "      <td>150</td>\n",
       "      <td>100</td>\n",
       "      <td>1800</td>\n",
       "      <td>rest</td>\n",
       "      <td>60</td>\n",
       "    </tr>\n",
       "    <tr>\n",
       "      <th>4</th>\n",
       "      <td>sample4</td>\n",
       "      <td>Tray1</td>\n",
       "      <td>A5</td>\n",
       "      <td>[{'sample': 'sample4', 'start': nan, 'task': '...</td>\n",
       "      <td>[{'rpm': 1000.0, 'acceleration': 500.0, 'durat...</td>\n",
       "      <td>102</td>\n",
       "      <td>MA_Sn0.5700_Pb0.3800_Bi0.0500_I3</td>\n",
       "      <td>DMF4_DMSO1</td>\n",
       "      <td>1.2</td>\n",
       "      <td>-5</td>\n",
       "      <td>...</td>\n",
       "      <td></td>\n",
       "      <td>Chlorobenzene</td>\n",
       "      <td>1</td>\n",
       "      <td>35</td>\n",
       "      <td>2</td>\n",
       "      <td>150</td>\n",
       "      <td>100</td>\n",
       "      <td>1800</td>\n",
       "      <td>rest</td>\n",
       "      <td>60</td>\n",
       "    </tr>\n",
       "  </tbody>\n",
       "</table>\n",
       "<p>5 rows × 22 columns</p>\n",
       "</div>"
      ],
      "text/plain": [
       "      name storage_tray storage_slot  \\\n",
       "0  sample0        Tray1           A1   \n",
       "1  sample1        Tray1           A2   \n",
       "2  sample2        Tray1           A3   \n",
       "3  sample3        Tray1           A4   \n",
       "4  sample4        Tray1           A5   \n",
       "\n",
       "                                            worklist  \\\n",
       "0  [{'sample': 'sample0', 'start': nan, 'task': '...   \n",
       "1  [{'sample': 'sample1', 'start': nan, 'task': '...   \n",
       "2  [{'sample': 'sample2', 'start': nan, 'task': '...   \n",
       "3  [{'sample': 'sample3', 'start': nan, 'task': '...   \n",
       "4  [{'sample': 'sample4', 'start': nan, 'task': '...   \n",
       "\n",
       "                                     spincoat0_steps  spincoat0_duration  \\\n",
       "0  [{'rpm': 1000.0, 'acceleration': 500.0, 'durat...                 102   \n",
       "1  [{'rpm': 1000.0, 'acceleration': 500.0, 'durat...                 102   \n",
       "2  [{'rpm': 1000.0, 'acceleration': 500.0, 'durat...                 102   \n",
       "3  [{'rpm': 1000.0, 'acceleration': 500.0, 'durat...                 102   \n",
       "4  [{'rpm': 1000.0, 'acceleration': 500.0, 'durat...                 102   \n",
       "\n",
       "                     spincoat0_drop0_solutes spincoat0_drop0_solvent  \\\n",
       "0           MA_Sn0.6000_Pb0.4000_Bi0.0000_I3              DMF4_DMSO1   \n",
       "1  MA_Sn0.6000_Pb0.4000_Bi0.0000_Ag0.0000_I3              DMF4_DMSO1   \n",
       "2           MA_Sn0.5940_Pb0.3960_Bi0.0100_I3              DMF4_DMSO1   \n",
       "3  MA_Sn0.5880_Pb0.3920_Bi0.0100_Ag0.0100_I3              DMF4_DMSO1   \n",
       "4           MA_Sn0.5700_Pb0.3800_Bi0.0500_I3              DMF4_DMSO1   \n",
       "\n",
       "   spincoat0_drop0_molarity  spincoat0_drop0_time  ...  \\\n",
       "0                       1.2                    -5  ...   \n",
       "1                       1.2                    -5  ...   \n",
       "2                       1.2                    -5  ...   \n",
       "3                       1.2                    -5  ...   \n",
       "4                       1.2                    -5  ...   \n",
       "\n",
       "   spincoat0_drop1_solutes  spincoat0_drop1_solvent spincoat0_drop1_molarity  \\\n",
       "0                                     Chlorobenzene                        1   \n",
       "1                                     Chlorobenzene                        1   \n",
       "2                                     Chlorobenzene                        1   \n",
       "3                                     Chlorobenzene                        1   \n",
       "4                                     Chlorobenzene                        1   \n",
       "\n",
       "  spincoat0_drop1_time  spincoat0_drop1_height  spincoat0_drop1_rate  \\\n",
       "0                   35                       2                   150   \n",
       "1                   35                       2                   150   \n",
       "2                   35                       2                   150   \n",
       "3                   35                       2                   150   \n",
       "4                   35                       2                   150   \n",
       "\n",
       "   anneal0_temperature  anneal0_duration  rest0_type  rest0_duration  \n",
       "0                  100              1800        rest              60  \n",
       "1                  100              1800        rest              60  \n",
       "2                  100              1800        rest              60  \n",
       "3                  100              1800        rest              60  \n",
       "4                  100              1800        rest              60  \n",
       "\n",
       "[5 rows x 22 columns]"
      ]
     },
     "execution_count": 39,
     "metadata": {},
     "output_type": "execute_result"
    }
   ],
   "source": [
    "df = samples_to_dataframe(samples)\n",
    "df.to_csv(f'SampleDataframe_{experiment_name}.csv')\n",
    "print(len(df))\n",
    "df.head()"
   ]
  },
  {
   "cell_type": "code",
   "execution_count": 40,
   "metadata": {},
   "outputs": [],
   "source": [
    "from random import shuffle\n",
    "shuffle(samples)"
   ]
  },
  {
   "cell_type": "markdown",
   "metadata": {},
   "source": [
    "-----"
   ]
  },
  {
   "cell_type": "markdown",
   "metadata": {},
   "source": [
    "# Preparing the Solutions"
   ]
  },
  {
   "cell_type": "markdown",
   "metadata": {},
   "source": [
    "## Define Stock Solutions\n",
    "\n",
    "These are the solutions that you will be mixing to (hopefully) cover your target solutions. If they don't work, the code will tell you, and you can come back to this point and try again."
   ]
  },
  {
   "cell_type": "code",
   "execution_count": 41,
   "metadata": {},
   "outputs": [
    {
     "data": {
      "text/plain": [
       "[<LiquidLabware> 96_Plate1, 0.36 mL volume, 96 wells,\n",
       " <LiquidLabware> 4mL_AntisolventTray, 4.0 mL volume, 24 wells,\n",
       " <LiquidLabware> 4mL_SolutionTray, 4.0 mL volume, 24 wells]"
      ]
     },
     "execution_count": 41,
     "metadata": {},
     "output_type": "execute_result"
    }
   ],
   "source": [
    "solution_storage"
   ]
  },
  {
   "cell_type": "code",
   "execution_count": 42,
   "metadata": {},
   "outputs": [],
   "source": [
    "stock_solutions = [\n",
    "    Solution(\n",
    "        solutes = 'MA_Sn0.6_Pb0.4_I3',\n",
    "        solvent = 'DMF4_DMSO1',\n",
    "        molarity = 1.2,\n",
    "        labware='4mL_SolutionTray',\n",
    "        well='A6'\n",
    "        # alias = '60:40 Sn:Pb, no [Bi:Ag] STOCK'\n",
    "    ),\n",
    "    Solution(\n",
    "        solutes = 'MA_Sn0.48_Pb0.32_Bi0.1_Ag0.1_I3',\n",
    "        solvent = 'DMF4_DMSO1',\n",
    "        molarity = 1.2,\n",
    "        labware='96_Plate1',\n",
    "        well='A1'\n",
    "        # alias = '60:40 Sn:Pb, 30% [Bi:Ag] STOCK'\n",
    "        ),\n",
    "    Solution(\n",
    "        solutes = 'MA_Sn0.54_Pb0.36_Bi0.1_I3',\n",
    "        solvent = 'DMF4_DMSO1',\n",
    "        molarity = 1.2,\n",
    "        labware='96_Plate1',\n",
    "        well='A2'\n",
    "        # alias = '60:40 Sn:Pb, 30% [Bi:Ag] STOCK'\n",
    "        ),\n",
    "    Solution(\n",
    "        solvent='Chlorobenzene',\n",
    "        labware='4mL_AntisolventTray',\n",
    "        well='D1'\n",
    "    )\n",
    "]"
   ]
  },
  {
   "cell_type": "markdown",
   "metadata": {},
   "source": [
    "Can we cover target solutions with these stocks? and if so, how much of each stock to mix for each target?\n",
    "\n",
    "This will throw an error if the stock solutions are not able to cover our experiment"
   ]
  },
  {
   "cell_type": "code",
   "execution_count": 43,
   "metadata": {},
   "outputs": [],
   "source": [
    "required_solutions = {}\n",
    "for s in samples:\n",
    "    for task in s.worklist:\n",
    "        if isinstance(task, Spincoat):\n",
    "            for d in task.drops:\n",
    "                sol = d.solution\n",
    "                if sol in required_solutions:\n",
    "                    required_solutions[sol] += d.volume\n",
    "                else:\n",
    "                    required_solutions[sol] = d.volume + 500 #50 ul minimum volume per well for successful aspiration"
   ]
  },
  {
   "cell_type": "code",
   "execution_count": 44,
   "metadata": {},
   "outputs": [],
   "source": [
    "# shuffle(stock_solutions)\n",
    "mixer = mx.Mixer(\n",
    "    stock_solutions=stock_solutions,\n",
    "    targets=required_solutions,\n",
    ")\n",
    "mixer.solve(\n",
    "    min_volume=20,\n",
    "    max_inputs=4,\n",
    "    tolerance=1e-4,\n",
    "    strategy='prefer_stock'\n",
    ")"
   ]
  },
  {
   "cell_type": "code",
   "execution_count": 45,
   "metadata": {},
   "outputs": [
    {
     "name": "stdout",
     "output_type": "stream",
     "text": [
      "===== Stock Prep =====\n",
      "2100.00 of Chlorobenzene\n",
      "928.00 of 1.2M MA_Sn0.48_Pb0.32_Bi0.1_Ag0.1_I3 in DMF4_DMSO1\n",
      "2284.00 of 1.2M MA_Sn0.6_Pb0.4_I3 in DMF4_DMSO1\n",
      "928.00 of 1.2M MA_Sn0.54_Pb0.36_Bi0.1_I3 in DMF4_DMSO1\n",
      "====== Mixing =====\n",
      "Distribute 1.2M MA_Sn0.48_Pb0.32_Bi0.1_Ag0.1_I3 in DMF4_DMSO1:\n",
      "\t290.00 to 1.2M MA_Sn0.5400_Pb0.3600_Bi0.0500_Ag0.0500_I3 in DMF4_DMSO1\n",
      "\t58.00 to 1.2M MA_Sn0.5880_Pb0.3920_Bi0.0100_Ag0.0100_I3 in DMF4_DMSO1\n",
      "Distribute 1.2M MA_Sn0.6_Pb0.4_I3 in DMF4_DMSO1:\n",
      "\t290.00 to 1.2M MA_Sn0.5400_Pb0.3600_Bi0.0500_Ag0.0500_I3 in DMF4_DMSO1\n",
      "\t522.00 to 1.2M MA_Sn0.5880_Pb0.3920_Bi0.0100_Ag0.0100_I3 in DMF4_DMSO1\n",
      "\t522.00 to 1.2M MA_Sn0.5940_Pb0.3960_Bi0.0100_I3 in DMF4_DMSO1\n",
      "\t290.00 to 1.2M MA_Sn0.5700_Pb0.3800_Bi0.0500_I3 in DMF4_DMSO1\n",
      "Distribute 1.2M MA_Sn0.54_Pb0.36_Bi0.1_I3 in DMF4_DMSO1:\n",
      "\t58.00 to 1.2M MA_Sn0.5940_Pb0.3960_Bi0.0100_I3 in DMF4_DMSO1\n",
      "\t290.00 to 1.2M MA_Sn0.5700_Pb0.3800_Bi0.0500_I3 in DMF4_DMSO1\n"
     ]
    }
   ],
   "source": [
    "mixer.print()"
   ]
  },
  {
   "cell_type": "code",
   "execution_count": 46,
   "metadata": {},
   "outputs": [],
   "source": [
    "solution_details, mixing_netlist = handle_liquids(\n",
    "    samples=samples,\n",
    "    mixer=mixer,\n",
    "    solution_storage=solution_storage,\n",
    ")"
   ]
  },
  {
   "cell_type": "markdown",
   "metadata": {},
   "source": [
    "Solution map"
   ]
  },
  {
   "cell_type": "code",
   "execution_count": 47,
   "metadata": {},
   "outputs": [
    {
     "data": {
      "image/png": "[encoded data removed]",
      "text/plain": [
       "<Figure size 432x864 with 3 Axes>"
      ]
     },
     "metadata": {
      "needs_background": "light"
     },
     "output_type": "display_data"
    }
   ],
   "source": [
    "ll_with_solutions = [\n",
    "    ll for ll in solution_storage\n",
    "    if len(ll.contents) > 0\n",
    "]\n",
    "\n",
    "fig, ax = plt.subplots(len(ll_with_solutions), 1, figsize=(6,4*len(ll_with_solutions)))\n",
    "try:\n",
    "    ax = ax.flat\n",
    "except:\n",
    "    ax = [ax]\n",
    "for ll, ax_ in zip(ll_with_solutions, ax):\n",
    "    ll.plot(solution_details=solution_details, ax=ax_)\n",
    "plt.savefig(f\"solutionmap_{experiment_name}.jpeg\", dpi=150, bbox_inches='tight')"
   ]
  },
  {
   "cell_type": "markdown",
   "metadata": {},
   "source": [
    "-----"
   ]
  },
  {
   "cell_type": "markdown",
   "metadata": {},
   "source": [
    "# Build the Experiment Schedule + Save Worklist"
   ]
  },
  {
   "cell_type": "code",
   "execution_count": 48,
   "metadata": {},
   "outputs": [
    {
     "name": "stdout",
     "output_type": "stream",
     "text": [
      "solution status: FEASIBLE\n"
     ]
    },
    {
     "data": {
      "image/png": "[encoded data removed]",
      "text/plain": [
       "<Figure size 1008x360 with 2 Axes>"
      ]
     },
     "metadata": {
      "needs_background": "light"
     },
     "output_type": "display_data"
    }
   ],
   "source": [
    "scheduler = Scheduler(\n",
    "    samples=samples,\n",
    "    spanning_tasks = [\"characterize\", \"spincoat\"], #these tasks spanning each pair must be done in sequence per sample\n",
    "    enforce_sample_order=True\n",
    ")\n",
    "ordered_tasks = scheduler.solve(30) #argument defines how long (s) to work on finding a solution\n",
    "plt.savefig(f'pascalschedule_{experiment_name}', dpi=300, bbox_inches='tight')"
   ]
  },
  {
   "cell_type": "markdown",
   "metadata": {},
   "source": [
    "----"
   ]
  },
  {
   "cell_type": "markdown",
   "metadata": {},
   "source": [
    "# Write final files to disk"
   ]
  },
  {
   "cell_type": "markdown",
   "metadata": {},
   "source": [
    "## Plot + save images that map the solution + substrate loading positions"
   ]
  },
  {
   "cell_type": "markdown",
   "metadata": {},
   "source": [
    "## Solution Instructions to csv, tells operator where/how much to put solutions"
   ]
  },
  {
   "cell_type": "code",
   "execution_count": null,
   "metadata": {},
   "outputs": [],
   "source": [
    "with open(f'stocksolutions_{experiment_name}.csv', 'w', newline='') as f:\n",
    "    writer = csv.writer(f, delimiter=',')\n",
    "    header = [\n",
    "        'Labware',\n",
    "        'Well',\n",
    "        'Volume (uL)',\n",
    "        'Solutes',\n",
    "        'Molarity (M)',\n",
    "        'Solvent',        \n",
    "    ]\n",
    "    writer.writerow(header)\n",
    "    for solution, details in solution_details.items():\n",
    "        volume = details['initial_volume_required']\n",
    "        if volume == 0:\n",
    "            volume = 'Empty Vial'\n",
    "        line = [\n",
    "            details['labware'],\n",
    "            details['well'],\n",
    "            volume,\n",
    "            solution.solutes,\n",
    "            solution.molarity,\n",
    "            solution.solvent,\n",
    "        ]\n",
    "        writer.writerow(line)"
   ]
  },
  {
   "cell_type": "markdown",
   "metadata": {},
   "source": [
    "Substrate map"
   ]
  },
  {
   "cell_type": "code",
   "execution_count": null,
   "metadata": {},
   "outputs": [
    {
     "data": {
      "image/png": "[encoded data removed]",
      "text/plain": [
       "<Figure size 216x288 with 1 Axes>"
      ]
     },
     "metadata": {
      "needs_background": "light"
     },
     "output_type": "display_data"
    }
   ],
   "source": [
    "st_with_samples = [\n",
    "    st for st in sample_trays\n",
    "    if len(st.contents) > 0\n",
    "]\n",
    "\n",
    "fig, ax = plt.subplots(len(st_with_samples), 1, figsize=(3,4*len(st_with_samples)))\n",
    "try:\n",
    "    ax = ax.flat\n",
    "except:\n",
    "    ax = [ax]\n",
    "for ll, ax_ in zip(st_with_samples, ax):\n",
    "    ll.plot(ax=ax_)\n",
    "plt.savefig(f\"traymap_{experiment_name}.jpeg\", dpi=150, bbox_inches='tight')"
   ]
  },
  {
   "cell_type": "markdown",
   "metadata": {},
   "source": [
    "## Generate protocol for Opentrons liquid handler"
   ]
  },
  {
   "cell_type": "code",
   "execution_count": null,
   "metadata": {},
   "outputs": [
    {
     "name": "stdout",
     "output_type": "stream",
     "text": [
      "OT2 protocol dumped to \"./OT2PASCALProtocol_MA(SnPbBiAg)I3 First Spread_absorbers.py\"\n"
     ]
    }
   ],
   "source": [
    "generate_ot2_protocol(\n",
    "    title=experiment_name,\n",
    "    mixing_netlist= mixing_netlist,\n",
    "    labware=solution_storage,\n",
    "    tipracks=tipracks)\n",
    "    "
   ]
  },
  {
   "cell_type": "code",
   "execution_count": null,
   "metadata": {},
   "outputs": [
    {
     "name": "stdout",
     "output_type": "stream",
     "text": [
      "Maestro Netlist dumped to \"maestronetlist_MA(SnPbBiAg)I3 First Spread_absorbers.json\"\n"
     ]
    }
   ],
   "source": [
    "ordered_task_output = [task.to_dict() for task in ordered_tasks]\n",
    "\n",
    "samples_output = {sample.name:sample.to_dict() for sample in samples}\n",
    "out = {\n",
    "    'name': experiment_name,\n",
    "    'description': experiment_description,\n",
    "    'samples': samples_output,\n",
    "    'tasks': ordered_task_output,\n",
    "}\n",
    "\n",
    "fname = f'maestronetlist_{experiment_name}.json'\n",
    "with open(fname, 'w') as f:\n",
    "    json.dump(out, f, indent=4, sort_keys=True)\n",
    "print(f'Maestro Netlist dumped to \"{fname}\"')"
   ]
  },
  {
   "cell_type": "markdown",
   "metadata": {},
   "source": [
    "# Powder Weighing"
   ]
  },
  {
   "cell_type": "code",
   "execution_count": null,
   "metadata": {},
   "outputs": [],
   "source": [
    "powders = [\n",
    "    mx.Powder('Pb_I2'),\n",
    "    mx.Powder('Sn_I2'),\n",
    "    mx.Powder('Bi_I3'),\n",
    "    mx.Powder('Ag_I'),\n",
    "    mx.Powder(\n",
    "        formula='MA_I',\n",
    "        molar_mass=mx.calculate_molar_mass('CH6NI'),\n",
    "    ),\n",
    "]\n",
    "weigher = mx.Weigher(powders=powders)"
   ]
  },
  {
   "cell_type": "code",
   "execution_count": null,
   "metadata": {},
   "outputs": [
    {
     "name": "stdout",
     "output_type": "stream",
     "text": [
      "1.2M MA_Sn0.48_Pb0.32_Bi0.1_Ag0.1_I3 in DMF4_DMSO1:896.0\n",
      "1.2M MA_Sn0.54_Pb0.36_Bi0.1_I3 in DMF4_DMSO1:896.0\n",
      "1.2M MA_Sn0.6_Pb0.4_I3 in DMF4_DMSO1:2188.0\n",
      "Chlorobenzene:1700.0\n"
     ]
    }
   ],
   "source": [
    "stock_details = {k:v for k,v in solution_details.items() if v['is_stock']}\n",
    "\n",
    "for k,v in stock_details.items():\n",
    "    print(f\"{k}:{v['largest_volume_required']}\")"
   ]
  },
  {
   "cell_type": "code",
   "execution_count": null,
   "metadata": {},
   "outputs": [
    {
     "data": {
      "text/plain": [
       "[<Solution> 1.2M MA_Sn0.6_Pb0.4_I3 in DMF4_DMSO1,\n",
       " <Solution> 1.2M MA_Sn0.48_Pb0.32_Bi0.1_Ag0.1_I3 in DMF4_DMSO1,\n",
       " <Solution> 1.2M MA_Sn0.54_Pb0.36_Bi0.1_I3 in DMF4_DMSO1,\n",
       " <Solution> Chlorobenzene]"
      ]
     },
     "execution_count": 30,
     "metadata": {},
     "output_type": "execute_result"
    }
   ],
   "source": [
    "stock_solutions"
   ]
  },
  {
   "cell_type": "code",
   "execution_count": null,
   "metadata": {},
   "outputs": [
    {
     "name": "stdout",
     "output_type": "stream",
     "text": [
      "MA_Sn0.48_Pb0.32_Bi0.1_Ag0.1_I3:1096.0\n",
      "MA_Sn0.54_Pb0.36_Bi0.1_I3:1096.0\n",
      "MA_Sn0.6_Pb0.4_I3:2388.0\n"
     ]
    }
   ],
   "source": [
    "for solution, v in stock_details.items():\n",
    "    try:\n",
    "        # v['weights'] = weigher.get_weights(solution, volume=1e-3, tolerance=1e-4)\n",
    "        volume = (v['initial_volume_required']+200)\n",
    "        v['weights'] = weigher.get_weights(solution, volume=volume*1e-6, tolerance=1e-4)\n",
    "        print(f\"{solution.solutes}:{volume}\")\n",
    "    except:\n",
    "        v['weights'] = {}"
   ]
  },
  {
   "cell_type": "code",
   "execution_count": null,
   "metadata": {},
   "outputs": [],
   "source": [
    "unique_powders = list(set([p\n",
    "for v in stock_details.values()\n",
    "for p in v['weights']]))"
   ]
  },
  {
   "cell_type": "code",
   "execution_count": null,
   "metadata": {},
   "outputs": [],
   "source": [
    "with open('weight_table.csv', 'w', newline='') as f:\n",
    "    writer = csv.writer(f, delimiter=',')\n",
    "    writer.writerow(['Solution'] + [f\"{p} (mg)\" for p in unique_powders])\n",
    "    for solution, v in stock_details.items():\n",
    "        line = [solution]\n",
    "        for p in unique_powders:\n",
    "            if p in v['weights']:\n",
    "                line.append(round(v['weights'][p]*1000, 2))\n",
    "            else:\n",
    "                line.append('')\n",
    "        writer.writerow(line)"
   ]
  },
  {
   "cell_type": "code",
   "execution_count": null,
   "metadata": {},
   "outputs": [
    {
     "name": "stdout",
     "output_type": "stream",
     "text": [
      "Pb_I2:461.00894\n",
      "Sn_I2:372.51894\n",
      "Bi_I3:589.69381\n",
      "Ag_I:234.77267\n",
      "MA_I:158.969559\n"
     ]
    }
   ],
   "source": [
    "for p in powders:\n",
    "    print(f\"{p.formula}:{p.molar_mass}\")"
   ]
  },
  {
   "cell_type": "code",
   "execution_count": null,
   "metadata": {},
   "outputs": [],
   "source": [
    "bionly = Solution(\n",
    "    solutes='MA_Pb0.36_Sn0.54_Bi0.1_I3.1',\n",
    "    solvent='DMF4_DMSO1',\n",
    "    molarity=1.2\n",
    ")"
   ]
  },
  {
   "cell_type": "code",
   "execution_count": null,
   "metadata": {},
   "outputs": [
    {
     "data": {
      "text/plain": [
       "370.3512092534175"
      ]
     },
     "execution_count": 36,
     "metadata": {},
     "output_type": "execute_result"
    }
   ],
   "source": [
    "382*73.76/76.08"
   ]
  },
  {
   "cell_type": "code",
   "execution_count": null,
   "metadata": {},
   "outputs": [
    {
     "data": {
      "text/plain": [
       "{'Pb_I2': 74.28513655584,\n",
       " 'Sn_I2': 90.03931787376,\n",
       " 'Bi_I3': 26.3946949356,\n",
       " 'MA_I': 71.1547746084}"
      ]
     },
     "execution_count": 37,
     "metadata": {},
     "output_type": "execute_result"
    }
   ],
   "source": [
    "ws = weigher.get_weights(bionly, volume=373e-3, tolerance=1e-4)\n",
    "ws"
   ]
  },
  {
   "cell_type": "code",
   "execution_count": null,
   "metadata": {},
   "outputs": [
    {
     "data": {
      "text/plain": [
       "<Solution> 1.2M I3.026963_Pb0.3515183_Sn0.5272775_MA0.9764398_Bi0.09764398 in DMF"
      ]
     },
     "execution_count": 38,
     "metadata": {},
     "output_type": "execute_result"
    }
   ],
   "source": [
    "weigher.weights_to_solution(ws, 382e-3, 'DMF', molarity=1.2)"
   ]
  },
  {
   "cell_type": "code",
   "execution_count": null,
   "metadata": {},
   "outputs": [
    {
     "name": "stdout",
     "output_type": "stream",
     "text": [
      "1.2M I3_Pb0.32_Sn0.48_MA1_Bi0.1_Ag0.1 in DMF3_DMSO1\n",
      "1.2M I3.005263_Pb0.3494737_Sn0.5294737_MA0.9947368_Bi0.08421053 in DMF3_DMSO1\n",
      "1.2M I3_Pb0.4_Sn0.6_MA1 in DMF3_DMSO1\n",
      "DMF3_DMSO1\n"
     ]
    }
   ],
   "source": [
    "for k,v in stock_details.items():\n",
    "    print(weigher.weights_to_solution(v['weights'], volume=(v['initial_volume_required']+200)*1e-6, solvent='DMF3_DMSO1', molarity=1.2))"
   ]
  },
  {
   "cell_type": "markdown",
   "metadata": {},
   "source": []
  }
 ],
 "metadata": {
  "interpreter": {
   "hash": "98098c180632dc34c2d481ea947af6f21f8ddd2925efa1f9cc0fafc572f11412"
  },
  "kernelspec": {
   "display_name": "Python 3.8.0 64-bit ('pascal': conda)",
   "name": "python3"
  },
  "language_info": {
   "codemirror_mode": {
    "name": "ipython",
    "version": 3
   },
   "file_extension": ".py",
   "mimetype": "text/x-python",
   "name": "python",
   "nbconvert_exporter": "python",
   "pygments_lexer": "ipython3",
   "version": "3.8.0"
  }
 },
 "nbformat": 4,
 "nbformat_minor": 5
}
