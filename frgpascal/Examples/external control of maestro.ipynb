{
 "cells": [
  {
   "cell_type": "code",
   "execution_count": 26,
   "metadata": {},
   "outputs": [],
   "source": [
    "from frgpascal.experimentaldesign.tasks import *\n",
    "from frgpascal.experimentaldesign.protocolwriter import generate_ot2_protocol\n",
    "from frgpascal.hardware.sampletray import SampleTray, AVAILABLE_VERSIONS as sampletray_versions\n",
    "from frgpascal.hardware.liquidlabware import TipRack, LiquidLabware, AVAILABLE_VERSIONS as liquid_labware_versions\n",
    "from frgpascal.hardware.hotplate import AVAILABLE_VERSIONS as hotplate_versions\n",
    "import frgpascal.experimentaldesign.characterizationtasks as ct\n",
    "# from frgpascal.analysis import photoluminescence as PL \n",
    "from frgpascal.bridge import PASCALAxQueue"
   ]
  },
  {
   "cell_type": "markdown",
   "metadata": {},
   "source": [
    "-----"
   ]
  },
  {
   "cell_type": "markdown",
   "metadata": {},
   "source": [
    "# Define hardware for this experiment"
   ]
  },
  {
   "cell_type": "markdown",
   "metadata": {},
   "source": [
    "## Sample Storage Trays\n",
    "These are the trays used to load samples in/out of the glovebox"
   ]
  },
  {
   "cell_type": "code",
   "execution_count": 7,
   "metadata": {},
   "outputs": [
    {
     "name": "stdout",
     "output_type": "stream",
     "text": [
      "Available Sample Tray Versions:\n",
      "\tstorage_v3\n",
      "\tstorage_v2\n",
      "\tstorage_v1\n"
     ]
    }
   ],
   "source": [
    "print('Available Sample Tray Versions:')\n",
    "for v in sampletray_versions:\n",
    "    print(f'\\t{v}')"
   ]
  },
  {
   "cell_type": "code",
   "execution_count": 32,
   "metadata": {},
   "outputs": [],
   "source": [
    "sample_tray = SampleTray(\n",
    "    name='Tray1',\n",
    "    version='storage_v1',\n",
    "    gantry=None,\n",
    "    gripper=None,\n",
    "    p0=[0,0,0]\n",
    ")"
   ]
  },
  {
   "cell_type": "markdown",
   "metadata": {},
   "source": [
    "## Liquid Labware \n",
    "\n",
    "Include _all possible_ liquid storage + pipette tipracks. Later on we will narrow this down to what is required once we know what solutions and volumes we need.\n",
    "\n",
    "Versions are defined by the same json files used to define custom labware for the Opentrons2 liquid handler. \n",
    "New labware can be defined by following https://support.opentrons.com/en/articles/3136504-creating-custom-labware-definitions\n",
    "\n",
    "The location of the labware/tiprack on the opentrons deck must be specified as well.\n",
    "\n",
    "\n",
    "| Deck | Slot | Layout |\n",
    "| ----------- | ----------- | ----------- |\n",
    "| 10      | 11       | _Trash_ |\n",
    "| 7   | 8        | 9 |\n",
    "|4 | 5 | 6|\n",
    "|1 | _Spin_ | _Coater_|\n",
    "\n",
    "\n",
    "For partially consumed tip racks, the `starting_tip` argument can be used to specify the first available tip. Tips before this assumed to be used up. (moves down->right, like A1, B1...H1, A2, B2 etc). If this argument is omitted, we assume to start at tip A1"
   ]
  },
  {
   "cell_type": "code",
   "execution_count": 9,
   "metadata": {},
   "outputs": [
    {
     "name": "stdout",
     "output_type": "stream",
     "text": [
      "\n",
      "Available Liquid Labwares:\n",
      "\tfrg_12_wellplate_15000ul\n",
      "\tsartorius_safetyspace_tiprack_200ul\n",
      "\tgreiner_96_wellplate_360ul\n",
      "\tfrg_spincoater_v1\n",
      "\tfrg_24_wellplate_4000ul\n"
     ]
    }
   ],
   "source": [
    "print('\\nAvailable Liquid Labwares:')\n",
    "for v in liquid_labware_versions:\n",
    "    print(f'\\t{v}')"
   ]
  },
  {
   "cell_type": "code",
   "execution_count": 10,
   "metadata": {},
   "outputs": [],
   "source": [
    "tipracks = [\n",
    "    TipRack(\n",
    "        version='sartorius_safetyspace_tiprack_200ul', \n",
    "        deck_slot=9,\n",
    "        starting_tip=\"F8\"\n",
    "    ),\n",
    "    TipRack(\n",
    "        version='sartorius_safetyspace_tiprack_200ul', \n",
    "        deck_slot=8,\n",
    "        starting_tip=\"A2\"\n",
    "    ),\n",
    "    TipRack(\n",
    "        version='sartorius_safetyspace_tiprack_200ul', \n",
    "        deck_slot=11,\n",
    "        starting_tip=\"A2\"\n",
    "    ),\n",
    "    ]"
   ]
  },
  {
   "cell_type": "markdown",
   "metadata": {},
   "source": [
    "the `starting_well` argument can be used to similarly specify the first available well on the tray. This is useful for mixing on partially used well plates. Note that the use order of wells differs from tips (moves right->down, like A1, A2,...A12, B1, B2 etc)"
   ]
  },
  {
   "cell_type": "code",
   "execution_count": 12,
   "metadata": {},
   "outputs": [
    {
     "name": "stdout",
     "output_type": "stream",
     "text": [
      "Priority Fill Order:\n",
      "<LiquidLabware> 96_Plate1, 0.36 mL volume, 96 wells\n",
      "<LiquidLabware> 4mL_Tray1, 4.0 mL volume, 24 wells\n"
     ]
    }
   ],
   "source": [
    "plate96 = LiquidLabware(\n",
    "    name='96_Plate1',\n",
    "    version='greiner_96_wellplate_360ul',\n",
    "    deck_slot=5,\n",
    "    starting_well=\"B2\" \n",
    ")\n",
    "\n",
    "tray4ml = LiquidLabware(\n",
    "    name='4mL_Tray1',\n",
    "    version='frg_24_wellplate_4000ul',\n",
    "    deck_slot=6\n",
    ")\n",
    "\n",
    "solution_storage = [\n",
    "    plate96,\n",
    "    tray4ml   \n",
    "]\n",
    "\n",
    "#sort by volume,name\n",
    "solution_storage.sort(key=lambda labware: labware.name)\n",
    "solution_storage.sort(key=lambda labware: labware.volume)\n",
    "print('Priority Fill Order:')\n",
    "for ss in solution_storage: print(ss)"
   ]
  },
  {
   "cell_type": "markdown",
   "metadata": {},
   "source": [
    "-----"
   ]
  },
  {
   "cell_type": "markdown",
   "metadata": {},
   "source": [
    "# Define Available Solutions"
   ]
  },
  {
   "cell_type": "markdown",
   "metadata": {},
   "source": [
    "Solutions are defined using `Solution` class instances.\n",
    "\n",
    "Chemical formula is defined with underscores between each component. If no coefficient is provided, assumes =1. Example:\n",
    "\n",
    "``` \n",
    "SolutionRecipe(\n",
    "        solutes='MA_Pb_I3',\n",
    "        solvent='DMF9_DMSO1',\n",
    "        molarity=1\n",
    "    )\n",
    "```\n",
    "Note that you can use parentheses to simplify the formulae.\n",
    "``` \n",
    "SolutionRecipe(\n",
    "        solutes='MA_Pb_(I0.8_Br0.2)3',\n",
    "        solvent='DMF9_DMSO1',\n",
    "        molarity=1\n",
    "    )\n",
    "```\n",
    "\n",
    "Antisolvents are also defined using `Solution` class instances. Solutes are left empty, and molarity is unused so can be left as 1/whatever number you like.\n",
    "\n",
    "Example:\n",
    "``` \n",
    "Solution(\n",
    "        solutes='',\n",
    "        solvent='Chlorobenzene',\n",
    "        molarity=1\n",
    "    )\n",
    "```\n",
    "\n",
    "Solutions that will be interchanged (for example, different absorber solutions for compositional search) should be stored in a list. This list will be used later to permute sample process variables\n"
   ]
  },
  {
   "cell_type": "markdown",
   "id": "42ce533e",
   "metadata": {},
   "source": [
    "HTL"
   ]
  },
  {
   "cell_type": "code",
   "execution_count": 18,
   "metadata": {},
   "outputs": [],
   "source": [
    "tray4ml.unload_all()"
   ]
  },
  {
   "cell_type": "code",
   "execution_count": 19,
   "id": "73165fef",
   "metadata": {},
   "outputs": [
    {
     "data": {
      "text/plain": [
       "'A3'"
      ]
     },
     "execution_count": 19,
     "metadata": {},
     "output_type": "execute_result"
    }
   ],
   "source": [
    "htl_ptaa = Solution(\n",
    "    solutes='PTAA',\n",
    "    solvent='Toluene',\n",
    "    molarity=1.5, #mg/mL\n",
    "    )\n",
    "tray4ml.load(htl_ptaa, well='A2')\n",
    "\n",
    "pfn_br = Solution(\n",
    "    solutes = 'PFNBr',\n",
    "    solvent='Methanol',\n",
    "    molarity=0.5, #mg/mL\n",
    ")\n",
    "tray4ml.load(pfn_br, 'A3')"
   ]
  },
  {
   "cell_type": "markdown",
   "id": "3d9434fe",
   "metadata": {},
   "source": [
    "Absorber "
   ]
  },
  {
   "cell_type": "code",
   "execution_count": 20,
   "metadata": {},
   "outputs": [
    {
     "data": {
      "text/plain": [
       "'D1'"
      ]
     },
     "execution_count": 20,
     "metadata": {},
     "output_type": "execute_result"
    }
   ],
   "source": [
    "absorber = Solution(\n",
    "        solutes='FA0.78_Cs0.12_MA0.1_(Pb_(I0.8_Br0.10_Cl0.10)3)1.09',\n",
    "        solvent='DMF3_DMSO1',\n",
    "        molarity=1.2,\n",
    ")\n",
    "tray4ml.load(absorber, well='A1')\n",
    "\n",
    "antisolvent_ma = Solution(\n",
    "    solvent='MethylAcetate',\n",
    ")\n",
    "tray4ml.load(antisolvent_ma, well='D1')"
   ]
  },
  {
   "cell_type": "markdown",
   "id": "5aba7398",
   "metadata": {},
   "source": [
    "ETL"
   ]
  },
  {
   "cell_type": "code",
   "execution_count": 21,
   "metadata": {},
   "outputs": [
    {
     "data": {
      "text/plain": [
       "'B1'"
      ]
     },
     "execution_count": 21,
     "metadata": {},
     "output_type": "execute_result"
    }
   ],
   "source": [
    "etl_pcbm = Solution(\n",
    "    solutes='PCBM',\n",
    "    solvent='Chlorobenzene',\n",
    "    molarity=30, #mg/mL\n",
    ")\n",
    "tray4ml.load(etl_pcbm, well='B1')"
   ]
  },
  {
   "cell_type": "markdown",
   "metadata": {},
   "source": [
    "## Plan all possible characterization tasks"
   ]
  },
  {
   "cell_type": "markdown",
   "metadata": {},
   "source": [
    "Create `Characterize` tasks"
   ]
  },
  {
   "cell_type": "code",
   "execution_count": 27,
   "metadata": {},
   "outputs": [],
   "source": [
    "char_noPL = Characterize(\n",
    "    tasks = [\n",
    "        ct.TransmissionSpectroscopy(),\n",
    "        ct.Brightfield(),\n",
    "        ct.Darkfield(),\n",
    "    ],\n",
    ")\n",
    "\n",
    "char_PL = Characterize(\n",
    "    tasks = [\n",
    "        ct.TransmissionSpectroscopy(),\n",
    "        ct.PLSpectroscopy(),\n",
    "        ct.Brightfield(),\n",
    "        ct.Darkfield(),\n",
    "    ],\n",
    ")\n",
    "\n",
    "ALL_CHAR_TASKS = [char_noPL, char_PL]"
   ]
  },
  {
   "cell_type": "markdown",
   "metadata": {},
   "source": [
    "Export baseline requirements for maestro"
   ]
  },
  {
   "cell_type": "code",
   "execution_count": 28,
   "metadata": {},
   "outputs": [
    {
     "name": "stdout",
     "output_type": "stream",
     "text": [
      "Characterization Baseline Instructions dumped to \"maestronetlist_externalcontrol.json\"\n"
     ]
    }
   ],
   "source": [
    "baselines_required = {}\n",
    "\n",
    "for taskobj in ALL_CHAR_TASKS:\n",
    "    task = taskobj.to_dict()\n",
    "    for ctask in task[\"details\"][\"characterization_tasks\"]:\n",
    "        if ctask[\"name\"] not in baselines_required:\n",
    "            baselines_required[ctask[\"name\"]] = set()\n",
    "\n",
    "        if \"exposure_time\" in ctask[\"details\"]:\n",
    "            baselines_required[ctask[\"name\"]].add(\n",
    "                ctask[\"details\"][\"exposure_time\"]\n",
    "                )\n",
    "        if \"exposure_times\" in ctask[\"details\"]:            \n",
    "            for et in ctask[\"details\"][\"exposure_times\"]:\n",
    "                baselines_required[ctask[\"name\"]].add(et)\n",
    "\n",
    "baselines_required = {k:list(v) for k,v in baselines_required.items()}\n",
    "\n",
    "out = {\n",
    "    'baselines_required': baselines_required\n",
    "} \n",
    "fname = f'maestronetlist_externalcontrol.json'\n",
    "with open(fname, 'w') as f:\n",
    "    json.dump(out, f, indent=4, sort_keys=True)\n",
    "print(f'Characterization Baseline Instructions dumped to \"{fname}\"')"
   ]
  },
  {
   "cell_type": "markdown",
   "metadata": {},
   "source": [
    "### Export protocol for OT2 liquid handler\n",
    "\n",
    "Now that we have defined all the labware + solutions that go onto the liquid handler, we need to passs this info to the liquid handler itself. This protocol should be executed prior to starting maestro + the experiment."
   ]
  },
  {
   "cell_type": "code",
   "execution_count": 23,
   "metadata": {},
   "outputs": [
    {
     "name": "stdout",
     "output_type": "stream",
     "text": [
      "OT2 protocol dumped to \"./OT2PASCALProtocol_OT2Protocol_ExternalControl.py\"\n"
     ]
    }
   ],
   "source": [
    "generate_ot2_protocol(\n",
    "    title='OT2Protocol_ExternalControl',\n",
    "    mixing_netlist= {},\n",
    "    labware=solution_storage,\n",
    "    tipracks=tipracks\n",
    "    )"
   ]
  },
  {
   "cell_type": "markdown",
   "metadata": {},
   "source": [
    "-----"
   ]
  },
  {
   "cell_type": "markdown",
   "metadata": {},
   "source": [
    "# Functions to generate our samples"
   ]
  },
  {
   "cell_type": "code",
   "execution_count": 34,
   "metadata": {},
   "outputs": [],
   "source": [
    "def build_PTAA_PFNBr(rpm_ptaa, volume_ptaa, droptime_ptaa, rpm_pfnbr, volume_pfnbr, droptime_pfnbr) -> Sample:\n",
    "    spincoat_htl = Spincoat( \n",
    "        steps = [\n",
    "            [rpm_ptaa,500,30], #speed (rpm), acceleration (rpm/s), duration (s)\n",
    "        ],\n",
    "        drops = [\n",
    "            Drop(\n",
    "                solution=htl_ptaa,\n",
    "                volume=volume_ptaa,\n",
    "                time=droptime_ptaa,\n",
    "                reuse_tip = True,\n",
    "                pre_mix = (3,100)\n",
    "            )\n",
    "        ]\n",
    "    )\n",
    "\n",
    "    spincoat_pfnbr = Spincoat(\n",
    "        steps = [\n",
    "            [rpm_pfnbr,2000,40], #speed (rpm), acceleration (rpm/s), duration (s)\n",
    "        ],\n",
    "        drops = [\n",
    "            Drop(\n",
    "                solution=etl_pcbm,\n",
    "                volume=volume_pfnbr,\n",
    "                time=droptime_pfnbr,\n",
    "                pre_mix = (3,100)\n",
    "            )\n",
    "        ]\n",
    "    )\n",
    "\n",
    "    sample = Sample(\n",
    "        name = 'will_be_overwritten_by_bridge',\n",
    "        substrate='FTO',\n",
    "        worklist = [\n",
    "            spincoat_htl,\n",
    "            char_noPL,\n",
    "            spincoat_pfnbr,\n",
    "            char_noPL,\n",
    "        ],\n",
    "        storage_slot = {\n",
    "            \"tray\": sample_tray.name, \n",
    "            \"slot\": sample_tray.load('will_be_overwritten_by_bridge')\n",
    "            },\n",
    "    )\n",
    "\n",
    "    return sample"
   ]
  },
  {
   "cell_type": "markdown",
   "metadata": {},
   "source": [
    "-----"
   ]
  },
  {
   "cell_type": "markdown",
   "metadata": {},
   "source": [
    "Make sure Maestro is operating in external control mode before running past this point"
   ]
  },
  {
   "cell_type": "code",
   "execution_count": null,
   "metadata": {},
   "outputs": [],
   "source": [
    "bridge = PASCALAxQueue()\n"
   ]
  },
  {
   "cell_type": "markdown",
   "metadata": {},
   "source": [
    "Add Samples"
   ]
  },
  {
   "cell_type": "code",
   "execution_count": null,
   "metadata": {},
   "outputs": [],
   "source": [
    "for i in range(3):\n",
    "    sample = build_PTAA_PFNBr(\n",
    "        rpm_ptaa=5000,\n",
    "        volume_ptaa=30,\n",
    "        droptime_ptaa=-5,\n",
    "        rpm_pfnbr=5000,\n",
    "        volume_pfnbr=30,\n",
    "        droptime_pfnbr=5 \n",
    "    )\n",
    "    bridge._send_sample_to_maestro(sample)"
   ]
  }
 ],
 "metadata": {
  "interpreter": {
   "hash": "98098c180632dc34c2d481ea947af6f21f8ddd2925efa1f9cc0fafc572f11412"
  },
  "kernelspec": {
   "display_name": "Python 3.8.0 64-bit ('pascal': conda)",
   "language": "python",
   "name": "python3"
  },
  "language_info": {
   "codemirror_mode": {
    "name": "ipython",
    "version": 3
   },
   "file_extension": ".py",
   "mimetype": "text/x-python",
   "name": "python",
   "nbconvert_exporter": "python",
   "pygments_lexer": "ipython3",
   "version": "3.8.0"
  },
  "orig_nbformat": 4
 },
 "nbformat": 4,
 "nbformat_minor": 2
}
