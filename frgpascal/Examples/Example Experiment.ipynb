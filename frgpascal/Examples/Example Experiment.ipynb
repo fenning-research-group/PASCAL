{
 "cells": [
  {
   "cell_type": "code",
   "execution_count": 1,
   "id": "20694bed",
   "metadata": {},
   "outputs": [],
   "source": [
    "from frgpascal.hardware.sampletray import Tray1, Tray2\n",
    "from frgpascal.hardware.liquidlabware import TipRack, LiquidLabware, AVAILABLE_VERSIONS as liquid_labware_versions\n",
    "from frgpascal.experimentaldesign.helpers import build_sample_list\n",
    "from frgpascal.experimentaldesign.tasks import *\n",
    "from frgpascal.experimentaldesign import characterizationtasks as chtsk\n",
    "\n",
    "from frgpascal.experimentaldesign.helpers import PASCALPlanner"
   ]
  },
  {
   "cell_type": "markdown",
   "id": "c5dc7751",
   "metadata": {},
   "source": [
    "------"
   ]
  },
  {
   "cell_type": "markdown",
   "id": "fcb8a589",
   "metadata": {},
   "source": [
    "# Define hardware for this experiment"
   ]
  },
  {
   "cell_type": "markdown",
   "id": "b951e493",
   "metadata": {},
   "source": [
    "## Liquid Labware \n",
    "\n",
    "Include _all possible_ liquid storage + pipette tipracks. Later on we will narrow this down to what is required once we know what solutions and volumes we need.\n",
    "\n",
    "Versions are defined by the same json files used to define custom labware for the Opentrons2 liquid handler. \n",
    "New labware can be defined by following https://support.opentrons.com/en/articles/3136504-creating-custom-labware-definitions\n",
    "\n",
    "The location of the labware/tiprack on the opentrons deck must be specified as well.\n",
    "\n",
    "\n",
    "| Deck | Slot | Layout |\n",
    "| ----------- | ----------- | ----------- |\n",
    "| 10      | 11       | _Trash_ |\n",
    "| 7   | 8        | 9 |\n",
    "|4 | 5 | 6|\n",
    "|1 | _Spin_ | _Coater_|\n",
    "\n",
    "\n",
    "For partially consumed tip racks, the `starting_tip` argument can be used to specify the first available tip. Tips before this assumed to be used up. (moves down->right, like A1, B1...H1, A2, B2 etc). If this argument is omitted, we assume to start at tip A1"
   ]
  },
  {
   "cell_type": "code",
   "execution_count": 2,
   "id": "bc68e8ed",
   "metadata": {},
   "outputs": [
    {
     "name": "stdout",
     "output_type": "stream",
     "text": [
      "\n",
      "Available Liquid Labwares:\n",
      "\tfrg_12_wellplate_15000ul\n",
      "\tsartorius_safetyspace_tiprack_200ul\n",
      "\tgreiner_96_wellplate_360ul\n",
      "\tfrg_spincoater_v1\n",
      "\tperkinelmer_p235_tiprack_235ul\n",
      "\tfrg_24_wellplate_4000ul\n"
     ]
    }
   ],
   "source": [
    "print('\\nAvailable Liquid Labwares:')\n",
    "for v in liquid_labware_versions:\n",
    "    print(f'\\t{v}')"
   ]
  },
  {
   "cell_type": "code",
   "execution_count": 3,
   "id": "ce4028aa",
   "metadata": {},
   "outputs": [],
   "source": [
    "tipracks = [\n",
    "    TipRack(\n",
    "        version='perkinelmer_p235_tiprack_235ul', \n",
    "        deck_slot=8, #which slot on the deck the tiprack is in\n",
    "        starting_tip=\"F2\" #starting tip, to skip consumed tips\n",
    "    ),\n",
    "    # TipRack(\n",
    "    #     version='perkinelmer_p235_tiprack_235ul', \n",
    "    #     deck_slot=11,\n",
    "    #     starting_tip=\"B1\"\n",
    "    # ),\n",
    "    ]"
   ]
  },
  {
   "cell_type": "markdown",
   "id": "5677b014",
   "metadata": {},
   "source": [
    "the `starting_well` argument can be used to similarly specify the first available well on the tray. This is useful for mixing on partially used well plates. Note that the use order of wells differs from tips (moves right->down, like A1, A2,...A12, B1, B2 etc)"
   ]
  },
  {
   "cell_type": "code",
   "execution_count": 4,
   "id": "d3b81edc",
   "metadata": {},
   "outputs": [],
   "source": [
    "tray4ml = LiquidLabware(\n",
    "    name='4mL_Tray1',\n",
    "    version='frg_24_wellplate_4000ul',\n",
    "    deck_slot=6\n",
    "    )\n",
    "plate96 = LiquidLabware(\n",
    "    name=\"96wellplate\",\n",
    "    version=\"greiner_96_wellplate_360ul\",\n",
    "    deck_slot=5\n",
    ")\n",
    "tray15ml = LiquidLabware(\n",
    "    name=\"15mL_Tray1\",\n",
    "    version=\"frg_12_wellplate_15000ul\",\n",
    "    deck_slot=4\n",
    ")"
   ]
  },
  {
   "cell_type": "markdown",
   "id": "f347a8c1",
   "metadata": {},
   "source": [
    "-----"
   ]
  },
  {
   "cell_type": "markdown",
   "id": "195ae2be",
   "metadata": {},
   "source": [
    "# Define Experimental Mesh\n",
    "\n",
    "Each of the following sections defines one dimension of the experiment. After defining the individual dimensions, a full sample list will be constructed."
   ]
  },
  {
   "cell_type": "markdown",
   "id": "a056f1a0",
   "metadata": {},
   "source": [
    "## Solutions to spincast. \n",
    "\n",
    "Solutions are defined using `Solution` class instances.\n",
    "\n",
    "Chemical formula is defined with underscores between each component. If no coefficient is provided, assumes =1. Example:\n",
    "\n",
    "``` \n",
    "SolutionRecipe(\n",
    "        solutes='MA_Pb_I3',\n",
    "        solvent='DMF9_DMSO1',\n",
    "        molarity=1\n",
    "    )\n",
    "```\n",
    "Note that you can use parentheses to simplify the formulae.\n",
    "``` \n",
    "SolutionRecipe(\n",
    "        solutes='MA_Pb_(I0.8_Br0.2)3',\n",
    "        solvent='DMF9_DMSO1',\n",
    "        molarity=1\n",
    "    )\n",
    "```\n",
    "\n",
    "Antisolvents are also defined using `Solution` class instances. Solutes are left empty, and molarity is unused so can be left as 1/whatever number you like.\n",
    "\n",
    "Example:\n",
    "``` \n",
    "Solution(\n",
    "        solutes='',\n",
    "        solvent='Chlorobenzene',\n",
    "        molarity=1\n",
    "    )\n",
    "```\n",
    "\n",
    "Solutions that will be interchanged (for example, different absorber solutions for compositional search) should be stored in a list. This list will be used later to permute sample process variables\n"
   ]
  },
  {
   "cell_type": "code",
   "execution_count": 5,
   "id": "6bafaaba",
   "metadata": {},
   "outputs": [
    {
     "data": {
      "text/plain": [
       "'A1'"
      ]
     },
     "execution_count": 5,
     "metadata": {},
     "output_type": "execute_result"
    }
   ],
   "source": [
    "absorber_solution = Solution(\n",
    "        solutes= 'FA0.78_Cs0.12_MA0.1_(Pb_(I0.8_Br0.15_Cl0.05)3)1.09',\n",
    "        solvent= 'DMF3_DMSO1',\n",
    "        molarity= 1.2,\n",
    "        alias=\"Absorber\" #optional, just makes output easier to read\n",
    "   )\n",
    "tray4ml.load(absorber_solution, 'A1') #load the absorber solution into the first well of the 4mL vial tray"
   ]
  },
  {
   "cell_type": "code",
   "execution_count": 6,
   "id": "5f1205e3",
   "metadata": {},
   "outputs": [
    {
     "data": {
      "text/plain": [
       "'D1'"
      ]
     },
     "execution_count": 6,
     "metadata": {},
     "output_type": "execute_result"
    }
   ],
   "source": [
    "methyl_acetate = Solution(\n",
    "        solvent='MethylAcetate', #no solutes/molarity required if this Solution is just solvent\n",
    "    )\n",
    "tray4ml.load(methyl_acetate, 'D1')"
   ]
  },
  {
   "cell_type": "code",
   "execution_count": 7,
   "id": "8882d2b7",
   "metadata": {},
   "outputs": [
    {
     "data": {
      "text/plain": [
       "'B3'"
      ]
     },
     "execution_count": 7,
     "metadata": {},
     "output_type": "execute_result"
    }
   ],
   "source": [
    "htl = Solution(\n",
    "    solutes='MEO-2PAcZ',\n",
    "    solvent='IPA',\n",
    "    molarity=0.6, \n",
    "    )\n",
    "tray4ml.load(htl, 'B3')\n"
   ]
  },
  {
   "cell_type": "code",
   "execution_count": 8,
   "id": "b9ce61fb",
   "metadata": {},
   "outputs": [
    {
     "data": {
      "text/plain": [
       "'C2'"
      ]
     },
     "execution_count": 8,
     "metadata": {},
     "output_type": "execute_result"
    }
   ],
   "source": [
    "etl_pcbm = Solution(\n",
    "    solutes='PCBM',\n",
    "    solvent='Chlorobenzene',\n",
    "    molarity=30, #mg/mL\n",
    ")\n",
    "tray4ml.load(etl_pcbm, 'C2')\n"
   ]
  },
  {
   "cell_type": "markdown",
   "id": "4f64e0f0",
   "metadata": {},
   "source": [
    "## Annealing Conditions\n",
    "Annealing conditions are defined as a list of `AnnealRecipe` class instances. Only two parameters - temperature (C) and duration (s)\n",
    "\n",
    "Example:\n",
    "``` \n",
    "    AnnealRecipe(\n",
    "        temperature=100, #degrees C\n",
    "        duration=60*60, #seconds\n",
    "    ),\n",
    "```"
   ]
  },
  {
   "cell_type": "code",
   "execution_count": 9,
   "id": "6d549c8b",
   "metadata": {},
   "outputs": [],
   "source": [
    "anneal_absorber = Anneal(\n",
    "    temperature=100,\n",
    "    duration=30*60, #30 minutes\n",
    ")\n",
    "\n",
    "anneal_htl = Anneal(\n",
    "    temperature=100,\n",
    "    duration=10*60, #10 minutes\n",
    ")\n",
    "\n",
    "anneal_pcbm = Anneal(\n",
    "    temperature=100,\n",
    "    duration=5*60, #5 minutes\n",
    ")\n"
   ]
  },
  {
   "cell_type": "markdown",
   "id": "dcc578e2",
   "metadata": {},
   "source": [
    "## Spincoating Recipes\n",
    "\n",
    "\n",
    "Spincoating recipes are defined using the `Spincoat` object. This takes two arguments: `steps`,a nested list of [speed, acceleration, duration] spin steps, and `drops`, a list of `Drop` objects that capture the details of each solution drop during spincoating. \n",
    "\n",
    "```\n",
    "Spincoat(\n",
    "        steps=[\n",
    "            [500,1000,20], #speed (rpm), acceleration (rpm/s), duration (s)\n",
    "            [4000,4000,30]\n",
    "        ],\n",
    "        drops=[\n",
    "            Drop(\n",
    "                solution=target_solutions[0],\n",
    "                volume=20, # uL\n",
    "                time=5, # seconds from start of spincoating\n",
    "                height=2, # mm above substrate to dispense from, optional\n",
    "                rate=50, # dispense rate (uL/sec), optional\n",
    "                pre_mix=3, #number of sequential aspirate->dispense cycles to mix solution prior to aspiration, optional\n",
    "            ),\n",
    "            Drop(\n",
    "                solution=cb_antisolvent,\n",
    "                volume=50,\n",
    "                rate=150,\n",
    "                time=30,\n",
    "                reuse_tip=True #whether to reuse this pipette tip (only uses tips previously used for the same solution.)\n",
    "            )\n",
    "        ]\n",
    "    )\n",
    "```\n",
    "\n",
    "often we will be using many solutions with the same spincoating recipe. In these cases, the `solution` argument of a `Drop` object can just be a string. This string can be substituted by a list of solutions at the final step. Example:\n",
    "\n",
    "```\n",
    "spincoat_recipes = [\n",
    "    Spincoat(\n",
    "        steps=[\n",
    "            [500,1000,20], #speed (rpm), acceleration (rpm/s), duration (s)\n",
    "            [4000,4000,30]\n",
    "        ],\n",
    "        drops = [\n",
    "            Drop(\n",
    "                solution='psk_solution', # we will fill any Drop solutions labeled as 'psk_solution' later\n",
    "                volume=20,\n",
    "                time=5,\n",
    "                pre_mix=3,\n",
    "            ),\n",
    "            Drop(\n",
    "                solution=cb_antisolvent,\n",
    "                volume=50,\n",
    "                rate=150,\n",
    "                time=40,\n",
    "                reuse_tip=True,\n",
    "            )\n",
    "        ]\n",
    "    ),\n",
    "```"
   ]
  },
  {
   "cell_type": "markdown",
   "id": "2eb06a0c",
   "metadata": {},
   "source": [
    "#### Defining spincoating parameters"
   ]
  },
  {
   "cell_type": "code",
   "execution_count": 10,
   "id": "6a6e30e1",
   "metadata": {},
   "outputs": [],
   "source": [
    "spincoat_absorber_lowvolume = Spincoat(\n",
    "        steps=[\n",
    "            [1000,200,5], #speed (rpm), acceleration (rpm/s), duration (s)\n",
    "            [5000,2000,50], #speed (rpm), acceleration (rpm/s), duration (s)\n",
    "        ],\n",
    "        drops = [\n",
    "            Drop(\n",
    "                solution=absorber_solution,  #this will be filled later using the list of psk solutions\n",
    "                volume=40,\n",
    "                time=-1,\n",
    "                blow_out=True\n",
    "            ),\n",
    "            Drop(\n",
    "                solution=methyl_acetate,\n",
    "                volume=80,\n",
    "                time=28,\n",
    "                reuse_tip=True,\n",
    "                touch_tip=False,\n",
    "                rate=80,\n",
    "                pre_mix=(3,100),\n",
    "                slow_travel=True,\n",
    "                blow_out=False\n",
    "            )\n",
    "        ],\n",
    "        immediate=True\n",
    "    )"
   ]
  },
  {
   "cell_type": "code",
   "execution_count": 11,
   "id": "a667e4f0",
   "metadata": {},
   "outputs": [],
   "source": [
    "spincoat_htl = Spincoat(\n",
    "        steps = [\n",
    "            [5000,500,30], #speed (rpm), acceleration (rpm/s), duration (s)\n",
    "        ],\n",
    "        drops = [\n",
    "            Drop(\n",
    "                solution=htl,\n",
    "                volume=30,\n",
    "                time=-5,\n",
    "                reuse_tip = True,\n",
    "                blow_out=True,\n",
    "                pre_mix = (3,100)\n",
    "            )\n",
    "        ]\n",
    "    )"
   ]
  },
  {
   "cell_type": "code",
   "execution_count": 12,
   "id": "8464d070",
   "metadata": {},
   "outputs": [],
   "source": [
    "rpm_sqrts = np.linspace(np.sqrt(1000), np.sqrt(5000), 7)\n",
    "rpms = rpm_sqrts**2\n",
    "\n",
    "spincoat_etl_sweep = [\n",
    "    Spincoat(\n",
    "        steps = [\n",
    "            [rpm,1000,40], #speed (rpm), acceleration (rpm/s), duration (s)\n",
    "        ],\n",
    "        drops = [\n",
    "            Drop(\n",
    "                solution=etl_pcbm,\n",
    "                volume=20,\n",
    "                time=2,\n",
    "                pre_mix = (3,100)\n",
    "            )\n",
    "        ]\n",
    "    )\n",
    "    for rpm in rpms]\n",
    "\n",
    "spincoat_etl_1krpm = Spincoat(\n",
    "        steps = [\n",
    "            [1000,1000,40], #speed (rpm), acceleration (rpm/s), duration (s)\n",
    "        ],\n",
    "        drops = [\n",
    "            Drop(\n",
    "                solution=etl_pcbm,\n",
    "                volume=20,\n",
    "                time=2,\n",
    "                pre_mix = (3,100)\n",
    "            )\n",
    "        ]\n",
    "    )"
   ]
  },
  {
   "cell_type": "markdown",
   "id": "dffd6ed6",
   "metadata": {},
   "source": [
    "## Characterization Tasks\n",
    "\n",
    "Sample characterization is defined using a `Characterize` instance. This takes an argument `tasks`, which is a list of `CharacterizationTask` instances defining the measurement types and parameters. The tasks will execute in the order they are listed, unless a second argument `reorder_by_position` is set to `True`, in which case the tasks will be reordered to minimize travel distance along the characterization stage axis.\n",
    "\n",
    "Available `CharacterizationTask`s:\n",
    "- `Brightfield`: a brightfield image of the entire sample\n",
    "- `Darkfield`: a darkfield image of the center of the sample\n",
    "- `PLImagining`: a photoluminescence intensity image of the same center region of the sample\n",
    "- `TransmissionSpectroscopy`: transmittance measurement through the center of the sample\n",
    "- `PLSpectroscopy`: photoluminescence spectra from the center of the sample, excitation source = 0.1 suns 635 nm laser\n",
    "- `PLPhotostability`: continuous PL spectra from the center of the sample over extended exposure, excitation source = 4 suns 405 nm laser"
   ]
  },
  {
   "cell_type": "code",
   "execution_count": 13,
   "id": "84badf83",
   "metadata": {},
   "outputs": [],
   "source": [
    "char_absorber = Characterize(\n",
    "    tasks = [\n",
    "        chtsk.Brightfield(),\n",
    "        # chtsk.PLPhotostability(\n",
    "        #     exposure_time = 0.2, #acquisition time (s) of each individual spectrum\n",
    "        #     duration=30        #duration (s) to record spectra\n",
    "        # ),\n",
    "        chtsk.PLSpectroscopy(\n",
    "            exposure_times=[1, 5, 20], #acquisition time (s) of each individual spectrum. The longest time that does not saturate the detector will be used\n",
    "            num_scans=1 #number of scans to average\n",
    "        ),\n",
    "        chtsk.TransmissionSpectroscopy(),\n",
    "        chtsk.Darkfield(),\n",
    "        chtsk.PLImaging(\n",
    "            num_frames=10, #number of images to average\n",
    "        )\n",
    "    ]\n",
    ")"
   ]
  },
  {
   "cell_type": "markdown",
   "id": "9c5b53a2",
   "metadata": {},
   "source": [
    "-----"
   ]
  },
  {
   "cell_type": "markdown",
   "id": "3de1588e",
   "metadata": {},
   "source": [
    "# Design of Experiment\n",
    "\n",
    "We will input all the values defined above into `build_sample_list` to generate a sample list. Currently only a full-factorial design is implemented. \n",
    "The arguments for `build_sample_list` are as follows:\n",
    "- `input_substrates`: list of substrates (strings) describing the unique starting substrates\n",
    "- `steps`: worklist of process steps (`Spincoat`, `Anneal`, `Rest`, or `Characterize`) **in desired order of completion**. Each of the list elements can be a single step (if the step does not change across samples), or a list of steps of the same kind (for example, a list of spincoat variations)\n",
    "- `solution_mesh`: a dictionary used to fill in solution placeholders in `Drop` objects. Keys should match the placeholder strings, and values should be lists of `Solution` objects to put into the `Drop` object.\n",
    "- `n_repeats`: number of duplicates to run for each unique worklist\n",
    "\n",
    "arguments are lists defined above, and n_repeats is the number of times to repeat each unique combination of conditions"
   ]
  },
  {
   "cell_type": "code",
   "execution_count": 14,
   "id": "99592ee9",
   "metadata": {},
   "outputs": [],
   "source": [
    "samples_cells = build_sample_list(\n",
    "    input_substrates = ['FTO'],\n",
    "    steps = [\n",
    "        spincoat_htl,\n",
    "        # anneal_htl,\n",
    "        # Rest(60),\n",
    "        spincoat_absorber_lowvolume, \n",
    "        anneal_absorber, \n",
    "        Rest(180), \n",
    "        char_absorber,\n",
    "        spincoat_etl_sweep,\n",
    "        anneal_htl\n",
    "    ],\n",
    "    n_repeats=2,\n",
    ")\n",
    "samples_forevapetl = build_sample_list(\n",
    "    input_substrates = ['FTO'],\n",
    "    steps = [\n",
    "        spincoat_htl,\n",
    "        # anneal_htl,\n",
    "        # Rest(60),\n",
    "        spincoat_absorber_lowvolume, \n",
    "        anneal_absorber, \n",
    "        Rest(180), \n",
    "        char_absorber\n",
    "    ],\n",
    "    n_repeats=15,\n",
    ")\n",
    "\n",
    "allsamples = samples_cells + samples_forevapetl"
   ]
  },
  {
   "cell_type": "markdown",
   "id": "c884c1f2",
   "metadata": {},
   "source": [
    "## Define Stock Solutions\n",
    "\n",
    "These are the solutions that you will be mixing to (hopefully) cover your target solutions. If they don't work, the code will tell you, and you can come back to this point and try again."
   ]
  },
  {
   "cell_type": "code",
   "execution_count": 15,
   "id": "fe68fd9f",
   "metadata": {},
   "outputs": [],
   "source": [
    "planner = PASCALPlanner(\n",
    "    name='experiment name',\n",
    "    description='detailed description of the experiment',\n",
    "    operator='your name',\n",
    "    samples=allsamples,\n",
    "    sample_trays=[\n",
    "        Tray1(), \n",
    "        # Tray2()\n",
    "    ], #list of storage trays available to hold samples\n",
    "    tip_racks = tipracks, #list of pipette tipracks available to the liquid handler\n",
    "    solution_storage = [\n",
    "        tray4ml,\n",
    "    ], #list of solution storage objects available to the liquid handler\n",
    "    stock_solutions = [\n",
    "        absorber_solution,\n",
    "        htl,\n",
    "        etl_pcbm,\n",
    "        methyl_acetate\n",
    "    ], #list of stock solutions that the user loads into the liquid handler\n",
    ")"
   ]
  },
  {
   "cell_type": "code",
   "execution_count": 16,
   "id": "daec01d7",
   "metadata": {},
   "outputs": [
    {
     "name": "stdout",
     "output_type": "stream",
     "text": [
      "===== Stock Prep =====\n",
      "1210.00 of Absorber\n",
      "920.00 of 0.6M MEO-2_PAcZ in IPA\n",
      "2370.00 of MethylAcetate\n",
      "330.00 of 30M PCBM in Chlorobenzene\n"
     ]
    }
   ],
   "source": [
    "planner.process_solutions(\n",
    "    min_volume = 50, # extra volume (uL) to add for each solution\n",
    "    strategy = 'prefer_stock' #prefer_stock or least_inputs\n",
    ")"
   ]
  },
  {
   "cell_type": "code",
   "execution_count": 18,
   "id": "4b0db40b",
   "metadata": {},
   "outputs": [
    {
     "name": "stdout",
     "output_type": "stream",
     "text": [
      "Solving final schedule\n",
      "\tsolution status: FEASIBLE\n",
      "schedule image saved to \"schedule_experiment name.jpeg\"\n"
     ]
    },
    {
     "data": {
      "image/png": "[encoded data removed]",
      "text/plain": [
       "<Figure size 1008x360 with 2 Axes>"
      ]
     },
     "metadata": {
      "needs_background": "light"
     },
     "output_type": "display_data"
    }
   ],
   "source": [
    "planner.solve_schedule(\n",
    "    shuffle=True, #randomize process order\n",
    "    solve_time = 10, #time (s) to spend finding a solution. \n",
    "    # prioritize_first_spincoat= True #prioritize first spincoat step, useful to preserve UVO surface treatment.\n",
    ")"
   ]
  },
  {
   "cell_type": "code",
   "execution_count": 19,
   "id": "9eaade7c",
   "metadata": {},
   "outputs": [
    {
     "name": "stdout",
     "output_type": "stream",
     "text": [
      "OT2 protocol dumped to \"./OT2PASCALProtocol_experiment name.py\"\n",
      "Maestro Netlist dumped to \"maestronetlist_experiment name.json\"\n",
      "Sample dataframe dumped to \"sampledataframe_experiment name.csv\"\n"
     ]
    },
    {
     "data": {
      "image/png": "[encoded data removed]",
      "text/plain": [
       "<Figure size 432x288 with 1 Axes>"
      ]
     },
     "metadata": {
      "needs_background": "light"
     },
     "output_type": "display_data"
    },
    {
     "data": {
      "image/png": "[encoded data removed]",
      "text/plain": [
       "<Figure size 216x288 with 1 Axes>"
      ]
     },
     "metadata": {
      "needs_background": "light"
     },
     "output_type": "display_data"
    }
   ],
   "source": [
    "planner.export()"
   ]
  },
  {
   "cell_type": "markdown",
   "id": "6b512fd5",
   "metadata": {},
   "source": [
    "-----"
   ]
  },
  {
   "cell_type": "markdown",
   "id": "79cb203e",
   "metadata": {},
   "source": [
    "## Commands beyond here should be executed on the PASCAL command prompt"
   ]
  },
  {
   "cell_type": "markdown",
   "id": "babefe68",
   "metadata": {},
   "source": [
    "### After starting the PASCAL program, a command prompt will open with some objects pre initialized. Important ones are:\n",
    "- m = `frgpascal.maestro.Maestro`\n",
    "- cl = `frgpascal.hardware.characterizationline.CharacterizationLine`\n",
    "\n",
    "\n",
    "\n",
    "### Then run the following code\n",
    "This command load the tasks and start heating up hotplates\n",
    "\n",
    "`>> m.load_netlist(\"path/to/maestronetlistfile.json\")`\n",
    "\n",
    "You should now close the curtain and turn off the light in the glovebox. The following command take baselines for the spectroscopies.\n",
    "\n",
    "`>> cl.take_baseline(\"path/to/maestronetlistfile.json\")`\n",
    "\n",
    "Finally, you can run this command to execute the experiment. It will trigger a checklist. If you pass the checklist, the experiment will begin!\n",
    "\n",
    "`>> m.run(\"opentrons ip address\")`\n"
   ]
  }
 ],
 "metadata": {
  "interpreter": {
   "hash": "98098c180632dc34c2d481ea947af6f21f8ddd2925efa1f9cc0fafc572f11412"
  },
  "kernelspec": {
   "display_name": "Python 3.8.0 64-bit ('pascal': conda)",
   "name": "python3"
  },
  "language_info": {
   "codemirror_mode": {
    "name": "ipython",
    "version": 3
   },
   "file_extension": ".py",
   "mimetype": "text/x-python",
   "name": "python",
   "nbconvert_exporter": "python",
   "pygments_lexer": "ipython3",
   "version": "3.8.12"
  }
 },
 "nbformat": 4,
 "nbformat_minor": 5
}
