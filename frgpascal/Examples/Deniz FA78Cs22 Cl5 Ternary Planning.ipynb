{
 "cells": [
  {
   "cell_type": "code",
   "execution_count": 1,
   "metadata": {},
   "outputs": [],
   "source": [
    "import numpy as np\n",
    "import csv\n",
    "%matplotlib inline\n",
    "import pandas as pd\n",
    "from frgpascal.hardware.sampletray import SampleTray, AVAILABLE_VERSIONS as sampletray_versions\n",
    "from frgpascal.hardware.liquidlabware import TipRack, LiquidLabware, AVAILABLE_VERSIONS as liquid_labware_versions\n",
    "from frgpascal.hardware.hotplate import AVAILABLE_VERSIONS as hotplate_versions\n",
    "from frgpascal.experimentaldesign.helpers import build_sample_list, plot_tray, handle_liquids, samples_to_dataframe, load_sample_trays\n",
    "from frgpascal.experimentaldesign.tasks import *\n",
    "from frgpascal.experimentaldesign.scheduler import Scheduler\n",
    "from frgpascal.experimentaldesign.protocolwriter import generate_ot2_protocol\n",
    "import mixsol as mx\n",
    "from random import shuffle"
   ]
  },
  {
   "cell_type": "markdown",
   "metadata": {},
   "source": [
    "------"
   ]
  },
  {
   "cell_type": "markdown",
   "metadata": {},
   "source": [
    "# Define Experiment Metadata"
   ]
  },
  {
   "cell_type": "code",
<<<<<<< HEAD
<<<<<<< HEAD
   "execution_count": 2,
=======
   "execution_count": null,
=======
   "execution_count": 2,
>>>>>>> 7c0fe4e (characterization baseline instruction file)
   "id": "65bce4e9",
>>>>>>> f83eeda (characterization stations accept kwargs)
   "metadata": {},
   "outputs": [],
   "source": [
    "experiment_name = 'Deniz Absorbers for Passivation'\n",
    "experiment_description = \"Deniz Absorbers for Passivation, Round 1\""
   ]
  },
  {
   "cell_type": "markdown",
   "metadata": {},
   "source": [
    "-----"
   ]
  },
  {
   "cell_type": "markdown",
   "metadata": {},
   "source": [
    "# Define hardware for this experiment"
   ]
  },
  {
   "cell_type": "code",
<<<<<<< HEAD
<<<<<<< HEAD
   "execution_count": 3,
=======
   "execution_count": null,
=======
   "execution_count": 3,
>>>>>>> 7c0fe4e (characterization baseline instruction file)
   "id": "bc68e8ed",
>>>>>>> f83eeda (characterization stations accept kwargs)
   "metadata": {},
   "outputs": [
    {
     "name": "stdout",
     "output_type": "stream",
     "text": [
      "Available Sample Tray Versions:\n",
      "\tstorage_v1\n",
      "\tstorage_v2\n",
      "\tstorage_v3\n",
      "\n",
      "Available Liquid Labwares:\n",
      "\tfrg_12_wellplate_15000ul\n",
      "\tfrg_24_wellplate_4000ul\n",
      "\tfrg_spincoater_v1\n",
      "\tgreiner_96_wellplate_360ul\n",
      "\tsartorius_safetyspace_tiprack_200ul\n"
     ]
    }
   ],
   "source": [
    "print('Available Sample Tray Versions:')\n",
    "for v in sampletray_versions:\n",
    "    print(f'\\t{v}')\n",
    "\n",
    "print('\\nAvailable Liquid Labwares:')\n",
    "for v in liquid_labware_versions:\n",
    "    print(f'\\t{v}')"
   ]
  },
  {
   "cell_type": "markdown",
   "metadata": {},
   "source": [
    "## Sample Storage Trays\n",
    "These are the trays used to load samples in/out of the glovebox"
   ]
  },
  {
   "cell_type": "code",
<<<<<<< HEAD
<<<<<<< HEAD
   "execution_count": 4,
=======
   "execution_count": null,
=======
   "execution_count": 4,
>>>>>>> 7c0fe4e (characterization baseline instruction file)
   "id": "932e5c11",
>>>>>>> f83eeda (characterization stations accept kwargs)
   "metadata": {},
   "outputs": [],
   "source": [
    "sample_trays = [\n",
    "    SampleTray(\n",
    "        name='Tray1',\n",
    "        version='storage_v1',\n",
    "        gantry=None,\n",
    "        gripper=None,\n",
    "        p0=[0,0,0]\n",
    "    ),\n",
    "    # SampleTray(\n",
    "    #     name='Tray2',\n",
    "    #     version='storage_v1',\n",
    "    #     gantry=None,\n",
    "    #     gripper=None,\n",
    "    #     p0=[0,0,0]\n",
    "    # )\n",
    "]"
   ]
  },
  {
   "cell_type": "markdown",
   "metadata": {},
   "source": [
    "## Liquid Labware \n",
    "\n",
    "Include _all possible_ liquid storage + pipette tipracks. Later on we will narrow this down to what is required once we know what solutions and volumes we need.\n",
    "\n",
    "Versions are defined by the same json files used to define custom labware for the Opentrons2 liquid handler. \n",
    "New labware can be defined by following https://support.opentrons.com/en/articles/3136504-creating-custom-labware-definitions\n",
    "\n",
    "The location of the labware/tiprack on the opentrons deck must be specified as well.\n",
    "\n",
    "\n",
    "| Deck | Slot | Layout |\n",
    "| ----------- | ----------- | ----------- |\n",
    "| 10      | 11       | _Trash_ |\n",
    "| 7   | 8        | 9 |\n",
    "|4 | 5 | 6|\n",
    "|1 | _Spin_ | _Coater_|\n",
    "\n",
    "\n",
    "For partially consumed tip racks, the `starting_tip` argument can be used to specify the first available tip. Tips before this assumed to be used up. (moves down->right, like A1, B1...H1, A2, B2 etc). If this argument is omitted, we assume to start at tip A1"
   ]
  },
  {
   "cell_type": "code",
<<<<<<< HEAD
<<<<<<< HEAD
   "execution_count": 5,
=======
   "execution_count": null,
=======
   "execution_count": 5,
>>>>>>> 7c0fe4e (characterization baseline instruction file)
   "id": "ce4028aa",
>>>>>>> f83eeda (characterization stations accept kwargs)
   "metadata": {},
   "outputs": [],
   "source": [
    "tipracks = [\n",
    "    TipRack(\n",
    "        version='sartorius_safetyspace_tiprack_200ul', \n",
    "        deck_slot=7,\n",
    "        starting_tip=\"D7\"\n",
    "    ),\n",
    "    TipRack(\n",
    "        version='sartorius_safetyspace_tiprack_200ul', \n",
    "        deck_slot=10,\n",
    "        starting_tip=\"A2\"\n",
    "    ),\n",
    "    ]"
   ]
  },
  {
   "cell_type": "markdown",
   "metadata": {},
   "source": [
    "the `starting_well` argument can be used to similarly specify the first available well on the tray. This is useful for mixing on partially used well plates. Note that the use order of wells differs from tips (moves right->down, like A1, A2,...A12, B1, B2 etc)"
   ]
  },
  {
   "cell_type": "code",
<<<<<<< HEAD
<<<<<<< HEAD
   "execution_count": 6,
=======
   "execution_count": null,
=======
   "execution_count": 6,
>>>>>>> 7c0fe4e (characterization baseline instruction file)
   "id": "d3b81edc",
>>>>>>> f83eeda (characterization stations accept kwargs)
   "metadata": {},
   "outputs": [
    {
     "name": "stdout",
     "output_type": "stream",
     "text": [
      "Priority Fill Order:\n",
      "<LiquidLabware> 96_Plate1, 0.36 mL volume, 96 wells\n",
      "<LiquidLabware> 4mL_a_SolutionTray, 4.0 mL volume, 24 wells\n",
      "<LiquidLabware> 4mL_b_AntisolventTray, 4.0 mL volume, 24 wells\n"
     ]
    }
   ],
   "source": [
    "solution_storage = [\n",
    "    LiquidLabware(\n",
    "        name='96_Plate1',\n",
    "        version='greiner_96_wellplate_360ul',\n",
    "        deck_slot=5,\n",
    "        starting_well=\"E1\" \n",
    "    ),\n",
    "    LiquidLabware(\n",
    "        name='4mL_a_SolutionTray',\n",
    "        version='frg_24_wellplate_4000ul',\n",
    "        deck_slot=1\n",
    "    ),\n",
    "    LiquidLabware(\n",
    "        name='4mL_b_AntisolventTray',\n",
    "        version='frg_24_wellplate_4000ul',\n",
    "        deck_slot=6\n",
    "    ),\n",
    "    # LiquidLabware(\n",
    "    #     name='15mL_Tray1',\n",
    "    #     version='frg_12_wellplate_15000ul',\n",
    "    #     deck_slot=8  \n",
    "    # ),\n",
    "]\n",
    "\n",
    "#sort by volume,name\n",
    "solution_storage.sort(key=lambda labware: labware.name)\n",
    "solution_storage.sort(key=lambda labware: labware.volume)\n",
    "print('Priority Fill Order:')\n",
    "for ss in solution_storage: print(ss)"
   ]
  },
  {
   "cell_type": "markdown",
   "metadata": {},
   "source": [
    "-----"
   ]
  },
  {
   "cell_type": "markdown",
   "metadata": {},
   "source": [
    "# Define Experimental Mesh\n",
    "\n",
    "Each of the following cells defines one dimension of the experiment. After defining the individual dimensions, a full sample list will be constructed using a user-selected Design of Expeiment (DOE)"
   ]
  },
  {
   "cell_type": "markdown",
   "metadata": {},
   "source": [
    "## List of unique substrates that will be loaded to start the experiment.\n",
    "These are just strings to describe the substrate types."
   ]
  },
  {
   "cell_type": "code",
<<<<<<< HEAD
<<<<<<< HEAD
   "execution_count": 7,
=======
   "execution_count": null,
=======
   "execution_count": 7,
>>>>>>> 7c0fe4e (characterization baseline instruction file)
   "id": "e242d374",
>>>>>>> f83eeda (characterization stations accept kwargs)
   "metadata": {},
   "outputs": [],
   "source": [
    "input_substrates = [\n",
    "    '1mm glass'\n",
    "]"
   ]
  },
  {
   "cell_type": "markdown",
   "metadata": {},
   "source": [
    "## Solutions to spincast. \n",
    "\n",
    "Solutions are defined using `Solution` class instances.\n",
    "\n",
    "Chemical formula is defined with underscores between each component. If no coefficient is provided, assumes =1. Example:\n",
    "\n",
    "``` \n",
    "SolutionRecipe(\n",
    "        solutes='MA_Pb_I3',\n",
    "        solvent='DMF9_DMSO1',\n",
    "        molarity=1\n",
    "    )\n",
    "```\n",
    "Note that you can use parentheses to simplify the formulae.\n",
    "``` \n",
    "SolutionRecipe(\n",
    "        solutes='MA_Pb_(I0.8_Br0.2)3',\n",
    "        solvent='DMF9_DMSO1',\n",
    "        molarity=1\n",
    "    )\n",
    "```\n",
    "\n",
    "Antisolvents are also defined using `Solution` class instances. Solutes are left empty, and molarity is unused so can be left as 1/whatever number you like.\n",
    "\n",
    "Example:\n",
    "``` \n",
    "Solution(\n",
    "        solutes='',\n",
    "        solvent='Chlorobenzene',\n",
    "        molarity=1\n",
    "    )\n",
    "```\n",
    "\n",
    "Solutions that will be interchanged (for example, different absorber solutions for compositional search) should be stored in a list. This list will be used later to permute sample process variables\n"
   ]
  },
  {
   "cell_type": "code",
<<<<<<< HEAD
<<<<<<< HEAD
   "execution_count": 8,
=======
   "execution_count": null,
=======
   "execution_count": 8,
>>>>>>> 7c0fe4e (characterization baseline instruction file)
   "id": "6bafaaba",
>>>>>>> f83eeda (characterization stations accept kwargs)
   "metadata": {},
   "outputs": [],
   "source": [
    "absorber_solution = Solution(\n",
    "        solutes= 'FA0.78_Cs0.22_(Pb_(I0.9_Br0.1)3)1.09',\n",
    "        solvent= 'DMF3_DMSO1',\n",
    "        molarity= 1.25,\n",
    "    )"
   ]
  },
  {
   "cell_type": "code",
<<<<<<< HEAD
<<<<<<< HEAD
   "execution_count": 9,
=======
   "execution_count": null,
=======
   "execution_count": 9,
>>>>>>> 7c0fe4e (characterization baseline instruction file)
   "id": "5f1205e3",
>>>>>>> f83eeda (characterization stations accept kwargs)
   "metadata": {},
   "outputs": [],
   "source": [
    "methyl_acetate = Solution(\n",
    "        solvent='MethylAcetate',\n",
    "        labware='4mL_b_AntisolventTray',\n",
    "        well='D1',\n",
    "    )"
   ]
  },
  {
   "cell_type": "markdown",
   "metadata": {},
   "source": [
    "## Spincoating Recipes\n",
    "\n",
    "\n",
    "Spincoating recipes are defined using the `Spincoat` object. This takes two arguments: `steps`,a nested list of [speed, acceleration, duration] spin steps, and `drops`, a list of `Drop` objects that capture the details of each solution drop during spincoating. \n",
    "\n",
    "```\n",
    "Spincoat(\n",
    "        steps=[\n",
    "            [500,1000,20], #speed (rpm), acceleration (rpm/s), duration (s)\n",
    "            [4000,4000,30]\n",
    "        ],\n",
    "        drops=[\n",
    "            Drop(\n",
    "                solution=target_solutions[0],\n",
    "                volume=20, # uL\n",
    "                time=5, # seconds from start of spincoating\n",
    "                height=2, # mm above substrate to dispense from, optional\n",
    "                rate=50, # dispense rate (uL/sec), optional\n",
    "                pre_mix=3, #number of sequential aspirate->dispense cycles to mix solution prior to aspiration, optional\n",
    "            ),\n",
    "            Drop(\n",
    "                solution=cb_antisolvent,\n",
    "                volume=50,\n",
    "                rate=150,\n",
    "                time=30,\n",
    "                reuse_tip=True #whether to reuse this pipette tip (only uses tips previously used for the same solution.)\n",
    "            )\n",
    "        ]\n",
    "    )\n",
    "```\n",
    "\n",
    "often we will be using many solutions with the same spincoating recipe. In these cases, the `solution` argument of a `Drop` object can just be a string. This string can be substituted by a list of solutions at the final step. Example:\n",
    "\n",
    "```\n",
    "spincoat_recipes = [\n",
    "    Spincoat(\n",
    "        steps=[\n",
    "            [500,1000,20], #speed (rpm), acceleration (rpm/s), duration (s)\n",
    "            [4000,4000,30]\n",
    "        ],\n",
    "        drops = [\n",
    "            Drop(\n",
    "                solution='psk_solution', # we will fill any Drop solutions labeled as 'psk_solution' later\n",
    "                volume=20,\n",
    "                time=5,\n",
    "                pre_mix=3,\n",
    "            ),\n",
    "            Drop(\n",
    "                solution=cb_antisolvent,\n",
    "                volume=50,\n",
    "                rate=150,\n",
    "                time=40,\n",
    "                reuse_tip=True,\n",
    "            )\n",
    "        ]\n",
    "    ),\n",
    "```"
   ]
  },
  {
   "cell_type": "markdown",
   "metadata": {},
   "source": [
    "#### Defining spincoating parameters"
   ]
  },
  {
   "cell_type": "code",
<<<<<<< HEAD
<<<<<<< HEAD
   "execution_count": 10,
=======
   "execution_count": null,
=======
   "execution_count": 10,
>>>>>>> 7c0fe4e (characterization baseline instruction file)
   "id": "6a6e30e1",
>>>>>>> f83eeda (characterization stations accept kwargs)
   "metadata": {},
   "outputs": [],
   "source": [
    "spincoat_absorber = Spincoat(\n",
    "        steps=[\n",
    "            [3000,2000,50], #speed (rpm), acceleration (rpm/s), duration (s)\n",
    "        ],\n",
    "        drops = [\n",
    "            Drop(\n",
    "                solution=absorber_solution,  #this will be filled later using the list of psk solutions\n",
    "                volume=20,\n",
    "                time=-1,\n",
    "                blow_out=True,\n",
    "                # pre_mix = (5,50),\n",
    "            ),\n",
    "            Drop(\n",
    "                solution=methyl_acetate,\n",
    "                volume=50,\n",
    "                time=22,\n",
    "                reuse_tip=True,\n",
    "                touch_tip=False,\n",
    "                rate=100,\n",
    "                pre_mix = (3,100),\n",
    "                slow_travel=True\n",
    "            )\n",
    "        ],\n",
    "    )"
   ]
  },
  {
   "cell_type": "markdown",
   "metadata": {},
   "source": [
    "## Annealing Conditions\n",
    "Annealing conditions are defined as a list of `Anneal` class instances. Only two parameters - temperature (C) and duration (s)\n",
    "\n",
    "Example:\n",
    "``` \n",
    "    Anneal(\n",
    "        temperature=100, #degrees C\n",
    "        duration=60*60, #seconds\n",
    "    ),\n",
    "```"
   ]
  },
  {
   "cell_type": "code",
<<<<<<< HEAD
<<<<<<< HEAD
   "execution_count": 11,
=======
   "execution_count": null,
=======
   "execution_count": 11,
>>>>>>> 7c0fe4e (characterization baseline instruction file)
   "id": "4cd71176",
>>>>>>> f83eeda (characterization stations accept kwargs)
   "metadata": {},
   "outputs": [],
   "source": [
    "anneal_absorber = Anneal(\n",
    "        temperature=100, #degrees C\n",
    "        duration=30*60, #seconds\n",
    "    )"
   ]
  },
  {
   "cell_type": "markdown",
<<<<<<< HEAD
=======
   "id": "dffd6ed6",
   "metadata": {},
   "source": [
    "## Characterize Absorber"
   ]
  },
  {
   "cell_type": "code",
   "execution_count": 12,
   "id": "84badf83",
   "metadata": {},
   "outputs": [],
   "source": [
    "char_absorber = Characterize(\n",
    "    tasks = [\n",
    "        chtsk.Brightfield(),\n",
    "        chtsk.PLPhotostablity(\n",
    "            exposure_time = 0.2,\n",
    "            duration=10\n",
    "        ),\n",
    "        chtsk.PLSpectroscopy(\n",
    "            exposure_times=[0.1, 0.2],\n",
    "            num_scans=1\n",
    "        ),\n",
    "        chtsk.TransmissionSpectroscopy(\n",
    "            exposure_times=[0.1,0.2],\n",
    "        ),\n",
    "        chtsk.Darkfield(),\n",
    "        chtsk.PLImaging(\n",
    "            num_frames=5,\n",
    "        )\n",
    "    ]\n",
    ")"
   ]
  },
  {
   "cell_type": "markdown",
   "id": "9c5b53a2",
>>>>>>> f83eeda (characterization stations accept kwargs)
   "metadata": {},
   "source": [
    "-----"
   ]
  },
  {
   "cell_type": "markdown",
   "metadata": {},
   "source": [
    "# Design of Experiment\n",
    "\n",
    "We will input all the values defined above into `build_sample_list` to generate a sample list. Currently only a full-factorial design is implemented. \n",
    "The arguments for `build_sample_list` are as follows:\n",
    "- `input_substrates`: list of substrates (strings) describing the unique starting substrates\n",
    "- `steps`: worklist of process steps (`Spincoat`, `Anneal`, `Rest`, or `Characterize`) **in desired order of completion**. Each of the list elements can be a single step (if the step does not change across samples), or a list of steps of the same kind (for example, a list of spincoat variations)\n",
    "- `solution_mesh`: a dictionary used to fill in solution placeholders in `Drop` objects. Keys should match the placeholder strings, and values should be lists of `Solution` objects to put into the `Drop` object.\n",
    "- `n_repeats`: number of duplicates to run for each unique worklist\n",
    "\n",
    "arguments are lists defined above, and n_repeats is the number of times to repeat each unique combination of conditions"
   ]
  },
  {
   "cell_type": "code",
<<<<<<< HEAD
<<<<<<< HEAD
<<<<<<< HEAD
   "execution_count": 13,
=======
   "execution_count": null,
=======
   "execution_count": 13,
>>>>>>> 7c0fe4e (characterization baseline instruction file)
=======
   "execution_count": 14,
>>>>>>> fa8cdf9 (working)
   "id": "99592ee9",
>>>>>>> f83eeda (characterization stations accept kwargs)
   "metadata": {},
   "outputs": [
    {
     "data": {
      "text/plain": [
       "1"
      ]
     },
<<<<<<< HEAD
<<<<<<< HEAD
<<<<<<< HEAD
     "execution_count": 13,
=======
     "execution_count": 15,
>>>>>>> f83eeda (characterization stations accept kwargs)
=======
     "execution_count": 13,
>>>>>>> 7c0fe4e (characterization baseline instruction file)
=======
     "execution_count": 14,
>>>>>>> fa8cdf9 (working)
     "metadata": {},
     "output_type": "execute_result"
    }
   ],
   "source": [
    "samples = build_sample_list(\n",
    "    # available_trays = sample_trays,\n",
    "    input_substrates = input_substrates,\n",
    "    steps = [\n",
<<<<<<< HEAD
    "        spincoat_absorber, \n",
    "        anneal_absorber, \n",
    "        Rest(180, immediate=True), \n",
    "        Characterize(),\n",
=======
    "        # spincoat_absorber, \n",
    "        # anneal_absorber, \n",
    "        # Rest(180, immediate=True), \n",
    "        char_absorber,\n",
    "        char_absorber,\n",
>>>>>>> fa8cdf9 (working)
    "    ],\n",
    "    n_repeats=1,\n",
    ")\n",
    "len(samples)"
   ]
  },
  {
   "cell_type": "code",
<<<<<<< HEAD
<<<<<<< HEAD
<<<<<<< HEAD
   "execution_count": 14,
=======
   "execution_count": null,
=======
   "execution_count": 14,
>>>>>>> 7c0fe4e (characterization baseline instruction file)
=======
   "execution_count": 15,
>>>>>>> fa8cdf9 (working)
   "id": "4314dc49",
>>>>>>> f83eeda (characterization stations accept kwargs)
   "metadata": {},
   "outputs": [
    {
     "data": {
      "text/html": [
       "<div>\n",
       "<style scoped>\n",
       "    .dataframe tbody tr th:only-of-type {\n",
       "        vertical-align: middle;\n",
       "    }\n",
       "\n",
       "    .dataframe tbody tr th {\n",
       "        vertical-align: top;\n",
       "    }\n",
       "\n",
       "    .dataframe thead th {\n",
       "        text-align: right;\n",
       "    }\n",
       "</style>\n",
       "<table border=\"1\" class=\"dataframe\">\n",
       "  <thead>\n",
       "    <tr style=\"text-align: right;\">\n",
       "      <th></th>\n",
       "      <th>name</th>\n",
       "      <th>storage_tray</th>\n",
       "      <th>storage_slot</th>\n",
       "      <th>worklist</th>\n",
<<<<<<< HEAD
       "      <th>spincoat0_steps</th>\n",
       "      <th>spincoat0_duration</th>\n",
       "      <th>spincoat0_drop0_solutes</th>\n",
       "      <th>spincoat0_drop0_solvent</th>\n",
       "      <th>spincoat0_drop0_molarity</th>\n",
       "      <th>spincoat0_drop0_time</th>\n",
       "      <th>...</th>\n",
       "      <th>spincoat0_drop1_solutes</th>\n",
       "      <th>spincoat0_drop1_solvent</th>\n",
       "      <th>spincoat0_drop1_molarity</th>\n",
       "      <th>spincoat0_drop1_time</th>\n",
       "      <th>spincoat0_drop1_height</th>\n",
       "      <th>spincoat0_drop1_rate</th>\n",
       "      <th>anneal0_temperature</th>\n",
       "      <th>anneal0_duration</th>\n",
       "      <th>rest0_type</th>\n",
       "      <th>rest0_duration</th>\n",
=======
       "      <th>characterize0_characterization_tasks</th>\n",
       "      <th>characterize1_characterization_tasks</th>\n",
>>>>>>> fa8cdf9 (working)
       "    </tr>\n",
       "  </thead>\n",
       "  <tbody>\n",
       "    <tr>\n",
       "      <th>0</th>\n",
       "      <td>sample0</td>\n",
       "      <td>Tray1</td>\n",
       "      <td>A1</td>\n",
<<<<<<< HEAD
       "      <td>[{'sample': 'sample0', 'start': nan, 'task': '...</td>\n",
       "      <td>[{'rpm': 3000.0, 'acceleration': 2000.0, 'dura...</td>\n",
       "      <td>99</td>\n",
       "      <td>FA0.78_Cs0.22_(Pb_(I0.9_Br0.1)3)1.09</td>\n",
       "      <td>DMF3_DMSO1</td>\n",
       "      <td>1.25</td>\n",
       "      <td>-1</td>\n",
       "      <td>...</td>\n",
       "      <td></td>\n",
       "      <td>MethylAcetate</td>\n",
       "      <td>1</td>\n",
       "      <td>22</td>\n",
       "      <td>2</td>\n",
       "      <td>100</td>\n",
       "      <td>100</td>\n",
       "      <td>1800</td>\n",
       "      <td>rest</td>\n",
       "      <td>180</td>\n",
       "    </tr>\n",
       "    <tr>\n",
       "      <th>1</th>\n",
       "      <td>sample1</td>\n",
       "      <td>Tray1</td>\n",
       "      <td>A2</td>\n",
       "      <td>[{'sample': 'sample1', 'start': nan, 'task': '...</td>\n",
       "      <td>[{'rpm': 3000.0, 'acceleration': 2000.0, 'dura...</td>\n",
       "      <td>99</td>\n",
       "      <td>FA0.78_Cs0.22_(Pb_(I0.9_Br0.1)3)1.09</td>\n",
       "      <td>DMF3_DMSO1</td>\n",
       "      <td>1.25</td>\n",
       "      <td>-1</td>\n",
       "      <td>...</td>\n",
       "      <td></td>\n",
       "      <td>MethylAcetate</td>\n",
       "      <td>1</td>\n",
       "      <td>22</td>\n",
       "      <td>2</td>\n",
       "      <td>100</td>\n",
       "      <td>100</td>\n",
       "      <td>1800</td>\n",
       "      <td>rest</td>\n",
       "      <td>180</td>\n",
       "    </tr>\n",
       "    <tr>\n",
       "      <th>2</th>\n",
       "      <td>sample2</td>\n",
       "      <td>Tray1</td>\n",
       "      <td>A3</td>\n",
       "      <td>[{'sample': 'sample2', 'start': nan, 'task': '...</td>\n",
       "      <td>[{'rpm': 3000.0, 'acceleration': 2000.0, 'dura...</td>\n",
       "      <td>99</td>\n",
       "      <td>FA0.78_Cs0.22_(Pb_(I0.9_Br0.1)3)1.09</td>\n",
       "      <td>DMF3_DMSO1</td>\n",
       "      <td>1.25</td>\n",
       "      <td>-1</td>\n",
       "      <td>...</td>\n",
       "      <td></td>\n",
       "      <td>MethylAcetate</td>\n",
       "      <td>1</td>\n",
       "      <td>22</td>\n",
       "      <td>2</td>\n",
       "      <td>100</td>\n",
       "      <td>100</td>\n",
       "      <td>1800</td>\n",
       "      <td>rest</td>\n",
       "      <td>180</td>\n",
       "    </tr>\n",
       "    <tr>\n",
       "      <th>3</th>\n",
       "      <td>sample3</td>\n",
       "      <td>Tray1</td>\n",
       "      <td>A4</td>\n",
       "      <td>[{'sample': 'sample3', 'start': nan, 'task': '...</td>\n",
       "      <td>[{'rpm': 3000.0, 'acceleration': 2000.0, 'dura...</td>\n",
       "      <td>99</td>\n",
       "      <td>FA0.78_Cs0.22_(Pb_(I0.9_Br0.1)3)1.09</td>\n",
       "      <td>DMF3_DMSO1</td>\n",
       "      <td>1.25</td>\n",
       "      <td>-1</td>\n",
       "      <td>...</td>\n",
       "      <td></td>\n",
       "      <td>MethylAcetate</td>\n",
       "      <td>1</td>\n",
       "      <td>22</td>\n",
       "      <td>2</td>\n",
       "      <td>100</td>\n",
       "      <td>100</td>\n",
       "      <td>1800</td>\n",
       "      <td>rest</td>\n",
       "      <td>180</td>\n",
       "    </tr>\n",
       "    <tr>\n",
       "      <th>4</th>\n",
       "      <td>sample4</td>\n",
       "      <td>Tray1</td>\n",
       "      <td>A5</td>\n",
       "      <td>[{'sample': 'sample4', 'start': nan, 'task': '...</td>\n",
       "      <td>[{'rpm': 3000.0, 'acceleration': 2000.0, 'dura...</td>\n",
       "      <td>99</td>\n",
       "      <td>FA0.78_Cs0.22_(Pb_(I0.9_Br0.1)3)1.09</td>\n",
       "      <td>DMF3_DMSO1</td>\n",
       "      <td>1.25</td>\n",
       "      <td>-1</td>\n",
       "      <td>...</td>\n",
       "      <td></td>\n",
       "      <td>MethylAcetate</td>\n",
       "      <td>1</td>\n",
       "      <td>22</td>\n",
       "      <td>2</td>\n",
       "      <td>100</td>\n",
       "      <td>100</td>\n",
       "      <td>1800</td>\n",
       "      <td>rest</td>\n",
       "      <td>180</td>\n",
       "    </tr>\n",
       "  </tbody>\n",
       "</table>\n",
       "<p>5 rows × 22 columns</p>\n",
=======
       "      <td>[{'name': 'characterize', 'start': nan, 'id': ...</td>\n",
       "      <td>[{'name': 'Brightfield', 'station': 'brightfie...</td>\n",
       "      <td>[{'name': 'Brightfield', 'station': 'brightfie...</td>\n",
       "    </tr>\n",
       "  </tbody>\n",
       "</table>\n",
>>>>>>> fa8cdf9 (working)
       "</div>"
      ],
      "text/plain": [
       "      name storage_tray storage_slot  \\\n",
       "0  sample0        Tray1           A1   \n",
       "\n",
       "                                            worklist  \\\n",
<<<<<<< HEAD
       "0  [{'sample': 'sample0', 'start': nan, 'task': '...   \n",
       "1  [{'sample': 'sample1', 'start': nan, 'task': '...   \n",
       "2  [{'sample': 'sample2', 'start': nan, 'task': '...   \n",
       "3  [{'sample': 'sample3', 'start': nan, 'task': '...   \n",
       "4  [{'sample': 'sample4', 'start': nan, 'task': '...   \n",
       "\n",
       "                                     spincoat0_steps  spincoat0_duration  \\\n",
       "0  [{'rpm': 3000.0, 'acceleration': 2000.0, 'dura...                  99   \n",
       "1  [{'rpm': 3000.0, 'acceleration': 2000.0, 'dura...                  99   \n",
       "2  [{'rpm': 3000.0, 'acceleration': 2000.0, 'dura...                  99   \n",
       "3  [{'rpm': 3000.0, 'acceleration': 2000.0, 'dura...                  99   \n",
       "4  [{'rpm': 3000.0, 'acceleration': 2000.0, 'dura...                  99   \n",
=======
       "0  [{'name': 'characterize', 'start': nan, 'id': ...   \n",
>>>>>>> fa8cdf9 (working)
       "\n",
       "                characterize0_characterization_tasks  \\\n",
       "0  [{'name': 'Brightfield', 'station': 'brightfie...   \n",
       "\n",
<<<<<<< HEAD
       "   spincoat0_drop0_molarity  spincoat0_drop0_time  ...  \\\n",
       "0                      1.25                    -1  ...   \n",
       "1                      1.25                    -1  ...   \n",
       "2                      1.25                    -1  ...   \n",
       "3                      1.25                    -1  ...   \n",
       "4                      1.25                    -1  ...   \n",
       "\n",
       "   spincoat0_drop1_solutes  spincoat0_drop1_solvent spincoat0_drop1_molarity  \\\n",
       "0                                     MethylAcetate                        1   \n",
       "1                                     MethylAcetate                        1   \n",
       "2                                     MethylAcetate                        1   \n",
       "3                                     MethylAcetate                        1   \n",
       "4                                     MethylAcetate                        1   \n",
       "\n",
       "  spincoat0_drop1_time  spincoat0_drop1_height  spincoat0_drop1_rate  \\\n",
       "0                   22                       2                   100   \n",
       "1                   22                       2                   100   \n",
       "2                   22                       2                   100   \n",
       "3                   22                       2                   100   \n",
       "4                   22                       2                   100   \n",
       "\n",
       "   anneal0_temperature  anneal0_duration  rest0_type  rest0_duration  \n",
       "0                  100              1800        rest             180  \n",
       "1                  100              1800        rest             180  \n",
       "2                  100              1800        rest             180  \n",
       "3                  100              1800        rest             180  \n",
       "4                  100              1800        rest             180  \n",
       "\n",
       "[5 rows x 22 columns]"
      ]
     },
<<<<<<< HEAD
<<<<<<< HEAD
     "execution_count": 14,
=======
     "execution_count": 16,
>>>>>>> f83eeda (characterization stations accept kwargs)
=======
     "execution_count": 14,
>>>>>>> 7c0fe4e (characterization baseline instruction file)
=======
       "                characterize1_characterization_tasks  \n",
       "0  [{'name': 'Brightfield', 'station': 'brightfie...  "
      ]
     },
     "execution_count": 15,
>>>>>>> fa8cdf9 (working)
     "metadata": {},
     "output_type": "execute_result"
    }
   ],
   "source": [
    "load_sample_trays(samples, sample_trays)\n",
    "df = samples_to_dataframe(samples)\n",
    "df.to_csv(f'SampleDataframe_{experiment_name}.csv')\n",
    "df.head()"
   ]
  },
  {
   "cell_type": "markdown",
   "metadata": {},
   "source": [
    "-----"
   ]
  },
  {
   "cell_type": "markdown",
   "metadata": {},
   "source": [
    "# Preparing the Solutions"
   ]
  },
  {
   "cell_type": "markdown",
   "metadata": {},
   "source": [
    "## Define Stock Solutions\n",
    "\n",
    "These are the solutions that you will be mixing to (hopefully) cover your target solutions. If they don't work, the code will tell you, and you can come back to this point and try again."
   ]
  },
  {
   "cell_type": "code",
<<<<<<< HEAD
<<<<<<< HEAD
<<<<<<< HEAD
   "execution_count": 15,
=======
   "execution_count": null,
=======
   "execution_count": 15,
>>>>>>> 7c0fe4e (characterization baseline instruction file)
=======
   "execution_count": 16,
>>>>>>> fa8cdf9 (working)
   "id": "4d146f03",
>>>>>>> f83eeda (characterization stations accept kwargs)
   "metadata": {},
   "outputs": [],
   "source": [
    "stock_solutions = [\n",
    "    Solution(\n",
    "        solutes= 'FA0.78_Cs0.12_MA0.1_(Pb_(I0.8_Br0.2)3)1.09',\n",
    "        solvent= 'DMF3_DMSO1',\n",
    "        molarity= 1,\n",
    "        labware='4mL_a_SolutionTray',\n",
    "        well='A2'\n",
    "    ),\n",
    "    Solution(\n",
    "        solutes= 'FA0.78_Cs0.12_MA0.1_(Pb_(I0.9_Br0.1)3)1.09',\n",
    "        solvent= 'DMF3_DMSO1',\n",
    "        molarity= 1,\n",
    "        labware='4mL_a_SolutionTray',\n",
    "        well='B2'\n",
    "    ),\n",
    "    Solution(\n",
    "        solutes= 'FA0.78_Cs0.12_MA0.1_(Pb_(I0.9_Cl0.1)3)1.09',\n",
    "        solvent= 'DMF3_DMSO1',\n",
    "        molarity= 1,\n",
    "        labware='4mL_a_SolutionTray',\n",
    "        well='B1'\n",
    "    ),\n",
    "    Solution(\n",
    "        solutes= 'FA0.78_Cs0.12_MA0.1_(Pb_(I0.8_Br0.1_Cl0.1)3)1.09',\n",
    "        solvent= 'DMF3_DMSO1',\n",
    "        molarity= 1,\n",
    "        labware='4mL_a_SolutionTray',\n",
    "        well='A1'\n",
    "    ),\n",
    "\n",
    "\n",
    "    Solution(\n",
    "        solutes= 'FA0.78_Cs0.22_(Pb_(I0.8_Br0.2)3)1.09',\n",
    "        solvent= 'DMF3_DMSO1',\n",
    "        molarity= 1,\n",
    "        labware='4mL_a_SolutionTray',\n",
    "        well='C2'\n",
    "    ),\n",
    "    Solution(\n",
    "        solutes= 'FA0.78_Cs0.22_(Pb_(I0.9_Br0.1)3)1.09',\n",
    "        solvent= 'DMF3_DMSO1',\n",
    "        molarity= 1.25,\n",
    "        labware='4mL_a_SolutionTray',\n",
    "        well='D2'\n",
    "    ),\n",
    "    Solution(\n",
    "        solutes= 'FA0.78_Cs0.22_(Pb_(I0.9_Cl0.1)3)1.09',\n",
    "        solvent= 'DMF3_DMSO1',\n",
    "        molarity= 1,\n",
    "        labware='4mL_a_SolutionTray',\n",
    "        well='C1'\n",
    "    ),\n",
    "    Solution(\n",
    "        solutes= 'FA0.78_Cs0.22_(Pb_(I0.8_Br0.1_Cl0.1)3)1.09',\n",
    "        solvent= 'DMF3_DMSO1',\n",
    "        molarity= 1,\n",
    "        labware='4mL_a_SolutionTray',\n",
    "        well='D1'\n",
    "    ),\n",
    "    methyl_acetate\n",
    "]"
   ]
  },
  {
   "cell_type": "markdown",
   "metadata": {},
   "source": [
    "Can we cover target solutions with these stocks? and if so, how much of each stock to mix for each target?\n",
    "\n",
    "This will throw an error if the stock solutions are not able to cover our experiment"
   ]
  },
  {
   "cell_type": "code",
<<<<<<< HEAD
<<<<<<< HEAD
<<<<<<< HEAD
   "execution_count": 16,
   "metadata": {},
   "outputs": [],
   "source": [
    "# solution_details[methyl_acetate]"
   ]
  },
  {
   "cell_type": "code",
   "execution_count": 17,
   "metadata": {},
   "outputs": [],
   "source": [
    "# fml_solutions = [k for k,v in solution_details.items() if not v['is_stock'] and v['labware'] == '4mL_Tray1']"
   ]
  },
  {
   "cell_type": "code",
   "execution_count": 18,
   "metadata": {},
   "outputs": [],
   "source": [
    "# fml_solutions"
   ]
  },
  {
   "cell_type": "code",
   "execution_count": 19,
=======
   "execution_count": null,
=======
   "execution_count": 16,
>>>>>>> 7c0fe4e (characterization baseline instruction file)
=======
   "execution_count": 17,
>>>>>>> fa8cdf9 (working)
   "id": "76887f57",
>>>>>>> f83eeda (characterization stations accept kwargs)
   "metadata": {},
   "outputs": [],
   "source": [
    "required_solutions = {}\n",
    "for s in samples:\n",
    "    for task in s.worklist:\n",
    "        if isinstance(task, Spincoat):\n",
    "            for d in task.drops:\n",
    "                sol = d.solution\n",
    "                if sol in required_solutions:\n",
    "                    required_solutions[sol] += d.volume\n",
    "                else:\n",
    "                    required_solutions[sol] = d.volume #50 ul minimum volume per well for successful aspiration"
   ]
  },
  {
   "cell_type": "code",
<<<<<<< HEAD
<<<<<<< HEAD
<<<<<<< HEAD
   "execution_count": 20,
=======
   "execution_count": null,
=======
   "execution_count": 17,
>>>>>>> 7c0fe4e (characterization baseline instruction file)
=======
   "execution_count": 18,
>>>>>>> fa8cdf9 (working)
   "id": "d54f01e4",
>>>>>>> f83eeda (characterization stations accept kwargs)
   "metadata": {},
   "outputs": [],
   "source": [
    "# for s in fml_solutions:\n",
    "#     required_solutions[s] += 400"
   ]
  },
  {
   "cell_type": "code",
<<<<<<< HEAD
<<<<<<< HEAD
<<<<<<< HEAD
   "execution_count": 21,
=======
   "execution_count": null,
=======
   "execution_count": 18,
>>>>>>> 7c0fe4e (characterization baseline instruction file)
=======
   "execution_count": 21,
>>>>>>> fa8cdf9 (working)
   "id": "f975a907",
>>>>>>> f83eeda (characterization stations accept kwargs)
   "metadata": {},
   "outputs": [],
   "source": [
    "mixer = mx.Mixer(\n",
    "    stock_solutions=stock_solutions,\n",
    "    targets=required_solutions,\n",
    ")\n",
    "mixer.solve(\n",
    "    min_volume=20,\n",
    "    max_inputs=4,\n",
    "    tolerance=1e-4,\n",
    "    # strategy='prefer_stock'\n",
    ")"
   ]
  },
  {
   "cell_type": "code",
<<<<<<< HEAD
<<<<<<< HEAD
<<<<<<< HEAD
   "execution_count": 22,
=======
   "execution_count": null,
=======
   "execution_count": 19,
>>>>>>> 7c0fe4e (characterization baseline instruction file)
=======
   "execution_count": 22,
>>>>>>> fa8cdf9 (working)
   "id": "dba94bff",
>>>>>>> f83eeda (characterization stations accept kwargs)
   "metadata": {},
   "outputs": [
    {
     "name": "stdout",
     "output_type": "stream",
     "text": [
<<<<<<< HEAD
      "===== Stock Prep =====\n",
      "720.00 of 1.25M FA0.78_Cs0.22_(Pb_(I0.9_Br0.1)3)1.09 in DMF3_DMSO1\n",
      "1800.00 of MethylAcetate\n"
=======
      "===== Stock Prep =====\n"
>>>>>>> fa8cdf9 (working)
     ]
    }
   ],
   "source": [
    "mixer.print()"
   ]
  },
  {
   "cell_type": "code",
<<<<<<< HEAD
<<<<<<< HEAD
<<<<<<< HEAD
   "execution_count": 23,
=======
   "execution_count": null,
=======
   "execution_count": 20,
>>>>>>> 7c0fe4e (characterization baseline instruction file)
=======
   "execution_count": 23,
>>>>>>> fa8cdf9 (working)
   "id": "63b74d65",
>>>>>>> f83eeda (characterization stations accept kwargs)
   "metadata": {},
   "outputs": [],
   "source": [
    "solution_details, mixing_netlist = handle_liquids(\n",
    "    samples=samples,\n",
    "    mixer=mixer,\n",
    "    solution_storage=solution_storage,\n",
    ")"
   ]
  },
  {
   "cell_type": "markdown",
   "metadata": {},
   "source": [
    "#### Plot + save images that map the solution + substrate loading positions"
   ]
  },
  {
   "cell_type": "code",
<<<<<<< HEAD
<<<<<<< HEAD
<<<<<<< HEAD
   "execution_count": 24,
=======
   "execution_count": null,
=======
   "execution_count": 21,
>>>>>>> 7c0fe4e (characterization baseline instruction file)
=======
   "execution_count": 24,
>>>>>>> fa8cdf9 (working)
   "id": "6d4b4f74",
>>>>>>> f83eeda (characterization stations accept kwargs)
   "metadata": {},
   "outputs": [
    {
     "data": {
      "image/png": "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",
      "text/plain": [
       "<Figure size 432x576 with 2 Axes>"
      ]
     },
     "metadata": {
      "needs_background": "light"
     },
     "output_type": "display_data"
    }
   ],
   "source": [
    "ll_with_solutions = [\n",
    "    ll for ll in solution_storage\n",
    "    if len(ll.contents) > 0\n",
    "]\n",
    "\n",
    "fig, ax = plt.subplots(len(ll_with_solutions), 1, figsize=(6,4*len(ll_with_solutions)))\n",
    "try:\n",
    "    ax = ax.flat\n",
    "except:\n",
    "    ax = [ax]\n",
    "for ll, ax_ in zip(ll_with_solutions, ax):\n",
    "    ll.plot(solution_details=solution_details, ax=ax_)\n",
    "plt.savefig(f\"solutionmap_{experiment_name}.jpeg\", dpi=150, bbox_inches='tight')"
   ]
  },
  {
   "cell_type": "markdown",
   "metadata": {},
   "source": [
    "-----"
   ]
  },
  {
   "cell_type": "markdown",
   "metadata": {},
   "source": [
    "# Build the Experiment Schedule + Save Worklist"
   ]
  },
  {
   "cell_type": "code",
<<<<<<< HEAD
<<<<<<< HEAD
<<<<<<< HEAD
   "execution_count": 25,
=======
   "execution_count": null,
=======
   "execution_count": 22,
>>>>>>> 7c0fe4e (characterization baseline instruction file)
=======
   "execution_count": 25,
>>>>>>> fa8cdf9 (working)
   "id": "cf16c46f",
   "metadata": {},
   "outputs": [],
   "source": [
    "system = build()\n",
    "\n",
    "for s in samples:\n",
    "    s.protocol = system.generate_protocol(\n",
    "        worklist = s.worklist,\n",
    "        name=s.name\n",
    "    )        "
   ]
  },
  {
   "cell_type": "code",
   "execution_count": 26,
   "id": "87e40546",
>>>>>>> f83eeda (characterization stations accept kwargs)
   "metadata": {},
   "outputs": [
    {
     "name": "stdout",
     "output_type": "stream",
     "text": [
      "solution status: OPTIMAL\n"
     ]
<<<<<<< HEAD
    },
    {
     "data": {
      "image/png": "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",
=======
    }
   ],
   "source": [
    "system.scheduler.solve()"
   ]
  },
  {
   "cell_type": "code",
   "execution_count": 27,
   "id": "5266f3d2",
   "metadata": {},
   "outputs": [
    {
     "data": {
<<<<<<< HEAD
<<<<<<< HEAD
      "image/png": "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",
>>>>>>> f83eeda (characterization stations accept kwargs)
=======
      "image/png": "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",
>>>>>>> 7c0fe4e (characterization baseline instruction file)
=======
      "image/png": "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",
>>>>>>> fa8cdf9 (working)
      "text/plain": [
       "<Figure size 1008x360 with 2 Axes>"
      ]
     },
     "metadata": {
      "needs_background": "light"
     },
     "output_type": "display_data"
    }
   ],
   "source": [
<<<<<<< HEAD
    "system.scheduler.plot_solution()"
<<<<<<< HEAD
=======
    "scheduler = Scheduler(\n",
    "    samples=samples,\n",
    "    spanning_tasks = [\"characterize\", \"spincoat\"], #these tasks spanning each pair must be done in sequence per sample\n",
    "    enforce_sample_order=True\n",
    ")\n",
    "ordered_tasks = scheduler.solve(10) #argument defines how long (s) to work on finding a solution\n",
    "plt.savefig(f'pascalschedule_{experiment_name}', dpi=300, bbox_inches='tight')"
>>>>>>> 19c8372 (subclass workers, tasks, notebook still works)
=======
>>>>>>> 7042241 (refactor)
   ]
  },
  {
   "cell_type": "markdown",
<<<<<<< HEAD
   "id": "ca4af43f",
=======
>>>>>>> 19c8372 (subclass workers, tasks, notebook still works)
   "metadata": {},
   "source": [
    "----"
   ]
  },
  {
   "cell_type": "markdown",
<<<<<<< HEAD
   "id": "10ecd87d",
=======
>>>>>>> 19c8372 (subclass workers, tasks, notebook still works)
   "metadata": {},
   "source": [
    "# Write final files to disk"
   ]
  },
  {
   "cell_type": "markdown",
<<<<<<< HEAD
   "id": "87ef0a3f",
=======
>>>>>>> 19c8372 (subclass workers, tasks, notebook still works)
   "metadata": {},
   "source": [
    "## Solution Instructions to csv, tells operator where/how much to put solutions"
   ]
  },
  {
   "cell_type": "code",
<<<<<<< HEAD
<<<<<<< HEAD
<<<<<<< HEAD
<<<<<<< HEAD
<<<<<<< HEAD
   "execution_count": 27,
=======
   "execution_count": 40,
>>>>>>> 7042241 (refactor)
=======
   "execution_count": null,
>>>>>>> f83eeda (characterization stations accept kwargs)
=======
   "execution_count": 25,
>>>>>>> 7c0fe4e (characterization baseline instruction file)
=======
   "execution_count": 28,
>>>>>>> fa8cdf9 (working)
   "id": "dc8f7336",
=======
   "execution_count": 26,
>>>>>>> 19c8372 (subclass workers, tasks, notebook still works)
   "metadata": {},
   "outputs": [],
   "source": [
    "with open(f'stocksolutions_{experiment_name}.csv', 'w', newline='') as f:\n",
    "    writer = csv.writer(f, delimiter=',')\n",
    "    header = [\n",
    "        'Labware',\n",
    "        'Well',\n",
    "        'Volume (uL)',\n",
    "        'Solutes',\n",
    "        'Molarity (M)',\n",
    "        'Solvent',        \n",
    "    ]\n",
    "    writer.writerow(header)\n",
    "    for solution, details in solution_details.items():\n",
    "        volume = details['initial_volume_required']\n",
    "        if volume == 0:\n",
    "            volume = 'Empty Vial'\n",
    "        line = [\n",
    "            details['labware'],\n",
    "            details['well'],\n",
    "            volume,\n",
    "            solution.solutes,\n",
    "            solution.molarity,\n",
    "            solution.solvent,\n",
    "        ]\n",
    "        writer.writerow(line)"
   ]
  },
  {
   "cell_type": "markdown",
<<<<<<< HEAD
   "id": "996ac61c",
=======
>>>>>>> 19c8372 (subclass workers, tasks, notebook still works)
   "metadata": {},
   "source": [
    "Substrate map"
   ]
  },
  {
   "cell_type": "code",
<<<<<<< HEAD
<<<<<<< HEAD
<<<<<<< HEAD
<<<<<<< HEAD
<<<<<<< HEAD
   "execution_count": 28,
=======
   "execution_count": 41,
>>>>>>> 7042241 (refactor)
=======
   "execution_count": null,
>>>>>>> f83eeda (characterization stations accept kwargs)
=======
   "execution_count": 26,
>>>>>>> 7c0fe4e (characterization baseline instruction file)
=======
   "execution_count": 29,
>>>>>>> fa8cdf9 (working)
   "id": "d2e7b2ab",
=======
   "execution_count": 27,
>>>>>>> 19c8372 (subclass workers, tasks, notebook still works)
   "metadata": {},
   "outputs": [
    {
     "data": {
      "image/png": "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",
      "text/plain": [
       "<Figure size 216x288 with 1 Axes>"
      ]
     },
     "metadata": {
      "needs_background": "light"
     },
     "output_type": "display_data"
    }
   ],
   "source": [
    "st_with_samples = [\n",
    "    st for st in sample_trays\n",
    "    if len(st.contents) > 0\n",
    "]\n",
    "\n",
    "fig, ax = plt.subplots(len(st_with_samples), 1, figsize=(3,4*len(st_with_samples)))\n",
    "try:\n",
    "    ax = ax.flat\n",
    "except:\n",
    "    ax = [ax]\n",
    "for ll, ax_ in zip(st_with_samples, ax):\n",
    "    ll.plot(ax=ax_)\n",
    "plt.savefig(f\"traymap_{experiment_name}.jpeg\", dpi=150, bbox_inches='tight')"
   ]
  },
  {
   "cell_type": "markdown",
<<<<<<< HEAD
   "id": "8f427839",
=======
>>>>>>> 19c8372 (subclass workers, tasks, notebook still works)
   "metadata": {},
   "source": [
    "## Generate protocol for Opentrons liquid handler"
   ]
  },
  {
   "cell_type": "code",
<<<<<<< HEAD
<<<<<<< HEAD
<<<<<<< HEAD
<<<<<<< HEAD
<<<<<<< HEAD
   "execution_count": 29,
=======
   "execution_count": 43,
>>>>>>> 7042241 (refactor)
=======
   "execution_count": null,
>>>>>>> f83eeda (characterization stations accept kwargs)
=======
   "execution_count": 27,
>>>>>>> 7c0fe4e (characterization baseline instruction file)
=======
   "execution_count": 30,
>>>>>>> fa8cdf9 (working)
   "id": "8692e6bd",
=======
   "execution_count": 28,
>>>>>>> 19c8372 (subclass workers, tasks, notebook still works)
   "metadata": {},
   "outputs": [
    {
     "name": "stdout",
     "output_type": "stream",
     "text": [
      "OT2 protocol dumped to \".\\OT2PASCALProtocol_Deniz Absorbers for Passivation.py\"\n"
     ]
    }
   ],
   "source": [
    "generate_ot2_protocol(\n",
    "    title=experiment_name,\n",
    "    mixing_netlist= mixing_netlist,\n",
    "    labware=solution_storage,\n",
    "    tipracks=tipracks)\n",
    "    "
   ]
  },
  {
   "cell_type": "markdown",
   "id": "6225f88f",
   "metadata": {},
   "source": [
    "## Generate files for Maestro"
   ]
  },
  {
   "cell_type": "markdown",
   "id": "05c021ed",
   "metadata": {},
   "source": [
    "Maestro netlist"
   ]
  },
  {
   "cell_type": "code",
<<<<<<< HEAD
<<<<<<< HEAD
<<<<<<< HEAD
<<<<<<< HEAD
<<<<<<< HEAD
   "execution_count": 30,
=======
   "execution_count": 45,
>>>>>>> 7042241 (refactor)
=======
   "execution_count": null,
>>>>>>> f83eeda (characterization stations accept kwargs)
=======
   "execution_count": 28,
>>>>>>> 7c0fe4e (characterization baseline instruction file)
=======
   "execution_count": 31,
>>>>>>> fa8cdf9 (working)
   "id": "9dd50d75",
=======
   "execution_count": 29,
>>>>>>> 19c8372 (subclass workers, tasks, notebook still works)
   "metadata": {},
   "outputs": [
    {
     "name": "stdout",
     "output_type": "stream",
     "text": [
      "Maestro Netlist dumped to \"maestronetlist_Deniz Absorbers for Passivation.json\"\n"
     ]
    }
   ],
   "source": [
<<<<<<< HEAD
<<<<<<< HEAD
    "ordered_task_output = [\n",
    "    task.to_dict() \n",
    "    for task \n",
    "    in system.scheduler.get_tasklist()\n",
    "    ]\n",
=======
    "ordered_task_output = [task.to_dict() for task in ordered_tasks]\n",
>>>>>>> 19c8372 (subclass workers, tasks, notebook still works)
=======
    "samples_output = {}\n",
    "ordered_task_output = []\n",
    "for sample in samples:\n",
    "    samples_output[sample.name] = sample.to_dict()\n",
    "    for task in sample.protocol.worklist:\n",
    "        taskdict = task.to_dict()\n",
    "        taskdict['sample'] = sample.name\n",
    "        ordered_task_output.append(taskdict)\n",
>>>>>>> 7042241 (refactor)
    "\n",
    "ordered_task_output.sort(key = lambda t: t['start'])\n",
    "out = {\n",
    "    'name': experiment_name,\n",
    "    'description': experiment_description,\n",
    "    'samples': samples_output,\n",
    "    'tasks': ordered_task_output,\n",
    "}\n",
    "\n",
    "fname = f'maestronetlist_{experiment_name}.json'\n",
    "with open(fname, 'w') as f:\n",
    "    json.dump(out, f, indent=4, sort_keys=True)\n",
    "print(f'Maestro Netlist dumped to \"{fname}\"')"
   ]
  },
  {
   "cell_type": "markdown",
<<<<<<< HEAD
<<<<<<< HEAD
=======
   "id": "34288f4a",
   "metadata": {},
   "source": [
    "Characterization calibration file"
   ]
  },
  {
   "cell_type": "code",
   "execution_count": 34,
   "id": "f56e97a6",
   "metadata": {},
   "outputs": [
    {
     "name": "stdout",
     "output_type": "stream",
     "text": [
      "Characterization Baseline Instructions dumped to \"characterizationbaselineinstructions_Deniz Absorbers for Passivation.json\"\n"
     ]
    }
   ],
   "source": [
    "baselines_required = {}\n",
    "\n",
    "for task in ordered_task_output:\n",
    "    if task[\"name\"] != \"characterize\":\n",
    "        continue\n",
    "    for ctask in task[\"details\"][\"characterization_tasks\"]:\n",
    "        if ctask[\"name\"] not in baselines_required:\n",
    "            baselines_required[ctask[\"name\"]] = set()\n",
    "\n",
    "        if \"exposure_time\" in ctask[\"details\"]:\n",
    "            baselines_required[ctask[\"name\"]].add(\n",
    "                ctask[\"details\"][\"exposure_time\"]\n",
    "                )\n",
    "        if \"exposure_times\" in ctask[\"details\"]:            \n",
    "            for et in ctask[\"details\"][\"exposure_times\"]:\n",
    "                baselines_required[ctask[\"name\"]].add(et)\n",
    "\n",
    "baselines_required = {k:list(v) for k,v in baselines_required.items()}\n",
    "\n",
    "fname = f'characterizationbaselineinstructions_{experiment_name}.json'\n",
    "with open(fname, 'w') as f:\n",
    "    json.dump(baselines_required, f, indent=4, sort_keys=True)\n",
    "print(f'Characterization Baseline Instructions dumped to \"{fname}\"')"
   ]
  },
  {
   "cell_type": "markdown",
>>>>>>> 7c0fe4e (characterization baseline instruction file)
   "id": "92c23795",
=======
>>>>>>> 19c8372 (subclass workers, tasks, notebook still works)
   "metadata": {},
   "source": [
    "# Powder Weighing Instructions"
   ]
  },
  {
   "cell_type": "code",
<<<<<<< HEAD
<<<<<<< HEAD
<<<<<<< HEAD
   "execution_count": 32,
=======
   "execution_count": null,
>>>>>>> f83eeda (characterization stations accept kwargs)
=======
   "execution_count": 29,
>>>>>>> 7c0fe4e (characterization baseline instruction file)
   "id": "e42210f0",
=======
   "execution_count": 30,
   "metadata": {},
   "outputs": [
    {
     "data": {
      "text/plain": [
       "<module 'mixsol' from '/Users/rishi/GitHub/mixsol/mixsol/__init__.py'>"
      ]
     },
     "execution_count": 30,
     "metadata": {},
     "output_type": "execute_result"
    }
   ],
   "source": [
    "from importlib import reload\n",
    "reload(mx)"
   ]
  },
  {
   "cell_type": "code",
   "execution_count": 31,
>>>>>>> 19c8372 (subclass workers, tasks, notebook still works)
   "metadata": {},
   "outputs": [
    {
     "data": {
      "text/plain": [
       "[<Solution> 1M FA0.78_Cs0.12_MA0.1_(Pb_(I0.8_Br0.2)3)1.09 in DMF3_DMSO1,\n",
       " <Solution> 1M FA0.78_Cs0.12_MA0.1_(Pb_(I0.9_Br0.1)3)1.09 in DMF3_DMSO1,\n",
       " <Solution> 1M FA0.78_Cs0.12_MA0.1_(Pb_(I0.9_Cl0.1)3)1.09 in DMF3_DMSO1,\n",
       " <Solution> 1M FA0.78_Cs0.12_MA0.1_(Pb_(I0.8_Br0.1_Cl0.1)3)1.09 in DMF3_DMSO1,\n",
       " <Solution> 1M FA0.78_Cs0.22_(Pb_(I0.8_Br0.2)3)1.09 in DMF3_DMSO1,\n",
       " <Solution> 1.25M FA0.78_Cs0.22_(Pb_(I0.9_Br0.1)3)1.09 in DMF3_DMSO1,\n",
       " <Solution> 1M FA0.78_Cs0.22_(Pb_(I0.9_Cl0.1)3)1.09 in DMF3_DMSO1,\n",
       " <Solution> 1M FA0.78_Cs0.22_(Pb_(I0.8_Br0.1_Cl0.1)3)1.09 in DMF3_DMSO1,\n",
       " <Solution> MethylAcetate]"
      ]
     },
<<<<<<< HEAD
<<<<<<< HEAD
<<<<<<< HEAD
     "execution_count": 32,
=======
     "execution_count": 31,
>>>>>>> 19c8372 (subclass workers, tasks, notebook still works)
=======
     "execution_count": 31,
>>>>>>> f83eeda (characterization stations accept kwargs)
=======
     "execution_count": 29,
>>>>>>> 7c0fe4e (characterization baseline instruction file)
     "metadata": {},
     "output_type": "execute_result"
    }
   ],
   "source": [
    "stock_solutions"
   ]
  },
  {
   "cell_type": "code",
<<<<<<< HEAD
<<<<<<< HEAD
<<<<<<< HEAD
   "execution_count": 33,
=======
   "execution_count": null,
>>>>>>> f83eeda (characterization stations accept kwargs)
=======
   "execution_count": 30,
>>>>>>> 7c0fe4e (characterization baseline instruction file)
   "id": "90c0cdab",
=======
   "execution_count": 32,
>>>>>>> 19c8372 (subclass workers, tasks, notebook still works)
   "metadata": {},
   "outputs": [],
   "source": [
    "powders = [\n",
    "    mx.Powder('Pb_I2'),\n",
    "    mx.Powder('Pb_Br2'),\n",
    "    mx.Powder('Pb_Cl2'),\n",
    "    mx.Powder('Cs_I'),\n",
    "    mx.Powder(\n",
    "        formula='MA_I',\n",
    "        molar_mass=mx.calculate_molar_mass('CH6NI'),\n",
    "    ),\n",
    "    mx.Powder(\n",
    "        formula='FA_I',\n",
    "        molar_mass=mx.calculate_molar_mass('CH5N2I'),\n",
    "    )\n",
    "\n",
    "]\n",
    "weigher = mx.Weigher(powders=powders)"
   ]
  },
  {
   "cell_type": "code",
<<<<<<< HEAD
<<<<<<< HEAD
<<<<<<< HEAD
   "execution_count": 34,
=======
   "execution_count": null,
>>>>>>> f83eeda (characterization stations accept kwargs)
=======
   "execution_count": 31,
>>>>>>> 7c0fe4e (characterization baseline instruction file)
   "id": "c10b7974",
=======
   "execution_count": 33,
>>>>>>> 19c8372 (subclass workers, tasks, notebook still works)
   "metadata": {},
   "outputs": [
    {
     "name": "stdout",
     "output_type": "stream",
     "text": [
<<<<<<< HEAD
<<<<<<< HEAD
=======
      "MethylAcetate:1800\n",
>>>>>>> f83eeda (characterization stations accept kwargs)
      "1M FA0.78_Cs0.12_MA0.1_(Pb_(I0.9_Cl0.1)3)1.09 in DMF3_DMSO1:0\n",
      "1M FA0.78_Cs0.12_MA0.1_(Pb_(I0.9_Br0.1)3)1.09 in DMF3_DMSO1:0\n",
      "1M FA0.78_Cs0.12_MA0.1_(Pb_(I0.8_Br0.1_Cl0.1)3)1.09 in DMF3_DMSO1:0\n",
      "1M FA0.78_Cs0.12_MA0.1_(Pb_(I0.8_Br0.2)3)1.09 in DMF3_DMSO1:0\n",
      "1M FA0.78_Cs0.22_(Pb_(I0.9_Cl0.1)3)1.09 in DMF3_DMSO1:0\n",
<<<<<<< HEAD
<<<<<<< HEAD
      "1M FA0.78_Cs0.12_MA0.1_(Pb_(I0.8_Br0.1_Cl0.1)3)1.09 in DMF3_DMSO1:0\n",
      "1M FA0.78_Cs0.22_(Pb_(I0.8_Br0.1_Cl0.1)3)1.09 in DMF3_DMSO1:0\n",
      "MethylAcetate:1800\n",
      "1M FA0.78_Cs0.12_MA0.1_(Pb_(I0.8_Br0.2)3)1.09 in DMF3_DMSO1:0\n",
      "1M FA0.78_Cs0.22_(Pb_(I0.8_Br0.2)3)1.09 in DMF3_DMSO1:0\n"
=======
      "1M FA0.78_Cs0.12_MA0.1_(Pb_(I0.8_Br0.2)3)1.09 in DMF3_DMSO1:0\n",
      "1M FA0.78_Cs0.22_(Pb_(I0.9_Cl0.1)3)1.09 in DMF3_DMSO1:0\n",
      "1M FA0.78_Cs0.12_MA0.1_(Pb_(I0.9_Cl0.1)3)1.09 in DMF3_DMSO1:0\n",
      "1M FA0.78_Cs0.12_MA0.1_(Pb_(I0.9_Br0.1)3)1.09 in DMF3_DMSO1:0\n",
      "1M FA0.78_Cs0.12_MA0.1_(Pb_(I0.8_Br0.1_Cl0.1)3)1.09 in DMF3_DMSO1:0\n",
      "1M FA0.78_Cs0.22_(Pb_(I0.8_Br0.2)3)1.09 in DMF3_DMSO1:0\n",
      "1.25M FA0.78_Cs0.22_(Pb_(I0.9_Br0.1)3)1.09 in DMF3_DMSO1:720\n",
      "MethylAcetate:1800\n",
      "1M FA0.78_Cs0.22_(Pb_(I0.8_Br0.1_Cl0.1)3)1.09 in DMF3_DMSO1:0\n"
>>>>>>> 19c8372 (subclass workers, tasks, notebook still works)
=======
      "1M FA0.78_Cs0.22_(Pb_(I0.8_Br0.2)3)1.09 in DMF3_DMSO1:0\n",
      "1M FA0.78_Cs0.12_MA0.1_(Pb_(I0.8_Br0.1_Cl0.1)3)1.09 in DMF3_DMSO1:0\n"
>>>>>>> f83eeda (characterization stations accept kwargs)
=======
      "1.25M FA0.78_Cs0.22_(Pb_(I0.9_Br0.1)3)1.09 in DMF3_DMSO1:720\n",
      "1M FA0.78_Cs0.22_(Pb_(I0.8_Br0.2)3)1.09 in DMF3_DMSO1:0\n",
      "1M FA0.78_Cs0.22_(Pb_(I0.8_Br0.1_Cl0.1)3)1.09 in DMF3_DMSO1:0\n"
>>>>>>> 7c0fe4e (characterization baseline instruction file)
     ]
    }
   ],
   "source": [
    "stock_details = {k:v for k,v in solution_details.items() if v['is_stock']}\n",
    "\n",
    "for k,v in stock_details.items():\n",
    "    print(f\"{k}:{v['largest_volume_required']}\")"
   ]
  },
  {
   "cell_type": "code",
<<<<<<< HEAD
<<<<<<< HEAD
<<<<<<< HEAD
   "execution_count": 35,
=======
   "execution_count": null,
>>>>>>> f83eeda (characterization stations accept kwargs)
=======
   "execution_count": 32,
>>>>>>> 7c0fe4e (characterization baseline instruction file)
   "id": "2a20a5b5",
=======
   "execution_count": 34,
>>>>>>> 19c8372 (subclass workers, tasks, notebook still works)
   "metadata": {},
   "outputs": [],
   "source": [
    "for solution, v in stock_details.items():\n",
    "    try:\n",
    "        v['weights'] = weigher.get_weights(solution, volume=1e-3, tolerance=1e-4)\n",
    "    except:\n",
    "        v['weights'] = {}"
   ]
  },
  {
   "cell_type": "code",
<<<<<<< HEAD
<<<<<<< HEAD
<<<<<<< HEAD
   "execution_count": 36,
=======
   "execution_count": null,
>>>>>>> f83eeda (characterization stations accept kwargs)
=======
   "execution_count": 33,
>>>>>>> 7c0fe4e (characterization baseline instruction file)
   "id": "d48d903c",
=======
   "execution_count": 35,
>>>>>>> 19c8372 (subclass workers, tasks, notebook still works)
   "metadata": {},
   "outputs": [],
   "source": [
    "unique_powders = list(set([p\n",
    "for v in stock_details.values()\n",
    "for p in v['weights']]))"
   ]
  },
  {
   "cell_type": "code",
<<<<<<< HEAD
<<<<<<< HEAD
<<<<<<< HEAD
   "execution_count": 37,
=======
   "execution_count": null,
>>>>>>> f83eeda (characterization stations accept kwargs)
=======
   "execution_count": 34,
>>>>>>> 7c0fe4e (characterization baseline instruction file)
   "id": "e35ca686",
=======
   "execution_count": 36,
>>>>>>> 19c8372 (subclass workers, tasks, notebook still works)
   "metadata": {},
   "outputs": [],
   "source": [
    "with open('weight_table.csv', 'w', newline='') as f:\n",
    "    writer = csv.writer(f, delimiter=',')\n",
    "    writer.writerow(['Solution'] + [f\"{p} (mg)\" for p in unique_powders])\n",
    "    for solution, v in stock_details.items():\n",
    "        line = [solution]\n",
    "        for p in unique_powders:\n",
    "            if p in v['weights']:\n",
    "                line.append(round(v['weights'][p]*1000, 2))\n",
    "            else:\n",
    "                line.append('')\n",
    "        writer.writerow(line)"
   ]
  },
  {
   "cell_type": "code",
<<<<<<< HEAD
<<<<<<< HEAD
<<<<<<< HEAD
   "execution_count": 38,
=======
   "execution_count": null,
>>>>>>> f83eeda (characterization stations accept kwargs)
=======
   "execution_count": 35,
>>>>>>> 7c0fe4e (characterization baseline instruction file)
   "id": "f3884f09",
=======
   "execution_count": 37,
>>>>>>> 19c8372 (subclass workers, tasks, notebook still works)
   "metadata": {},
   "outputs": [
    {
     "name": "stdout",
     "output_type": "stream",
     "text": [
      "Pb_I2:461.00894\n",
      "Pb_Br2:367.00699999999995\n",
      "Pb_Cl2:278.1058\n",
      "Cs_I:259.80992196\n",
      "MA_I:158.969559\n",
      "FA_I:171.968321\n"
     ]
    }
   ],
   "source": [
    "for p in powders:\n",
    "    print(f\"{p.formula}:{p.molar_mass}\")"
   ]
  },
  {
   "cell_type": "code",
<<<<<<< HEAD
<<<<<<< HEAD
<<<<<<< HEAD
   "execution_count": 39,
=======
   "execution_count": null,
>>>>>>> f83eeda (characterization stations accept kwargs)
=======
   "execution_count": 36,
>>>>>>> 7c0fe4e (characterization baseline instruction file)
   "id": "9e280398",
=======
   "execution_count": 38,
>>>>>>> 19c8372 (subclass workers, tasks, notebook still works)
   "metadata": {},
   "outputs": [
    {
     "name": "stdout",
     "output_type": "stream",
     "text": [
<<<<<<< HEAD
<<<<<<< HEAD
      "1M Cs0.13_I2.933_Cl0.317_FA0.79_MA0.11_Pb1.11 in DMF3_DMSO1\n",
      "1M Cs0.2890625_I3.664687_FA0.9890625_Pb1.390625_Br0.3946875 in DMF3_DMSO1\n",
      "1M Cs0.13_I2.933_FA0.79_MA0.11_Pb1.11_Br0.317 in DMF3_DMSO1\n",
      "1M Cs0.23125_I2.93175_Cl0.31575_FA0.79125_Pb1.1125 in DMF3_DMSO1\n",
      "1M Cs0.129_I2.607_Cl0.318_FA0.789_MA0.109_Pb1.108_Br0.318 in DMF3_DMSO1\n",
      "1M Cs0.23_I2.606_Cl0.317_FA0.79_Pb1.11_Br0.317 in DMF3_DMSO1\n",
      "DMF3_DMSO1\n",
      "1M Cs0.13_I2.606_FA0.79_MA0.11_Pb1.11_Br0.644 in DMF3_DMSO1\n",
      "1M Cs0.23125_I2.60475_FA0.79125_Pb1.1125_Br0.64275 in DMF3_DMSO1\n"
=======
      "1M FA0.79_Cs0.13_I2.606_Br0.644_Pb1.11_MA0.11 in DMF3_DMSO1\n",
      "1M FA0.79125_Cl0.31575_Cs0.23125_I2.93175_Pb1.1125 in DMF3_DMSO1\n",
      "1M FA0.79_Cl0.317_Cs0.13_I2.933_Pb1.11_MA0.11 in DMF3_DMSO1\n",
      "1M FA0.79_Cs0.13_I2.933_Br0.317_Pb1.11_MA0.11 in DMF3_DMSO1\n",
      "1M FA0.789_Cl0.318_Cs0.129_I2.607_Br0.318_Pb1.108_MA0.109 in DMF3_DMSO1\n",
      "1M FA0.79125_Cs0.23125_I2.60475_Br0.64275_Pb1.1125 in DMF3_DMSO1\n",
      "1M FA0.9890625_Cs0.2890625_I3.664687_Br0.3946875_Pb1.390625 in DMF3_DMSO1\n",
      "DMF3_DMSO1\n",
      "1M FA0.79_Cl0.317_Cs0.23_I2.606_Br0.317_Pb1.11 in DMF3_DMSO1\n"
>>>>>>> 19c8372 (subclass workers, tasks, notebook still works)
=======
      "DMF3_DMSO1\n",
<<<<<<< HEAD
      "1M Cs0.13_I2.933_Cl0.317_MA0.11_FA0.79_Pb1.11 in DMF3_DMSO1\n",
      "1M Cs0.23_I2.606_Cl0.317_FA0.79_Br0.317_Pb1.11 in DMF3_DMSO1\n",
      "1M Cs0.13_I2.606_MA0.11_FA0.79_Br0.644_Pb1.11 in DMF3_DMSO1\n",
      "1M Cs0.2890625_I3.664687_FA0.9890625_Br0.3946875_Pb1.390625 in DMF3_DMSO1\n",
      "1M Cs0.13_I2.933_MA0.11_FA0.79_Br0.317_Pb1.11 in DMF3_DMSO1\n",
      "1M Cs0.23125_I2.93175_Cl0.31575_FA0.79125_Pb1.1125 in DMF3_DMSO1\n",
      "1M Cs0.23125_I2.60475_FA0.79125_Br0.64275_Pb1.1125 in DMF3_DMSO1\n",
      "1M Cs0.129_I2.607_Cl0.318_MA0.109_FA0.789_Br0.318_Pb1.108 in DMF3_DMSO1\n"
>>>>>>> f83eeda (characterization stations accept kwargs)
=======
      "1M I2.933_FA0.79_Pb1.11_MA0.11_Cl0.317_Cs0.13 in DMF3_DMSO1\n",
      "1M I2.933_FA0.79_Pb1.11_Br0.317_MA0.11_Cs0.13 in DMF3_DMSO1\n",
      "1M I2.607_FA0.789_Pb1.108_Br0.318_MA0.109_Cl0.318_Cs0.129 in DMF3_DMSO1\n",
      "1M I2.606_FA0.79_Pb1.11_Br0.644_MA0.11_Cs0.13 in DMF3_DMSO1\n",
      "1M I2.93175_FA0.79125_Pb1.1125_Cl0.31575_Cs0.23125 in DMF3_DMSO1\n",
      "1M I3.664687_FA0.9890625_Pb1.390625_Br0.3946875_Cs0.2890625 in DMF3_DMSO1\n",
      "1M I2.60475_FA0.79125_Pb1.1125_Br0.64275_Cs0.23125 in DMF3_DMSO1\n",
      "1M I2.606_FA0.79_Pb1.11_Br0.317_Cl0.317_Cs0.23 in DMF3_DMSO1\n"
>>>>>>> 7c0fe4e (characterization baseline instruction file)
     ]
    }
   ],
   "source": [
    "for k,v in stock_details.items():\n",
    "    print(weigher.weights_to_solution(v['weights'], volume=1e-3, solvent='DMF3_DMSO1', molarity=1))"
   ]
  },
  {
   "cell_type": "code",
   "execution_count": null,
<<<<<<< HEAD
   "id": "9e4ea07b",
=======
>>>>>>> 19c8372 (subclass workers, tasks, notebook still works)
   "metadata": {},
   "outputs": [],
   "source": []
  }
 ],
 "metadata": {
  "interpreter": {
   "hash": "98098c180632dc34c2d481ea947af6f21f8ddd2925efa1f9cc0fafc572f11412"
  },
  "kernelspec": {
   "display_name": "Python 3.8.0 64-bit ('pascal': conda)",
   "name": "python3"
  },
  "language_info": {
   "codemirror_mode": {
    "name": "ipython",
    "version": 3
   },
   "file_extension": ".py",
   "mimetype": "text/x-python",
   "name": "python",
   "nbconvert_exporter": "python",
   "pygments_lexer": "ipython3",
   "version": "3.8.10"
  }
 },
 "nbformat": 4,
 "nbformat_minor": 5
}
