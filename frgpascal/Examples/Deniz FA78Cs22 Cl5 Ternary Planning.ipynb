{
 "cells": [
  {
   "cell_type": "code",
   "execution_count": 1,
   "metadata": {},
   "outputs": [],
   "source": [
    "import numpy as np\n",
    "import csv\n",
    "%matplotlib inline\n",
    "import pandas as pd\n",
    "from frgpascal.hardware.sampletray import SampleTray, AVAILABLE_VERSIONS as sampletray_versions\n",
    "from frgpascal.hardware.liquidlabware import TipRack, LiquidLabware, AVAILABLE_VERSIONS as liquid_labware_versions\n",
    "from frgpascal.hardware.hotplate import AVAILABLE_VERSIONS as hotplate_versions\n",
    "from frgpascal.experimentaldesign.helpers import build_sample_list, plot_tray, handle_liquids, samples_to_dataframe, load_sample_trays\n",
    "from frgpascal.experimentaldesign.tasks import *\n",
    "from frgpascal.experimentaldesign.scheduler import Scheduler\n",
    "from frgpascal.experimentaldesign.protocolwriter import generate_ot2_protocol\n",
    "import mixsol as mx\n",
    "from random import shuffle"
   ]
  },
  {
   "cell_type": "markdown",
   "metadata": {},
   "source": [
    "------"
   ]
  },
  {
   "cell_type": "markdown",
   "metadata": {},
   "source": [
    "# Define Experiment Metadata"
   ]
  },
  {
   "cell_type": "code",
<<<<<<< HEAD
   "execution_count": 2,
=======
   "execution_count": null,
   "id": "65bce4e9",
>>>>>>> f83eeda (characterization stations accept kwargs)
   "metadata": {},
   "outputs": [],
   "source": [
    "experiment_name = 'Deniz Absorbers for Passivation'\n",
    "experiment_description = \"Deniz Absorbers for Passivation, Round 1\""
   ]
  },
  {
   "cell_type": "markdown",
   "metadata": {},
   "source": [
    "-----"
   ]
  },
  {
   "cell_type": "markdown",
   "metadata": {},
   "source": [
    "# Define hardware for this experiment"
   ]
  },
  {
   "cell_type": "code",
<<<<<<< HEAD
   "execution_count": 3,
=======
   "execution_count": null,
   "id": "bc68e8ed",
>>>>>>> f83eeda (characterization stations accept kwargs)
   "metadata": {},
   "outputs": [
    {
     "name": "stdout",
     "output_type": "stream",
     "text": [
      "Available Sample Tray Versions:\n",
      "\tstorage_v3\n",
      "\tstorage_v2\n",
      "\tstorage_v1\n",
      "\n",
      "Available Liquid Labwares:\n",
      "\tfrg_12_wellplate_15000ul\n",
      "\tsartorius_safetyspace_tiprack_200ul\n",
      "\tgreiner_96_wellplate_360ul\n",
      "\tfrg_spincoater_v1\n",
      "\tfrg_24_wellplate_4000ul\n"
     ]
    }
   ],
   "source": [
    "print('Available Sample Tray Versions:')\n",
    "for v in sampletray_versions:\n",
    "    print(f'\\t{v}')\n",
    "\n",
    "print('\\nAvailable Liquid Labwares:')\n",
    "for v in liquid_labware_versions:\n",
    "    print(f'\\t{v}')"
   ]
  },
  {
   "cell_type": "markdown",
   "metadata": {},
   "source": [
    "## Sample Storage Trays\n",
    "These are the trays used to load samples in/out of the glovebox"
   ]
  },
  {
   "cell_type": "code",
<<<<<<< HEAD
   "execution_count": 4,
=======
   "execution_count": null,
   "id": "932e5c11",
>>>>>>> f83eeda (characterization stations accept kwargs)
   "metadata": {},
   "outputs": [],
   "source": [
    "sample_trays = [\n",
    "    SampleTray(\n",
    "        name='Tray1',\n",
    "        version='storage_v1',\n",
    "        gantry=None,\n",
    "        gripper=None,\n",
    "        p0=[0,0,0]\n",
    "    ),\n",
    "    # SampleTray(\n",
    "    #     name='Tray2',\n",
    "    #     version='storage_v1',\n",
    "    #     gantry=None,\n",
    "    #     gripper=None,\n",
    "    #     p0=[0,0,0]\n",
    "    # )\n",
    "]"
   ]
  },
  {
   "cell_type": "markdown",
   "metadata": {},
   "source": [
    "## Liquid Labware \n",
    "\n",
    "Include _all possible_ liquid storage + pipette tipracks. Later on we will narrow this down to what is required once we know what solutions and volumes we need.\n",
    "\n",
    "Versions are defined by the same json files used to define custom labware for the Opentrons2 liquid handler. \n",
    "New labware can be defined by following https://support.opentrons.com/en/articles/3136504-creating-custom-labware-definitions\n",
    "\n",
    "The location of the labware/tiprack on the opentrons deck must be specified as well.\n",
    "\n",
    "\n",
    "| Deck | Slot | Layout |\n",
    "| ----------- | ----------- | ----------- |\n",
    "| 10      | 11       | _Trash_ |\n",
    "| 7   | 8        | 9 |\n",
    "|4 | 5 | 6|\n",
    "|1 | _Spin_ | _Coater_|\n",
    "\n",
    "\n",
    "For partially consumed tip racks, the `starting_tip` argument can be used to specify the first available tip. Tips before this assumed to be used up. (moves down->right, like A1, B1...H1, A2, B2 etc). If this argument is omitted, we assume to start at tip A1"
   ]
  },
  {
   "cell_type": "code",
<<<<<<< HEAD
   "execution_count": 5,
=======
   "execution_count": null,
   "id": "ce4028aa",
>>>>>>> f83eeda (characterization stations accept kwargs)
   "metadata": {},
   "outputs": [],
   "source": [
    "tipracks = [\n",
    "    TipRack(\n",
    "        version='sartorius_safetyspace_tiprack_200ul', \n",
    "        deck_slot=7,\n",
    "        starting_tip=\"D7\"\n",
    "    ),\n",
    "    TipRack(\n",
    "        version='sartorius_safetyspace_tiprack_200ul', \n",
    "        deck_slot=10,\n",
    "        starting_tip=\"A2\"\n",
    "    ),\n",
    "    ]"
   ]
  },
  {
   "cell_type": "markdown",
   "metadata": {},
   "source": [
    "the `starting_well` argument can be used to similarly specify the first available well on the tray. This is useful for mixing on partially used well plates. Note that the use order of wells differs from tips (moves right->down, like A1, A2,...A12, B1, B2 etc)"
   ]
  },
  {
   "cell_type": "code",
<<<<<<< HEAD
   "execution_count": 6,
=======
   "execution_count": null,
   "id": "d3b81edc",
>>>>>>> f83eeda (characterization stations accept kwargs)
   "metadata": {},
   "outputs": [
    {
     "name": "stdout",
     "output_type": "stream",
     "text": [
      "Priority Fill Order:\n",
      "<LiquidLabware> 96_Plate1, 0.36 mL volume, 96 wells\n",
      "<LiquidLabware> 4mL_a_SolutionTray, 4.0 mL volume, 24 wells\n",
      "<LiquidLabware> 4mL_b_AntisolventTray, 4.0 mL volume, 24 wells\n"
     ]
    }
   ],
   "source": [
    "solution_storage = [\n",
    "    LiquidLabware(\n",
    "        name='96_Plate1',\n",
    "        version='greiner_96_wellplate_360ul',\n",
    "        deck_slot=5,\n",
    "        starting_well=\"E1\" \n",
    "    ),\n",
    "    LiquidLabware(\n",
    "        name='4mL_a_SolutionTray',\n",
    "        version='frg_24_wellplate_4000ul',\n",
    "        deck_slot=1\n",
    "    ),\n",
    "    LiquidLabware(\n",
    "        name='4mL_b_AntisolventTray',\n",
    "        version='frg_24_wellplate_4000ul',\n",
    "        deck_slot=6\n",
    "    ),\n",
    "    # LiquidLabware(\n",
    "    #     name='15mL_Tray1',\n",
    "    #     version='frg_12_wellplate_15000ul',\n",
    "    #     deck_slot=8  \n",
    "    # ),\n",
    "]\n",
    "\n",
    "#sort by volume,name\n",
    "solution_storage.sort(key=lambda labware: labware.name)\n",
    "solution_storage.sort(key=lambda labware: labware.volume)\n",
    "print('Priority Fill Order:')\n",
    "for ss in solution_storage: print(ss)"
   ]
  },
  {
   "cell_type": "markdown",
   "metadata": {},
   "source": [
    "-----"
   ]
  },
  {
   "cell_type": "markdown",
   "metadata": {},
   "source": [
    "# Define Experimental Mesh\n",
    "\n",
    "Each of the following cells defines one dimension of the experiment. After defining the individual dimensions, a full sample list will be constructed using a user-selected Design of Expeiment (DOE)"
   ]
  },
  {
   "cell_type": "markdown",
   "metadata": {},
   "source": [
    "## List of unique substrates that will be loaded to start the experiment.\n",
    "These are just strings to describe the substrate types."
   ]
  },
  {
   "cell_type": "code",
<<<<<<< HEAD
   "execution_count": 7,
=======
   "execution_count": null,
   "id": "e242d374",
>>>>>>> f83eeda (characterization stations accept kwargs)
   "metadata": {},
   "outputs": [],
   "source": [
    "input_substrates = [\n",
    "    '1mm glass'\n",
    "]"
   ]
  },
  {
   "cell_type": "markdown",
   "metadata": {},
   "source": [
    "## Solutions to spincast. \n",
    "\n",
    "Solutions are defined using `Solution` class instances.\n",
    "\n",
    "Chemical formula is defined with underscores between each component. If no coefficient is provided, assumes =1. Example:\n",
    "\n",
    "``` \n",
    "SolutionRecipe(\n",
    "        solutes='MA_Pb_I3',\n",
    "        solvent='DMF9_DMSO1',\n",
    "        molarity=1\n",
    "    )\n",
    "```\n",
    "Note that you can use parentheses to simplify the formulae.\n",
    "``` \n",
    "SolutionRecipe(\n",
    "        solutes='MA_Pb_(I0.8_Br0.2)3',\n",
    "        solvent='DMF9_DMSO1',\n",
    "        molarity=1\n",
    "    )\n",
    "```\n",
    "\n",
    "Antisolvents are also defined using `Solution` class instances. Solutes are left empty, and molarity is unused so can be left as 1/whatever number you like.\n",
    "\n",
    "Example:\n",
    "``` \n",
    "Solution(\n",
    "        solutes='',\n",
    "        solvent='Chlorobenzene',\n",
    "        molarity=1\n",
    "    )\n",
    "```\n",
    "\n",
    "Solutions that will be interchanged (for example, different absorber solutions for compositional search) should be stored in a list. This list will be used later to permute sample process variables\n"
   ]
  },
  {
   "cell_type": "code",
<<<<<<< HEAD
   "execution_count": 8,
=======
   "execution_count": null,
   "id": "6bafaaba",
>>>>>>> f83eeda (characterization stations accept kwargs)
   "metadata": {},
   "outputs": [],
   "source": [
    "absorber_solution = Solution(\n",
    "        solutes= 'FA0.78_Cs0.22_(Pb_(I0.9_Br0.1)3)1.09',\n",
    "        solvent= 'DMF3_DMSO1',\n",
    "        molarity= 1.25,\n",
    "    )"
   ]
  },
  {
   "cell_type": "code",
<<<<<<< HEAD
   "execution_count": 9,
=======
   "execution_count": null,
   "id": "5f1205e3",
>>>>>>> f83eeda (characterization stations accept kwargs)
   "metadata": {},
   "outputs": [],
   "source": [
    "methyl_acetate = Solution(\n",
    "        solvent='MethylAcetate',\n",
    "        labware='4mL_b_AntisolventTray',\n",
    "        well='D1',\n",
    "    )"
   ]
  },
  {
   "cell_type": "markdown",
   "metadata": {},
   "source": [
    "## Spincoating Recipes\n",
    "\n",
    "\n",
    "Spincoating recipes are defined using the `Spincoat` object. This takes two arguments: `steps`,a nested list of [speed, acceleration, duration] spin steps, and `drops`, a list of `Drop` objects that capture the details of each solution drop during spincoating. \n",
    "\n",
    "```\n",
    "Spincoat(\n",
    "        steps=[\n",
    "            [500,1000,20], #speed (rpm), acceleration (rpm/s), duration (s)\n",
    "            [4000,4000,30]\n",
    "        ],\n",
    "        drops=[\n",
    "            Drop(\n",
    "                solution=target_solutions[0],\n",
    "                volume=20, # uL\n",
    "                time=5, # seconds from start of spincoating\n",
    "                height=2, # mm above substrate to dispense from, optional\n",
    "                rate=50, # dispense rate (uL/sec), optional\n",
    "                pre_mix=3, #number of sequential aspirate->dispense cycles to mix solution prior to aspiration, optional\n",
    "            ),\n",
    "            Drop(\n",
    "                solution=cb_antisolvent,\n",
    "                volume=50,\n",
    "                rate=150,\n",
    "                time=30,\n",
    "                reuse_tip=True #whether to reuse this pipette tip (only uses tips previously used for the same solution.)\n",
    "            )\n",
    "        ]\n",
    "    )\n",
    "```\n",
    "\n",
    "often we will be using many solutions with the same spincoating recipe. In these cases, the `solution` argument of a `Drop` object can just be a string. This string can be substituted by a list of solutions at the final step. Example:\n",
    "\n",
    "```\n",
    "spincoat_recipes = [\n",
    "    Spincoat(\n",
    "        steps=[\n",
    "            [500,1000,20], #speed (rpm), acceleration (rpm/s), duration (s)\n",
    "            [4000,4000,30]\n",
    "        ],\n",
    "        drops = [\n",
    "            Drop(\n",
    "                solution='psk_solution', # we will fill any Drop solutions labeled as 'psk_solution' later\n",
    "                volume=20,\n",
    "                time=5,\n",
    "                pre_mix=3,\n",
    "            ),\n",
    "            Drop(\n",
    "                solution=cb_antisolvent,\n",
    "                volume=50,\n",
    "                rate=150,\n",
    "                time=40,\n",
    "                reuse_tip=True,\n",
    "            )\n",
    "        ]\n",
    "    ),\n",
    "```"
   ]
  },
  {
   "cell_type": "markdown",
   "metadata": {},
   "source": [
    "#### Defining spincoating parameters"
   ]
  },
  {
   "cell_type": "code",
<<<<<<< HEAD
   "execution_count": 10,
=======
   "execution_count": null,
   "id": "6a6e30e1",
>>>>>>> f83eeda (characterization stations accept kwargs)
   "metadata": {},
   "outputs": [],
   "source": [
    "spincoat_absorber = Spincoat(\n",
    "        steps=[\n",
    "            [3000,2000,50], #speed (rpm), acceleration (rpm/s), duration (s)\n",
    "        ],\n",
    "        drops = [\n",
    "            Drop(\n",
    "                solution=absorber_solution,  #this will be filled later using the list of psk solutions\n",
    "                volume=20,\n",
    "                time=-1,\n",
    "                blow_out=True,\n",
    "                # pre_mix = (5,50),\n",
    "            ),\n",
    "            Drop(\n",
    "                solution=methyl_acetate,\n",
    "                volume=50,\n",
    "                time=22,\n",
    "                reuse_tip=True,\n",
    "                touch_tip=False,\n",
    "                rate=100,\n",
    "                pre_mix = (3,100),\n",
    "                slow_travel=True\n",
    "            )\n",
    "        ],\n",
    "    )"
   ]
  },
  {
   "cell_type": "markdown",
   "metadata": {},
   "source": [
    "## Annealing Conditions\n",
    "Annealing conditions are defined as a list of `Anneal` class instances. Only two parameters - temperature (C) and duration (s)\n",
    "\n",
    "Example:\n",
    "``` \n",
    "    Anneal(\n",
    "        temperature=100, #degrees C\n",
    "        duration=60*60, #seconds\n",
    "    ),\n",
    "```"
   ]
  },
  {
   "cell_type": "code",
<<<<<<< HEAD
   "execution_count": 11,
=======
   "execution_count": null,
   "id": "4cd71176",
>>>>>>> f83eeda (characterization stations accept kwargs)
   "metadata": {},
   "outputs": [],
   "source": [
    "anneal_absorber = Anneal(\n",
    "        temperature=100, #degrees C\n",
    "        duration=30*60, #seconds\n",
    "    )"
   ]
  },
  {
   "cell_type": "markdown",
<<<<<<< HEAD
=======
   "id": "dffd6ed6",
   "metadata": {},
   "source": [
    "## Characterize Absorber"
   ]
  },
  {
   "cell_type": "code",
   "execution_count": null,
   "id": "84badf83",
   "metadata": {},
   "outputs": [],
   "source": [
    "char_absorber = Characterize(\n",
    "    tasks = [\n",
    "        chtsk.Brightfield(),\n",
    "        chtsk.PLSpectroscopy(\n",
    "            exposure_times=[0.1, 5, 20],\n",
    "            num_scans=1\n",
    "        ),\n",
    "        chtsk.TransmissionSpectroscopy(),\n",
    "        chtsk.Darkfield()\n",
    "    ]\n",
    ")"
   ]
  },
  {
   "cell_type": "markdown",
   "id": "9c5b53a2",
>>>>>>> f83eeda (characterization stations accept kwargs)
   "metadata": {},
   "source": [
    "-----"
   ]
  },
  {
   "cell_type": "markdown",
   "metadata": {},
   "source": [
    "# Design of Experiment\n",
    "\n",
    "We will input all the values defined above into `build_sample_list` to generate a sample list. Currently only a full-factorial design is implemented. \n",
    "The arguments for `build_sample_list` are as follows:\n",
    "- `input_substrates`: list of substrates (strings) describing the unique starting substrates\n",
    "- `steps`: worklist of process steps (`Spincoat`, `Anneal`, `Rest`, or `Characterize`) **in desired order of completion**. Each of the list elements can be a single step (if the step does not change across samples), or a list of steps of the same kind (for example, a list of spincoat variations)\n",
    "- `solution_mesh`: a dictionary used to fill in solution placeholders in `Drop` objects. Keys should match the placeholder strings, and values should be lists of `Solution` objects to put into the `Drop` object.\n",
    "- `n_repeats`: number of duplicates to run for each unique worklist\n",
    "\n",
    "arguments are lists defined above, and n_repeats is the number of times to repeat each unique combination of conditions"
   ]
  },
  {
   "cell_type": "code",
<<<<<<< HEAD
   "execution_count": 13,
=======
   "execution_count": null,
   "id": "99592ee9",
>>>>>>> f83eeda (characterization stations accept kwargs)
   "metadata": {},
   "outputs": [
    {
     "data": {
      "text/plain": [
       "36"
      ]
     },
<<<<<<< HEAD
     "execution_count": 13,
=======
     "execution_count": 15,
>>>>>>> f83eeda (characterization stations accept kwargs)
     "metadata": {},
     "output_type": "execute_result"
    }
   ],
   "source": [
    "samples = build_sample_list(\n",
    "    # available_trays = sample_trays,\n",
    "    input_substrates = input_substrates,\n",
    "    steps = [\n",
    "        spincoat_absorber, \n",
    "        anneal_absorber, \n",
    "        Rest(180, immediate=True), \n",
    "        Characterize(),\n",
    "    ],\n",
    "    n_repeats=36,\n",
    ")\n",
    "len(samples)"
   ]
  },
  {
   "cell_type": "code",
<<<<<<< HEAD
   "execution_count": 14,
=======
   "execution_count": null,
   "id": "4314dc49",
>>>>>>> f83eeda (characterization stations accept kwargs)
   "metadata": {},
   "outputs": [
    {
     "data": {
      "text/html": [
       "<div>\n",
       "<style scoped>\n",
       "    .dataframe tbody tr th:only-of-type {\n",
       "        vertical-align: middle;\n",
       "    }\n",
       "\n",
       "    .dataframe tbody tr th {\n",
       "        vertical-align: top;\n",
       "    }\n",
       "\n",
       "    .dataframe thead th {\n",
       "        text-align: right;\n",
       "    }\n",
       "</style>\n",
       "<table border=\"1\" class=\"dataframe\">\n",
       "  <thead>\n",
       "    <tr style=\"text-align: right;\">\n",
       "      <th></th>\n",
       "      <th>name</th>\n",
       "      <th>storage_tray</th>\n",
       "      <th>storage_slot</th>\n",
       "      <th>worklist</th>\n",
       "      <th>spincoat0_steps</th>\n",
       "      <th>spincoat0_duration</th>\n",
       "      <th>spincoat0_drop0_solutes</th>\n",
       "      <th>spincoat0_drop0_solvent</th>\n",
       "      <th>spincoat0_drop0_molarity</th>\n",
       "      <th>spincoat0_drop0_time</th>\n",
       "      <th>...</th>\n",
       "      <th>spincoat0_drop1_solutes</th>\n",
       "      <th>spincoat0_drop1_solvent</th>\n",
       "      <th>spincoat0_drop1_molarity</th>\n",
       "      <th>spincoat0_drop1_time</th>\n",
       "      <th>spincoat0_drop1_height</th>\n",
       "      <th>spincoat0_drop1_rate</th>\n",
       "      <th>anneal0_temperature</th>\n",
       "      <th>anneal0_duration</th>\n",
       "      <th>rest0_type</th>\n",
       "      <th>rest0_duration</th>\n",
       "    </tr>\n",
       "  </thead>\n",
       "  <tbody>\n",
       "    <tr>\n",
       "      <th>0</th>\n",
       "      <td>sample0</td>\n",
       "      <td>Tray1</td>\n",
       "      <td>A1</td>\n",
       "      <td>[{'sample': 'sample0', 'start': nan, 'task': '...</td>\n",
       "      <td>[{'rpm': 3000.0, 'acceleration': 2000.0, 'dura...</td>\n",
       "      <td>99</td>\n",
       "      <td>FA0.78_Cs0.22_(Pb_(I0.9_Br0.1)3)1.09</td>\n",
       "      <td>DMF3_DMSO1</td>\n",
       "      <td>1.25</td>\n",
       "      <td>-1</td>\n",
       "      <td>...</td>\n",
       "      <td></td>\n",
       "      <td>MethylAcetate</td>\n",
       "      <td>1</td>\n",
       "      <td>22</td>\n",
       "      <td>2</td>\n",
       "      <td>100</td>\n",
       "      <td>100</td>\n",
       "      <td>1800</td>\n",
       "      <td>rest</td>\n",
       "      <td>180</td>\n",
       "    </tr>\n",
       "    <tr>\n",
       "      <th>1</th>\n",
       "      <td>sample1</td>\n",
       "      <td>Tray1</td>\n",
       "      <td>A2</td>\n",
       "      <td>[{'sample': 'sample1', 'start': nan, 'task': '...</td>\n",
       "      <td>[{'rpm': 3000.0, 'acceleration': 2000.0, 'dura...</td>\n",
       "      <td>99</td>\n",
       "      <td>FA0.78_Cs0.22_(Pb_(I0.9_Br0.1)3)1.09</td>\n",
       "      <td>DMF3_DMSO1</td>\n",
       "      <td>1.25</td>\n",
       "      <td>-1</td>\n",
       "      <td>...</td>\n",
       "      <td></td>\n",
       "      <td>MethylAcetate</td>\n",
       "      <td>1</td>\n",
       "      <td>22</td>\n",
       "      <td>2</td>\n",
       "      <td>100</td>\n",
       "      <td>100</td>\n",
       "      <td>1800</td>\n",
       "      <td>rest</td>\n",
       "      <td>180</td>\n",
       "    </tr>\n",
       "    <tr>\n",
       "      <th>2</th>\n",
       "      <td>sample2</td>\n",
       "      <td>Tray1</td>\n",
       "      <td>A3</td>\n",
       "      <td>[{'sample': 'sample2', 'start': nan, 'task': '...</td>\n",
       "      <td>[{'rpm': 3000.0, 'acceleration': 2000.0, 'dura...</td>\n",
       "      <td>99</td>\n",
       "      <td>FA0.78_Cs0.22_(Pb_(I0.9_Br0.1)3)1.09</td>\n",
       "      <td>DMF3_DMSO1</td>\n",
       "      <td>1.25</td>\n",
       "      <td>-1</td>\n",
       "      <td>...</td>\n",
       "      <td></td>\n",
       "      <td>MethylAcetate</td>\n",
       "      <td>1</td>\n",
       "      <td>22</td>\n",
       "      <td>2</td>\n",
       "      <td>100</td>\n",
       "      <td>100</td>\n",
       "      <td>1800</td>\n",
       "      <td>rest</td>\n",
       "      <td>180</td>\n",
       "    </tr>\n",
       "    <tr>\n",
       "      <th>3</th>\n",
       "      <td>sample3</td>\n",
       "      <td>Tray1</td>\n",
       "      <td>A4</td>\n",
       "      <td>[{'sample': 'sample3', 'start': nan, 'task': '...</td>\n",
       "      <td>[{'rpm': 3000.0, 'acceleration': 2000.0, 'dura...</td>\n",
       "      <td>99</td>\n",
       "      <td>FA0.78_Cs0.22_(Pb_(I0.9_Br0.1)3)1.09</td>\n",
       "      <td>DMF3_DMSO1</td>\n",
       "      <td>1.25</td>\n",
       "      <td>-1</td>\n",
       "      <td>...</td>\n",
       "      <td></td>\n",
       "      <td>MethylAcetate</td>\n",
       "      <td>1</td>\n",
       "      <td>22</td>\n",
       "      <td>2</td>\n",
       "      <td>100</td>\n",
       "      <td>100</td>\n",
       "      <td>1800</td>\n",
       "      <td>rest</td>\n",
       "      <td>180</td>\n",
       "    </tr>\n",
       "    <tr>\n",
       "      <th>4</th>\n",
       "      <td>sample4</td>\n",
       "      <td>Tray1</td>\n",
       "      <td>A5</td>\n",
       "      <td>[{'sample': 'sample4', 'start': nan, 'task': '...</td>\n",
       "      <td>[{'rpm': 3000.0, 'acceleration': 2000.0, 'dura...</td>\n",
       "      <td>99</td>\n",
       "      <td>FA0.78_Cs0.22_(Pb_(I0.9_Br0.1)3)1.09</td>\n",
       "      <td>DMF3_DMSO1</td>\n",
       "      <td>1.25</td>\n",
       "      <td>-1</td>\n",
       "      <td>...</td>\n",
       "      <td></td>\n",
       "      <td>MethylAcetate</td>\n",
       "      <td>1</td>\n",
       "      <td>22</td>\n",
       "      <td>2</td>\n",
       "      <td>100</td>\n",
       "      <td>100</td>\n",
       "      <td>1800</td>\n",
       "      <td>rest</td>\n",
       "      <td>180</td>\n",
       "    </tr>\n",
       "  </tbody>\n",
       "</table>\n",
       "<p>5 rows × 22 columns</p>\n",
       "</div>"
      ],
      "text/plain": [
       "      name storage_tray storage_slot  \\\n",
       "0  sample0        Tray1           A1   \n",
       "1  sample1        Tray1           A2   \n",
       "2  sample2        Tray1           A3   \n",
       "3  sample3        Tray1           A4   \n",
       "4  sample4        Tray1           A5   \n",
       "\n",
       "                                            worklist  \\\n",
       "0  [{'sample': 'sample0', 'start': nan, 'task': '...   \n",
       "1  [{'sample': 'sample1', 'start': nan, 'task': '...   \n",
       "2  [{'sample': 'sample2', 'start': nan, 'task': '...   \n",
       "3  [{'sample': 'sample3', 'start': nan, 'task': '...   \n",
       "4  [{'sample': 'sample4', 'start': nan, 'task': '...   \n",
       "\n",
       "                                     spincoat0_steps  spincoat0_duration  \\\n",
       "0  [{'rpm': 3000.0, 'acceleration': 2000.0, 'dura...                  99   \n",
       "1  [{'rpm': 3000.0, 'acceleration': 2000.0, 'dura...                  99   \n",
       "2  [{'rpm': 3000.0, 'acceleration': 2000.0, 'dura...                  99   \n",
       "3  [{'rpm': 3000.0, 'acceleration': 2000.0, 'dura...                  99   \n",
       "4  [{'rpm': 3000.0, 'acceleration': 2000.0, 'dura...                  99   \n",
       "\n",
       "                spincoat0_drop0_solutes spincoat0_drop0_solvent  \\\n",
       "0  FA0.78_Cs0.22_(Pb_(I0.9_Br0.1)3)1.09              DMF3_DMSO1   \n",
       "1  FA0.78_Cs0.22_(Pb_(I0.9_Br0.1)3)1.09              DMF3_DMSO1   \n",
       "2  FA0.78_Cs0.22_(Pb_(I0.9_Br0.1)3)1.09              DMF3_DMSO1   \n",
       "3  FA0.78_Cs0.22_(Pb_(I0.9_Br0.1)3)1.09              DMF3_DMSO1   \n",
       "4  FA0.78_Cs0.22_(Pb_(I0.9_Br0.1)3)1.09              DMF3_DMSO1   \n",
       "\n",
       "   spincoat0_drop0_molarity  spincoat0_drop0_time  ...  \\\n",
       "0                      1.25                    -1  ...   \n",
       "1                      1.25                    -1  ...   \n",
       "2                      1.25                    -1  ...   \n",
       "3                      1.25                    -1  ...   \n",
       "4                      1.25                    -1  ...   \n",
       "\n",
       "   spincoat0_drop1_solutes  spincoat0_drop1_solvent spincoat0_drop1_molarity  \\\n",
       "0                                     MethylAcetate                        1   \n",
       "1                                     MethylAcetate                        1   \n",
       "2                                     MethylAcetate                        1   \n",
       "3                                     MethylAcetate                        1   \n",
       "4                                     MethylAcetate                        1   \n",
       "\n",
       "  spincoat0_drop1_time  spincoat0_drop1_height  spincoat0_drop1_rate  \\\n",
       "0                   22                       2                   100   \n",
       "1                   22                       2                   100   \n",
       "2                   22                       2                   100   \n",
       "3                   22                       2                   100   \n",
       "4                   22                       2                   100   \n",
       "\n",
       "   anneal0_temperature  anneal0_duration  rest0_type  rest0_duration  \n",
       "0                  100              1800        rest             180  \n",
       "1                  100              1800        rest             180  \n",
       "2                  100              1800        rest             180  \n",
       "3                  100              1800        rest             180  \n",
       "4                  100              1800        rest             180  \n",
       "\n",
       "[5 rows x 22 columns]"
      ]
     },
<<<<<<< HEAD
     "execution_count": 14,
=======
     "execution_count": 16,
>>>>>>> f83eeda (characterization stations accept kwargs)
     "metadata": {},
     "output_type": "execute_result"
    }
   ],
   "source": [
    "load_sample_trays(samples, sample_trays)\n",
    "df = samples_to_dataframe(samples)\n",
    "df.to_csv(f'SampleDataframe_{experiment_name}.csv')\n",
    "df.head()"
   ]
  },
  {
   "cell_type": "markdown",
   "metadata": {},
   "source": [
    "-----"
   ]
  },
  {
   "cell_type": "markdown",
   "metadata": {},
   "source": [
    "# Preparing the Solutions"
   ]
  },
  {
   "cell_type": "markdown",
   "metadata": {},
   "source": [
    "## Define Stock Solutions\n",
    "\n",
    "These are the solutions that you will be mixing to (hopefully) cover your target solutions. If they don't work, the code will tell you, and you can come back to this point and try again."
   ]
  },
  {
   "cell_type": "code",
<<<<<<< HEAD
   "execution_count": 15,
=======
   "execution_count": null,
   "id": "4d146f03",
>>>>>>> f83eeda (characterization stations accept kwargs)
   "metadata": {},
   "outputs": [],
   "source": [
    "stock_solutions = [\n",
    "    Solution(\n",
    "        solutes= 'FA0.78_Cs0.12_MA0.1_(Pb_(I0.8_Br0.2)3)1.09',\n",
    "        solvent= 'DMF3_DMSO1',\n",
    "        molarity= 1,\n",
    "        labware='4mL_a_SolutionTray',\n",
    "        well='A2'\n",
    "    ),\n",
    "    Solution(\n",
    "        solutes= 'FA0.78_Cs0.12_MA0.1_(Pb_(I0.9_Br0.1)3)1.09',\n",
    "        solvent= 'DMF3_DMSO1',\n",
    "        molarity= 1,\n",
    "        labware='4mL_a_SolutionTray',\n",
    "        well='B2'\n",
    "    ),\n",
    "    Solution(\n",
    "        solutes= 'FA0.78_Cs0.12_MA0.1_(Pb_(I0.9_Cl0.1)3)1.09',\n",
    "        solvent= 'DMF3_DMSO1',\n",
    "        molarity= 1,\n",
    "        labware='4mL_a_SolutionTray',\n",
    "        well='B1'\n",
    "    ),\n",
    "    Solution(\n",
    "        solutes= 'FA0.78_Cs0.12_MA0.1_(Pb_(I0.8_Br0.1_Cl0.1)3)1.09',\n",
    "        solvent= 'DMF3_DMSO1',\n",
    "        molarity= 1,\n",
    "        labware='4mL_a_SolutionTray',\n",
    "        well='A1'\n",
    "    ),\n",
    "\n",
    "\n",
    "    Solution(\n",
    "        solutes= 'FA0.78_Cs0.22_(Pb_(I0.8_Br0.2)3)1.09',\n",
    "        solvent= 'DMF3_DMSO1',\n",
    "        molarity= 1,\n",
    "        labware='4mL_a_SolutionTray',\n",
    "        well='C2'\n",
    "    ),\n",
    "    Solution(\n",
    "        solutes= 'FA0.78_Cs0.22_(Pb_(I0.9_Br0.1)3)1.09',\n",
    "        solvent= 'DMF3_DMSO1',\n",
    "        molarity= 1.25,\n",
    "        labware='4mL_a_SolutionTray',\n",
    "        well='D2'\n",
    "    ),\n",
    "    Solution(\n",
    "        solutes= 'FA0.78_Cs0.22_(Pb_(I0.9_Cl0.1)3)1.09',\n",
    "        solvent= 'DMF3_DMSO1',\n",
    "        molarity= 1,\n",
    "        labware='4mL_a_SolutionTray',\n",
    "        well='C1'\n",
    "    ),\n",
    "    Solution(\n",
    "        solutes= 'FA0.78_Cs0.22_(Pb_(I0.8_Br0.1_Cl0.1)3)1.09',\n",
    "        solvent= 'DMF3_DMSO1',\n",
    "        molarity= 1,\n",
    "        labware='4mL_a_SolutionTray',\n",
    "        well='D1'\n",
    "    ),\n",
    "    methyl_acetate\n",
    "]"
   ]
  },
  {
   "cell_type": "markdown",
   "metadata": {},
   "source": [
    "Can we cover target solutions with these stocks? and if so, how much of each stock to mix for each target?\n",
    "\n",
    "This will throw an error if the stock solutions are not able to cover our experiment"
   ]
  },
  {
   "cell_type": "code",
<<<<<<< HEAD
   "execution_count": 16,
   "metadata": {},
   "outputs": [],
   "source": [
    "# solution_details[methyl_acetate]"
   ]
  },
  {
   "cell_type": "code",
   "execution_count": 17,
   "metadata": {},
   "outputs": [],
   "source": [
    "# fml_solutions = [k for k,v in solution_details.items() if not v['is_stock'] and v['labware'] == '4mL_Tray1']"
   ]
  },
  {
   "cell_type": "code",
   "execution_count": 18,
   "metadata": {},
   "outputs": [],
   "source": [
    "# fml_solutions"
   ]
  },
  {
   "cell_type": "code",
   "execution_count": 19,
=======
   "execution_count": null,
   "id": "76887f57",
>>>>>>> f83eeda (characterization stations accept kwargs)
   "metadata": {},
   "outputs": [],
   "source": [
    "required_solutions = {}\n",
    "for s in samples:\n",
    "    for task in s.worklist:\n",
    "        if isinstance(task, Spincoat):\n",
    "            for d in task.drops:\n",
    "                sol = d.solution\n",
    "                if sol in required_solutions:\n",
    "                    required_solutions[sol] += d.volume\n",
    "                else:\n",
    "                    required_solutions[sol] = d.volume #50 ul minimum volume per well for successful aspiration"
   ]
  },
  {
   "cell_type": "code",
<<<<<<< HEAD
   "execution_count": 20,
=======
   "execution_count": null,
   "id": "d54f01e4",
>>>>>>> f83eeda (characterization stations accept kwargs)
   "metadata": {},
   "outputs": [],
   "source": [
    "# for s in fml_solutions:\n",
    "#     required_solutions[s] += 400"
   ]
  },
  {
   "cell_type": "code",
<<<<<<< HEAD
   "execution_count": 21,
=======
   "execution_count": null,
   "id": "f975a907",
>>>>>>> f83eeda (characterization stations accept kwargs)
   "metadata": {},
   "outputs": [],
   "source": [
    "mixer = mx.Mixer(\n",
    "    stock_solutions=stock_solutions,\n",
    "    targets=required_solutions,\n",
    ")\n",
    "mixer.solve(\n",
    "    min_volume=20,\n",
    "    max_inputs=4,\n",
    "    tolerance=1e-4,\n",
    "    strategy='prefer_stock'\n",
    ")"
   ]
  },
  {
   "cell_type": "code",
<<<<<<< HEAD
   "execution_count": 22,
=======
   "execution_count": null,
   "id": "dba94bff",
>>>>>>> f83eeda (characterization stations accept kwargs)
   "metadata": {},
   "outputs": [
    {
     "name": "stdout",
     "output_type": "stream",
     "text": [
      "===== Stock Prep =====\n",
      "720.00 of 1.25M FA0.78_Cs0.22_(Pb_(I0.9_Br0.1)3)1.09 in DMF3_DMSO1\n",
      "1800.00 of MethylAcetate\n"
     ]
    }
   ],
   "source": [
    "mixer.print()"
   ]
  },
  {
   "cell_type": "code",
<<<<<<< HEAD
   "execution_count": 23,
=======
   "execution_count": null,
   "id": "63b74d65",
>>>>>>> f83eeda (characterization stations accept kwargs)
   "metadata": {},
   "outputs": [],
   "source": [
    "solution_details, mixing_netlist = handle_liquids(\n",
    "    samples=samples,\n",
    "    mixer=mixer,\n",
    "    solution_storage=solution_storage,\n",
    ")"
   ]
  },
  {
   "cell_type": "markdown",
   "metadata": {},
   "source": [
    "#### Plot + save images that map the solution + substrate loading positions"
   ]
  },
  {
   "cell_type": "code",
<<<<<<< HEAD
   "execution_count": 24,
=======
   "execution_count": null,
   "id": "6d4b4f74",
>>>>>>> f83eeda (characterization stations accept kwargs)
   "metadata": {},
   "outputs": [
    {
     "data": {
      "image/png": "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",
      "text/plain": [
       "<Figure size 432x576 with 2 Axes>"
      ]
     },
     "metadata": {
      "needs_background": "light"
     },
     "output_type": "display_data"
    }
   ],
   "source": [
    "ll_with_solutions = [\n",
    "    ll for ll in solution_storage\n",
    "    if len(ll.contents) > 0\n",
    "]\n",
    "\n",
    "fig, ax = plt.subplots(len(ll_with_solutions), 1, figsize=(6,4*len(ll_with_solutions)))\n",
    "try:\n",
    "    ax = ax.flat\n",
    "except:\n",
    "    ax = [ax]\n",
    "for ll, ax_ in zip(ll_with_solutions, ax):\n",
    "    ll.plot(solution_details=solution_details, ax=ax_)\n",
    "plt.savefig(f\"solutionmap_{experiment_name}.jpeg\", dpi=150, bbox_inches='tight')"
   ]
  },
  {
   "cell_type": "markdown",
   "metadata": {},
   "source": [
    "-----"
   ]
  },
  {
   "cell_type": "markdown",
   "metadata": {},
   "source": [
    "# Build the Experiment Schedule + Save Worklist"
   ]
  },
  {
   "cell_type": "code",
<<<<<<< HEAD
   "execution_count": 25,
=======
   "execution_count": null,
   "id": "cf16c46f",
   "metadata": {},
   "outputs": [],
   "source": [
    "system = build()\n",
    "\n",
    "for s in samples:\n",
    "    s.protocol = system.generate_protocol(\n",
    "        worklist = s.worklist,\n",
    "        name=s.name\n",
    "    )        "
   ]
  },
  {
   "cell_type": "code",
   "execution_count": null,
   "id": "87e40546",
>>>>>>> f83eeda (characterization stations accept kwargs)
   "metadata": {},
   "outputs": [
    {
     "name": "stdout",
     "output_type": "stream",
     "text": [
      "solution status: OPTIMAL\n"
     ]
<<<<<<< HEAD
    },
    {
     "data": {
      "image/png": "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",
=======
    }
   ],
   "source": [
    "system.scheduler.solve()"
   ]
  },
  {
   "cell_type": "code",
   "execution_count": null,
   "id": "5266f3d2",
   "metadata": {},
   "outputs": [
    {
     "data": {
      "image/png": "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",
>>>>>>> f83eeda (characterization stations accept kwargs)
      "text/plain": [
       "<Figure size 1008x360 with 2 Axes>"
      ]
     },
     "metadata": {
      "needs_background": "light"
     },
     "output_type": "display_data"
    }
   ],
   "source": [
<<<<<<< HEAD
    "system.scheduler.plot_solution()"
<<<<<<< HEAD
=======
    "scheduler = Scheduler(\n",
    "    samples=samples,\n",
    "    spanning_tasks = [\"characterize\", \"spincoat\"], #these tasks spanning each pair must be done in sequence per sample\n",
    "    enforce_sample_order=True\n",
    ")\n",
    "ordered_tasks = scheduler.solve(10) #argument defines how long (s) to work on finding a solution\n",
    "plt.savefig(f'pascalschedule_{experiment_name}', dpi=300, bbox_inches='tight')"
>>>>>>> 19c8372 (subclass workers, tasks, notebook still works)
=======
>>>>>>> 7042241 (refactor)
   ]
  },
  {
   "cell_type": "markdown",
<<<<<<< HEAD
   "id": "ca4af43f",
=======
>>>>>>> 19c8372 (subclass workers, tasks, notebook still works)
   "metadata": {},
   "source": [
    "----"
   ]
  },
  {
   "cell_type": "markdown",
<<<<<<< HEAD
   "id": "10ecd87d",
=======
>>>>>>> 19c8372 (subclass workers, tasks, notebook still works)
   "metadata": {},
   "source": [
    "# Write final files to disk"
   ]
  },
  {
   "cell_type": "markdown",
<<<<<<< HEAD
   "id": "87ef0a3f",
=======
>>>>>>> 19c8372 (subclass workers, tasks, notebook still works)
   "metadata": {},
   "source": [
    "## Solution Instructions to csv, tells operator where/how much to put solutions"
   ]
  },
  {
   "cell_type": "code",
<<<<<<< HEAD
<<<<<<< HEAD
<<<<<<< HEAD
   "execution_count": 27,
=======
   "execution_count": 40,
>>>>>>> 7042241 (refactor)
=======
   "execution_count": null,
>>>>>>> f83eeda (characterization stations accept kwargs)
   "id": "dc8f7336",
=======
   "execution_count": 26,
>>>>>>> 19c8372 (subclass workers, tasks, notebook still works)
   "metadata": {},
   "outputs": [],
   "source": [
    "with open(f'stocksolutions_{experiment_name}.csv', 'w', newline='') as f:\n",
    "    writer = csv.writer(f, delimiter=',')\n",
    "    header = [\n",
    "        'Labware',\n",
    "        'Well',\n",
    "        'Volume (uL)',\n",
    "        'Solutes',\n",
    "        'Molarity (M)',\n",
    "        'Solvent',        \n",
    "    ]\n",
    "    writer.writerow(header)\n",
    "    for solution, details in solution_details.items():\n",
    "        volume = details['initial_volume_required']\n",
    "        if volume == 0:\n",
    "            volume = 'Empty Vial'\n",
    "        line = [\n",
    "            details['labware'],\n",
    "            details['well'],\n",
    "            volume,\n",
    "            solution.solutes,\n",
    "            solution.molarity,\n",
    "            solution.solvent,\n",
    "        ]\n",
    "        writer.writerow(line)"
   ]
  },
  {
   "cell_type": "markdown",
<<<<<<< HEAD
   "id": "996ac61c",
=======
>>>>>>> 19c8372 (subclass workers, tasks, notebook still works)
   "metadata": {},
   "source": [
    "Substrate map"
   ]
  },
  {
   "cell_type": "code",
<<<<<<< HEAD
<<<<<<< HEAD
<<<<<<< HEAD
   "execution_count": 28,
=======
   "execution_count": 41,
>>>>>>> 7042241 (refactor)
=======
   "execution_count": null,
>>>>>>> f83eeda (characterization stations accept kwargs)
   "id": "d2e7b2ab",
=======
   "execution_count": 27,
>>>>>>> 19c8372 (subclass workers, tasks, notebook still works)
   "metadata": {},
   "outputs": [
    {
     "data": {
      "image/png": "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",
      "text/plain": [
       "<Figure size 216x288 with 1 Axes>"
      ]
     },
     "metadata": {
      "needs_background": "light"
     },
     "output_type": "display_data"
    }
   ],
   "source": [
    "st_with_samples = [\n",
    "    st for st in sample_trays\n",
    "    if len(st.contents) > 0\n",
    "]\n",
    "\n",
    "fig, ax = plt.subplots(len(st_with_samples), 1, figsize=(3,4*len(st_with_samples)))\n",
    "try:\n",
    "    ax = ax.flat\n",
    "except:\n",
    "    ax = [ax]\n",
    "for ll, ax_ in zip(st_with_samples, ax):\n",
    "    ll.plot(ax=ax_)\n",
    "plt.savefig(f\"traymap_{experiment_name}.jpeg\", dpi=150, bbox_inches='tight')"
   ]
  },
  {
   "cell_type": "markdown",
<<<<<<< HEAD
   "id": "8f427839",
=======
>>>>>>> 19c8372 (subclass workers, tasks, notebook still works)
   "metadata": {},
   "source": [
    "## Generate protocol for Opentrons liquid handler"
   ]
  },
  {
   "cell_type": "code",
<<<<<<< HEAD
<<<<<<< HEAD
<<<<<<< HEAD
   "execution_count": 29,
=======
   "execution_count": 43,
>>>>>>> 7042241 (refactor)
=======
   "execution_count": null,
>>>>>>> f83eeda (characterization stations accept kwargs)
   "id": "8692e6bd",
=======
   "execution_count": 28,
>>>>>>> 19c8372 (subclass workers, tasks, notebook still works)
   "metadata": {},
   "outputs": [
    {
     "name": "stdout",
     "output_type": "stream",
     "text": [
      "OT2 protocol dumped to \"./OT2PASCALProtocol_Deniz Absorbers for Passivation.py\"\n"
     ]
    }
   ],
   "source": [
    "generate_ot2_protocol(\n",
    "    title=experiment_name,\n",
    "    mixing_netlist= mixing_netlist,\n",
    "    labware=solution_storage,\n",
    "    tipracks=tipracks)\n",
    "    "
   ]
  },
  {
   "cell_type": "code",
<<<<<<< HEAD
<<<<<<< HEAD
<<<<<<< HEAD
   "execution_count": 30,
=======
   "execution_count": 45,
>>>>>>> 7042241 (refactor)
=======
   "execution_count": null,
>>>>>>> f83eeda (characterization stations accept kwargs)
   "id": "9dd50d75",
=======
   "execution_count": 29,
>>>>>>> 19c8372 (subclass workers, tasks, notebook still works)
   "metadata": {},
   "outputs": [
    {
     "name": "stdout",
     "output_type": "stream",
     "text": [
      "Maestro Netlist dumped to \"maestronetlist_Deniz Absorbers for Passivation.json\"\n"
     ]
    }
   ],
   "source": [
<<<<<<< HEAD
<<<<<<< HEAD
    "ordered_task_output = [\n",
    "    task.to_dict() \n",
    "    for task \n",
    "    in system.scheduler.get_tasklist()\n",
    "    ]\n",
=======
    "ordered_task_output = [task.to_dict() for task in ordered_tasks]\n",
>>>>>>> 19c8372 (subclass workers, tasks, notebook still works)
=======
    "samples_output = {}\n",
    "ordered_task_output = []\n",
    "for sample in samples:\n",
    "    samples_output[sample.name] = sample.to_dict()\n",
    "    for task in sample.protocol.worklist:\n",
    "        taskdict = task.to_dict()\n",
    "        taskdict['sample'] = sample.name\n",
    "        ordered_task_output.append(taskdict)\n",
>>>>>>> 7042241 (refactor)
    "\n",
    "ordered_task_output.sort(key = lambda t: t['start'])\n",
    "out = {\n",
    "    'name': experiment_name,\n",
    "    'description': experiment_description,\n",
    "    'samples': samples_output,\n",
    "    'tasks': ordered_task_output,\n",
    "}\n",
    "\n",
    "fname = f'maestronetlist_{experiment_name}.json'\n",
    "with open(fname, 'w') as f:\n",
    "    json.dump(out, f, indent=4, sort_keys=True)\n",
    "print(f'Maestro Netlist dumped to \"{fname}\"')"
   ]
  },
  {
   "cell_type": "markdown",
<<<<<<< HEAD
   "id": "92c23795",
=======
>>>>>>> 19c8372 (subclass workers, tasks, notebook still works)
   "metadata": {},
   "source": [
    "# Powder Weighing Instructions"
   ]
  },
  {
   "cell_type": "code",
<<<<<<< HEAD
<<<<<<< HEAD
   "execution_count": 32,
=======
   "execution_count": null,
>>>>>>> f83eeda (characterization stations accept kwargs)
   "id": "e42210f0",
=======
   "execution_count": 30,
   "metadata": {},
   "outputs": [
    {
     "data": {
      "text/plain": [
       "<module 'mixsol' from '/Users/rishi/GitHub/mixsol/mixsol/__init__.py'>"
      ]
     },
     "execution_count": 30,
     "metadata": {},
     "output_type": "execute_result"
    }
   ],
   "source": [
    "from importlib import reload\n",
    "reload(mx)"
   ]
  },
  {
   "cell_type": "code",
   "execution_count": 31,
>>>>>>> 19c8372 (subclass workers, tasks, notebook still works)
   "metadata": {},
   "outputs": [
    {
     "data": {
      "text/plain": [
       "[<Solution> 1M FA0.78_Cs0.12_MA0.1_(Pb_(I0.8_Br0.2)3)1.09 in DMF3_DMSO1,\n",
       " <Solution> 1M FA0.78_Cs0.12_MA0.1_(Pb_(I0.9_Br0.1)3)1.09 in DMF3_DMSO1,\n",
       " <Solution> 1M FA0.78_Cs0.12_MA0.1_(Pb_(I0.9_Cl0.1)3)1.09 in DMF3_DMSO1,\n",
       " <Solution> 1M FA0.78_Cs0.12_MA0.1_(Pb_(I0.8_Br0.1_Cl0.1)3)1.09 in DMF3_DMSO1,\n",
       " <Solution> 1M FA0.78_Cs0.22_(Pb_(I0.8_Br0.2)3)1.09 in DMF3_DMSO1,\n",
       " <Solution> 1.25M FA0.78_Cs0.22_(Pb_(I0.9_Br0.1)3)1.09 in DMF3_DMSO1,\n",
       " <Solution> 1M FA0.78_Cs0.22_(Pb_(I0.9_Cl0.1)3)1.09 in DMF3_DMSO1,\n",
       " <Solution> 1M FA0.78_Cs0.22_(Pb_(I0.8_Br0.1_Cl0.1)3)1.09 in DMF3_DMSO1,\n",
       " <Solution> MethylAcetate]"
      ]
     },
<<<<<<< HEAD
<<<<<<< HEAD
     "execution_count": 32,
=======
     "execution_count": 31,
>>>>>>> 19c8372 (subclass workers, tasks, notebook still works)
=======
     "execution_count": 31,
>>>>>>> f83eeda (characterization stations accept kwargs)
     "metadata": {},
     "output_type": "execute_result"
    }
   ],
   "source": [
    "stock_solutions"
   ]
  },
  {
   "cell_type": "code",
<<<<<<< HEAD
<<<<<<< HEAD
   "execution_count": 33,
=======
   "execution_count": null,
>>>>>>> f83eeda (characterization stations accept kwargs)
   "id": "90c0cdab",
=======
   "execution_count": 32,
>>>>>>> 19c8372 (subclass workers, tasks, notebook still works)
   "metadata": {},
   "outputs": [],
   "source": [
    "powders = [\n",
    "    mx.Powder('Pb_I2'),\n",
    "    mx.Powder('Pb_Br2'),\n",
    "    mx.Powder('Pb_Cl2'),\n",
    "    mx.Powder('Cs_I'),\n",
    "    mx.Powder(\n",
    "        formula='MA_I',\n",
    "        molar_mass=mx.calculate_molar_mass('CH6NI'),\n",
    "    ),\n",
    "    mx.Powder(\n",
    "        formula='FA_I',\n",
    "        molar_mass=mx.calculate_molar_mass('CH5N2I'),\n",
    "    )\n",
    "\n",
    "]\n",
    "weigher = mx.Weigher(powders=powders)"
   ]
  },
  {
   "cell_type": "code",
<<<<<<< HEAD
<<<<<<< HEAD
   "execution_count": 34,
=======
   "execution_count": null,
>>>>>>> f83eeda (characterization stations accept kwargs)
   "id": "c10b7974",
=======
   "execution_count": 33,
>>>>>>> 19c8372 (subclass workers, tasks, notebook still works)
   "metadata": {},
   "outputs": [
    {
     "name": "stdout",
     "output_type": "stream",
     "text": [
<<<<<<< HEAD
<<<<<<< HEAD
=======
      "MethylAcetate:1800\n",
>>>>>>> f83eeda (characterization stations accept kwargs)
      "1M FA0.78_Cs0.12_MA0.1_(Pb_(I0.9_Cl0.1)3)1.09 in DMF3_DMSO1:0\n",
      "1M FA0.78_Cs0.22_(Pb_(I0.8_Br0.1_Cl0.1)3)1.09 in DMF3_DMSO1:0\n",
      "1M FA0.78_Cs0.12_MA0.1_(Pb_(I0.8_Br0.2)3)1.09 in DMF3_DMSO1:0\n",
      "1.25M FA0.78_Cs0.22_(Pb_(I0.9_Br0.1)3)1.09 in DMF3_DMSO1:720\n",
      "1M FA0.78_Cs0.12_MA0.1_(Pb_(I0.9_Br0.1)3)1.09 in DMF3_DMSO1:0\n",
      "1M FA0.78_Cs0.22_(Pb_(I0.9_Cl0.1)3)1.09 in DMF3_DMSO1:0\n",
<<<<<<< HEAD
      "1M FA0.78_Cs0.12_MA0.1_(Pb_(I0.8_Br0.1_Cl0.1)3)1.09 in DMF3_DMSO1:0\n",
      "1M FA0.78_Cs0.22_(Pb_(I0.8_Br0.1_Cl0.1)3)1.09 in DMF3_DMSO1:0\n",
      "MethylAcetate:1800\n",
      "1M FA0.78_Cs0.12_MA0.1_(Pb_(I0.8_Br0.2)3)1.09 in DMF3_DMSO1:0\n",
      "1M FA0.78_Cs0.22_(Pb_(I0.8_Br0.2)3)1.09 in DMF3_DMSO1:0\n"
=======
      "1M FA0.78_Cs0.12_MA0.1_(Pb_(I0.8_Br0.2)3)1.09 in DMF3_DMSO1:0\n",
      "1M FA0.78_Cs0.22_(Pb_(I0.9_Cl0.1)3)1.09 in DMF3_DMSO1:0\n",
      "1M FA0.78_Cs0.12_MA0.1_(Pb_(I0.9_Cl0.1)3)1.09 in DMF3_DMSO1:0\n",
      "1M FA0.78_Cs0.12_MA0.1_(Pb_(I0.9_Br0.1)3)1.09 in DMF3_DMSO1:0\n",
      "1M FA0.78_Cs0.12_MA0.1_(Pb_(I0.8_Br0.1_Cl0.1)3)1.09 in DMF3_DMSO1:0\n",
      "1M FA0.78_Cs0.22_(Pb_(I0.8_Br0.2)3)1.09 in DMF3_DMSO1:0\n",
      "1.25M FA0.78_Cs0.22_(Pb_(I0.9_Br0.1)3)1.09 in DMF3_DMSO1:720\n",
      "MethylAcetate:1800\n",
      "1M FA0.78_Cs0.22_(Pb_(I0.8_Br0.1_Cl0.1)3)1.09 in DMF3_DMSO1:0\n"
>>>>>>> 19c8372 (subclass workers, tasks, notebook still works)
=======
      "1M FA0.78_Cs0.22_(Pb_(I0.8_Br0.2)3)1.09 in DMF3_DMSO1:0\n",
      "1M FA0.78_Cs0.12_MA0.1_(Pb_(I0.8_Br0.1_Cl0.1)3)1.09 in DMF3_DMSO1:0\n"
>>>>>>> f83eeda (characterization stations accept kwargs)
     ]
    }
   ],
   "source": [
    "stock_details = {k:v for k,v in solution_details.items() if v['is_stock']}\n",
    "\n",
    "for k,v in stock_details.items():\n",
    "    print(f\"{k}:{v['largest_volume_required']}\")"
   ]
  },
  {
   "cell_type": "code",
<<<<<<< HEAD
<<<<<<< HEAD
   "execution_count": 35,
=======
   "execution_count": null,
>>>>>>> f83eeda (characterization stations accept kwargs)
   "id": "2a20a5b5",
=======
   "execution_count": 34,
>>>>>>> 19c8372 (subclass workers, tasks, notebook still works)
   "metadata": {},
   "outputs": [],
   "source": [
    "for solution, v in stock_details.items():\n",
    "    try:\n",
    "        v['weights'] = weigher.get_weights(solution, volume=1e-3, tolerance=1e-4)\n",
    "    except:\n",
    "        v['weights'] = {}"
   ]
  },
  {
   "cell_type": "code",
<<<<<<< HEAD
<<<<<<< HEAD
   "execution_count": 36,
=======
   "execution_count": null,
>>>>>>> f83eeda (characterization stations accept kwargs)
   "id": "d48d903c",
=======
   "execution_count": 35,
>>>>>>> 19c8372 (subclass workers, tasks, notebook still works)
   "metadata": {},
   "outputs": [],
   "source": [
    "unique_powders = list(set([p\n",
    "for v in stock_details.values()\n",
    "for p in v['weights']]))"
   ]
  },
  {
   "cell_type": "code",
<<<<<<< HEAD
<<<<<<< HEAD
   "execution_count": 37,
=======
   "execution_count": null,
>>>>>>> f83eeda (characterization stations accept kwargs)
   "id": "e35ca686",
=======
   "execution_count": 36,
>>>>>>> 19c8372 (subclass workers, tasks, notebook still works)
   "metadata": {},
   "outputs": [],
   "source": [
    "with open('weight_table.csv', 'w', newline='') as f:\n",
    "    writer = csv.writer(f, delimiter=',')\n",
    "    writer.writerow(['Solution'] + [f\"{p} (mg)\" for p in unique_powders])\n",
    "    for solution, v in stock_details.items():\n",
    "        line = [solution]\n",
    "        for p in unique_powders:\n",
    "            if p in v['weights']:\n",
    "                line.append(round(v['weights'][p]*1000, 2))\n",
    "            else:\n",
    "                line.append('')\n",
    "        writer.writerow(line)"
   ]
  },
  {
   "cell_type": "code",
<<<<<<< HEAD
<<<<<<< HEAD
   "execution_count": 38,
=======
   "execution_count": null,
>>>>>>> f83eeda (characterization stations accept kwargs)
   "id": "f3884f09",
=======
   "execution_count": 37,
>>>>>>> 19c8372 (subclass workers, tasks, notebook still works)
   "metadata": {},
   "outputs": [
    {
     "name": "stdout",
     "output_type": "stream",
     "text": [
      "Pb_I2:461.00894\n",
      "Pb_Br2:367.00699999999995\n",
      "Pb_Cl2:278.1058\n",
      "Cs_I:259.80992196\n",
      "MA_I:158.969559\n",
      "FA_I:171.968321\n"
     ]
    }
   ],
   "source": [
    "for p in powders:\n",
    "    print(f\"{p.formula}:{p.molar_mass}\")"
   ]
  },
  {
   "cell_type": "code",
<<<<<<< HEAD
<<<<<<< HEAD
   "execution_count": 39,
=======
   "execution_count": null,
>>>>>>> f83eeda (characterization stations accept kwargs)
   "id": "9e280398",
=======
   "execution_count": 38,
>>>>>>> 19c8372 (subclass workers, tasks, notebook still works)
   "metadata": {},
   "outputs": [
    {
     "name": "stdout",
     "output_type": "stream",
     "text": [
<<<<<<< HEAD
<<<<<<< HEAD
      "1M Cs0.13_I2.933_Cl0.317_FA0.79_MA0.11_Pb1.11 in DMF3_DMSO1\n",
      "1M Cs0.2890625_I3.664687_FA0.9890625_Pb1.390625_Br0.3946875 in DMF3_DMSO1\n",
      "1M Cs0.13_I2.933_FA0.79_MA0.11_Pb1.11_Br0.317 in DMF3_DMSO1\n",
      "1M Cs0.23125_I2.93175_Cl0.31575_FA0.79125_Pb1.1125 in DMF3_DMSO1\n",
      "1M Cs0.129_I2.607_Cl0.318_FA0.789_MA0.109_Pb1.108_Br0.318 in DMF3_DMSO1\n",
      "1M Cs0.23_I2.606_Cl0.317_FA0.79_Pb1.11_Br0.317 in DMF3_DMSO1\n",
      "DMF3_DMSO1\n",
      "1M Cs0.13_I2.606_FA0.79_MA0.11_Pb1.11_Br0.644 in DMF3_DMSO1\n",
      "1M Cs0.23125_I2.60475_FA0.79125_Pb1.1125_Br0.64275 in DMF3_DMSO1\n"
=======
      "1M FA0.79_Cs0.13_I2.606_Br0.644_Pb1.11_MA0.11 in DMF3_DMSO1\n",
      "1M FA0.79125_Cl0.31575_Cs0.23125_I2.93175_Pb1.1125 in DMF3_DMSO1\n",
      "1M FA0.79_Cl0.317_Cs0.13_I2.933_Pb1.11_MA0.11 in DMF3_DMSO1\n",
      "1M FA0.79_Cs0.13_I2.933_Br0.317_Pb1.11_MA0.11 in DMF3_DMSO1\n",
      "1M FA0.789_Cl0.318_Cs0.129_I2.607_Br0.318_Pb1.108_MA0.109 in DMF3_DMSO1\n",
      "1M FA0.79125_Cs0.23125_I2.60475_Br0.64275_Pb1.1125 in DMF3_DMSO1\n",
      "1M FA0.9890625_Cs0.2890625_I3.664687_Br0.3946875_Pb1.390625 in DMF3_DMSO1\n",
      "DMF3_DMSO1\n",
      "1M FA0.79_Cl0.317_Cs0.23_I2.606_Br0.317_Pb1.11 in DMF3_DMSO1\n"
>>>>>>> 19c8372 (subclass workers, tasks, notebook still works)
=======
      "DMF3_DMSO1\n",
      "1M Cs0.13_I2.933_Cl0.317_MA0.11_FA0.79_Pb1.11 in DMF3_DMSO1\n",
      "1M Cs0.23_I2.606_Cl0.317_FA0.79_Br0.317_Pb1.11 in DMF3_DMSO1\n",
      "1M Cs0.13_I2.606_MA0.11_FA0.79_Br0.644_Pb1.11 in DMF3_DMSO1\n",
      "1M Cs0.2890625_I3.664687_FA0.9890625_Br0.3946875_Pb1.390625 in DMF3_DMSO1\n",
      "1M Cs0.13_I2.933_MA0.11_FA0.79_Br0.317_Pb1.11 in DMF3_DMSO1\n",
      "1M Cs0.23125_I2.93175_Cl0.31575_FA0.79125_Pb1.1125 in DMF3_DMSO1\n",
      "1M Cs0.23125_I2.60475_FA0.79125_Br0.64275_Pb1.1125 in DMF3_DMSO1\n",
      "1M Cs0.129_I2.607_Cl0.318_MA0.109_FA0.789_Br0.318_Pb1.108 in DMF3_DMSO1\n"
>>>>>>> f83eeda (characterization stations accept kwargs)
     ]
    }
   ],
   "source": [
    "for k,v in stock_details.items():\n",
    "    print(weigher.weights_to_solution(v['weights'], volume=1e-3, solvent='DMF3_DMSO1', molarity=1))"
   ]
  },
  {
   "cell_type": "code",
   "execution_count": null,
<<<<<<< HEAD
   "id": "9e4ea07b",
=======
>>>>>>> 19c8372 (subclass workers, tasks, notebook still works)
   "metadata": {},
   "outputs": [],
   "source": []
  }
 ],
 "metadata": {
  "interpreter": {
   "hash": "98098c180632dc34c2d481ea947af6f21f8ddd2925efa1f9cc0fafc572f11412"
  },
  "kernelspec": {
   "display_name": "Python 3.8.0 64-bit ('pascal': conda)",
   "name": "python3"
  },
  "language_info": {
   "codemirror_mode": {
    "name": "ipython",
    "version": 3
   },
   "file_extension": ".py",
   "mimetype": "text/x-python",
   "name": "python",
   "nbconvert_exporter": "python",
   "pygments_lexer": "ipython3",
   "version": "3.8.0"
  }
 },
 "nbformat": 4,
 "nbformat_minor": 5
}
