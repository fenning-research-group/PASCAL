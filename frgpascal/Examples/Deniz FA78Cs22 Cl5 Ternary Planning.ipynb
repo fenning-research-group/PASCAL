{
 "cells": [
  {
   "cell_type": "code",
   "execution_count": 1,
   "id": "20694bed",
   "metadata": {},
   "outputs": [],
   "source": [
    "import numpy as np\n",
    "import csv\n",
    "%matplotlib inline\n",
    "import pandas as pd\n",
    "from frgpascal.hardware.sampletray import SampleTray, AVAILABLE_VERSIONS as sampletray_versions\n",
    "from frgpascal.hardware.liquidlabware import TipRack, LiquidLabware, AVAILABLE_VERSIONS as liquid_labware_versions\n",
    "from frgpascal.hardware.hotplate import AVAILABLE_VERSIONS as hotplate_versions\n",
    "from frgpascal.experimentaldesign.helpers import build_sample_list, plot_tray, handle_liquids, samples_to_dataframe, load_sample_trays\n",
    "from frgpascal.experimentaldesign.tasks import *\n",
    "from frgpascal.experimentaldesign import characterizationtasks as chtsk\n",
    "from frgpascal.experimentaldesign.scheduler import Scheduler\n",
    "from frgpascal.experimentaldesign.protocolwriter import generate_ot2_protocol\n",
    "from frgpascal.system import build\n",
    "import mixsol as mx\n",
    "from random import shuffle"
   ]
  },
  {
   "cell_type": "code",
   "execution_count": 2,
   "id": "84badf83",
   "metadata": {},
   "outputs": [],
   "source": [
    "char_absorber = Characterize(\n",
    "    tasks = [\n",
    "        chtsk.PLSpectroscopy(\n",
    "            dwelltimes=[0.1, 5, 20],\n",
    "            numscans=1\n",
    "        ),\n",
    "        chtsk.Brightfield(),\n",
    "        chtsk.PLPhotostability(\n",
    "            dwelltime=2,\n",
    "            duration=120\n",
    "        ),\n",
    "        chtsk.Darkfield(),\n",
    "        chtsk.TransmissionSpectroscopy(),\n",
    "    ],\n",
    "    reorder_by_position=False\n",
    ")"
   ]
  },
  {
   "cell_type": "code",
   "execution_count": 3,
   "id": "22c3b058",
   "metadata": {},
   "outputs": [
    {
     "data": {
      "text/plain": [
       "{'name': 'characterize',\n",
       " 'start': nan,\n",
       " 'id': 'characterize--58439443-a230-4a39-b82e-c1b9daedc08f',\n",
       " 'details': {'characterization_tasks': [{'name': 'PL_635nm',\n",
       "    'station': 'pl_red',\n",
       "    'position': 287,\n",
       "    'duration': 25.32,\n",
       "    'details': {'dwelltimes': [0.1, 5, 20], 'numscans': 1}},\n",
       "   {'name': 'Brightfield',\n",
       "    'station': 'brightfield',\n",
       "    'position': 164.4,\n",
       "    'duration': 0.1,\n",
       "    'details': {'dwelltimes': [0.1]}},\n",
       "   {'name': 'Photostability_405nm',\n",
       "    'station': 'pl_blue',\n",
       "    'position': 285,\n",
       "    'duration': 120.22,\n",
       "    'details': {'dwelltime': 2, 'numscans': 60}},\n",
       "   {'name': 'Darkfield',\n",
       "    'station': 'darkfield',\n",
       "    'position': 75,\n",
       "    'duration': 0.05,\n",
       "    'details': {'dwelltimes': [0.05]}},\n",
       "   {'name': 'Transmission',\n",
       "    'station': 'transmission',\n",
       "    'position': 287,\n",
       "    'duration': 46.54,\n",
       "    'details': {'dwelltimes': [0.02, 0.05, 0.2, 1, 5, 15], 'numscans': 2}}]},\n",
       " 'sample': 'none',\n",
       " 'precedent': None,\n",
       " 'duration': 256}"
      ]
     },
     "execution_count": 3,
     "metadata": {},
     "output_type": "execute_result"
    }
   ],
   "source": [
    "char_absorber.to_dict()"
   ]
  },
  {
   "cell_type": "markdown",
   "id": "c5dc7751",
   "metadata": {},
   "source": [
    "------"
   ]
  },
  {
   "cell_type": "markdown",
   "id": "ec5f33d2",
   "metadata": {},
   "source": [
    "# Define Experiment Metadata"
   ]
  },
  {
   "cell_type": "code",
   "execution_count": 4,
   "id": "65bce4e9",
   "metadata": {},
   "outputs": [],
   "source": [
    "experiment_name = 'Deniz Absorbers for Passivation'\n",
    "experiment_description = \"Deniz Absorbers for Passivation, Round 1\""
   ]
  },
  {
   "cell_type": "markdown",
   "id": "e866c710",
   "metadata": {},
   "source": [
    "-----"
   ]
  },
  {
   "cell_type": "markdown",
   "id": "fcb8a589",
   "metadata": {},
   "source": [
    "# Define hardware for this experiment"
   ]
  },
  {
   "cell_type": "code",
   "execution_count": 5,
   "id": "bc68e8ed",
   "metadata": {},
   "outputs": [
    {
     "name": "stdout",
     "output_type": "stream",
     "text": [
      "Available Sample Tray Versions:\n",
      "\tstorage_v3\n",
      "\tstorage_v2\n",
      "\tstorage_v1\n",
      "\n",
      "Available Liquid Labwares:\n",
      "\tfrg_12_wellplate_15000ul\n",
      "\tsartorius_safetyspace_tiprack_200ul\n",
      "\tgreiner_96_wellplate_360ul\n",
      "\tfrg_spincoater_v1\n",
      "\tfrg_24_wellplate_4000ul\n"
     ]
    }
   ],
   "source": [
    "print('Available Sample Tray Versions:')\n",
    "for v in sampletray_versions:\n",
    "    print(f'\\t{v}')\n",
    "\n",
    "print('\\nAvailable Liquid Labwares:')\n",
    "for v in liquid_labware_versions:\n",
    "    print(f'\\t{v}')"
   ]
  },
  {
   "cell_type": "markdown",
   "id": "0aa7b6a8",
   "metadata": {},
   "source": [
    "## Sample Storage Trays\n",
    "These are the trays used to load samples in/out of the glovebox"
   ]
  },
  {
   "cell_type": "code",
   "execution_count": 6,
   "id": "932e5c11",
   "metadata": {},
   "outputs": [],
   "source": [
    "sample_trays = [\n",
    "    SampleTray(\n",
    "        name='Tray1',\n",
    "        version='storage_v1',\n",
    "        gantry=None,\n",
    "        gripper=None,\n",
    "        p0=[0,0,0]\n",
    "    ),\n",
    "    # SampleTray(\n",
    "    #     name='Tray2',\n",
    "    #     version='storage_v1',\n",
    "    #     gantry=None,\n",
    "    #     gripper=None,\n",
    "    #     p0=[0,0,0]\n",
    "    # )\n",
    "]"
   ]
  },
  {
   "cell_type": "markdown",
   "id": "b951e493",
   "metadata": {},
   "source": [
    "## Liquid Labware \n",
    "\n",
    "Include _all possible_ liquid storage + pipette tipracks. Later on we will narrow this down to what is required once we know what solutions and volumes we need.\n",
    "\n",
    "Versions are defined by the same json files used to define custom labware for the Opentrons2 liquid handler. \n",
    "New labware can be defined by following https://support.opentrons.com/en/articles/3136504-creating-custom-labware-definitions\n",
    "\n",
    "The location of the labware/tiprack on the opentrons deck must be specified as well.\n",
    "\n",
    "\n",
    "| Deck | Slot | Layout |\n",
    "| ----------- | ----------- | ----------- |\n",
    "| 10      | 11       | _Trash_ |\n",
    "| 7   | 8        | 9 |\n",
    "|4 | 5 | 6|\n",
    "|1 | _Spin_ | _Coater_|\n",
    "\n",
    "\n",
    "For partially consumed tip racks, the `starting_tip` argument can be used to specify the first available tip. Tips before this assumed to be used up. (moves down->right, like A1, B1...H1, A2, B2 etc). If this argument is omitted, we assume to start at tip A1"
   ]
  },
  {
   "cell_type": "code",
   "execution_count": 7,
   "id": "ce4028aa",
   "metadata": {},
   "outputs": [],
   "source": [
    "tipracks = [\n",
    "    TipRack(\n",
    "        version='sartorius_safetyspace_tiprack_200ul', \n",
    "        deck_slot=7,\n",
    "        starting_tip=\"D7\"\n",
    "    ),\n",
    "    TipRack(\n",
    "        version='sartorius_safetyspace_tiprack_200ul', \n",
    "        deck_slot=10,\n",
    "        starting_tip=\"A2\"\n",
    "    ),\n",
    "    ]"
   ]
  },
  {
   "cell_type": "markdown",
   "id": "5677b014",
   "metadata": {},
   "source": [
    "the `starting_well` argument can be used to similarly specify the first available well on the tray. This is useful for mixing on partially used well plates. Note that the use order of wells differs from tips (moves right->down, like A1, A2,...A12, B1, B2 etc)"
   ]
  },
  {
   "cell_type": "code",
   "execution_count": 8,
   "id": "d3b81edc",
   "metadata": {},
   "outputs": [
    {
     "name": "stdout",
     "output_type": "stream",
     "text": [
      "Priority Fill Order:\n",
      "<LiquidLabware> 96_Plate1, 0.36 mL volume, 96 wells\n",
      "<LiquidLabware> 4mL_a_SolutionTray, 4.0 mL volume, 24 wells\n",
      "<LiquidLabware> 4mL_b_AntisolventTray, 4.0 mL volume, 24 wells\n"
     ]
    }
   ],
   "source": [
    "solution_storage = [\n",
    "    LiquidLabware(\n",
    "        name='96_Plate1',\n",
    "        version='greiner_96_wellplate_360ul',\n",
    "        deck_slot=5,\n",
    "        starting_well=\"E1\" \n",
    "    ),\n",
    "    LiquidLabware(\n",
    "        name='4mL_a_SolutionTray',\n",
    "        version='frg_24_wellplate_4000ul',\n",
    "        deck_slot=1\n",
    "    ),\n",
    "    LiquidLabware(\n",
    "        name='4mL_b_AntisolventTray',\n",
    "        version='frg_24_wellplate_4000ul',\n",
    "        deck_slot=6\n",
    "    ),\n",
    "    # LiquidLabware(\n",
    "    #     name='15mL_Tray1',\n",
    "    #     version='frg_12_wellplate_15000ul',\n",
    "    #     deck_slot=8  \n",
    "    # ),\n",
    "]\n",
    "\n",
    "#sort by volume,name\n",
    "solution_storage.sort(key=lambda labware: labware.name)\n",
    "solution_storage.sort(key=lambda labware: labware.volume)\n",
    "print('Priority Fill Order:')\n",
    "for ss in solution_storage: print(ss)"
   ]
  },
  {
   "cell_type": "markdown",
   "id": "f347a8c1",
   "metadata": {},
   "source": [
    "-----"
   ]
  },
  {
   "cell_type": "markdown",
   "id": "195ae2be",
   "metadata": {},
   "source": [
    "# Define Experimental Mesh\n",
    "\n",
    "Each of the following cells defines one dimension of the experiment. After defining the individual dimensions, a full sample list will be constructed using a user-selected Design of Expeiment (DOE)"
   ]
  },
  {
   "cell_type": "markdown",
   "id": "953bcb19",
   "metadata": {},
   "source": [
    "## List of unique substrates that will be loaded to start the experiment.\n",
    "These are just strings to describe the substrate types."
   ]
  },
  {
   "cell_type": "code",
   "execution_count": 9,
   "id": "e242d374",
   "metadata": {},
   "outputs": [],
   "source": [
    "input_substrates = [\n",
    "    '1mm glass'\n",
    "]"
   ]
  },
  {
   "cell_type": "markdown",
   "id": "a056f1a0",
   "metadata": {},
   "source": [
    "## Solutions to spincast. \n",
    "\n",
    "Solutions are defined using `Solution` class instances.\n",
    "\n",
    "Chemical formula is defined with underscores between each component. If no coefficient is provided, assumes =1. Example:\n",
    "\n",
    "``` \n",
    "SolutionRecipe(\n",
    "        solutes='MA_Pb_I3',\n",
    "        solvent='DMF9_DMSO1',\n",
    "        molarity=1\n",
    "    )\n",
    "```\n",
    "Note that you can use parentheses to simplify the formulae.\n",
    "``` \n",
    "SolutionRecipe(\n",
    "        solutes='MA_Pb_(I0.8_Br0.2)3',\n",
    "        solvent='DMF9_DMSO1',\n",
    "        molarity=1\n",
    "    )\n",
    "```\n",
    "\n",
    "Antisolvents are also defined using `Solution` class instances. Solutes are left empty, and molarity is unused so can be left as 1/whatever number you like.\n",
    "\n",
    "Example:\n",
    "``` \n",
    "Solution(\n",
    "        solutes='',\n",
    "        solvent='Chlorobenzene',\n",
    "        molarity=1\n",
    "    )\n",
    "```\n",
    "\n",
    "Solutions that will be interchanged (for example, different absorber solutions for compositional search) should be stored in a list. This list will be used later to permute sample process variables\n"
   ]
  },
  {
   "cell_type": "code",
   "execution_count": 10,
   "id": "6bafaaba",
   "metadata": {},
   "outputs": [],
   "source": [
    "absorber_solution = Solution(\n",
    "        solutes= 'FA0.78_Cs0.22_(Pb_(I0.9_Br0.1)3)1.09',\n",
    "        solvent= 'DMF3_DMSO1',\n",
    "        molarity= 1.25,\n",
    "    )"
   ]
  },
  {
   "cell_type": "code",
   "execution_count": 11,
   "id": "5f1205e3",
   "metadata": {},
   "outputs": [],
   "source": [
    "methyl_acetate = Solution(\n",
    "        solvent='MethylAcetate',\n",
    "        labware='4mL_b_AntisolventTray',\n",
    "        well='D1',\n",
    "    )"
   ]
  },
  {
   "cell_type": "markdown",
   "id": "dcc578e2",
   "metadata": {},
   "source": [
    "## Spincoating Recipes\n",
    "\n",
    "\n",
    "Spincoating recipes are defined using the `Spincoat` object. This takes two arguments: `steps`,a nested list of [speed, acceleration, duration] spin steps, and `drops`, a list of `Drop` objects that capture the details of each solution drop during spincoating. \n",
    "\n",
    "```\n",
    "Spincoat(\n",
    "        steps=[\n",
    "            [500,1000,20], #speed (rpm), acceleration (rpm/s), duration (s)\n",
    "            [4000,4000,30]\n",
    "        ],\n",
    "        drops=[\n",
    "            Drop(\n",
    "                solution=target_solutions[0],\n",
    "                volume=20, # uL\n",
    "                time=5, # seconds from start of spincoating\n",
    "                height=2, # mm above substrate to dispense from, optional\n",
    "                rate=50, # dispense rate (uL/sec), optional\n",
    "                pre_mix=3, #number of sequential aspirate->dispense cycles to mix solution prior to aspiration, optional\n",
    "            ),\n",
    "            Drop(\n",
    "                solution=cb_antisolvent,\n",
    "                volume=50,\n",
    "                rate=150,\n",
    "                time=30,\n",
    "                reuse_tip=True #whether to reuse this pipette tip (only uses tips previously used for the same solution.)\n",
    "            )\n",
    "        ]\n",
    "    )\n",
    "```\n",
    "\n",
    "often we will be using many solutions with the same spincoating recipe. In these cases, the `solution` argument of a `Drop` object can just be a string. This string can be substituted by a list of solutions at the final step. Example:\n",
    "\n",
    "```\n",
    "spincoat_recipes = [\n",
    "    Spincoat(\n",
    "        steps=[\n",
    "            [500,1000,20], #speed (rpm), acceleration (rpm/s), duration (s)\n",
    "            [4000,4000,30]\n",
    "        ],\n",
    "        drops = [\n",
    "            Drop(\n",
    "                solution='psk_solution', # we will fill any Drop solutions labeled as 'psk_solution' later\n",
    "                volume=20,\n",
    "                time=5,\n",
    "                pre_mix=3,\n",
    "            ),\n",
    "            Drop(\n",
    "                solution=cb_antisolvent,\n",
    "                volume=50,\n",
    "                rate=150,\n",
    "                time=40,\n",
    "                reuse_tip=True,\n",
    "            )\n",
    "        ]\n",
    "    ),\n",
    "```"
   ]
  },
  {
   "cell_type": "markdown",
   "id": "2eb06a0c",
   "metadata": {},
   "source": [
    "#### Defining spincoating parameters"
   ]
  },
  {
   "cell_type": "code",
   "execution_count": 12,
   "id": "6a6e30e1",
   "metadata": {},
   "outputs": [],
   "source": [
    "spincoat_absorber = Spincoat(\n",
    "        steps=[\n",
    "            [3000,2000,50], #speed (rpm), acceleration (rpm/s), duration (s)\n",
    "        ],\n",
    "        drops = [\n",
    "            Drop(\n",
    "                solution=absorber_solution,  #this will be filled later using the list of psk solutions\n",
    "                volume=20,\n",
    "                time=-1,\n",
    "                blow_out=True,\n",
    "                # pre_mix = (5,50),\n",
    "            ),\n",
    "            Drop(\n",
    "                solution=methyl_acetate,\n",
    "                volume=50,\n",
    "                time=22,\n",
    "                reuse_tip=True,\n",
    "                touch_tip=False,\n",
    "                rate=100,\n",
    "                pre_mix = (3,100),\n",
    "                slow_travel=True\n",
    "            )\n",
    "        ],\n",
    "    )"
   ]
  },
  {
   "cell_type": "markdown",
   "id": "f45ea845",
   "metadata": {},
   "source": [
    "## Annealing Conditions\n",
    "Annealing conditions are defined as a list of `Anneal` class instances. Only two parameters - temperature (C) and duration (s)\n",
    "\n",
    "Example:\n",
    "``` \n",
    "    Anneal(\n",
    "        temperature=100, #degrees C\n",
    "        duration=60*60, #seconds\n",
    "    ),\n",
    "```"
   ]
  },
  {
   "cell_type": "code",
   "execution_count": 13,
   "id": "4cd71176",
   "metadata": {},
   "outputs": [],
   "source": [
    "anneal_absorber = Anneal(\n",
    "        temperature=100, #degrees C\n",
    "        duration=30*60, #seconds\n",
    "    )"
   ]
  },
  {
   "cell_type": "markdown",
   "id": "dffd6ed6",
   "metadata": {},
   "source": [
    "## Characterize Absorber"
   ]
  },
  {
   "cell_type": "code",
   "execution_count": 27,
   "id": "84badf83",
   "metadata": {},
   "outputs": [],
   "source": [
    "char_absorber = Characterize(\n",
    "    tasks = [\n",
    "        chtsk.Brightfield(),\n",
    "        chtsk.PLSpectroscopy(\n",
    "            dwelltimes=[0.1, 5, 20],\n",
    "            numscans=1\n",
    "        ),\n",
    "        chtsk.TransmissionSpectroscopy(),\n",
    "        chtsk.Darkfield()\n",
    "    ]\n",
    ")"
   ]
  },
  {
   "cell_type": "markdown",
   "id": "9c5b53a2",
   "metadata": {},
   "source": [
    "-----"
   ]
  },
  {
   "cell_type": "markdown",
   "id": "3de1588e",
   "metadata": {},
   "source": [
    "# Design of Experiment\n",
    "\n",
    "We will input all the values defined above into `build_sample_list` to generate a sample list. Currently only a full-factorial design is implemented. \n",
    "The arguments for `build_sample_list` are as follows:\n",
    "- `input_substrates`: list of substrates (strings) describing the unique starting substrates\n",
    "- `steps`: worklist of process steps (`Spincoat`, `Anneal`, `Rest`, or `Characterize`) **in desired order of completion**. Each of the list elements can be a single step (if the step does not change across samples), or a list of steps of the same kind (for example, a list of spincoat variations)\n",
    "- `solution_mesh`: a dictionary used to fill in solution placeholders in `Drop` objects. Keys should match the placeholder strings, and values should be lists of `Solution` objects to put into the `Drop` object.\n",
    "- `n_repeats`: number of duplicates to run for each unique worklist\n",
    "\n",
    "arguments are lists defined above, and n_repeats is the number of times to repeat each unique combination of conditions"
   ]
  },
  {
   "cell_type": "code",
   "execution_count": 28,
   "id": "99592ee9",
   "metadata": {},
   "outputs": [
    {
     "data": {
      "text/plain": [
       "36"
      ]
     },
     "execution_count": 28,
     "metadata": {},
     "output_type": "execute_result"
    }
   ],
   "source": [
    "samples = build_sample_list(\n",
    "    # available_trays = sample_trays,\n",
    "    input_substrates = input_substrates,\n",
    "    steps = [\n",
    "        spincoat_absorber, \n",
    "        anneal_absorber, \n",
    "        Rest(180, immediate=True), \n",
    "        char_absorber,\n",
    "    ],\n",
    "    n_repeats=36,\n",
    ")\n",
    "len(samples)"
   ]
  },
  {
   "cell_type": "code",
   "execution_count": 29,
   "id": "4314dc49",
   "metadata": {},
   "outputs": [
    {
     "data": {
      "text/html": [
       "<div>\n",
       "<style scoped>\n",
       "    .dataframe tbody tr th:only-of-type {\n",
       "        vertical-align: middle;\n",
       "    }\n",
       "\n",
       "    .dataframe tbody tr th {\n",
       "        vertical-align: top;\n",
       "    }\n",
       "\n",
       "    .dataframe thead th {\n",
       "        text-align: right;\n",
       "    }\n",
       "</style>\n",
       "<table border=\"1\" class=\"dataframe\">\n",
       "  <thead>\n",
       "    <tr style=\"text-align: right;\">\n",
       "      <th></th>\n",
       "      <th>name</th>\n",
       "      <th>storage_tray</th>\n",
       "      <th>storage_slot</th>\n",
       "      <th>worklist</th>\n",
       "      <th>spincoat0_steps</th>\n",
       "      <th>spincoat0_duration</th>\n",
       "      <th>spincoat0_drop0_solutes</th>\n",
       "      <th>spincoat0_drop0_solvent</th>\n",
       "      <th>spincoat0_drop0_molarity</th>\n",
       "      <th>spincoat0_drop0_time</th>\n",
       "      <th>...</th>\n",
       "      <th>spincoat0_drop1_solvent</th>\n",
       "      <th>spincoat0_drop1_molarity</th>\n",
       "      <th>spincoat0_drop1_time</th>\n",
       "      <th>spincoat0_drop1_height</th>\n",
       "      <th>spincoat0_drop1_rate</th>\n",
       "      <th>anneal0_temperature</th>\n",
       "      <th>anneal0_duration</th>\n",
       "      <th>anneal0_hotplate</th>\n",
       "      <th>rest0_duration</th>\n",
       "      <th>characterize0_characterization_tasks</th>\n",
       "    </tr>\n",
       "  </thead>\n",
       "  <tbody>\n",
       "    <tr>\n",
       "      <th>0</th>\n",
       "      <td>sample0</td>\n",
       "      <td>Tray1</td>\n",
       "      <td>A1</td>\n",
       "      <td>[{'name': 'spincoat', 'start': nan, 'id': 'spi...</td>\n",
       "      <td>[{'rpm': 3000.0, 'acceleration': 2000.0, 'dura...</td>\n",
       "      <td>99</td>\n",
       "      <td>FA0.78_Cs0.22_(Pb_(I0.9_Br0.1)3)1.09</td>\n",
       "      <td>DMF3_DMSO1</td>\n",
       "      <td>1.25</td>\n",
       "      <td>-1</td>\n",
       "      <td>...</td>\n",
       "      <td>MethylAcetate</td>\n",
       "      <td>1</td>\n",
       "      <td>22</td>\n",
       "      <td>2</td>\n",
       "      <td>100</td>\n",
       "      <td>100</td>\n",
       "      <td>1800</td>\n",
       "      <td>Hotplate1</td>\n",
       "      <td>180</td>\n",
       "      <td>[{'name': 'Brightfield', 'station': 'brightfie...</td>\n",
       "    </tr>\n",
       "    <tr>\n",
       "      <th>1</th>\n",
       "      <td>sample1</td>\n",
       "      <td>Tray1</td>\n",
       "      <td>A2</td>\n",
       "      <td>[{'name': 'spincoat', 'start': nan, 'id': 'spi...</td>\n",
       "      <td>[{'rpm': 3000.0, 'acceleration': 2000.0, 'dura...</td>\n",
       "      <td>99</td>\n",
       "      <td>FA0.78_Cs0.22_(Pb_(I0.9_Br0.1)3)1.09</td>\n",
       "      <td>DMF3_DMSO1</td>\n",
       "      <td>1.25</td>\n",
       "      <td>-1</td>\n",
       "      <td>...</td>\n",
       "      <td>MethylAcetate</td>\n",
       "      <td>1</td>\n",
       "      <td>22</td>\n",
       "      <td>2</td>\n",
       "      <td>100</td>\n",
       "      <td>100</td>\n",
       "      <td>1800</td>\n",
       "      <td>Hotplate1</td>\n",
       "      <td>180</td>\n",
       "      <td>[{'name': 'Brightfield', 'station': 'brightfie...</td>\n",
       "    </tr>\n",
       "    <tr>\n",
       "      <th>2</th>\n",
       "      <td>sample2</td>\n",
       "      <td>Tray1</td>\n",
       "      <td>A3</td>\n",
       "      <td>[{'name': 'spincoat', 'start': nan, 'id': 'spi...</td>\n",
       "      <td>[{'rpm': 3000.0, 'acceleration': 2000.0, 'dura...</td>\n",
       "      <td>99</td>\n",
       "      <td>FA0.78_Cs0.22_(Pb_(I0.9_Br0.1)3)1.09</td>\n",
       "      <td>DMF3_DMSO1</td>\n",
       "      <td>1.25</td>\n",
       "      <td>-1</td>\n",
       "      <td>...</td>\n",
       "      <td>MethylAcetate</td>\n",
       "      <td>1</td>\n",
       "      <td>22</td>\n",
       "      <td>2</td>\n",
       "      <td>100</td>\n",
       "      <td>100</td>\n",
       "      <td>1800</td>\n",
       "      <td>Hotplate1</td>\n",
       "      <td>180</td>\n",
       "      <td>[{'name': 'Brightfield', 'station': 'brightfie...</td>\n",
       "    </tr>\n",
       "    <tr>\n",
       "      <th>3</th>\n",
       "      <td>sample3</td>\n",
       "      <td>Tray1</td>\n",
       "      <td>A4</td>\n",
       "      <td>[{'name': 'spincoat', 'start': nan, 'id': 'spi...</td>\n",
       "      <td>[{'rpm': 3000.0, 'acceleration': 2000.0, 'dura...</td>\n",
       "      <td>99</td>\n",
       "      <td>FA0.78_Cs0.22_(Pb_(I0.9_Br0.1)3)1.09</td>\n",
       "      <td>DMF3_DMSO1</td>\n",
       "      <td>1.25</td>\n",
       "      <td>-1</td>\n",
       "      <td>...</td>\n",
       "      <td>MethylAcetate</td>\n",
       "      <td>1</td>\n",
       "      <td>22</td>\n",
       "      <td>2</td>\n",
       "      <td>100</td>\n",
       "      <td>100</td>\n",
       "      <td>1800</td>\n",
       "      <td>Hotplate1</td>\n",
       "      <td>180</td>\n",
       "      <td>[{'name': 'Brightfield', 'station': 'brightfie...</td>\n",
       "    </tr>\n",
       "    <tr>\n",
       "      <th>4</th>\n",
       "      <td>sample4</td>\n",
       "      <td>Tray1</td>\n",
       "      <td>A5</td>\n",
       "      <td>[{'name': 'spincoat', 'start': nan, 'id': 'spi...</td>\n",
       "      <td>[{'rpm': 3000.0, 'acceleration': 2000.0, 'dura...</td>\n",
       "      <td>99</td>\n",
       "      <td>FA0.78_Cs0.22_(Pb_(I0.9_Br0.1)3)1.09</td>\n",
       "      <td>DMF3_DMSO1</td>\n",
       "      <td>1.25</td>\n",
       "      <td>-1</td>\n",
       "      <td>...</td>\n",
       "      <td>MethylAcetate</td>\n",
       "      <td>1</td>\n",
       "      <td>22</td>\n",
       "      <td>2</td>\n",
       "      <td>100</td>\n",
       "      <td>100</td>\n",
       "      <td>1800</td>\n",
       "      <td>Hotplate1</td>\n",
       "      <td>180</td>\n",
       "      <td>[{'name': 'Brightfield', 'station': 'brightfie...</td>\n",
       "    </tr>\n",
       "  </tbody>\n",
       "</table>\n",
       "<p>5 rows × 23 columns</p>\n",
       "</div>"
      ],
      "text/plain": [
       "      name storage_tray storage_slot  \\\n",
       "0  sample0        Tray1           A1   \n",
       "1  sample1        Tray1           A2   \n",
       "2  sample2        Tray1           A3   \n",
       "3  sample3        Tray1           A4   \n",
       "4  sample4        Tray1           A5   \n",
       "\n",
       "                                            worklist  \\\n",
       "0  [{'name': 'spincoat', 'start': nan, 'id': 'spi...   \n",
       "1  [{'name': 'spincoat', 'start': nan, 'id': 'spi...   \n",
       "2  [{'name': 'spincoat', 'start': nan, 'id': 'spi...   \n",
       "3  [{'name': 'spincoat', 'start': nan, 'id': 'spi...   \n",
       "4  [{'name': 'spincoat', 'start': nan, 'id': 'spi...   \n",
       "\n",
       "                                     spincoat0_steps  spincoat0_duration  \\\n",
       "0  [{'rpm': 3000.0, 'acceleration': 2000.0, 'dura...                  99   \n",
       "1  [{'rpm': 3000.0, 'acceleration': 2000.0, 'dura...                  99   \n",
       "2  [{'rpm': 3000.0, 'acceleration': 2000.0, 'dura...                  99   \n",
       "3  [{'rpm': 3000.0, 'acceleration': 2000.0, 'dura...                  99   \n",
       "4  [{'rpm': 3000.0, 'acceleration': 2000.0, 'dura...                  99   \n",
       "\n",
       "                spincoat0_drop0_solutes spincoat0_drop0_solvent  \\\n",
       "0  FA0.78_Cs0.22_(Pb_(I0.9_Br0.1)3)1.09              DMF3_DMSO1   \n",
       "1  FA0.78_Cs0.22_(Pb_(I0.9_Br0.1)3)1.09              DMF3_DMSO1   \n",
       "2  FA0.78_Cs0.22_(Pb_(I0.9_Br0.1)3)1.09              DMF3_DMSO1   \n",
       "3  FA0.78_Cs0.22_(Pb_(I0.9_Br0.1)3)1.09              DMF3_DMSO1   \n",
       "4  FA0.78_Cs0.22_(Pb_(I0.9_Br0.1)3)1.09              DMF3_DMSO1   \n",
       "\n",
       "   spincoat0_drop0_molarity  spincoat0_drop0_time  ...  \\\n",
       "0                      1.25                    -1  ...   \n",
       "1                      1.25                    -1  ...   \n",
       "2                      1.25                    -1  ...   \n",
       "3                      1.25                    -1  ...   \n",
       "4                      1.25                    -1  ...   \n",
       "\n",
       "   spincoat0_drop1_solvent  spincoat0_drop1_molarity spincoat0_drop1_time  \\\n",
       "0            MethylAcetate                         1                   22   \n",
       "1            MethylAcetate                         1                   22   \n",
       "2            MethylAcetate                         1                   22   \n",
       "3            MethylAcetate                         1                   22   \n",
       "4            MethylAcetate                         1                   22   \n",
       "\n",
       "  spincoat0_drop1_height  spincoat0_drop1_rate  anneal0_temperature  \\\n",
       "0                      2                   100                  100   \n",
       "1                      2                   100                  100   \n",
       "2                      2                   100                  100   \n",
       "3                      2                   100                  100   \n",
       "4                      2                   100                  100   \n",
       "\n",
       "   anneal0_duration  anneal0_hotplate  rest0_duration  \\\n",
       "0              1800         Hotplate1             180   \n",
       "1              1800         Hotplate1             180   \n",
       "2              1800         Hotplate1             180   \n",
       "3              1800         Hotplate1             180   \n",
       "4              1800         Hotplate1             180   \n",
       "\n",
       "                characterize0_characterization_tasks  \n",
       "0  [{'name': 'Brightfield', 'station': 'brightfie...  \n",
       "1  [{'name': 'Brightfield', 'station': 'brightfie...  \n",
       "2  [{'name': 'Brightfield', 'station': 'brightfie...  \n",
       "3  [{'name': 'Brightfield', 'station': 'brightfie...  \n",
       "4  [{'name': 'Brightfield', 'station': 'brightfie...  \n",
       "\n",
       "[5 rows x 23 columns]"
      ]
     },
     "execution_count": 29,
     "metadata": {},
     "output_type": "execute_result"
    }
   ],
   "source": [
    "load_sample_trays(samples, sample_trays)\n",
    "df = samples_to_dataframe(samples)\n",
    "df.to_csv(f'SampleDataframe_{experiment_name}.csv')\n",
    "df.head()"
   ]
  },
  {
   "cell_type": "markdown",
   "id": "1ba29bd3",
   "metadata": {},
   "source": [
    "-----"
   ]
  },
  {
   "cell_type": "markdown",
   "id": "fbefa3da",
   "metadata": {},
   "source": [
    "# Preparing the Solutions"
   ]
  },
  {
   "cell_type": "markdown",
   "id": "c884c1f2",
   "metadata": {},
   "source": [
    "## Define Stock Solutions\n",
    "\n",
    "These are the solutions that you will be mixing to (hopefully) cover your target solutions. If they don't work, the code will tell you, and you can come back to this point and try again."
   ]
  },
  {
   "cell_type": "code",
   "execution_count": 30,
   "id": "4d146f03",
   "metadata": {},
   "outputs": [],
   "source": [
    "stock_solutions = [\n",
    "    Solution(\n",
    "        solutes= 'FA0.78_Cs0.12_MA0.1_(Pb_(I0.8_Br0.2)3)1.09',\n",
    "        solvent= 'DMF3_DMSO1',\n",
    "        molarity= 1,\n",
    "        labware='4mL_a_SolutionTray',\n",
    "        well='A2'\n",
    "    ),\n",
    "    Solution(\n",
    "        solutes= 'FA0.78_Cs0.12_MA0.1_(Pb_(I0.9_Br0.1)3)1.09',\n",
    "        solvent= 'DMF3_DMSO1',\n",
    "        molarity= 1,\n",
    "        labware='4mL_a_SolutionTray',\n",
    "        well='B2'\n",
    "    ),\n",
    "    Solution(\n",
    "        solutes= 'FA0.78_Cs0.12_MA0.1_(Pb_(I0.9_Cl0.1)3)1.09',\n",
    "        solvent= 'DMF3_DMSO1',\n",
    "        molarity= 1,\n",
    "        labware='4mL_a_SolutionTray',\n",
    "        well='B1'\n",
    "    ),\n",
    "    Solution(\n",
    "        solutes= 'FA0.78_Cs0.12_MA0.1_(Pb_(I0.8_Br0.1_Cl0.1)3)1.09',\n",
    "        solvent= 'DMF3_DMSO1',\n",
    "        molarity= 1,\n",
    "        labware='4mL_a_SolutionTray',\n",
    "        well='A1'\n",
    "    ),\n",
    "\n",
    "\n",
    "    Solution(\n",
    "        solutes= 'FA0.78_Cs0.22_(Pb_(I0.8_Br0.2)3)1.09',\n",
    "        solvent= 'DMF3_DMSO1',\n",
    "        molarity= 1,\n",
    "        labware='4mL_a_SolutionTray',\n",
    "        well='C2'\n",
    "    ),\n",
    "    Solution(\n",
    "        solutes= 'FA0.78_Cs0.22_(Pb_(I0.9_Br0.1)3)1.09',\n",
    "        solvent= 'DMF3_DMSO1',\n",
    "        molarity= 1.25,\n",
    "        labware='4mL_a_SolutionTray',\n",
    "        well='D2'\n",
    "    ),\n",
    "    Solution(\n",
    "        solutes= 'FA0.78_Cs0.22_(Pb_(I0.9_Cl0.1)3)1.09',\n",
    "        solvent= 'DMF3_DMSO1',\n",
    "        molarity= 1,\n",
    "        labware='4mL_a_SolutionTray',\n",
    "        well='C1'\n",
    "    ),\n",
    "    Solution(\n",
    "        solutes= 'FA0.78_Cs0.22_(Pb_(I0.8_Br0.1_Cl0.1)3)1.09',\n",
    "        solvent= 'DMF3_DMSO1',\n",
    "        molarity= 1,\n",
    "        labware='4mL_a_SolutionTray',\n",
    "        well='D1'\n",
    "    ),\n",
    "    methyl_acetate\n",
    "]"
   ]
  },
  {
   "cell_type": "markdown",
   "id": "ce9f35e3",
   "metadata": {},
   "source": [
    "Can we cover target solutions with these stocks? and if so, how much of each stock to mix for each target?\n",
    "\n",
    "This will throw an error if the stock solutions are not able to cover our experiment"
   ]
  },
  {
   "cell_type": "code",
   "execution_count": 31,
   "id": "76887f57",
   "metadata": {},
   "outputs": [],
   "source": [
    "required_solutions = {}\n",
    "for s in samples:\n",
    "    for task in s.worklist:\n",
    "        if isinstance(task, Spincoat):\n",
    "            for d in task.drops:\n",
    "                sol = d.solution\n",
    "                if sol in required_solutions:\n",
    "                    required_solutions[sol] += d.volume\n",
    "                else:\n",
    "                    required_solutions[sol] = d.volume #50 ul minimum volume per well for successful aspiration"
   ]
  },
  {
   "cell_type": "code",
   "execution_count": 32,
   "id": "d54f01e4",
   "metadata": {},
   "outputs": [],
   "source": [
    "# for s in fml_solutions:\n",
    "#     required_solutions[s] += 400"
   ]
  },
  {
   "cell_type": "code",
   "execution_count": 33,
   "id": "f975a907",
   "metadata": {},
   "outputs": [],
   "source": [
    "mixer = mx.Mixer(\n",
    "    stock_solutions=stock_solutions,\n",
    "    targets=required_solutions,\n",
    ")\n",
    "mixer.solve(\n",
    "    min_volume=20,\n",
    "    max_inputs=4,\n",
    "    tolerance=1e-4,\n",
    "    strategy='prefer_stock'\n",
    ")"
   ]
  },
  {
   "cell_type": "code",
   "execution_count": 34,
   "id": "dba94bff",
   "metadata": {},
   "outputs": [
    {
     "name": "stdout",
     "output_type": "stream",
     "text": [
      "===== Stock Prep =====\n",
      "1800.00 of MethylAcetate\n",
      "720.00 of 1.25M FA0.78_Cs0.22_(Pb_(I0.9_Br0.1)3)1.09 in DMF3_DMSO1\n"
     ]
    }
   ],
   "source": [
    "mixer.print()"
   ]
  },
  {
   "cell_type": "code",
   "execution_count": 35,
   "id": "63b74d65",
   "metadata": {},
   "outputs": [],
   "source": [
    "solution_details, mixing_netlist = handle_liquids(\n",
    "    samples=samples,\n",
    "    mixer=mixer,\n",
    "    solution_storage=solution_storage,\n",
    ")"
   ]
  },
  {
   "cell_type": "markdown",
   "id": "aeb5db2f",
   "metadata": {},
   "source": [
    "#### Plot + save images that map the solution + substrate loading positions"
   ]
  },
  {
   "cell_type": "code",
   "execution_count": 36,
   "id": "6d4b4f74",
   "metadata": {},
   "outputs": [
    {
     "data": {
      "image/png": "[encoded data removed]",
      "text/plain": [
       "<Figure size 432x576 with 2 Axes>"
      ]
     },
     "metadata": {
      "needs_background": "light"
     },
     "output_type": "display_data"
    }
   ],
   "source": [
    "ll_with_solutions = [\n",
    "    ll for ll in solution_storage\n",
    "    if len(ll.contents) > 0\n",
    "]\n",
    "\n",
    "fig, ax = plt.subplots(len(ll_with_solutions), 1, figsize=(6,4*len(ll_with_solutions)))\n",
    "try:\n",
    "    ax = ax.flat\n",
    "except:\n",
    "    ax = [ax]\n",
    "for ll, ax_ in zip(ll_with_solutions, ax):\n",
    "    ll.plot(solution_details=solution_details, ax=ax_)\n",
    "plt.savefig(f\"solutionmap_{experiment_name}.jpeg\", dpi=150, bbox_inches='tight')"
   ]
  },
  {
   "cell_type": "markdown",
   "id": "cf6e3c7c",
   "metadata": {},
   "source": [
    "-----"
   ]
  },
  {
   "cell_type": "markdown",
   "id": "54b7a4b1",
   "metadata": {},
   "source": [
    "# Build the Experiment Schedule + Save Worklist"
   ]
  },
  {
   "cell_type": "markdown",
   "id": "62530f3d",
   "metadata": {},
   "source": [
    "New"
   ]
  },
  {
   "cell_type": "code",
   "execution_count": 37,
   "id": "cf16c46f",
   "metadata": {},
   "outputs": [],
   "source": [
    "system = build()\n",
    "\n",
    "for s in samples:\n",
    "    s.protocol = system.generate_protocol(\n",
    "        worklist = s.worklist,\n",
    "        name=s.name\n",
    "    )        "
   ]
  },
  {
   "cell_type": "code",
   "execution_count": 38,
   "id": "87e40546",
   "metadata": {},
   "outputs": [
    {
     "name": "stdout",
     "output_type": "stream",
     "text": [
      "solution status: FEASIBLE\n"
     ]
    }
   ],
   "source": [
    "system.scheduler.solve()"
   ]
  },
  {
   "cell_type": "code",
   "execution_count": 39,
   "id": "5266f3d2",
   "metadata": {},
   "outputs": [
    {
     "data": {
      "image/png": "[encoded data removed]",
      "text/plain": [
       "<Figure size 1008x360 with 2 Axes>"
      ]
     },
     "metadata": {
      "needs_background": "light"
     },
     "output_type": "display_data"
    }
   ],
   "source": [
    "system.scheduler.plot_solution()"
   ]
  },
  {
   "cell_type": "markdown",
   "id": "ca4af43f",
   "metadata": {},
   "source": [
    "----"
   ]
  },
  {
   "cell_type": "markdown",
   "id": "10ecd87d",
   "metadata": {},
   "source": [
    "# Write final files to disk"
   ]
  },
  {
   "cell_type": "markdown",
   "id": "87ef0a3f",
   "metadata": {},
   "source": [
    "## Solution Instructions to csv, tells operator where/how much to put solutions"
   ]
  },
  {
   "cell_type": "code",
   "execution_count": 40,
   "id": "dc8f7336",
   "metadata": {},
   "outputs": [],
   "source": [
    "with open(f'stocksolutions_{experiment_name}.csv', 'w', newline='') as f:\n",
    "    writer = csv.writer(f, delimiter=',')\n",
    "    header = [\n",
    "        'Labware',\n",
    "        'Well',\n",
    "        'Volume (uL)',\n",
    "        'Solutes',\n",
    "        'Molarity (M)',\n",
    "        'Solvent',        \n",
    "    ]\n",
    "    writer.writerow(header)\n",
    "    for solution, details in solution_details.items():\n",
    "        volume = details['initial_volume_required']\n",
    "        if volume == 0:\n",
    "            volume = 'Empty Vial'\n",
    "        line = [\n",
    "            details['labware'],\n",
    "            details['well'],\n",
    "            volume,\n",
    "            solution.solutes,\n",
    "            solution.molarity,\n",
    "            solution.solvent,\n",
    "        ]\n",
    "        writer.writerow(line)"
   ]
  },
  {
   "cell_type": "markdown",
   "id": "996ac61c",
   "metadata": {},
   "source": [
    "Substrate map"
   ]
  },
  {
   "cell_type": "code",
   "execution_count": 41,
   "id": "d2e7b2ab",
   "metadata": {},
   "outputs": [
    {
     "data": {
      "image/png": "[encoded data removed]",
      "text/plain": [
       "<Figure size 216x288 with 1 Axes>"
      ]
     },
     "metadata": {
      "needs_background": "light"
     },
     "output_type": "display_data"
    }
   ],
   "source": [
    "st_with_samples = [\n",
    "    st for st in sample_trays\n",
    "    if len(st.contents) > 0\n",
    "]\n",
    "\n",
    "fig, ax = plt.subplots(len(st_with_samples), 1, figsize=(3,4*len(st_with_samples)))\n",
    "try:\n",
    "    ax = ax.flat\n",
    "except:\n",
    "    ax = [ax]\n",
    "for ll, ax_ in zip(st_with_samples, ax):\n",
    "    ll.plot(ax=ax_)\n",
    "plt.savefig(f\"traymap_{experiment_name}.jpeg\", dpi=150, bbox_inches='tight')"
   ]
  },
  {
   "cell_type": "markdown",
   "id": "8f427839",
   "metadata": {},
   "source": [
    "## Generate protocol for Opentrons liquid handler"
   ]
  },
  {
   "cell_type": "code",
   "execution_count": 43,
   "id": "8692e6bd",
   "metadata": {},
   "outputs": [
    {
     "name": "stdout",
     "output_type": "stream",
     "text": [
      "OT2 protocol dumped to \"./OT2PASCALProtocol_Deniz Absorbers for Passivation.py\"\n"
     ]
    }
   ],
   "source": [
    "generate_ot2_protocol(\n",
    "    title=experiment_name,\n",
    "    mixing_netlist= mixing_netlist,\n",
    "    labware=solution_storage,\n",
    "    tipracks=tipracks)\n",
    "    "
   ]
  },
  {
   "cell_type": "code",
   "execution_count": 45,
   "id": "9dd50d75",
   "metadata": {},
   "outputs": [
    {
     "name": "stdout",
     "output_type": "stream",
     "text": [
      "Maestro Netlist dumped to \"maestronetlist_Deniz Absorbers for Passivation.json\"\n"
     ]
    }
   ],
   "source": [
    "samples_output = {}\n",
    "ordered_task_output = []\n",
    "for sample in samples:\n",
    "    samples_output[sample.name] = sample.to_dict()\n",
    "    for task in sample.protocol.worklist:\n",
    "        taskdict = task.to_dict()\n",
    "        taskdict['sample'] = sample.name\n",
    "        ordered_task_output.append(taskdict)\n",
    "\n",
    "ordered_task_output.sort(key = lambda t: t['start'])\n",
    "out = {\n",
    "    'name': experiment_name,\n",
    "    'description': experiment_description,\n",
    "    'samples': samples_output,\n",
    "    'tasks': ordered_task_output,\n",
    "}\n",
    "\n",
    "fname = f'maestronetlist_{experiment_name}.json'\n",
    "with open(fname, 'w') as f:\n",
    "    json.dump(out, f, indent=4, sort_keys=True)\n",
    "print(f'Maestro Netlist dumped to \"{fname}\"')"
   ]
  },
  {
   "cell_type": "markdown",
   "id": "92c23795",
   "metadata": {},
   "source": [
    "# Powder Weighing Instructions"
   ]
  },
  {
   "cell_type": "code",
   "execution_count": 32,
   "id": "e42210f0",
   "metadata": {},
   "outputs": [
    {
     "data": {
      "text/plain": [
       "[<Solution> 1M FA0.78_Cs0.12_MA0.1_(Pb_(I0.8_Br0.2)3)1.09 in DMF3_DMSO1,\n",
       " <Solution> 1M FA0.78_Cs0.12_MA0.1_(Pb_(I0.9_Br0.1)3)1.09 in DMF3_DMSO1,\n",
       " <Solution> 1M FA0.78_Cs0.12_MA0.1_(Pb_(I0.9_Cl0.1)3)1.09 in DMF3_DMSO1,\n",
       " <Solution> 1M FA0.78_Cs0.12_MA0.1_(Pb_(I0.8_Br0.1_Cl0.1)3)1.09 in DMF3_DMSO1,\n",
       " <Solution> 1M FA0.78_Cs0.22_(Pb_(I0.8_Br0.2)3)1.09 in DMF3_DMSO1,\n",
       " <Solution> 1.25M FA0.78_Cs0.22_(Pb_(I0.9_Br0.1)3)1.09 in DMF3_DMSO1,\n",
       " <Solution> 1M FA0.78_Cs0.22_(Pb_(I0.9_Cl0.1)3)1.09 in DMF3_DMSO1,\n",
       " <Solution> 1M FA0.78_Cs0.22_(Pb_(I0.8_Br0.1_Cl0.1)3)1.09 in DMF3_DMSO1,\n",
       " <Solution> MethylAcetate]"
      ]
     },
     "execution_count": 32,
     "metadata": {},
     "output_type": "execute_result"
    }
   ],
   "source": [
    "stock_solutions"
   ]
  },
  {
   "cell_type": "code",
   "execution_count": 33,
   "id": "90c0cdab",
   "metadata": {},
   "outputs": [],
   "source": [
    "powders = [\n",
    "    mx.Powder('Pb_I2'),\n",
    "    mx.Powder('Pb_Br2'),\n",
    "    mx.Powder('Pb_Cl2'),\n",
    "    mx.Powder('Cs_I'),\n",
    "    mx.Powder(\n",
    "        formula='MA_I',\n",
    "        molar_mass=mx.calculate_molar_mass('CH6NI'),\n",
    "    ),\n",
    "    mx.Powder(\n",
    "        formula='FA_I',\n",
    "        molar_mass=mx.calculate_molar_mass('CH5N2I'),\n",
    "    )\n",
    "\n",
    "]\n",
    "weigher = mx.Weigher(powders=powders)"
   ]
  },
  {
   "cell_type": "code",
   "execution_count": 34,
   "id": "c10b7974",
   "metadata": {},
   "outputs": [
    {
     "name": "stdout",
     "output_type": "stream",
     "text": [
      "1M FA0.78_Cs0.12_MA0.1_(Pb_(I0.9_Cl0.1)3)1.09 in DMF3_DMSO1:0\n",
      "1.25M FA0.78_Cs0.22_(Pb_(I0.9_Br0.1)3)1.09 in DMF3_DMSO1:720\n",
      "1M FA0.78_Cs0.12_MA0.1_(Pb_(I0.9_Br0.1)3)1.09 in DMF3_DMSO1:0\n",
      "1M FA0.78_Cs0.22_(Pb_(I0.9_Cl0.1)3)1.09 in DMF3_DMSO1:0\n",
      "1M FA0.78_Cs0.12_MA0.1_(Pb_(I0.8_Br0.1_Cl0.1)3)1.09 in DMF3_DMSO1:0\n",
      "1M FA0.78_Cs0.22_(Pb_(I0.8_Br0.1_Cl0.1)3)1.09 in DMF3_DMSO1:0\n",
      "MethylAcetate:1800\n",
      "1M FA0.78_Cs0.12_MA0.1_(Pb_(I0.8_Br0.2)3)1.09 in DMF3_DMSO1:0\n",
      "1M FA0.78_Cs0.22_(Pb_(I0.8_Br0.2)3)1.09 in DMF3_DMSO1:0\n"
     ]
    }
   ],
   "source": [
    "stock_details = {k:v for k,v in solution_details.items() if v['is_stock']}\n",
    "\n",
    "for k,v in stock_details.items():\n",
    "    print(f\"{k}:{v['largest_volume_required']}\")"
   ]
  },
  {
   "cell_type": "code",
   "execution_count": 35,
   "id": "2a20a5b5",
   "metadata": {},
   "outputs": [],
   "source": [
    "for solution, v in stock_details.items():\n",
    "    try:\n",
    "        v['weights'] = weigher.get_weights(solution, volume=1e-3, tolerance=1e-4)\n",
    "    except:\n",
    "        v['weights'] = {}"
   ]
  },
  {
   "cell_type": "code",
   "execution_count": 36,
   "id": "d48d903c",
   "metadata": {},
   "outputs": [],
   "source": [
    "unique_powders = list(set([p\n",
    "for v in stock_details.values()\n",
    "for p in v['weights']]))"
   ]
  },
  {
   "cell_type": "code",
   "execution_count": 37,
   "id": "e35ca686",
   "metadata": {},
   "outputs": [],
   "source": [
    "with open('weight_table.csv', 'w', newline='') as f:\n",
    "    writer = csv.writer(f, delimiter=',')\n",
    "    writer.writerow(['Solution'] + [f\"{p} (mg)\" for p in unique_powders])\n",
    "    for solution, v in stock_details.items():\n",
    "        line = [solution]\n",
    "        for p in unique_powders:\n",
    "            if p in v['weights']:\n",
    "                line.append(round(v['weights'][p]*1000, 2))\n",
    "            else:\n",
    "                line.append('')\n",
    "        writer.writerow(line)"
   ]
  },
  {
   "cell_type": "code",
   "execution_count": 38,
   "id": "f3884f09",
   "metadata": {},
   "outputs": [
    {
     "name": "stdout",
     "output_type": "stream",
     "text": [
      "Pb_I2:461.00894\n",
      "Pb_Br2:367.00699999999995\n",
      "Pb_Cl2:278.1058\n",
      "Cs_I:259.80992196\n",
      "MA_I:158.969559\n",
      "FA_I:171.968321\n"
     ]
    }
   ],
   "source": [
    "for p in powders:\n",
    "    print(f\"{p.formula}:{p.molar_mass}\")"
   ]
  },
  {
   "cell_type": "code",
   "execution_count": 39,
   "id": "9e280398",
   "metadata": {},
   "outputs": [
    {
     "name": "stdout",
     "output_type": "stream",
     "text": [
      "1M Cs0.13_I2.933_Cl0.317_FA0.79_MA0.11_Pb1.11 in DMF3_DMSO1\n",
      "1M Cs0.2890625_I3.664687_FA0.9890625_Pb1.390625_Br0.3946875 in DMF3_DMSO1\n",
      "1M Cs0.13_I2.933_FA0.79_MA0.11_Pb1.11_Br0.317 in DMF3_DMSO1\n",
      "1M Cs0.23125_I2.93175_Cl0.31575_FA0.79125_Pb1.1125 in DMF3_DMSO1\n",
      "1M Cs0.129_I2.607_Cl0.318_FA0.789_MA0.109_Pb1.108_Br0.318 in DMF3_DMSO1\n",
      "1M Cs0.23_I2.606_Cl0.317_FA0.79_Pb1.11_Br0.317 in DMF3_DMSO1\n",
      "DMF3_DMSO1\n",
      "1M Cs0.13_I2.606_FA0.79_MA0.11_Pb1.11_Br0.644 in DMF3_DMSO1\n",
      "1M Cs0.23125_I2.60475_FA0.79125_Pb1.1125_Br0.64275 in DMF3_DMSO1\n"
     ]
    }
   ],
   "source": [
    "for k,v in stock_details.items():\n",
    "    print(weigher.weights_to_solution(v['weights'], volume=1e-3, solvent='DMF3_DMSO1', molarity=1))"
   ]
  },
  {
   "cell_type": "code",
   "execution_count": null,
   "id": "9e4ea07b",
   "metadata": {},
   "outputs": [],
   "source": []
  }
 ],
 "metadata": {
  "interpreter": {
   "hash": "98098c180632dc34c2d481ea947af6f21f8ddd2925efa1f9cc0fafc572f11412"
  },
  "kernelspec": {
   "display_name": "Python 3.8.0 64-bit ('pascal': conda)",
   "name": "python3"
  },
  "language_info": {
   "codemirror_mode": {
    "name": "ipython",
    "version": 3
   },
   "file_extension": ".py",
   "mimetype": "text/x-python",
   "name": "python",
   "nbconvert_exporter": "python",
   "pygments_lexer": "ipython3",
   "version": "3.8.0"
  }
 },
 "nbformat": 4,
 "nbformat_minor": 5
}
