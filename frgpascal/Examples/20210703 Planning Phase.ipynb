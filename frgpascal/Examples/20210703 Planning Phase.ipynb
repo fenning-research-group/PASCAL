{
 "cells": [
  {
   "cell_type": "code",
   "execution_count": 19,
   "source": [
    "import numpy as np\n",
    "import csv\n",
    "%matplotlib inline\n",
    "import pandas as pd\n",
    "from frgpascal.hardware.sampletray import SampleTray, AVAILABLE_VERSIONS as sampletray_versions\n",
    "from frgpascal.hardware.liquidlabware import TipRack, LiquidLabware, AVAILABLE_VERSIONS as liquid_labware_versions\n",
    "from frgpascal.hardware.hotplate import AVAILABLE_VERSIONS as hotplate_versions\n",
    "from frgpascal.experimentaldesign.helpers import build_sample_list, plot_tray, handle_liquids, samples_to_dataframe\n",
    "from frgpascal.experimentaldesign.tasks import *\n",
    "from frgpascal.experimentaldesign.scheduler import Scheduler\n",
    "from frgpascal.experimentaldesign.protocolwriter import generate_ot2listenerprotocol\n",
    "import mixsol as mx"
   ],
   "outputs": [],
   "metadata": {}
  },
  {
   "cell_type": "markdown",
   "source": [
    "------"
   ],
   "metadata": {}
  },
  {
   "cell_type": "markdown",
   "source": [
    "# Define hardware for this experiment"
   ],
   "metadata": {}
  },
  {
   "cell_type": "code",
   "execution_count": 2,
   "source": [
    "print('Available Sample Tray Versions:')\n",
    "for v in sampletray_versions:\n",
    "    print(f'\\t{v}')\n",
    "\n",
    "print('\\nAvailable Liquid Labwares:')\n",
    "for v in liquid_labware_versions:\n",
    "    print(f'\\t{v}')"
   ],
   "outputs": [
    {
     "output_type": "stream",
     "name": "stdout",
     "text": [
      "Available Sample Tray Versions:\n",
      "\tstorage_v3\n",
      "\tstorage_v2\n",
      "\tstorage_v1\n",
      "\n",
      "Available Liquid Labwares:\n",
      "\tfrg_12_wellplate_15000ul\n",
      "\tsartorius_safetyspace_tiprack_200ul\n",
      "\tgreiner_96_wellplate_360ul\n",
      "\tfrg_spincoater_v1\n",
      "\tfrg_24_wellplate_4000ul\n"
     ]
    }
   ],
   "metadata": {}
  },
  {
   "cell_type": "markdown",
   "source": [
    "## Sample Storage Trays\n",
    "These are the trays used to load samples in/out of the glovebox"
   ],
   "metadata": {}
  },
  {
   "cell_type": "code",
   "execution_count": 3,
   "source": [
    "sample_trays = [\n",
    "    SampleTray(\n",
    "        name='Tray1',\n",
    "        version='storage_v1',\n",
    "        gantry=None,\n",
    "        gripper=None,\n",
    "        p0=[0,0,0]\n",
    "    ),\n",
    "    SampleTray(\n",
    "        name='Tray2',\n",
    "        version='storage_v1',\n",
    "        gantry=None,\n",
    "        gripper=None,\n",
    "        p0=[0,0,0]\n",
    "    )\n",
    "]"
   ],
   "outputs": [],
   "metadata": {}
  },
  {
   "cell_type": "markdown",
   "source": [
    "## Liquid Labware \n",
    "\n",
    "Include _all possible_ liquid storage + pipette tipracks. Later on we will narrow this down to what is required once we know what solutions and volumes we need.\n",
    "\n",
    "Versions are defined by the same json files used to define custom labware for the Opentrons2 liquid handler. \n",
    "New labware can be defined by following https://support.opentrons.com/en/articles/3136504-creating-custom-labware-definitions\n",
    "\n",
    "The location of the labware/tiprack on the opentrons deck must be specified as well.\n",
    "\n",
    "\n",
    "| Deck | Slot | Layout |\n",
    "| ----------- | ----------- | ----------- |\n",
    "| 10      | 11       | _Trash_ |\n",
    "| 7   | 8        | 9 |\n",
    "|4 | 5 | 6|\n",
    "|1 | _Spin_ | _Coater_|"
   ],
   "metadata": {}
  },
  {
   "cell_type": "code",
   "execution_count": 4,
   "source": [
    "solution_storage = [\n",
    "    LiquidLabware(\n",
    "        name='96_Plate1',\n",
    "        version='greiner_96_wellplate_360ul',\n",
    "        deck_slot=5\n",
    "    ),\n",
    "    LiquidLabware(\n",
    "        name='4mL_Tray1',\n",
    "        version='frg_24_wellplate_4000ul',\n",
    "        deck_slot=1\n",
    "    ),\n",
    "    # LiquidLabware(\n",
    "    #     name='15mL_Tray1',\n",
    "    #     version='frg_12_wellplate_15000ul'   \n",
    "    # ),\n",
    "]\n",
    "\n",
    "#sort by volume,name\n",
    "solution_storage.sort(key=lambda labware: labware.name)\n",
    "solution_storage.sort(key=lambda labware: labware.usable_volume)\n",
    "print('Priority Fill Order:')\n",
    "for ss in solution_storage: print(ss)"
   ],
   "outputs": [
    {
     "output_type": "stream",
     "name": "stdout",
     "text": [
      "Priority Fill Order:\n",
      "<LiquidLabware> 96_Plate1, 0.36 mL volume, 96 wells\n",
      "<LiquidLabware> 4mL_Tray1, 4.0 mL volume, 24 wells\n"
     ]
    }
   ],
   "metadata": {}
  },
  {
   "cell_type": "code",
   "execution_count": 5,
   "source": [
    "tipracks = [\n",
    "    TipRack(\n",
    "        version='sartorius_safetyspace_tiprack_200ul', \n",
    "        deck_slot=7,\n",
    "        starting_tip=\"A1\"),\n",
    "    TipRack(\n",
    "        version='sartorius_safetyspace_tiprack_200ul', \n",
    "        deck_slot=10,\n",
    "        starting_tip=\"A1\"),\n",
    "    ]"
   ],
   "outputs": [],
   "metadata": {}
  },
  {
   "cell_type": "markdown",
   "source": [
    "-----"
   ],
   "metadata": {}
  },
  {
   "cell_type": "markdown",
   "source": [
    "# Define Experimental Mesh\n",
    "\n",
    "Each of the following cells defines one dimension of the experiment. After defining the individual dimensions, a full sample list will be constructed using a user-selected Design of Expeiment (DOE)"
   ],
   "metadata": {}
  },
  {
   "cell_type": "markdown",
   "source": [
    "## List of unique substrates that will be loaded to start the experiment.\n",
    "These are just strings to describe the substrate "
   ],
   "metadata": {}
  },
  {
   "cell_type": "code",
   "execution_count": 6,
   "source": [
    "input_substrates = [\n",
    "    '2mm_FTO'\n",
    "]"
   ],
   "outputs": [],
   "metadata": {}
  },
  {
   "cell_type": "markdown",
   "source": [
    "## Solutions to spincast. \n",
    "\n",
    "Solutions are defined using `Solution` class instances.\n",
    "\n",
    "Chemical formula is defined with underscores between each component. If no coefficient is provided, assumes =1. Example:\n",
    "\n",
    "``` \n",
    "SolutionRecipe(\n",
    "        solutes='MA_Pb_I3',\n",
    "        solvent='DMF9_DMSO1',\n",
    "        molarity=1\n",
    "    )\n",
    "```\n",
    "\n",
    "Antisolvents are also defined using `Solution` class instances. Solutes are left empty, and molarity is unused so can be left as 1/whatever number you like.\n",
    "\n",
    "Example:\n",
    "``` \n",
    "Solution(\n",
    "        solutes='',\n",
    "        solvent='Chlorobenzene',\n",
    "        molarity=1\n",
    "    )\n",
    "```\n",
    "\n",
    "Solutions that will be interchanged (for example, different absorber solutions for compositional search) should be stored in a list. This list will be used later to permute sample process variables\n"
   ],
   "metadata": {}
  },
  {
   "cell_type": "code",
   "execution_count": 7,
   "source": [
    "absorber_solutions = [\n",
    "    Solution(\n",
    "        solutes='MA_Pb_I3',\n",
    "        solvent='DMF9_DMSO1',\n",
    "        molarity=1\n",
    "    ),\n",
    "    Solution(\n",
    "        solutes='FA_Pb_I3',\n",
    "        solvent='DMF9_DMSO1',\n",
    "        molarity=1\n",
    "    ),\n",
    "    Solution(\n",
    "        solutes='FA0.25_MA0.75_Pb_I3',\n",
    "        solvent='DMF9_DMSO1',\n",
    "        molarity=1\n",
    "    ),\n",
    "    # Solution(\n",
    "    #     solutes='FA0.75_MA0.25_Pb_I3',\n",
    "    #     solvent='DMF9_DMSO1',\n",
    "    #     molarity=1\n",
    "    # ),\n",
    "    # Solution(\n",
    "    #     solutes='MA0.5_FA0.5_Pb_I3',\n",
    "    #     solvent='DMF9_DMSO1',\n",
    "    #     molarity=1\n",
    "    # ),\n",
    "]\n"
   ],
   "outputs": [],
   "metadata": {}
  },
  {
   "cell_type": "code",
   "execution_count": 8,
   "source": [
    "antisolvents = [\n",
    "    Solution(\n",
    "        solvent='Chlorobenzene',\n",
    "    ),\n",
    "    Solution(\n",
    "        solvent='MethylAcetate',\n",
    "    )\n",
    "]"
   ],
   "outputs": [],
   "metadata": {}
  },
  {
   "cell_type": "code",
   "execution_count": 9,
   "source": [
    "solution_spiro = Solution(\n",
    "    solutes='spiro',\n",
    "    solvent='IPA',\n",
    "    molarity=1\n",
    ")"
   ],
   "outputs": [],
   "metadata": {}
  },
  {
   "cell_type": "markdown",
   "source": [
    "## Spincoating Recipes\n",
    "\n",
    "\n",
    "Spincoating recipes are defined using the `Spincoat` object. This takes two arguments: `steps`,a nested list of [speed, acceleration, duration] spin steps, and `drops`, a list of `Drop` objects that capture the details of each solution drop during spincoating. \n",
    "\n",
    "```\n",
    "Spincoat(\n",
    "        steps=[\n",
    "            [500,1000,20], #speed (rpm), acceleration (rpm/s), duration (s)\n",
    "            [4000,4000,30]\n",
    "        ],\n",
    "        drops=[\n",
    "            Drop(\n",
    "                solution=target_solutions[0],\n",
    "                volume=20, # uL\n",
    "                time=5, # seconds from start of spincoating\n",
    "                height=2, # mm above substrate to dispense from, optional\n",
    "                rate=50, # dispense rate (uL/sec), optional\n",
    "            ),\n",
    "            Drop(\n",
    "                solution=cb_antisolvent,\n",
    "                volume=50,\n",
    "                time=30\n",
    "            )\n",
    "        ]\n",
    "    )\n",
    "```\n",
    "\n",
    "often we will be using many solutions with the same spincoating recipe. In these cases, the `solution` argument of a `Drop` object can just be a string. This string can be substituted by a list of solutions at the final step. Example:\n",
    "\n",
    "```\n",
    "spincoat_recipes = [\n",
    "    Spincoat(\n",
    "        steps=[\n",
    "            [500,1000,20], #speed (rpm), acceleration (rpm/s), duration (s)\n",
    "            [4000,4000,30]\n",
    "        ],\n",
    "        drops = [\n",
    "            Drop(\n",
    "                solution='psk_solution', # we will fill any Drop solutions labeled as 'psk_solution' later\n",
    "                volume=20,\n",
    "                time=5\n",
    "            ),\n",
    "            Drop(\n",
    "                solution=cb_antisolvent,\n",
    "                volume=50,\n",
    "                time=40\n",
    "            )\n",
    "        ]\n",
    "    ),\n",
    "```"
   ],
   "metadata": {}
  },
  {
   "cell_type": "markdown",
   "source": [
    "#### Defining spincoating parameters"
   ],
   "metadata": {}
  },
  {
   "cell_type": "code",
   "execution_count": 10,
   "source": [
    "absorber_spincoat_recipes = [\n",
    "    Spincoat(\n",
    "        steps=[\n",
    "            [500,1000,20], #speed (rpm), acceleration (rpm/s), duration (s)\n",
    "            [4000,4000,30]\n",
    "        ],\n",
    "        drops = [\n",
    "            Drop(\n",
    "                solution='psk_solution',  #this will be filled later using the list of psk solutions\n",
    "                volume=20,\n",
    "                time=5\n",
    "            ),\n",
    "            Drop(\n",
    "                solution='antisolvent', #this will similarly be filled later\n",
    "                volume=50,\n",
    "                time=40,\n",
    "            )\n",
    "        ]\n",
    "    ),\n",
    "    Spincoat(\n",
    "        steps=[\n",
    "            [500,1000,20], #speed (rpm), acceleration (rpm/s), duration (s)\n",
    "            [4000,4000,30]\n",
    "        ],\n",
    "        drops = [\n",
    "            Drop(\n",
    "                solution='psk_solution',\n",
    "                volume=20,\n",
    "                time=-1\n",
    "            ),\n",
    "            Drop(\n",
    "                solution='antisolvent',\n",
    "                volume=50,\n",
    "                time=40,\n",
    "            )\n",
    "        ]\n",
    "    ),\n",
    "]"
   ],
   "outputs": [],
   "metadata": {}
  },
  {
   "cell_type": "code",
   "execution_count": 11,
   "source": [
    "spincoat_spiro = Spincoat(\n",
    "    steps=[\n",
    "        [500,1000,20], #speed (rpm), acceleration (rpm/s), duration (s)\n",
    "        [4000,4000,30]\n",
    "    ],\n",
    "    drops = [\n",
    "        Drop(\n",
    "            solution=solution_spiro,\n",
    "            volume=20,\n",
    "            time=5\n",
    "        ),\n",
    "    ],\n",
    ")\n",
    "        "
   ],
   "outputs": [],
   "metadata": {}
  },
  {
   "cell_type": "markdown",
   "source": [
    "## Annealing Conditions\n",
    "Annealing conditions are defined as a list of `Anneal` class instances. Only two parameters - temperature (C) and duration (s)\n",
    "\n",
    "Example:\n",
    "``` \n",
    "    Anneal(\n",
    "        temperature=100, #degrees C\n",
    "        duration=60*60, #seconds\n",
    "    ),\n",
    "```"
   ],
   "metadata": {}
  },
  {
   "cell_type": "code",
   "execution_count": 12,
   "source": [
    "anneal_recipes = [\n",
    "    Anneal(\n",
    "        temperature=100, #degrees C\n",
    "        duration=10*60, #seconds\n",
    "    ),\n",
    "    Anneal(\n",
    "        temperature=100, #degrees C\n",
    "        duration=15*60, #seconds\n",
    "    ),\n",
    "]\n",
    "\n",
    "anneal_spiro = Anneal(\n",
    "    temperature=100, #degrees C\n",
    "    duration=10*60, #seconds\n",
    ")"
   ],
   "outputs": [],
   "metadata": {}
  },
  {
   "cell_type": "markdown",
   "source": [
    "-----"
   ],
   "metadata": {}
  },
  {
   "cell_type": "markdown",
   "source": [
    "# Design of Experiment\n",
    "\n",
    "We will input all the values defined above into `build_sample_list` to generate a sample list. Currently only a full-factorial design is implemented. \n",
    "The arguments for `build_sample_list` are as follows:\n",
    "- `input_substrates`: list of substrates (strings) describing the unique starting substrates\n",
    "- `steps`: worklist of process steps (`Spincoat`, `Anneal`, `Rest`, or `Characterize`) **in desired order of completion**. Each of the list elements can be a single step (if the step does not change across samples), or a list of steps of the same kind (for example, a list of spincoat variations)\n",
    "- `solution_mesh`: a dictionary used to fill in solution placeholders in `Drop` objects. Keys should match the placeholder strings, and values should be lists of `Solution` objects to put into the `Drop` object.\n",
    "- `n_repeats`: number of duplicates to run for each unique worklist\n",
    "\n",
    "arguments are lists defined above, and n_repeats is the number of times to repeat each unique combination of conditions"
   ],
   "metadata": {}
  },
  {
   "cell_type": "code",
   "execution_count": 13,
   "source": [
    "samples = build_sample_list(\n",
    "    available_trays = sample_trays,\n",
    "    input_substrates = input_substrates,\n",
    "    steps = [\n",
    "        absorber_spincoat_recipes, #list of absorber `Spincoat` variations\n",
    "        anneal_recipes, #list of `Anneal` variations\n",
    "        Rest(300), #move the sample to the sample tray for at least 300 seconds\n",
    "        Characterize(), #characterize the sample\n",
    "        Rest(1),\n",
    "        spincoat_spiro, #the one spincoat recipe for spiro\n",
    "        anneal_spiro,\n",
    "    ],\n",
    "    solution_mesh=dict(\n",
    "        psk_solution=absorber_solutions,\n",
    "        antisolvent=antisolvents\n",
    "    ),\n",
    "    n_repeats=1\n",
    ")\n",
    "print(len(samples))"
   ],
   "outputs": [
    {
     "output_type": "stream",
     "name": "stdout",
     "text": [
      "24\n"
     ]
    }
   ],
   "metadata": {}
  },
  {
   "cell_type": "code",
   "execution_count": 14,
   "source": [
    "df = samples_to_dataframe(samples)\n",
    "df.to_csv('Worklist.dataframe.csv')\n",
    "df.head()"
   ],
   "outputs": [
    {
     "output_type": "execute_result",
     "data": {
      "text/html": [
       "<div>\n",
       "<style scoped>\n",
       "    .dataframe tbody tr th:only-of-type {\n",
       "        vertical-align: middle;\n",
       "    }\n",
       "\n",
       "    .dataframe tbody tr th {\n",
       "        vertical-align: top;\n",
       "    }\n",
       "\n",
       "    .dataframe thead th {\n",
       "        text-align: right;\n",
       "    }\n",
       "</style>\n",
       "<table border=\"1\" class=\"dataframe\">\n",
       "  <thead>\n",
       "    <tr style=\"text-align: right;\">\n",
       "      <th></th>\n",
       "      <th>name</th>\n",
       "      <th>storage_tray</th>\n",
       "      <th>storage_slot</th>\n",
       "      <th>worklist</th>\n",
       "      <th>spincoat0_steps</th>\n",
       "      <th>spincoat0_duration</th>\n",
       "      <th>spincoat0_drop0_solutes</th>\n",
       "      <th>spincoat0_drop0_solvent</th>\n",
       "      <th>spincoat0_drop0_molarity</th>\n",
       "      <th>spincoat0_drop0_time</th>\n",
       "      <th>...</th>\n",
       "      <th>spincoat1_steps</th>\n",
       "      <th>spincoat1_duration</th>\n",
       "      <th>spincoat1_drop0_solutes</th>\n",
       "      <th>spincoat1_drop0_solvent</th>\n",
       "      <th>spincoat1_drop0_molarity</th>\n",
       "      <th>spincoat1_drop0_time</th>\n",
       "      <th>spincoat1_drop0_height</th>\n",
       "      <th>spincoat1_drop0_rate</th>\n",
       "      <th>anneal1_temperature</th>\n",
       "      <th>anneal1_duration</th>\n",
       "    </tr>\n",
       "  </thead>\n",
       "  <tbody>\n",
       "    <tr>\n",
       "      <th>0</th>\n",
       "      <td>sample0</td>\n",
       "      <td>Tray1</td>\n",
       "      <td>A1</td>\n",
       "      <td>[{'sample': 'sample0', 'start': nan, 'task': '...</td>\n",
       "      <td>[{'rpm': 500.0, 'acceleration': 1000.0, 'durat...</td>\n",
       "      <td>92</td>\n",
       "      <td>MA_Pb_I3</td>\n",
       "      <td>DMF9_DMSO1</td>\n",
       "      <td>1</td>\n",
       "      <td>5</td>\n",
       "      <td>...</td>\n",
       "      <td>[{'rpm': 500.0, 'acceleration': 1000.0, 'durat...</td>\n",
       "      <td>68</td>\n",
       "      <td>spiro</td>\n",
       "      <td>IPA</td>\n",
       "      <td>1</td>\n",
       "      <td>5</td>\n",
       "      <td>2</td>\n",
       "      <td>100</td>\n",
       "      <td>100</td>\n",
       "      <td>600</td>\n",
       "    </tr>\n",
       "    <tr>\n",
       "      <th>1</th>\n",
       "      <td>sample1</td>\n",
       "      <td>Tray1</td>\n",
       "      <td>A2</td>\n",
       "      <td>[{'sample': 'sample1', 'start': nan, 'task': '...</td>\n",
       "      <td>[{'rpm': 500.0, 'acceleration': 1000.0, 'durat...</td>\n",
       "      <td>92</td>\n",
       "      <td>MA_Pb_I3</td>\n",
       "      <td>DMF9_DMSO1</td>\n",
       "      <td>1</td>\n",
       "      <td>5</td>\n",
       "      <td>...</td>\n",
       "      <td>[{'rpm': 500.0, 'acceleration': 1000.0, 'durat...</td>\n",
       "      <td>68</td>\n",
       "      <td>spiro</td>\n",
       "      <td>IPA</td>\n",
       "      <td>1</td>\n",
       "      <td>5</td>\n",
       "      <td>2</td>\n",
       "      <td>100</td>\n",
       "      <td>100</td>\n",
       "      <td>600</td>\n",
       "    </tr>\n",
       "    <tr>\n",
       "      <th>2</th>\n",
       "      <td>sample2</td>\n",
       "      <td>Tray1</td>\n",
       "      <td>A3</td>\n",
       "      <td>[{'sample': 'sample2', 'start': nan, 'task': '...</td>\n",
       "      <td>[{'rpm': 500.0, 'acceleration': 1000.0, 'durat...</td>\n",
       "      <td>92</td>\n",
       "      <td>FA_Pb_I3</td>\n",
       "      <td>DMF9_DMSO1</td>\n",
       "      <td>1</td>\n",
       "      <td>5</td>\n",
       "      <td>...</td>\n",
       "      <td>[{'rpm': 500.0, 'acceleration': 1000.0, 'durat...</td>\n",
       "      <td>68</td>\n",
       "      <td>spiro</td>\n",
       "      <td>IPA</td>\n",
       "      <td>1</td>\n",
       "      <td>5</td>\n",
       "      <td>2</td>\n",
       "      <td>100</td>\n",
       "      <td>100</td>\n",
       "      <td>600</td>\n",
       "    </tr>\n",
       "    <tr>\n",
       "      <th>3</th>\n",
       "      <td>sample3</td>\n",
       "      <td>Tray1</td>\n",
       "      <td>A4</td>\n",
       "      <td>[{'sample': 'sample3', 'start': nan, 'task': '...</td>\n",
       "      <td>[{'rpm': 500.0, 'acceleration': 1000.0, 'durat...</td>\n",
       "      <td>92</td>\n",
       "      <td>FA_Pb_I3</td>\n",
       "      <td>DMF9_DMSO1</td>\n",
       "      <td>1</td>\n",
       "      <td>5</td>\n",
       "      <td>...</td>\n",
       "      <td>[{'rpm': 500.0, 'acceleration': 1000.0, 'durat...</td>\n",
       "      <td>68</td>\n",
       "      <td>spiro</td>\n",
       "      <td>IPA</td>\n",
       "      <td>1</td>\n",
       "      <td>5</td>\n",
       "      <td>2</td>\n",
       "      <td>100</td>\n",
       "      <td>100</td>\n",
       "      <td>600</td>\n",
       "    </tr>\n",
       "    <tr>\n",
       "      <th>4</th>\n",
       "      <td>sample4</td>\n",
       "      <td>Tray1</td>\n",
       "      <td>A5</td>\n",
       "      <td>[{'sample': 'sample4', 'start': nan, 'task': '...</td>\n",
       "      <td>[{'rpm': 500.0, 'acceleration': 1000.0, 'durat...</td>\n",
       "      <td>92</td>\n",
       "      <td>FA0.25_MA0.75_Pb_I3</td>\n",
       "      <td>DMF9_DMSO1</td>\n",
       "      <td>1</td>\n",
       "      <td>5</td>\n",
       "      <td>...</td>\n",
       "      <td>[{'rpm': 500.0, 'acceleration': 1000.0, 'durat...</td>\n",
       "      <td>68</td>\n",
       "      <td>spiro</td>\n",
       "      <td>IPA</td>\n",
       "      <td>1</td>\n",
       "      <td>5</td>\n",
       "      <td>2</td>\n",
       "      <td>100</td>\n",
       "      <td>100</td>\n",
       "      <td>600</td>\n",
       "    </tr>\n",
       "  </tbody>\n",
       "</table>\n",
       "<p>5 rows × 34 columns</p>\n",
       "</div>"
      ],
      "text/plain": [
       "      name storage_tray storage_slot  \\\n",
       "0  sample0        Tray1           A1   \n",
       "1  sample1        Tray1           A2   \n",
       "2  sample2        Tray1           A3   \n",
       "3  sample3        Tray1           A4   \n",
       "4  sample4        Tray1           A5   \n",
       "\n",
       "                                            worklist  \\\n",
       "0  [{'sample': 'sample0', 'start': nan, 'task': '...   \n",
       "1  [{'sample': 'sample1', 'start': nan, 'task': '...   \n",
       "2  [{'sample': 'sample2', 'start': nan, 'task': '...   \n",
       "3  [{'sample': 'sample3', 'start': nan, 'task': '...   \n",
       "4  [{'sample': 'sample4', 'start': nan, 'task': '...   \n",
       "\n",
       "                                     spincoat0_steps  spincoat0_duration  \\\n",
       "0  [{'rpm': 500.0, 'acceleration': 1000.0, 'durat...                  92   \n",
       "1  [{'rpm': 500.0, 'acceleration': 1000.0, 'durat...                  92   \n",
       "2  [{'rpm': 500.0, 'acceleration': 1000.0, 'durat...                  92   \n",
       "3  [{'rpm': 500.0, 'acceleration': 1000.0, 'durat...                  92   \n",
       "4  [{'rpm': 500.0, 'acceleration': 1000.0, 'durat...                  92   \n",
       "\n",
       "  spincoat0_drop0_solutes spincoat0_drop0_solvent  spincoat0_drop0_molarity  \\\n",
       "0                MA_Pb_I3              DMF9_DMSO1                         1   \n",
       "1                MA_Pb_I3              DMF9_DMSO1                         1   \n",
       "2                FA_Pb_I3              DMF9_DMSO1                         1   \n",
       "3                FA_Pb_I3              DMF9_DMSO1                         1   \n",
       "4     FA0.25_MA0.75_Pb_I3              DMF9_DMSO1                         1   \n",
       "\n",
       "   spincoat0_drop0_time  ...  \\\n",
       "0                     5  ...   \n",
       "1                     5  ...   \n",
       "2                     5  ...   \n",
       "3                     5  ...   \n",
       "4                     5  ...   \n",
       "\n",
       "                                     spincoat1_steps  spincoat1_duration  \\\n",
       "0  [{'rpm': 500.0, 'acceleration': 1000.0, 'durat...                  68   \n",
       "1  [{'rpm': 500.0, 'acceleration': 1000.0, 'durat...                  68   \n",
       "2  [{'rpm': 500.0, 'acceleration': 1000.0, 'durat...                  68   \n",
       "3  [{'rpm': 500.0, 'acceleration': 1000.0, 'durat...                  68   \n",
       "4  [{'rpm': 500.0, 'acceleration': 1000.0, 'durat...                  68   \n",
       "\n",
       "  spincoat1_drop0_solutes spincoat1_drop0_solvent  spincoat1_drop0_molarity  \\\n",
       "0                   spiro                     IPA                         1   \n",
       "1                   spiro                     IPA                         1   \n",
       "2                   spiro                     IPA                         1   \n",
       "3                   spiro                     IPA                         1   \n",
       "4                   spiro                     IPA                         1   \n",
       "\n",
       "   spincoat1_drop0_time  spincoat1_drop0_height  spincoat1_drop0_rate  \\\n",
       "0                     5                       2                   100   \n",
       "1                     5                       2                   100   \n",
       "2                     5                       2                   100   \n",
       "3                     5                       2                   100   \n",
       "4                     5                       2                   100   \n",
       "\n",
       "   anneal1_temperature  anneal1_duration  \n",
       "0                  100               600  \n",
       "1                  100               600  \n",
       "2                  100               600  \n",
       "3                  100               600  \n",
       "4                  100               600  \n",
       "\n",
       "[5 rows x 34 columns]"
      ]
     },
     "metadata": {},
     "execution_count": 14
    }
   ],
   "metadata": {}
  },
  {
   "cell_type": "markdown",
   "source": [
    "-----"
   ],
   "metadata": {}
  },
  {
   "cell_type": "markdown",
   "source": [
    "# Preparing the Solutions"
   ],
   "metadata": {}
  },
  {
   "cell_type": "markdown",
   "source": [
    "## Define Stock Solutions\n",
    "\n",
    "These are the solutions that you will be mixing to (hopefully) cover your target solutions. If they don't work, the code will tell you, and you can come back to this point and try again."
   ],
   "metadata": {}
  },
  {
   "cell_type": "code",
<<<<<<< HEAD
   "execution_count": 32,
=======
   "execution_count": 15,
>>>>>>> acafdf4 (autopopulate protocol file with labware defined in planning notebook)
   "source": [
    "stock_solutions = [\n",
    "    Solution(\n",
    "        solutes='MA_Pb_I3',\n",
    "        solvent='DMF9_DMSO1',\n",
    "        molarity=1,\n",
    "        labware='4mL_Tray1',\n",
    "        well='A1'\n",
    "    ),\n",
    "    Solution(\n",
    "        solutes='FA_Pb_I3',\n",
    "        solvent='DMF9_DMSO1',\n",
    "        molarity=1,\n",
    "        labware='4mL_Tray1',\n",
    "        well='A2'\n",
    "    ),\n",
    "    Solution(\n",
    "        solvent='DMF',\n",
    "    ),\n",
    "    Solution(\n",
    "        solvent='DMSO',\n",
    "    ),\n",
    "    Solution(\n",
    "        solvent='Chlorobenzene',\n",
    "    ),\n",
    "    Solution(\n",
    "        solvent='MethylAcetate',\n",
    "    ),\n",
    "    Solution(\n",
    "        solutes='spiro',\n",
    "        solvent='IPA',\n",
    "        molarity=1\n",
    "    ),\n",
    "]"
   ],
   "outputs": [],
   "metadata": {}
  },
  {
   "cell_type": "markdown",
   "source": [
    "Can we cover target solutions with these stocks? and if so, how much of each stock to mix for each target?\n",
    "\n",
    "This will throw an error if the stock solutions are not able to cover our experiment"
   ],
   "metadata": {}
  },
  {
   "cell_type": "code",
<<<<<<< HEAD
   "execution_count": 33,
=======
   "execution_count": 16,
>>>>>>> acafdf4 (autopopulate protocol file with labware defined in planning notebook)
   "source": [
    "required_solutions = {}\n",
    "for s in samples:\n",
    "    for task in s.worklist:\n",
    "        if isinstance(task, Spincoat):\n",
    "            for d in task.drops:\n",
    "                sol = d.solution\n",
    "                if sol in required_solutions:\n",
    "                    required_solutions[sol] += d.volume\n",
    "                else:\n",
<<<<<<< HEAD
    "                    required_solutions[sol] = d.volume + 50 #50 ul = minimum volume in well plate"
=======
    "                    required_solutions[sol] = d.volume + 50"
>>>>>>> acafdf4 (autopopulate protocol file with labware defined in planning notebook)
   ],
   "outputs": [],
   "metadata": {}
  },
  {
   "cell_type": "code",
<<<<<<< HEAD
   "execution_count": 34,
=======
   "execution_count": 17,
>>>>>>> acafdf4 (autopopulate protocol file with labware defined in planning notebook)
   "source": [
    "mixer = mx.Mixer(\n",
    "    stock_solutions=stock_solutions,\n",
    "    targets=required_solutions,\n",
    ")\n",
    "mixer.solve(\n",
    "    min_volume=20,\n",
    "    max_inputs=4,\n",
    "    tolerance=1e-4\n",
    ")"
   ],
   "outputs": [],
   "metadata": {}
  },
  {
<<<<<<< HEAD
   "cell_type": "markdown",
   "source": [
    "Can we cover target solutions with these stocks? and if so, how much of each stock to mix for each target?\n",
    "\n",
    "This will throw an error if the stock solutions are not able to cover our experiment"
=======
   "cell_type": "code",
   "execution_count": 18,
   "source": [
    "mixer.print()"
   ],
   "outputs": [
    {
     "output_type": "stream",
     "name": "stdout",
     "text": [
      "===== Stock Prep =====\n",
      "210.00 of 1M FA_Pb_I3 in DMF9_DMSO1\n",
      "450.00 of Chlorobenzene\n",
      "210.00 of 1M MA_Pb_I3 in DMF9_DMSO1\n",
      "450.00 of MethylAcetate\n",
      "370.00 of 1M spiro in IPA\n"
     ]
    }
>>>>>>> acafdf4 (autopopulate protocol file with labware defined in planning notebook)
   ],
   "metadata": {}
  },
  {
<<<<<<< HEAD
   "cell_type": "code",
   "execution_count": 35,
   "source": [
    "solution_details = {}\n",
    "for s in mixer.solutions:\n",
    "    solution_details[s] = {\n",
    "        'largest_volume_required': round(mixer.initial_volumes_required.get(s,0), 3),\n",
    "        'is_stock': mixer.solutions.index(s) in mixer.stock_idx\n",
    "    }"
=======
   "cell_type": "markdown",
   "source": [
    "-----"
>>>>>>> acafdf4 (autopopulate protocol file with labware defined in planning notebook)
   ],
   "metadata": {}
  },
  {
   "cell_type": "code",
<<<<<<< HEAD
   "execution_count": 36,
   "source": [
    "\n",
    "def where_to_store(volume, options):\n",
    "    for ll in options:\n",
    "        if volume <= ll.volume and len(ll._openwells) > 0:\n",
    "            return ll\n",
    "    raise ValueError(f\"No options have enough space to hold {volume/1e3:.2f} mL!\")\n",
    "\n"
=======
   "execution_count": 19,
   "source": [
    "solution_details = {}\n",
    "for s in mixer.solutions:\n",
    "    solution_details[s] = {\n",
    "        'largest_volume_required': round(mixer.initial_volumes_required.get(s,0), 3),\n",
    "        'is_stock': mixer.solutions.index(s) in mixer.stock_idx\n",
    "    }"
>>>>>>> acafdf4 (autopopulate protocol file with labware defined in planning notebook)
   ],
   "outputs": [],
   "metadata": {}
  },
  {
   "cell_type": "code",
<<<<<<< HEAD
   "execution_count": 37,
   "source": [
    "for ll in solution_storage:\n",
    "    ll.unload_all()\n",
    "    \n",
    "# for i in range(24):\n",
    "#     solution_storage[0].load('usedup')\n",
    "for solution, v in solution_details.items():\n",
    "    if solution.well['labware'] is None:\n",
    "        continue\n",
    "    volume = v['largest_volume_required']\n",
    "    ll = [ll for ll in solution_storage if ll.name == solution.well['labware']][0]\n",
    "    well = ll.load(solution, well=solution.well['well'])\n",
    "    solution_details[solution][\"labware\"] = ll.name\n",
    "    solution_details[solution][\"well\"] = well\n",
    "    if v['is_stock']:\n",
    "        solution_details[solution]['initial_volume_required'] = v['largest_volume_required'] \n",
    "    else:\n",
    "        solution_details[solution]['initial_volume_required'] = 0\n",
    "    \n",
    "for solution, v in solution_details.items():\n",
    "    if 'labware' in v:\n",
    "        continue\n",
    "    volume = v['largest_volume_required']\n",
    "    ll = where_to_store(volume, solution_storage)  # which liquid labware\n",
    "    well = ll.load(solution)\n",
    "    solution_details[solution][\"labware\"] = ll.name\n",
    "    solution_details[solution][\"well\"] = well\n",
    "    if v['is_stock']:\n",
    "        solution_details[solution]['initial_volume_required'] = v['largest_volume_required'] \n",
    "    else:\n",
    "        solution_details[solution]['initial_volume_required'] = 0\n"
=======
   "execution_count": 20,
   "source": [
    "\n",
    "def where_to_store(volume, options):\n",
    "    for ll in options:\n",
    "        if volume <= ll.volume and len(ll._openwells) > 0:\n",
    "            return ll\n",
    "    raise ValueError(f\"No options have enough space to hold {volume/1e3:.2f} mL!\")\n",
    "\n"
>>>>>>> acafdf4 (autopopulate protocol file with labware defined in planning notebook)
   ],
   "outputs": [],
   "metadata": {}
  },
  {
   "cell_type": "code",
<<<<<<< HEAD
   "execution_count": 38,
   "source": [
    "for s in samples:\n",
    "    for task in s.worklist:\n",
    "        if not isinstance(task, Spincoat):\n",
    "            continue\n",
    "        for drop in task.drops:\n",
    "            d = solution_details[drop.solution]\n",
    "            drop.solution.well = {\n",
    "                \"labware\": d[\"labware\"],\n",
    "                \"well\": d[\"well\"],\n",
    "            }"
=======
   "execution_count": 21,
   "source": [
    "for ll in solution_storage:\n",
    "    ll.unload_all()\n",
    "    \n",
    "for solution, v in solution_details.items():\n",
    "    if solution.well['labware'] is None:\n",
    "        continue\n",
    "    volume = v['largest_volume_required']\n",
    "    ll = [ll for ll in solution_storage if ll.name == solution.well['labware']][0]\n",
    "    well = ll.load(solution, well=solution.well['well'])\n",
    "    solution_details[solution][\"labware\"] = ll.name\n",
    "    solution_details[solution][\"well\"] = well\n",
    "    if v['is_stock']:\n",
    "        solution_details[solution]['initial_volume_required'] = v['largest_volume_required'] \n",
    "    else:\n",
    "        solution_details[solution]['initial_volume_required'] = 0\n",
    "    \n",
    "for solution, v in solution_details.items():\n",
    "    if 'labware' in v:\n",
    "        continue\n",
    "    volume = v['largest_volume_required']\n",
    "    ll = where_to_store(volume, solution_storage)  # which liquid labware\n",
    "    well = ll.load(solution)\n",
    "    solution_details[solution][\"labware\"] = ll.name\n",
    "    solution_details[solution][\"well\"] = well\n",
    "    if v['is_stock']:\n",
    "        solution_details[solution]['initial_volume_required'] = v['largest_volume_required'] \n",
    "    else:\n",
    "        solution_details[solution]['initial_volume_required'] = 0\n"
>>>>>>> acafdf4 (autopopulate protocol file with labware defined in planning notebook)
   ],
   "outputs": [],
   "metadata": {}
  },
  {
   "cell_type": "code",
   "execution_count": 39,
   "source": [
<<<<<<< HEAD
    "mixing_netlist = []  # [{source: {[destinations], [volumes]}}, {source:{[destinations], [volumes]}}] \n",
    "for generation in mixer.transfers_per_generation:\n",
    "    this_generation = {}\n",
    "    for source, transfers in generation.items():\n",
    "        labware = solution_details[source]['labware']\n",
    "        well = solution_details[source]['well']\n",
    "        source_str = f\"{labware}-{well}\"\n",
    "        transfers_from_this_source = {}\n",
    "        for destination, volume in transfers.items():\n",
    "            if volume == 0:\n",
    "                continue\n",
    "            labware = solution_details[destination]['labware']\n",
    "            well = solution_details[destination]['well']\n",
    "            destination_str = f\"{labware}-{well}\"\n",
    "            transfers_from_this_source[destination_str] = volume.round(2)\n",
    "        this_generation[source_str] = transfers_from_this_source\n",
    "    mixing_netlist.append(this_generation)"
=======
    "for s in samples:\n",
    "    for task in s.worklist:\n",
    "        if not isinstance(task, Spincoat):\n",
    "            continue\n",
    "        for drop in task.drops:\n",
    "            d = solution_details[drop.solution]\n",
    "            drop.solution.well = {\n",
    "                \"labware\": d[\"labware\"],\n",
    "                \"well\": d[\"well\"],\n",
    "            }"
>>>>>>> acafdf4 (autopopulate protocol file with labware defined in planning notebook)
   ],
   "outputs": [],
   "metadata": {}
  },
  {
   "cell_type": "code",
   "execution_count": 23,
   "source": [
    "mixing_netlist = []  # [{source: {[destinations], [volumes]}}, {source:{[destinations], [volumes]}}] \n",
    "for generation in mixer.transfers_per_generation:\n",
    "    this_generation = {}\n",
    "    for source, transfers in generation.items():\n",
    "        labware = solution_details[source]['labware']\n",
    "        well = solution_details[source]['well']\n",
    "        source_str = f\"{labware}-{well}\"\n",
    "        transfers_from_this_source = {}\n",
    "        for destination, volume in transfers.items():\n",
    "            if volume == 0:\n",
    "                continue\n",
    "            labware = solution_details[destination]['labware']\n",
    "            well = solution_details[destination]['well']\n",
    "            destination_str = f\"{labware}-{well}\"\n",
    "            transfers_from_this_source[destination_str] = volume.round(2)\n",
    "        this_generation[source_str] = transfers_from_this_source\n",
    "    mixing_netlist.append(this_generation)"
   ],
   "outputs": [],
   "metadata": {}
  },
  {
   "cell_type": "markdown",
   "source": [
    "# Build the Experiment Schedule + Save Worklist"
   ],
   "metadata": {}
  },
  {
   "cell_type": "code",
<<<<<<< HEAD
   "execution_count": 27,
=======
   "execution_count": 24,
>>>>>>> acafdf4 (autopopulate protocol file with labware defined in planning notebook)
   "source": [
    "scheduler = Scheduler(\n",
    "    samples=samples,\n",
    "    spanning_tasks = [\"characterize\", \"spincoat\"], #these tasks spanning each pair must be done in sequence per sample\n",
    "    enforce_sample_order=False\n",
    ")\n",
    "ordered_tasks = scheduler.solve(2) #argument defines how long (s) to work on finding a solution\n",
    "plt.savefig('Experiment Schedule', dpi=300, bbox_inches='tight')"
   ],
   "outputs": [
    {
     "output_type": "stream",
     "name": "stdout",
     "text": [
      "solution status: FEASIBLE\n"
     ]
    },
    {
     "output_type": "display_data",
     "data": {
<<<<<<< HEAD
      "image/png": "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",
=======
      "image/png": "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",
>>>>>>> acafdf4 (autopopulate protocol file with labware defined in planning notebook)
      "text/plain": [
       "<Figure size 1008x360 with 2 Axes>"
      ]
     },
     "metadata": {
      "needs_background": "light"
     }
    }
   ],
   "metadata": {}
  },
  {
   "cell_type": "markdown",
   "source": [
    "# Write final files to disk"
   ],
   "metadata": {}
  },
  {
   "cell_type": "markdown",
   "source": [
    "## Plot + save images that map the solution + substrate loading positions"
   ],
   "metadata": {}
  },
  {
   "cell_type": "markdown",
   "source": [
    "Solution map"
   ],
   "metadata": {}
  },
  {
   "cell_type": "code",
<<<<<<< HEAD
   "execution_count": 40,
=======
   "execution_count": 25,
>>>>>>> acafdf4 (autopopulate protocol file with labware defined in planning notebook)
   "source": [
    "ll_with_solutions = [\n",
    "    ll for ll in solution_storage\n",
    "    if len(ll.contents) > 0\n",
    "]\n",
    "\n",
    "fig, ax = plt.subplots(len(ll_with_solutions), 1, figsize=(6,4*len(ll_with_solutions)))\n",
    "try:\n",
    "    ax = ax.flat\n",
    "except:\n",
    "    ax = [ax]\n",
    "for ll, ax_ in zip(ll_with_solutions, ax):\n",
    "    ll.plot(solution_details=solution_details, ax=ax_)\n",
    "plt.savefig(\"solution_map.jpeg\", dpi=150, bbox_inches='tight')"
   ],
   "outputs": [
    {
     "output_type": "display_data",
     "data": {
<<<<<<< HEAD
      "image/png": "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",
=======
      "image/png": "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",
>>>>>>> acafdf4 (autopopulate protocol file with labware defined in planning notebook)
      "text/plain": [
       "<Figure size 432x576 with 2 Axes>"
      ]
     },
     "metadata": {
      "needs_background": "light"
     }
    }
   ],
   "metadata": {}
  },
  {
   "cell_type": "markdown",
   "source": [
    "Substrate map"
   ],
   "metadata": {}
  },
  {
   "cell_type": "code",
   "execution_count": 26,
   "source": [
    "st_with_samples = [\n",
    "    st for st in sample_trays\n",
    "    if len(st.contents) > 0\n",
    "]\n",
    "\n",
    "fig, ax = plt.subplots(len(st_with_samples), 1, figsize=(3,4*len(st_with_samples)))\n",
    "try:\n",
    "    ax = ax.flat\n",
    "except:\n",
    "    ax = [ax]\n",
    "for ll, ax_ in zip(st_with_samples, ax):\n",
    "    ll.plot(ax=ax_)\n",
    "plt.savefig(\"tray_map.jpeg\", dpi=150, bbox_inches='tight')"
   ],
   "outputs": [
    {
     "output_type": "display_data",
     "data": {
      "image/png": "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",
      "text/plain": [
       "<Figure size 216x288 with 1 Axes>"
      ]
     },
     "metadata": {
      "needs_background": "light"
     }
    }
   ],
   "metadata": {}
  },
  {
   "cell_type": "markdown",
   "source": [
    "## Generate protocol for Opentrons liquid handler"
   ],
   "metadata": {}
  },
  {
   "cell_type": "code",
   "execution_count": 27,
   "source": [
    "generate_ot2listenerprotocol(\n",
    "    'Example Output.py',\n",
    "    mixing_netlist= mixing_netlist,\n",
    "    labware=solution_storage,\n",
    "    tipracks=tipracks)\n",
    "    "
   ],
   "outputs": [],
   "metadata": {}
  },
  {
   "cell_type": "markdown",
   "source": [
    "## Maestro netlist to disk, will be input to maestro to execute experiment"
   ],
   "metadata": {}
  },
  {
   "cell_type": "code",
   "execution_count": 28,
   "source": [
    "ordered_task_output = [task.to_dict() for task in ordered_tasks]\n",
    "\n",
    "samples_output = {sample.name:sample.to_dict() for sample in samples}\n",
    "out = {\n",
    "    'samples': samples_output,\n",
    "    'tasks': ordered_task_output,\n",
    "}\n",
    "with open('maestronetlist.json', 'w') as f:\n",
    "    json.dump(out, f, indent=4, sort_keys=True)\n",
    "print('Maestro Netlist dumped to \"maestronetlist.json\"')"
   ],
   "outputs": [
    {
     "output_type": "stream",
     "name": "stdout",
     "text": [
      "Maestro Netlist dumped to \"maestronetlist.json\"\n"
     ]
    }
   ],
   "metadata": {}
  },
  {
   "cell_type": "markdown",
   "source": [
    "## Solution Instructions to csv, tells operator where/how much to put solutions"
   ],
   "metadata": {}
  },
  {
   "cell_type": "code",
   "execution_count": 29,
   "source": [
    "with open('stock_solutions.csv', 'w', newline='') as f:\n",
    "    writer = csv.writer(f, delimiter=',')\n",
    "    header = [\n",
    "        'Labware',\n",
    "        'Well',\n",
    "        'Volume (uL)',\n",
    "        'Solutes',\n",
    "        'Molarity (M)',\n",
    "        'Solvent',        \n",
    "    ]\n",
    "    writer.writerow(header)\n",
    "    for solution, details in solution_details.items():\n",
    "        volume = details['initial_volume_required']\n",
    "        if volume == 0:\n",
    "            volume = 'Empty Vial'\n",
    "        line = [\n",
    "            details['labware'],\n",
    "            details['well'],\n",
    "            volume,\n",
    "            solution.solutes,\n",
    "            solution.molarity,\n",
    "            solution.solvent,\n",
    "        ]\n",
    "        writer.writerow(line)"
   ],
   "outputs": [],
   "metadata": {}
  }
 ],
 "metadata": {
  "kernelspec": {
   "name": "python3",
   "display_name": "Python 3.8.0 64-bit ('pascal': conda)"
  },
  "language_info": {
   "codemirror_mode": {
    "name": "ipython",
    "version": 3
   },
   "file_extension": ".py",
   "mimetype": "text/x-python",
   "name": "python",
   "nbconvert_exporter": "python",
   "pygments_lexer": "ipython3",
   "version": "3.8.0"
  },
  "interpreter": {
   "hash": "e550aae00514e232b011b8daa9c111018f6799cbdd6b2b8c856d7d4b57330518"
  }
 },
 "nbformat": 4,
 "nbformat_minor": 5
}