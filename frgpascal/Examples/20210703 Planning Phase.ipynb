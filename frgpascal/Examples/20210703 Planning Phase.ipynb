{
 "cells": [
  {
   "cell_type": "code",
   "execution_count": 1,
   "source": [
    "import numpy as np\n",
    "import csv\n",
    "%matplotlib inline\n",
    "import pandas as pd\n",
    "from frgpascal.hardware.sampletray import SampleTray, AVAILABLE_VERSIONS as sampletray_versions\n",
    "from frgpascal.hardware.liquidlabware import LiquidLabware, AVAILABLE_VERSIONS as liquid_labware_versions\n",
    "from frgpascal.hardware.hotplate import AVAILABLE_VERSIONS as hotplate_versions\n",
    "from frgpascal.experimentaldesign.helpers import build_sample_list, plot_tray, handle_liquids, samples_to_dataframe\n",
    "from frgpascal.experimentaldesign.tasks import *\n",
    "from frgpascal.experimentaldesign.scheduler import Scheduler\n",
    "from frgpascal.experimentaldesign.protocolwriter import generate_ot2listenerprotocol"
   ],
   "outputs": [],
   "metadata": {}
  },
  {
   "cell_type": "markdown",
   "source": [
    "------"
   ],
   "metadata": {}
  },
  {
   "cell_type": "markdown",
   "source": [
    "# Define hardware for this experiment"
   ],
   "metadata": {}
  },
  {
   "cell_type": "code",
   "execution_count": 2,
   "source": [
    "print('Available Sample Tray Versions:')\n",
    "for v in sampletray_versions:\n",
    "    print(f'\\t{v}')\n",
    "\n",
    "print('\\nAvailable Liquid Labwares:')\n",
    "for v in liquid_labware_versions:\n",
    "    print(f'\\t{v}')"
   ],
   "outputs": [
    {
     "output_type": "stream",
     "name": "stdout",
     "text": [
      "Available Sample Tray Versions:\n",
      "\tstorage_v3\n",
      "\tstorage_v2\n",
      "\tstorage_v1\n",
      "\n",
      "Available Liquid Labwares:\n",
      "\tfrg_12_wellplate_15000ul\n",
      "\tsartorius_safetyspace_tiprack_200ul\n",
      "\tgreiner_96_wellplate_360ul\n",
      "\tfrg_spincoater_v1\n",
      "\tfrg_24_wellplate_4000ul\n"
     ]
    }
   ],
   "metadata": {}
  },
  {
   "cell_type": "markdown",
   "source": [
    "## Sample Storage Trays\n",
    "These are the trays used to load samples in/out of the glovebox"
   ],
   "metadata": {}
  },
  {
   "cell_type": "code",
   "execution_count": 3,
   "source": [
    "sample_trays = [\n",
    "    SampleTray(\n",
    "        name='Tray1',\n",
    "        version='storage_v1',\n",
    "        gantry=None,\n",
    "        gripper=None,\n",
    "        p0=[0,0,0]\n",
    "    ),\n",
    "    SampleTray(\n",
    "        name='Tray2',\n",
    "        version='storage_v1',\n",
    "        gantry=None,\n",
    "        gripper=None,\n",
    "        p0=[0,0,0]\n",
    "    )\n",
    "]"
   ],
   "outputs": [],
   "metadata": {}
  },
  {
   "cell_type": "markdown",
   "source": [
    "## Liquid Labware \n",
    "\n",
    "Include _all possible_ liquid storage. Later on we will narrow this down to what is required once we know what solutions and volumes we need\n",
    "\n",
    "Versions are defined by the same json files used to define custom labware for the Opentrons2 liquid handler. \n",
    "New labware can be defined by following https://support.opentrons.com/en/articles/3136504-creating-custom-labware-definitions"
   ],
   "metadata": {}
  },
  {
   "cell_type": "code",
   "execution_count": 4,
   "source": [
    "solution_storage = [\n",
    "    LiquidLabware(\n",
    "        name='96_Plate1',\n",
    "        version='greiner_96_wellplate_360ul'\n",
    "    ),\n",
    "    # LiquidLabware(\n",
    "    #     name='96_Plate2',\n",
    "    #     version='greiner_96_wellplate_360ul'\n",
    "    # ),\n",
    "    LiquidLabware(\n",
    "        name='4mL_Tray1',\n",
    "        version='frg_24_wellplate_4000ul'\n",
    "    ),\n",
    "    # LiquidLabware(\n",
    "    #     name='4mL_Tray2',\n",
    "    #     version='frg_24_wellplate_4000ul'\n",
    "    # ),\n",
    "    LiquidLabware(\n",
    "        name='15mL_Tray1',\n",
    "        version='frg_12_wellplate_15000ul'   \n",
    "    ),\n",
    "    # LiquidLabware(\n",
    "    #     name='15m_Tray2',\n",
    "    #     version='frg_12_wellplate_15000ul'\n",
    "    # ),\n",
    "]\n",
    "\n",
    "#sort by volume,name\n",
    "solution_storage.sort(key=lambda labware: labware.name)\n",
    "solution_storage.sort(key=lambda labware: labware.volume)\n",
    "print('Priority Fill Order:')\n",
    "for ss in solution_storage: print(ss)"
   ],
   "outputs": [
    {
     "output_type": "stream",
     "name": "stdout",
     "text": [
      "Priority Fill Order:\n",
      "<LiquidLabware> 96_Plate1, 0.36 mL volume, 96 wells\n",
      "<LiquidLabware> 4mL_Tray1, 4.0 mL volume, 24 wells\n",
      "<LiquidLabware> 15mL_Tray1, 15.0 mL volume, 12 wells\n"
     ]
    }
   ],
   "metadata": {}
  },
  {
   "cell_type": "markdown",
   "source": [
    "-----"
   ],
   "metadata": {}
  },
  {
   "cell_type": "markdown",
   "source": [
    "# Define Experimental Mesh\n",
    "\n",
    "Each of the following cells defines one dimension of the experiment. After defining the individual dimensions, a full sample list will be constructed using a user-selected Design of Expeiment (DOE)"
   ],
   "metadata": {}
  },
  {
   "cell_type": "markdown",
   "source": [
    "## List of unique substrates that will be loaded to start the experiment.\n",
    "These are just strings to describe the substrate "
   ],
   "metadata": {}
  },
  {
   "cell_type": "code",
   "execution_count": 5,
   "source": [
    "input_substrates = [\n",
    "    '2mm_FTO'\n",
    "]"
   ],
   "outputs": [],
   "metadata": {}
  },
  {
   "cell_type": "markdown",
   "source": [
    "## Solutions to spincast. \n",
    "\n",
    "Solutions are defined using `Solution` class instances.\n",
    "\n",
    "Chemical formula is defined with underscores between each component. If no coefficient is provided, assumes =1. Example:\n",
    "\n",
    "``` \n",
    "SolutionRecipe(\n",
    "        solutes='MA_Pb_I3',\n",
    "        solvent='DMF9_DMSO1',\n",
    "        molarity=1\n",
    "    )\n",
    "```\n",
    "\n",
    "Antisolvents are also defined using `Solution` class instances. Solutes are left empty, and molarity is unused so can be left as 1/whatever number you like.\n",
    "\n",
    "Example:\n",
    "``` \n",
    "Solution(\n",
    "        solutes='',\n",
    "        solvent='Chlorobenzene',\n",
    "        molarity=1\n",
    "    )\n",
    "```\n",
    "\n",
    "Solutions that will be interchanged (for example, different absorber solutions for compositional search) should be stored in a list. This list will be used later to permute sample process variables\n"
   ],
   "metadata": {}
  },
  {
   "cell_type": "code",
   "execution_count": 6,
   "source": [
    "absorber_solutions = [\n",
    "    Solution(\n",
    "        solutes='MA_Pb_I3',\n",
    "        solvent='DMF9_DMSO1',\n",
    "        molarity=1\n",
    "    ),\n",
    "    Solution(\n",
    "        solutes='FA_Pb_I3',\n",
    "        solvent='DMF9_DMSO1',\n",
    "        molarity=1\n",
    "    ),\n",
    "    # Solution(\n",
    "    #     solutes='FA0.25_MA0.75_Pb_I3',\n",
    "    #     solvent='DMF9_DMSO1',\n",
    "    #     molarity=1\n",
    "    # ),\n",
    "    # Solution(\n",
    "    #     solutes='FA0.75_MA0.25_Pb_I3',\n",
    "    #     solvent='DMF9_DMSO1',\n",
    "    #     molarity=1\n",
    "    # ),\n",
    "    # Solution(\n",
    "    #     solutes='MA0.5_FA0.5_Pb_I3',\n",
    "    #     solvent='DMF9_DMSO1',\n",
    "    #     molarity=1\n",
    "    # ),\n",
    "]\n"
   ],
   "outputs": [],
   "metadata": {}
  },
  {
   "cell_type": "code",
   "execution_count": 7,
   "source": [
    "antisolvents = [\n",
    "    Solution(\n",
    "        solvent='Chlorobenzene',\n",
    "    ),\n",
    "    Solution(\n",
    "        solvent='MethylAcetate',\n",
    "    )\n",
    "]"
   ],
   "outputs": [],
   "metadata": {}
  },
  {
   "cell_type": "code",
   "execution_count": 8,
   "source": [
    "solution_spiro = Solution(\n",
    "    solutes='spiro',\n",
    "    solvent='IPA',\n",
    "    molarity=1\n",
    ")"
   ],
   "outputs": [],
   "metadata": {}
  },
  {
   "cell_type": "markdown",
   "source": [
    "## Spincoating Recipes\n",
    "\n",
    "\n",
    "Spincoating recipes are defined using the `Spincoat` object. This takes two arguments: `steps`,a nested list of [speed, acceleration, duration] spin steps, and `drops`, a list of `Drop` objects that capture the details of each solution drop during spincoating. \n",
    "\n",
    "```\n",
    "Spincoat(\n",
    "        steps=[\n",
    "            [500,1000,20], #speed (rpm), acceleration (rpm/s), duration (s)\n",
    "            [4000,4000,30]\n",
    "        ],\n",
    "        drops=[\n",
    "            Drop(\n",
    "                solution=target_solutions[0],\n",
    "                volume=20, # uL\n",
    "                time=5, # seconds from start of spincoating\n",
    "                height=2, # mm above substrate to dispense from, optional\n",
    "                rate=50, # dispense rate (uL/sec), optional\n",
    "            ),\n",
    "            Drop(\n",
    "                solution=cb_antisolvent,\n",
    "                volume=50,\n",
    "                time=30\n",
    "            )\n",
    "        ]\n",
    "    )\n",
    "```\n",
    "\n",
    "often we will be using many solutions with the same spincoating recipe. In these cases, the `solution` argument of a `Drop` object can just be a string. This string can be substituted by a list of solutions at the final step. Example:\n",
    "\n",
    "```\n",
    "spincoat_recipes = [\n",
    "    Spincoat(\n",
    "        steps=[\n",
    "            [500,1000,20], #speed (rpm), acceleration (rpm/s), duration (s)\n",
    "            [4000,4000,30]\n",
    "        ],\n",
    "        drops = [\n",
    "            Drop(\n",
    "                solution='psk_solution', # we will fill any Drop solutions labeled as 'psk_solution' later\n",
    "                volume=20,\n",
    "                time=5\n",
    "            ),\n",
    "            Drop(\n",
    "                solution=cb_antisolvent,\n",
    "                volume=50,\n",
    "                time=40\n",
    "            )\n",
    "        ]\n",
    "    ),\n",
    "```"
   ],
   "metadata": {}
  },
  {
   "cell_type": "markdown",
   "source": [
    "#### Defining spincoating parameters"
   ],
   "metadata": {}
  },
  {
   "cell_type": "code",
   "execution_count": 9,
   "source": [
    "absorber_spincoat_recipes = [\n",
    "    Spincoat(\n",
    "        steps=[\n",
    "            [500,1000,20], #speed (rpm), acceleration (rpm/s), duration (s)\n",
    "            [4000,4000,30]\n",
    "        ],\n",
    "        drops = [\n",
    "            Drop(\n",
    "                solution='psk_solution',  #this will be filled later using the list of psk solutions\n",
    "                volume=20,\n",
    "                time=5\n",
    "            ),\n",
    "            Drop(\n",
    "                solution='antisolvent', #this will similarly be filled later\n",
    "                volume=50,\n",
    "                time=40,\n",
    "            )\n",
    "        ]\n",
    "    ),\n",
    "    Spincoat(\n",
    "        steps=[\n",
    "            [500,1000,20], #speed (rpm), acceleration (rpm/s), duration (s)\n",
    "            [4000,4000,30]\n",
    "        ],\n",
    "        drops = [\n",
    "            Drop(\n",
    "                solution='psk_solution',\n",
    "                volume=20,\n",
    "                time=-1\n",
    "            ),\n",
    "            Drop(\n",
    "                solution='antisolvent',\n",
    "                volume=50,\n",
    "                time=40,\n",
    "            )\n",
    "        ]\n",
    "    ),\n",
    "]"
   ],
   "outputs": [],
   "metadata": {}
  },
  {
   "cell_type": "code",
   "execution_count": 10,
   "source": [
    "spincoat_spiro = Spincoat(\n",
    "    steps=[\n",
    "        [500,1000,20], #speed (rpm), acceleration (rpm/s), duration (s)\n",
    "        [4000,4000,30]\n",
    "    ],\n",
    "    drops = [\n",
    "        Drop(\n",
    "            solution=solution_spiro,\n",
    "            volume=20,\n",
    "            time=5\n",
    "        ),\n",
    "    ],\n",
    ")\n",
    "        "
   ],
   "outputs": [],
   "metadata": {}
  },
  {
   "cell_type": "markdown",
   "source": [
    "## Annealing Conditions\n",
    "Annealing conditions are defined as a list of `Anneal` class instances. Only two parameters - temperature (C) and duration (s)\n",
    "\n",
    "Example:\n",
    "``` \n",
    "    Anneal(\n",
    "        temperature=100, #degrees C\n",
    "        duration=60*60, #seconds\n",
    "    ),\n",
    "```"
   ],
   "metadata": {}
  },
  {
   "cell_type": "code",
   "execution_count": 11,
   "source": [
    "anneal_recipes = [\n",
    "    Anneal(\n",
    "        temperature=100, #degrees C\n",
    "        duration=10*60, #seconds\n",
    "    ),\n",
    "    Anneal(\n",
    "        temperature=100, #degrees C\n",
    "        duration=15*60, #seconds\n",
    "    ),\n",
    "]\n",
    "\n",
    "anneal_spiro = Anneal(\n",
    "    temperature=100, #degrees C\n",
    "    duration=10*60, #seconds\n",
    ")"
   ],
   "outputs": [],
   "metadata": {}
  },
  {
   "cell_type": "markdown",
   "source": [
    "-----"
   ],
   "metadata": {}
  },
  {
   "cell_type": "markdown",
   "source": [
    "# Design of Experiment\n",
    "\n",
    "We will input all the values defined above into `build_sample_list` to generate a sample list. Currently only a full-factorial design is implemented. \n",
    "The arguments for `build_sample_list` are as follows:\n",
    "- `input_substrates`: list of substrates (strings) describing the unique starting substrates\n",
    "- `steps`: worklist of process steps (`Spincoat`, `Anneal`, `Rest`, or `Characterize`) **in desired order of completion**. Each of the list elements can be a single step (if the step does not change across samples), or a list of steps of the same kind (for example, a list of spincoat variations)\n",
    "- `solution_mesh`: a dictionary used to fill in solution placeholders in `Drop` objects. Keys should match the placeholder strings, and values should be lists of `Solution` objects to put into the `Drop` object.\n",
    "- `n_repeats`: number of duplicates to run for each unique worklist\n",
    "\n",
    "arguments are lists defined above, and n_repeats is the number of times to repeat each unique combination of conditions"
   ],
   "metadata": {}
  },
  {
   "cell_type": "code",
   "execution_count": 12,
   "source": [
    "samples = build_sample_list(\n",
    "    available_trays = sample_trays,\n",
    "    input_substrates = input_substrates,\n",
    "    steps = [\n",
    "        absorber_spincoat_recipes, #list of absorber `Spincoat` variations\n",
    "        anneal_recipes, #list of `Anneal` variations\n",
    "        Rest(300), #move the sample to the sample tray for at least 300 seconds\n",
    "        Characterize(), #characterize the sample\n",
    "        Rest(1),\n",
    "        spincoat_spiro, #the one spincoat recipe for spiro\n",
    "        anneal_spiro,\n",
    "    ],\n",
    "    solution_mesh=dict(\n",
    "        psk_solution=absorber_solutions,\n",
    "        antisolvent=antisolvents\n",
    "    ),\n",
    "    n_repeats=1\n",
    ")\n",
    "print(len(samples))"
   ],
   "outputs": [
    {
     "output_type": "stream",
     "name": "stdout",
     "text": [
      "16\n"
     ]
    }
   ],
   "metadata": {}
  },
  {
   "cell_type": "code",
   "execution_count": 13,
   "source": [
    "df = samples_to_dataframe(samples)\n",
    "df.head()"
   ],
   "outputs": [
    {
     "output_type": "execute_result",
     "data": {
      "text/html": [
       "<div>\n",
       "<style scoped>\n",
       "    .dataframe tbody tr th:only-of-type {\n",
       "        vertical-align: middle;\n",
       "    }\n",
       "\n",
       "    .dataframe tbody tr th {\n",
       "        vertical-align: top;\n",
       "    }\n",
       "\n",
       "    .dataframe thead th {\n",
       "        text-align: right;\n",
       "    }\n",
       "</style>\n",
       "<table border=\"1\" class=\"dataframe\">\n",
       "  <thead>\n",
       "    <tr style=\"text-align: right;\">\n",
       "      <th></th>\n",
       "      <th>name</th>\n",
       "      <th>storage_tray</th>\n",
       "      <th>storage_slot</th>\n",
       "      <th>worklist</th>\n",
       "      <th>spincoat0_steps</th>\n",
       "      <th>spincoat0_duration</th>\n",
       "      <th>spincoat0_drop0_solutes</th>\n",
       "      <th>spincoat0_drop0_solvent</th>\n",
       "      <th>spincoat0_drop0_molarity</th>\n",
       "      <th>spincoat0_drop0_time</th>\n",
       "      <th>...</th>\n",
       "      <th>spincoat1_steps</th>\n",
       "      <th>spincoat1_duration</th>\n",
       "      <th>spincoat1_drop0_solutes</th>\n",
       "      <th>spincoat1_drop0_solvent</th>\n",
       "      <th>spincoat1_drop0_molarity</th>\n",
       "      <th>spincoat1_drop0_time</th>\n",
       "      <th>spincoat1_drop0_height</th>\n",
       "      <th>spincoat1_drop0_rate</th>\n",
       "      <th>anneal1_temperature</th>\n",
       "      <th>anneal1_duration</th>\n",
       "    </tr>\n",
       "  </thead>\n",
       "  <tbody>\n",
       "    <tr>\n",
       "      <th>0</th>\n",
       "      <td>sample0</td>\n",
       "      <td>Tray1</td>\n",
       "      <td>A1</td>\n",
       "      <td>[{'sample': 'sample0', 'start': nan, 'task': '...</td>\n",
       "      <td>[{'rpm': 500.0, 'acceleration': 1000.0, 'durat...</td>\n",
       "      <td>92</td>\n",
       "      <td>MA_Pb_I3</td>\n",
       "      <td>DMF9_DMSO1</td>\n",
       "      <td>1</td>\n",
       "      <td>5</td>\n",
       "      <td>...</td>\n",
       "      <td>[{'rpm': 500.0, 'acceleration': 1000.0, 'durat...</td>\n",
       "      <td>68</td>\n",
       "      <td>spiro</td>\n",
       "      <td>IPA</td>\n",
       "      <td>1</td>\n",
       "      <td>5</td>\n",
       "      <td>2</td>\n",
       "      <td>50</td>\n",
       "      <td>100</td>\n",
       "      <td>600</td>\n",
       "    </tr>\n",
       "    <tr>\n",
       "      <th>1</th>\n",
       "      <td>sample1</td>\n",
       "      <td>Tray1</td>\n",
       "      <td>A2</td>\n",
       "      <td>[{'sample': 'sample1', 'start': nan, 'task': '...</td>\n",
       "      <td>[{'rpm': 500.0, 'acceleration': 1000.0, 'durat...</td>\n",
       "      <td>92</td>\n",
       "      <td>MA_Pb_I3</td>\n",
       "      <td>DMF9_DMSO1</td>\n",
       "      <td>1</td>\n",
       "      <td>5</td>\n",
       "      <td>...</td>\n",
       "      <td>[{'rpm': 500.0, 'acceleration': 1000.0, 'durat...</td>\n",
       "      <td>68</td>\n",
       "      <td>spiro</td>\n",
       "      <td>IPA</td>\n",
       "      <td>1</td>\n",
       "      <td>5</td>\n",
       "      <td>2</td>\n",
       "      <td>50</td>\n",
       "      <td>100</td>\n",
       "      <td>600</td>\n",
       "    </tr>\n",
       "    <tr>\n",
       "      <th>2</th>\n",
       "      <td>sample2</td>\n",
       "      <td>Tray1</td>\n",
       "      <td>A3</td>\n",
       "      <td>[{'sample': 'sample2', 'start': nan, 'task': '...</td>\n",
       "      <td>[{'rpm': 500.0, 'acceleration': 1000.0, 'durat...</td>\n",
       "      <td>92</td>\n",
       "      <td>FA_Pb_I3</td>\n",
       "      <td>DMF9_DMSO1</td>\n",
       "      <td>1</td>\n",
       "      <td>5</td>\n",
       "      <td>...</td>\n",
       "      <td>[{'rpm': 500.0, 'acceleration': 1000.0, 'durat...</td>\n",
       "      <td>68</td>\n",
       "      <td>spiro</td>\n",
       "      <td>IPA</td>\n",
       "      <td>1</td>\n",
       "      <td>5</td>\n",
       "      <td>2</td>\n",
       "      <td>50</td>\n",
       "      <td>100</td>\n",
       "      <td>600</td>\n",
       "    </tr>\n",
       "    <tr>\n",
       "      <th>3</th>\n",
       "      <td>sample3</td>\n",
       "      <td>Tray1</td>\n",
       "      <td>A4</td>\n",
       "      <td>[{'sample': 'sample3', 'start': nan, 'task': '...</td>\n",
       "      <td>[{'rpm': 500.0, 'acceleration': 1000.0, 'durat...</td>\n",
       "      <td>92</td>\n",
       "      <td>FA_Pb_I3</td>\n",
       "      <td>DMF9_DMSO1</td>\n",
       "      <td>1</td>\n",
       "      <td>5</td>\n",
       "      <td>...</td>\n",
       "      <td>[{'rpm': 500.0, 'acceleration': 1000.0, 'durat...</td>\n",
       "      <td>68</td>\n",
       "      <td>spiro</td>\n",
       "      <td>IPA</td>\n",
       "      <td>1</td>\n",
       "      <td>5</td>\n",
       "      <td>2</td>\n",
       "      <td>50</td>\n",
       "      <td>100</td>\n",
       "      <td>600</td>\n",
       "    </tr>\n",
       "    <tr>\n",
       "      <th>4</th>\n",
       "      <td>sample4</td>\n",
       "      <td>Tray1</td>\n",
       "      <td>A5</td>\n",
       "      <td>[{'sample': 'sample4', 'start': nan, 'task': '...</td>\n",
       "      <td>[{'rpm': 500.0, 'acceleration': 1000.0, 'durat...</td>\n",
       "      <td>92</td>\n",
       "      <td>MA_Pb_I3</td>\n",
       "      <td>DMF9_DMSO1</td>\n",
       "      <td>1</td>\n",
       "      <td>5</td>\n",
       "      <td>...</td>\n",
       "      <td>[{'rpm': 500.0, 'acceleration': 1000.0, 'durat...</td>\n",
       "      <td>68</td>\n",
       "      <td>spiro</td>\n",
       "      <td>IPA</td>\n",
       "      <td>1</td>\n",
       "      <td>5</td>\n",
       "      <td>2</td>\n",
       "      <td>50</td>\n",
       "      <td>100</td>\n",
       "      <td>600</td>\n",
       "    </tr>\n",
       "  </tbody>\n",
       "</table>\n",
       "<p>5 rows × 34 columns</p>\n",
       "</div>"
      ],
      "text/plain": [
       "      name storage_tray storage_slot  \\\n",
       "0  sample0        Tray1           A1   \n",
       "1  sample1        Tray1           A2   \n",
       "2  sample2        Tray1           A3   \n",
       "3  sample3        Tray1           A4   \n",
       "4  sample4        Tray1           A5   \n",
       "\n",
       "                                            worklist  \\\n",
       "0  [{'sample': 'sample0', 'start': nan, 'task': '...   \n",
       "1  [{'sample': 'sample1', 'start': nan, 'task': '...   \n",
       "2  [{'sample': 'sample2', 'start': nan, 'task': '...   \n",
       "3  [{'sample': 'sample3', 'start': nan, 'task': '...   \n",
       "4  [{'sample': 'sample4', 'start': nan, 'task': '...   \n",
       "\n",
       "                                     spincoat0_steps  spincoat0_duration  \\\n",
       "0  [{'rpm': 500.0, 'acceleration': 1000.0, 'durat...                  92   \n",
       "1  [{'rpm': 500.0, 'acceleration': 1000.0, 'durat...                  92   \n",
       "2  [{'rpm': 500.0, 'acceleration': 1000.0, 'durat...                  92   \n",
       "3  [{'rpm': 500.0, 'acceleration': 1000.0, 'durat...                  92   \n",
       "4  [{'rpm': 500.0, 'acceleration': 1000.0, 'durat...                  92   \n",
       "\n",
       "  spincoat0_drop0_solutes spincoat0_drop0_solvent  spincoat0_drop0_molarity  \\\n",
       "0                MA_Pb_I3              DMF9_DMSO1                         1   \n",
       "1                MA_Pb_I3              DMF9_DMSO1                         1   \n",
       "2                FA_Pb_I3              DMF9_DMSO1                         1   \n",
       "3                FA_Pb_I3              DMF9_DMSO1                         1   \n",
       "4                MA_Pb_I3              DMF9_DMSO1                         1   \n",
       "\n",
       "   spincoat0_drop0_time  ...  \\\n",
       "0                     5  ...   \n",
       "1                     5  ...   \n",
       "2                     5  ...   \n",
       "3                     5  ...   \n",
       "4                     5  ...   \n",
       "\n",
       "                                     spincoat1_steps  spincoat1_duration  \\\n",
       "0  [{'rpm': 500.0, 'acceleration': 1000.0, 'durat...                  68   \n",
       "1  [{'rpm': 500.0, 'acceleration': 1000.0, 'durat...                  68   \n",
       "2  [{'rpm': 500.0, 'acceleration': 1000.0, 'durat...                  68   \n",
       "3  [{'rpm': 500.0, 'acceleration': 1000.0, 'durat...                  68   \n",
       "4  [{'rpm': 500.0, 'acceleration': 1000.0, 'durat...                  68   \n",
       "\n",
       "  spincoat1_drop0_solutes spincoat1_drop0_solvent  spincoat1_drop0_molarity  \\\n",
       "0                   spiro                     IPA                         1   \n",
       "1                   spiro                     IPA                         1   \n",
       "2                   spiro                     IPA                         1   \n",
       "3                   spiro                     IPA                         1   \n",
       "4                   spiro                     IPA                         1   \n",
       "\n",
       "   spincoat1_drop0_time  spincoat1_drop0_height  spincoat1_drop0_rate  \\\n",
       "0                     5                       2                    50   \n",
       "1                     5                       2                    50   \n",
       "2                     5                       2                    50   \n",
       "3                     5                       2                    50   \n",
       "4                     5                       2                    50   \n",
       "\n",
       "   anneal1_temperature  anneal1_duration  \n",
       "0                  100               600  \n",
       "1                  100               600  \n",
       "2                  100               600  \n",
       "3                  100               600  \n",
       "4                  100               600  \n",
       "\n",
       "[5 rows x 34 columns]"
      ]
     },
     "metadata": {},
     "execution_count": 13
    }
   ],
   "metadata": {}
  },
  {
   "cell_type": "markdown",
   "source": [
    "-----"
   ],
   "metadata": {}
  },
  {
   "cell_type": "markdown",
   "source": [
    "# Preparing the Solutions"
   ],
   "metadata": {}
  },
  {
   "cell_type": "markdown",
   "source": [
    "## Define Stock Solutions\n",
    "\n",
    "These are the solutions that you will be mixing to (hopefully) cover your target solutions. If they don't work, the code will tell you, and you can come back to this point and try again."
   ],
   "metadata": {}
  },
  {
   "cell_type": "code",
   "execution_count": 14,
   "source": [
    "stock_solutions = [\n",
    "    Solution(\n",
    "        solutes='MA_Pb_I3',\n",
    "        solvent='DMF9_DMSO1',\n",
    "        molarity=1\n",
    "    ),\n",
    "    Solution(\n",
    "        solutes='FA_Pb_I3',\n",
    "        solvent='DMF9_DMSO1',\n",
    "        molarity=1\n",
    "    ),\n",
    "    Solution(\n",
    "        solvent='DMF',\n",
    "    ),\n",
    "    Solution(\n",
    "        solvent='DMSO',\n",
    "    ),\n",
    "    Solution(\n",
    "        solvent='Chlorobenzene',\n",
    "    ),\n",
    "    Solution(\n",
    "        solvent='MethylAcetate',\n",
    "    ),\n",
    "    Solution(\n",
    "        solutes='spiro',\n",
    "        solvent='IPA',\n",
    "        molarity=1\n",
    "    ),\n",
    "]"
   ],
   "outputs": [],
   "metadata": {}
  },
  {
   "cell_type": "markdown",
   "source": [
    "Can we cover target solutions with these stocks? and if so, how much of each stock to mix for each target?\n",
    "\n",
    "This will throw an error if the stock solutions are not able to cover our experiment"
   ],
   "metadata": {}
  },
  {
   "cell_type": "code",
   "execution_count": null,
   "source": [
    "import mixsol as mx"
   ],
   "outputs": [],
   "metadata": {}
  },
  {
   "cell_type": "code",
   "execution_count": null,
   "source": [
    "from importlib import reload\n",
    "reload(mx)"
   ],
   "outputs": [
    {
     "output_type": "display_data",
     "data": {
      "text/plain": [
       "<module 'mixsol' from '/Users/rishi/GitHub/mixsol/mixsol/__init__.py'>"
      ]
     },
     "metadata": {}
    }
   ],
   "metadata": {}
  },
  {
   "cell_type": "code",
   "execution_count": null,
   "source": [
    "def pascal_to_mixsol(solution:Solution):\n",
    "    return mx.Solution(\n",
    "            solutes=solution.solutes,\n",
    "            solvent=solution.solvent,\n",
    "            molarity=solution.molarity\n",
    "        )"
   ],
   "outputs": [],
   "metadata": {}
  },
  {
   "cell_type": "code",
   "execution_count": null,
   "source": [
    "required_solutions = {}\n",
    "for s in samples:\n",
    "    for task in s.worklist:\n",
    "        if isinstance(task, Spincoat):\n",
    "            for d in task.drops:\n",
    "                sol =  pascal_to_mixsol(d.solution)\n",
    "                if sol in required_solutions:\n",
    "                    required_solutions[sol] += d.volume\n",
    "                else:\n",
    "                    required_solutions[sol] = d.volume"
   ],
   "outputs": [],
   "metadata": {}
  },
  {
   "cell_type": "code",
   "execution_count": null,
   "source": [
    "mixer = mx.Mixer(\n",
    "    stock_solutions=[pascal_to_mixsol(s) for s in stock_solutions],\n",
    "    targets=required_solutions\n",
    ")"
   ],
   "outputs": [],
   "metadata": {}
  },
  {
   "cell_type": "code",
   "execution_count": null,
   "source": [
    "mixer.solve(min_volume=20)"
   ],
   "outputs": [],
   "metadata": {}
  },
  {
   "cell_type": "code",
   "execution_count": null,
   "source": [
    "mixer.print()"
   ],
   "outputs": [
    {
     "output_type": "stream",
     "name": "stdout",
     "text": [
      "===== Stock Prep =====\n",
      "320.00 of 1M spiro in IPA\n",
      "160.00 of 1M FA_Pb_I3 in DMF9_DMSO1\n",
      "160.00 of 1M MA_Pb_I3 in DMF9_DMSO1\n",
      "400.00 of Chlorobenzene\n",
      "400.00 of MethylAcetate\n"
     ]
    }
   ],
   "metadata": {}
  },
  {
   "cell_type": "code",
   "execution_count": 22,
   "source": [
    "solution_details, mixing_netlist = handle_liquids(\n",
    "    samples, \n",
    "    stock_solutions= stock_solutions,\n",
    "    solution_storage = solution_storage\n",
    "    )"
   ],
   "outputs": [
    {
     "output_type": "stream",
     "name": "stdout",
     "text": [
      "5 unique solutions required across 16 planned samples\n"
     ]
    }
   ],
   "metadata": {}
  },
  {
   "cell_type": "markdown",
   "source": [
    "-----"
   ],
   "metadata": {}
  },
  {
   "cell_type": "markdown",
   "source": [
    "# Build the Experiment Schedule + Save Worklist"
   ],
   "metadata": {}
  },
  {
   "cell_type": "code",
   "execution_count": 23,
   "source": [
    "scheduler = Scheduler(\n",
    "    samples=samples,\n",
    "    spanning_tasks = [\"characterize\", \"spincoat\"], #these tasks spanning each pair must be done in sequence per sample\n",
    "    enforce_sample_order=False\n",
    ")\n",
    "ordered_tasks = scheduler.solve(2) #argument defines how long (s) to work on finding a solution\n",
    "plt.savefig('Experiment Schedule', dpi=300, bbox_inches='tight')"
   ],
   "outputs": [
    {
     "output_type": "stream",
     "name": "stdout",
     "text": [
      "solution status: FEASIBLE\n"
     ]
    },
    {
     "output_type": "display_data",
     "data": {
      "image/png": "[encoded data removed]",
      "text/plain": [
       "<Figure size 1008x360 with 2 Axes>"
      ]
     },
     "metadata": {
      "needs_background": "light"
     }
    }
   ],
   "metadata": {}
  },
  {
   "cell_type": "markdown",
   "source": [
    "# Write final files to disk"
   ],
   "metadata": {}
  },
  {
   "cell_type": "markdown",
   "source": [
    "## Plot + save images that map the solution + substrate loading positions"
   ],
   "metadata": {}
  },
  {
   "cell_type": "markdown",
   "source": [
    "Solution map"
   ],
   "metadata": {}
  },
  {
   "cell_type": "code",
   "execution_count": 24,
   "source": [
    "ll_with_solutions = [\n",
    "    ll for ll in solution_storage\n",
    "    if len(ll.contents) > 0\n",
    "]\n",
    "\n",
    "fig, ax = plt.subplots(len(ll_with_solutions), 1, figsize=(6,4*len(ll_with_solutions)))\n",
    "try:\n",
    "    ax = ax.flat\n",
    "except:\n",
    "    ax = [ax]\n",
    "for ll, ax_ in zip(ll_with_solutions, ax):\n",
    "    ll.plot(solution_details=solution_details, ax=ax_)\n",
    "plt.savefig(\"solution_map.jpeg\", dpi=150, bbox_inches='tight')"
   ],
   "outputs": [
    {
     "output_type": "display_data",
     "data": {
      "image/png": "[encoded data removed]",
      "text/plain": [
       "<Figure size 432x576 with 2 Axes>"
      ]
     },
     "metadata": {
      "needs_background": "light"
     }
    }
   ],
   "metadata": {}
  },
  {
   "cell_type": "markdown",
   "source": [
    "Substrate map"
   ],
   "metadata": {}
  },
  {
   "cell_type": "code",
   "execution_count": 25,
   "source": [
    "st_with_samples = [\n",
    "    st for st in sample_trays\n",
    "    if len(st.contents) > 0\n",
    "]\n",
    "\n",
    "fig, ax = plt.subplots(len(st_with_samples), 1, figsize=(3,4*len(st_with_samples)))\n",
    "try:\n",
    "    ax = ax.flat\n",
    "except:\n",
    "    ax = [ax]\n",
    "for ll, ax_ in zip(st_with_samples, ax):\n",
    "    ll.plot(ax=ax_)\n",
    "plt.savefig(\"tray_map.jpeg\", dpi=150, bbox_inches='tight')"
   ],
   "outputs": [
    {
     "output_type": "display_data",
     "data": {
      "image/png": "[encoded data removed]",
      "text/plain": [
       "<Figure size 216x288 with 1 Axes>"
      ]
     },
     "metadata": {
      "needs_background": "light"
     }
    }
   ],
   "metadata": {}
  },
  {
   "cell_type": "markdown",
   "source": [
    "## Write mixing netlist to disk, will be copy-pasted into listener.py protocol"
   ],
   "metadata": {}
  },
  {
   "cell_type": "code",
   "execution_count": 26,
   "source": [
    "# with open('ot2netlist.json', 'w') as f:\n",
    "#     json.dump(mixing_netlist, f, indent=4, sort_keys=True)\n",
    "# print('Liquid Handler Netlist String dumped to \"ot2netlist.json\"')\n",
    "generate_ot2listenerprotocol(fpath='ot2listener.py', mixing_netlist=mixing_netlist)"
   ],
   "outputs": [
    {
     "output_type": "stream",
     "name": "stdout",
     "text": [
      "Liquid Handler Netlist String dumped to \"ot2netlist.json\"\n"
     ]
    }
   ],
   "metadata": {}
  },
  {
   "cell_type": "markdown",
   "source": [
    "## Maestro netlist to disk, will be input to maestro to execute experiment"
   ],
   "metadata": {}
  },
  {
   "cell_type": "code",
   "execution_count": 27,
   "source": [
    "ordered_task_output = [task.to_dict() for task in ordered_tasks]\n",
    "\n",
    "samples_output = {sample.name:sample.to_dict() for sample in samples}\n",
    "out = {\n",
    "    'samples': samples_output,\n",
    "    'tasks': ordered_task_output,\n",
    "}\n",
    "with open('maestronetlist.json', 'w') as f:\n",
    "    json.dump(out, f, indent=4, sort_keys=True)\n",
    "print('Maestro Netlist dumped to \"maestronetlist.json\"')"
   ],
   "outputs": [
    {
     "output_type": "stream",
     "name": "stdout",
     "text": [
      "Maestro Netlist dumped to \"maestronetlist.json\"\n"
     ]
    }
   ],
   "metadata": {}
  },
  {
   "cell_type": "markdown",
   "source": [
    "## Solution Instructions to csv, tells operator where/how much to put solutions"
   ],
   "metadata": {}
  },
  {
   "cell_type": "code",
   "execution_count": 28,
   "source": [
    "with open('stock_solutions.csv', 'w', newline='') as f:\n",
    "    writer = csv.writer(f, delimiter=',')\n",
    "    header = [\n",
    "        'Labware',\n",
    "        'Well',\n",
    "        'Volume (uL)',\n",
    "        'Solutes',\n",
    "        'Molarity (M)',\n",
    "        'Solvent',        \n",
    "    ]\n",
    "    writer.writerow(header)\n",
    "    for solution, details in solution_details.items():\n",
    "        volume = details['initial_volume_required']\n",
    "        if volume == 0:\n",
    "            volume = 'Empty Vial'\n",
    "        line = [\n",
    "            details['labware'],\n",
    "            details['well'],\n",
    "            volume,\n",
    "            solution.solutes,\n",
    "            solution.molarity,\n",
    "            solution.solvent,\n",
    "        ]\n",
    "        writer.writerow(line)"
   ],
   "outputs": [],
   "metadata": {}
  }
 ],
 "metadata": {
  "kernelspec": {
   "name": "python3",
   "display_name": "Python 3.8.0 64-bit ('pascal': conda)"
  },
  "language_info": {
   "codemirror_mode": {
    "name": "ipython",
    "version": 3
   },
   "file_extension": ".py",
   "mimetype": "text/x-python",
   "name": "python",
   "nbconvert_exporter": "python",
   "pygments_lexer": "ipython3",
   "version": "3.8.0"
  },
  "interpreter": {
   "hash": "e550aae00514e232b011b8daa9c111018f6799cbdd6b2b8c856d7d4b57330518"
  }
 },
 "nbformat": 4,
 "nbformat_minor": 5
}