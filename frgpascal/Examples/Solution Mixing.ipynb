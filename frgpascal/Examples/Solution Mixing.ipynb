{
 "cells": [
  {
   "cell_type": "code",
   "execution_count": 10,
   "source": [
    "import numpy as np\n",
    "import csv\n",
    "%matplotlib inline\n",
    "import pandas as pd\n",
    "from frgpascal.hardware.sampletray import SampleTray, AVAILABLE_VERSIONS as sampletray_versions\n",
    "from frgpascal.hardware.liquidlabware import LiquidLabware, AVAILABLE_VERSIONS as liquid_labware_versions\n",
    "from frgpascal.hardware.hotplate import AVAILABLE_VERSIONS as hotplate_versions\n",
    "from frgpascal.experimentaldesign.helpers import build_sample_list, plot_tray, handle_liquids, samples_to_dataframe\n",
    "from frgpascal.experimentaldesign.tasks import *\n",
    "from frgpascal.experimentaldesign.scheduler import Scheduler\n",
    "\n",
    "from scipy.optimize import nnls"
   ],
   "outputs": [],
   "metadata": {}
  },
  {
   "cell_type": "code",
   "execution_count": 15,
   "source": [
    "#### name parsing helper functions\n",
    "def components_to_name(components, delimiter=\"_\"):\n",
    "    composition_label = \"\"\n",
    "    for c, n in components.items():\n",
    "        if n > 0:\n",
    "            composition_label += \"{0}{1:.2f}{2}\".format(c, n, delimiter)\n",
    "\n",
    "    return composition_label[:-1]\n",
    "\n",
    "\n",
    "def name_to_components(\n",
    "    name,\n",
    "    factor=1,\n",
    "    delimiter=\"_\",\n",
    "):\n",
    "    \"\"\"\n",
    "    given a chemical formula, returns dictionary with individual components/amounts\n",
    "    expected name format = 'MA0.5_FA0.5_Pb1_I2_Br1'.\n",
    "    would return dictionary with keys ['MA, FA', 'Pb', 'I', 'Br'] and values [0.5,.05,1,2,1]*factor\n",
    "    \"\"\"\n",
    "    components = {}\n",
    "    for part in name.split(delimiter):\n",
    "        species = part\n",
    "        count = 1.0\n",
    "        for l in range(len(part), 0, -1):\n",
    "            try:\n",
    "                count = float(part[-l:])\n",
    "                species = part[:-l]\n",
    "                break\n",
    "            except:\n",
    "                pass\n",
    "        if species == \"\":\n",
    "            continue\n",
    "        components[species] = count * factor\n",
    "    return components\n"
   ],
   "outputs": [],
   "metadata": {}
  },
  {
   "cell_type": "code",
   "execution_count": 59,
   "source": [
    "def solutions_to_matrix(solutions:list):\n",
    "    if isinstance(solutions, Solution):\n",
    "        solutions = [solutions]\n",
    "\n",
    "    # get possible solution components from stock list\n",
    "    components = set()\n",
    "    for s in solutions:\n",
    "        components.update(s.solute_dict.keys(), s.solvent_dict.keys())\n",
    "    components = list(\n",
    "        components\n",
    "    )  # sets are not order-preserving, lists are - just safer this way\n",
    "\n",
    "    # organize components into a stock matrix, keep track of which rows are solvents\n",
    "    stock_matrix = np.zeros((len(components), len(solutions)))\n",
    "    solvent_idx = set()\n",
    "    for n, s in enumerate(solutions):\n",
    "        for m, c in enumerate(components):\n",
    "            if c in s.solute_dict:\n",
    "                stock_matrix[m, n] = s.solute_dict[c] * s.molarity\n",
    "            elif c in s.solvent_dict:\n",
    "                stock_matrix[m, n] = s.solvent_dict[c]\n",
    "                solvent_idx.add(m)\n",
    "    solvent_idx = list(solvent_idx)\n",
    "\n",
    "    return stock_matrix, solvent_idx\n",
    "    "
   ],
   "outputs": [],
   "metadata": {}
  },
  {
   "cell_type": "code",
   "execution_count": 31,
   "source": [
    "def calculate_mix(\n",
    "    target: Solution,\n",
    "    volume: float,\n",
    "    stock_solutions: list,\n",
    "    tolerance: float = 0.05,\n",
    "):\n",
    "    \"\"\"\n",
    "    given a target solution, target volume, and list of stock solutions, calculates\n",
    "    the volumes needed from individual stocks to achieve target composition\n",
    "\n",
    "    tolerance (float): maximum error for single site (relative, not absolute) allowed.\n",
    "\n",
    "    \"\"\"\n",
    "    # get possible solution components from stock list\n",
    "    components = set()\n",
    "    for s in stock_solutions:\n",
    "        components.update(s.solute_dict.keys(), s.solvent_dict.keys())\n",
    "    components = list(\n",
    "        components\n",
    "    )  # sets are not order-preserving, lists are - just safer this way\n",
    "\n",
    "    # organize components into a stock matrix, keep track of which rows are solvents\n",
    "    stock_matrix = np.zeros((len(components), len(stock_solutions)))\n",
    "    solvent_idx = set()\n",
    "    for n, s in enumerate(stock_solutions):\n",
    "        for m, c in enumerate(components):\n",
    "            if c in s.solute_dict:\n",
    "                stock_matrix[m, n] = s.solute_dict[c] * s.molarity\n",
    "            elif c in s.solvent_dict:\n",
    "                stock_matrix[m, n] = s.solvent_dict[c]\n",
    "                solvent_idx.add(m)\n",
    "    solvent_idx = list(solvent_idx)\n",
    "\n",
    "    # organize target solution into a matrix of total mols desired of each component\n",
    "    target_matrix = np.zeros((len(components),))\n",
    "    for m, c in enumerate(components):\n",
    "        if c in target.solute_dict:\n",
    "            target_matrix[m] = target.solute_dict[c] * target.molarity * volume\n",
    "        elif c in target.solvent_dict:\n",
    "            target_matrix[m] = target.solvent_dict[c] * volume\n",
    "\n",
    "    # solve for the mixture amounts\n",
    "    amount_matrix, *data = nnls(\n",
    "        stock_matrix, target_matrix, maxiter=1e3\n",
    "    )  # volumes to mix. math is better if not such small values in matrix, so scale to uL for calculation\n",
    "    amount_matrix[\n",
    "        amount_matrix < 1\n",
    "    ] = 0  # clean up values that are essentially 0. If we have a significant negative value here, should get caught downstream\n",
    "    amount_matrix = np.round(\n",
    "        amount_matrix,1\n",
    "    )  # round to nearest uL (values are in L at this point)\n",
    "\n",
    "    # double check that the solved amounts make sense\n",
    "    doublecheck = stock_matrix @ amount_matrix\n",
    "    doublecheck[solvent_idx] /= (\n",
    "        doublecheck[solvent_idx].sum() / volume\n",
    "    )  # solvents should sum to one\n",
    "    # print(stock_matrix)\n",
    "    # print(amount_matrix)\n",
    "    # print(target_matrix)\n",
    "    composition_error = max(\n",
    "        [np.abs(1 - c / t) for c, t in zip(doublecheck, target_matrix) if t > 0]\n",
    "    )  # max single-component error fraction\n",
    "\n",
    "    if (\n",
    "        composition_error < tolerance\n",
    "    ):  # check that we are within error tolerance wrt target composition AT EACH SOLUTE/SOLVENT SPECIES\n",
    "        return amount_matrix\n",
    "    else:\n",
    "        solute = components_to_name(\n",
    "            {\n",
    "                c: amt / target.molarity / volume\n",
    "                for c, amt in zip(components, doublecheck)\n",
    "                if amt > 0 and c not in target.solvent_dict\n",
    "            }\n",
    "        )\n",
    "        solvent = components_to_name(\n",
    "            {\n",
    "                c: amt / target.molarity / volume\n",
    "                for c, amt in zip(components, doublecheck)\n",
    "                if amt > 0 and c in target.solvent_dict\n",
    "            }\n",
    "        )\n",
    "        # print(solvent)\n",
    "        raise Exception(\n",
    "            f\"Unable to generate target solution ({volume} uL of {target}) with current stock solutions.\\n\\n\"\n",
    "            f\"Closest match ({volume} uL of {target.molarity}M {solute} in {solvent}) has a max site error of {composition_error*100:.2f}%\"\n",
    "        )  # {Off by {composition_error*100:.2f}%%')\n",
    "\n"
   ],
   "outputs": [],
   "metadata": {}
  },
  {
   "cell_type": "code",
   "execution_count": 32,
   "source": [
    "target_solutions = [\n",
    "    Solution(\n",
    "        solutes='MA_Pb_I3',\n",
    "        solvent='DMF9_DMSO1',\n",
    "        molarity=1\n",
    "    ),\n",
    "    Solution(\n",
    "        solutes='FA_Pb_I3',\n",
    "        solvent='DMF9_DMSO1',\n",
    "        molarity=1\n",
    "    ),\n",
    "    Solution(\n",
    "        solutes='FA0.25_MA0.75_Pb_I3',\n",
    "        solvent='DMF9_DMSO1',\n",
    "        molarity=1\n",
    "    ),\n",
    "    Solution(\n",
    "        solutes='FA0.75_MA0.25_Pb_I3',\n",
    "        solvent='DMF9_DMSO1',\n",
    "        molarity=1\n",
    "    ),\n",
    "    Solution(\n",
    "        solutes='MA0.5_FA0.5_Pb_I3',\n",
    "        solvent='DMF9_DMSO1',\n",
    "        molarity=1\n",
    "    ),\n",
    "]\n"
   ],
   "outputs": [],
   "metadata": {}
  },
  {
   "cell_type": "code",
   "execution_count": 33,
   "source": [
    "stock_solutions = [\n",
    "    Solution(\n",
    "        solutes='MA_Pb_I3',\n",
    "        solvent='DMF9_DMSO1',\n",
    "        molarity=1\n",
    "    ),\n",
    "    Solution(\n",
    "        solutes='FA_Pb_I3',\n",
    "        solvent='DMF9_DMSO1',\n",
    "        molarity=1\n",
    "    ),\n",
    "    Solution(\n",
    "        solvent='DMF',\n",
    "    ),\n",
    "    Solution(\n",
    "        solvent='DMSO',\n",
    "    ),\n",
    "    Solution(\n",
    "        solvent='Chlorobenzene',\n",
    "    ),\n",
    "    Solution(\n",
    "        solvent='MethylAcetate',\n",
    "    ),\n",
    "    Solution(\n",
    "        solutes='spiro',\n",
    "        solvent='IPA',\n",
    "        molarity=1\n",
    "    ),\n",
    "]"
   ],
   "outputs": [],
   "metadata": {}
  },
  {
   "cell_type": "code",
   "execution_count": 50,
   "source": [
    "target = Solution(\n",
    "        solutes='MA0.05_FA0.95_Pb_I3',\n",
    "        solvent='DMF9_DMSO1',\n",
    "        molarity=1\n",
    "    )"
   ],
   "outputs": [],
   "metadata": {}
  },
  {
   "cell_type": "code",
   "execution_count": 51,
   "source": [
    "target_solutions"
   ],
   "outputs": [
    {
     "output_type": "execute_result",
     "data": {
      "text/plain": [
       "[<Solution>1M MA_Pb_I3 in DMF9_DMSO1,\n",
       " <Solution>1M FA_Pb_I3 in DMF9_DMSO1,\n",
       " <Solution>1M FA0.25_MA0.75_Pb_I3 in DMF9_DMSO1,\n",
       " <Solution>1M FA0.75_MA0.25_Pb_I3 in DMF9_DMSO1,\n",
       " <Solution>1M MA0.5_FA0.5_Pb_I3 in DMF9_DMSO1]"
      ]
     },
     "metadata": {},
     "execution_count": 51
    }
   ],
   "metadata": {}
  },
  {
   "cell_type": "code",
   "execution_count": 55,
   "source": [
    "target"
   ],
   "outputs": [
    {
     "output_type": "execute_result",
     "data": {
      "text/plain": [
       "<Solution>1M MA0.05_FA0.95_Pb_I3 in DMF9_DMSO1"
      ]
     },
     "metadata": {},
     "execution_count": 55
    }
   ],
   "metadata": {}
  },
  {
   "cell_type": "code",
   "execution_count": 58,
   "source": [
    "calculate_mix(\n",
    "    target=target,\n",
    "    stock_solutions=[target_solutions[i] for i in [1,3]],\n",
    "    volume=100)"
   ],
   "outputs": [
    {
     "output_type": "execute_result",
     "data": {
      "text/plain": [
       "array([80., 20.])"
      ]
     },
     "metadata": {},
     "execution_count": 58
    }
   ],
   "metadata": {}
  },
  {
   "cell_type": "code",
   "execution_count": 60,
   "source": [
    "solutions_to_matrix(\n",
    "    solutions=target_solutions,\n",
    ")"
   ],
   "outputs": [
    {
     "output_type": "error",
     "ename": "IndexError",
     "evalue": "index 5 is out of bounds for axis 1 with size 5",
     "traceback": [
      "\u001b[0;31m---------------------------------------------------------------------------\u001b[0m",
      "\u001b[0;31mIndexError\u001b[0m                                Traceback (most recent call last)",
      "\u001b[0;32m<ipython-input-60-5827c8f1f471>\u001b[0m in \u001b[0;36m<module>\u001b[0;34m\u001b[0m\n\u001b[0;32m----> 1\u001b[0;31m solutions_to_matrix(\n\u001b[0m\u001b[1;32m      2\u001b[0m     \u001b[0msolutions\u001b[0m\u001b[0;34m=\u001b[0m\u001b[0mtarget_solutions\u001b[0m\u001b[0;34m,\u001b[0m\u001b[0;34m\u001b[0m\u001b[0;34m\u001b[0m\u001b[0m\n\u001b[1;32m      3\u001b[0m )\n",
      "\u001b[0;32m<ipython-input-59-34e3931c917e>\u001b[0m in \u001b[0;36msolutions_to_matrix\u001b[0;34m(solutions)\u001b[0m\n\u001b[1;32m     19\u001b[0m                 \u001b[0mstock_matrix\u001b[0m\u001b[0;34m[\u001b[0m\u001b[0mm\u001b[0m\u001b[0;34m,\u001b[0m \u001b[0mn\u001b[0m\u001b[0;34m]\u001b[0m \u001b[0;34m=\u001b[0m \u001b[0ms\u001b[0m\u001b[0;34m.\u001b[0m\u001b[0msolute_dict\u001b[0m\u001b[0;34m[\u001b[0m\u001b[0mc\u001b[0m\u001b[0;34m]\u001b[0m \u001b[0;34m*\u001b[0m \u001b[0ms\u001b[0m\u001b[0;34m.\u001b[0m\u001b[0mmolarity\u001b[0m\u001b[0;34m\u001b[0m\u001b[0;34m\u001b[0m\u001b[0m\n\u001b[1;32m     20\u001b[0m             \u001b[0;32melif\u001b[0m \u001b[0mc\u001b[0m \u001b[0;32min\u001b[0m \u001b[0ms\u001b[0m\u001b[0;34m.\u001b[0m\u001b[0msolvent_dict\u001b[0m\u001b[0;34m:\u001b[0m\u001b[0;34m\u001b[0m\u001b[0;34m\u001b[0m\u001b[0m\n\u001b[0;32m---> 21\u001b[0;31m                 \u001b[0mstock_matrix\u001b[0m\u001b[0;34m[\u001b[0m\u001b[0mm\u001b[0m\u001b[0;34m,\u001b[0m \u001b[0mn\u001b[0m\u001b[0;34m]\u001b[0m \u001b[0;34m=\u001b[0m \u001b[0ms\u001b[0m\u001b[0;34m.\u001b[0m\u001b[0msolvent_dict\u001b[0m\u001b[0;34m[\u001b[0m\u001b[0mc\u001b[0m\u001b[0;34m]\u001b[0m\u001b[0;34m\u001b[0m\u001b[0;34m\u001b[0m\u001b[0m\n\u001b[0m\u001b[1;32m     22\u001b[0m                 \u001b[0msolvent_idx\u001b[0m\u001b[0;34m.\u001b[0m\u001b[0madd\u001b[0m\u001b[0;34m(\u001b[0m\u001b[0mm\u001b[0m\u001b[0;34m)\u001b[0m\u001b[0;34m\u001b[0m\u001b[0;34m\u001b[0m\u001b[0m\n\u001b[1;32m     23\u001b[0m     \u001b[0msolvent_idx\u001b[0m \u001b[0;34m=\u001b[0m \u001b[0mlist\u001b[0m\u001b[0;34m(\u001b[0m\u001b[0msolvent_idx\u001b[0m\u001b[0;34m)\u001b[0m\u001b[0;34m\u001b[0m\u001b[0;34m\u001b[0m\u001b[0m\n",
      "\u001b[0;31mIndexError\u001b[0m: index 5 is out of bounds for axis 1 with size 5"
     ]
    }
   ],
   "metadata": {}
  },
  {
   "cell_type": "code",
   "execution_count": null,
   "source": [],
   "outputs": [],
   "metadata": {}
  }
 ],
 "metadata": {
  "orig_nbformat": 4,
  "language_info": {
   "name": "python",
   "version": "3.8.0",
   "mimetype": "text/x-python",
   "codemirror_mode": {
    "name": "ipython",
    "version": 3
   },
   "pygments_lexer": "ipython3",
   "nbconvert_exporter": "python",
   "file_extension": ".py"
  },
  "kernelspec": {
   "name": "python3",
   "display_name": "Python 3.8.0 64-bit ('pascal': conda)"
  },
  "interpreter": {
   "hash": "e550aae00514e232b011b8daa9c111018f6799cbdd6b2b8c856d7d4b57330518"
  }
 },
 "nbformat": 4,
 "nbformat_minor": 2
}