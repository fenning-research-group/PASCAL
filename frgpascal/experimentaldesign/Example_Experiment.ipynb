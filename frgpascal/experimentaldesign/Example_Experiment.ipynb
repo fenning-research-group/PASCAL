{
 "cells": [
  {
   "cell_type": "markdown",
   "metadata": {},
   "source": [
    "# Helper Functions, will eventually live in pascal module"
   ]
  },
  {
   "cell_type": "code",
   "execution_count": 1,
   "metadata": {},
   "outputs": [
    {
     "name": "stderr",
     "output_type": "stream",
     "text": [
      "C:\\ProgramData\\Anaconda3\\lib\\site-packages\\numpy\\_distributor_init.py:30: UserWarning: loaded more than 1 DLL from .libs:\n",
      "C:\\ProgramData\\Anaconda3\\lib\\site-packages\\numpy\\.libs\\libopenblas.GK7GX5KEQ4F6UYO3P26ULGBQYHGQO7J4.gfortran-win_amd64.dll\n",
      "C:\\ProgramData\\Anaconda3\\lib\\site-packages\\numpy\\.libs\\libopenblas.JPIJNSWNNAN3CE6LLI5FWSPHUT2VXMTH.gfortran-win_amd64.dll\n",
      "  warnings.warn(\"loaded more than 1 DLL from .libs:\"\n"
     ]
    }
   ],
   "source": [
    "import numpy as np\n",
    "import itertools\n",
    "import random\n",
    "\n",
    "#### name parsing helper functions\n",
    "\n",
    "def components_to_name(components, delimiter = '_'):\n",
    "    composition_label = ''\n",
    "    for c, n in components.items():\n",
    "        if n > 0:\n",
    "            composition_label += '{0}{1:.2f}{2}'.format(c, n, delimiter)\n",
    "\n",
    "    return composition_label[:-1]\n",
    "\n",
    "def name_to_components(name, factor = 1, delimiter = '_',):\n",
    "    '''\n",
    "    given a chemical formula, returns dictionary with individual components/amounts\n",
    "    expected name format = 'MA0.5_FA0.5_Pb1_I2_Br1'. \n",
    "    would return dictionary with keys ['MA, FA', 'Pb', 'I', 'Br'] and values [0.5,.05,1,2,1]*factor\n",
    "    '''\n",
    "    components = {}\n",
    "    for part in name.split(delimiter):\n",
    "        species = part\n",
    "        count = 1.0\n",
    "        for l in range(len(part), 0, -1):\n",
    "            try:\n",
    "                count = float(part[-l:])\n",
    "                species = part[:-l]\n",
    "                break\n",
    "            except:\n",
    "                pass\n",
    "        components[species] = count * factor\n",
    "    return components\n",
    "\n",
    "#### individual solution functions\n",
    "\n",
    "def get_components(name, factor = 1, delimiter = '_',):\n",
    "    components = {}\n",
    "    for part in name.split(delimiter):\n",
    "        species = part\n",
    "        count = 1.0\n",
    "        for l in range(len(part), 0, -1):\n",
    "            try:\n",
    "                count = float(part[-l:])\n",
    "                species = part[:-l]\n",
    "                break\n",
    "            except:\n",
    "                pass\n",
    "        components[species] = count * factor\n",
    "    return components\n",
    "\n",
    "def calculate_mix(target, volume, solution_sources):\n",
    "    '''\n",
    "    given a target composition, target volume, and stock solution sources, calculates the volumes needed\n",
    "    from individual stocks to achieve target composition\n",
    "\n",
    "    target: target composition. Will be passed to name_to_components()\n",
    "            Example: 'MA0.5_FA0.5_Pb1_I2_Br1'\n",
    "    volume: target volume, in L\n",
    "    solution_sources: dictionary with stock solution compositions, molarities, solvents, well positions, and available volumes labeled.\n",
    "            Example:\n",
    "                    solution_sources = {\n",
    "                            'MA_Pb_I3': dict(well = 'A1', molarity = 2, solvent = dict(DMSO = 9, DMF = 1), volume = 15e-3),\n",
    "                            'Cs_I': dict(well = 'A2', molarity = 3, solvent = dict(DMSO = 1), volume = 15e-3),\n",
    "                            'FA_Pb_I3': dict(well = 'A3', molarity = 1.5, solvent = dict(DMSO = 9, DMF = 1), volume = 15e-3)\n",
    "                        }\n",
    "    '''\n",
    "    target_composition = name_to_components(target)\n",
    "    wells = [solution_properties['well'] for solution_name, solution_properties in solution_sources.items()]\n",
    "    num_solutions = len(solution_sources)\n",
    "    components = list(target_composition.keys())\n",
    "    num_components = len(components)\n",
    "\n",
    "    solution_matrix = np.zeros((num_components, num_solutions))    \n",
    "    for n, (solution_name, solution_properties) in enumerate(solution_sources.items()):\n",
    "        solution_components = get_components(solution_name, factor = solution_properties['molarity'])\n",
    "        for m, component_name in enumerate(components):\n",
    "            if component_name in solution_components:\n",
    "                solution_matrix[m,n] = solution_components[component_name]\n",
    "    \n",
    "    target_matrix = np.zeros((num_components, ))\n",
    "    for m, (component_name, component_amount) in enumerate(target_composition.items()):\n",
    "        target_matrix[m] = component_amount\n",
    "    \n",
    "    amount_matrix = np.linalg.lstsq(solution_matrix, target_matrix, rcond = None)[0]\n",
    "    amount_matrix[amount_matrix < 1e-6] = 0 #clean up values that are essentially 0. If we have a significant negative value here, should get caught downstream\n",
    "    doublecheck = solution_matrix @ amount_matrix\n",
    "    if np.linalg.norm((doublecheck - target_matrix))/np.linalg.norm(target_matrix) < 0.01: #check that we are within 1% error wrt target composition\n",
    "        results = {}\n",
    "        # for solution, solution_volume in zip(solutions, amount_matrix): \n",
    "        #     results[solution] = solution_volume * volume\n",
    "        for well, solution_volume in zip(wells, amount_matrix): \n",
    "            results[well] = np.round(solution_volume * volume, 6) # round to nearest uL\n",
    "    else:\n",
    "        results = False\n",
    "        print('Error: Unable to generate target solution with current stock solutions.')\n",
    "        # raise Exception('Unable to generate target solution with current stock solutions.')\n",
    "    return results\n",
    "        \n",
    "\n",
    "#### combining functions to generate experiment mesh\n",
    "\n",
    "def compositions_spread(compositions, n):\n",
    "    composition_components = [name_to_components(s) for s in compositions]\n",
    "    components = []\n",
    "    for s in composition_components:\n",
    "        components += list(s.keys())\n",
    "    components = np.unique(components)\n",
    "    \n",
    "    mat = np.zeros((len(compositions), len(components)))\n",
    "    for sidx, s in enumerate(composition_components):\n",
    "        for cidx, c in enumerate(components):\n",
    "            if c in s:\n",
    "                mat[sidx, cidx] = s[c]\n",
    "    \n",
    "    compositions = []\n",
    "    for mix in itertools.combinations_with_replacement(mat, n):\n",
    "        composition_amounts = np.array(mix).mean(axis = 0)\n",
    "        composition_label = ''\n",
    "        for c, a in zip(components, composition_amounts):\n",
    "            if a > 0:\n",
    "                composition_label += '{0}{1:.3f}_'.format(c, a)\n",
    "        compositions.append(composition_label[:-1]) #exclude the last underscore\n",
    "\n",
    "    return list(np.unique(compositions))\n",
    "\n",
    "def spincoat_spread(spincoats, method, n = None):\n",
    "    mat = np.array(spincoats)\n",
    "    \n",
    "    if method == 'interpolate':\n",
    "        if n is None:\n",
    "            raise Exception('If method = \"interpolate\", n must be specified.')\n",
    "        spincoats = []\n",
    "        for mix in itertools.combinations_with_replacement(mat, n):\n",
    "            spincoats.append(np.array(mix).mean(axis = 0))\n",
    "    elif method == 'permute':\n",
    "        unique_steps = []\n",
    "        for i in range(mat[0].shape[0]):\n",
    "            steps = np.array([c[i] for c in mat])\n",
    "            unique_steps.append(np.unique(steps, axis = 0))\n",
    "        spincoats = list(np.vstack(rows) for rows in itertools.product(*unique_steps))\n",
    "    else:\n",
    "        raise Exception('Invalid method provided - must be \"interpolate\" or \"permute\"')\n",
    "        \n",
    "    return np.unique(spincoats, axis = 0)\n",
    "\n",
    "def anneal_spread(anneals, method, n = None):\n",
    "    mat = np.array(anneals)\n",
    "    \n",
    "    if method == 'interpolate':\n",
    "        if n is None:\n",
    "            raise Exception('If method = \"interpolate\", n must be specified.')\n",
    "        anneals = []\n",
    "        for mix in itertools.combinations_with_replacement(mat, n):\n",
    "            anneals.append(np.array(mix).mean(axis = 0))\n",
    "    elif method == 'permute':\n",
    "        anneals = np.array(list(itertools.product(*[c for c in mat.T])))\n",
    "    else:\n",
    "        raise Exception('Invalid method provided - must be \"interpolate\" or \"permute\"')\n",
    "    \n",
    "    return np.unique(anneals, axis = 0)"
   ]
  },
  {
   "cell_type": "code",
   "execution_count": 2,
   "metadata": {},
   "outputs": [],
   "source": [
    "def well_list_generator(nrows = 12, ncols = 8):\n",
    "    num = 0\n",
    "    col = -1\n",
    "    while num < nrows*ncols:\n",
    "        row = num%nrows\n",
    "        if row == 0:\n",
    "            col += 1\n",
    "        yield f'{str.upper(chr(col+97))}{row+1}'\n",
    "        num += 1\n",
    "\n",
    "def generate_sample_list(compositions, spincoats, anneals, sample_volume = 100e-6, max_volume = 1e-3, randomize = True, repeats = 1):  \n",
    "    samples = []\n",
    "    wells = {}\n",
    "    current_wells = {}\n",
    "    well_generator = well_list_generator() \n",
    "    \n",
    "    def start_new_well(composition, volume):\n",
    "        this_well = well_generator.__next__()\n",
    "        current_wells[c] = this_well\n",
    "        wells[this_well] = {'composition': composition, 'volume': volume}  \n",
    "        return this_well\n",
    "        \n",
    "    for c, sc, an in itertools.product(compositions, spincoats, anneals):\n",
    "        if c not in current_wells: #we havent dedicated a well to mix this composition yet - lets set one\n",
    "            this_well = start_new_well(c, sample_volume)\n",
    "        else: \n",
    "            this_well = current_wells[c]\n",
    "            if wells[this_well]['volume'] + sample_volume > max_volume:\n",
    "                this_well = start_new_well(c, sample_volume)\n",
    "            else:\n",
    "                wells[this_well]['volume'] += sample_volume\n",
    "        for r in range(repeats):\n",
    "            samples.append(dict(composition = c, spincoat = sc, anneal = an, well = this_well))\n",
    "    if randomize:\n",
    "        random.shuffle(samples)\n",
    "    return samples, wells"
   ]
  },
  {
   "cell_type": "markdown",
   "metadata": {},
   "source": [
    "Recipes"
   ]
  },
  {
   "cell_type": "code",
   "execution_count": 11,
   "metadata": {},
   "outputs": [],
   "source": [
    "class SpincoatRecipe:\n",
    "    def __init__(self, steps: list, perovskite_droptime: float, antisolvent_droptime: float):\n",
    "        \"\"\"\n",
    "\n",
    "        Args:\n",
    "            steps (list): nested list of steps:\n",
    "            [\n",
    "                [speed, acceleration, duration],\n",
    "                [speed, acceleration, duration],\n",
    "                ...,\n",
    "                [speed, acceleration, duration]\n",
    "            ] \n",
    "            where speed = rpm, acceleration = rpm/s, duration = s (including the acceleration ramp!)\n",
    "\n",
    "            perovskite_drop_time (float): timing (seconds) relative to first spin step start to drop precursor solution on substrate. negative values imply dropping the solution prior to spinning (static spincoat)\n",
    "            antisolvent_drop_time (float): timing (seconds) relative to first spin step start to drop antisolvent on substrate.\n",
    "        \"\"\"\n",
    "        self.steps = np.asarray(steps)\n",
    "        if self.steps.shape[1] != 3:\n",
    "            raise ValueError(\"steps must be an nx3 nested list/array where each row = [speed, acceleration, duration].\")\n",
    "        \n",
    "        self.perovskite_droptime = perovskite_droptime\n",
    "        self.antisolvent_droptime = antisolvent_droptime\n",
    "        first_drop_time = min(perovskite_droptime, antisolvent_droptime)\n",
    "\n",
    "        self.start_times = [max(0, -first_drop_time)] #push back spinning times to allow static drop beforehand\n",
    "        for duration in self.steps[:-1,2]:\n",
    "            self.start_times.append(self.start_times[-1] + duration)\n",
    "        \n",
    "        self.duration = self.steps[:,2].sum() + 10 #total duration + 10 seconds for stopping\n",
    "        \n",
    "    def __repr__(self):\n",
    "        output = '<SpincoatingRecipe>\\n'\n",
    "        output += f'Perovskite drops at {self.perovskite_droptime} s\\n'\n",
    "        output += f'Antisolvent drops at {self.antisolvent_droptime} s\\n'\n",
    "        currenttime = 0\n",
    "        psk_dropped = False\n",
    "        as_dropped = False\n",
    "        for (rpm, accel, duration) in self.steps:\n",
    "            output += f'{currenttime}-{currenttime+duration}s:\\t{rpm:.0f} rpm, {accel:.0f} rpm/s'\n",
    "            currenttime += duration\n",
    "            if not psk_dropped and self.perovskite_droptime <= currenttime:\n",
    "                output += ' (perovskite dropped)'\n",
    "                psk_dropped = True\n",
    "            if not as_dropped and self.antisolvent_droptime <= currenttime:\n",
    "                output += ' (antisolvent dropped)'\n",
    "                as_dropped = True\n",
    "            output += '\\n'\n",
    "        return output[:-1]"
   ]
  },
  {
   "cell_type": "code",
   "execution_count": 12,
   "metadata": {},
   "outputs": [],
   "source": [
    "class AnnealRecipe:\n",
    "    def __init__(self, duration: float, temperature: float):\n",
    "        \"\"\"\n",
    "\n",
    "        Args:\n",
    "            duration (float): duration (seconds) to anneal the sample\n",
    "            temperature (float): temperature (C) to anneal the sample at\n",
    "        \"\"\"\n",
    "        self.duration = duration\n",
    "        self.temperature = temperature\n",
    "    \n",
    "    def __repr__(self):\n",
    "        output = '<AnnealRecipe>\\n'\n",
    "        output += f'{self.temperature:.2f} C\\n'\n",
    "        if self.duration >= 3600:\n",
    "            output += f'{self.duration/3600:.2f} hours' \n",
    "        elif self.duration >= 60:\n",
    "            output += f'{self.duration/60:.2f} minutes' \n",
    "        else:\n",
    "            output += f'{self.duration:.2f} seconds' \n",
    "        return output"
   ]
  },
  {
   "cell_type": "code",
   "execution_count": 14,
   "metadata": {},
   "outputs": [],
   "source": [
    "import collections\n",
    "storage_slot = collections.namedtuple(\"storage_slot\", \"tray slot\")\n",
    "move_type = collections.namedtuple(\"move_type\", \"machines duration\")\n",
    "\n",
    "class Sample:\n",
    "    def __init__(self, name, spincoat_recipe: SpincoatRecipe, anneal_recipe: AnnealRecipe):\n",
    "        self.name = name\n",
    "        self.storage_slot = storage_slot(None, None) #tray, slot that sample is stored in. Initialized to None, will be filled when experiment starts\n",
    "        self.spincoat_recipe = spincoat_recipe\n",
    "        self.anneal_recipe = anneal_recipe\n",
    "        self._generate_moves()\n",
    "        self.status = 'not started'\n",
    "        \n",
    "    def _generate_moves(self):\n",
    "        \"\"\"\n",
    "        dictionary of all steps this sample will go through for experiment\n",
    "        \"\"\"\n",
    "        self.moves = collections.OrderedDict()\n",
    "        \n",
    "        self.moves['storagetospincoater'] = move_type(machines=[\"Gantry\", \"Spincoater\"], duration=30)\n",
    "        self.moves['spincoat'] = move_type(machines=[\"Spincoater\"], duration=self.spincoat_recipe.duration)\n",
    "        self.moves['spincoatertohotplate'] = move_type(machines=[\"Gantry\", \"Spincoater\"], duration=30)\n",
    "        self.moves['anneal'] = move_type(machines=[\"Hotplate\"], duration=self.anneal_recipe.duration)\n",
    "        self.moves['hotplatetostorage'] = move_type(machines=[\"Gantry\"], duration=30)\n",
    "        self.moves['cooldown'] = move_type(machines=[\"Storage\"], duration=60*2)\n",
    "        self.moves['storagetocharacterization'] = move_type(machines=[\"Gantry\", \"Characterization\"], duration=30)\n",
    "        self.moves['characterization'] = move_type(machines=[\"Characterization\"], duration=60*4)\n",
    "        self.moves['characterizationtostorage'] = move_type(machines=[\"Gantry\", \"Characterization\"], duration=30)\n",
    "    \n",
    "    def __repr__(self):\n",
    "        output = '<Sample>\\n'\n",
    "        output += f'name:\\t{self.name}\\n'\n",
    "        output += f'status:\\t{self.status}\\n'\n",
    "        output += f'{self.storage_slot}\\n'\n",
    "        output += f'\\n{sc[0]}\\n\\n{an[0]}'\n",
    "        return output"
   ]
  },
  {
   "cell_type": "markdown",
   "metadata": {},
   "source": [
    "# Define Experimental Mesh"
   ]
  },
  {
   "cell_type": "markdown",
   "metadata": {},
   "source": [
    "### Target Compositions"
   ]
  },
  {
   "cell_type": "code",
   "execution_count": 3,
   "metadata": {},
   "outputs": [
    {
     "name": "stdout",
     "output_type": "stream",
     "text": [
      "===10 compositions===\n",
      "Cs0.333_FA0.333_I3.000_MA0.333_Pb1.000\n",
      "Cs0.333_FA0.667_I3.000_Pb1.000\n",
      "Cs0.333_I3.000_MA0.667_Pb1.000\n",
      "Cs0.667_FA0.333_I3.000_Pb1.000\n",
      "Cs0.667_I3.000_MA0.333_Pb1.000\n",
      "Cs1.000_I3.000_Pb1.000\n",
      "FA0.333_I3.000_MA0.667_Pb1.000\n",
      "FA0.667_I3.000_MA0.333_Pb1.000\n",
      "FA1.000_I3.000_Pb1.000\n",
      "I3.000_MA1.000_Pb1.000\n"
     ]
    }
   ],
   "source": [
    "endpoint_compositions = [\n",
    "    'Cs_Pb_I3', \n",
    "    'FA_Pb_I3', \n",
    "    'MA_Pb_I3'\n",
    "]\n",
    "\n",
    "\n",
    "compositions = compositions_spread(endpoint_compositions, 3)\n",
    "print(f'==={len(compositions)} compositions===')\n",
    "for c in compositions: print(c)"
   ]
  },
  {
   "cell_type": "markdown",
   "metadata": {},
   "source": [
    "### Target Spincoating Conditions"
   ]
  },
  {
   "cell_type": "code",
   "execution_count": 22,
   "metadata": {},
   "outputs": [],
   "source": [
    "endpoint_spincoats = [\n",
    "    SpincoatRecipe(\n",
    "        steps=[\n",
    "            [1000,1000,10],\n",
    "            [4000,2000,30]\n",
    "        ],\n",
    "        perovskite_droptime= -5,\n",
    "        antisolvent_droptime=20),\n",
    "    SpincoatRecipe(\n",
    "        steps=[\n",
    "            [1000,1000,10],\n",
    "            [5000,2000,30]\n",
    "        ],\n",
    "        perovskite_droptime= -5,\n",
    "        antisolvent_droptime=15),\n",
    "    SpincoatRecipe(\n",
    "        steps=[\n",
    "            [1000,1000,10],\n",
    "            [4000,2000,30]\n",
    "        ],\n",
    "        perovskite_droptime= -5,\n",
    "        antisolvent_droptime=10)\n",
    "]"
   ]
  },
  {
   "cell_type": "code",
   "execution_count": 23,
   "metadata": {},
   "outputs": [],
   "source": [
    "# spincoats = spincoat_spread(endpoint_spincoats, method = 'permute', n = 2)\n",
    "# print(f'==={len(spincoats)} spincoats===')\n",
    "# for c in spincoats: print(f'{c}\\n')\n",
    "spincoats = endpoint_spincoats"
   ]
  },
  {
   "cell_type": "markdown",
   "metadata": {},
   "source": [
    "### Target Annealing Conditions"
   ]
  },
  {
   "cell_type": "code",
   "execution_count": 24,
   "metadata": {},
   "outputs": [],
   "source": [
    "endpoint_anneals = [\n",
    "    AnnealRecipe(\n",
    "        duration=10*60,\n",
    "        temperature=100),\n",
    "    AnnealRecipe(\n",
    "        duration=15*60,\n",
    "        temperature=100),\n",
    "    AnnealRecipe(\n",
    "        duration=20*60,\n",
    "        temperature=100),\n",
    "]\n",
    "\n",
    "# endpoint_anneals = [\n",
    "#     [80, 40*60], #temperature (C), duration (s)\n",
    "#     [100, 20*60],\n",
    "# ]"
   ]
  },
  {
   "cell_type": "code",
   "execution_count": 25,
   "metadata": {},
   "outputs": [],
   "source": [
    "# anneals = anneal_spread(endpoint_anneals, method = 'permute')\n",
    "# print(f'=== {len(anneals)} anneals ===')\n",
    "# for c in anneals: \n",
    "#     print(f'{c}')\n",
    "anneals = endpoint_anneals"
   ]
  },
  {
   "cell_type": "code",
   "execution_count": 26,
   "metadata": {},
   "outputs": [
    {
     "name": "stdout",
     "output_type": "stream",
     "text": [
      "90 Samples\n"
     ]
    }
   ],
   "source": [
    "samples, mixing_wells = generate_sample_list(compositions, spincoats, anneals, max_volume = 1000e-6)\n",
    "print(f'{len(samples)} Samples')"
   ]
  },
  {
   "cell_type": "code",
   "execution_count": 27,
   "metadata": {},
   "outputs": [
    {
     "data": {
      "text/plain": [
       "{'composition': 'FA0.667_I3.000_MA0.333_Pb1.000',\n",
       " 'spincoat': <SpincoatingRecipe>\n",
       " Perovskite drops at -5 s\n",
       " Antisolvent drops at 15 s\n",
       " 0-10s:\t1000 rpm, 1000 rpm/s (perovskite dropped)\n",
       " 10-40s:\t5000 rpm, 2000 rpm/s (antisolvent dropped),\n",
       " 'anneal': <AnnealRecipe>\n",
       " 100.00 C\n",
       " 20.00 minutes,\n",
       " 'well': 'A8'}"
      ]
     },
     "execution_count": 27,
     "metadata": {},
     "output_type": "execute_result"
    }
   ],
   "source": [
    "samples[0]"
   ]
  },
  {
   "cell_type": "code",
   "execution_count": 29,
   "metadata": {},
   "outputs": [
    {
     "data": {
      "text/plain": [
       "{'composition': 'Cs0.333_FA0.333_I3.000_MA0.333_Pb1.000',\n",
       " 'spincoat': <SpincoatingRecipe>\n",
       " Perovskite drops at -5 s\n",
       " Antisolvent drops at 15 s\n",
       " 0-10s:\t1000 rpm, 1000 rpm/s (perovskite dropped)\n",
       " 10-40s:\t5000 rpm, 2000 rpm/s (antisolvent dropped),\n",
       " 'anneal': <AnnealRecipe>\n",
       " 100.00 C\n",
       " 20.00 minutes,\n",
       " 'well': 'A1'}"
      ]
     },
     "execution_count": 29,
     "metadata": {},
     "output_type": "execute_result"
    }
   ],
   "source": [
    "samples[1]"
   ]
  },
  {
   "cell_type": "markdown",
   "metadata": {},
   "source": [
    "## Stock Solution Setup"
   ]
  },
  {
   "cell_type": "code",
   "execution_count": 11,
   "metadata": {},
   "outputs": [],
   "source": [
    "stock_solutions = {\n",
    "    'MA_Pb_I3': dict(well = 'A1', molarity = 2, solvent = dict(DMSO = 9, DMF = 1), volume = 4e-3),\n",
    "    'Cs_Pb_I3': dict(well = 'A2', molarity = 3, solvent = dict(DMSO = 1), volume = 4e-3),\n",
    "    'FA_Pb_I3': dict(well = 'A3', molarity = 2, solvent = dict(DMSO = 9, DMF = 1), volume = 4e-3)\n",
    "}\n",
    "stock_wells = {v['well']:comp for comp,v in stock_solutions.items()}"
   ]
  },
  {
   "cell_type": "code",
   "execution_count": 12,
   "metadata": {},
   "outputs": [
    {
     "name": "stdout",
     "output_type": "stream",
     "text": [
      "=== Stock Solution Volume Check === \n",
      "A1 (MA_Pb_I3)\t4.00/4.40 mL\t!!!!! NOT ENOUGH STOCK !!!!!\n",
      "A2 (Cs_Pb_I3)\t4.00/3.07 mL\tOK\n",
      "A3 (FA_Pb_I3)\t4.00/4.40 mL\t!!!!! NOT ENOUGH STOCK !!!!!\n"
     ]
    }
   ],
   "source": [
    "min_volume_to_aspirate = 4e-4 #volume below which the liquid level is too low to properly aspirate. This sets a volume floor\n",
    "necessary_stock = {v['well']:min_volume_to_aspirate for v in stock_solutions.values()}\n",
    "\n",
    "for i, s in enumerate(samples):\n",
    "    this_mix = calculate_mix(s['composition'], 150e-6, stock_solutions) \n",
    "    for well, amount in this_mix.items():\n",
    "        necessary_stock[well] += amount\n",
    "    samples[i]['stock_mixture'] = this_mix\n",
    "\n",
    "print('=== Stock Solution Volume Check === ')\n",
    "for well, amt_needed in necessary_stock.items():\n",
    "    amt_in_well = stock_solutions[stock_wells[well]]['volume']\n",
    "    amt_ratio = amt_in_well/amt_needed\n",
    "    \n",
    "    if amt_ratio > 2:\n",
    "        status = 'Not taking any chances, are you?'\n",
    "    elif amt_ratio > 1.1:\n",
    "        status = 'OK'\n",
    "    elif amt_ratio > 1:\n",
    "        status = 'Cutting it close...'\n",
    "    else:\n",
    "        status = '!!!!! NOT ENOUGH STOCK !!!!!'\n",
    "        \n",
    "    print(f'{well} ({stock_wells[well]})\\t{amt_in_well*1000:.2f}/{amt_needed*1000:.2f} mL\\t{status}')"
   ]
  },
  {
   "cell_type": "markdown",
   "metadata": {},
   "source": [
    "### Stock solution per well, assuming distributing from stock -> 96 well plate -> spincoating"
   ]
  },
  {
   "cell_type": "code",
   "execution_count": 25,
   "metadata": {},
   "outputs": [],
   "source": [
    "transfers = {well:dict(destination_wells = [], transfer_volumes = [])  for well in stock_wells}\n",
    "for destination_well, destination_well_contents in mixing_wells.items():\n",
    "    need = calculate_mix(destination_well_contents['composition'], destination_well_contents['volume'], stock_solutions)\n",
    "    for stock_well, stock_volume_to_transfer in need.items():\n",
    "        if stock_volume_to_transfer > 0:\n",
    "            transfers[stock_well]['destination_wells'].append(destination_well)\n",
    "            transfers[stock_well]['transfer_volumes'].append(stock_volume_to_transfer)"
   ]
  },
  {
   "cell_type": "markdown",
   "metadata": {},
   "source": [
    "# Initializing Hardware"
   ]
  },
  {
   "cell_type": "code",
   "execution_count": null,
   "metadata": {},
   "outputs": [],
   "source": [
    "from opentrons import protocol_api\n",
    "import opentrons.execute\n",
    "\n",
    "# metadata()\n",
    "metadata = {\n",
    "    'protocolName': 'My Protocol',\n",
    "    'author': 'Name <email@address.com>',\n",
    "    'description': 'Simple protocol to get started using OT2',\n",
    "    'apiLevel': '2.6'\n",
    "}\n",
    "\n",
    "\n",
    "# protocol run function. the part after the colon lets your editor know\n",
    "# where to look for autocomplete suggestions\n",
    "# def run(protocol: protocol_api.ProtocolContext):\n",
    "\n",
    "#     # labware\n",
    "#     plate = protocol.load_labware('corning_96_wellplate_360ul_flat', '2')\n",
    "#     tiprack = protocol.load_labware('opentrons_96_tiprack_300ul', '1')\n",
    "\n",
    "#     # pipettes\n",
    "#     left_pipette = protocol.load_instrument(\n",
    "#          'p300_single', 'left', tip_racks=[tiprack])\n",
    "\n",
    "#     # commands\n",
    "#     left_pipette.pick_up_tip()\n",
    "#     left_pipette.aspirate(100, plate['A1'])\n",
    "#     left_pipette.dispense(100, plate['B2'])\n",
    "#     left_pipette.drop_tip()"
   ]
  },
  {
   "cell_type": "markdown",
   "metadata": {},
   "source": [
    "Initialize robot/protocol control + lab hardware"
   ]
  },
  {
   "cell_type": "code",
   "execution_count": null,
   "metadata": {},
   "outputs": [],
   "source": [
    "protocol = opentrons.execute.get_protocol_api('2.6')\n",
    "protocol.home()"
   ]
  },
  {
   "cell_type": "code",
   "execution_count": null,
   "metadata": {},
   "outputs": [],
   "source": [
    "#labware\n",
    "stock_wells = protocol.load_labware('FRG_4ml_v0', '1') #Labware identifier, deck position\n",
    "mixing_wells = protocol.load_labware('96wellplate', '2')\n",
    "tiprack = protocol.load_labware('opentrons_96_tiprack_300ul', '3')\n",
    "\n",
    "#pipettes\n",
    "left_pipette = protocol.load_instrument('p300_single', 'left', tip_racks = [tiprack])"
   ]
  },
  {
   "cell_type": "markdown",
   "metadata": {},
   "source": [
    "# Automation Begin"
   ]
  },
  {
   "cell_type": "markdown",
   "metadata": {},
   "source": [
    "Distribute stock solutions to well plate"
   ]
  },
  {
   "cell_type": "code",
   "execution_count": null,
   "metadata": {},
   "outputs": [],
   "source": [
    "for source_well, transfer_info in transfers.items():\n",
    "    pipette.transfer(\n",
    "        transfer_info['transfer_volumes'],\n",
    "        stock_wells[source_well],\n",
    "        [mixing_wells.wells_by_name()[well_name] for well_name in ['B1', 'B2', 'B3']])"
   ]
  },
  {
   "cell_type": "markdown",
   "metadata": {},
   "source": [
    "Run the experiment!"
   ]
  }
 ],
 "metadata": {
  "kernelspec": {
   "display_name": "Python 3",
   "language": "python",
   "name": "python3"
  },
  "language_info": {
   "codemirror_mode": {
    "name": "ipython",
    "version": 3
   },
   "file_extension": ".py",
   "mimetype": "text/x-python",
   "name": "python",
   "nbconvert_exporter": "python",
   "pygments_lexer": "ipython3",
   "version": "3.8.5"
  }
 },
 "nbformat": 4,
 "nbformat_minor": 4
}
