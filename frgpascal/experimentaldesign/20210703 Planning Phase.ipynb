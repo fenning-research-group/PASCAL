{
 "cells": [
  {
   "cell_type": "code",
   "execution_count": 1,
   "source": [
    "import numpy as np\r\n",
    "import matplotlib.pyplot as plt\r\n",
    "import pandas as p\r\n",
    "import collections\r\n",
    "import uuid\r\n",
    "import itertools\r\n",
    "import json\r\n",
    "import csv\r\n",
    "from frgpascal.hardware.sampletray import SampleTray, AVAILABLE_VERSIONS as sampletray_versions\r\n",
    "from frgpascal.hardware.liquidlabware import LiquidLabware, AVAILABLE_VERSIONS as liquid_labware_versions\r\n",
    "from frgpascal.hardware.hotplate import AVAILABLE_VERSIONS as hotplate_versions\r\n",
    "from frgpascal.experimentaldesign.helpers import where_to_store, calculate_mix, build_sample_list, generate_unique_id\r\n",
    "from frgpascal.experimentaldesign.recipes import SolutionRecipe, SpincoatRecipe, AnnealRecipe, Sample\r\n",
    "from frgpascal.experimentaldesign.tasks import *"
   ],
   "outputs": [],
   "metadata": {}
  },
  {
   "cell_type": "markdown",
   "source": [
    "# Placeholder Workflow"
   ],
   "metadata": {}
  },
  {
   "cell_type": "code",
   "execution_count": 2,
   "source": [
    "def build_solution_library(sample_list, stock_solutions):\r\n",
    "    \"\"\"\r\n",
    "    finds volume required for each unique solution\r\n",
    "    assigns a (labware, well) per solution\r\n",
    "    generates a mixing netlist for liquid handler to convert stocks to mixed solutions\r\n",
    "    \"\"\"\r\n",
    "    return solution_map, lh_netlist"
   ],
   "outputs": [],
   "metadata": {}
  },
  {
   "cell_type": "code",
   "execution_count": 3,
   "source": [
    "def finalize_sample_list(sample_list, solution_map):\r\n",
    "    \"\"\"\r\n",
    "    assigns the storage slots (tray, slot) and solution sources (labware, well)\r\n",
    "    to each sample.\r\n",
    "    \"\"\"\r\n",
    "    return final_sample_list, tray_list"
   ],
   "outputs": [],
   "metadata": {}
  },
  {
   "cell_type": "markdown",
   "source": [
    "# Define Labware"
   ],
   "metadata": {}
  },
  {
   "cell_type": "markdown",
   "source": [
    "## Storage Trays"
   ],
   "metadata": {}
  },
  {
   "cell_type": "code",
   "execution_count": 4,
   "source": [
    "print('Available Versions:')\r\n",
    "for v in sampletray_versions:\r\n",
    "    print(f'\\t{v}')"
   ],
   "outputs": [
    {
     "output_type": "stream",
     "name": "stdout",
     "text": [
      "Available Versions:\n",
      "\tstorage_v1\n",
      "\tstorage_v2\n"
     ]
    }
   ],
   "metadata": {}
  },
  {
   "cell_type": "code",
   "execution_count": 5,
   "source": [
    "sample_trays = [\r\n",
    "    SampleTray(\r\n",
    "        name='Tray1',\r\n",
    "        version='storage_v1',\r\n",
    "        gantry=None,\r\n",
    "        gripper=None,\r\n",
    "        p0=[0,0,0]\r\n",
    "    ),\r\n",
    "    SampleTray(\r\n",
    "        name='Tray2',\r\n",
    "        version='storage_v1',\r\n",
    "        gantry=None,\r\n",
    "        gripper=None,\r\n",
    "        p0=[0,0,0]\r\n",
    "    )\r\n",
    "]"
   ],
   "outputs": [],
   "metadata": {}
  },
  {
   "cell_type": "markdown",
   "source": [
    "## Liquid Labware \n",
    "Versions are defined by the same json files used to define custom labware for the Opentrons2 liquid handler. \n",
    "\n",
    "New labware can be defined by following https://support.opentrons.com/en/articles/3136504-creating-custom-labware-definitions"
   ],
   "metadata": {}
  },
  {
   "cell_type": "code",
   "execution_count": 6,
   "source": [
    "print('Available Versions:')\r\n",
    "for v in liquid_labware_versions:\r\n",
    "    print(f'\\t{v}')"
   ],
   "outputs": [
    {
     "output_type": "stream",
     "name": "stdout",
     "text": [
      "Available Versions:\n",
      "\tfrg_12_wellplate_15000ul\n",
      "\tfrg_24_wellplate_4000ul\n",
      "\tfrg_spincoater_v1\n",
      "\tgreiner_96_wellplate_360ul\n",
      "\tsartorius_safetyspace_tiprack_200ul\n"
     ]
    }
   ],
   "metadata": {}
  },
  {
   "cell_type": "markdown",
   "source": [
    "Include _all possible_ liquid storage. Later on we will narrow this down to what is required once we know what solutions and volumes we need"
   ],
   "metadata": {}
  },
  {
   "cell_type": "code",
   "execution_count": 7,
   "source": [
    "solution_storage = [\r\n",
    "    # LiquidLabware(\r\n",
    "    #     name='96_Plate1',\r\n",
    "    #     version='greiner_96_wellplate_360ul'\r\n",
    "    # ),\r\n",
    "    # LiquidLabware(\r\n",
    "    #     name='96_Plate2',\r\n",
    "    #     version='greiner_96_wellplate_360ul'\r\n",
    "    # ),\r\n",
    "    LiquidLabware(\r\n",
    "        name='4mL_Tray1',\r\n",
    "        version='frg_24_wellplate_4000ul'\r\n",
    "    ),\r\n",
    "\r\n",
    "    LiquidLabware(\r\n",
    "        name='4mL_Tray2',\r\n",
    "        version='frg_24_wellplate_4000ul'\r\n",
    "    ),\r\n",
    "    LiquidLabware(\r\n",
    "        name='15mL_Tray1',\r\n",
    "        version='frg_12_wellplate_15000ul'   \r\n",
    "    ),\r\n",
    "    LiquidLabware(\r\n",
    "        name='15m_Tray2',\r\n",
    "        version='frg_12_wellplate_15000ul'\r\n",
    "    ),\r\n",
    "]\r\n",
    "\r\n",
    "#sort by volume,name\r\n",
    "solution_storage.sort(key=lambda labware: labware.name)\r\n",
    "solution_storage.sort(key=lambda labware: labware.volume)\r\n",
    "print('Priority Fill Order:')\r\n",
    "for ss in solution_storage: print(ss)"
   ],
   "outputs": [
    {
     "output_type": "stream",
     "name": "stdout",
     "text": [
      "Priority Fill Order:\n",
      "<LiquidLabware> 4mL_Tray1, 4.0 mL volume, 24 wells\n",
      "<LiquidLabware> 4mL_Tray2, 4.0 mL volume, 24 wells\n",
      "<LiquidLabware> 15mL_Tray1, 15.0 mL volume, 12 wells\n",
      "<LiquidLabware> 15m_Tray2, 15.0 mL volume, 12 wells\n"
     ]
    }
   ],
   "metadata": {}
  },
  {
   "cell_type": "markdown",
   "source": [
    "## Define Experimental Mesh\n",
    "\n",
    "Each of the following cells defines one dimension of the experiment. After defining the individual dimensions, a full sample list will be constructed using a user-selected Design of Expeiment (DOE)"
   ],
   "metadata": {}
  },
  {
   "cell_type": "markdown",
   "source": [
    "### List of unique substrates. \n",
    "Eventually these may link to specific sample id's, but for now just set the unique types of substrates used"
   ],
   "metadata": {}
  },
  {
   "cell_type": "code",
   "execution_count": 8,
   "source": [
    "input_substrates = [\r\n",
    "    '1mm_FTO'\r\n",
    "]"
   ],
   "outputs": [],
   "metadata": {}
  },
  {
   "cell_type": "markdown",
   "source": [
    "### List of target solutions to spin cast. \n",
    "\n",
    "Solutions are defined using `SolutionRecipe` class instances.\n",
    "\n",
    "Chemical formula is defined with underscores between each component. If no coefficient is provided, assumes =1. Example:\n",
    "\n",
    "``` \n",
    "SolutionRecipe(\n",
    "        solutes='MA_Pb_I3',\n",
    "        solvent='DMF9_DMSO1',\n",
    "        molarity=1\n",
    "    )\n",
    "```"
   ],
   "metadata": {}
  },
  {
   "cell_type": "code",
   "execution_count": 9,
   "source": [
    "target_solutions = [\r\n",
    "    SolutionRecipe(\r\n",
    "        solutes='MA_Pb_I3',\r\n",
    "        solvent='DMF9_DMSO1',\r\n",
    "        molarity=1\r\n",
    "    ),\r\n",
    "    # SolutionRecipe(\r\n",
    "    #     solutes='FA_Pb_I3',\r\n",
    "    #     solvent='DMF9_DMSO1',\r\n",
    "    #     molarity=1\r\n",
    "    # ),\r\n",
    "    # SolutionRecipe(\r\n",
    "    #     solutes='FA0.25_MA0.75_Pb_I3',\r\n",
    "    #     solvent='DMF9_DMSO1',\r\n",
    "    #     molarity=1\r\n",
    "    # ),\r\n",
    "    # SolutionRecipe(\r\n",
    "    #     solutes='FA0.75_MA0.25_Pb_I3',\r\n",
    "    #     solvent='DMF9_DMSO1',\r\n",
    "    #     molarity=1\r\n",
    "    # ),\r\n",
    "    # SolutionRecipe(\r\n",
    "    #     solutes='MA0.5_FA0.5_Pb_I3',\r\n",
    "    #     solvent='DMF9_DMSO1',\r\n",
    "    #     molarity=1\r\n",
    "    # ),\r\n",
    "]"
   ],
   "outputs": [],
   "metadata": {}
  },
  {
   "cell_type": "markdown",
   "source": [
    "### Spincoating Recipes\n"
   ],
   "metadata": {}
  },
  {
   "cell_type": "markdown",
   "source": [
    "#### Defining Antisolvents\n",
    "Antisolvents are also defined using `SolutionRecipe` class instances. Solutes are left empty, and molarity is unused so can be left as 1/whatever number you like.\n",
    "\n",
    "Example:\n",
    "``` \n",
    "SolutionRecipe(\n",
    "        solutes='',\n",
    "        solvent='Chlorobenzene',\n",
    "        molarity=1\n",
    "    )\n",
    "```\n",
    "\n",
    "Note that these do not have to be stored in a list, as antisolvents are not considered a standalone experimental dimension. We will include these as spincoating parameters, which along with spin speeds etc. form an experimental dimension that can be permuted/whatever"
   ],
   "metadata": {}
  },
  {
   "cell_type": "code",
   "execution_count": 10,
   "source": [
    "cb_antisolvent = SolutionRecipe(\r\n",
    "            solutes='',\r\n",
    "            solvent='Chlorobenzene',\r\n",
    "            molarity=1\r\n",
    "        )\r\n",
    "# ma_antisolvent = SolutionRecipe(\r\n",
    "#             solutes='',\r\n",
    "#             solvent='MethylAcetate',\r\n",
    "#             molarity=1\r\n",
    "#         )"
   ],
   "outputs": [],
   "metadata": {}
  },
  {
   "cell_type": "markdown",
   "source": [
    "\n",
    "#### Defining spincoating parameters\n",
    "\n",
    "Spincoating recipes are defined using the `SpincoatRecipe` object. This consists of a nested list of [speed, acceleration, duration] spin steps. The `SolutionRecipe`, volume, and droptime of both the initial solution and optional antisolvent are also defined. Drop times are relative to t=0. Static spincoating (dispense before spin start) can be achieved by setting a negative number for drop time. Example:\n",
    "\n",
    "```\n",
    "SpincoatRecipe(\n",
    "        steps=[\n",
    "            [500,1000,20], #speed (rpm), acceleration (rpm/s), duration (s)\n",
    "            [4000,4000,30]\n",
    "        ],\n",
    "        solution=SolutionRecipe(...), #this would usually be defined earlier\n",
    "        solution_volume=100, #uL\n",
    "        solution_droptime=-5, #seconds relative to start time\n",
    "        antisolvent=SolutionRecipe(...), #also defined earlier\n",
    "        antisolvent_volume=50, #seconds relative to start time\n",
    "        antisolvent_droptime=40,\n",
    "    )\n",
    "```\n",
    "\n",
    "the initial solution is typically left out here, as it will be filled in with the `target_solutions` defined earlier when building the DOE. Example:\n",
    "\n",
    "```\n",
    "SpincoatRecipe(\n",
    "        steps=[\n",
    "            [500,1000,20], #speed (rpm), acceleration (rpm/s), duration (s)\n",
    "            [4000,4000,30]\n",
    "        ],\n",
    "        solution_volume=100, #uL\n",
    "        solution_droptime=-5, #seconds relative to start time\n",
    "        antisolvent=SolutionRecipe(...), #also defined earlier\n",
    "        antisolvent_volume=50, #seconds relative to start time\n",
    "        antisolvent_droptime=40,\n",
    "    )\n",
    "```\n",
    "\n",
    "In the case that no antisolvent is needed, the three antisolvent terms can be left out.\n",
    "\n",
    "```\n",
    "SpincoatRecipe(\n",
    "        steps=[\n",
    "            [500,1000,20], #speed (rpm), acceleration (rpm/s), duration (s)\n",
    "            [4000,4000,30]\n",
    "        ],\n",
    "        solution=SolutionRecipe(...), #this would usually be defined earlier\n",
    "        solution_volume=100, #uL\n",
    "        solution_droptime=-5, #seconds relative to start time\n",
    "    )\n",
    "```"
   ],
   "metadata": {}
  },
  {
   "cell_type": "code",
   "execution_count": 11,
   "source": [
    "spincoat_recipes = [\r\n",
    "    SpincoatRecipe(\r\n",
    "        steps=[\r\n",
    "            [500,1000,20], #speed (rpm), acceleration (rpm/s), duration (s)\r\n",
    "            [4000,4000,30]\r\n",
    "        ],\r\n",
    "        solution_volume=20, #uL\r\n",
    "        solution_droptime=-5, #seconds relative to start time\r\n",
    "        antisolvent=cb_antisolvent,\r\n",
    "        antisolvent_volume=40, #seconds relative to start time\r\n",
    "        antisolvent_droptime=40,\r\n",
    "    ),\r\n",
    "    SpincoatRecipe(\r\n",
    "        steps=[\r\n",
    "            [500,1000,20],\r\n",
    "            [4000,4000,30]\r\n",
    "        ],\r\n",
    "        solution_volume=20, #uL\r\n",
    "        solution_droptime=-5,\r\n",
    "        antisolvent=cb_antisolvent,\r\n",
    "        antisolvent_volume=40,\r\n",
    "        antisolvent_droptime=45,\r\n",
    "    ),\r\n",
    "]\r\n"
   ],
   "outputs": [],
   "metadata": {}
  },
  {
   "cell_type": "markdown",
   "source": [
    "#### Annealing Conditions\n",
    "Annealing conditions are defined as a list of `AnnealRecipe` class instances. Only two parameters - temperature (C) and duration (s)\n",
    "\n",
    "Example:\n",
    "``` \n",
    "    AnnealRecipe(\n",
    "        temperature=100, #degrees C\n",
    "        duration=60*60, #seconds\n",
    "    ),\n",
    "```"
   ],
   "metadata": {}
  },
  {
   "cell_type": "code",
   "execution_count": 12,
   "source": [
    "anneal_recipes = [\r\n",
    "    AnnealRecipe(\r\n",
    "        temperature=100, #degrees C\r\n",
    "        duration=4*60, #seconds\r\n",
    "    ),\r\n",
    "    # AnnealRecipe(\r\n",
    "    #     temperature=120, #degrees C\r\n",
    "    #     duration=60*40, #seconds\r\n",
    "    # ),\r\n",
    "    # AnnealRecipe(\r\n",
    "    #     temperature=140, #degrees C\r\n",
    "    #     duration=60*20, #seconds\r\n",
    "    # ),\r\n",
    "]"
   ],
   "outputs": [],
   "metadata": {}
  },
  {
   "cell_type": "markdown",
   "source": [
    "## Design of Experiment\n",
    "\n",
    "currently only a full-factorial design is implemented. arguments are lists defined above, and n_repeats is the number of times to repeat each unique combination of conditions"
   ],
   "metadata": {}
  },
  {
   "cell_type": "code",
   "execution_count": 13,
   "source": [
    "samples = build_sample_list(\r\n",
    "    available_trays = sample_trays,\r\n",
    "    input_substrates = input_substrates,\r\n",
    "    target_solutions = target_solutions,\r\n",
    "    spincoat_recipes=spincoat_recipes,\r\n",
    "    anneal_recipes=anneal_recipes,\r\n",
    "    n_repeats=2\r\n",
    ")\r\n",
    "unique_solutions = list(set(\r\n",
    "    [s.spincoat_recipe.solution for s in samples]\r\n",
    "    + [s.spincoat_recipe.antisolvent for s in samples]))\r\n",
    "\r\n",
    "print(f'{len(unique_solutions)} unique solutions required across {len(samples)} planned samples')"
   ],
   "outputs": [
    {
     "output_type": "stream",
     "name": "stdout",
     "text": [
      "2 unique solutions required across 4 planned samples\n"
     ]
    }
   ],
   "metadata": {}
  },
  {
   "cell_type": "markdown",
   "source": [
    "# Preparing the Solutions"
   ],
   "metadata": {}
  },
  {
   "cell_type": "markdown",
   "source": [
    "## Define Stock Solutions\n",
    "\n",
    "These are the solutions that you will be mixing to (hopefully) cover your target solutions. If they don't work, the code will tell you, and you can come back to this point and try again."
   ],
   "metadata": {}
  },
  {
   "cell_type": "code",
   "execution_count": 14,
   "source": [
    "stock_solutions = [\r\n",
    "    SolutionRecipe(\r\n",
    "        solutes='MA_Pb_I3',\r\n",
    "        solvent='DMF9_DMSO1',\r\n",
    "        molarity=1\r\n",
    "    ),\r\n",
    "    SolutionRecipe(\r\n",
    "        solutes='FA_Pb_I3',\r\n",
    "        solvent='DMF9_DMSO1',\r\n",
    "        molarity=1\r\n",
    "    ),\r\n",
    "    SolutionRecipe(\r\n",
    "        solutes='',\r\n",
    "        solvent='DMF',\r\n",
    "        molarity=1\r\n",
    "    ),\r\n",
    "    SolutionRecipe(\r\n",
    "        solutes='',\r\n",
    "        solvent='DMSO',\r\n",
    "        molarity=1\r\n",
    "    ),\r\n",
    "    SolutionRecipe(\r\n",
    "        solutes='',\r\n",
    "        solvent='Chlorobenzene',\r\n",
    "        molarity=1\r\n",
    "    ),\r\n",
    "    SolutionRecipe(\r\n",
    "        solutes='',\r\n",
    "        solvent='MethylAcetate',\r\n",
    "        molarity=1\r\n",
    "    ),\r\n",
    "]"
   ],
   "outputs": [],
   "metadata": {}
  },
  {
   "cell_type": "markdown",
   "source": [
    "Can we cover target solutions with these stocks? and if so, how much of each stock to mix for each target?"
   ],
   "metadata": {}
  },
  {
   "cell_type": "code",
   "execution_count": 15,
   "source": [
    "min_volume = 0\r\n",
    "solution_details = {s:dict(volume=min_volume, labware=None, slot=None) for s in unique_solutions}\r\n",
    "for s in samples:\r\n",
    "    for sol in [s.spincoat_recipe.solution, s.spincoat_recipe.antisolvent]:\r\n",
    "        if sol is not None:\r\n",
    "            solution_details[sol]['volume'] += s.spincoat_recipe.solution_volume\r\n",
    "    "
   ],
   "outputs": [],
   "metadata": {}
  },
  {
   "cell_type": "code",
   "execution_count": 16,
   "source": [
    "mixtures = np.array([\r\n",
    "    calculate_mix(\r\n",
    "        target=solution,\r\n",
    "        volume=v['volume'],\r\n",
    "        stock_solutions = stock_solutions\r\n",
    "    ) for solution, v in solution_details.items()])"
   ],
   "outputs": [],
   "metadata": {}
  },
  {
   "cell_type": "code",
   "execution_count": 17,
   "source": [
    "volumes_needed_per_stock = {\r\n",
    "    soln: vol for soln,vol in zip(stock_solutions,mixtures.sum(axis=0))}\r\n",
    "for s, v in volumes_needed_per_stock.items():\r\n",
    "    if v > 0:\r\n",
    "        print(f'{v/1e3} mL of {s}')"
   ],
   "outputs": [
    {
     "output_type": "stream",
     "name": "stdout",
     "text": [
      "0.08 mL of <SolutionRecipe> 1M MA_Pb_I3 in DMF9_DMSO1\n",
      "0.08 mL of <SolutionRecipe> Chlorobenzene\n"
     ]
    }
   ],
   "metadata": {}
  },
  {
   "cell_type": "markdown",
   "source": [
    "Which solutions need to be made from stocks?"
   ],
   "metadata": {}
  },
  {
   "cell_type": "code",
   "execution_count": 18,
   "source": [
    "to_be_mixed = {s:v for s,v in solution_details.items() if s not in stock_solutions}"
   ],
   "outputs": [],
   "metadata": {}
  },
  {
   "cell_type": "code",
   "execution_count": 19,
   "source": [
    "for solution, v in solution_details.items():\r\n",
    "    ll = where_to_store(v['volume'], solution_storage) #which liquid labware\r\n",
    "    slot = ll.load(solution)\r\n",
    "    solution_details[solution]['labware'] = ll.name\r\n",
    "    solution_details[solution]['slot'] = slot"
   ],
   "outputs": [],
   "metadata": {}
  },
  {
   "cell_type": "code",
   "execution_count": 20,
   "source": [
    "for s in samples:\r\n",
    "    solution = s.spincoat_recipe.solution\r\n",
    "    d = solution_details[solution]\r\n",
    "    solution.well = {\r\n",
    "        'tray': d['labware'],\r\n",
    "        'slot': d['slot'],\r\n",
    "    }\r\n",
    "\r\n",
    "    antisolvent = s.spincoat_recipe.antisolvent\r\n",
    "    if antisolvent is not None:\r\n",
    "        d = solution_details[antisolvent]\r\n",
    "        antisolvent.well = {\r\n",
    "            'tray': d['labware'],\r\n",
    "            'slot': d['slot'],\r\n",
    "        }"
   ],
   "outputs": [],
   "metadata": {}
  },
  {
   "cell_type": "markdown",
   "source": [
    "Set up the mixing netlist for liquid handler"
   ],
   "metadata": {}
  },
  {
   "cell_type": "code",
   "execution_count": 21,
   "source": [
    "mixing_netlist = {} #destination: {source, volume}\r\n",
    "\r\n",
    "for target, target_v in solution_details.items():\r\n",
    "    if target in stock_solutions:\r\n",
    "        continue #stock solution is already made\r\n",
    "    destination = f\"{target_v['labware']}-{target_v['slot']}\"\r\n",
    "    mixing_netlist[destination] = {}\r\n",
    "    required_volumes = calculate_mix(\r\n",
    "        target=target,\r\n",
    "        volume=target_v['volume'],\r\n",
    "        stock_solutions = stock_solutions\r\n",
    "    )\r\n",
    "    for stock, vol in zip(stock_solutions, required_volumes):\r\n",
    "        if vol > 0:    \r\n",
    "            stock_v = solution_details[stock]\r\n",
    "            source = f\"{stock_v['labware']}-{stock_v['slot']}\"\r\n",
    "            mixing_netlist[destination][source]=vol\r\n",
    "            \r\n"
   ],
   "outputs": [],
   "metadata": {}
  },
  {
   "cell_type": "markdown",
   "source": [
    "## Build the Experiment Schedule"
   ],
   "metadata": {}
  },
  {
   "cell_type": "code",
   "execution_count": 22,
   "source": [
    "for s in samples:\r\n",
    "    s.tasks = generate_tasks_for_sample(s)"
   ],
   "outputs": [],
   "metadata": {}
  },
  {
   "cell_type": "code",
   "execution_count": 23,
   "source": [
    "scheduler = Scheduler(\r\n",
    "    samples=samples,\r\n",
    "    spanning_tasks = [\r\n",
    "        (StorageToSpincoater, SpincoaterToHotplate),\r\n",
    "        (StorageToCharacterization, CharacterizationToStorage),\r\n",
    "    ] #these tasks spanning each pair must be done in sequence per sample\r\n",
    ")\r\n",
    "scheduler.solve(5) #argument defines how long (s) to work on finding a solution"
   ],
   "outputs": [],
   "metadata": {}
  },
  {
   "cell_type": "code",
   "execution_count": 24,
   "source": [
    "ordered_tasks = [\r\n",
    "    task\r\n",
    "    for sample in samples\r\n",
    "    for task in sample.tasks\r\n",
    "]\r\n",
    "ordered_tasks.sort(key=lambda x:x.start)"
   ],
   "outputs": [],
   "metadata": {}
  },
  {
   "cell_type": "code",
   "execution_count": 25,
   "source": [
    "for precedent, task in zip(ordered_tasks, ordered_tasks[1:]):\r\n",
    "    if precedent.start == task.start:\r\n",
    "        task.precedents = precedent.precedents\r\n",
    "    elif (precedent.task in ['anneal', 'cooldown']) and (precedent.sample != task.sample):\r\n",
    "        continue\r\n",
    "    elif precedent not in [p[0] for p in task.precedents]:\r\n",
    "        task.precedents.append((precedent, False))\r\n"
   ],
   "outputs": [],
   "metadata": {}
  },
  {
   "cell_type": "markdown",
   "source": [
    "# Write final files to disk"
   ],
   "metadata": {}
  },
  {
   "cell_type": "markdown",
   "source": [
    "## Write mixing netlist to disk, will be copy-pasted into listener.py protocol"
   ],
   "metadata": {}
  },
  {
   "cell_type": "code",
   "execution_count": 26,
   "source": [
    "with open('ot2netlist.json', 'w') as f:\r\n",
    "    json.dump(mixing_netlist, f, indent=4, sort_keys=True)\r\n",
    "print('Liquid Handler Netlist String dumped to \"ot2netlist.json\"')"
   ],
   "outputs": [
    {
     "output_type": "stream",
     "name": "stdout",
     "text": [
      "Liquid Handler Netlist String dumped to \"ot2netlist.json\"\n"
     ]
    }
   ],
   "metadata": {}
  },
  {
   "cell_type": "markdown",
   "source": [
    "## Maestro netlist to disk, will be input to maestro to execute experiment"
   ],
   "metadata": {}
  },
  {
   "cell_type": "code",
   "execution_count": 27,
   "source": [
    "ordered_task_output = [\r\n",
    "    task.to_dict() for task in ordered_tasks\r\n",
    "]\r\n",
    "samples_output = {sample.name:sample.to_dict() for sample in samples}\r\n",
    "out = {\r\n",
    "    'samples': samples_output,\r\n",
    "    'tasks': ordered_task_output,\r\n",
    "}\r\n",
    "with open('maestronetlist.json', 'w') as f:\r\n",
    "    json.dump(out, f, indent=4, sort_keys=True)\r\n",
    "print('Maestro Netlist dumped to \"maestronetlist.json\"')"
   ],
   "outputs": [
    {
     "output_type": "stream",
     "name": "stdout",
     "text": [
      "Maestro Netlist dumped to \"maestronetlist.json\"\n"
     ]
    }
   ],
   "metadata": {}
  },
  {
   "cell_type": "markdown",
   "source": [
    "## Solution Instructions to csv, tells operator where/how much to put solutions"
   ],
   "metadata": {}
  },
  {
   "cell_type": "code",
   "execution_count": 28,
   "source": [
    "with open('stock_solutions.csv', 'w', newline='') as f:\r\n",
    "    writer = csv.writer(f, delimiter=',')\r\n",
    "    header = [\r\n",
    "        'Tray',\r\n",
    "        'Slot',\r\n",
    "        'Volume (uL)',\r\n",
    "        'Solutes',\r\n",
    "        'Molarity (M)',\r\n",
    "        'Solvent',        \r\n",
    "    ]\r\n",
    "    writer.writerow(header)\r\n",
    "    for solution, details in solution_details.items():\r\n",
    "        volume = volumes_needed_per_stock.get(solution, 'Empty Vial')    \r\n",
    "        line = [\r\n",
    "            details['labware'],\r\n",
    "            details['slot'],\r\n",
    "            volume,\r\n",
    "            solution.solutes,\r\n",
    "            solution.molarity,\r\n",
    "            solution.solvent,\r\n",
    "        ]\r\n",
    "        writer.writerow(line)"
   ],
   "outputs": [],
   "metadata": {}
  },
  {
   "cell_type": "code",
   "execution_count": null,
   "source": [],
   "outputs": [],
   "metadata": {}
  },
  {
   "cell_type": "code",
   "execution_count": null,
   "source": [],
   "outputs": [],
   "metadata": {}
  }
 ],
 "metadata": {
  "kernelspec": {
   "name": "python3",
   "display_name": "Python 3.8.10 64-bit ('pascal2': conda)"
  },
  "language_info": {
   "codemirror_mode": {
    "name": "ipython",
    "version": 3
   },
   "file_extension": ".py",
   "mimetype": "text/x-python",
   "name": "python",
   "nbconvert_exporter": "python",
   "pygments_lexer": "ipython3",
   "version": "3.8.10"
  },
  "interpreter": {
   "hash": "ee3ea656ac412a33cb4c8a1f8b45b66501601dec0bad2f972f9694fa6a8bf20e"
  }
 },
 "nbformat": 4,
 "nbformat_minor": 5
}