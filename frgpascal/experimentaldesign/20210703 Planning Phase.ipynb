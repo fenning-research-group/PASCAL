{
 "cells": [
  {
   "cell_type": "code",
   "execution_count": 1,
   "id": "wicked-examination",
   "metadata": {},
   "outputs": [],
   "source": [
    "import numpy as np\n",
    "import matplotlib.pyplot as plt\n",
    "import pandas as pd\n",
    "import collections\n",
    "import uuid\n",
    "import itertools\n",
    "import json\n",
    "from frgpascal.experimentaldesign.recipes import SolutionRecipe, SpincoatRecipe, AnnealRecipe, Sample, from_json\n",
    "from frgpascal.experimentaldesign.helpers import components_to_name\n",
    "from copy import deepcopy"
   ]
  },
  {
   "cell_type": "markdown",
   "id": "universal-gallery",
   "metadata": {},
   "source": [
    "# Helper Functions"
   ]
  },
  {
   "cell_type": "code",
   "execution_count": 2,
   "id": "adverse-slovak",
   "metadata": {},
   "outputs": [],
   "source": [
    "def generate_unique_id():\n",
    "    return str(uuid.uuid4())"
   ]
  },
  {
   "cell_type": "markdown",
   "id": "sticky-holmes",
   "metadata": {},
   "source": [
    "# Placeholder Workflow"
   ]
  },
  {
   "cell_type": "code",
   "execution_count": 3,
   "id": "mighty-closure",
   "metadata": {},
   "outputs": [],
   "source": [
    "def build_sample_list(input_substrates, target_solutions, spincoat_recipes, anneal_recipes, n_repeats=1):\n",
    "    \"\"\"\n",
    "    Permutes experimental mesh into sample list\n",
    "    \"\"\"\n",
    "    sample_list = []\n",
    "    \n",
    "    for idx, (sub, sol, sc, an) in enumerate(itertools.product(input_substrates, target_solutions, spincoat_recipes, anneal_recipes)):\n",
    "        # recipe_id = generate_unique_id()\n",
    "        sc_ = deepcopy(sc)\n",
    "        sc_.solution = sol\n",
    "        \n",
    "        for r in range(n_repeats):\n",
    "            sample_list.append(Sample(\n",
    "                name=f'sample{idx}',\n",
    "                substrate=sub,\n",
    "                spincoat_recipe=sc_,\n",
    "                anneal_recipe=an,\n",
    "                # sampleid=sampleid\n",
    "            ))\n",
    "            \n",
    "    return sample_list"
   ]
  },
  {
   "cell_type": "code",
   "execution_count": 4,
   "id": "complicated-mailman",
   "metadata": {},
   "outputs": [],
   "source": [
    "def suggest_stock_solutions(target_solutions):\n",
    "    \"\"\"\n",
    "    suggests smallest number of stock solutions required to cover the\n",
    "    target solution space\n",
    "    \"\"\"\n",
    "    \n",
    "    return stock_solutions"
   ]
  },
  {
   "cell_type": "code",
   "execution_count": 5,
   "metadata": {},
   "outputs": [],
   "source": [
    "from scipy.optimize import nnls\n",
    "\n",
    "def calculate_mix(target: SolutionRecipe, volume: float, stock_solutions: list, tolerance:float =0.05):\n",
    "    \"\"\"\n",
    "    given a target solution, target volume, and list of stock solutions, calculates\n",
    "    the volumes needed from individual stocks to achieve target composition\n",
    "\n",
    "    tolerance (float): maximum error for single site (relative, not absolute) allowed.\n",
    "    \n",
    "    \"\"\"        \n",
    "    # get possible solution components from stock list\n",
    "    components = set()\n",
    "    for s in stock_solutions:\n",
    "        components.update(s.solute_dict.keys(), s.solvent_dict.keys())\n",
    "    components = list(components) #sets are not order-preserving, lists are - just safer this way\n",
    "\n",
    "    # organize components into a stock matrix, keep track of which rows are solvents\n",
    "    stock_matrix = np.zeros((len(components), len(stock_solutions)))\n",
    "    solvent_idx = set()\n",
    "    for n, s in enumerate(stock_solutions):\n",
    "        for m, c in enumerate(components):\n",
    "            if c in s.solute_dict: \n",
    "                stock_matrix[m,n] = s.solute_dict[c]*s.molarity\n",
    "            elif c in s.solvent_dict:\n",
    "                stock_matrix[m,n] = s.solvent_dict[c]\n",
    "                solvent_idx.add(m)\n",
    "    solvent_idx = list(solvent_idx)\n",
    "\n",
    "    # organize target solution into a matrix of total mols desired of each component \n",
    "    target_matrix = np.zeros((len(components),))\n",
    "    for m, c in enumerate(components):\n",
    "        if c in target.solute_dict: \n",
    "            target_matrix[m] = target.solute_dict[c]*target.molarity*volume\n",
    "        elif c in target.solvent_dict:\n",
    "            target_matrix[m] = target.solvent_dict[c]*volume\n",
    "\n",
    "    # solve for the mixture amounts\n",
    "    amount_matrix, *data = nnls(stock_matrix, target_matrix, maxiter=1e3) #volumes to mix. math is better if not such small values in matrix, so scale to uL for calculation\n",
    "    amount_matrix[amount_matrix < 1] = 0 #clean up values that are essentially 0. If we have a significant negative value here, should get caught downstream\n",
    "    amount_matrix = np.round(amount_matrix) #round to nearest uL (values are in L at this point)\n",
    "\n",
    "    # double check that the solved amounts make sense\n",
    "    doublecheck = stock_matrix @ amount_matrix\n",
    "    doublecheck[solvent_idx] /= doublecheck[solvent_idx].sum() / volume #solvents should sum to one\n",
    "    # print(stock_matrix)\n",
    "    # print(amount_matrix)\n",
    "    # print(target_matrix)\n",
    "    composition_error = max([np.abs(1-c/t) for c,t in zip(doublecheck, target_matrix) if t>0]) #max single-component error fraction\n",
    "\n",
    "    if composition_error < 0.05: #check that we are within 5% error wrt target composition AT EACH SITE\n",
    "        return amount_matrix\n",
    "    else:\n",
    "        solute = components_to_name({c:amt/target.molarity/volume for c,amt in zip(components, doublecheck) if amt > 0 and c not in target.solvent_dict})\n",
    "        solvent = components_to_name({c:amt/target.molarity/volume for c,amt in zip(components, doublecheck) if amt > 0 and c in target.solvent_dict})\n",
    "        # print(solvent)\n",
    "        raise Exception(f'Unable to generate target solution ({volume} uL of {target}) with current stock solutions.\\n\\n'\\\n",
    "                        f'Closest match ({volume} uL of {target.molarity}M {solute} in {solvent}) has a max site error of {composition_error*100:.2f}%')#{Off by {composition_error*100:.2f}%%')"
   ]
  },
  {
   "cell_type": "code",
   "execution_count": 6,
   "id": "continuous-philip",
   "metadata": {},
   "outputs": [],
   "source": [
    "def build_solution_library(sample_list, stock_solutions):\n",
    "    \"\"\"\n",
    "    finds volume required for each unique solution\n",
    "    assigns a (labware, well) per solution\n",
    "    generates a mixing netlist for liquid handler to convert stocks to mixed solutions\n",
    "    \"\"\"\n",
    "    return solution_map, lh_netlist"
   ]
  },
  {
   "cell_type": "code",
   "execution_count": 7,
   "id": "threatened-inspector",
   "metadata": {},
   "outputs": [],
   "source": [
    "def finalize_sample_list(sample_list, solution_map):\n",
    "    \"\"\"\n",
    "    assigns the storage slots (tray, slot) and solution sources (labware, well)\n",
    "    to each sample.\n",
    "    \"\"\"\n",
    "    return final_sample_list, tray_list"
   ]
  },
  {
   "cell_type": "markdown",
   "id": "laughing-assembly",
   "metadata": {},
   "source": [
    "## Generate Example Recipes"
   ]
  },
  {
   "cell_type": "code",
   "execution_count": 8,
   "id": "offshore-williams",
   "metadata": {},
   "outputs": [],
   "source": [
    "input_substrates = [\n",
    "    '1mm_FTO'\n",
    "]"
   ]
  },
  {
   "cell_type": "code",
   "execution_count": 9,
   "id": "silent-october",
   "metadata": {},
   "outputs": [],
   "source": [
    "target_solutions = [\n",
    "    SolutionRecipe(\n",
    "        solutes='MA_Pb_I3',\n",
    "        solvent='DMF9_DMSO1',\n",
    "        molarity=1\n",
    "    ),\n",
    "    SolutionRecipe(\n",
    "        solutes='FA_Pb_I3',\n",
    "        solvent='DMF9_DMSO1',\n",
    "        molarity=1\n",
    "    ),\n",
    "    SolutionRecipe(\n",
    "        solutes='FA0.25_MA0.75_Pb_I3',\n",
    "        solvent='DMF9_DMSO1',\n",
    "        molarity=1\n",
    "    ),\n",
    "    SolutionRecipe(\n",
    "        solutes='FA0.75_MA0.25_Pb_I3',\n",
    "        solvent='DMF9_DMSO1',\n",
    "        molarity=1\n",
    "    ),\n",
    "    SolutionRecipe(\n",
    "        solutes='MA0.5_FA0.5_Pb_I3',\n",
    "        solvent='DMF9_DMSO1',\n",
    "        molarity=1\n",
    "    ),\n",
    "]"
   ]
  },
  {
   "cell_type": "code",
   "execution_count": 10,
   "metadata": {},
   "outputs": [],
   "source": [
    "cb_antisolvent = SolutionRecipe(\n",
    "            solutes='',\n",
    "            solvent='Chlorobenzene',\n",
    "            molarity=1\n",
    "        )\n",
    "ma_antisolvent = SolutionRecipe(\n",
    "            solutes='',\n",
    "            solvent='MethylAcetate',\n",
    "            molarity=1\n",
    "        )\n"
   ]
  },
  {
   "cell_type": "code",
   "execution_count": 11,
   "id": "focal-catalyst",
   "metadata": {},
   "outputs": [],
   "source": [
    "spincoat_recipes = [\n",
    "    SpincoatRecipe(\n",
    "        steps=[\n",
    "            [500,1000,20], #speed (rpm), acceleration (rpm/s), duration (s)\n",
    "            [4000,4000,30]\n",
    "        ],\n",
    "        solution_volume=100, #uL\n",
    "        solution_droptime=-5, #seconds relative to start time\n",
    "        antisolvent=cb_antisolvent,\n",
    "        antisolvent_volume=50, #seconds relative to start time\n",
    "        antisolvent_droptime=40,\n",
    "    ),\n",
    "    SpincoatRecipe(\n",
    "        steps=[\n",
    "            [500,1000,20],\n",
    "            [4000,4000,30]\n",
    "        ],\n",
    "        solution_volume=100, #uL\n",
    "        solution_droptime=-5,\n",
    "        antisolvent=cb_antisolvent,\n",
    "        antisolvent_volume=50,\n",
    "        antisolvent_droptime=45,\n",
    "    ),\n",
    "]\n"
   ]
  },
  {
   "cell_type": "code",
   "execution_count": 12,
   "id": "reliable-killing",
   "metadata": {},
   "outputs": [],
   "source": [
    "anneal_recipes = [\n",
    "    AnnealRecipe(\n",
    "        temperature=100, #degrees C\n",
    "        duration=60*10, #seconds\n",
    "    ),\n",
    "    AnnealRecipe(\n",
    "        temperature=120, #degrees C\n",
    "        duration=60*7.5, #seconds\n",
    "    ),\n",
    "    AnnealRecipe(\n",
    "        temperature=140, #degrees C\n",
    "        duration=60*5, #seconds\n",
    "    ),\n",
    "]"
   ]
  },
  {
   "cell_type": "code",
   "execution_count": 14,
   "id": "thousand-mumbai",
   "metadata": {},
   "outputs": [
    {
     "output_type": "stream",
     "name": "stdout",
     "text": [
      "6 unique solutions required across 60 planned samples\n"
     ]
    }
   ],
   "source": [
    "samples = build_sample_list(\n",
    "    input_substrates = input_substrates,\n",
    "    target_solutions = target_solutions,\n",
    "    spincoat_recipes=spincoat_recipes,\n",
    "    anneal_recipes=anneal_recipes,\n",
    "    n_repeats=2\n",
    ")\n",
    "unique_solutions = list(set(\n",
    "    [s.spincoat_recipe.solution for s in samples]\n",
    "    + [s.spincoat_recipe.antisolvent for s in samples]))\n",
    "\n",
    "print(f'{len(unique_solutions)} unique solutions required across {len(samples)} planned samples')"
   ]
  },
  {
   "source": [
    "## Define Stock Solutions"
   ],
   "cell_type": "markdown",
   "metadata": {}
  },
  {
   "cell_type": "code",
   "execution_count": 15,
   "metadata": {},
   "outputs": [],
   "source": [
    "stock_solutions = [\n",
    "    SolutionRecipe(\n",
    "        solutes='MA_Pb_I3',\n",
    "        solvent='DMF9_DMSO1',\n",
    "        molarity=1\n",
    "    ),\n",
    "    SolutionRecipe(\n",
    "        solutes='FA_Pb_I3',\n",
    "        solvent='DMF9_DMSO1',\n",
    "        molarity=1\n",
    "    ),\n",
    "    SolutionRecipe(\n",
    "        solutes='',\n",
    "        solvent='DMF',\n",
    "        molarity=1\n",
    "    ),\n",
    "    SolutionRecipe(\n",
    "        solutes='',\n",
    "        solvent='DMSO',\n",
    "        molarity=1\n",
    "    ),\n",
    "    SolutionRecipe(\n",
    "        solutes='',\n",
    "        solvent='Chlorobenzene',\n",
    "        molarity=1\n",
    "    ),\n",
    "    SolutionRecipe(\n",
    "        solutes='',\n",
    "        solvent='MethylAcetate',\n",
    "        molarity=1\n",
    "    ),\n",
    "]"
   ]
  },
  {
   "source": [
    "Can we cover target solutions with these stocks? and if so, how much of each stock to mix for each target?"
   ],
   "cell_type": "markdown",
   "metadata": {}
  },
  {
   "cell_type": "code",
   "execution_count": 16,
   "metadata": {},
   "outputs": [],
   "source": [
    "min_volume = 0\n",
    "solution_details = {s:dict(volume=min_volume, labware=None, slot=None) for s in unique_solutions}\n",
    "for s in samples:\n",
    "    for sol in [s.spincoat_recipe.solution, s.spincoat_recipe.antisolvent]:\n",
    "        if sol is not None:\n",
    "            solution_details[sol]['volume'] += s.spincoat_recipe.solution_volume\n",
    "    "
   ]
  },
  {
   "cell_type": "code",
   "execution_count": 17,
   "metadata": {},
   "outputs": [],
   "source": [
    "mixtures = np.array([\n",
    "    calculate_mix(\n",
    "        target=solution,\n",
    "        volume=v['volume'],\n",
    "        stock_solutions = stock_solutions\n",
    "    ) for solution, v in solution_details.items()])"
   ]
  },
  {
   "cell_type": "code",
   "execution_count": 19,
   "metadata": {},
   "outputs": [
    {
     "output_type": "stream",
     "name": "stdout",
     "text": [
      "3.0 mL of <SolutionRecipe> 1M MA_Pb_I3 in DMF9_DMSO1\n3.0 mL of <SolutionRecipe> 1M FA_Pb_I3 in DMF9_DMSO1\n6.0 mL of <SolutionRecipe> Chlorobenzene\n"
     ]
    }
   ],
   "source": [
    "volumes_needed_per_stock = mixtures.sum(axis=0)\n",
    "for s, v in zip(stock_solutions, volumes_needed_per_stock):\n",
    "    if v > 0:\n",
    "        print(f'{v/1e3} mL of {s}')"
   ]
  },
  {
   "source": [
    "Which solutions need to be made from stocks?"
   ],
   "cell_type": "markdown",
   "metadata": {}
  },
  {
   "cell_type": "code",
   "execution_count": 20,
   "metadata": {},
   "outputs": [],
   "source": [
    "to_be_mixed = {s:v for s,v in solution_details.items() if s not in stock_solutions}"
   ]
  },
  {
   "source": [
    "What vessel do we need to put everything in? depends on required volumes"
   ],
   "cell_type": "markdown",
   "metadata": {}
  },
  {
   "cell_type": "code",
   "execution_count": 25,
   "metadata": {},
   "outputs": [],
   "source": [
    "class LiquidLabware:\n",
    "    def __init__(self, name, volume, numx, numy):\n",
    "        if '-' in name:\n",
    "            raise ValueError(' \"-\" character not allowed in LiquidLabware name')\n",
    "        self.name = name\n",
    "        self.volume = volume \n",
    "        self.shape = (numy, numx)\n",
    "        self.capacity = numx * numy\n",
    "        self.contents = {}\n",
    "        self.__generate_coordinates()\n",
    "        self.__index = 0\n",
    "\n",
    "    def load(self, content):\n",
    "        try:\n",
    "            slot = self._openslots.pop(0)   \n",
    "            self.contents[slot] = content\n",
    "            return slot \n",
    "        except IndexError as e:\n",
    "            raise IndexError('This labware is full!')\n",
    "\n",
    "    def __generate_coordinates(self):\n",
    "        def letter(num):\n",
    "            # converts number (0-25) to letter (A-Z)\n",
    "            return chr(ord(\"A\") + num)\n",
    "\n",
    "        self._openslots = []\n",
    "        ycoords = [\n",
    "            letter(self.shape[1] - yidx - 1) for yidx in range(self.shape[1])\n",
    "        ]  # lettering +y -> -y = A -> Z\n",
    "\n",
    "        for yidx in ycoords[::-1]:  # y\n",
    "            for xidx in range(self.shape[0]): # x\n",
    "                name = f\"{yidx}{xidx+1}\"\n",
    "                self._openslots.append(name)\n",
    "\n",
    "    def __repr__(self):\n",
    "        out = f'<LiquidLabware> {self.name}, {self.volume/1e3} mL volume, {self.capacity} wells'\n",
    "        return out"
   ]
  },
  {
   "cell_type": "code",
   "execution_count": 49,
   "metadata": {},
   "outputs": [
    {
     "output_type": "stream",
     "name": "stdout",
     "text": [
      "Priority Fill Order:\n<LiquidLabware> 96_Plate1, 0.2 mL volume, 96 wells\n<LiquidLabware> 96_Plate2, 0.2 mL volume, 96 wells\n<LiquidLabware> 4mL_Tray1, 4.0 mL volume, 24 wells\n<LiquidLabware> 4mL_Tray2, 4.0 mL volume, 24 wells\n<LiquidLabware> 15mL_Tray1, 15.0 mL volume, 12 wells\n<LiquidLabware> 15m_Tray2, 15.0 mL volume, 12 wells\n"
     ]
    }
   ],
   "source": [
    "solution_storage = [\n",
    "    LiquidLabware(\n",
    "        name='96_Plate1',\n",
    "        volume=200,\n",
    "        numx=12,\n",
    "        numy=8\n",
    "    ),\n",
    "    LiquidLabware(\n",
    "        name='96_Plate2',\n",
    "        volume=200,\n",
    "        numx=12,\n",
    "        numy=8\n",
    "    ),\n",
    "    LiquidLabware(\n",
    "        name='4mL_Tray1',\n",
    "        volume=4000,\n",
    "        numx=6,\n",
    "        numy=4\n",
    "    ),\n",
    "\n",
    "    LiquidLabware(\n",
    "        name='4mL_Tray2',\n",
    "        volume=4000,\n",
    "        numx=6,\n",
    "        numy=4\n",
    "    ),\n",
    "    LiquidLabware(\n",
    "        name='15mL_Tray1',\n",
    "        volume=15000,\n",
    "        numx=4,\n",
    "        numy=3\n",
    "    ),\n",
    "    LiquidLabware(\n",
    "        name='15m_Tray2',\n",
    "        volume=15000,\n",
    "        numx=4,\n",
    "        numy=3\n",
    "    ),\n",
    "]\n",
    "\n",
    "#sort by volume,name\n",
    "solution_storage.sort(key=lambda labware: labware.name)\n",
    "solution_storage.sort(key=lambda labware: labware.volume)\n",
    "print('Priority Fill Order:')\n",
    "for ss in solution_storage: print(ss)"
   ]
  },
  {
   "cell_type": "code",
   "execution_count": 50,
   "metadata": {},
   "outputs": [],
   "source": [
    "def where_to_store(volume, options):\n",
    "    for ll in options:\n",
    "        if volume <= ll.volume and len(ll._openslots) > 0:\n",
    "            return ll\n",
    "    raise ValueError(f'No options have enough space to hold {volume/1e3:.2f} mL!')\n",
    "\n"
   ]
  },
  {
   "cell_type": "code",
   "execution_count": 51,
   "metadata": {},
   "outputs": [],
   "source": [
    "for solution, v in solution_details.items():\n",
    "    ll = where_to_store(v['volume'], solution_storage) #which liquid labware\n",
    "    slot = ll.load(solution)\n",
    "    solution_details[solution]['labware'] = ll.name\n",
    "    solution_details[solution]['slot'] = slot"
   ]
  },
  {
   "cell_type": "code",
   "execution_count": 52,
   "metadata": {},
   "outputs": [
    {
     "output_type": "execute_result",
     "data": {
      "text/plain": [
       "{<SolutionRecipe> 1M MA_Pb_I3 in DMF9_DMSO1: {'volume': 1200,\n",
       "  'labware': '4mL_Tray1',\n",
       "  'slot': 'A1'},\n",
       " <SolutionRecipe> 1M MA0.5_FA0.5_Pb_I3 in DMF9_DMSO1: {'volume': 1200,\n",
       "  'labware': '4mL_Tray1',\n",
       "  'slot': 'A2'},\n",
       " <SolutionRecipe> 1M FA0.75_MA0.25_Pb_I3 in DMF9_DMSO1: {'volume': 1200,\n",
       "  'labware': '4mL_Tray1',\n",
       "  'slot': 'A3'},\n",
       " <SolutionRecipe> 1M FA_Pb_I3 in DMF9_DMSO1: {'volume': 1200,\n",
       "  'labware': '4mL_Tray1',\n",
       "  'slot': 'A4'},\n",
       " <SolutionRecipe> Chlorobenzene: {'volume': 6000,\n",
       "  'labware': '15mL_Tray1',\n",
       "  'slot': 'A1'},\n",
       " <SolutionRecipe> 1M FA0.25_MA0.75_Pb_I3 in DMF9_DMSO1: {'volume': 1200,\n",
       "  'labware': '4mL_Tray1',\n",
       "  'slot': 'B1'}}"
      ]
     },
     "metadata": {},
     "execution_count": 52
    }
   ],
   "source": [
    "solution_details"
   ]
  },
  {
   "source": [
    "Set up the mixing netlist for liquid handler"
   ],
   "cell_type": "markdown",
   "metadata": {}
  },
  {
   "cell_type": "code",
   "execution_count": 53,
   "metadata": {},
   "outputs": [],
   "source": [
    "mixing_netlist = {} #destination: {source, volume}\n",
    "\n",
    "for target, target_v in solution_details.items():\n",
    "    if target in stock_solutions:\n",
    "        continue #stock solution is already made\n",
    "    destination = f\"{target_v['labware']}-{target_v['slot']}\"\n",
    "    mixing_netlist[destination] = {}\n",
    "    required_volumes = calculate_mix(\n",
    "        target=target,\n",
    "        volume=target_v['volume'],\n",
    "        stock_solutions = stock_solutions\n",
    "    )\n",
    "    for stock, vol in zip(stock_solutions, required_volumes):\n",
    "        if vol > 0:    \n",
    "            stock_v = solution_details[stock]\n",
    "            source = f\"{stock_v['labware']}-{stock_v['slot']}\"\n",
    "            mixing_netlist[destination][source]=vol\n",
    "            \n"
   ]
  },
  {
   "source": [
    "Set up the sample instructions using specific labware/slots"
   ],
   "cell_type": "markdown",
   "metadata": {}
  },
  {
   "cell_type": "code",
   "execution_count": 77,
   "metadata": {},
   "outputs": [],
   "source": [
    "class Worker:\n",
    "    def __init__(self, name, capacity):\n",
    "        self.name = name\n",
    "        self.capacity = capacity\n",
    "\n",
    "    def __repr__(self):\n",
    "        return f'<Worker> {self.name}'"
   ]
  },
  {
   "cell_type": "code",
   "execution_count": 87,
   "metadata": {},
   "outputs": [
    {
     "output_type": "execute_result",
     "data": {
      "text/plain": [
       "[<Worker> gantry_gripper,\n",
       " <Worker> spincoater_liquidhander,\n",
       " <Worker> hotplate,\n",
       " <Worker> storage,\n",
       " <Worker> characterizationline]"
      ]
     },
     "metadata": {},
     "execution_count": 87
    }
   ],
   "source": [
    "gg = Worker(name='gantry_gripper', capacity=1)\n",
    "sclh = Worker(name='spincoater_liquidhander', capacity=1)\n",
    "hp = Worker(name='hotplate', capacity=25)\n",
    "st = Worker(name='storage', capacity=45)\n",
    "cl = Worker(name='characterizationline', capacity=1)\n",
    "\n",
    "workers = [gg,sclh,hp,st,cl]\n",
    "workers"
   ]
  },
  {
   "cell_type": "code",
   "execution_count": 191,
   "metadata": {},
   "outputs": [],
   "source": [
    "class Task:\n",
    "    def __init__(self, sample, task, workers, duration, start_time = 0, task_details = '', precedents=[]):\n",
    "        self.sample=sample\n",
    "        self.workers = workers\n",
    "        self.task = task\n",
    "        self.task_details = task_details\n",
    "        self.taskid = f'{task}-{str(uuid.uuid4())}'\n",
    "        self.precedentids = precedents\n",
    "        self.duration = int(duration)\n",
    "        self.start_time = start_time\n",
    "\n",
    "    def __repr__(self):\n",
    "        return f'<Task> {self.sample.name}, {self.task}'\n",
    "    @property\n",
    "    def start_time(self):\n",
    "        return self.__start_time\n",
    "\n",
    "    @start_time.setter\n",
    "    def start_time(self, t):\n",
    "        self.__start_time = int(t)\n",
    "        self.end_time = int(t+self.duration)\n",
    "\n",
    "    def __eq__(self, other):\n",
    "        return other==self.taskid\n",
    "\n",
    "\n",
    "class StorageToSpincoater(Task):\n",
    "    def __init__(self, sample, precedents=[], start_time = 0):\n",
    "        super().__init__(\n",
    "            sample=sample,\n",
    "            task='storage_to_spincoater',\n",
    "            workers=[gg, sclh],\n",
    "            duration=30,\n",
    "            precedents = precedents,\n",
    "            start_time = start_time\n",
    "            )\n",
    "class Spincoat(Task):\n",
    "    def __init__(self, sample, recipe:SpincoatRecipe, precedents=[], start_time = 0):\n",
    "        super().__init__(\n",
    "            sample=sample,\n",
    "            task='spincoat',\n",
    "            workers=[sclh],\n",
    "            duration=recipe.duration + 45,\n",
    "            task_details=recipe.to_json(),\n",
    "            precedents = precedents,\n",
    "            start_time = start_time\n",
    "            )\n",
    "class SpincoaterToHotplate(Task):\n",
    "    def __init__(self, sample, precedents=[], start_time = 0):\n",
    "        super().__init__(\n",
    "            sample=sample,\n",
    "            task='spincoater_to_hotplate',\n",
    "            workers=[gg, sclh],\n",
    "            duration= 30,\n",
    "            precedents = precedents,\n",
    "            start_time = start_time\n",
    "            )\n",
    "class Anneal(Task):\n",
    "    def __init__(self, sample, recipe:AnnealRecipe, precedents=[], start_time = 0):\n",
    "        super().__init__(\n",
    "            sample=sample,\n",
    "            task='anneal',\n",
    "            workers=[hp],\n",
    "            duration=recipe.duration,\n",
    "            task_details=recipe.to_json(),\n",
    "            precedents = precedents,\n",
    "            start_time = start_time\n",
    "            )\n",
    "class HotplateToStorage(Task):\n",
    "    def __init__(self, sample, precedents=[], start_time = 0):\n",
    "        super().__init__(\n",
    "            sample=sample,\n",
    "            task='hot',\n",
    "            workers=[gg],\n",
    "            duration= 30,\n",
    "            precedents = precedents,\n",
    "            start_time = start_time\n",
    "            )\n",
    "class Cooldown(Task):\n",
    "    def __init__(self, sample, precedents=[], start_time = 0):\n",
    "        super().__init__(\n",
    "            sample=sample,\n",
    "            task='cooldown',\n",
    "            workers=[st],\n",
    "            duration= 180,\n",
    "            precedents = precedents,\n",
    "            start_time = start_time\n",
    "            )\n",
    "class StorageToCharacterization(Task):\n",
    "    def __init__(self, sample, precedents=[], start_time = 0):\n",
    "        super().__init__(\n",
    "            sample=sample,\n",
    "            task='storage_to_characterization',\n",
    "            workers=[gg, cl],\n",
    "            duration= 30,\n",
    "            precedents = precedents,\n",
    "            start_time = start_time\n",
    "            )\n",
    "class Characterize(Task):\n",
    "    def __init__(self, sample, precedents=[], start_time = 0):\n",
    "        super().__init__(\n",
    "            sample=sample,\n",
    "            task='characterize',\n",
    "            workers=[cl],\n",
    "            duration= 120,\n",
    "            precedents = precedents,\n",
    "            start_time = start_time\n",
    "            )\n",
    "class CharacterizationToStorage(Task):\n",
    "    def __init__(self, sample, tray, slot, precedents=[], start_time = 0):\n",
    "        super().__init__(\n",
    "            sample=sample,\n",
    "            task='characterization_to_storage',\n",
    "            workers=[gg, cl],\n",
    "            duration= 30,\n",
    "            precedents = precedents,\n",
    "            start_time = start_time\n",
    "            )"
   ]
  },
  {
   "cell_type": "code",
   "execution_count": 192,
   "metadata": {},
   "outputs": [],
   "source": [
    "def generate_tasks_for_sample(sample: Sample, start_time = 0):\n",
    "    tasks = []\n",
    "    tasks.append(StorageToSpincoater(sample=sample, start_time=start_time))\n",
    "    tasks.append(Spincoat(sample=sample, recipe=sample.spincoat_recipe, start_time = tasks[-1].end_time))\n",
    "    tasks.append(SpincoaterToHotplate(sample=sample, start_time = tasks[-1].end_time))\n",
    "    tasks.append(Anneal(sample=sample, recipe = sample.anneal_recipe, start_time = tasks[-1].end_time))\n",
    "    tasks.append(HotplateToStorage(sample=sample, start_time = tasks[-1].end_time))\n",
    "    tasks.append(Cooldown(sample=sample, start_time = tasks[-1].end_time))\n",
    "    tasks.append(StorageToCharacterization(sample=sample, start_time = tasks[-1].end_time))\n",
    "    tasks.append(Characterize(sample=sample, start_time = tasks[-1].end_time))\n",
    "    tasks.append(SpincoaterToHotplate(sample=sample, start_time = tasks[-1].end_time))\n",
    "    return tasks"
   ]
  },
  {
   "cell_type": "code",
   "execution_count": 193,
   "metadata": {},
   "outputs": [],
   "source": [
    "tasks = collections.OrderedDict({s:generate_tasks_for_sample(s) for s in samples})"
   ]
  },
  {
   "cell_type": "code",
   "execution_count": 213,
   "metadata": {},
   "outputs": [],
   "source": [
    "from ortools.sat.python import cp_model\n",
    "\n",
    "class Scheduler:\n",
    "    def __init__(self, workers, tasks):\n",
    "        self.workers = workers\n",
    "        self.tasks = tasks\n",
    "        self.tasklist = [t\n",
    "            for sample_tasks in tasks.values()\n",
    "            for t in sample_tasks]\n",
    "        self.horizon = int(sum([\n",
    "            t.duration for t in self.tasklist]))\n",
    "        self.initialize_model()\n",
    "\n",
    "\n",
    "    def initialize_model(self):\n",
    "        self.model = cp_model.CpModel()\n",
    "        ending_variables = []\n",
    "        machine_intervals = {w:[] for w in self.workers}\n",
    "        ### Task Constraints\n",
    "        for sample, tasklist in self.tasks.items():\n",
    "            for i, task in enumerate(tasklist):\n",
    "                if i == 0:\n",
    "                    start_var = self.model.NewIntVar(task.start_time, self.horizon, \"start\"+str(task))\n",
    "                else:\n",
    "                    start_var = end_var\n",
    "                end_var = self.model.NewIntVar(task.end_time, self.horizon, \"end\"+str(task))\n",
    "                interval_var = self.model.NewIntervalVar(start_var, task.duration, end_var, \"interval\"+str(task))\n",
    "                for w in task.workers:\n",
    "                    machine_intervals[w].append(interval_var)\n",
    "                task._start = start_var\n",
    "                task._interval = interval_var\n",
    "                task._end = end_var\n",
    "            ending_variables.append(end_var)\n",
    "            \n",
    "\n",
    "        ### Worker Constraints\n",
    "        for w in workers:\n",
    "            intervals = machine_intervals[w]\n",
    "            if w.capacity > 1:\n",
    "                demands = [1 for _ in machine_intervals[w]]\n",
    "                self.model.AddCumulative(intervals, demands, w.capacity)\n",
    "            else:\n",
    "                self.model.AddNoOverlap(intervals)\n",
    "        objective_var = self.model.NewIntVar(0,self.horizon, 'makespan')\n",
    "        self.model.AddMaxEquality(objective_var, ending_variables)\n",
    "        self.model.Minimize(objective_var)\n",
    "\n",
    "    def solve(self, solve_time = 5):\n",
    "        self.solver = cp_model.CpSolver()\n",
    "        self.solver.parameters.max_time_in_seconds = solve_time\n",
    "        status = self.solver.Solve(self.model)\n",
    "\n",
    "    # def _set_start_time(self, task):\n",
    "    #     for pid in task.precedents:\n",
    "    #         ptidx = self.tasks.index(pid)\n",
    "    #         pt = self.tasks[ptidx]\n",
    "    #         if pt.end_time < task.start_time:\n",
    "    #             task.start_time = pt.end_time\n",
    "\n"
   ]
  },
  {
   "cell_type": "code",
   "execution_count": 234,
   "metadata": {},
   "outputs": [],
   "source": [
    "scheduler = Scheduler(\n",
    "    workers=workers,\n",
    "    tasks=tasks\n",
    ")"
   ]
  },
  {
   "cell_type": "code",
   "execution_count": 235,
   "metadata": {},
   "outputs": [],
   "source": [
    "scheduler.solve(30)"
   ]
  },
  {
   "cell_type": "code",
   "execution_count": 236,
   "metadata": {},
   "outputs": [
    {
     "output_type": "execute_result",
     "data": {
      "text/plain": [
       "Text(0.5, 0, 'Time (minutes)')"
      ]
     },
     "metadata": {},
     "execution_count": 236
    },
    {
     "output_type": "display_data",
     "data": {
      "text/plain": "<Figure size 1008x360 with 1 Axes>",
      "image/svg+xml": "<?xml version=\"1.0\" encoding=\"utf-8\" standalone=\"no\"?>\n<!DOCTYPE svg PUBLIC \"-//W3C//DTD SVG 1.1//EN\"\n  \"http://www.w3.org/Graphics/SVG/1.1/DTD/svg11.dtd\">\n<!-- Created with matplotlib (https://matplotlib.org/) -->\n<svg height=\"316.55625pt\" version=\"1.1\" viewBox=\"0 0 922.9875 316.55625\" width=\"922.9875pt\" xmlns=\"http://www.w3.org/2000/svg\" xmlns:xlink=\"http://www.w3.org/1999/xlink\">\n <metadata>\n  <rdf:RDF xmlns:cc=\"http://creativecommons.org/ns#\" xmlns:dc=\"http://purl.org/dc/elements/1.1/\" xmlns:rdf=\"http://www.w3.org/1999/02/22-rdf-syntax-ns#\">\n   <cc:Work>\n    <dc:type rdf:resource=\"http://purl.org/dc/dcmitype/StillImage\"/>\n    <dc:date>2021-07-16T17:07:54.111648</dc:date>\n    <dc:format>image/svg+xml</dc:format>\n    <dc:creator>\n     <cc:Agent>\n      <dc:title>Matplotlib v3.3.4, https://matplotlib.org/</dc:title>\n     </cc:Agent>\n    </dc:creator>\n   </cc:Work>\n  </rdf:RDF>\n </metadata>\n <defs>\n  <style type=\"text/css\">*{stroke-linecap:butt;stroke-linejoin:round;}</style>\n </defs>\n <g id=\"figure_1\">\n  <g id=\"patch_1\">\n   <path d=\"M 0 316.55625 \nL 922.9875 316.55625 \nL 922.9875 0 \nL 0 0 \nz\n\" style=\"fill:none;\"/>\n  </g>\n  <g id=\"axes_1\">\n   <g id=\"patch_2\">\n    <path d=\"M 134.5875 279 \nL 915.7875 279 \nL 915.7875 7.2 \nL 134.5875 7.2 \nz\n\" style=\"fill:#ffffff;\"/>\n   </g>\n   <g id=\"matplotlib.axis_1\">\n    <g id=\"xtick_1\">\n     <g id=\"line2d_1\">\n      <defs>\n       <path d=\"M 0 0 \nL 0 3.5 \n\" id=\"m2abd03b106\" style=\"stroke:#000000;stroke-width:0.8;\"/>\n      </defs>\n      <g>\n       <use style=\"stroke:#000000;stroke-width:0.8;\" x=\"163.224516\" xlink:href=\"#m2abd03b106\" y=\"279\"/>\n      </g>\n     </g>\n     <g id=\"text_1\">\n      <!-- 0 -->\n      <g transform=\"translate(160.043266 293.598437)scale(0.1 -0.1)\">\n       <defs>\n        <path d=\"M 31.78125 66.40625 \nQ 24.171875 66.40625 20.328125 58.90625 \nQ 16.5 51.421875 16.5 36.375 \nQ 16.5 21.390625 20.328125 13.890625 \nQ 24.171875 6.390625 31.78125 6.390625 \nQ 39.453125 6.390625 43.28125 13.890625 \nQ 47.125 21.390625 47.125 36.375 \nQ 47.125 51.421875 43.28125 58.90625 \nQ 39.453125 66.40625 31.78125 66.40625 \nz\nM 31.78125 74.21875 \nQ 44.046875 74.21875 50.515625 64.515625 \nQ 56.984375 54.828125 56.984375 36.375 \nQ 56.984375 17.96875 50.515625 8.265625 \nQ 44.046875 -1.421875 31.78125 -1.421875 \nQ 19.53125 -1.421875 13.0625 8.265625 \nQ 6.59375 17.96875 6.59375 36.375 \nQ 6.59375 54.828125 13.0625 64.515625 \nQ 19.53125 74.21875 31.78125 74.21875 \nz\n\" id=\"DejaVuSans-48\"/>\n       </defs>\n       <use xlink:href=\"#DejaVuSans-48\"/>\n      </g>\n     </g>\n    </g>\n    <g id=\"xtick_2\">\n     <g id=\"line2d_2\">\n      <g>\n       <use style=\"stroke:#000000;stroke-width:0.8;\" x=\"264.284446\" xlink:href=\"#m2abd03b106\" y=\"279\"/>\n      </g>\n     </g>\n     <g id=\"text_2\">\n      <!-- 25 -->\n      <g transform=\"translate(257.921946 293.598437)scale(0.1 -0.1)\">\n       <defs>\n        <path d=\"M 19.1875 8.296875 \nL 53.609375 8.296875 \nL 53.609375 0 \nL 7.328125 0 \nL 7.328125 8.296875 \nQ 12.9375 14.109375 22.625 23.890625 \nQ 32.328125 33.6875 34.8125 36.53125 \nQ 39.546875 41.84375 41.421875 45.53125 \nQ 43.3125 49.21875 43.3125 52.78125 \nQ 43.3125 58.59375 39.234375 62.25 \nQ 35.15625 65.921875 28.609375 65.921875 \nQ 23.96875 65.921875 18.8125 64.3125 \nQ 13.671875 62.703125 7.8125 59.421875 \nL 7.8125 69.390625 \nQ 13.765625 71.78125 18.9375 73 \nQ 24.125 74.21875 28.421875 74.21875 \nQ 39.75 74.21875 46.484375 68.546875 \nQ 53.21875 62.890625 53.21875 53.421875 \nQ 53.21875 48.921875 51.53125 44.890625 \nQ 49.859375 40.875 45.40625 35.40625 \nQ 44.1875 33.984375 37.640625 27.21875 \nQ 31.109375 20.453125 19.1875 8.296875 \nz\n\" id=\"DejaVuSans-50\"/>\n        <path d=\"M 10.796875 72.90625 \nL 49.515625 72.90625 \nL 49.515625 64.59375 \nL 19.828125 64.59375 \nL 19.828125 46.734375 \nQ 21.96875 47.46875 24.109375 47.828125 \nQ 26.265625 48.1875 28.421875 48.1875 \nQ 40.625 48.1875 47.75 41.5 \nQ 54.890625 34.8125 54.890625 23.390625 \nQ 54.890625 11.625 47.5625 5.09375 \nQ 40.234375 -1.421875 26.90625 -1.421875 \nQ 22.3125 -1.421875 17.546875 -0.640625 \nQ 12.796875 0.140625 7.71875 1.703125 \nL 7.71875 11.625 \nQ 12.109375 9.234375 16.796875 8.0625 \nQ 21.484375 6.890625 26.703125 6.890625 \nQ 35.15625 6.890625 40.078125 11.328125 \nQ 45.015625 15.765625 45.015625 23.390625 \nQ 45.015625 31 40.078125 35.4375 \nQ 35.15625 39.890625 26.703125 39.890625 \nQ 22.75 39.890625 18.8125 39.015625 \nQ 14.890625 38.140625 10.796875 36.28125 \nz\n\" id=\"DejaVuSans-53\"/>\n       </defs>\n       <use xlink:href=\"#DejaVuSans-50\"/>\n       <use x=\"63.623047\" xlink:href=\"#DejaVuSans-53\"/>\n      </g>\n     </g>\n    </g>\n    <g id=\"xtick_3\">\n     <g id=\"line2d_3\">\n      <g>\n       <use style=\"stroke:#000000;stroke-width:0.8;\" x=\"365.344377\" xlink:href=\"#m2abd03b106\" y=\"279\"/>\n      </g>\n     </g>\n     <g id=\"text_3\">\n      <!-- 50 -->\n      <g transform=\"translate(358.981877 293.598437)scale(0.1 -0.1)\">\n       <use xlink:href=\"#DejaVuSans-53\"/>\n       <use x=\"63.623047\" xlink:href=\"#DejaVuSans-48\"/>\n      </g>\n     </g>\n    </g>\n    <g id=\"xtick_4\">\n     <g id=\"line2d_4\">\n      <g>\n       <use style=\"stroke:#000000;stroke-width:0.8;\" x=\"466.404307\" xlink:href=\"#m2abd03b106\" y=\"279\"/>\n      </g>\n     </g>\n     <g id=\"text_4\">\n      <!-- 75 -->\n      <g transform=\"translate(460.041807 293.598437)scale(0.1 -0.1)\">\n       <defs>\n        <path d=\"M 8.203125 72.90625 \nL 55.078125 72.90625 \nL 55.078125 68.703125 \nL 28.609375 0 \nL 18.3125 0 \nL 43.21875 64.59375 \nL 8.203125 64.59375 \nz\n\" id=\"DejaVuSans-55\"/>\n       </defs>\n       <use xlink:href=\"#DejaVuSans-55\"/>\n       <use x=\"63.623047\" xlink:href=\"#DejaVuSans-53\"/>\n      </g>\n     </g>\n    </g>\n    <g id=\"xtick_5\">\n     <g id=\"line2d_5\">\n      <g>\n       <use style=\"stroke:#000000;stroke-width:0.8;\" x=\"567.464238\" xlink:href=\"#m2abd03b106\" y=\"279\"/>\n      </g>\n     </g>\n     <g id=\"text_5\">\n      <!-- 100 -->\n      <g transform=\"translate(557.920488 293.598437)scale(0.1 -0.1)\">\n       <defs>\n        <path d=\"M 12.40625 8.296875 \nL 28.515625 8.296875 \nL 28.515625 63.921875 \nL 10.984375 60.40625 \nL 10.984375 69.390625 \nL 28.421875 72.90625 \nL 38.28125 72.90625 \nL 38.28125 8.296875 \nL 54.390625 8.296875 \nL 54.390625 0 \nL 12.40625 0 \nz\n\" id=\"DejaVuSans-49\"/>\n       </defs>\n       <use xlink:href=\"#DejaVuSans-49\"/>\n       <use x=\"63.623047\" xlink:href=\"#DejaVuSans-48\"/>\n       <use x=\"127.246094\" xlink:href=\"#DejaVuSans-48\"/>\n      </g>\n     </g>\n    </g>\n    <g id=\"xtick_6\">\n     <g id=\"line2d_6\">\n      <g>\n       <use style=\"stroke:#000000;stroke-width:0.8;\" x=\"668.524168\" xlink:href=\"#m2abd03b106\" y=\"279\"/>\n      </g>\n     </g>\n     <g id=\"text_6\">\n      <!-- 125 -->\n      <g transform=\"translate(658.980418 293.598437)scale(0.1 -0.1)\">\n       <use xlink:href=\"#DejaVuSans-49\"/>\n       <use x=\"63.623047\" xlink:href=\"#DejaVuSans-50\"/>\n       <use x=\"127.246094\" xlink:href=\"#DejaVuSans-53\"/>\n      </g>\n     </g>\n    </g>\n    <g id=\"xtick_7\">\n     <g id=\"line2d_7\">\n      <g>\n       <use style=\"stroke:#000000;stroke-width:0.8;\" x=\"769.584099\" xlink:href=\"#m2abd03b106\" y=\"279\"/>\n      </g>\n     </g>\n     <g id=\"text_7\">\n      <!-- 150 -->\n      <g transform=\"translate(760.040349 293.598437)scale(0.1 -0.1)\">\n       <use xlink:href=\"#DejaVuSans-49\"/>\n       <use x=\"63.623047\" xlink:href=\"#DejaVuSans-53\"/>\n       <use x=\"127.246094\" xlink:href=\"#DejaVuSans-48\"/>\n      </g>\n     </g>\n    </g>\n    <g id=\"xtick_8\">\n     <g id=\"line2d_8\">\n      <g>\n       <use style=\"stroke:#000000;stroke-width:0.8;\" x=\"870.644029\" xlink:href=\"#m2abd03b106\" y=\"279\"/>\n      </g>\n     </g>\n     <g id=\"text_8\">\n      <!-- 175 -->\n      <g transform=\"translate(861.100279 293.598437)scale(0.1 -0.1)\">\n       <use xlink:href=\"#DejaVuSans-49\"/>\n       <use x=\"63.623047\" xlink:href=\"#DejaVuSans-55\"/>\n       <use x=\"127.246094\" xlink:href=\"#DejaVuSans-53\"/>\n      </g>\n     </g>\n    </g>\n    <g id=\"text_9\">\n     <!-- Time (minutes) -->\n     <g transform=\"translate(487.225 307.276562)scale(0.1 -0.1)\">\n      <defs>\n       <path d=\"M -0.296875 72.90625 \nL 61.375 72.90625 \nL 61.375 64.59375 \nL 35.5 64.59375 \nL 35.5 0 \nL 25.59375 0 \nL 25.59375 64.59375 \nL -0.296875 64.59375 \nz\n\" id=\"DejaVuSans-84\"/>\n       <path d=\"M 9.421875 54.6875 \nL 18.40625 54.6875 \nL 18.40625 0 \nL 9.421875 0 \nz\nM 9.421875 75.984375 \nL 18.40625 75.984375 \nL 18.40625 64.59375 \nL 9.421875 64.59375 \nz\n\" id=\"DejaVuSans-105\"/>\n       <path d=\"M 52 44.1875 \nQ 55.375 50.25 60.0625 53.125 \nQ 64.75 56 71.09375 56 \nQ 79.640625 56 84.28125 50.015625 \nQ 88.921875 44.046875 88.921875 33.015625 \nL 88.921875 0 \nL 79.890625 0 \nL 79.890625 32.71875 \nQ 79.890625 40.578125 77.09375 44.375 \nQ 74.3125 48.1875 68.609375 48.1875 \nQ 61.625 48.1875 57.5625 43.546875 \nQ 53.515625 38.921875 53.515625 30.90625 \nL 53.515625 0 \nL 44.484375 0 \nL 44.484375 32.71875 \nQ 44.484375 40.625 41.703125 44.40625 \nQ 38.921875 48.1875 33.109375 48.1875 \nQ 26.21875 48.1875 22.15625 43.53125 \nQ 18.109375 38.875 18.109375 30.90625 \nL 18.109375 0 \nL 9.078125 0 \nL 9.078125 54.6875 \nL 18.109375 54.6875 \nL 18.109375 46.1875 \nQ 21.1875 51.21875 25.484375 53.609375 \nQ 29.78125 56 35.6875 56 \nQ 41.65625 56 45.828125 52.96875 \nQ 50 49.953125 52 44.1875 \nz\n\" id=\"DejaVuSans-109\"/>\n       <path d=\"M 56.203125 29.59375 \nL 56.203125 25.203125 \nL 14.890625 25.203125 \nQ 15.484375 15.921875 20.484375 11.0625 \nQ 25.484375 6.203125 34.421875 6.203125 \nQ 39.59375 6.203125 44.453125 7.46875 \nQ 49.3125 8.734375 54.109375 11.28125 \nL 54.109375 2.78125 \nQ 49.265625 0.734375 44.1875 -0.34375 \nQ 39.109375 -1.421875 33.890625 -1.421875 \nQ 20.796875 -1.421875 13.15625 6.1875 \nQ 5.515625 13.8125 5.515625 26.8125 \nQ 5.515625 40.234375 12.765625 48.109375 \nQ 20.015625 56 32.328125 56 \nQ 43.359375 56 49.78125 48.890625 \nQ 56.203125 41.796875 56.203125 29.59375 \nz\nM 47.21875 32.234375 \nQ 47.125 39.59375 43.09375 43.984375 \nQ 39.0625 48.390625 32.421875 48.390625 \nQ 24.90625 48.390625 20.390625 44.140625 \nQ 15.875 39.890625 15.1875 32.171875 \nz\n\" id=\"DejaVuSans-101\"/>\n       <path id=\"DejaVuSans-32\"/>\n       <path d=\"M 31 75.875 \nQ 24.46875 64.65625 21.28125 53.65625 \nQ 18.109375 42.671875 18.109375 31.390625 \nQ 18.109375 20.125 21.3125 9.0625 \nQ 24.515625 -2 31 -13.1875 \nL 23.1875 -13.1875 \nQ 15.875 -1.703125 12.234375 9.375 \nQ 8.59375 20.453125 8.59375 31.390625 \nQ 8.59375 42.28125 12.203125 53.3125 \nQ 15.828125 64.359375 23.1875 75.875 \nz\n\" id=\"DejaVuSans-40\"/>\n       <path d=\"M 54.890625 33.015625 \nL 54.890625 0 \nL 45.90625 0 \nL 45.90625 32.71875 \nQ 45.90625 40.484375 42.875 44.328125 \nQ 39.84375 48.1875 33.796875 48.1875 \nQ 26.515625 48.1875 22.3125 43.546875 \nQ 18.109375 38.921875 18.109375 30.90625 \nL 18.109375 0 \nL 9.078125 0 \nL 9.078125 54.6875 \nL 18.109375 54.6875 \nL 18.109375 46.1875 \nQ 21.34375 51.125 25.703125 53.5625 \nQ 30.078125 56 35.796875 56 \nQ 45.21875 56 50.046875 50.171875 \nQ 54.890625 44.34375 54.890625 33.015625 \nz\n\" id=\"DejaVuSans-110\"/>\n       <path d=\"M 8.5 21.578125 \nL 8.5 54.6875 \nL 17.484375 54.6875 \nL 17.484375 21.921875 \nQ 17.484375 14.15625 20.5 10.265625 \nQ 23.53125 6.390625 29.59375 6.390625 \nQ 36.859375 6.390625 41.078125 11.03125 \nQ 45.3125 15.671875 45.3125 23.6875 \nL 45.3125 54.6875 \nL 54.296875 54.6875 \nL 54.296875 0 \nL 45.3125 0 \nL 45.3125 8.40625 \nQ 42.046875 3.421875 37.71875 1 \nQ 33.40625 -1.421875 27.6875 -1.421875 \nQ 18.265625 -1.421875 13.375 4.4375 \nQ 8.5 10.296875 8.5 21.578125 \nz\nM 31.109375 56 \nz\n\" id=\"DejaVuSans-117\"/>\n       <path d=\"M 18.3125 70.21875 \nL 18.3125 54.6875 \nL 36.8125 54.6875 \nL 36.8125 47.703125 \nL 18.3125 47.703125 \nL 18.3125 18.015625 \nQ 18.3125 11.328125 20.140625 9.421875 \nQ 21.96875 7.515625 27.59375 7.515625 \nL 36.8125 7.515625 \nL 36.8125 0 \nL 27.59375 0 \nQ 17.1875 0 13.234375 3.875 \nQ 9.28125 7.765625 9.28125 18.015625 \nL 9.28125 47.703125 \nL 2.6875 47.703125 \nL 2.6875 54.6875 \nL 9.28125 54.6875 \nL 9.28125 70.21875 \nz\n\" id=\"DejaVuSans-116\"/>\n       <path d=\"M 44.28125 53.078125 \nL 44.28125 44.578125 \nQ 40.484375 46.53125 36.375 47.5 \nQ 32.28125 48.484375 27.875 48.484375 \nQ 21.1875 48.484375 17.84375 46.4375 \nQ 14.5 44.390625 14.5 40.28125 \nQ 14.5 37.15625 16.890625 35.375 \nQ 19.28125 33.59375 26.515625 31.984375 \nL 29.59375 31.296875 \nQ 39.15625 29.25 43.1875 25.515625 \nQ 47.21875 21.78125 47.21875 15.09375 \nQ 47.21875 7.46875 41.1875 3.015625 \nQ 35.15625 -1.421875 24.609375 -1.421875 \nQ 20.21875 -1.421875 15.453125 -0.5625 \nQ 10.6875 0.296875 5.421875 2 \nL 5.421875 11.28125 \nQ 10.40625 8.6875 15.234375 7.390625 \nQ 20.0625 6.109375 24.8125 6.109375 \nQ 31.15625 6.109375 34.5625 8.28125 \nQ 37.984375 10.453125 37.984375 14.40625 \nQ 37.984375 18.0625 35.515625 20.015625 \nQ 33.0625 21.96875 24.703125 23.78125 \nL 21.578125 24.515625 \nQ 13.234375 26.265625 9.515625 29.90625 \nQ 5.8125 33.546875 5.8125 39.890625 \nQ 5.8125 47.609375 11.28125 51.796875 \nQ 16.75 56 26.8125 56 \nQ 31.78125 56 36.171875 55.265625 \nQ 40.578125 54.546875 44.28125 53.078125 \nz\n\" id=\"DejaVuSans-115\"/>\n       <path d=\"M 8.015625 75.875 \nL 15.828125 75.875 \nQ 23.140625 64.359375 26.78125 53.3125 \nQ 30.421875 42.28125 30.421875 31.390625 \nQ 30.421875 20.453125 26.78125 9.375 \nQ 23.140625 -1.703125 15.828125 -13.1875 \nL 8.015625 -13.1875 \nQ 14.5 -2 17.703125 9.0625 \nQ 20.90625 20.125 20.90625 31.390625 \nQ 20.90625 42.671875 17.703125 53.65625 \nQ 14.5 64.65625 8.015625 75.875 \nz\n\" id=\"DejaVuSans-41\"/>\n      </defs>\n      <use xlink:href=\"#DejaVuSans-84\"/>\n      <use x=\"57.958984\" xlink:href=\"#DejaVuSans-105\"/>\n      <use x=\"85.742188\" xlink:href=\"#DejaVuSans-109\"/>\n      <use x=\"183.154297\" xlink:href=\"#DejaVuSans-101\"/>\n      <use x=\"244.677734\" xlink:href=\"#DejaVuSans-32\"/>\n      <use x=\"276.464844\" xlink:href=\"#DejaVuSans-40\"/>\n      <use x=\"315.478516\" xlink:href=\"#DejaVuSans-109\"/>\n      <use x=\"412.890625\" xlink:href=\"#DejaVuSans-105\"/>\n      <use x=\"440.673828\" xlink:href=\"#DejaVuSans-110\"/>\n      <use x=\"504.052734\" xlink:href=\"#DejaVuSans-117\"/>\n      <use x=\"567.431641\" xlink:href=\"#DejaVuSans-116\"/>\n      <use x=\"606.640625\" xlink:href=\"#DejaVuSans-101\"/>\n      <use x=\"668.164062\" xlink:href=\"#DejaVuSans-115\"/>\n      <use x=\"720.263672\" xlink:href=\"#DejaVuSans-41\"/>\n     </g>\n    </g>\n   </g>\n   <g id=\"matplotlib.axis_2\">\n    <g id=\"ytick_1\">\n     <g id=\"line2d_9\">\n      <defs>\n       <path d=\"M 0 0 \nL -3.5 0 \n\" id=\"m67d3f2b554\" style=\"stroke:#000000;stroke-width:0.8;\"/>\n      </defs>\n      <g>\n       <use style=\"stroke:#000000;stroke-width:0.8;\" x=\"134.5875\" xlink:href=\"#m67d3f2b554\" y=\"253.365857\"/>\n      </g>\n     </g>\n     <g id=\"text_10\">\n      <!-- gantry_gripper -->\n      <g transform=\"translate(53.625 257.165076)scale(0.1 -0.1)\">\n       <defs>\n        <path d=\"M 45.40625 27.984375 \nQ 45.40625 37.75 41.375 43.109375 \nQ 37.359375 48.484375 30.078125 48.484375 \nQ 22.859375 48.484375 18.828125 43.109375 \nQ 14.796875 37.75 14.796875 27.984375 \nQ 14.796875 18.265625 18.828125 12.890625 \nQ 22.859375 7.515625 30.078125 7.515625 \nQ 37.359375 7.515625 41.375 12.890625 \nQ 45.40625 18.265625 45.40625 27.984375 \nz\nM 54.390625 6.78125 \nQ 54.390625 -7.171875 48.1875 -13.984375 \nQ 42 -20.796875 29.203125 -20.796875 \nQ 24.46875 -20.796875 20.265625 -20.09375 \nQ 16.0625 -19.390625 12.109375 -17.921875 \nL 12.109375 -9.1875 \nQ 16.0625 -11.328125 19.921875 -12.34375 \nQ 23.78125 -13.375 27.78125 -13.375 \nQ 36.625 -13.375 41.015625 -8.765625 \nQ 45.40625 -4.15625 45.40625 5.171875 \nL 45.40625 9.625 \nQ 42.625 4.78125 38.28125 2.390625 \nQ 33.9375 0 27.875 0 \nQ 17.828125 0 11.671875 7.65625 \nQ 5.515625 15.328125 5.515625 27.984375 \nQ 5.515625 40.671875 11.671875 48.328125 \nQ 17.828125 56 27.875 56 \nQ 33.9375 56 38.28125 53.609375 \nQ 42.625 51.21875 45.40625 46.390625 \nL 45.40625 54.6875 \nL 54.390625 54.6875 \nz\n\" id=\"DejaVuSans-103\"/>\n        <path d=\"M 34.28125 27.484375 \nQ 23.390625 27.484375 19.1875 25 \nQ 14.984375 22.515625 14.984375 16.5 \nQ 14.984375 11.71875 18.140625 8.90625 \nQ 21.296875 6.109375 26.703125 6.109375 \nQ 34.1875 6.109375 38.703125 11.40625 \nQ 43.21875 16.703125 43.21875 25.484375 \nL 43.21875 27.484375 \nz\nM 52.203125 31.203125 \nL 52.203125 0 \nL 43.21875 0 \nL 43.21875 8.296875 \nQ 40.140625 3.328125 35.546875 0.953125 \nQ 30.953125 -1.421875 24.3125 -1.421875 \nQ 15.921875 -1.421875 10.953125 3.296875 \nQ 6 8.015625 6 15.921875 \nQ 6 25.140625 12.171875 29.828125 \nQ 18.359375 34.515625 30.609375 34.515625 \nL 43.21875 34.515625 \nL 43.21875 35.40625 \nQ 43.21875 41.609375 39.140625 45 \nQ 35.0625 48.390625 27.6875 48.390625 \nQ 23 48.390625 18.546875 47.265625 \nQ 14.109375 46.140625 10.015625 43.890625 \nL 10.015625 52.203125 \nQ 14.9375 54.109375 19.578125 55.046875 \nQ 24.21875 56 28.609375 56 \nQ 40.484375 56 46.34375 49.84375 \nQ 52.203125 43.703125 52.203125 31.203125 \nz\n\" id=\"DejaVuSans-97\"/>\n        <path d=\"M 41.109375 46.296875 \nQ 39.59375 47.171875 37.8125 47.578125 \nQ 36.03125 48 33.890625 48 \nQ 26.265625 48 22.1875 43.046875 \nQ 18.109375 38.09375 18.109375 28.8125 \nL 18.109375 0 \nL 9.078125 0 \nL 9.078125 54.6875 \nL 18.109375 54.6875 \nL 18.109375 46.1875 \nQ 20.953125 51.171875 25.484375 53.578125 \nQ 30.03125 56 36.53125 56 \nQ 37.453125 56 38.578125 55.875 \nQ 39.703125 55.765625 41.0625 55.515625 \nz\n\" id=\"DejaVuSans-114\"/>\n        <path d=\"M 32.171875 -5.078125 \nQ 28.375 -14.84375 24.75 -17.8125 \nQ 21.140625 -20.796875 15.09375 -20.796875 \nL 7.90625 -20.796875 \nL 7.90625 -13.28125 \nL 13.1875 -13.28125 \nQ 16.890625 -13.28125 18.9375 -11.515625 \nQ 21 -9.765625 23.484375 -3.21875 \nL 25.09375 0.875 \nL 2.984375 54.6875 \nL 12.5 54.6875 \nL 29.59375 11.921875 \nL 46.6875 54.6875 \nL 56.203125 54.6875 \nz\n\" id=\"DejaVuSans-121\"/>\n        <path d=\"M 50.984375 -16.609375 \nL 50.984375 -23.578125 \nL -0.984375 -23.578125 \nL -0.984375 -16.609375 \nz\n\" id=\"DejaVuSans-95\"/>\n        <path d=\"M 18.109375 8.203125 \nL 18.109375 -20.796875 \nL 9.078125 -20.796875 \nL 9.078125 54.6875 \nL 18.109375 54.6875 \nL 18.109375 46.390625 \nQ 20.953125 51.265625 25.265625 53.625 \nQ 29.59375 56 35.59375 56 \nQ 45.5625 56 51.78125 48.09375 \nQ 58.015625 40.1875 58.015625 27.296875 \nQ 58.015625 14.40625 51.78125 6.484375 \nQ 45.5625 -1.421875 35.59375 -1.421875 \nQ 29.59375 -1.421875 25.265625 0.953125 \nQ 20.953125 3.328125 18.109375 8.203125 \nz\nM 48.6875 27.296875 \nQ 48.6875 37.203125 44.609375 42.84375 \nQ 40.53125 48.484375 33.40625 48.484375 \nQ 26.265625 48.484375 22.1875 42.84375 \nQ 18.109375 37.203125 18.109375 27.296875 \nQ 18.109375 17.390625 22.1875 11.75 \nQ 26.265625 6.109375 33.40625 6.109375 \nQ 40.53125 6.109375 44.609375 11.75 \nQ 48.6875 17.390625 48.6875 27.296875 \nz\n\" id=\"DejaVuSans-112\"/>\n       </defs>\n       <use xlink:href=\"#DejaVuSans-103\"/>\n       <use x=\"63.476562\" xlink:href=\"#DejaVuSans-97\"/>\n       <use x=\"124.755859\" xlink:href=\"#DejaVuSans-110\"/>\n       <use x=\"188.134766\" xlink:href=\"#DejaVuSans-116\"/>\n       <use x=\"227.34375\" xlink:href=\"#DejaVuSans-114\"/>\n       <use x=\"268.457031\" xlink:href=\"#DejaVuSans-121\"/>\n       <use x=\"327.636719\" xlink:href=\"#DejaVuSans-95\"/>\n       <use x=\"377.636719\" xlink:href=\"#DejaVuSans-103\"/>\n       <use x=\"441.113281\" xlink:href=\"#DejaVuSans-114\"/>\n       <use x=\"482.226562\" xlink:href=\"#DejaVuSans-105\"/>\n       <use x=\"510.009766\" xlink:href=\"#DejaVuSans-112\"/>\n       <use x=\"573.486328\" xlink:href=\"#DejaVuSans-112\"/>\n       <use x=\"636.962891\" xlink:href=\"#DejaVuSans-101\"/>\n       <use x=\"698.486328\" xlink:href=\"#DejaVuSans-114\"/>\n      </g>\n     </g>\n    </g>\n    <g id=\"ytick_2\">\n     <g id=\"line2d_10\">\n      <g>\n       <use style=\"stroke:#000000;stroke-width:0.8;\" x=\"134.5875\" xlink:href=\"#m67d3f2b554\" y=\"197.818158\"/>\n      </g>\n     </g>\n     <g id=\"text_11\">\n      <!-- spincoater_liquidhander -->\n      <g transform=\"translate(7.2 201.617376)scale(0.1 -0.1)\">\n       <defs>\n        <path d=\"M 48.78125 52.59375 \nL 48.78125 44.1875 \nQ 44.96875 46.296875 41.140625 47.34375 \nQ 37.3125 48.390625 33.40625 48.390625 \nQ 24.65625 48.390625 19.8125 42.84375 \nQ 14.984375 37.3125 14.984375 27.296875 \nQ 14.984375 17.28125 19.8125 11.734375 \nQ 24.65625 6.203125 33.40625 6.203125 \nQ 37.3125 6.203125 41.140625 7.25 \nQ 44.96875 8.296875 48.78125 10.40625 \nL 48.78125 2.09375 \nQ 45.015625 0.34375 40.984375 -0.53125 \nQ 36.96875 -1.421875 32.421875 -1.421875 \nQ 20.0625 -1.421875 12.78125 6.34375 \nQ 5.515625 14.109375 5.515625 27.296875 \nQ 5.515625 40.671875 12.859375 48.328125 \nQ 20.21875 56 33.015625 56 \nQ 37.15625 56 41.109375 55.140625 \nQ 45.0625 54.296875 48.78125 52.59375 \nz\n\" id=\"DejaVuSans-99\"/>\n        <path d=\"M 30.609375 48.390625 \nQ 23.390625 48.390625 19.1875 42.75 \nQ 14.984375 37.109375 14.984375 27.296875 \nQ 14.984375 17.484375 19.15625 11.84375 \nQ 23.34375 6.203125 30.609375 6.203125 \nQ 37.796875 6.203125 41.984375 11.859375 \nQ 46.1875 17.53125 46.1875 27.296875 \nQ 46.1875 37.015625 41.984375 42.703125 \nQ 37.796875 48.390625 30.609375 48.390625 \nz\nM 30.609375 56 \nQ 42.328125 56 49.015625 48.375 \nQ 55.71875 40.765625 55.71875 27.296875 \nQ 55.71875 13.875 49.015625 6.21875 \nQ 42.328125 -1.421875 30.609375 -1.421875 \nQ 18.84375 -1.421875 12.171875 6.21875 \nQ 5.515625 13.875 5.515625 27.296875 \nQ 5.515625 40.765625 12.171875 48.375 \nQ 18.84375 56 30.609375 56 \nz\n\" id=\"DejaVuSans-111\"/>\n        <path d=\"M 9.421875 75.984375 \nL 18.40625 75.984375 \nL 18.40625 0 \nL 9.421875 0 \nz\n\" id=\"DejaVuSans-108\"/>\n        <path d=\"M 14.796875 27.296875 \nQ 14.796875 17.390625 18.875 11.75 \nQ 22.953125 6.109375 30.078125 6.109375 \nQ 37.203125 6.109375 41.296875 11.75 \nQ 45.40625 17.390625 45.40625 27.296875 \nQ 45.40625 37.203125 41.296875 42.84375 \nQ 37.203125 48.484375 30.078125 48.484375 \nQ 22.953125 48.484375 18.875 42.84375 \nQ 14.796875 37.203125 14.796875 27.296875 \nz\nM 45.40625 8.203125 \nQ 42.578125 3.328125 38.25 0.953125 \nQ 33.9375 -1.421875 27.875 -1.421875 \nQ 17.96875 -1.421875 11.734375 6.484375 \nQ 5.515625 14.40625 5.515625 27.296875 \nQ 5.515625 40.1875 11.734375 48.09375 \nQ 17.96875 56 27.875 56 \nQ 33.9375 56 38.25 53.625 \nQ 42.578125 51.265625 45.40625 46.390625 \nL 45.40625 54.6875 \nL 54.390625 54.6875 \nL 54.390625 -20.796875 \nL 45.40625 -20.796875 \nz\n\" id=\"DejaVuSans-113\"/>\n        <path d=\"M 45.40625 46.390625 \nL 45.40625 75.984375 \nL 54.390625 75.984375 \nL 54.390625 0 \nL 45.40625 0 \nL 45.40625 8.203125 \nQ 42.578125 3.328125 38.25 0.953125 \nQ 33.9375 -1.421875 27.875 -1.421875 \nQ 17.96875 -1.421875 11.734375 6.484375 \nQ 5.515625 14.40625 5.515625 27.296875 \nQ 5.515625 40.1875 11.734375 48.09375 \nQ 17.96875 56 27.875 56 \nQ 33.9375 56 38.25 53.625 \nQ 42.578125 51.265625 45.40625 46.390625 \nz\nM 14.796875 27.296875 \nQ 14.796875 17.390625 18.875 11.75 \nQ 22.953125 6.109375 30.078125 6.109375 \nQ 37.203125 6.109375 41.296875 11.75 \nQ 45.40625 17.390625 45.40625 27.296875 \nQ 45.40625 37.203125 41.296875 42.84375 \nQ 37.203125 48.484375 30.078125 48.484375 \nQ 22.953125 48.484375 18.875 42.84375 \nQ 14.796875 37.203125 14.796875 27.296875 \nz\n\" id=\"DejaVuSans-100\"/>\n        <path d=\"M 54.890625 33.015625 \nL 54.890625 0 \nL 45.90625 0 \nL 45.90625 32.71875 \nQ 45.90625 40.484375 42.875 44.328125 \nQ 39.84375 48.1875 33.796875 48.1875 \nQ 26.515625 48.1875 22.3125 43.546875 \nQ 18.109375 38.921875 18.109375 30.90625 \nL 18.109375 0 \nL 9.078125 0 \nL 9.078125 75.984375 \nL 18.109375 75.984375 \nL 18.109375 46.1875 \nQ 21.34375 51.125 25.703125 53.5625 \nQ 30.078125 56 35.796875 56 \nQ 45.21875 56 50.046875 50.171875 \nQ 54.890625 44.34375 54.890625 33.015625 \nz\n\" id=\"DejaVuSans-104\"/>\n       </defs>\n       <use xlink:href=\"#DejaVuSans-115\"/>\n       <use x=\"52.099609\" xlink:href=\"#DejaVuSans-112\"/>\n       <use x=\"115.576172\" xlink:href=\"#DejaVuSans-105\"/>\n       <use x=\"143.359375\" xlink:href=\"#DejaVuSans-110\"/>\n       <use x=\"206.738281\" xlink:href=\"#DejaVuSans-99\"/>\n       <use x=\"261.71875\" xlink:href=\"#DejaVuSans-111\"/>\n       <use x=\"322.900391\" xlink:href=\"#DejaVuSans-97\"/>\n       <use x=\"384.179688\" xlink:href=\"#DejaVuSans-116\"/>\n       <use x=\"423.388672\" xlink:href=\"#DejaVuSans-101\"/>\n       <use x=\"484.912109\" xlink:href=\"#DejaVuSans-114\"/>\n       <use x=\"526.025391\" xlink:href=\"#DejaVuSans-95\"/>\n       <use x=\"576.025391\" xlink:href=\"#DejaVuSans-108\"/>\n       <use x=\"603.808594\" xlink:href=\"#DejaVuSans-105\"/>\n       <use x=\"631.591797\" xlink:href=\"#DejaVuSans-113\"/>\n       <use x=\"695.068359\" xlink:href=\"#DejaVuSans-117\"/>\n       <use x=\"758.447266\" xlink:href=\"#DejaVuSans-105\"/>\n       <use x=\"786.230469\" xlink:href=\"#DejaVuSans-100\"/>\n       <use x=\"849.707031\" xlink:href=\"#DejaVuSans-104\"/>\n       <use x=\"913.085938\" xlink:href=\"#DejaVuSans-97\"/>\n       <use x=\"974.365234\" xlink:href=\"#DejaVuSans-110\"/>\n       <use x=\"1037.744141\" xlink:href=\"#DejaVuSans-100\"/>\n       <use x=\"1101.220703\" xlink:href=\"#DejaVuSans-101\"/>\n       <use x=\"1162.744141\" xlink:href=\"#DejaVuSans-114\"/>\n      </g>\n     </g>\n    </g>\n    <g id=\"ytick_3\">\n     <g id=\"line2d_11\">\n      <g>\n       <use style=\"stroke:#000000;stroke-width:0.8;\" x=\"134.5875\" xlink:href=\"#m67d3f2b554\" y=\"142.270458\"/>\n      </g>\n     </g>\n     <g id=\"text_12\">\n      <!-- hotplate -->\n      <g transform=\"translate(85.882812 146.069677)scale(0.1 -0.1)\">\n       <use xlink:href=\"#DejaVuSans-104\"/>\n       <use x=\"63.378906\" xlink:href=\"#DejaVuSans-111\"/>\n       <use x=\"124.560547\" xlink:href=\"#DejaVuSans-116\"/>\n       <use x=\"163.769531\" xlink:href=\"#DejaVuSans-112\"/>\n       <use x=\"227.246094\" xlink:href=\"#DejaVuSans-108\"/>\n       <use x=\"255.029297\" xlink:href=\"#DejaVuSans-97\"/>\n       <use x=\"316.308594\" xlink:href=\"#DejaVuSans-116\"/>\n       <use x=\"355.517578\" xlink:href=\"#DejaVuSans-101\"/>\n      </g>\n     </g>\n    </g>\n    <g id=\"ytick_4\">\n     <g id=\"line2d_12\">\n      <g>\n       <use style=\"stroke:#000000;stroke-width:0.8;\" x=\"134.5875\" xlink:href=\"#m67d3f2b554\" y=\"86.722759\"/>\n      </g>\n     </g>\n     <g id=\"text_13\">\n      <!-- storage -->\n      <g transform=\"translate(89.598438 90.521978)scale(0.1 -0.1)\">\n       <use xlink:href=\"#DejaVuSans-115\"/>\n       <use x=\"52.099609\" xlink:href=\"#DejaVuSans-116\"/>\n       <use x=\"91.308594\" xlink:href=\"#DejaVuSans-111\"/>\n       <use x=\"152.490234\" xlink:href=\"#DejaVuSans-114\"/>\n       <use x=\"193.603516\" xlink:href=\"#DejaVuSans-97\"/>\n       <use x=\"254.882812\" xlink:href=\"#DejaVuSans-103\"/>\n       <use x=\"318.359375\" xlink:href=\"#DejaVuSans-101\"/>\n      </g>\n     </g>\n    </g>\n    <g id=\"ytick_5\">\n     <g id=\"line2d_13\">\n      <g>\n       <use style=\"stroke:#000000;stroke-width:0.8;\" x=\"134.5875\" xlink:href=\"#m67d3f2b554\" y=\"31.17506\"/>\n      </g>\n     </g>\n     <g id=\"text_14\">\n      <!-- characterizationline -->\n      <g transform=\"translate(28.345313 34.974278)scale(0.1 -0.1)\">\n       <defs>\n        <path d=\"M 5.515625 54.6875 \nL 48.1875 54.6875 \nL 48.1875 46.484375 \nL 14.40625 7.171875 \nL 48.1875 7.171875 \nL 48.1875 0 \nL 4.296875 0 \nL 4.296875 8.203125 \nL 38.09375 47.515625 \nL 5.515625 47.515625 \nz\n\" id=\"DejaVuSans-122\"/>\n       </defs>\n       <use xlink:href=\"#DejaVuSans-99\"/>\n       <use x=\"54.980469\" xlink:href=\"#DejaVuSans-104\"/>\n       <use x=\"118.359375\" xlink:href=\"#DejaVuSans-97\"/>\n       <use x=\"179.638672\" xlink:href=\"#DejaVuSans-114\"/>\n       <use x=\"220.751953\" xlink:href=\"#DejaVuSans-97\"/>\n       <use x=\"282.03125\" xlink:href=\"#DejaVuSans-99\"/>\n       <use x=\"337.011719\" xlink:href=\"#DejaVuSans-116\"/>\n       <use x=\"376.220703\" xlink:href=\"#DejaVuSans-101\"/>\n       <use x=\"437.744141\" xlink:href=\"#DejaVuSans-114\"/>\n       <use x=\"478.857422\" xlink:href=\"#DejaVuSans-105\"/>\n       <use x=\"506.640625\" xlink:href=\"#DejaVuSans-122\"/>\n       <use x=\"559.130859\" xlink:href=\"#DejaVuSans-97\"/>\n       <use x=\"620.410156\" xlink:href=\"#DejaVuSans-116\"/>\n       <use x=\"659.619141\" xlink:href=\"#DejaVuSans-105\"/>\n       <use x=\"687.402344\" xlink:href=\"#DejaVuSans-111\"/>\n       <use x=\"748.583984\" xlink:href=\"#DejaVuSans-110\"/>\n       <use x=\"811.962891\" xlink:href=\"#DejaVuSans-108\"/>\n       <use x=\"839.746094\" xlink:href=\"#DejaVuSans-105\"/>\n       <use x=\"867.529297\" xlink:href=\"#DejaVuSans-110\"/>\n       <use x=\"930.908203\" xlink:href=\"#DejaVuSans-101\"/>\n      </g>\n     </g>\n    </g>\n   </g>\n   <g id=\"line2d_14\">\n    <path clip-path=\"url(#pae272e70f0)\" d=\"M 366.826589 250.656452 \nL 368.847788 250.656452 \n\" style=\"fill:none;stroke:#1f77b4;stroke-linecap:square;stroke-width:1.5;\"/>\n   </g>\n   <g id=\"line2d_15\">\n    <path clip-path=\"url(#pae272e70f0)\" d=\"M 366.826589 195.108752 \nL 368.847788 195.108752 \n\" style=\"fill:none;stroke:#1f77b4;stroke-linecap:square;stroke-width:1.5;\"/>\n   </g>\n   <g id=\"line2d_16\">\n    <path clip-path=\"url(#pae272e70f0)\" d=\"M 368.847788 195.108752 \nL 375.585116 195.108752 \n\" style=\"fill:none;stroke:#1f77b4;stroke-linecap:square;stroke-width:1.5;\"/>\n   </g>\n   <g id=\"line2d_17\">\n    <path clip-path=\"url(#pae272e70f0)\" d=\"M 375.585116 250.656452 \nL 377.606315 250.656452 \n\" style=\"fill:none;stroke:#1f77b4;stroke-linecap:square;stroke-width:1.5;\"/>\n   </g>\n   <g id=\"line2d_18\">\n    <path clip-path=\"url(#pae272e70f0)\" d=\"M 375.585116 195.108752 \nL 377.606315 195.108752 \n\" style=\"fill:none;stroke:#1f77b4;stroke-linecap:square;stroke-width:1.5;\"/>\n   </g>\n   <g id=\"line2d_19\">\n    <path clip-path=\"url(#pae272e70f0)\" d=\"M 377.606315 139.561053 \nL 418.030287 139.561053 \n\" style=\"fill:none;stroke:#1f77b4;stroke-linecap:square;stroke-width:1.5;\"/>\n   </g>\n   <g id=\"line2d_20\">\n    <path clip-path=\"url(#pae272e70f0)\" d=\"M 418.030287 250.656452 \nL 420.051486 250.656452 \n\" style=\"fill:none;stroke:#1f77b4;stroke-linecap:square;stroke-width:1.5;\"/>\n   </g>\n   <g id=\"line2d_21\">\n    <path clip-path=\"url(#pae272e70f0)\" d=\"M 420.051486 84.013353 \nL 440.263472 84.013353 \n\" style=\"fill:none;stroke:#1f77b4;stroke-linecap:square;stroke-width:1.5;\"/>\n   </g>\n   <g id=\"line2d_22\">\n    <path clip-path=\"url(#pae272e70f0)\" d=\"M 440.263472 250.656452 \nL 442.28467 250.656452 \n\" style=\"fill:none;stroke:#1f77b4;stroke-linecap:square;stroke-width:1.5;\"/>\n   </g>\n   <g id=\"line2d_23\">\n    <path clip-path=\"url(#pae272e70f0)\" d=\"M 440.263472 28.465654 \nL 442.28467 28.465654 \n\" style=\"fill:none;stroke:#1f77b4;stroke-linecap:square;stroke-width:1.5;\"/>\n   </g>\n   <g id=\"line2d_24\">\n    <path clip-path=\"url(#pae272e70f0)\" d=\"M 442.28467 28.465654 \nL 450.369465 28.465654 \n\" style=\"fill:none;stroke:#1f77b4;stroke-linecap:square;stroke-width:1.5;\"/>\n   </g>\n   <g id=\"line2d_25\">\n    <path clip-path=\"url(#pae272e70f0)\" d=\"M 450.369465 250.656452 \nL 452.390663 250.656452 \n\" style=\"fill:none;stroke:#1f77b4;stroke-linecap:square;stroke-width:1.5;\"/>\n   </g>\n   <g id=\"line2d_26\">\n    <path clip-path=\"url(#pae272e70f0)\" d=\"M 450.369465 195.108752 \nL 452.390663 195.108752 \n\" style=\"fill:none;stroke:#1f77b4;stroke-linecap:square;stroke-width:1.5;\"/>\n   </g>\n   <g id=\"line2d_27\">\n    <path clip-path=\"url(#pae272e70f0)\" d=\"M 455.018222 247.275802 \nL 457.03942 247.275802 \n\" style=\"fill:none;stroke:#aec7e8;stroke-linecap:square;stroke-width:1.5;\"/>\n   </g>\n   <g id=\"line2d_28\">\n    <path clip-path=\"url(#pae272e70f0)\" d=\"M 455.018222 191.728103 \nL 457.03942 191.728103 \n\" style=\"fill:none;stroke:#aec7e8;stroke-linecap:square;stroke-width:1.5;\"/>\n   </g>\n   <g id=\"line2d_29\">\n    <path clip-path=\"url(#pae272e70f0)\" d=\"M 457.03942 191.728103 \nL 463.776749 191.728103 \n\" style=\"fill:none;stroke:#aec7e8;stroke-linecap:square;stroke-width:1.5;\"/>\n   </g>\n   <g id=\"line2d_30\">\n    <path clip-path=\"url(#pae272e70f0)\" d=\"M 463.776749 247.275802 \nL 465.797948 247.275802 \n\" style=\"fill:none;stroke:#aec7e8;stroke-linecap:square;stroke-width:1.5;\"/>\n   </g>\n   <g id=\"line2d_31\">\n    <path clip-path=\"url(#pae272e70f0)\" d=\"M 463.776749 191.728103 \nL 465.797948 191.728103 \n\" style=\"fill:none;stroke:#aec7e8;stroke-linecap:square;stroke-width:1.5;\"/>\n   </g>\n   <g id=\"line2d_32\">\n    <path clip-path=\"url(#pae272e70f0)\" d=\"M 465.797948 136.180403 \nL 496.115927 136.180403 \n\" style=\"fill:none;stroke:#aec7e8;stroke-linecap:square;stroke-width:1.5;\"/>\n   </g>\n   <g id=\"line2d_33\">\n    <path clip-path=\"url(#pae272e70f0)\" d=\"M 496.115927 247.275802 \nL 498.137125 247.275802 \n\" style=\"fill:none;stroke:#aec7e8;stroke-linecap:square;stroke-width:1.5;\"/>\n   </g>\n   <g id=\"line2d_34\">\n    <path clip-path=\"url(#pae272e70f0)\" d=\"M 498.137125 80.632704 \nL 518.349111 80.632704 \n\" style=\"fill:none;stroke:#aec7e8;stroke-linecap:square;stroke-width:1.5;\"/>\n   </g>\n   <g id=\"line2d_35\">\n    <path clip-path=\"url(#pae272e70f0)\" d=\"M 518.349111 247.275802 \nL 520.37031 247.275802 \n\" style=\"fill:none;stroke:#aec7e8;stroke-linecap:square;stroke-width:1.5;\"/>\n   </g>\n   <g id=\"line2d_36\">\n    <path clip-path=\"url(#pae272e70f0)\" d=\"M 518.349111 25.085005 \nL 520.37031 25.085005 \n\" style=\"fill:none;stroke:#aec7e8;stroke-linecap:square;stroke-width:1.5;\"/>\n   </g>\n   <g id=\"line2d_37\">\n    <path clip-path=\"url(#pae272e70f0)\" d=\"M 520.37031 25.085005 \nL 528.455104 25.085005 \n\" style=\"fill:none;stroke:#aec7e8;stroke-linecap:square;stroke-width:1.5;\"/>\n   </g>\n   <g id=\"line2d_38\">\n    <path clip-path=\"url(#pae272e70f0)\" d=\"M 528.455104 247.275802 \nL 530.476303 247.275802 \n\" style=\"fill:none;stroke:#aec7e8;stroke-linecap:square;stroke-width:1.5;\"/>\n   </g>\n   <g id=\"line2d_39\">\n    <path clip-path=\"url(#pae272e70f0)\" d=\"M 528.455104 191.728103 \nL 530.476303 191.728103 \n\" style=\"fill:none;stroke:#aec7e8;stroke-linecap:square;stroke-width:1.5;\"/>\n   </g>\n   <g id=\"line2d_40\">\n    <path clip-path=\"url(#pae272e70f0)\" d=\"M 800.77793 251.7409 \nL 802.799129 251.7409 \n\" style=\"fill:none;stroke:#ff7f0e;stroke-linecap:square;stroke-width:1.5;\"/>\n   </g>\n   <g id=\"line2d_41\">\n    <path clip-path=\"url(#pae272e70f0)\" d=\"M 800.77793 196.193201 \nL 802.799129 196.193201 \n\" style=\"fill:none;stroke:#ff7f0e;stroke-linecap:square;stroke-width:1.5;\"/>\n   </g>\n   <g id=\"line2d_42\">\n    <path clip-path=\"url(#pae272e70f0)\" d=\"M 802.799129 196.193201 \nL 809.536458 196.193201 \n\" style=\"fill:none;stroke:#ff7f0e;stroke-linecap:square;stroke-width:1.5;\"/>\n   </g>\n   <g id=\"line2d_43\">\n    <path clip-path=\"url(#pae272e70f0)\" d=\"M 809.536458 251.7409 \nL 811.557656 251.7409 \n\" style=\"fill:none;stroke:#ff7f0e;stroke-linecap:square;stroke-width:1.5;\"/>\n   </g>\n   <g id=\"line2d_44\">\n    <path clip-path=\"url(#pae272e70f0)\" d=\"M 809.536458 196.193201 \nL 811.557656 196.193201 \n\" style=\"fill:none;stroke:#ff7f0e;stroke-linecap:square;stroke-width:1.5;\"/>\n   </g>\n   <g id=\"line2d_45\">\n    <path clip-path=\"url(#pae272e70f0)\" d=\"M 811.557656 140.645502 \nL 831.769642 140.645502 \n\" style=\"fill:none;stroke:#ff7f0e;stroke-linecap:square;stroke-width:1.5;\"/>\n   </g>\n   <g id=\"line2d_46\">\n    <path clip-path=\"url(#pae272e70f0)\" d=\"M 831.769642 251.7409 \nL 833.790841 251.7409 \n\" style=\"fill:none;stroke:#ff7f0e;stroke-linecap:square;stroke-width:1.5;\"/>\n   </g>\n   <g id=\"line2d_47\">\n    <path clip-path=\"url(#pae272e70f0)\" d=\"M 833.790841 85.097802 \nL 854.002827 85.097802 \n\" style=\"fill:none;stroke:#ff7f0e;stroke-linecap:square;stroke-width:1.5;\"/>\n   </g>\n   <g id=\"line2d_48\">\n    <path clip-path=\"url(#pae272e70f0)\" d=\"M 854.002827 251.7409 \nL 856.024026 251.7409 \n\" style=\"fill:none;stroke:#ff7f0e;stroke-linecap:square;stroke-width:1.5;\"/>\n   </g>\n   <g id=\"line2d_49\">\n    <path clip-path=\"url(#pae272e70f0)\" d=\"M 854.002827 29.550103 \nL 856.024026 29.550103 \n\" style=\"fill:none;stroke:#ff7f0e;stroke-linecap:square;stroke-width:1.5;\"/>\n   </g>\n   <g id=\"line2d_50\">\n    <path clip-path=\"url(#pae272e70f0)\" d=\"M 856.024026 29.550103 \nL 864.10882 29.550103 \n\" style=\"fill:none;stroke:#ff7f0e;stroke-linecap:square;stroke-width:1.5;\"/>\n   </g>\n   <g id=\"line2d_51\">\n    <path clip-path=\"url(#pae272e70f0)\" d=\"M 864.10882 251.7409 \nL 866.130019 251.7409 \n\" style=\"fill:none;stroke:#ff7f0e;stroke-linecap:square;stroke-width:1.5;\"/>\n   </g>\n   <g id=\"line2d_52\">\n    <path clip-path=\"url(#pae272e70f0)\" d=\"M 864.10882 196.193201 \nL 866.130019 196.193201 \n\" style=\"fill:none;stroke:#ff7f0e;stroke-linecap:square;stroke-width:1.5;\"/>\n   </g>\n   <g id=\"line2d_53\">\n    <path clip-path=\"url(#pae272e70f0)\" d=\"M 552.439995 241.745343 \nL 554.461193 241.745343 \n\" style=\"fill:none;stroke:#ffbb78;stroke-linecap:square;stroke-width:1.5;\"/>\n   </g>\n   <g id=\"line2d_54\">\n    <path clip-path=\"url(#pae272e70f0)\" d=\"M 552.439995 186.197644 \nL 554.461193 186.197644 \n\" style=\"fill:none;stroke:#ffbb78;stroke-linecap:square;stroke-width:1.5;\"/>\n   </g>\n   <g id=\"line2d_55\">\n    <path clip-path=\"url(#pae272e70f0)\" d=\"M 554.461193 186.197644 \nL 561.198522 186.197644 \n\" style=\"fill:none;stroke:#ffbb78;stroke-linecap:square;stroke-width:1.5;\"/>\n   </g>\n   <g id=\"line2d_56\">\n    <path clip-path=\"url(#pae272e70f0)\" d=\"M 561.198522 241.745343 \nL 563.219721 241.745343 \n\" style=\"fill:none;stroke:#ffbb78;stroke-linecap:square;stroke-width:1.5;\"/>\n   </g>\n   <g id=\"line2d_57\">\n    <path clip-path=\"url(#pae272e70f0)\" d=\"M 561.198522 186.197644 \nL 563.219721 186.197644 \n\" style=\"fill:none;stroke:#ffbb78;stroke-linecap:square;stroke-width:1.5;\"/>\n   </g>\n   <g id=\"line2d_58\">\n    <path clip-path=\"url(#pae272e70f0)\" d=\"M 563.219721 130.649944 \nL 603.643693 130.649944 \n\" style=\"fill:none;stroke:#ffbb78;stroke-linecap:square;stroke-width:1.5;\"/>\n   </g>\n   <g id=\"line2d_59\">\n    <path clip-path=\"url(#pae272e70f0)\" d=\"M 603.643693 241.745343 \nL 605.664891 241.745343 \n\" style=\"fill:none;stroke:#ffbb78;stroke-linecap:square;stroke-width:1.5;\"/>\n   </g>\n   <g id=\"line2d_60\">\n    <path clip-path=\"url(#pae272e70f0)\" d=\"M 605.664891 75.102245 \nL 625.876877 75.102245 \n\" style=\"fill:none;stroke:#ffbb78;stroke-linecap:square;stroke-width:1.5;\"/>\n   </g>\n   <g id=\"line2d_61\">\n    <path clip-path=\"url(#pae272e70f0)\" d=\"M 625.876877 241.745343 \nL 627.898076 241.745343 \n\" style=\"fill:none;stroke:#ffbb78;stroke-linecap:square;stroke-width:1.5;\"/>\n   </g>\n   <g id=\"line2d_62\">\n    <path clip-path=\"url(#pae272e70f0)\" d=\"M 625.876877 19.554545 \nL 627.898076 19.554545 \n\" style=\"fill:none;stroke:#ffbb78;stroke-linecap:square;stroke-width:1.5;\"/>\n   </g>\n   <g id=\"line2d_63\">\n    <path clip-path=\"url(#pae272e70f0)\" d=\"M 627.898076 19.554545 \nL 635.98287 19.554545 \n\" style=\"fill:none;stroke:#ffbb78;stroke-linecap:square;stroke-width:1.5;\"/>\n   </g>\n   <g id=\"line2d_64\">\n    <path clip-path=\"url(#pae272e70f0)\" d=\"M 635.98287 241.745343 \nL 638.004069 241.745343 \n\" style=\"fill:none;stroke:#ffbb78;stroke-linecap:square;stroke-width:1.5;\"/>\n   </g>\n   <g id=\"line2d_65\">\n    <path clip-path=\"url(#pae272e70f0)\" d=\"M 635.98287 186.197644 \nL 638.004069 186.197644 \n\" style=\"fill:none;stroke:#ffbb78;stroke-linecap:square;stroke-width:1.5;\"/>\n   </g>\n   <g id=\"line2d_66\">\n    <path clip-path=\"url(#pae272e70f0)\" d=\"M 678.023802 264.607298 \nL 680.045 264.607298 \n\" style=\"fill:none;stroke:#2ca02c;stroke-linecap:square;stroke-width:1.5;\"/>\n   </g>\n   <g id=\"line2d_67\">\n    <path clip-path=\"url(#pae272e70f0)\" d=\"M 678.023802 209.059599 \nL 680.045 209.059599 \n\" style=\"fill:none;stroke:#2ca02c;stroke-linecap:square;stroke-width:1.5;\"/>\n   </g>\n   <g id=\"line2d_68\">\n    <path clip-path=\"url(#pae272e70f0)\" d=\"M 680.045 209.059599 \nL 686.782329 209.059599 \n\" style=\"fill:none;stroke:#2ca02c;stroke-linecap:square;stroke-width:1.5;\"/>\n   </g>\n   <g id=\"line2d_69\">\n    <path clip-path=\"url(#pae272e70f0)\" d=\"M 686.782329 264.607298 \nL 688.803527 264.607298 \n\" style=\"fill:none;stroke:#2ca02c;stroke-linecap:square;stroke-width:1.5;\"/>\n   </g>\n   <g id=\"line2d_70\">\n    <path clip-path=\"url(#pae272e70f0)\" d=\"M 686.782329 209.059599 \nL 688.803527 209.059599 \n\" style=\"fill:none;stroke:#2ca02c;stroke-linecap:square;stroke-width:1.5;\"/>\n   </g>\n   <g id=\"line2d_71\">\n    <path clip-path=\"url(#pae272e70f0)\" d=\"M 688.803527 153.511899 \nL 719.121507 153.511899 \n\" style=\"fill:none;stroke:#2ca02c;stroke-linecap:square;stroke-width:1.5;\"/>\n   </g>\n   <g id=\"line2d_72\">\n    <path clip-path=\"url(#pae272e70f0)\" d=\"M 719.121507 264.607298 \nL 721.142705 264.607298 \n\" style=\"fill:none;stroke:#2ca02c;stroke-linecap:square;stroke-width:1.5;\"/>\n   </g>\n   <g id=\"line2d_73\">\n    <path clip-path=\"url(#pae272e70f0)\" d=\"M 721.142705 97.9642 \nL 741.354691 97.9642 \n\" style=\"fill:none;stroke:#2ca02c;stroke-linecap:square;stroke-width:1.5;\"/>\n   </g>\n   <g id=\"line2d_74\">\n    <path clip-path=\"url(#pae272e70f0)\" d=\"M 741.354691 264.607298 \nL 743.37589 264.607298 \n\" style=\"fill:none;stroke:#2ca02c;stroke-linecap:square;stroke-width:1.5;\"/>\n   </g>\n   <g id=\"line2d_75\">\n    <path clip-path=\"url(#pae272e70f0)\" d=\"M 741.354691 42.416501 \nL 743.37589 42.416501 \n\" style=\"fill:none;stroke:#2ca02c;stroke-linecap:square;stroke-width:1.5;\"/>\n   </g>\n   <g id=\"line2d_76\">\n    <path clip-path=\"url(#pae272e70f0)\" d=\"M 743.37589 42.416501 \nL 751.460684 42.416501 \n\" style=\"fill:none;stroke:#2ca02c;stroke-linecap:square;stroke-width:1.5;\"/>\n   </g>\n   <g id=\"line2d_77\">\n    <path clip-path=\"url(#pae272e70f0)\" d=\"M 751.460684 264.607298 \nL 753.481883 264.607298 \n\" style=\"fill:none;stroke:#2ca02c;stroke-linecap:square;stroke-width:1.5;\"/>\n   </g>\n   <g id=\"line2d_78\">\n    <path clip-path=\"url(#pae272e70f0)\" d=\"M 751.460684 209.059599 \nL 753.481883 209.059599 \n\" style=\"fill:none;stroke:#2ca02c;stroke-linecap:square;stroke-width:1.5;\"/>\n   </g>\n   <g id=\"line2d_79\">\n    <path clip-path=\"url(#pae272e70f0)\" d=\"M 649.053288 259.616191 \nL 651.074487 259.616191 \n\" style=\"fill:none;stroke:#98df8a;stroke-linecap:square;stroke-width:1.5;\"/>\n   </g>\n   <g id=\"line2d_80\">\n    <path clip-path=\"url(#pae272e70f0)\" d=\"M 649.053288 204.068492 \nL 651.074487 204.068492 \n\" style=\"fill:none;stroke:#98df8a;stroke-linecap:square;stroke-width:1.5;\"/>\n   </g>\n   <g id=\"line2d_81\">\n    <path clip-path=\"url(#pae272e70f0)\" d=\"M 651.074487 204.068492 \nL 657.811815 204.068492 \n\" style=\"fill:none;stroke:#98df8a;stroke-linecap:square;stroke-width:1.5;\"/>\n   </g>\n   <g id=\"line2d_82\">\n    <path clip-path=\"url(#pae272e70f0)\" d=\"M 657.811815 259.616191 \nL 659.833014 259.616191 \n\" style=\"fill:none;stroke:#98df8a;stroke-linecap:square;stroke-width:1.5;\"/>\n   </g>\n   <g id=\"line2d_83\">\n    <path clip-path=\"url(#pae272e70f0)\" d=\"M 657.811815 204.068492 \nL 659.833014 204.068492 \n\" style=\"fill:none;stroke:#98df8a;stroke-linecap:square;stroke-width:1.5;\"/>\n   </g>\n   <g id=\"line2d_84\">\n    <path clip-path=\"url(#pae272e70f0)\" d=\"M 659.833014 148.520792 \nL 680.045 148.520792 \n\" style=\"fill:none;stroke:#98df8a;stroke-linecap:square;stroke-width:1.5;\"/>\n   </g>\n   <g id=\"line2d_85\">\n    <path clip-path=\"url(#pae272e70f0)\" d=\"M 680.045 259.616191 \nL 682.066199 259.616191 \n\" style=\"fill:none;stroke:#98df8a;stroke-linecap:square;stroke-width:1.5;\"/>\n   </g>\n   <g id=\"line2d_86\">\n    <path clip-path=\"url(#pae272e70f0)\" d=\"M 682.066199 92.973093 \nL 702.278185 92.973093 \n\" style=\"fill:none;stroke:#98df8a;stroke-linecap:square;stroke-width:1.5;\"/>\n   </g>\n   <g id=\"line2d_87\">\n    <path clip-path=\"url(#pae272e70f0)\" d=\"M 702.278185 259.616191 \nL 704.299383 259.616191 \n\" style=\"fill:none;stroke:#98df8a;stroke-linecap:square;stroke-width:1.5;\"/>\n   </g>\n   <g id=\"line2d_88\">\n    <path clip-path=\"url(#pae272e70f0)\" d=\"M 702.278185 37.425394 \nL 704.299383 37.425394 \n\" style=\"fill:none;stroke:#98df8a;stroke-linecap:square;stroke-width:1.5;\"/>\n   </g>\n   <g id=\"line2d_89\">\n    <path clip-path=\"url(#pae272e70f0)\" d=\"M 704.299383 37.425394 \nL 712.384178 37.425394 \n\" style=\"fill:none;stroke:#98df8a;stroke-linecap:square;stroke-width:1.5;\"/>\n   </g>\n   <g id=\"line2d_90\">\n    <path clip-path=\"url(#pae272e70f0)\" d=\"M 712.384178 259.616191 \nL 714.405377 259.616191 \n\" style=\"fill:none;stroke:#98df8a;stroke-linecap:square;stroke-width:1.5;\"/>\n   </g>\n   <g id=\"line2d_91\">\n    <path clip-path=\"url(#pae272e70f0)\" d=\"M 712.384178 204.068492 \nL 714.405377 204.068492 \n\" style=\"fill:none;stroke:#98df8a;stroke-linecap:square;stroke-width:1.5;\"/>\n   </g>\n   <g id=\"line2d_92\">\n    <path clip-path=\"url(#pae272e70f0)\" d=\"M 273.78408 242.056547 \nL 275.805278 242.056547 \n\" style=\"fill:none;stroke:#d62728;stroke-linecap:square;stroke-width:1.5;\"/>\n   </g>\n   <g id=\"line2d_93\">\n    <path clip-path=\"url(#pae272e70f0)\" d=\"M 273.78408 186.508848 \nL 275.805278 186.508848 \n\" style=\"fill:none;stroke:#d62728;stroke-linecap:square;stroke-width:1.5;\"/>\n   </g>\n   <g id=\"line2d_94\">\n    <path clip-path=\"url(#pae272e70f0)\" d=\"M 275.805278 186.508848 \nL 282.542607 186.508848 \n\" style=\"fill:none;stroke:#d62728;stroke-linecap:square;stroke-width:1.5;\"/>\n   </g>\n   <g id=\"line2d_95\">\n    <path clip-path=\"url(#pae272e70f0)\" d=\"M 282.542607 242.056547 \nL 284.563806 242.056547 \n\" style=\"fill:none;stroke:#d62728;stroke-linecap:square;stroke-width:1.5;\"/>\n   </g>\n   <g id=\"line2d_96\">\n    <path clip-path=\"url(#pae272e70f0)\" d=\"M 282.542607 186.508848 \nL 284.563806 186.508848 \n\" style=\"fill:none;stroke:#d62728;stroke-linecap:square;stroke-width:1.5;\"/>\n   </g>\n   <g id=\"line2d_97\">\n    <path clip-path=\"url(#pae272e70f0)\" d=\"M 284.563806 130.961148 \nL 324.987778 130.961148 \n\" style=\"fill:none;stroke:#d62728;stroke-linecap:square;stroke-width:1.5;\"/>\n   </g>\n   <g id=\"line2d_98\">\n    <path clip-path=\"url(#pae272e70f0)\" d=\"M 324.987778 242.056547 \nL 327.008976 242.056547 \n\" style=\"fill:none;stroke:#d62728;stroke-linecap:square;stroke-width:1.5;\"/>\n   </g>\n   <g id=\"line2d_99\">\n    <path clip-path=\"url(#pae272e70f0)\" d=\"M 327.008976 75.413449 \nL 347.220962 75.413449 \n\" style=\"fill:none;stroke:#d62728;stroke-linecap:square;stroke-width:1.5;\"/>\n   </g>\n   <g id=\"line2d_100\">\n    <path clip-path=\"url(#pae272e70f0)\" d=\"M 347.220962 242.056547 \nL 349.242161 242.056547 \n\" style=\"fill:none;stroke:#d62728;stroke-linecap:square;stroke-width:1.5;\"/>\n   </g>\n   <g id=\"line2d_101\">\n    <path clip-path=\"url(#pae272e70f0)\" d=\"M 347.220962 19.86575 \nL 349.242161 19.86575 \n\" style=\"fill:none;stroke:#d62728;stroke-linecap:square;stroke-width:1.5;\"/>\n   </g>\n   <g id=\"line2d_102\">\n    <path clip-path=\"url(#pae272e70f0)\" d=\"M 349.242161 19.86575 \nL 357.326955 19.86575 \n\" style=\"fill:none;stroke:#d62728;stroke-linecap:square;stroke-width:1.5;\"/>\n   </g>\n   <g id=\"line2d_103\">\n    <path clip-path=\"url(#pae272e70f0)\" d=\"M 357.326955 242.056547 \nL 359.348154 242.056547 \n\" style=\"fill:none;stroke:#d62728;stroke-linecap:square;stroke-width:1.5;\"/>\n   </g>\n   <g id=\"line2d_104\">\n    <path clip-path=\"url(#pae272e70f0)\" d=\"M 357.326955 186.508848 \nL 359.348154 186.508848 \n\" style=\"fill:none;stroke:#d62728;stroke-linecap:square;stroke-width:1.5;\"/>\n   </g>\n   <g id=\"line2d_105\">\n    <path clip-path=\"url(#pae272e70f0)\" d=\"M 221.232916 248.492789 \nL 223.254114 248.492789 \n\" style=\"fill:none;stroke:#ff9896;stroke-linecap:square;stroke-width:1.5;\"/>\n   </g>\n   <g id=\"line2d_106\">\n    <path clip-path=\"url(#pae272e70f0)\" d=\"M 221.232916 192.94509 \nL 223.254114 192.94509 \n\" style=\"fill:none;stroke:#ff9896;stroke-linecap:square;stroke-width:1.5;\"/>\n   </g>\n   <g id=\"line2d_107\">\n    <path clip-path=\"url(#pae272e70f0)\" d=\"M 223.254114 192.94509 \nL 229.991443 192.94509 \n\" style=\"fill:none;stroke:#ff9896;stroke-linecap:square;stroke-width:1.5;\"/>\n   </g>\n   <g id=\"line2d_108\">\n    <path clip-path=\"url(#pae272e70f0)\" d=\"M 229.991443 248.492789 \nL 232.012642 248.492789 \n\" style=\"fill:none;stroke:#ff9896;stroke-linecap:square;stroke-width:1.5;\"/>\n   </g>\n   <g id=\"line2d_109\">\n    <path clip-path=\"url(#pae272e70f0)\" d=\"M 229.991443 192.94509 \nL 232.012642 192.94509 \n\" style=\"fill:none;stroke:#ff9896;stroke-linecap:square;stroke-width:1.5;\"/>\n   </g>\n   <g id=\"line2d_110\">\n    <path clip-path=\"url(#pae272e70f0)\" d=\"M 232.012642 137.39739 \nL 262.330621 137.39739 \n\" style=\"fill:none;stroke:#ff9896;stroke-linecap:square;stroke-width:1.5;\"/>\n   </g>\n   <g id=\"line2d_111\">\n    <path clip-path=\"url(#pae272e70f0)\" d=\"M 262.330621 248.492789 \nL 264.351819 248.492789 \n\" style=\"fill:none;stroke:#ff9896;stroke-linecap:square;stroke-width:1.5;\"/>\n   </g>\n   <g id=\"line2d_112\">\n    <path clip-path=\"url(#pae272e70f0)\" d=\"M 264.351819 81.849691 \nL 284.563806 81.849691 \n\" style=\"fill:none;stroke:#ff9896;stroke-linecap:square;stroke-width:1.5;\"/>\n   </g>\n   <g id=\"line2d_113\">\n    <path clip-path=\"url(#pae272e70f0)\" d=\"M 284.563806 248.492789 \nL 286.585004 248.492789 \n\" style=\"fill:none;stroke:#ff9896;stroke-linecap:square;stroke-width:1.5;\"/>\n   </g>\n   <g id=\"line2d_114\">\n    <path clip-path=\"url(#pae272e70f0)\" d=\"M 284.563806 26.301991 \nL 286.585004 26.301991 \n\" style=\"fill:none;stroke:#ff9896;stroke-linecap:square;stroke-width:1.5;\"/>\n   </g>\n   <g id=\"line2d_115\">\n    <path clip-path=\"url(#pae272e70f0)\" d=\"M 286.585004 26.301991 \nL 294.669799 26.301991 \n\" style=\"fill:none;stroke:#ff9896;stroke-linecap:square;stroke-width:1.5;\"/>\n   </g>\n   <g id=\"line2d_116\">\n    <path clip-path=\"url(#pae272e70f0)\" d=\"M 294.669799 248.492789 \nL 296.690997 248.492789 \n\" style=\"fill:none;stroke:#ff9896;stroke-linecap:square;stroke-width:1.5;\"/>\n   </g>\n   <g id=\"line2d_117\">\n    <path clip-path=\"url(#pae272e70f0)\" d=\"M 294.669799 192.94509 \nL 296.690997 192.94509 \n\" style=\"fill:none;stroke:#ff9896;stroke-linecap:square;stroke-width:1.5;\"/>\n   </g>\n   <g id=\"line2d_118\">\n    <path clip-path=\"url(#pae272e70f0)\" d=\"M 170.096591 243.605258 \nL 172.11779 243.605258 \n\" style=\"fill:none;stroke:#9467bd;stroke-linecap:square;stroke-width:1.5;\"/>\n   </g>\n   <g id=\"line2d_119\">\n    <path clip-path=\"url(#pae272e70f0)\" d=\"M 170.096591 188.057559 \nL 172.11779 188.057559 \n\" style=\"fill:none;stroke:#9467bd;stroke-linecap:square;stroke-width:1.5;\"/>\n   </g>\n   <g id=\"line2d_120\">\n    <path clip-path=\"url(#pae272e70f0)\" d=\"M 172.11779 188.057559 \nL 178.855118 188.057559 \n\" style=\"fill:none;stroke:#9467bd;stroke-linecap:square;stroke-width:1.5;\"/>\n   </g>\n   <g id=\"line2d_121\">\n    <path clip-path=\"url(#pae272e70f0)\" d=\"M 178.855118 243.605258 \nL 180.876317 243.605258 \n\" style=\"fill:none;stroke:#9467bd;stroke-linecap:square;stroke-width:1.5;\"/>\n   </g>\n   <g id=\"line2d_122\">\n    <path clip-path=\"url(#pae272e70f0)\" d=\"M 178.855118 188.057559 \nL 180.876317 188.057559 \n\" style=\"fill:none;stroke:#9467bd;stroke-linecap:square;stroke-width:1.5;\"/>\n   </g>\n   <g id=\"line2d_123\">\n    <path clip-path=\"url(#pae272e70f0)\" d=\"M 180.876317 132.509859 \nL 201.088303 132.509859 \n\" style=\"fill:none;stroke:#9467bd;stroke-linecap:square;stroke-width:1.5;\"/>\n   </g>\n   <g id=\"line2d_124\">\n    <path clip-path=\"url(#pae272e70f0)\" d=\"M 201.088303 243.605258 \nL 203.109502 243.605258 \n\" style=\"fill:none;stroke:#9467bd;stroke-linecap:square;stroke-width:1.5;\"/>\n   </g>\n   <g id=\"line2d_125\">\n    <path clip-path=\"url(#pae272e70f0)\" d=\"M 203.109502 76.96216 \nL 223.321488 76.96216 \n\" style=\"fill:none;stroke:#9467bd;stroke-linecap:square;stroke-width:1.5;\"/>\n   </g>\n   <g id=\"line2d_126\">\n    <path clip-path=\"url(#pae272e70f0)\" d=\"M 223.321488 243.605258 \nL 225.342686 243.605258 \n\" style=\"fill:none;stroke:#9467bd;stroke-linecap:square;stroke-width:1.5;\"/>\n   </g>\n   <g id=\"line2d_127\">\n    <path clip-path=\"url(#pae272e70f0)\" d=\"M 223.321488 21.41446 \nL 225.342686 21.41446 \n\" style=\"fill:none;stroke:#9467bd;stroke-linecap:square;stroke-width:1.5;\"/>\n   </g>\n   <g id=\"line2d_128\">\n    <path clip-path=\"url(#pae272e70f0)\" d=\"M 225.342686 21.41446 \nL 233.427481 21.41446 \n\" style=\"fill:none;stroke:#9467bd;stroke-linecap:square;stroke-width:1.5;\"/>\n   </g>\n   <g id=\"line2d_129\">\n    <path clip-path=\"url(#pae272e70f0)\" d=\"M 233.427481 243.605258 \nL 235.448679 243.605258 \n\" style=\"fill:none;stroke:#9467bd;stroke-linecap:square;stroke-width:1.5;\"/>\n   </g>\n   <g id=\"line2d_130\">\n    <path clip-path=\"url(#pae272e70f0)\" d=\"M 233.427481 188.057559 \nL 235.448679 188.057559 \n\" style=\"fill:none;stroke:#9467bd;stroke-linecap:square;stroke-width:1.5;\"/>\n   </g>\n   <g id=\"line2d_131\">\n    <path clip-path=\"url(#pae272e70f0)\" d=\"M 767.226034 249.488827 \nL 769.247232 249.488827 \n\" style=\"fill:none;stroke:#c5b0d5;stroke-linecap:square;stroke-width:1.5;\"/>\n   </g>\n   <g id=\"line2d_132\">\n    <path clip-path=\"url(#pae272e70f0)\" d=\"M 767.226034 193.941128 \nL 769.247232 193.941128 \n\" style=\"fill:none;stroke:#c5b0d5;stroke-linecap:square;stroke-width:1.5;\"/>\n   </g>\n   <g id=\"line2d_133\">\n    <path clip-path=\"url(#pae272e70f0)\" d=\"M 769.247232 193.941128 \nL 775.984561 193.941128 \n\" style=\"fill:none;stroke:#c5b0d5;stroke-linecap:square;stroke-width:1.5;\"/>\n   </g>\n   <g id=\"line2d_134\">\n    <path clip-path=\"url(#pae272e70f0)\" d=\"M 775.984561 249.488827 \nL 778.005759 249.488827 \n\" style=\"fill:none;stroke:#c5b0d5;stroke-linecap:square;stroke-width:1.5;\"/>\n   </g>\n   <g id=\"line2d_135\">\n    <path clip-path=\"url(#pae272e70f0)\" d=\"M 775.984561 193.941128 \nL 778.005759 193.941128 \n\" style=\"fill:none;stroke:#c5b0d5;stroke-linecap:square;stroke-width:1.5;\"/>\n   </g>\n   <g id=\"line2d_136\">\n    <path clip-path=\"url(#pae272e70f0)\" d=\"M 778.005759 138.393428 \nL 818.429732 138.393428 \n\" style=\"fill:none;stroke:#c5b0d5;stroke-linecap:square;stroke-width:1.5;\"/>\n   </g>\n   <g id=\"line2d_137\">\n    <path clip-path=\"url(#pae272e70f0)\" d=\"M 818.429732 249.488827 \nL 820.45093 249.488827 \n\" style=\"fill:none;stroke:#c5b0d5;stroke-linecap:square;stroke-width:1.5;\"/>\n   </g>\n   <g id=\"line2d_138\">\n    <path clip-path=\"url(#pae272e70f0)\" d=\"M 820.45093 82.845729 \nL 840.662916 82.845729 \n\" style=\"fill:none;stroke:#c5b0d5;stroke-linecap:square;stroke-width:1.5;\"/>\n   </g>\n   <g id=\"line2d_139\">\n    <path clip-path=\"url(#pae272e70f0)\" d=\"M 840.662916 249.488827 \nL 842.684115 249.488827 \n\" style=\"fill:none;stroke:#c5b0d5;stroke-linecap:square;stroke-width:1.5;\"/>\n   </g>\n   <g id=\"line2d_140\">\n    <path clip-path=\"url(#pae272e70f0)\" d=\"M 840.662916 27.298029 \nL 842.684115 27.298029 \n\" style=\"fill:none;stroke:#c5b0d5;stroke-linecap:square;stroke-width:1.5;\"/>\n   </g>\n   <g id=\"line2d_141\">\n    <path clip-path=\"url(#pae272e70f0)\" d=\"M 842.684115 27.298029 \nL 850.768909 27.298029 \n\" style=\"fill:none;stroke:#c5b0d5;stroke-linecap:square;stroke-width:1.5;\"/>\n   </g>\n   <g id=\"line2d_142\">\n    <path clip-path=\"url(#pae272e70f0)\" d=\"M 850.768909 249.488827 \nL 852.790108 249.488827 \n\" style=\"fill:none;stroke:#c5b0d5;stroke-linecap:square;stroke-width:1.5;\"/>\n   </g>\n   <g id=\"line2d_143\">\n    <path clip-path=\"url(#pae272e70f0)\" d=\"M 850.768909 193.941128 \nL 852.790108 193.941128 \n\" style=\"fill:none;stroke:#c5b0d5;stroke-linecap:square;stroke-width:1.5;\"/>\n   </g>\n   <g id=\"line2d_144\">\n    <path clip-path=\"url(#pae272e70f0)\" d=\"M 516.327913 262.88487 \nL 518.349111 262.88487 \n\" style=\"fill:none;stroke:#8c564b;stroke-linecap:square;stroke-width:1.5;\"/>\n   </g>\n   <g id=\"line2d_145\">\n    <path clip-path=\"url(#pae272e70f0)\" d=\"M 516.327913 207.337171 \nL 518.349111 207.337171 \n\" style=\"fill:none;stroke:#8c564b;stroke-linecap:square;stroke-width:1.5;\"/>\n   </g>\n   <g id=\"line2d_146\">\n    <path clip-path=\"url(#pae272e70f0)\" d=\"M 518.349111 207.337171 \nL 525.08644 207.337171 \n\" style=\"fill:none;stroke:#8c564b;stroke-linecap:square;stroke-width:1.5;\"/>\n   </g>\n   <g id=\"line2d_147\">\n    <path clip-path=\"url(#pae272e70f0)\" d=\"M 525.08644 262.88487 \nL 527.107639 262.88487 \n\" style=\"fill:none;stroke:#8c564b;stroke-linecap:square;stroke-width:1.5;\"/>\n   </g>\n   <g id=\"line2d_148\">\n    <path clip-path=\"url(#pae272e70f0)\" d=\"M 525.08644 207.337171 \nL 527.107639 207.337171 \n\" style=\"fill:none;stroke:#8c564b;stroke-linecap:square;stroke-width:1.5;\"/>\n   </g>\n   <g id=\"line2d_149\">\n    <path clip-path=\"url(#pae272e70f0)\" d=\"M 527.107639 151.789471 \nL 557.425618 151.789471 \n\" style=\"fill:none;stroke:#8c564b;stroke-linecap:square;stroke-width:1.5;\"/>\n   </g>\n   <g id=\"line2d_150\">\n    <path clip-path=\"url(#pae272e70f0)\" d=\"M 557.425618 262.88487 \nL 559.446816 262.88487 \n\" style=\"fill:none;stroke:#8c564b;stroke-linecap:square;stroke-width:1.5;\"/>\n   </g>\n   <g id=\"line2d_151\">\n    <path clip-path=\"url(#pae272e70f0)\" d=\"M 559.446816 96.241772 \nL 579.658803 96.241772 \n\" style=\"fill:none;stroke:#8c564b;stroke-linecap:square;stroke-width:1.5;\"/>\n   </g>\n   <g id=\"line2d_152\">\n    <path clip-path=\"url(#pae272e70f0)\" d=\"M 579.658803 262.88487 \nL 581.680001 262.88487 \n\" style=\"fill:none;stroke:#8c564b;stroke-linecap:square;stroke-width:1.5;\"/>\n   </g>\n   <g id=\"line2d_153\">\n    <path clip-path=\"url(#pae272e70f0)\" d=\"M 579.658803 40.694073 \nL 581.680001 40.694073 \n\" style=\"fill:none;stroke:#8c564b;stroke-linecap:square;stroke-width:1.5;\"/>\n   </g>\n   <g id=\"line2d_154\">\n    <path clip-path=\"url(#pae272e70f0)\" d=\"M 581.680001 40.694073 \nL 589.764796 40.694073 \n\" style=\"fill:none;stroke:#8c564b;stroke-linecap:square;stroke-width:1.5;\"/>\n   </g>\n   <g id=\"line2d_155\">\n    <path clip-path=\"url(#pae272e70f0)\" d=\"M 589.764796 262.88487 \nL 591.785994 262.88487 \n\" style=\"fill:none;stroke:#8c564b;stroke-linecap:square;stroke-width:1.5;\"/>\n   </g>\n   <g id=\"line2d_156\">\n    <path clip-path=\"url(#pae272e70f0)\" d=\"M 589.764796 207.337171 \nL 591.785994 207.337171 \n\" style=\"fill:none;stroke:#8c564b;stroke-linecap:square;stroke-width:1.5;\"/>\n   </g>\n   <g id=\"line2d_157\">\n    <path clip-path=\"url(#pae272e70f0)\" d=\"M 421.466325 258.867755 \nL 423.487523 258.867755 \n\" style=\"fill:none;stroke:#c49c94;stroke-linecap:square;stroke-width:1.5;\"/>\n   </g>\n   <g id=\"line2d_158\">\n    <path clip-path=\"url(#pae272e70f0)\" d=\"M 421.466325 203.320055 \nL 423.487523 203.320055 \n\" style=\"fill:none;stroke:#c49c94;stroke-linecap:square;stroke-width:1.5;\"/>\n   </g>\n   <g id=\"line2d_159\">\n    <path clip-path=\"url(#pae272e70f0)\" d=\"M 423.487523 203.320055 \nL 430.224852 203.320055 \n\" style=\"fill:none;stroke:#c49c94;stroke-linecap:square;stroke-width:1.5;\"/>\n   </g>\n   <g id=\"line2d_160\">\n    <path clip-path=\"url(#pae272e70f0)\" d=\"M 430.224852 258.867755 \nL 432.246051 258.867755 \n\" style=\"fill:none;stroke:#c49c94;stroke-linecap:square;stroke-width:1.5;\"/>\n   </g>\n   <g id=\"line2d_161\">\n    <path clip-path=\"url(#pae272e70f0)\" d=\"M 430.224852 203.320055 \nL 432.246051 203.320055 \n\" style=\"fill:none;stroke:#c49c94;stroke-linecap:square;stroke-width:1.5;\"/>\n   </g>\n   <g id=\"line2d_162\">\n    <path clip-path=\"url(#pae272e70f0)\" d=\"M 432.246051 147.772356 \nL 452.458037 147.772356 \n\" style=\"fill:none;stroke:#c49c94;stroke-linecap:square;stroke-width:1.5;\"/>\n   </g>\n   <g id=\"line2d_163\">\n    <path clip-path=\"url(#pae272e70f0)\" d=\"M 452.458037 258.867755 \nL 454.479235 258.867755 \n\" style=\"fill:none;stroke:#c49c94;stroke-linecap:square;stroke-width:1.5;\"/>\n   </g>\n   <g id=\"line2d_164\">\n    <path clip-path=\"url(#pae272e70f0)\" d=\"M 454.479235 92.224657 \nL 474.691221 92.224657 \n\" style=\"fill:none;stroke:#c49c94;stroke-linecap:square;stroke-width:1.5;\"/>\n   </g>\n   <g id=\"line2d_165\">\n    <path clip-path=\"url(#pae272e70f0)\" d=\"M 474.691221 258.867755 \nL 476.71242 258.867755 \n\" style=\"fill:none;stroke:#c49c94;stroke-linecap:square;stroke-width:1.5;\"/>\n   </g>\n   <g id=\"line2d_166\">\n    <path clip-path=\"url(#pae272e70f0)\" d=\"M 474.691221 36.676957 \nL 476.71242 36.676957 \n\" style=\"fill:none;stroke:#c49c94;stroke-linecap:square;stroke-width:1.5;\"/>\n   </g>\n   <g id=\"line2d_167\">\n    <path clip-path=\"url(#pae272e70f0)\" d=\"M 476.71242 36.676957 \nL 484.797214 36.676957 \n\" style=\"fill:none;stroke:#c49c94;stroke-linecap:square;stroke-width:1.5;\"/>\n   </g>\n   <g id=\"line2d_168\">\n    <path clip-path=\"url(#pae272e70f0)\" d=\"M 484.797214 258.867755 \nL 486.818413 258.867755 \n\" style=\"fill:none;stroke:#c49c94;stroke-linecap:square;stroke-width:1.5;\"/>\n   </g>\n   <g id=\"line2d_169\">\n    <path clip-path=\"url(#pae272e70f0)\" d=\"M 484.797214 203.320055 \nL 486.818413 203.320055 \n\" style=\"fill:none;stroke:#c49c94;stroke-linecap:square;stroke-width:1.5;\"/>\n   </g>\n   <g id=\"line2d_170\">\n    <path clip-path=\"url(#pae272e70f0)\" d=\"M 255.660665 253.063856 \nL 257.681864 253.063856 \n\" style=\"fill:none;stroke:#e377c2;stroke-linecap:square;stroke-width:1.5;\"/>\n   </g>\n   <g id=\"line2d_171\">\n    <path clip-path=\"url(#pae272e70f0)\" d=\"M 255.660665 197.516157 \nL 257.681864 197.516157 \n\" style=\"fill:none;stroke:#e377c2;stroke-linecap:square;stroke-width:1.5;\"/>\n   </g>\n   <g id=\"line2d_172\">\n    <path clip-path=\"url(#pae272e70f0)\" d=\"M 257.681864 197.516157 \nL 264.419193 197.516157 \n\" style=\"fill:none;stroke:#e377c2;stroke-linecap:square;stroke-width:1.5;\"/>\n   </g>\n   <g id=\"line2d_173\">\n    <path clip-path=\"url(#pae272e70f0)\" d=\"M 264.419193 253.063856 \nL 266.440391 253.063856 \n\" style=\"fill:none;stroke:#e377c2;stroke-linecap:square;stroke-width:1.5;\"/>\n   </g>\n   <g id=\"line2d_174\">\n    <path clip-path=\"url(#pae272e70f0)\" d=\"M 264.419193 197.516157 \nL 266.440391 197.516157 \n\" style=\"fill:none;stroke:#e377c2;stroke-linecap:square;stroke-width:1.5;\"/>\n   </g>\n   <g id=\"line2d_175\">\n    <path clip-path=\"url(#pae272e70f0)\" d=\"M 266.440391 141.968457 \nL 306.864364 141.968457 \n\" style=\"fill:none;stroke:#e377c2;stroke-linecap:square;stroke-width:1.5;\"/>\n   </g>\n   <g id=\"line2d_176\">\n    <path clip-path=\"url(#pae272e70f0)\" d=\"M 306.864364 253.063856 \nL 308.885562 253.063856 \n\" style=\"fill:none;stroke:#e377c2;stroke-linecap:square;stroke-width:1.5;\"/>\n   </g>\n   <g id=\"line2d_177\">\n    <path clip-path=\"url(#pae272e70f0)\" d=\"M 308.885562 86.420758 \nL 329.097548 86.420758 \n\" style=\"fill:none;stroke:#e377c2;stroke-linecap:square;stroke-width:1.5;\"/>\n   </g>\n   <g id=\"line2d_178\">\n    <path clip-path=\"url(#pae272e70f0)\" d=\"M 329.097548 253.063856 \nL 331.118747 253.063856 \n\" style=\"fill:none;stroke:#e377c2;stroke-linecap:square;stroke-width:1.5;\"/>\n   </g>\n   <g id=\"line2d_179\">\n    <path clip-path=\"url(#pae272e70f0)\" d=\"M 329.097548 30.873058 \nL 331.118747 30.873058 \n\" style=\"fill:none;stroke:#e377c2;stroke-linecap:square;stroke-width:1.5;\"/>\n   </g>\n   <g id=\"line2d_180\">\n    <path clip-path=\"url(#pae272e70f0)\" d=\"M 331.118747 30.873058 \nL 339.203541 30.873058 \n\" style=\"fill:none;stroke:#e377c2;stroke-linecap:square;stroke-width:1.5;\"/>\n   </g>\n   <g id=\"line2d_181\">\n    <path clip-path=\"url(#pae272e70f0)\" d=\"M 339.203541 253.063856 \nL 341.22474 253.063856 \n\" style=\"fill:none;stroke:#e377c2;stroke-linecap:square;stroke-width:1.5;\"/>\n   </g>\n   <g id=\"line2d_182\">\n    <path clip-path=\"url(#pae272e70f0)\" d=\"M 339.203541 197.516157 \nL 341.22474 197.516157 \n\" style=\"fill:none;stroke:#e377c2;stroke-linecap:square;stroke-width:1.5;\"/>\n   </g>\n   <g id=\"line2d_183\">\n    <path clip-path=\"url(#pae272e70f0)\" d=\"M 715.079109 265.286901 \nL 717.100308 265.286901 \n\" style=\"fill:none;stroke:#f7b6d2;stroke-linecap:square;stroke-width:1.5;\"/>\n   </g>\n   <g id=\"line2d_184\">\n    <path clip-path=\"url(#pae272e70f0)\" d=\"M 715.079109 209.739201 \nL 717.100308 209.739201 \n\" style=\"fill:none;stroke:#f7b6d2;stroke-linecap:square;stroke-width:1.5;\"/>\n   </g>\n   <g id=\"line2d_185\">\n    <path clip-path=\"url(#pae272e70f0)\" d=\"M 717.100308 209.739201 \nL 723.837637 209.739201 \n\" style=\"fill:none;stroke:#f7b6d2;stroke-linecap:square;stroke-width:1.5;\"/>\n   </g>\n   <g id=\"line2d_186\">\n    <path clip-path=\"url(#pae272e70f0)\" d=\"M 723.837637 265.286901 \nL 725.858835 265.286901 \n\" style=\"fill:none;stroke:#f7b6d2;stroke-linecap:square;stroke-width:1.5;\"/>\n   </g>\n   <g id=\"line2d_187\">\n    <path clip-path=\"url(#pae272e70f0)\" d=\"M 723.837637 209.739201 \nL 725.858835 209.739201 \n\" style=\"fill:none;stroke:#f7b6d2;stroke-linecap:square;stroke-width:1.5;\"/>\n   </g>\n   <g id=\"line2d_188\">\n    <path clip-path=\"url(#pae272e70f0)\" d=\"M 725.858835 154.191502 \nL 756.176814 154.191502 \n\" style=\"fill:none;stroke:#f7b6d2;stroke-linecap:square;stroke-width:1.5;\"/>\n   </g>\n   <g id=\"line2d_189\">\n    <path clip-path=\"url(#pae272e70f0)\" d=\"M 756.176814 265.286901 \nL 758.198013 265.286901 \n\" style=\"fill:none;stroke:#f7b6d2;stroke-linecap:square;stroke-width:1.5;\"/>\n   </g>\n   <g id=\"line2d_190\">\n    <path clip-path=\"url(#pae272e70f0)\" d=\"M 758.198013 98.643803 \nL 778.409999 98.643803 \n\" style=\"fill:none;stroke:#f7b6d2;stroke-linecap:square;stroke-width:1.5;\"/>\n   </g>\n   <g id=\"line2d_191\">\n    <path clip-path=\"url(#pae272e70f0)\" d=\"M 778.409999 265.286901 \nL 780.431198 265.286901 \n\" style=\"fill:none;stroke:#f7b6d2;stroke-linecap:square;stroke-width:1.5;\"/>\n   </g>\n   <g id=\"line2d_192\">\n    <path clip-path=\"url(#pae272e70f0)\" d=\"M 778.409999 43.096103 \nL 780.431198 43.096103 \n\" style=\"fill:none;stroke:#f7b6d2;stroke-linecap:square;stroke-width:1.5;\"/>\n   </g>\n   <g id=\"line2d_193\">\n    <path clip-path=\"url(#pae272e70f0)\" d=\"M 780.431198 43.096103 \nL 788.515992 43.096103 \n\" style=\"fill:none;stroke:#f7b6d2;stroke-linecap:square;stroke-width:1.5;\"/>\n   </g>\n   <g id=\"line2d_194\">\n    <path clip-path=\"url(#pae272e70f0)\" d=\"M 788.515992 265.286901 \nL 790.537191 265.286901 \n\" style=\"fill:none;stroke:#f7b6d2;stroke-linecap:square;stroke-width:1.5;\"/>\n   </g>\n   <g id=\"line2d_195\">\n    <path clip-path=\"url(#pae272e70f0)\" d=\"M 788.515992 209.739201 \nL 790.537191 209.739201 \n\" style=\"fill:none;stroke:#f7b6d2;stroke-linecap:square;stroke-width:1.5;\"/>\n   </g>\n   <g id=\"line2d_196\">\n    <path clip-path=\"url(#pae272e70f0)\" d=\"M 663.875411 260.418711 \nL 665.89661 260.418711 \n\" style=\"fill:none;stroke:#7f7f7f;stroke-linecap:square;stroke-width:1.5;\"/>\n   </g>\n   <g id=\"line2d_197\">\n    <path clip-path=\"url(#pae272e70f0)\" d=\"M 663.875411 204.871011 \nL 665.89661 204.871011 \n\" style=\"fill:none;stroke:#7f7f7f;stroke-linecap:square;stroke-width:1.5;\"/>\n   </g>\n   <g id=\"line2d_198\">\n    <path clip-path=\"url(#pae272e70f0)\" d=\"M 665.89661 204.871011 \nL 672.633939 204.871011 \n\" style=\"fill:none;stroke:#7f7f7f;stroke-linecap:square;stroke-width:1.5;\"/>\n   </g>\n   <g id=\"line2d_199\">\n    <path clip-path=\"url(#pae272e70f0)\" d=\"M 672.633939 260.418711 \nL 674.655137 260.418711 \n\" style=\"fill:none;stroke:#7f7f7f;stroke-linecap:square;stroke-width:1.5;\"/>\n   </g>\n   <g id=\"line2d_200\">\n    <path clip-path=\"url(#pae272e70f0)\" d=\"M 672.633939 204.871011 \nL 674.655137 204.871011 \n\" style=\"fill:none;stroke:#7f7f7f;stroke-linecap:square;stroke-width:1.5;\"/>\n   </g>\n   <g id=\"line2d_201\">\n    <path clip-path=\"url(#pae272e70f0)\" d=\"M 674.655137 149.323312 \nL 694.867123 149.323312 \n\" style=\"fill:none;stroke:#7f7f7f;stroke-linecap:square;stroke-width:1.5;\"/>\n   </g>\n   <g id=\"line2d_202\">\n    <path clip-path=\"url(#pae272e70f0)\" d=\"M 694.867123 260.418711 \nL 696.888322 260.418711 \n\" style=\"fill:none;stroke:#7f7f7f;stroke-linecap:square;stroke-width:1.5;\"/>\n   </g>\n   <g id=\"line2d_203\">\n    <path clip-path=\"url(#pae272e70f0)\" d=\"M 696.888322 93.775613 \nL 717.100308 93.775613 \n\" style=\"fill:none;stroke:#7f7f7f;stroke-linecap:square;stroke-width:1.5;\"/>\n   </g>\n   <g id=\"line2d_204\">\n    <path clip-path=\"url(#pae272e70f0)\" d=\"M 717.100308 260.418711 \nL 719.121507 260.418711 \n\" style=\"fill:none;stroke:#7f7f7f;stroke-linecap:square;stroke-width:1.5;\"/>\n   </g>\n   <g id=\"line2d_205\">\n    <path clip-path=\"url(#pae272e70f0)\" d=\"M 717.100308 38.227913 \nL 719.121507 38.227913 \n\" style=\"fill:none;stroke:#7f7f7f;stroke-linecap:square;stroke-width:1.5;\"/>\n   </g>\n   <g id=\"line2d_206\">\n    <path clip-path=\"url(#pae272e70f0)\" d=\"M 719.121507 38.227913 \nL 727.206301 38.227913 \n\" style=\"fill:none;stroke:#7f7f7f;stroke-linecap:square;stroke-width:1.5;\"/>\n   </g>\n   <g id=\"line2d_207\">\n    <path clip-path=\"url(#pae272e70f0)\" d=\"M 727.206301 260.418711 \nL 729.2275 260.418711 \n\" style=\"fill:none;stroke:#7f7f7f;stroke-linecap:square;stroke-width:1.5;\"/>\n   </g>\n   <g id=\"line2d_208\">\n    <path clip-path=\"url(#pae272e70f0)\" d=\"M 727.206301 204.871011 \nL 729.2275 204.871011 \n\" style=\"fill:none;stroke:#7f7f7f;stroke-linecap:square;stroke-width:1.5;\"/>\n   </g>\n   <g id=\"line2d_209\">\n    <path clip-path=\"url(#pae272e70f0)\" d=\"M 239.423703 242.509052 \nL 241.444902 242.509052 \n\" style=\"fill:none;stroke:#c7c7c7;stroke-linecap:square;stroke-width:1.5;\"/>\n   </g>\n   <g id=\"line2d_210\">\n    <path clip-path=\"url(#pae272e70f0)\" d=\"M 239.423703 186.961353 \nL 241.444902 186.961353 \n\" style=\"fill:none;stroke:#c7c7c7;stroke-linecap:square;stroke-width:1.5;\"/>\n   </g>\n   <g id=\"line2d_211\">\n    <path clip-path=\"url(#pae272e70f0)\" d=\"M 241.444902 186.961353 \nL 248.182231 186.961353 \n\" style=\"fill:none;stroke:#c7c7c7;stroke-linecap:square;stroke-width:1.5;\"/>\n   </g>\n   <g id=\"line2d_212\">\n    <path clip-path=\"url(#pae272e70f0)\" d=\"M 248.182231 242.509052 \nL 250.203429 242.509052 \n\" style=\"fill:none;stroke:#c7c7c7;stroke-linecap:square;stroke-width:1.5;\"/>\n   </g>\n   <g id=\"line2d_213\">\n    <path clip-path=\"url(#pae272e70f0)\" d=\"M 248.182231 186.961353 \nL 250.203429 186.961353 \n\" style=\"fill:none;stroke:#c7c7c7;stroke-linecap:square;stroke-width:1.5;\"/>\n   </g>\n   <g id=\"line2d_214\">\n    <path clip-path=\"url(#pae272e70f0)\" d=\"M 250.203429 131.413653 \nL 290.627401 131.413653 \n\" style=\"fill:none;stroke:#c7c7c7;stroke-linecap:square;stroke-width:1.5;\"/>\n   </g>\n   <g id=\"line2d_215\">\n    <path clip-path=\"url(#pae272e70f0)\" d=\"M 290.627401 242.509052 \nL 292.6486 242.509052 \n\" style=\"fill:none;stroke:#c7c7c7;stroke-linecap:square;stroke-width:1.5;\"/>\n   </g>\n   <g id=\"line2d_216\">\n    <path clip-path=\"url(#pae272e70f0)\" d=\"M 292.6486 75.865954 \nL 312.860586 75.865954 \n\" style=\"fill:none;stroke:#c7c7c7;stroke-linecap:square;stroke-width:1.5;\"/>\n   </g>\n   <g id=\"line2d_217\">\n    <path clip-path=\"url(#pae272e70f0)\" d=\"M 312.860586 242.509052 \nL 314.881785 242.509052 \n\" style=\"fill:none;stroke:#c7c7c7;stroke-linecap:square;stroke-width:1.5;\"/>\n   </g>\n   <g id=\"line2d_218\">\n    <path clip-path=\"url(#pae272e70f0)\" d=\"M 312.860586 20.318255 \nL 314.881785 20.318255 \n\" style=\"fill:none;stroke:#c7c7c7;stroke-linecap:square;stroke-width:1.5;\"/>\n   </g>\n   <g id=\"line2d_219\">\n    <path clip-path=\"url(#pae272e70f0)\" d=\"M 314.881785 20.318255 \nL 322.966579 20.318255 \n\" style=\"fill:none;stroke:#c7c7c7;stroke-linecap:square;stroke-width:1.5;\"/>\n   </g>\n   <g id=\"line2d_220\">\n    <path clip-path=\"url(#pae272e70f0)\" d=\"M 322.966579 242.509052 \nL 324.987778 242.509052 \n\" style=\"fill:none;stroke:#c7c7c7;stroke-linecap:square;stroke-width:1.5;\"/>\n   </g>\n   <g id=\"line2d_221\">\n    <path clip-path=\"url(#pae272e70f0)\" d=\"M 322.966579 186.961353 \nL 324.987778 186.961353 \n\" style=\"fill:none;stroke:#c7c7c7;stroke-linecap:square;stroke-width:1.5;\"/>\n   </g>\n   <g id=\"line2d_222\">\n    <path clip-path=\"url(#pae272e70f0)\" d=\"M 309.424548 244.321802 \nL 311.445747 244.321802 \n\" style=\"fill:none;stroke:#bcbd22;stroke-linecap:square;stroke-width:1.5;\"/>\n   </g>\n   <g id=\"line2d_223\">\n    <path clip-path=\"url(#pae272e70f0)\" d=\"M 309.424548 188.774103 \nL 311.445747 188.774103 \n\" style=\"fill:none;stroke:#bcbd22;stroke-linecap:square;stroke-width:1.5;\"/>\n   </g>\n   <g id=\"line2d_224\">\n    <path clip-path=\"url(#pae272e70f0)\" d=\"M 311.445747 188.774103 \nL 318.183076 188.774103 \n\" style=\"fill:none;stroke:#bcbd22;stroke-linecap:square;stroke-width:1.5;\"/>\n   </g>\n   <g id=\"line2d_225\">\n    <path clip-path=\"url(#pae272e70f0)\" d=\"M 318.183076 244.321802 \nL 320.204274 244.321802 \n\" style=\"fill:none;stroke:#bcbd22;stroke-linecap:square;stroke-width:1.5;\"/>\n   </g>\n   <g id=\"line2d_226\">\n    <path clip-path=\"url(#pae272e70f0)\" d=\"M 318.183076 188.774103 \nL 320.204274 188.774103 \n\" style=\"fill:none;stroke:#bcbd22;stroke-linecap:square;stroke-width:1.5;\"/>\n   </g>\n   <g id=\"line2d_227\">\n    <path clip-path=\"url(#pae272e70f0)\" d=\"M 320.204274 133.226403 \nL 350.522253 133.226403 \n\" style=\"fill:none;stroke:#bcbd22;stroke-linecap:square;stroke-width:1.5;\"/>\n   </g>\n   <g id=\"line2d_228\">\n    <path clip-path=\"url(#pae272e70f0)\" d=\"M 350.522253 244.321802 \nL 352.543452 244.321802 \n\" style=\"fill:none;stroke:#bcbd22;stroke-linecap:square;stroke-width:1.5;\"/>\n   </g>\n   <g id=\"line2d_229\">\n    <path clip-path=\"url(#pae272e70f0)\" d=\"M 352.543452 77.678704 \nL 372.755438 77.678704 \n\" style=\"fill:none;stroke:#bcbd22;stroke-linecap:square;stroke-width:1.5;\"/>\n   </g>\n   <g id=\"line2d_230\">\n    <path clip-path=\"url(#pae272e70f0)\" d=\"M 372.755438 244.321802 \nL 374.776637 244.321802 \n\" style=\"fill:none;stroke:#bcbd22;stroke-linecap:square;stroke-width:1.5;\"/>\n   </g>\n   <g id=\"line2d_231\">\n    <path clip-path=\"url(#pae272e70f0)\" d=\"M 372.755438 22.131005 \nL 374.776637 22.131005 \n\" style=\"fill:none;stroke:#bcbd22;stroke-linecap:square;stroke-width:1.5;\"/>\n   </g>\n   <g id=\"line2d_232\">\n    <path clip-path=\"url(#pae272e70f0)\" d=\"M 374.776637 22.131005 \nL 382.861431 22.131005 \n\" style=\"fill:none;stroke:#bcbd22;stroke-linecap:square;stroke-width:1.5;\"/>\n   </g>\n   <g id=\"line2d_233\">\n    <path clip-path=\"url(#pae272e70f0)\" d=\"M 382.861431 244.321802 \nL 384.88263 244.321802 \n\" style=\"fill:none;stroke:#bcbd22;stroke-linecap:square;stroke-width:1.5;\"/>\n   </g>\n   <g id=\"line2d_234\">\n    <path clip-path=\"url(#pae272e70f0)\" d=\"M 382.861431 188.774103 \nL 384.88263 188.774103 \n\" style=\"fill:none;stroke:#bcbd22;stroke-linecap:square;stroke-width:1.5;\"/>\n   </g>\n   <g id=\"line2d_235\">\n    <path clip-path=\"url(#pae272e70f0)\" d=\"M 814.926321 256.117343 \nL 816.947519 256.117343 \n\" style=\"fill:none;stroke:#dbdb8d;stroke-linecap:square;stroke-width:1.5;\"/>\n   </g>\n   <g id=\"line2d_236\">\n    <path clip-path=\"url(#pae272e70f0)\" d=\"M 814.926321 200.569643 \nL 816.947519 200.569643 \n\" style=\"fill:none;stroke:#dbdb8d;stroke-linecap:square;stroke-width:1.5;\"/>\n   </g>\n   <g id=\"line2d_237\">\n    <path clip-path=\"url(#pae272e70f0)\" d=\"M 816.947519 200.569643 \nL 823.684848 200.569643 \n\" style=\"fill:none;stroke:#dbdb8d;stroke-linecap:square;stroke-width:1.5;\"/>\n   </g>\n   <g id=\"line2d_238\">\n    <path clip-path=\"url(#pae272e70f0)\" d=\"M 823.684848 256.117343 \nL 825.706047 256.117343 \n\" style=\"fill:none;stroke:#dbdb8d;stroke-linecap:square;stroke-width:1.5;\"/>\n   </g>\n   <g id=\"line2d_239\">\n    <path clip-path=\"url(#pae272e70f0)\" d=\"M 823.684848 200.569643 \nL 825.706047 200.569643 \n\" style=\"fill:none;stroke:#dbdb8d;stroke-linecap:square;stroke-width:1.5;\"/>\n   </g>\n   <g id=\"line2d_240\">\n    <path clip-path=\"url(#pae272e70f0)\" d=\"M 825.706047 145.021944 \nL 845.918033 145.021944 \n\" style=\"fill:none;stroke:#dbdb8d;stroke-linecap:square;stroke-width:1.5;\"/>\n   </g>\n   <g id=\"line2d_241\">\n    <path clip-path=\"url(#pae272e70f0)\" d=\"M 845.918033 256.117343 \nL 847.939231 256.117343 \n\" style=\"fill:none;stroke:#dbdb8d;stroke-linecap:square;stroke-width:1.5;\"/>\n   </g>\n   <g id=\"line2d_242\">\n    <path clip-path=\"url(#pae272e70f0)\" d=\"M 847.939231 89.474244 \nL 868.151217 89.474244 \n\" style=\"fill:none;stroke:#dbdb8d;stroke-linecap:square;stroke-width:1.5;\"/>\n   </g>\n   <g id=\"line2d_243\">\n    <path clip-path=\"url(#pae272e70f0)\" d=\"M 868.151217 256.117343 \nL 870.172416 256.117343 \n\" style=\"fill:none;stroke:#dbdb8d;stroke-linecap:square;stroke-width:1.5;\"/>\n   </g>\n   <g id=\"line2d_244\">\n    <path clip-path=\"url(#pae272e70f0)\" d=\"M 868.151217 33.926545 \nL 870.172416 33.926545 \n\" style=\"fill:none;stroke:#dbdb8d;stroke-linecap:square;stroke-width:1.5;\"/>\n   </g>\n   <g id=\"line2d_245\">\n    <path clip-path=\"url(#pae272e70f0)\" d=\"M 870.172416 33.926545 \nL 878.25721 33.926545 \n\" style=\"fill:none;stroke:#dbdb8d;stroke-linecap:square;stroke-width:1.5;\"/>\n   </g>\n   <g id=\"line2d_246\">\n    <path clip-path=\"url(#pae272e70f0)\" d=\"M 878.25721 256.117343 \nL 880.278409 256.117343 \n\" style=\"fill:none;stroke:#dbdb8d;stroke-linecap:square;stroke-width:1.5;\"/>\n   </g>\n   <g id=\"line2d_247\">\n    <path clip-path=\"url(#pae272e70f0)\" d=\"M 878.25721 200.569643 \nL 880.278409 200.569643 \n\" style=\"fill:none;stroke:#dbdb8d;stroke-linecap:square;stroke-width:1.5;\"/>\n   </g>\n   <g id=\"line2d_248\">\n    <path clip-path=\"url(#pae272e70f0)\" d=\"M 387.038575 260.063052 \nL 389.059774 260.063052 \n\" style=\"fill:none;stroke:#17becf;stroke-linecap:square;stroke-width:1.5;\"/>\n   </g>\n   <g id=\"line2d_249\">\n    <path clip-path=\"url(#pae272e70f0)\" d=\"M 387.038575 204.515352 \nL 389.059774 204.515352 \n\" style=\"fill:none;stroke:#17becf;stroke-linecap:square;stroke-width:1.5;\"/>\n   </g>\n   <g id=\"line2d_250\">\n    <path clip-path=\"url(#pae272e70f0)\" d=\"M 389.059774 204.515352 \nL 395.797102 204.515352 \n\" style=\"fill:none;stroke:#17becf;stroke-linecap:square;stroke-width:1.5;\"/>\n   </g>\n   <g id=\"line2d_251\">\n    <path clip-path=\"url(#pae272e70f0)\" d=\"M 395.797102 260.063052 \nL 397.818301 260.063052 \n\" style=\"fill:none;stroke:#17becf;stroke-linecap:square;stroke-width:1.5;\"/>\n   </g>\n   <g id=\"line2d_252\">\n    <path clip-path=\"url(#pae272e70f0)\" d=\"M 395.797102 204.515352 \nL 397.818301 204.515352 \n\" style=\"fill:none;stroke:#17becf;stroke-linecap:square;stroke-width:1.5;\"/>\n   </g>\n   <g id=\"line2d_253\">\n    <path clip-path=\"url(#pae272e70f0)\" d=\"M 397.818301 148.967653 \nL 438.242273 148.967653 \n\" style=\"fill:none;stroke:#17becf;stroke-linecap:square;stroke-width:1.5;\"/>\n   </g>\n   <g id=\"line2d_254\">\n    <path clip-path=\"url(#pae272e70f0)\" d=\"M 438.242273 260.063052 \nL 440.263472 260.063052 \n\" style=\"fill:none;stroke:#17becf;stroke-linecap:square;stroke-width:1.5;\"/>\n   </g>\n   <g id=\"line2d_255\">\n    <path clip-path=\"url(#pae272e70f0)\" d=\"M 440.263472 93.419954 \nL 460.475458 93.419954 \n\" style=\"fill:none;stroke:#17becf;stroke-linecap:square;stroke-width:1.5;\"/>\n   </g>\n   <g id=\"line2d_256\">\n    <path clip-path=\"url(#pae272e70f0)\" d=\"M 460.475458 260.063052 \nL 462.496656 260.063052 \n\" style=\"fill:none;stroke:#17becf;stroke-linecap:square;stroke-width:1.5;\"/>\n   </g>\n   <g id=\"line2d_257\">\n    <path clip-path=\"url(#pae272e70f0)\" d=\"M 460.475458 37.872254 \nL 462.496656 37.872254 \n\" style=\"fill:none;stroke:#17becf;stroke-linecap:square;stroke-width:1.5;\"/>\n   </g>\n   <g id=\"line2d_258\">\n    <path clip-path=\"url(#pae272e70f0)\" d=\"M 462.496656 37.872254 \nL 470.581451 37.872254 \n\" style=\"fill:none;stroke:#17becf;stroke-linecap:square;stroke-width:1.5;\"/>\n   </g>\n   <g id=\"line2d_259\">\n    <path clip-path=\"url(#pae272e70f0)\" d=\"M 470.581451 260.063052 \nL 472.60265 260.063052 \n\" style=\"fill:none;stroke:#17becf;stroke-linecap:square;stroke-width:1.5;\"/>\n   </g>\n   <g id=\"line2d_260\">\n    <path clip-path=\"url(#pae272e70f0)\" d=\"M 470.581451 204.515352 \nL 472.60265 204.515352 \n\" style=\"fill:none;stroke:#17becf;stroke-linecap:square;stroke-width:1.5;\"/>\n   </g>\n   <g id=\"line2d_261\">\n    <path clip-path=\"url(#pae272e70f0)\" d=\"M 532.228008 266.383721 \nL 534.249207 266.383721 \n\" style=\"fill:none;stroke:#9edae5;stroke-linecap:square;stroke-width:1.5;\"/>\n   </g>\n   <g id=\"line2d_262\">\n    <path clip-path=\"url(#pae272e70f0)\" d=\"M 532.228008 210.836021 \nL 534.249207 210.836021 \n\" style=\"fill:none;stroke:#9edae5;stroke-linecap:square;stroke-width:1.5;\"/>\n   </g>\n   <g id=\"line2d_263\">\n    <path clip-path=\"url(#pae272e70f0)\" d=\"M 534.249207 210.836021 \nL 540.986536 210.836021 \n\" style=\"fill:none;stroke:#9edae5;stroke-linecap:square;stroke-width:1.5;\"/>\n   </g>\n   <g id=\"line2d_264\">\n    <path clip-path=\"url(#pae272e70f0)\" d=\"M 540.986536 266.383721 \nL 543.007734 266.383721 \n\" style=\"fill:none;stroke:#9edae5;stroke-linecap:square;stroke-width:1.5;\"/>\n   </g>\n   <g id=\"line2d_265\">\n    <path clip-path=\"url(#pae272e70f0)\" d=\"M 540.986536 210.836021 \nL 543.007734 210.836021 \n\" style=\"fill:none;stroke:#9edae5;stroke-linecap:square;stroke-width:1.5;\"/>\n   </g>\n   <g id=\"line2d_266\">\n    <path clip-path=\"url(#pae272e70f0)\" d=\"M 543.007734 155.288322 \nL 573.325714 155.288322 \n\" style=\"fill:none;stroke:#9edae5;stroke-linecap:square;stroke-width:1.5;\"/>\n   </g>\n   <g id=\"line2d_267\">\n    <path clip-path=\"url(#pae272e70f0)\" d=\"M 573.325714 266.383721 \nL 575.346912 266.383721 \n\" style=\"fill:none;stroke:#9edae5;stroke-linecap:square;stroke-width:1.5;\"/>\n   </g>\n   <g id=\"line2d_268\">\n    <path clip-path=\"url(#pae272e70f0)\" d=\"M 575.346912 99.740622 \nL 595.558898 99.740622 \n\" style=\"fill:none;stroke:#9edae5;stroke-linecap:square;stroke-width:1.5;\"/>\n   </g>\n   <g id=\"line2d_269\">\n    <path clip-path=\"url(#pae272e70f0)\" d=\"M 595.558898 266.383721 \nL 597.580097 266.383721 \n\" style=\"fill:none;stroke:#9edae5;stroke-linecap:square;stroke-width:1.5;\"/>\n   </g>\n   <g id=\"line2d_270\">\n    <path clip-path=\"url(#pae272e70f0)\" d=\"M 595.558898 44.192923 \nL 597.580097 44.192923 \n\" style=\"fill:none;stroke:#9edae5;stroke-linecap:square;stroke-width:1.5;\"/>\n   </g>\n   <g id=\"line2d_271\">\n    <path clip-path=\"url(#pae272e70f0)\" d=\"M 597.580097 44.192923 \nL 605.664891 44.192923 \n\" style=\"fill:none;stroke:#9edae5;stroke-linecap:square;stroke-width:1.5;\"/>\n   </g>\n   <g id=\"line2d_272\">\n    <path clip-path=\"url(#pae272e70f0)\" d=\"M 605.664891 266.383721 \nL 607.68609 266.383721 \n\" style=\"fill:none;stroke:#9edae5;stroke-linecap:square;stroke-width:1.5;\"/>\n   </g>\n   <g id=\"line2d_273\">\n    <path clip-path=\"url(#pae272e70f0)\" d=\"M 605.664891 210.836021 \nL 607.68609 210.836021 \n\" style=\"fill:none;stroke:#9edae5;stroke-linecap:square;stroke-width:1.5;\"/>\n   </g>\n   <g id=\"line2d_274\">\n    <path clip-path=\"url(#pae272e70f0)\" d=\"M 612.671713 266.645455 \nL 614.692912 266.645455 \n\" style=\"fill:none;stroke:#1f77b4;stroke-linecap:square;stroke-width:1.5;\"/>\n   </g>\n   <g id=\"line2d_275\">\n    <path clip-path=\"url(#pae272e70f0)\" d=\"M 612.671713 211.097755 \nL 614.692912 211.097755 \n\" style=\"fill:none;stroke:#1f77b4;stroke-linecap:square;stroke-width:1.5;\"/>\n   </g>\n   <g id=\"line2d_276\">\n    <path clip-path=\"url(#pae272e70f0)\" d=\"M 614.692912 211.097755 \nL 621.43024 211.097755 \n\" style=\"fill:none;stroke:#1f77b4;stroke-linecap:square;stroke-width:1.5;\"/>\n   </g>\n   <g id=\"line2d_277\">\n    <path clip-path=\"url(#pae272e70f0)\" d=\"M 621.43024 266.645455 \nL 623.451439 266.645455 \n\" style=\"fill:none;stroke:#1f77b4;stroke-linecap:square;stroke-width:1.5;\"/>\n   </g>\n   <g id=\"line2d_278\">\n    <path clip-path=\"url(#pae272e70f0)\" d=\"M 621.43024 211.097755 \nL 623.451439 211.097755 \n\" style=\"fill:none;stroke:#1f77b4;stroke-linecap:square;stroke-width:1.5;\"/>\n   </g>\n   <g id=\"line2d_279\">\n    <path clip-path=\"url(#pae272e70f0)\" d=\"M 623.451439 155.550056 \nL 643.663425 155.550056 \n\" style=\"fill:none;stroke:#1f77b4;stroke-linecap:square;stroke-width:1.5;\"/>\n   </g>\n   <g id=\"line2d_280\">\n    <path clip-path=\"url(#pae272e70f0)\" d=\"M 643.663425 266.645455 \nL 645.684624 266.645455 \n\" style=\"fill:none;stroke:#1f77b4;stroke-linecap:square;stroke-width:1.5;\"/>\n   </g>\n   <g id=\"line2d_281\">\n    <path clip-path=\"url(#pae272e70f0)\" d=\"M 645.684624 100.002356 \nL 665.89661 100.002356 \n\" style=\"fill:none;stroke:#1f77b4;stroke-linecap:square;stroke-width:1.5;\"/>\n   </g>\n   <g id=\"line2d_282\">\n    <path clip-path=\"url(#pae272e70f0)\" d=\"M 665.89661 266.645455 \nL 667.917808 266.645455 \n\" style=\"fill:none;stroke:#1f77b4;stroke-linecap:square;stroke-width:1.5;\"/>\n   </g>\n   <g id=\"line2d_283\">\n    <path clip-path=\"url(#pae272e70f0)\" d=\"M 665.89661 44.454657 \nL 667.917808 44.454657 \n\" style=\"fill:none;stroke:#1f77b4;stroke-linecap:square;stroke-width:1.5;\"/>\n   </g>\n   <g id=\"line2d_284\">\n    <path clip-path=\"url(#pae272e70f0)\" d=\"M 667.917808 44.454657 \nL 676.002603 44.454657 \n\" style=\"fill:none;stroke:#1f77b4;stroke-linecap:square;stroke-width:1.5;\"/>\n   </g>\n   <g id=\"line2d_285\">\n    <path clip-path=\"url(#pae272e70f0)\" d=\"M 676.002603 266.645455 \nL 678.023802 266.645455 \n\" style=\"fill:none;stroke:#1f77b4;stroke-linecap:square;stroke-width:1.5;\"/>\n   </g>\n   <g id=\"line2d_286\">\n    <path clip-path=\"url(#pae272e70f0)\" d=\"M 676.002603 211.097755 \nL 678.023802 211.097755 \n\" style=\"fill:none;stroke:#1f77b4;stroke-linecap:square;stroke-width:1.5;\"/>\n   </g>\n   <g id=\"line2d_287\">\n    <path clip-path=\"url(#pae272e70f0)\" d=\"M 729.362246 254.465068 \nL 731.383445 254.465068 \n\" style=\"fill:none;stroke:#aec7e8;stroke-linecap:square;stroke-width:1.5;\"/>\n   </g>\n   <g id=\"line2d_288\">\n    <path clip-path=\"url(#pae272e70f0)\" d=\"M 729.362246 198.917369 \nL 731.383445 198.917369 \n\" style=\"fill:none;stroke:#aec7e8;stroke-linecap:square;stroke-width:1.5;\"/>\n   </g>\n   <g id=\"line2d_289\">\n    <path clip-path=\"url(#pae272e70f0)\" d=\"M 731.383445 198.917369 \nL 738.120774 198.917369 \n\" style=\"fill:none;stroke:#aec7e8;stroke-linecap:square;stroke-width:1.5;\"/>\n   </g>\n   <g id=\"line2d_290\">\n    <path clip-path=\"url(#pae272e70f0)\" d=\"M 738.120774 254.465068 \nL 740.141972 254.465068 \n\" style=\"fill:none;stroke:#aec7e8;stroke-linecap:square;stroke-width:1.5;\"/>\n   </g>\n   <g id=\"line2d_291\">\n    <path clip-path=\"url(#pae272e70f0)\" d=\"M 738.120774 198.917369 \nL 740.141972 198.917369 \n\" style=\"fill:none;stroke:#aec7e8;stroke-linecap:square;stroke-width:1.5;\"/>\n   </g>\n   <g id=\"line2d_292\">\n    <path clip-path=\"url(#pae272e70f0)\" d=\"M 740.141972 143.369669 \nL 780.565944 143.369669 \n\" style=\"fill:none;stroke:#aec7e8;stroke-linecap:square;stroke-width:1.5;\"/>\n   </g>\n   <g id=\"line2d_293\">\n    <path clip-path=\"url(#pae272e70f0)\" d=\"M 780.565944 254.465068 \nL 782.587143 254.465068 \n\" style=\"fill:none;stroke:#aec7e8;stroke-linecap:square;stroke-width:1.5;\"/>\n   </g>\n   <g id=\"line2d_294\">\n    <path clip-path=\"url(#pae272e70f0)\" d=\"M 782.587143 87.82197 \nL 802.799129 87.82197 \n\" style=\"fill:none;stroke:#aec7e8;stroke-linecap:square;stroke-width:1.5;\"/>\n   </g>\n   <g id=\"line2d_295\">\n    <path clip-path=\"url(#pae272e70f0)\" d=\"M 802.799129 254.465068 \nL 804.820328 254.465068 \n\" style=\"fill:none;stroke:#aec7e8;stroke-linecap:square;stroke-width:1.5;\"/>\n   </g>\n   <g id=\"line2d_296\">\n    <path clip-path=\"url(#pae272e70f0)\" d=\"M 802.799129 32.27427 \nL 804.820328 32.27427 \n\" style=\"fill:none;stroke:#aec7e8;stroke-linecap:square;stroke-width:1.5;\"/>\n   </g>\n   <g id=\"line2d_297\">\n    <path clip-path=\"url(#pae272e70f0)\" d=\"M 804.820328 32.27427 \nL 812.905122 32.27427 \n\" style=\"fill:none;stroke:#aec7e8;stroke-linecap:square;stroke-width:1.5;\"/>\n   </g>\n   <g id=\"line2d_298\">\n    <path clip-path=\"url(#pae272e70f0)\" d=\"M 812.905122 254.465068 \nL 814.926321 254.465068 \n\" style=\"fill:none;stroke:#aec7e8;stroke-linecap:square;stroke-width:1.5;\"/>\n   </g>\n   <g id=\"line2d_299\">\n    <path clip-path=\"url(#pae272e70f0)\" d=\"M 812.905122 198.917369 \nL 814.926321 198.917369 \n\" style=\"fill:none;stroke:#aec7e8;stroke-linecap:square;stroke-width:1.5;\"/>\n   </g>\n   <g id=\"line2d_300\">\n    <path clip-path=\"url(#pae272e70f0)\" d=\"M 690.353113 249.671259 \nL 692.374312 249.671259 \n\" style=\"fill:none;stroke:#ff7f0e;stroke-linecap:square;stroke-width:1.5;\"/>\n   </g>\n   <g id=\"line2d_301\">\n    <path clip-path=\"url(#pae272e70f0)\" d=\"M 690.353113 194.123559 \nL 692.374312 194.123559 \n\" style=\"fill:none;stroke:#ff7f0e;stroke-linecap:square;stroke-width:1.5;\"/>\n   </g>\n   <g id=\"line2d_302\">\n    <path clip-path=\"url(#pae272e70f0)\" d=\"M 692.374312 194.123559 \nL 699.11164 194.123559 \n\" style=\"fill:none;stroke:#ff7f0e;stroke-linecap:square;stroke-width:1.5;\"/>\n   </g>\n   <g id=\"line2d_303\">\n    <path clip-path=\"url(#pae272e70f0)\" d=\"M 699.11164 249.671259 \nL 701.132839 249.671259 \n\" style=\"fill:none;stroke:#ff7f0e;stroke-linecap:square;stroke-width:1.5;\"/>\n   </g>\n   <g id=\"line2d_304\">\n    <path clip-path=\"url(#pae272e70f0)\" d=\"M 699.11164 194.123559 \nL 701.132839 194.123559 \n\" style=\"fill:none;stroke:#ff7f0e;stroke-linecap:square;stroke-width:1.5;\"/>\n   </g>\n   <g id=\"line2d_305\">\n    <path clip-path=\"url(#pae272e70f0)\" d=\"M 701.132839 138.57586 \nL 731.450818 138.57586 \n\" style=\"fill:none;stroke:#ff7f0e;stroke-linecap:square;stroke-width:1.5;\"/>\n   </g>\n   <g id=\"line2d_306\">\n    <path clip-path=\"url(#pae272e70f0)\" d=\"M 731.450818 249.671259 \nL 733.472017 249.671259 \n\" style=\"fill:none;stroke:#ff7f0e;stroke-linecap:square;stroke-width:1.5;\"/>\n   </g>\n   <g id=\"line2d_307\">\n    <path clip-path=\"url(#pae272e70f0)\" d=\"M 733.472017 83.028161 \nL 753.684003 83.028161 \n\" style=\"fill:none;stroke:#ff7f0e;stroke-linecap:square;stroke-width:1.5;\"/>\n   </g>\n   <g id=\"line2d_308\">\n    <path clip-path=\"url(#pae272e70f0)\" d=\"M 753.684003 249.671259 \nL 755.705201 249.671259 \n\" style=\"fill:none;stroke:#ff7f0e;stroke-linecap:square;stroke-width:1.5;\"/>\n   </g>\n   <g id=\"line2d_309\">\n    <path clip-path=\"url(#pae272e70f0)\" d=\"M 753.684003 27.480461 \nL 755.705201 27.480461 \n\" style=\"fill:none;stroke:#ff7f0e;stroke-linecap:square;stroke-width:1.5;\"/>\n   </g>\n   <g id=\"line2d_310\">\n    <path clip-path=\"url(#pae272e70f0)\" d=\"M 755.705201 27.480461 \nL 763.789996 27.480461 \n\" style=\"fill:none;stroke:#ff7f0e;stroke-linecap:square;stroke-width:1.5;\"/>\n   </g>\n   <g id=\"line2d_311\">\n    <path clip-path=\"url(#pae272e70f0)\" d=\"M 763.789996 249.671259 \nL 765.811194 249.671259 \n\" style=\"fill:none;stroke:#ff7f0e;stroke-linecap:square;stroke-width:1.5;\"/>\n   </g>\n   <g id=\"line2d_312\">\n    <path clip-path=\"url(#pae272e70f0)\" d=\"M 763.789996 194.123559 \nL 765.811194 194.123559 \n\" style=\"fill:none;stroke:#ff7f0e;stroke-linecap:square;stroke-width:1.5;\"/>\n   </g>\n   <g id=\"line2d_313\">\n    <path clip-path=\"url(#pae272e70f0)\" d=\"M 436.221075 253.136106 \nL 438.242273 253.136106 \n\" style=\"fill:none;stroke:#ffbb78;stroke-linecap:square;stroke-width:1.5;\"/>\n   </g>\n   <g id=\"line2d_314\">\n    <path clip-path=\"url(#pae272e70f0)\" d=\"M 436.221075 197.588407 \nL 438.242273 197.588407 \n\" style=\"fill:none;stroke:#ffbb78;stroke-linecap:square;stroke-width:1.5;\"/>\n   </g>\n   <g id=\"line2d_315\">\n    <path clip-path=\"url(#pae272e70f0)\" d=\"M 438.242273 197.588407 \nL 444.979602 197.588407 \n\" style=\"fill:none;stroke:#ffbb78;stroke-linecap:square;stroke-width:1.5;\"/>\n   </g>\n   <g id=\"line2d_316\">\n    <path clip-path=\"url(#pae272e70f0)\" d=\"M 444.979602 253.136106 \nL 447.0008 253.136106 \n\" style=\"fill:none;stroke:#ffbb78;stroke-linecap:square;stroke-width:1.5;\"/>\n   </g>\n   <g id=\"line2d_317\">\n    <path clip-path=\"url(#pae272e70f0)\" d=\"M 444.979602 197.588407 \nL 447.0008 197.588407 \n\" style=\"fill:none;stroke:#ffbb78;stroke-linecap:square;stroke-width:1.5;\"/>\n   </g>\n   <g id=\"line2d_318\">\n    <path clip-path=\"url(#pae272e70f0)\" d=\"M 447.0008 142.040707 \nL 467.212787 142.040707 \n\" style=\"fill:none;stroke:#ffbb78;stroke-linecap:square;stroke-width:1.5;\"/>\n   </g>\n   <g id=\"line2d_319\">\n    <path clip-path=\"url(#pae272e70f0)\" d=\"M 467.212787 253.136106 \nL 469.233985 253.136106 \n\" style=\"fill:none;stroke:#ffbb78;stroke-linecap:square;stroke-width:1.5;\"/>\n   </g>\n   <g id=\"line2d_320\">\n    <path clip-path=\"url(#pae272e70f0)\" d=\"M 469.233985 86.493008 \nL 489.445971 86.493008 \n\" style=\"fill:none;stroke:#ffbb78;stroke-linecap:square;stroke-width:1.5;\"/>\n   </g>\n   <g id=\"line2d_321\">\n    <path clip-path=\"url(#pae272e70f0)\" d=\"M 489.445971 253.136106 \nL 491.46717 253.136106 \n\" style=\"fill:none;stroke:#ffbb78;stroke-linecap:square;stroke-width:1.5;\"/>\n   </g>\n   <g id=\"line2d_322\">\n    <path clip-path=\"url(#pae272e70f0)\" d=\"M 489.445971 30.945308 \nL 491.46717 30.945308 \n\" style=\"fill:none;stroke:#ffbb78;stroke-linecap:square;stroke-width:1.5;\"/>\n   </g>\n   <g id=\"line2d_323\">\n    <path clip-path=\"url(#pae272e70f0)\" d=\"M 491.46717 30.945308 \nL 499.551964 30.945308 \n\" style=\"fill:none;stroke:#ffbb78;stroke-linecap:square;stroke-width:1.5;\"/>\n   </g>\n   <g id=\"line2d_324\">\n    <path clip-path=\"url(#pae272e70f0)\" d=\"M 499.551964 253.136106 \nL 501.573163 253.136106 \n\" style=\"fill:none;stroke:#ffbb78;stroke-linecap:square;stroke-width:1.5;\"/>\n   </g>\n   <g id=\"line2d_325\">\n    <path clip-path=\"url(#pae272e70f0)\" d=\"M 499.551964 197.588407 \nL 501.573163 197.588407 \n\" style=\"fill:none;stroke:#ffbb78;stroke-linecap:square;stroke-width:1.5;\"/>\n   </g>\n   <g id=\"line2d_326\">\n    <path clip-path=\"url(#pae272e70f0)\" d=\"M 577.637604 255.952422 \nL 579.658803 255.952422 \n\" style=\"fill:none;stroke:#2ca02c;stroke-linecap:square;stroke-width:1.5;\"/>\n   </g>\n   <g id=\"line2d_327\">\n    <path clip-path=\"url(#pae272e70f0)\" d=\"M 577.637604 200.404722 \nL 579.658803 200.404722 \n\" style=\"fill:none;stroke:#2ca02c;stroke-linecap:square;stroke-width:1.5;\"/>\n   </g>\n   <g id=\"line2d_328\">\n    <path clip-path=\"url(#pae272e70f0)\" d=\"M 579.658803 200.404722 \nL 586.396131 200.404722 \n\" style=\"fill:none;stroke:#2ca02c;stroke-linecap:square;stroke-width:1.5;\"/>\n   </g>\n   <g id=\"line2d_329\">\n    <path clip-path=\"url(#pae272e70f0)\" d=\"M 586.396131 255.952422 \nL 588.41733 255.952422 \n\" style=\"fill:none;stroke:#2ca02c;stroke-linecap:square;stroke-width:1.5;\"/>\n   </g>\n   <g id=\"line2d_330\">\n    <path clip-path=\"url(#pae272e70f0)\" d=\"M 586.396131 200.404722 \nL 588.41733 200.404722 \n\" style=\"fill:none;stroke:#2ca02c;stroke-linecap:square;stroke-width:1.5;\"/>\n   </g>\n   <g id=\"line2d_331\">\n    <path clip-path=\"url(#pae272e70f0)\" d=\"M 588.41733 144.857023 \nL 628.841302 144.857023 \n\" style=\"fill:none;stroke:#2ca02c;stroke-linecap:square;stroke-width:1.5;\"/>\n   </g>\n   <g id=\"line2d_332\">\n    <path clip-path=\"url(#pae272e70f0)\" d=\"M 628.841302 255.952422 \nL 630.862501 255.952422 \n\" style=\"fill:none;stroke:#2ca02c;stroke-linecap:square;stroke-width:1.5;\"/>\n   </g>\n   <g id=\"line2d_333\">\n    <path clip-path=\"url(#pae272e70f0)\" d=\"M 630.862501 89.309324 \nL 651.074487 89.309324 \n\" style=\"fill:none;stroke:#2ca02c;stroke-linecap:square;stroke-width:1.5;\"/>\n   </g>\n   <g id=\"line2d_334\">\n    <path clip-path=\"url(#pae272e70f0)\" d=\"M 651.074487 255.952422 \nL 653.095685 255.952422 \n\" style=\"fill:none;stroke:#2ca02c;stroke-linecap:square;stroke-width:1.5;\"/>\n   </g>\n   <g id=\"line2d_335\">\n    <path clip-path=\"url(#pae272e70f0)\" d=\"M 651.074487 33.761624 \nL 653.095685 33.761624 \n\" style=\"fill:none;stroke:#2ca02c;stroke-linecap:square;stroke-width:1.5;\"/>\n   </g>\n   <g id=\"line2d_336\">\n    <path clip-path=\"url(#pae272e70f0)\" d=\"M 653.095685 33.761624 \nL 661.18048 33.761624 \n\" style=\"fill:none;stroke:#2ca02c;stroke-linecap:square;stroke-width:1.5;\"/>\n   </g>\n   <g id=\"line2d_337\">\n    <path clip-path=\"url(#pae272e70f0)\" d=\"M 661.18048 255.952422 \nL 663.201678 255.952422 \n\" style=\"fill:none;stroke:#2ca02c;stroke-linecap:square;stroke-width:1.5;\"/>\n   </g>\n   <g id=\"line2d_338\">\n    <path clip-path=\"url(#pae272e70f0)\" d=\"M 661.18048 200.404722 \nL 663.201678 200.404722 \n\" style=\"fill:none;stroke:#2ca02c;stroke-linecap:square;stroke-width:1.5;\"/>\n   </g>\n   <g id=\"line2d_339\">\n    <path clip-path=\"url(#pae272e70f0)\" d=\"M 472.60265 248.859182 \nL 474.623848 248.859182 \n\" style=\"fill:none;stroke:#98df8a;stroke-linecap:square;stroke-width:1.5;\"/>\n   </g>\n   <g id=\"line2d_340\">\n    <path clip-path=\"url(#pae272e70f0)\" d=\"M 472.60265 193.311482 \nL 474.623848 193.311482 \n\" style=\"fill:none;stroke:#98df8a;stroke-linecap:square;stroke-width:1.5;\"/>\n   </g>\n   <g id=\"line2d_341\">\n    <path clip-path=\"url(#pae272e70f0)\" d=\"M 474.623848 193.311482 \nL 481.361177 193.311482 \n\" style=\"fill:none;stroke:#98df8a;stroke-linecap:square;stroke-width:1.5;\"/>\n   </g>\n   <g id=\"line2d_342\">\n    <path clip-path=\"url(#pae272e70f0)\" d=\"M 481.361177 248.859182 \nL 483.382375 248.859182 \n\" style=\"fill:none;stroke:#98df8a;stroke-linecap:square;stroke-width:1.5;\"/>\n   </g>\n   <g id=\"line2d_343\">\n    <path clip-path=\"url(#pae272e70f0)\" d=\"M 481.361177 193.311482 \nL 483.382375 193.311482 \n\" style=\"fill:none;stroke:#98df8a;stroke-linecap:square;stroke-width:1.5;\"/>\n   </g>\n   <g id=\"line2d_344\">\n    <path clip-path=\"url(#pae272e70f0)\" d=\"M 483.382375 137.763783 \nL 513.700355 137.763783 \n\" style=\"fill:none;stroke:#98df8a;stroke-linecap:square;stroke-width:1.5;\"/>\n   </g>\n   <g id=\"line2d_345\">\n    <path clip-path=\"url(#pae272e70f0)\" d=\"M 513.700355 248.859182 \nL 515.721553 248.859182 \n\" style=\"fill:none;stroke:#98df8a;stroke-linecap:square;stroke-width:1.5;\"/>\n   </g>\n   <g id=\"line2d_346\">\n    <path clip-path=\"url(#pae272e70f0)\" d=\"M 515.721553 82.216084 \nL 535.933539 82.216084 \n\" style=\"fill:none;stroke:#98df8a;stroke-linecap:square;stroke-width:1.5;\"/>\n   </g>\n   <g id=\"line2d_347\">\n    <path clip-path=\"url(#pae272e70f0)\" d=\"M 535.933539 248.859182 \nL 537.954738 248.859182 \n\" style=\"fill:none;stroke:#98df8a;stroke-linecap:square;stroke-width:1.5;\"/>\n   </g>\n   <g id=\"line2d_348\">\n    <path clip-path=\"url(#pae272e70f0)\" d=\"M 535.933539 26.668384 \nL 537.954738 26.668384 \n\" style=\"fill:none;stroke:#98df8a;stroke-linecap:square;stroke-width:1.5;\"/>\n   </g>\n   <g id=\"line2d_349\">\n    <path clip-path=\"url(#pae272e70f0)\" d=\"M 537.954738 26.668384 \nL 546.039532 26.668384 \n\" style=\"fill:none;stroke:#98df8a;stroke-linecap:square;stroke-width:1.5;\"/>\n   </g>\n   <g id=\"line2d_350\">\n    <path clip-path=\"url(#pae272e70f0)\" d=\"M 546.039532 248.859182 \nL 548.060731 248.859182 \n\" style=\"fill:none;stroke:#98df8a;stroke-linecap:square;stroke-width:1.5;\"/>\n   </g>\n   <g id=\"line2d_351\">\n    <path clip-path=\"url(#pae272e70f0)\" d=\"M 546.039532 193.311482 \nL 548.060731 193.311482 \n\" style=\"fill:none;stroke:#98df8a;stroke-linecap:square;stroke-width:1.5;\"/>\n   </g>\n   <g id=\"line2d_352\">\n    <path clip-path=\"url(#pae272e70f0)\" d=\"M 204.456967 260.80562 \nL 206.478166 260.80562 \n\" style=\"fill:none;stroke:#d62728;stroke-linecap:square;stroke-width:1.5;\"/>\n   </g>\n   <g id=\"line2d_353\">\n    <path clip-path=\"url(#pae272e70f0)\" d=\"M 204.456967 205.257921 \nL 206.478166 205.257921 \n\" style=\"fill:none;stroke:#d62728;stroke-linecap:square;stroke-width:1.5;\"/>\n   </g>\n   <g id=\"line2d_354\">\n    <path clip-path=\"url(#pae272e70f0)\" d=\"M 206.478166 205.257921 \nL 213.215495 205.257921 \n\" style=\"fill:none;stroke:#d62728;stroke-linecap:square;stroke-width:1.5;\"/>\n   </g>\n   <g id=\"line2d_355\">\n    <path clip-path=\"url(#pae272e70f0)\" d=\"M 213.215495 260.80562 \nL 215.236693 260.80562 \n\" style=\"fill:none;stroke:#d62728;stroke-linecap:square;stroke-width:1.5;\"/>\n   </g>\n   <g id=\"line2d_356\">\n    <path clip-path=\"url(#pae272e70f0)\" d=\"M 213.215495 205.257921 \nL 215.236693 205.257921 \n\" style=\"fill:none;stroke:#d62728;stroke-linecap:square;stroke-width:1.5;\"/>\n   </g>\n   <g id=\"line2d_357\">\n    <path clip-path=\"url(#pae272e70f0)\" d=\"M 215.236693 149.710222 \nL 235.448679 149.710222 \n\" style=\"fill:none;stroke:#d62728;stroke-linecap:square;stroke-width:1.5;\"/>\n   </g>\n   <g id=\"line2d_358\">\n    <path clip-path=\"url(#pae272e70f0)\" d=\"M 235.448679 260.80562 \nL 237.469878 260.80562 \n\" style=\"fill:none;stroke:#d62728;stroke-linecap:square;stroke-width:1.5;\"/>\n   </g>\n   <g id=\"line2d_359\">\n    <path clip-path=\"url(#pae272e70f0)\" d=\"M 237.469878 94.162522 \nL 257.681864 94.162522 \n\" style=\"fill:none;stroke:#d62728;stroke-linecap:square;stroke-width:1.5;\"/>\n   </g>\n   <g id=\"line2d_360\">\n    <path clip-path=\"url(#pae272e70f0)\" d=\"M 257.681864 260.80562 \nL 259.703063 260.80562 \n\" style=\"fill:none;stroke:#d62728;stroke-linecap:square;stroke-width:1.5;\"/>\n   </g>\n   <g id=\"line2d_361\">\n    <path clip-path=\"url(#pae272e70f0)\" d=\"M 257.681864 38.614823 \nL 259.703063 38.614823 \n\" style=\"fill:none;stroke:#d62728;stroke-linecap:square;stroke-width:1.5;\"/>\n   </g>\n   <g id=\"line2d_362\">\n    <path clip-path=\"url(#pae272e70f0)\" d=\"M 259.703063 38.614823 \nL 267.787857 38.614823 \n\" style=\"fill:none;stroke:#d62728;stroke-linecap:square;stroke-width:1.5;\"/>\n   </g>\n   <g id=\"line2d_363\">\n    <path clip-path=\"url(#pae272e70f0)\" d=\"M 267.787857 260.80562 \nL 269.809056 260.80562 \n\" style=\"fill:none;stroke:#d62728;stroke-linecap:square;stroke-width:1.5;\"/>\n   </g>\n   <g id=\"line2d_364\">\n    <path clip-path=\"url(#pae272e70f0)\" d=\"M 267.787857 205.257921 \nL 269.809056 205.257921 \n\" style=\"fill:none;stroke:#d62728;stroke-linecap:square;stroke-width:1.5;\"/>\n   </g>\n   <g id=\"line2d_365\">\n    <path clip-path=\"url(#pae272e70f0)\" d=\"M 327.008976 248.502361 \nL 329.030175 248.502361 \n\" style=\"fill:none;stroke:#ff9896;stroke-linecap:square;stroke-width:1.5;\"/>\n   </g>\n   <g id=\"line2d_366\">\n    <path clip-path=\"url(#pae272e70f0)\" d=\"M 327.008976 192.954661 \nL 329.030175 192.954661 \n\" style=\"fill:none;stroke:#ff9896;stroke-linecap:square;stroke-width:1.5;\"/>\n   </g>\n   <g id=\"line2d_367\">\n    <path clip-path=\"url(#pae272e70f0)\" d=\"M 329.030175 192.954661 \nL 335.767504 192.954661 \n\" style=\"fill:none;stroke:#ff9896;stroke-linecap:square;stroke-width:1.5;\"/>\n   </g>\n   <g id=\"line2d_368\">\n    <path clip-path=\"url(#pae272e70f0)\" d=\"M 335.767504 248.502361 \nL 337.788702 248.502361 \n\" style=\"fill:none;stroke:#ff9896;stroke-linecap:square;stroke-width:1.5;\"/>\n   </g>\n   <g id=\"line2d_369\">\n    <path clip-path=\"url(#pae272e70f0)\" d=\"M 335.767504 192.954661 \nL 337.788702 192.954661 \n\" style=\"fill:none;stroke:#ff9896;stroke-linecap:square;stroke-width:1.5;\"/>\n   </g>\n   <g id=\"line2d_370\">\n    <path clip-path=\"url(#pae272e70f0)\" d=\"M 337.788702 137.406962 \nL 378.212674 137.406962 \n\" style=\"fill:none;stroke:#ff9896;stroke-linecap:square;stroke-width:1.5;\"/>\n   </g>\n   <g id=\"line2d_371\">\n    <path clip-path=\"url(#pae272e70f0)\" d=\"M 378.212674 248.502361 \nL 380.233873 248.502361 \n\" style=\"fill:none;stroke:#ff9896;stroke-linecap:square;stroke-width:1.5;\"/>\n   </g>\n   <g id=\"line2d_372\">\n    <path clip-path=\"url(#pae272e70f0)\" d=\"M 380.233873 81.859263 \nL 400.445859 81.859263 \n\" style=\"fill:none;stroke:#ff9896;stroke-linecap:square;stroke-width:1.5;\"/>\n   </g>\n   <g id=\"line2d_373\">\n    <path clip-path=\"url(#pae272e70f0)\" d=\"M 400.445859 248.502361 \nL 402.467058 248.502361 \n\" style=\"fill:none;stroke:#ff9896;stroke-linecap:square;stroke-width:1.5;\"/>\n   </g>\n   <g id=\"line2d_374\">\n    <path clip-path=\"url(#pae272e70f0)\" d=\"M 400.445859 26.311563 \nL 402.467058 26.311563 \n\" style=\"fill:none;stroke:#ff9896;stroke-linecap:square;stroke-width:1.5;\"/>\n   </g>\n   <g id=\"line2d_375\">\n    <path clip-path=\"url(#pae272e70f0)\" d=\"M 402.467058 26.311563 \nL 410.551852 26.311563 \n\" style=\"fill:none;stroke:#ff9896;stroke-linecap:square;stroke-width:1.5;\"/>\n   </g>\n   <g id=\"line2d_376\">\n    <path clip-path=\"url(#pae272e70f0)\" d=\"M 410.551852 248.502361 \nL 412.573051 248.502361 \n\" style=\"fill:none;stroke:#ff9896;stroke-linecap:square;stroke-width:1.5;\"/>\n   </g>\n   <g id=\"line2d_377\">\n    <path clip-path=\"url(#pae272e70f0)\" d=\"M 410.551852 192.954661 \nL 412.573051 192.954661 \n\" style=\"fill:none;stroke:#ff9896;stroke-linecap:square;stroke-width:1.5;\"/>\n   </g>\n   <g id=\"line2d_378\">\n    <path clip-path=\"url(#pae272e70f0)\" d=\"M 501.910029 263.103657 \nL 503.931228 263.103657 \n\" style=\"fill:none;stroke:#9467bd;stroke-linecap:square;stroke-width:1.5;\"/>\n   </g>\n   <g id=\"line2d_379\">\n    <path clip-path=\"url(#pae272e70f0)\" d=\"M 501.910029 207.555958 \nL 503.931228 207.555958 \n\" style=\"fill:none;stroke:#9467bd;stroke-linecap:square;stroke-width:1.5;\"/>\n   </g>\n   <g id=\"line2d_380\">\n    <path clip-path=\"url(#pae272e70f0)\" d=\"M 503.931228 207.555958 \nL 510.668557 207.555958 \n\" style=\"fill:none;stroke:#9467bd;stroke-linecap:square;stroke-width:1.5;\"/>\n   </g>\n   <g id=\"line2d_381\">\n    <path clip-path=\"url(#pae272e70f0)\" d=\"M 510.668557 263.103657 \nL 512.689755 263.103657 \n\" style=\"fill:none;stroke:#9467bd;stroke-linecap:square;stroke-width:1.5;\"/>\n   </g>\n   <g id=\"line2d_382\">\n    <path clip-path=\"url(#pae272e70f0)\" d=\"M 510.668557 207.555958 \nL 512.689755 207.555958 \n\" style=\"fill:none;stroke:#9467bd;stroke-linecap:square;stroke-width:1.5;\"/>\n   </g>\n   <g id=\"line2d_383\">\n    <path clip-path=\"url(#pae272e70f0)\" d=\"M 512.689755 152.008258 \nL 543.007734 152.008258 \n\" style=\"fill:none;stroke:#9467bd;stroke-linecap:square;stroke-width:1.5;\"/>\n   </g>\n   <g id=\"line2d_384\">\n    <path clip-path=\"url(#pae272e70f0)\" d=\"M 543.007734 263.103657 \nL 545.028933 263.103657 \n\" style=\"fill:none;stroke:#9467bd;stroke-linecap:square;stroke-width:1.5;\"/>\n   </g>\n   <g id=\"line2d_385\">\n    <path clip-path=\"url(#pae272e70f0)\" d=\"M 545.028933 96.460559 \nL 565.240919 96.460559 \n\" style=\"fill:none;stroke:#9467bd;stroke-linecap:square;stroke-width:1.5;\"/>\n   </g>\n   <g id=\"line2d_386\">\n    <path clip-path=\"url(#pae272e70f0)\" d=\"M 565.240919 263.103657 \nL 567.262118 263.103657 \n\" style=\"fill:none;stroke:#9467bd;stroke-linecap:square;stroke-width:1.5;\"/>\n   </g>\n   <g id=\"line2d_387\">\n    <path clip-path=\"url(#pae272e70f0)\" d=\"M 565.240919 40.91286 \nL 567.262118 40.91286 \n\" style=\"fill:none;stroke:#9467bd;stroke-linecap:square;stroke-width:1.5;\"/>\n   </g>\n   <g id=\"line2d_388\">\n    <path clip-path=\"url(#pae272e70f0)\" d=\"M 567.262118 40.91286 \nL 575.346912 40.91286 \n\" style=\"fill:none;stroke:#9467bd;stroke-linecap:square;stroke-width:1.5;\"/>\n   </g>\n   <g id=\"line2d_389\">\n    <path clip-path=\"url(#pae272e70f0)\" d=\"M 575.346912 263.103657 \nL 577.368111 263.103657 \n\" style=\"fill:none;stroke:#9467bd;stroke-linecap:square;stroke-width:1.5;\"/>\n   </g>\n   <g id=\"line2d_390\">\n    <path clip-path=\"url(#pae272e70f0)\" d=\"M 575.346912 207.555958 \nL 577.368111 207.555958 \n\" style=\"fill:none;stroke:#9467bd;stroke-linecap:square;stroke-width:1.5;\"/>\n   </g>\n   <g id=\"line2d_391\">\n    <path clip-path=\"url(#pae272e70f0)\" d=\"M 188.220005 255.436443 \nL 190.241204 255.436443 \n\" style=\"fill:none;stroke:#c5b0d5;stroke-linecap:square;stroke-width:1.5;\"/>\n   </g>\n   <g id=\"line2d_392\">\n    <path clip-path=\"url(#pae272e70f0)\" d=\"M 188.220005 199.888743 \nL 190.241204 199.888743 \n\" style=\"fill:none;stroke:#c5b0d5;stroke-linecap:square;stroke-width:1.5;\"/>\n   </g>\n   <g id=\"line2d_393\">\n    <path clip-path=\"url(#pae272e70f0)\" d=\"M 190.241204 199.888743 \nL 196.978532 199.888743 \n\" style=\"fill:none;stroke:#c5b0d5;stroke-linecap:square;stroke-width:1.5;\"/>\n   </g>\n   <g id=\"line2d_394\">\n    <path clip-path=\"url(#pae272e70f0)\" d=\"M 196.978532 255.436443 \nL 198.999731 255.436443 \n\" style=\"fill:none;stroke:#c5b0d5;stroke-linecap:square;stroke-width:1.5;\"/>\n   </g>\n   <g id=\"line2d_395\">\n    <path clip-path=\"url(#pae272e70f0)\" d=\"M 196.978532 199.888743 \nL 198.999731 199.888743 \n\" style=\"fill:none;stroke:#c5b0d5;stroke-linecap:square;stroke-width:1.5;\"/>\n   </g>\n   <g id=\"line2d_396\">\n    <path clip-path=\"url(#pae272e70f0)\" d=\"M 198.999731 144.341044 \nL 219.211717 144.341044 \n\" style=\"fill:none;stroke:#c5b0d5;stroke-linecap:square;stroke-width:1.5;\"/>\n   </g>\n   <g id=\"line2d_397\">\n    <path clip-path=\"url(#pae272e70f0)\" d=\"M 219.211717 255.436443 \nL 221.232916 255.436443 \n\" style=\"fill:none;stroke:#c5b0d5;stroke-linecap:square;stroke-width:1.5;\"/>\n   </g>\n   <g id=\"line2d_398\">\n    <path clip-path=\"url(#pae272e70f0)\" d=\"M 221.232916 88.793345 \nL 241.444902 88.793345 \n\" style=\"fill:none;stroke:#c5b0d5;stroke-linecap:square;stroke-width:1.5;\"/>\n   </g>\n   <g id=\"line2d_399\">\n    <path clip-path=\"url(#pae272e70f0)\" d=\"M 241.444902 255.436443 \nL 243.4661 255.436443 \n\" style=\"fill:none;stroke:#c5b0d5;stroke-linecap:square;stroke-width:1.5;\"/>\n   </g>\n   <g id=\"line2d_400\">\n    <path clip-path=\"url(#pae272e70f0)\" d=\"M 241.444902 33.245645 \nL 243.4661 33.245645 \n\" style=\"fill:none;stroke:#c5b0d5;stroke-linecap:square;stroke-width:1.5;\"/>\n   </g>\n   <g id=\"line2d_401\">\n    <path clip-path=\"url(#pae272e70f0)\" d=\"M 243.4661 33.245645 \nL 251.550895 33.245645 \n\" style=\"fill:none;stroke:#c5b0d5;stroke-linecap:square;stroke-width:1.5;\"/>\n   </g>\n   <g id=\"line2d_402\">\n    <path clip-path=\"url(#pae272e70f0)\" d=\"M 251.550895 255.436443 \nL 253.572093 255.436443 \n\" style=\"fill:none;stroke:#c5b0d5;stroke-linecap:square;stroke-width:1.5;\"/>\n   </g>\n   <g id=\"line2d_403\">\n    <path clip-path=\"url(#pae272e70f0)\" d=\"M 251.550895 199.888743 \nL 253.572093 199.888743 \n\" style=\"fill:none;stroke:#c5b0d5;stroke-linecap:square;stroke-width:1.5;\"/>\n   </g>\n   <g id=\"patch_3\">\n    <path d=\"M 134.5875 279 \nL 134.5875 7.2 \n\" style=\"fill:none;stroke:#000000;stroke-linecap:square;stroke-linejoin:miter;stroke-width:0.8;\"/>\n   </g>\n   <g id=\"patch_4\">\n    <path d=\"M 915.7875 279 \nL 915.7875 7.2 \n\" style=\"fill:none;stroke:#000000;stroke-linecap:square;stroke-linejoin:miter;stroke-width:0.8;\"/>\n   </g>\n   <g id=\"patch_5\">\n    <path d=\"M 134.5875 279 \nL 915.7875 279 \n\" style=\"fill:none;stroke:#000000;stroke-linecap:square;stroke-linejoin:miter;stroke-width:0.8;\"/>\n   </g>\n   <g id=\"patch_6\">\n    <path d=\"M 134.5875 7.2 \nL 915.7875 7.2 \n\" style=\"fill:none;stroke:#000000;stroke-linecap:square;stroke-linejoin:miter;stroke-width:0.8;\"/>\n   </g>\n  </g>\n </g>\n <defs>\n  <clipPath id=\"pae272e70f0\">\n   <rect height=\"271.8\" width=\"781.2\" x=\"134.5875\" y=\"7.2\"/>\n  </clipPath>\n </defs>\n</svg>\n",
      "image/png": "[encoded data removed]"
     },
     "metadata": {
      "needs_background": "light"
     }
    }
   ],
   "source": [
    "plt.figure(figsize=(14,5))\n",
    "\n",
    "for idx, (sample, tasklist) in enumerate(scheduler.tasks.items()):\n",
    "    color = plt.cm.tab20(idx%20)\n",
    "    offset = np.random.random()*0.5 - 0.25\n",
    "    for t in tasklist:\n",
    "        for w in t.workers:\n",
    "            y = [scheduler.workers.index(w) + offset]*2\n",
    "            x = [scheduler.solver.Value(t._start)/60, scheduler.solver.Value(t._end)/60]\n",
    "            plt.plot(x,y, color=color)\n",
    "\n",
    "plt.yticks(range(len(scheduler.workers)), labels=[w.name for w in scheduler.workers])\n",
    "plt.xlabel('Time (minutes)')\n",
    "\n",
    "        "
   ]
  },
  {
   "cell_type": "code",
   "execution_count": 230,
   "metadata": {},
   "outputs": [
    {
     "output_type": "error",
     "ename": "SyntaxError",
     "evalue": "invalid syntax (<ipython-input-230-c155ac0a68ca>, line 1)",
     "traceback": [
      "\u001b[0;36m  File \u001b[0;32m\"<ipython-input-230-c155ac0a68ca>\"\u001b[0;36m, line \u001b[0;32m1\u001b[0m\n\u001b[0;31m    scheduler.\u001b[0m\n\u001b[0m              ^\u001b[0m\n\u001b[0;31mSyntaxError\u001b[0m\u001b[0;31m:\u001b[0m invalid syntax\n"
     ]
    }
   ],
   "source": [
    "scheduler."
   ]
  },
  {
   "cell_type": "code",
   "execution_count": null,
   "metadata": {},
   "outputs": [],
   "source": [
    "plt.figure(figsize=(14,5))\n",
    "\n",
    "# Create one list of assigned tasks per machine.\n",
    "assigned_jobs = collections.defaultdict(list)\n",
    "for job_id, job in jobs_data.items():\n",
    "    for task_id, task in job.items():\n",
    "        for machine in task[0]:\n",
    "            assigned_jobs[machine].append(\n",
    "                assigned_task_type(\n",
    "                    start=solver.Value(all_tasks[job_id, task_id].start),\n",
    "                    job=job_id,\n",
    "                    index=task_id,\n",
    "                    duration=task.duration))\n",
    "\n",
    "# Create per machine output lines.\n",
    "for machine in machines:\n",
    "    # Sort by starting time.\n",
    "    assigned_jobs[machine].sort()\n",
    "    for assigned_task in assigned_jobs[machine]:\n",
    "        myval = machines.index(machine) + np.random.random()*0.2 - 0.1\n",
    "        plt.plot([assigned_task.start/60, (assigned_task.start+assigned_task.duration)/60], [myval, myval],\n",
    "                marker='o',markersize=1, color=plt.cm.tab10(int(assigned_task.job.replace('sample', ''))%10))\n",
    "\n",
    "plt.yticks(range(len(machines)), labels=machines)\n",
    "plt.xlabel('Minutes')\n",
    "plt.title(f'{len(samples)} Samples, {solver.ObjectiveValue()/3600:.1f} Hours')\n",
    "# Finally print the solution found.\n",
    "print(f'Optimal Schedule Length: {solver.ObjectiveValue()/60} minutes')\n",
    "# print(output)\n",
    "# plt.xlim(0, 60)"
   ]
  },
  {
   "cell_type": "code",
   "execution_count": null,
   "metadata": {},
   "outputs": [],
   "source": [
    "def build_instructions_for_sample(sample, )"
   ]
  },
  {
   "source": [
    "# Write final files to disk"
   ],
   "cell_type": "markdown",
   "metadata": {}
  },
  {
   "source": [
    "## Write mixing netlist to disk, will be copy-pasted into listener.py protocol"
   ],
   "cell_type": "markdown",
   "metadata": {}
  },
  {
   "cell_type": "code",
   "execution_count": 24,
   "metadata": {},
   "outputs": [
    {
     "output_type": "stream",
     "name": "stdout",
     "text": [
      "Liquid Handler Netlist String dumped to \"netlist.json\"\n"
     ]
    }
   ],
   "source": [
    "with open('netlist.json', 'w') as f:\n",
    "    json.dump(mixing_netlist, f)\n",
    "print('Liquid Handler Netlist String dumped to \"netlist.json\"')"
   ]
  },
  {
   "cell_type": "code",
   "execution_count": null,
   "metadata": {},
   "outputs": [],
   "source": []
  }
 ],
 "metadata": {
  "kernelspec": {
   "name": "python3",
   "display_name": "Python 3.8.0 64-bit ('pascal': conda)"
  },
  "language_info": {
   "codemirror_mode": {
    "name": "ipython",
    "version": 3
   },
   "file_extension": ".py",
   "mimetype": "text/x-python",
   "name": "python",
   "nbconvert_exporter": "python",
   "pygments_lexer": "ipython3",
   "version": "3.8.0"
  },
  "interpreter": {
   "hash": "e550aae00514e232b011b8daa9c111018f6799cbdd6b2b8c856d7d4b57330518"
  }
 },
 "nbformat": 4,
 "nbformat_minor": 5
}