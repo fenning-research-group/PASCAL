{
 "cells": [
  {
   "cell_type": "code",
   "execution_count": 1,
   "id": "wicked-examination",
   "metadata": {},
   "outputs": [],
   "source": [
    "import numpy as np\n",
    "import matplotlib.pyplot as plt\n",
    "import pandas as pd\n",
    "import collections\n",
    "import uuid\n",
    "import itertools\n",
    "import json\n",
    "from frgpascal.experimentaldesign.recipes import SolutionRecipe, SpincoatRecipe, AnnealRecipe, Sample, from_json\n",
    "from frgpascal.experimentaldesign.helpers import components_to_name\n",
    "from copy import deepcopy"
   ]
  },
  {
   "cell_type": "markdown",
   "id": "universal-gallery",
   "metadata": {},
   "source": [
    "# Helper Functions"
   ]
  },
  {
   "cell_type": "code",
   "execution_count": 2,
   "id": "adverse-slovak",
   "metadata": {},
   "outputs": [],
   "source": [
    "def generate_unique_id():\n",
    "    return str(uuid.uuid4())"
   ]
  },
  {
   "cell_type": "markdown",
   "id": "sticky-holmes",
   "metadata": {},
   "source": [
    "# Placeholder Workflow"
   ]
  },
  {
   "cell_type": "code",
   "execution_count": 3,
   "id": "mighty-closure",
   "metadata": {},
   "outputs": [],
   "source": [
    "def build_sample_list(input_substrates, target_solutions, spincoat_recipes, anneal_recipes, n_repeats=1):\n",
    "    \"\"\"\n",
    "    Permutes experimental mesh into sample list\n",
    "    \"\"\"\n",
    "    sample_list = []\n",
    "    \n",
    "    for idx, (sub, sol, sc, an) in enumerate(itertools.product(input_substrates, target_solutions, spincoat_recipes, anneal_recipes)):\n",
    "        # recipe_id = generate_unique_id()\n",
    "        sc_ = deepcopy(sc)\n",
    "        sc_.solution = sol\n",
    "        \n",
    "        for r in range(n_repeats):\n",
    "            sample_list.append(Sample(\n",
    "                name=f'sample{idx}',\n",
    "                substrate=sub,\n",
    "                spincoat_recipe=sc_,\n",
    "                anneal_recipe=an,\n",
    "                # sampleid=sampleid\n",
    "            ))\n",
    "            \n",
    "    return sample_list"
   ]
  },
  {
   "cell_type": "code",
   "execution_count": 4,
   "id": "complicated-mailman",
   "metadata": {},
   "outputs": [],
   "source": [
    "def suggest_stock_solutions(target_solutions):\n",
    "    \"\"\"\n",
    "    suggests smallest number of stock solutions required to cover the\n",
    "    target solution space\n",
    "    \"\"\"\n",
    "    \n",
    "    return stock_solutions"
   ]
  },
  {
   "cell_type": "code",
   "execution_count": 37,
   "metadata": {},
   "outputs": [],
   "source": [
    "from scipy.optimize import nnls\n",
    "\n",
    "def calculate_mix(target: SolutionRecipe, volume: float, stock_solutions: list, tolerance:float =0.05):\n",
    "    \"\"\"\n",
    "    given a target solution, target volume, and list of stock solutions, calculates\n",
    "    the volumes needed from individual stocks to achieve target composition\n",
    "\n",
    "    tolerance (float): maximum error for single site (relative, not absolute) allowed.\n",
    "    \n",
    "    \"\"\"\n",
    "    \n",
    "    # get possible solution components from stock list\n",
    "    components = set()\n",
    "    for s in stock_solutions:\n",
    "        components.update(s.solute_dict.keys(), s.solvent_dict.keys())\n",
    "    components = list(components) #sets are not order-preserving, lists are - just safer this way\n",
    "\n",
    "    # organize components into a stock matrix, keep track of which rows are solvents\n",
    "    stock_matrix = np.zeros((len(components), len(stock_solutions)))\n",
    "    solvent_idx = set()\n",
    "    for n, s in enumerate(stock_solutions):\n",
    "        for m, c in enumerate(components):\n",
    "            if c in s.solute_dict: \n",
    "                stock_matrix[m,n] = s.solute_dict[c]*s.molarity\n",
    "            elif c in s.solvent_dict:\n",
    "                stock_matrix[m,n] = s.solvent_dict[c]\n",
    "                solvent_idx.add(m)\n",
    "    solvent_idx = list(solvent_idx)\n",
    "\n",
    "    # organize target solution into a matrix of total mols desired of each component \n",
    "    target_matrix = np.zeros((len(components),))\n",
    "    for m, c in enumerate(components):\n",
    "        if c in target.solute_dict: \n",
    "            target_matrix[m] = target.solute_dict[c]*target.molarity*volume\n",
    "        elif c in target.solvent_dict:\n",
    "            target_matrix[m] = target.solvent_dict[c]*volume\n",
    "\n",
    "    # solve for the mixture amounts\n",
    "    amount_matrix, *data = nnls(stock_matrix, target_matrix, maxiter=1e3) #volumes to mix. math is better if not such small values in matrix, so scale to uL for calculation\n",
    "    amount_matrix[amount_matrix < 1] = 0 #clean up values that are essentially 0. If we have a significant negative value here, should get caught downstream\n",
    "    amount_matrix = np.round(amount_matrix) #round to nearest uL (values are in L at this point)\n",
    "\n",
    "    # double check that the solved amounts make sense\n",
    "    doublecheck = stock_matrix @ amount_matrix\n",
    "    doublecheck[solvent_idx] /= doublecheck[solvent_idx].sum() / volume #solvents should sum to one\n",
    "    composition_error = max([np.abs(1-c/t) for c,t in zip(doublecheck, target_matrix) if t>0]) #max single-component error fraction\n",
    "\n",
    "    if composition_error < 0.05: #check that we are within 5% error wrt target composition AT EACH SITE\n",
    "        return amount_matrix\n",
    "    else:\n",
    "        solute = components_to_name({c:amt/target.molarity/volume for c,amt in zip(components, doublecheck) if amt > 0 and c not in target.solvent_dict})\n",
    "        solvent = components_to_name({c:amt/target.molarity/volume for c,amt in zip(components, doublecheck) if amt > 0 and c in target.solvent_dict})\n",
    "        # print(solvent)\n",
    "        raise Exception(f'Unable to generate target solution ({volume} uL of {target}) with current stock solutions.\\n\\n'\\\n",
    "                        f'Closest match ({volume} uL of {target.molarity}M {solute} in {solvent}) has a max site error of {composition_error*100:.2f}%')#{Off by {composition_error*100:.2f}%%')"
   ]
  },
  {
   "cell_type": "code",
   "execution_count": 6,
   "id": "continuous-philip",
   "metadata": {},
   "outputs": [],
   "source": [
    "def build_solution_library(sample_list, stock_solutions):\n",
    "    \"\"\"\n",
    "    finds volume required for each unique solution\n",
    "    assigns a (labware, well) per solution\n",
    "    generates a mixing netlist for liquid handler to convert stocks to mixed solutions\n",
    "    \"\"\"\n",
    "    return solution_map, lh_netlist"
   ]
  },
  {
   "cell_type": "code",
   "execution_count": 7,
   "id": "threatened-inspector",
   "metadata": {},
   "outputs": [],
   "source": [
    "def finalize_sample_list(sample_list, solution_map):\n",
    "    \"\"\"\n",
    "    assigns the storage slots (tray, slot) and solution sources (labware, well)\n",
    "    to each sample.\n",
    "    \"\"\"\n",
    "    return final_sample_list, tray_list"
   ]
  },
  {
   "cell_type": "markdown",
   "id": "laughing-assembly",
   "metadata": {},
   "source": [
    "## Generate Example Recipes"
   ]
  },
  {
   "cell_type": "code",
   "execution_count": 8,
   "id": "offshore-williams",
   "metadata": {},
   "outputs": [],
   "source": [
    "input_substrates = [\n",
    "    '1mm_FTO'\n",
    "]"
   ]
  },
  {
   "cell_type": "code",
   "execution_count": 293,
   "id": "silent-october",
   "metadata": {},
   "outputs": [],
   "source": [
    "target_solutions = [\n",
    "    SolutionRecipe(\n",
    "        solutes='MA_Pb_I3',\n",
    "        solvent='DMF9_DMSO1',\n",
    "        molarity=1\n",
    "    ),\n",
    "    SolutionRecipe(\n",
    "        solutes='FA_Pb_I3',\n",
    "        solvent='DMF9_DMSO1',\n",
    "        molarity=1\n",
    "    ),\n",
    "    SolutionRecipe(\n",
    "        solutes='FA0.25_MA0.75_Pb_I3',\n",
    "        solvent='DMF9_DMSO1',\n",
    "        molarity=1\n",
    "    ),\n",
    "    SolutionRecipe(\n",
    "        solutes='FA0.75_MA0.25_Pb_I3',\n",
    "        solvent='DMF9_DMSO1',\n",
    "        molarity=1\n",
    "    ),\n",
    "    SolutionRecipe(\n",
    "        solutes='MA0.5_FA0.5_Pb_I3',\n",
    "        solvent='DMF9_DMSO1',\n",
    "        molarity=1\n",
    "    ),\n",
    "]"
   ]
  },
  {
   "cell_type": "code",
   "execution_count": 294,
   "id": "focal-catalyst",
   "metadata": {},
   "outputs": [],
   "source": [
    "\n",
    "spincoat_recipes = [\n",
    "    SpincoatRecipe(\n",
    "        steps=[\n",
    "            [500,1000,20], #speed (rpm), acceleration (rpm/s), duration (s)\n",
    "            [4000,4000,30]\n",
    "        ],\n",
    "        solution_volume=100, #uL\n",
    "        solution_droptime=-5, #seconds relative to start time\n",
    "        antisolvent='chlorobenzene',\n",
    "        antisolvent_volume=50, #seconds relative to start time\n",
    "        antisolvent_droptime=40,\n",
    "    ),\n",
    "    SpincoatRecipe(\n",
    "        steps=[\n",
    "            [500,1000,20],\n",
    "            [4000,4000,30]\n",
    "        ],\n",
    "        solution_volume=100, #uL\n",
    "        solution_droptime=-5,\n",
    "        antisolvent='chlorobenzene',\n",
    "        antisolvent_volume=50,\n",
    "        antisolvent_droptime=45,\n",
    "    ),\n",
    "]\n"
   ]
  },
  {
   "cell_type": "code",
   "execution_count": 295,
   "id": "reliable-killing",
   "metadata": {},
   "outputs": [],
   "source": [
    "anneal_recipes = [\n",
    "    AnnealRecipe(\n",
    "        temperature=100, #degrees C\n",
    "        duration=60*10, #seconds\n",
    "    ),\n",
    "    AnnealRecipe(\n",
    "        temperature=120, #degrees C\n",
    "        duration=60*7.5, #seconds\n",
    "    ),\n",
    "    AnnealRecipe(\n",
    "        temperature=140, #degrees C\n",
    "        duration=60*5, #seconds\n",
    "    ),\n",
    "]"
   ]
  },
  {
   "cell_type": "code",
   "execution_count": 296,
   "id": "thousand-mumbai",
   "metadata": {},
   "outputs": [
    {
     "output_type": "stream",
     "name": "stdout",
     "text": [
      "5 unique solutions required across 60 planned samples\n"
     ]
    }
   ],
   "source": [
    "samples = build_sample_list(\n",
    "    input_substrates = input_substrates,\n",
    "    target_solutions = target_solutions,\n",
    "    spincoat_recipes=spincoat_recipes,\n",
    "    anneal_recipes=anneal_recipes,\n",
    "    n_repeats=2\n",
    ")\n",
    "unique_solutions = list(set([s.spincoat_recipe.solution for s in samples]))\n",
    "\n",
    "print(f'{len(unique_solutions)} unique solutions required across {len(samples)} planned samples')"
   ]
  },
  {
   "source": [
    "## Define Stock Solutions"
   ],
   "cell_type": "markdown",
   "metadata": {}
  },
  {
   "cell_type": "code",
   "execution_count": 297,
   "metadata": {},
   "outputs": [],
   "source": [
    "stock_solutions = [\n",
    "    SolutionRecipe(\n",
    "        solutes='MA_Pb_I3',\n",
    "        solvent='DMF9_DMSO1',\n",
    "        molarity=1\n",
    "    ),\n",
    "    SolutionRecipe(\n",
    "        solutes='FA_Pb_I3',\n",
    "        solvent='DMF9_DMSO1',\n",
    "        molarity=1\n",
    "    ),\n",
    "    SolutionRecipe(\n",
    "        solutes='',\n",
    "        solvent='DMF',\n",
    "        molarity=1\n",
    "    ),\n",
    "    SolutionRecipe(\n",
    "        solutes='',\n",
    "        solvent='DMSO',\n",
    "        molarity=1\n",
    "    ),\n",
    "]"
   ]
  },
  {
   "source": [
    "Can we cover target solutions with these stocks? and if so, how much of each stock to mix for each target?"
   ],
   "cell_type": "markdown",
   "metadata": {}
  },
  {
   "cell_type": "code",
   "execution_count": 298,
   "metadata": {},
   "outputs": [],
   "source": [
    "min_volume = 0\n",
    "solution_details = {s:dict(volume=min_volume, labware=None, slot=None) for s in unique_solutions}\n",
    "for s in samples:\n",
    "    sol = s.spincoat_recipe.solution\n",
    "    solution_details[sol]['volume'] += s.spincoat_recipe.solution_volume\n"
   ]
  },
  {
   "cell_type": "code",
   "execution_count": 299,
   "metadata": {},
   "outputs": [],
   "source": [
    "mixtures = np.array([\n",
    "    calculate_mix(\n",
    "        target=solution,\n",
    "        volume=v['volume'],\n",
    "        stock_solutions = stock_solutions\n",
    "    ) for solution, v in solution_details.items()])"
   ]
  },
  {
   "cell_type": "code",
   "execution_count": 300,
   "metadata": {},
   "outputs": [
    {
     "output_type": "stream",
     "name": "stdout",
     "text": [
      "3.0 mL of <SolutionRecipe> 1M MA_Pb_I3 in DMF9_DMSO1\n3.0 mL of <SolutionRecipe> 1M FA_Pb_I3 in DMF9_DMSO1\n0.0 mL of <SolutionRecipe> 1M  in DMF\n0.0 mL of <SolutionRecipe> 1M  in DMSO\n"
     ]
    }
   ],
   "source": [
    "volumes_needed_per_stock = mixtures.sum(axis=0)\n",
    "for s, v in zip(stock_solutions, volumes_needed_per_stock):\n",
    "    print(f'{v/1e3} mL of {s}')"
   ]
  },
  {
   "source": [
    "Which solutions need to be made from stocks?"
   ],
   "cell_type": "markdown",
   "metadata": {}
  },
  {
   "cell_type": "code",
   "execution_count": 301,
   "metadata": {},
   "outputs": [],
   "source": [
    "to_be_mixed = {s:v for s,v in solution_details.items() if s not in stock_solutions}"
   ]
  },
  {
   "source": [
    "What vessel do we need to put everything in? depends on required volumes"
   ],
   "cell_type": "markdown",
   "metadata": {}
  },
  {
   "cell_type": "code",
   "execution_count": 302,
   "metadata": {},
   "outputs": [],
   "source": [
    "class LiquidLabware:\n",
    "    def __init__(self, name, volume, numx, numy):\n",
    "        if '-' in name:\n",
    "            raise ValueError(' \"-\" character not allowed in LiquidLabware name')\n",
    "        self.name = name\n",
    "        self.volume = volume \n",
    "        self.shape = (numy, numx)\n",
    "        self.capacity = numx * numy\n",
    "        self.contents = {}\n",
    "        self.__generate_coordinates()\n",
    "        self.__index = 0\n",
    "\n",
    "    def load(self, content): # Python 2: def next(self)\n",
    "        try:\n",
    "            slot = self._openslots.pop(0)   \n",
    "            self.contents[slot] = content\n",
    "            return slot \n",
    "        except IndexError as e:\n",
    "            raise IndexError('This labware is full!')\n",
    "\n",
    "    def __generate_coordinates(self):\n",
    "        def letter(num):\n",
    "            # converts number (0-25) to letter (A-Z)\n",
    "            return chr(ord(\"A\") + num)\n",
    "\n",
    "        self._openslots = []\n",
    "        ycoords = [\n",
    "            letter(self.shape[1] - yidx - 1) for yidx in range(self.shape[1])\n",
    "        ]  # lettering +y -> -y = A -> Z\n",
    "\n",
    "        for yidx in ycoords[::-1]:  # y\n",
    "            for xidx in range(self.shape[0]): # x\n",
    "                name = f\"{yidx}{xidx+1}\"\n",
    "                self._openslots.append(name)\n",
    "\n",
    "    def __repr__(self):\n",
    "        out = f'<LiquidLabware> {self.name}, {self.volume/1e3} mL volume, {self.capacity} wells'\n",
    "        return out"
   ]
  },
  {
   "cell_type": "code",
   "execution_count": 303,
   "metadata": {},
   "outputs": [
    {
     "output_type": "stream",
     "name": "stdout",
     "text": [
      "Priority Fill Order:\n<LiquidLabware> 96_Plate1, 0.2 mL volume, 96 wells\n<LiquidLabware> 96_Plate2, 0.2 mL volume, 96 wells\n<LiquidLabware> 4mL_Tray1, 4.0 mL volume, 24 wells\n<LiquidLabware> 4mL_Tray2, 4.0 mL volume, 24 wells\n<LiquidLabware> 15mL_Tray1, 15.0 mL volume, 12 wells\n<LiquidLabware> 15m_Tray2, 15.0 mL volume, 12 wells\n"
     ]
    }
   ],
   "source": [
    "solution_storage = [\n",
    "    LiquidLabware(\n",
    "        name='96_Plate1',\n",
    "        volume=200,\n",
    "        numx=12,\n",
    "        numy=8\n",
    "    ),\n",
    "    LiquidLabware(\n",
    "        name='96_Plate2',\n",
    "        volume=200,\n",
    "        numx=12,\n",
    "        numy=8\n",
    "    ),\n",
    "    LiquidLabware(\n",
    "        name='4mL_Tray1',\n",
    "        volume=4000,\n",
    "        numx=6,\n",
    "        numy=4\n",
    "    ),\n",
    "\n",
    "    LiquidLabware(\n",
    "        name='4mL_Tray2',\n",
    "        volume=4000,\n",
    "        numx=6,\n",
    "        numy=4\n",
    "    ),\n",
    "    LiquidLabware(\n",
    "        name='15mL_Tray1',\n",
    "        volume=15000,\n",
    "        numx=4,\n",
    "        numy=3\n",
    "    ),\n",
    "    LiquidLabware(\n",
    "        name='15m_Tray2',\n",
    "        volume=15000,\n",
    "        numx=4,\n",
    "        numy=3\n",
    "    ),\n",
    "]\n",
    "\n",
    "#sort by volume,name\n",
    "solution_storage.sort(key=lambda labware: labware.name)\n",
    "solution_storage.sort(key=lambda labware: labware.volume)\n",
    "print('Priority Fill Order:')\n",
    "for ss in solution_storage: print(ss)"
   ]
  },
  {
   "cell_type": "code",
   "execution_count": 304,
   "metadata": {},
   "outputs": [],
   "source": [
    "def where_to_store(volume, options):\n",
    "    for ll in options:\n",
    "        if volume <= ll.volume and len(ll._openslots) > 0:\n",
    "            return ll\n",
    "    raise ValueError(f'No options have enough space to hold {volume/1e3:.2f} mL!')\n",
    "\n"
   ]
  },
  {
   "cell_type": "code",
   "execution_count": 305,
   "metadata": {},
   "outputs": [],
   "source": [
    "for solution, v in solution_details.items():\n",
    "    ll = where_to_store(v['volume'], solution_storage) #which liquid labware\n",
    "    slot = ll.load(solution)\n",
    "    solution_details[solution]['labware'] = ll.name\n",
    "    solution_details[solution]['slot'] = slot"
   ]
  },
  {
   "source": [
    "Set up the mixing netlist for liquid handler"
   ],
   "cell_type": "markdown",
   "metadata": {}
  },
  {
   "cell_type": "code",
   "execution_count": 307,
   "metadata": {},
   "outputs": [],
   "source": [
    "mixing_netlist = {} #destination: {source, volume}\n",
    "\n",
    "for target, target_v in solution_details.items():\n",
    "    if target in stock_solutions:\n",
    "        continue #stock solution is already made\n",
    "    destination = f\"{target_v['labware']}-{target_v['slot']}\"\n",
    "    mixing_netlist[destination] = {}\n",
    "    required_volumes = calculate_mix(\n",
    "        target=target,\n",
    "        volume=target_v['volume'],\n",
    "        stock_solutions = stock_solutions\n",
    "    )\n",
    "    for stock, vol in zip(stock_solutions, required_volumes):\n",
    "        if vol > 0:    \n",
    "            stock_v = solution_details[stock]\n",
    "            source = f\"{stock_v['labware']}-{stock_v['slot']}\"\n",
    "            mixing_netlist[destination][source]=vol\n",
    "            \n"
   ]
  },
  {
   "cell_type": "code",
   "execution_count": null,
   "metadata": {},
   "outputs": [],
   "source": []
  }
 ],
 "metadata": {
  "kernelspec": {
   "name": "python3",
   "display_name": "Python 3.8.5 64-bit ('base': conda)"
  },
  "language_info": {
   "codemirror_mode": {
    "name": "ipython",
    "version": 3
   },
   "file_extension": ".py",
   "mimetype": "text/x-python",
   "name": "python",
   "nbconvert_exporter": "python",
   "pygments_lexer": "ipython3",
   "version": "3.8.5"
  },
  "interpreter": {
   "hash": "ab1b3f11290c76f34c09ec419a97090efa7cdb065550fa345ff65f52afdca6b9"
  }
 },
 "nbformat": 4,
 "nbformat_minor": 5
}