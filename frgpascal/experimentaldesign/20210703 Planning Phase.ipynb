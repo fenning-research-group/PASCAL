{
 "cells": [
  {
   "cell_type": "code",
   "execution_count": 1,
   "id": "wicked-examination",
   "metadata": {},
   "outputs": [],
   "source": [
    "import numpy as np\n",
    "import matplotlib.pyplot as plt\n",
    "import pandas as pd\n",
    "import collections\n",
    "import uuid\n",
    "import itertools\n",
    "import json\n",
    "from frgpascal.experimentaldesign.recipes import SolutionRecipe, SpincoatRecipe, AnnealRecipe, Sample, from_json\n",
    "from copy import deepcopy"
   ]
  },
  {
   "cell_type": "markdown",
   "id": "universal-gallery",
   "metadata": {},
   "source": [
    "# Helper Functions"
   ]
  },
  {
   "cell_type": "code",
   "execution_count": 2,
   "id": "adverse-slovak",
   "metadata": {},
   "outputs": [],
   "source": [
    "def generate_unique_id():\n",
    "    return str(uuid.uuid4())"
   ]
  },
  {
   "cell_type": "markdown",
   "id": "sticky-holmes",
   "metadata": {},
   "source": [
    "# Placeholder Workflow"
   ]
  },
  {
   "cell_type": "code",
   "execution_count": 3,
   "id": "mighty-closure",
   "metadata": {},
   "outputs": [],
   "source": [
    "def build_sample_list(input_substrates, target_solutions, spincoat_recipes, anneal_recipes, n_repeats=1):\n",
    "    \"\"\"\n",
    "    Permutes experimental mesh into sample list\n",
    "    \"\"\"\n",
    "    sample_list = []\n",
    "    \n",
    "    for idx, (sub, sol, sc, an) in enumerate(itertools.product(input_substrates, target_solutions, spincoat_recipes, anneal_recipes)):\n",
    "        # recipe_id = generate_unique_id()\n",
    "        sc_ = deepcopy(sc)\n",
    "        sc_.solution = sol\n",
    "        \n",
    "        for r in range(n_repeats):\n",
    "            sample_list.append(Sample(\n",
    "                name=f'sample{idx}',\n",
    "                substrate=sub,\n",
    "                spincoat_recipe=sc_,\n",
    "                anneal_recipe=an,\n",
    "                # sampleid=sampleid\n",
    "            ))\n",
    "            \n",
    "    return sample_list"
   ]
  },
  {
   "cell_type": "code",
   "execution_count": 4,
   "id": "cutting-summary",
   "metadata": {},
   "outputs": [],
   "source": [
    "def get_unique_solutions(sample_list):\n",
    "    \"\"\"\n",
    "    returns a list of unique solutions within sample list\n",
    "    \"\"\"\n",
    "    return unique_solutions"
   ]
  },
  {
   "cell_type": "code",
   "execution_count": 5,
   "id": "complicated-mailman",
   "metadata": {},
   "outputs": [],
   "source": [
    "def suggest_stock_solutions(target_solutions):\n",
    "    \"\"\"\n",
    "    suggests smallest number of stock solutions required to cover the\n",
    "    target solution space\n",
    "    \"\"\"\n",
    "    return stock_solutions"
   ]
  },
  {
   "cell_type": "code",
   "execution_count": 6,
   "id": "continuous-philip",
   "metadata": {},
   "outputs": [],
   "source": [
    "def build_solution_library(sample_list, stock_solutions):\n",
    "    \"\"\"\n",
    "    finds volume required for each unique solution\n",
    "    assigns a (labware, well) per solution\n",
    "    generates a mixing netlist for liquid handler to convert stocks to mixed solutions\n",
    "    \"\"\"\n",
    "    return solution_map, lh_netlist"
   ]
  },
  {
   "cell_type": "code",
   "execution_count": 7,
   "id": "threatened-inspector",
   "metadata": {},
   "outputs": [],
   "source": [
    "def finalize_sample_list(sample_list, solution_map):\n",
    "    \"\"\"\n",
    "    assigns the storage slots (tray, slot) and solution sources (labware, well)\n",
    "    to each sample.\n",
    "    \"\"\"\n",
    "    return final_sample_list, tray_list"
   ]
  },
  {
   "cell_type": "markdown",
   "id": "laughing-assembly",
   "metadata": {},
   "source": [
    "## Generate Example Recipes"
   ]
  },
  {
   "cell_type": "code",
   "execution_count": 8,
   "id": "offshore-williams",
   "metadata": {},
   "outputs": [],
   "source": [
    "input_substrates = [\n",
    "    '1mm_FTO'\n",
    "]"
   ]
  },
  {
   "cell_type": "code",
   "execution_count": 9,
   "id": "silent-october",
   "metadata": {},
   "outputs": [],
   "source": [
    "target_solutions = [\n",
    "    SolutionRecipe(\n",
    "        solutes='MA_Pb_I3',\n",
    "        solvent='DMF9_DMSO1',\n",
    "        molarity=1\n",
    "    ),\n",
    "    SolutionRecipe(\n",
    "        solutes='FA_Pb_I3',\n",
    "        solvent='DMF9_DMSO1',\n",
    "        molarity=1\n",
    "    ),\n",
    "    SolutionRecipe(\n",
    "        solutes='MA0.5_FA0.5_Pb_I3',\n",
    "        solvent='DMF9_DMSO1',\n",
    "        molarity=1\n",
    "    ),\n",
    "]"
   ]
  },
  {
   "cell_type": "code",
   "execution_count": 10,
   "id": "focal-catalyst",
   "metadata": {},
   "outputs": [],
   "source": [
    "\n",
    "spincoat_recipes = [\n",
    "    SpincoatRecipe(\n",
    "        steps=[\n",
    "            [500,1000,20], #speed (rpm), acceleration (rpm/s), duration (s)\n",
    "            [4000,4000,30]\n",
    "        ],\n",
    "        solution_volume=100, #uL\n",
    "        solution_droptime=-5, #seconds relative to start time\n",
    "        antisolvent='chlorobenzene',\n",
    "        antisolvent_volume=50, #seconds relative to start time\n",
    "        antisolvent_droptime=40,\n",
    "    ),\n",
    "    SpincoatRecipe(\n",
    "        steps=[\n",
    "            [500,1000,20],\n",
    "            [4000,4000,30]\n",
    "        ],\n",
    "        solution_volume=100, #uL\n",
    "        solution_droptime=-5,\n",
    "        antisolvent='chlorobenzene',\n",
    "        antisolvent_volume=50,\n",
    "        antisolvent_droptime=45,\n",
    "    ),\n",
    "]\n"
   ]
  },
  {
   "cell_type": "code",
   "execution_count": 11,
   "id": "reliable-killing",
   "metadata": {},
   "outputs": [],
   "source": [
    "anneal_recipes = [\n",
    "    AnnealRecipe(\n",
    "        temperature=100, #degrees C\n",
    "        duration=60*10, #seconds\n",
    "    ),\n",
    "    AnnealRecipe(\n",
    "        temperature=120, #degrees C\n",
    "        duration=60*7.5, #seconds\n",
    "    ),\n",
    "    AnnealRecipe(\n",
    "        temperature=140, #degrees C\n",
    "        duration=60*5, #seconds\n",
    "    ),\n",
    "]"
   ]
  },
  {
   "cell_type": "code",
   "execution_count": 12,
   "id": "thousand-mumbai",
   "metadata": {},
   "outputs": [
    {
     "output_type": "stream",
     "name": "stdout",
     "text": [
      "36 samples planned\n"
     ]
    }
   ],
   "source": [
    "samples = build_sample_list(\n",
    "    input_substrates = input_substrates,\n",
    "    target_solutions = target_solutions,\n",
    "    spincoat_recipes=spincoat_recipes,\n",
    "    anneal_recipes=anneal_recipes,\n",
    "    n_repeats=2\n",
    ")\n",
    "print(f\"{len(samples)} samples planned\")"
   ]
  },
  {
   "cell_type": "code",
   "execution_count": 13,
   "metadata": {},
   "outputs": [
    {
     "output_type": "error",
     "ename": "AttributeError",
     "evalue": "'AnnealRecipe' object has no attribute 'units'",
     "traceback": [
      "\u001b[0;31m---------------------------------------------------------------------------\u001b[0m",
      "\u001b[0;31mAttributeError\u001b[0m                            Traceback (most recent call last)",
      "\u001b[0;32m~/opt/anaconda3/lib/python3.8/site-packages/IPython/core/formatters.py\u001b[0m in \u001b[0;36m__call__\u001b[0;34m(self, obj)\u001b[0m\n\u001b[1;32m    700\u001b[0m                 \u001b[0mtype_pprinters\u001b[0m\u001b[0;34m=\u001b[0m\u001b[0mself\u001b[0m\u001b[0;34m.\u001b[0m\u001b[0mtype_printers\u001b[0m\u001b[0;34m,\u001b[0m\u001b[0;34m\u001b[0m\u001b[0;34m\u001b[0m\u001b[0m\n\u001b[1;32m    701\u001b[0m                 deferred_pprinters=self.deferred_printers)\n\u001b[0;32m--> 702\u001b[0;31m             \u001b[0mprinter\u001b[0m\u001b[0;34m.\u001b[0m\u001b[0mpretty\u001b[0m\u001b[0;34m(\u001b[0m\u001b[0mobj\u001b[0m\u001b[0;34m)\u001b[0m\u001b[0;34m\u001b[0m\u001b[0;34m\u001b[0m\u001b[0m\n\u001b[0m\u001b[1;32m    703\u001b[0m             \u001b[0mprinter\u001b[0m\u001b[0;34m.\u001b[0m\u001b[0mflush\u001b[0m\u001b[0;34m(\u001b[0m\u001b[0;34m)\u001b[0m\u001b[0;34m\u001b[0m\u001b[0;34m\u001b[0m\u001b[0m\n\u001b[1;32m    704\u001b[0m             \u001b[0;32mreturn\u001b[0m \u001b[0mstream\u001b[0m\u001b[0;34m.\u001b[0m\u001b[0mgetvalue\u001b[0m\u001b[0;34m(\u001b[0m\u001b[0;34m)\u001b[0m\u001b[0;34m\u001b[0m\u001b[0;34m\u001b[0m\u001b[0m\n",
      "\u001b[0;32m~/opt/anaconda3/lib/python3.8/site-packages/IPython/lib/pretty.py\u001b[0m in \u001b[0;36mpretty\u001b[0;34m(self, obj)\u001b[0m\n\u001b[1;32m    392\u001b[0m                         \u001b[0;32mif\u001b[0m \u001b[0mcls\u001b[0m \u001b[0;32mis\u001b[0m \u001b[0;32mnot\u001b[0m \u001b[0mobject\u001b[0m\u001b[0;31m \u001b[0m\u001b[0;31m\\\u001b[0m\u001b[0;34m\u001b[0m\u001b[0;34m\u001b[0m\u001b[0m\n\u001b[1;32m    393\u001b[0m                                 \u001b[0;32mand\u001b[0m \u001b[0mcallable\u001b[0m\u001b[0;34m(\u001b[0m\u001b[0mcls\u001b[0m\u001b[0;34m.\u001b[0m\u001b[0m__dict__\u001b[0m\u001b[0;34m.\u001b[0m\u001b[0mget\u001b[0m\u001b[0;34m(\u001b[0m\u001b[0;34m'__repr__'\u001b[0m\u001b[0;34m)\u001b[0m\u001b[0;34m)\u001b[0m\u001b[0;34m:\u001b[0m\u001b[0;34m\u001b[0m\u001b[0;34m\u001b[0m\u001b[0m\n\u001b[0;32m--> 394\u001b[0;31m                             \u001b[0;32mreturn\u001b[0m \u001b[0m_repr_pprint\u001b[0m\u001b[0;34m(\u001b[0m\u001b[0mobj\u001b[0m\u001b[0;34m,\u001b[0m \u001b[0mself\u001b[0m\u001b[0;34m,\u001b[0m \u001b[0mcycle\u001b[0m\u001b[0;34m)\u001b[0m\u001b[0;34m\u001b[0m\u001b[0;34m\u001b[0m\u001b[0m\n\u001b[0m\u001b[1;32m    395\u001b[0m \u001b[0;34m\u001b[0m\u001b[0m\n\u001b[1;32m    396\u001b[0m             \u001b[0;32mreturn\u001b[0m \u001b[0m_default_pprint\u001b[0m\u001b[0;34m(\u001b[0m\u001b[0mobj\u001b[0m\u001b[0;34m,\u001b[0m \u001b[0mself\u001b[0m\u001b[0;34m,\u001b[0m \u001b[0mcycle\u001b[0m\u001b[0;34m)\u001b[0m\u001b[0;34m\u001b[0m\u001b[0;34m\u001b[0m\u001b[0m\n",
      "\u001b[0;32m~/opt/anaconda3/lib/python3.8/site-packages/IPython/lib/pretty.py\u001b[0m in \u001b[0;36m_repr_pprint\u001b[0;34m(obj, p, cycle)\u001b[0m\n\u001b[1;32m    698\u001b[0m     \u001b[0;34m\"\"\"A pprint that just redirects to the normal repr function.\"\"\"\u001b[0m\u001b[0;34m\u001b[0m\u001b[0;34m\u001b[0m\u001b[0m\n\u001b[1;32m    699\u001b[0m     \u001b[0;31m# Find newlines and replace them with p.break_()\u001b[0m\u001b[0;34m\u001b[0m\u001b[0;34m\u001b[0m\u001b[0;34m\u001b[0m\u001b[0m\n\u001b[0;32m--> 700\u001b[0;31m     \u001b[0moutput\u001b[0m \u001b[0;34m=\u001b[0m \u001b[0mrepr\u001b[0m\u001b[0;34m(\u001b[0m\u001b[0mobj\u001b[0m\u001b[0;34m)\u001b[0m\u001b[0;34m\u001b[0m\u001b[0;34m\u001b[0m\u001b[0m\n\u001b[0m\u001b[1;32m    701\u001b[0m     \u001b[0mlines\u001b[0m \u001b[0;34m=\u001b[0m \u001b[0moutput\u001b[0m\u001b[0;34m.\u001b[0m\u001b[0msplitlines\u001b[0m\u001b[0;34m(\u001b[0m\u001b[0;34m)\u001b[0m\u001b[0;34m\u001b[0m\u001b[0;34m\u001b[0m\u001b[0m\n\u001b[1;32m    702\u001b[0m     \u001b[0;32mwith\u001b[0m \u001b[0mp\u001b[0m\u001b[0;34m.\u001b[0m\u001b[0mgroup\u001b[0m\u001b[0;34m(\u001b[0m\u001b[0;34m)\u001b[0m\u001b[0;34m:\u001b[0m\u001b[0;34m\u001b[0m\u001b[0;34m\u001b[0m\u001b[0m\n",
      "\u001b[0;32m~/Documents/GitHub/PASCAL/frgpascal/experimentaldesign/recipes.py\u001b[0m in \u001b[0;36m__repr__\u001b[0;34m(self)\u001b[0m\n\u001b[1;32m    219\u001b[0m         \u001b[0moutput\u001b[0m \u001b[0;34m+=\u001b[0m \u001b[0;34mf\"{self.spincoat_recipe.solution}\\n\"\u001b[0m\u001b[0;34m\u001b[0m\u001b[0;34m\u001b[0m\u001b[0m\n\u001b[1;32m    220\u001b[0m         \u001b[0moutput\u001b[0m \u001b[0;34m+=\u001b[0m \u001b[0;34mf\"{self.spincoat_recipe}\\n\"\u001b[0m\u001b[0;34m\u001b[0m\u001b[0;34m\u001b[0m\u001b[0m\n\u001b[0;32m--> 221\u001b[0;31m         \u001b[0moutput\u001b[0m \u001b[0;34m+=\u001b[0m \u001b[0;34mf\"{self.anneal_recipe}\\n\"\u001b[0m\u001b[0;34m\u001b[0m\u001b[0;34m\u001b[0m\u001b[0m\n\u001b[0m\u001b[1;32m    222\u001b[0m         \u001b[0;32mreturn\u001b[0m \u001b[0moutput\u001b[0m\u001b[0;34m\u001b[0m\u001b[0;34m\u001b[0m\u001b[0m\n\u001b[1;32m    223\u001b[0m \u001b[0;34m\u001b[0m\u001b[0m\n",
      "\u001b[0;32m~/Documents/GitHub/PASCAL/frgpascal/experimentaldesign/recipes.py\u001b[0m in \u001b[0;36m__repr__\u001b[0;34m(self)\u001b[0m\n\u001b[1;32m    152\u001b[0m             \u001b[0munits\u001b[0m \u001b[0;34m=\u001b[0m \u001b[0;34m\"hours\"\u001b[0m\u001b[0;34m\u001b[0m\u001b[0;34m\u001b[0m\u001b[0m\n\u001b[1;32m    153\u001b[0m \u001b[0;34m\u001b[0m\u001b[0m\n\u001b[0;32m--> 154\u001b[0;31m         \u001b[0;32mreturn\u001b[0m \u001b[0;34mf\"<AnnealRecipe> {self.temperature:.1f}C for {self.duration:.1f} {self.units}\"\u001b[0m\u001b[0;34m\u001b[0m\u001b[0;34m\u001b[0m\u001b[0m\n\u001b[0m\u001b[1;32m    155\u001b[0m \u001b[0;34m\u001b[0m\u001b[0m\n\u001b[1;32m    156\u001b[0m     \u001b[0;32mdef\u001b[0m \u001b[0mto_json\u001b[0m\u001b[0;34m(\u001b[0m\u001b[0mself\u001b[0m\u001b[0;34m)\u001b[0m\u001b[0;34m:\u001b[0m\u001b[0;34m\u001b[0m\u001b[0;34m\u001b[0m\u001b[0m\n",
      "\u001b[0;31mAttributeError\u001b[0m: 'AnnealRecipe' object has no attribute 'units'"
     ]
    }
   ],
   "source": [
    "samples[0]"
   ]
  },
  {
   "cell_type": "code",
   "execution_count": null,
   "metadata": {},
   "outputs": [],
   "source": []
  }
 ],
 "metadata": {
  "kernelspec": {
   "name": "python3",
   "display_name": "Python 3.8.5 64-bit ('base': conda)"
  },
  "language_info": {
   "codemirror_mode": {
    "name": "ipython",
    "version": 3
   },
   "file_extension": ".py",
   "mimetype": "text/x-python",
   "name": "python",
   "nbconvert_exporter": "python",
   "pygments_lexer": "ipython3",
   "version": "3.8.5"
  },
  "interpreter": {
   "hash": "ab1b3f11290c76f34c09ec419a97090efa7cdb065550fa345ff65f52afdca6b9"
  }
 },
 "nbformat": 4,
 "nbformat_minor": 5
}