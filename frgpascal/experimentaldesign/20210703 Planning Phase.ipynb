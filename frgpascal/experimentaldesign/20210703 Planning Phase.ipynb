{
 "cells": [
  {
   "cell_type": "code",
   "execution_count": 2,
   "source": [
    "import numpy as np\n",
    "import matplotlib.pyplot as plt\n",
    "import pandas as p\n",
    "import collections\n",
    "import uuid\n",
    "import itertools\n",
    "import json\n",
    "import csv\n",
    "from frgpascal.hardware.sampletray import SampleTray, AVAILABLE_VERSIONS as sampletray_versions\n",
    "from frgpascal.hardware.liquidlabware import LiquidLabware, AVAILABLE_VERSIONS as liquid_labware_versions\n",
    "from frgpascal.hardware.hotplate import AVAILABLE_VERSIONS as hotplate_versions\n",
    "from frgpascal.experimentaldesign.helpers import where_to_store, calculate_mix, build_sample_list, generate_unique_id\n",
    "from frgpascal.experimentaldesign.recipes import SolutionRecipe, SpincoatRecipe, AnnealRecipe, Sample\n",
    "from frgpascal.experimentaldesign.tasks import *"
   ],
   "outputs": [],
   "metadata": {}
  },
  {
   "cell_type": "markdown",
   "source": [
    "# Placeholder Workflow"
   ],
   "metadata": {}
  },
  {
   "cell_type": "code",
   "execution_count": 3,
   "source": [
    "def build_solution_library(sample_list, stock_solutions):\n",
    "    \"\"\"\n",
    "    finds volume required for each unique solution\n",
    "    assigns a (labware, well) per solution\n",
    "    generates a mixing netlist for liquid handler to convert stocks to mixed solutions\n",
    "    \"\"\"\n",
    "    return solution_map, lh_netlist"
   ],
   "outputs": [],
   "metadata": {}
  },
  {
   "cell_type": "code",
   "execution_count": 4,
   "source": [
    "def finalize_sample_list(sample_list, solution_map):\n",
    "    \"\"\"\n",
    "    assigns the storage slots (tray, slot) and solution sources (labware, well)\n",
    "    to each sample.\n",
    "    \"\"\"\n",
    "    return final_sample_list, tray_list"
   ],
   "outputs": [],
   "metadata": {}
  },
  {
   "cell_type": "markdown",
   "source": [
    "# Define Labware"
   ],
   "metadata": {}
  },
  {
   "cell_type": "markdown",
   "source": [
    "## Storage Trays"
   ],
   "metadata": {}
  },
  {
   "cell_type": "code",
   "execution_count": 5,
   "source": [
    "print('Available Versions:')\n",
    "for v in sampletray_versions:\n",
    "    print(f'\\t{v}')"
   ],
   "outputs": [
    {
     "output_type": "stream",
     "name": "stdout",
     "text": [
      "Available Versions:\n",
      "\tstorage_v2\n",
      "\tstorage_v1\n"
     ]
    }
   ],
   "metadata": {}
  },
  {
   "cell_type": "code",
   "execution_count": 6,
   "source": [
    "sample_trays = [\n",
    "    SampleTray(\n",
    "        name='Tray1',\n",
    "        version='storage_v1',\n",
    "        gantry=None,\n",
    "        gripper=None,\n",
    "        p0=[0,0,0]\n",
    "    ),\n",
    "    SampleTray(\n",
    "        name='Tray2',\n",
    "        version='storage_v1',\n",
    "        gantry=None,\n",
    "        gripper=None,\n",
    "        p0=[0,0,0]\n",
    "    )\n",
    "]"
   ],
   "outputs": [],
   "metadata": {}
  },
  {
   "cell_type": "markdown",
   "source": [
    "## Liquid Labware \n",
    "Versions are defined by the same json files used to define custom labware for the Opentrons2 liquid handler. \n",
    "\n",
    "New labware can be defined by following https://support.opentrons.com/en/articles/3136504-creating-custom-labware-definitions"
   ],
   "metadata": {}
  },
  {
   "cell_type": "code",
   "execution_count": 7,
   "source": [
    "print('Available Versions:')\n",
    "for v in liquid_labware_versions:\n",
    "    print(f'\\t{v}')"
   ],
   "outputs": [
    {
     "output_type": "stream",
     "name": "stdout",
     "text": [
      "Available Versions:\n",
      "\tfrg_12_wellplate_15000ul\n",
      "\tsartorius_safetyspace_tiprack_200ul\n",
      "\tgreiner_96_wellplate_360ul\n",
      "\tfrg_spincoater_v1\n",
      "\tfrg_28_wellplate_4000ul\n"
     ]
    }
   ],
   "metadata": {}
  },
  {
   "cell_type": "markdown",
   "source": [
    "Include _all possible_ liquid storage. Later on we will narrow this down to what is required once we know what solutions and volumes we need"
   ],
   "metadata": {}
  },
  {
   "cell_type": "code",
   "execution_count": 8,
   "source": [
    "solution_storage = [\n",
    "    LiquidLabware(\n",
    "        name='96_Plate1',\n",
    "        version='greiner_96_wellplate_360ul'\n",
    "    ),\n",
    "    LiquidLabware(\n",
    "        name='96_Plate2',\n",
    "        version='greiner_96_wellplate_360ul'\n",
    "    ),\n",
    "    LiquidLabware(\n",
    "        name='4mL_Tray1',\n",
    "        version='frg_28_wellplate_4000ul'\n",
    "    ),\n",
    "\n",
    "    LiquidLabware(\n",
    "        name='4mL_Tray2',\n",
    "        version='frg_28_wellplate_4000ul'\n",
    "    ),\n",
    "    LiquidLabware(\n",
    "        name='15mL_Tray1',\n",
    "        version='frg_12_wellplate_15000ul'   \n",
    "    ),\n",
    "    LiquidLabware(\n",
    "        name='15m_Tray2',\n",
    "        version='frg_12_wellplate_15000ul'\n",
    "    ),\n",
    "]\n",
    "\n",
    "#sort by volume,name\n",
    "solution_storage.sort(key=lambda labware: labware.name)\n",
    "solution_storage.sort(key=lambda labware: labware.volume)\n",
    "print('Priority Fill Order:')\n",
    "for ss in solution_storage: print(ss)"
   ],
   "outputs": [
    {
     "output_type": "stream",
     "name": "stdout",
     "text": [
      "Priority Fill Order:\n",
      "<LiquidLabware> 96_Plate1, 0.36 mL volume, 96 wells\n",
      "<LiquidLabware> 96_Plate2, 0.36 mL volume, 96 wells\n",
      "<LiquidLabware> 4mL_Tray1, 4.0 mL volume, 28 wells\n",
      "<LiquidLabware> 4mL_Tray2, 4.0 mL volume, 28 wells\n",
      "<LiquidLabware> 15mL_Tray1, 15.0 mL volume, 12 wells\n",
      "<LiquidLabware> 15m_Tray2, 15.0 mL volume, 12 wells\n"
     ]
    }
   ],
   "metadata": {}
  },
  {
   "cell_type": "markdown",
   "source": [
    "## Define Experimental Mesh\n",
    "\n",
    "Each of the following cells defines one dimension of the experiment. After defining the individual dimensions, a full sample list will be constructed using a user-selected Design of Expeiment (DOE)"
   ],
   "metadata": {}
  },
  {
   "cell_type": "markdown",
   "source": [
    "### List of unique substrates. \n",
    "Eventually these may link to specific sample id's, but for now just set the unique types of substrates used"
   ],
   "metadata": {}
  },
  {
   "cell_type": "code",
   "execution_count": 9,
   "source": [
    "input_substrates = [\n",
    "    '1mm_FTO'\n",
    "]"
   ],
   "outputs": [],
   "metadata": {}
  },
  {
   "cell_type": "markdown",
   "source": [
    "### List of target solutions to spin cast. \n",
    "\n",
    "Solutions are defined using `SolutionRecipe` class instances.\n",
    "\n",
    "Chemical formula is defined with underscores between each component. If no coefficient is provided, assumes =1. Example:\n",
    "\n",
    "``` \n",
    "SolutionRecipe(\n",
    "        solutes='MA_Pb_I3',\n",
    "        solvent='DMF9_DMSO1',\n",
    "        molarity=1\n",
    "    )\n",
    "```"
   ],
   "metadata": {}
  },
  {
   "cell_type": "code",
   "execution_count": 10,
   "source": [
    "target_solutions = [\n",
    "    SolutionRecipe(\n",
    "        solutes='MA_Pb_I3',\n",
    "        solvent='DMF9_DMSO1',\n",
    "        molarity=1\n",
    "    ),\n",
    "    SolutionRecipe(\n",
    "        solutes='FA_Pb_I3',\n",
    "        solvent='DMF9_DMSO1',\n",
    "        molarity=1\n",
    "    ),\n",
    "    SolutionRecipe(\n",
    "        solutes='FA0.25_MA0.75_Pb_I3',\n",
    "        solvent='DMF9_DMSO1',\n",
    "        molarity=1\n",
    "    ),\n",
    "    SolutionRecipe(\n",
    "        solutes='FA0.75_MA0.25_Pb_I3',\n",
    "        solvent='DMF9_DMSO1',\n",
    "        molarity=1\n",
    "    ),\n",
    "    SolutionRecipe(\n",
    "        solutes='MA0.5_FA0.5_Pb_I3',\n",
    "        solvent='DMF9_DMSO1',\n",
    "        molarity=1\n",
    "    ),\n",
    "]"
   ],
   "outputs": [],
   "metadata": {}
  },
  {
   "cell_type": "markdown",
   "source": [
    "### Spincoating Recipes\n"
   ],
   "metadata": {}
  },
  {
   "cell_type": "markdown",
   "source": [
    "#### Defining Antisolvents\n",
    "Antisolvents are also defined using `SolutionRecipe` class instances. Solutes are left empty, and molarity is unused so can be left as 1/whatever number you like.\n",
    "\n",
    "Example:\n",
    "``` \n",
    "SolutionRecipe(\n",
    "        solutes='',\n",
    "        solvent='Chlorobenzene',\n",
    "        molarity=1\n",
    "    )\n",
    "```\n",
    "\n",
    "Note that these do not have to be stored in a list, as antisolvents are not considered a standalone experimental dimension. We will include these as spincoating parameters, which along with spin speeds etc. form an experimental dimension that can be permuted/whatever"
   ],
   "metadata": {}
  },
  {
   "cell_type": "code",
   "execution_count": 11,
   "source": [
    "cb_antisolvent = SolutionRecipe(\n",
    "            solutes='',\n",
    "            solvent='Chlorobenzene',\n",
    "            molarity=1\n",
    "        )\n",
    "ma_antisolvent = SolutionRecipe(\n",
    "            solutes='',\n",
    "            solvent='MethylAcetate',\n",
    "            molarity=1\n",
    "        )"
   ],
   "outputs": [],
   "metadata": {}
  },
  {
   "cell_type": "markdown",
   "source": [
    "\n",
    "#### Defining spincoating parameters\n",
    "\n",
    "Spincoating recipes are defined using the `SpincoatRecipe` object. This consists of a nested list of [speed, acceleration, duration] spin steps. The `SolutionRecipe`, volume, and droptime of both the initial solution and optional antisolvent are also defined. Drop times are relative to t=0. Static spincoating (dispense before spin start) can be achieved by setting a negative number for drop time. Example:\n",
    "\n",
    "```\n",
    "SpincoatRecipe(\n",
    "        steps=[\n",
    "            [500,1000,20], #speed (rpm), acceleration (rpm/s), duration (s)\n",
    "            [4000,4000,30]\n",
    "        ],\n",
    "        solution=SolutionRecipe(...), #this would usually be defined earlier\n",
    "        solution_volume=100, #uL\n",
    "        solution_droptime=-5, #seconds relative to start time\n",
    "        antisolvent=SolutionRecipe(...), #also defined earlier\n",
    "        antisolvent_volume=50, #seconds relative to start time\n",
    "        antisolvent_droptime=40,\n",
    "    )\n",
    "```\n",
    "\n",
    "the initial solution is typically left out here, as it will be filled in with the `target_solutions` defined earlier when building the DOE. Example:\n",
    "\n",
    "```\n",
    "SpincoatRecipe(\n",
    "        steps=[\n",
    "            [500,1000,20], #speed (rpm), acceleration (rpm/s), duration (s)\n",
    "            [4000,4000,30]\n",
    "        ],\n",
    "        solution_volume=100, #uL\n",
    "        solution_droptime=-5, #seconds relative to start time\n",
    "        antisolvent=SolutionRecipe(...), #also defined earlier\n",
    "        antisolvent_volume=50, #seconds relative to start time\n",
    "        antisolvent_droptime=40,\n",
    "    )\n",
    "```\n",
    "\n",
    "In the case that no antisolvent is needed, the three antisolvent terms can be left out.\n",
    "\n",
    "```\n",
    "SpincoatRecipe(\n",
    "        steps=[\n",
    "            [500,1000,20], #speed (rpm), acceleration (rpm/s), duration (s)\n",
    "            [4000,4000,30]\n",
    "        ],\n",
    "        solution=SolutionRecipe(...), #this would usually be defined earlier\n",
    "        solution_volume=100, #uL\n",
    "        solution_droptime=-5, #seconds relative to start time\n",
    "    )\n",
    "```"
   ],
   "metadata": {}
  },
  {
   "cell_type": "code",
   "execution_count": 12,
   "source": [
    "spincoat_recipes = [\n",
    "    SpincoatRecipe(\n",
    "        steps=[\n",
    "            [500,1000,20], #speed (rpm), acceleration (rpm/s), duration (s)\n",
    "            [4000,4000,30]\n",
    "        ],\n",
    "        solution_volume=100, #uL\n",
    "        solution_droptime=-5, #seconds relative to start time\n",
    "        antisolvent=cb_antisolvent,\n",
    "        antisolvent_volume=50, #seconds relative to start time\n",
    "        antisolvent_droptime=40,\n",
    "    ),\n",
    "    SpincoatRecipe(\n",
    "        steps=[\n",
    "            [500,1000,20],\n",
    "            [4000,4000,30]\n",
    "        ],\n",
    "        solution_volume=100, #uL\n",
    "        solution_droptime=-5,\n",
    "        antisolvent=cb_antisolvent,\n",
    "        antisolvent_volume=50,\n",
    "        antisolvent_droptime=45,\n",
    "    ),\n",
    "]\n"
   ],
   "outputs": [],
   "metadata": {}
  },
  {
   "cell_type": "markdown",
   "source": [
    "#### Annealing Conditions\n",
    "Annealing conditions are defined as a list of `AnnealRecipe` class instances. Only two parameters - temperature (C) and duration (s)\n",
    "\n",
    "Example:\n",
    "``` \n",
    "    AnnealRecipe(\n",
    "        temperature=100, #degrees C\n",
    "        duration=60*60, #seconds\n",
    "    ),\n",
    "```"
   ],
   "metadata": {}
  },
  {
   "cell_type": "code",
   "execution_count": 13,
   "source": [
    "anneal_recipes = [\n",
    "    AnnealRecipe(\n",
    "        temperature=100, #degrees C\n",
    "        duration=60*60, #seconds\n",
    "    ),\n",
    "    AnnealRecipe(\n",
    "        temperature=120, #degrees C\n",
    "        duration=60*40, #seconds\n",
    "    ),\n",
    "    AnnealRecipe(\n",
    "        temperature=140, #degrees C\n",
    "        duration=60*20, #seconds\n",
    "    ),\n",
    "]"
   ],
   "outputs": [],
   "metadata": {}
  },
  {
   "cell_type": "markdown",
   "source": [
    "## Design of Experiment\n",
    "\n",
    "currently only a full-factorial design is implemented. arguments are lists defined above, and n_repeats is the number of times to repeat each unique combination of conditions"
   ],
   "metadata": {}
  },
  {
   "cell_type": "code",
   "execution_count": 14,
   "source": [
    "samples = build_sample_list(\n",
    "    available_trays = sample_trays,\n",
    "    input_substrates = input_substrates,\n",
    "    target_solutions = target_solutions,\n",
    "    spincoat_recipes=spincoat_recipes,\n",
    "    anneal_recipes=anneal_recipes,\n",
    "    n_repeats=2\n",
    ")\n",
    "unique_solutions = list(set(\n",
    "    [s.spincoat_recipe.solution for s in samples]\n",
    "    + [s.spincoat_recipe.antisolvent for s in samples]))\n",
    "\n",
    "print(f'{len(unique_solutions)} unique solutions required across {len(samples)} planned samples')"
   ],
   "outputs": [
    {
     "output_type": "stream",
     "name": "stdout",
     "text": [
      "6 unique solutions required across 60 planned samples\n"
     ]
    }
   ],
   "metadata": {}
  },
  {
   "cell_type": "markdown",
   "source": [
    "# Preparing the Solutions"
   ],
   "metadata": {}
  },
  {
   "cell_type": "markdown",
   "source": [
    "## Define Stock Solutions\n",
    "\n",
    "These are the solutions that you will be mixing to (hopefully) cover your target solutions. If they don't work, the code will tell you, and you can come back to this point and try again."
   ],
   "metadata": {}
  },
  {
   "cell_type": "code",
   "execution_count": 15,
   "source": [
    "stock_solutions = [\n",
    "    SolutionRecipe(\n",
    "        solutes='MA_Pb_I3',\n",
    "        solvent='DMF9_DMSO1',\n",
    "        molarity=1\n",
    "    ),\n",
    "    SolutionRecipe(\n",
    "        solutes='FA_Pb_I3',\n",
    "        solvent='DMF9_DMSO1',\n",
    "        molarity=1\n",
    "    ),\n",
    "    SolutionRecipe(\n",
    "        solutes='',\n",
    "        solvent='DMF',\n",
    "        molarity=1\n",
    "    ),\n",
    "    SolutionRecipe(\n",
    "        solutes='',\n",
    "        solvent='DMSO',\n",
    "        molarity=1\n",
    "    ),\n",
    "    SolutionRecipe(\n",
    "        solutes='',\n",
    "        solvent='Chlorobenzene',\n",
    "        molarity=1\n",
    "    ),\n",
    "    SolutionRecipe(\n",
    "        solutes='',\n",
    "        solvent='MethylAcetate',\n",
    "        molarity=1\n",
    "    ),\n",
    "]"
   ],
   "outputs": [],
   "metadata": {}
  },
  {
   "cell_type": "markdown",
   "source": [
    "Can we cover target solutions with these stocks? and if so, how much of each stock to mix for each target?"
   ],
   "metadata": {}
  },
  {
   "cell_type": "code",
   "execution_count": 16,
   "source": [
    "min_volume = 0\n",
    "solution_details = {s:dict(volume=min_volume, labware=None, slot=None) for s in unique_solutions}\n",
    "for s in samples:\n",
    "    for sol in [s.spincoat_recipe.solution, s.spincoat_recipe.antisolvent]:\n",
    "        if sol is not None:\n",
    "            solution_details[sol]['volume'] += s.spincoat_recipe.solution_volume\n",
    "    "
   ],
   "outputs": [],
   "metadata": {}
  },
  {
   "cell_type": "code",
   "execution_count": 17,
   "source": [
    "mixtures = np.array([\n",
    "    calculate_mix(\n",
    "        target=solution,\n",
    "        volume=v['volume'],\n",
    "        stock_solutions = stock_solutions\n",
    "    ) for solution, v in solution_details.items()])"
   ],
   "outputs": [],
   "metadata": {}
  },
  {
   "cell_type": "code",
   "execution_count": 18,
   "source": [
    "volumes_needed_per_stock = {\n",
    "    soln: vol for soln,vol in zip(stock_solutions,mixtures.sum(axis=0))}\n",
    "for s, v in volumes_needed_per_stock.items():\n",
    "    if v > 0:\n",
    "        print(f'{v/1e3} mL of {s}')"
   ],
   "outputs": [
    {
     "output_type": "stream",
     "name": "stdout",
     "text": [
      "3.0 mL of <SolutionRecipe> 1M MA_Pb_I3 in DMF9_DMSO1\n",
      "3.0 mL of <SolutionRecipe> 1M FA_Pb_I3 in DMF9_DMSO1\n",
      "6.0 mL of <SolutionRecipe> Chlorobenzene\n"
     ]
    }
   ],
   "metadata": {}
  },
  {
   "cell_type": "markdown",
   "source": [
    "Which solutions need to be made from stocks?"
   ],
   "metadata": {}
  },
  {
   "cell_type": "code",
   "execution_count": 19,
   "source": [
    "to_be_mixed = {s:v for s,v in solution_details.items() if s not in stock_solutions}"
   ],
   "outputs": [],
   "metadata": {}
  },
  {
   "cell_type": "code",
   "execution_count": 20,
   "source": [
    "for solution, v in solution_details.items():\n",
    "    ll = where_to_store(v['volume'], solution_storage) #which liquid labware\n",
    "    slot = ll.load(solution)\n",
    "    solution_details[solution]['labware'] = ll.name\n",
    "    solution_details[solution]['slot'] = slot"
   ],
   "outputs": [],
   "metadata": {}
  },
  {
   "cell_type": "code",
   "execution_count": 21,
   "source": [
    "for s in samples:\n",
    "    solution = s.spincoat_recipe.solution\n",
    "    d = solution_details[solution]\n",
    "    solution.well = {\n",
    "        'tray': d['labware'],\n",
    "        'slot': d['slot'],\n",
    "    }\n",
    "\n",
    "    antisolvent = s.spincoat_recipe.antisolvent\n",
    "    if antisolvent is not None:\n",
    "        d = solution_details[antisolvent]\n",
    "        antisolvent.well = {\n",
    "            'tray': d['labware'],\n",
    "            'slot': d['slot'],\n",
    "        }"
   ],
   "outputs": [],
   "metadata": {}
  },
  {
   "cell_type": "markdown",
   "source": [
    "Set up the mixing netlist for liquid handler"
   ],
   "metadata": {}
  },
  {
   "cell_type": "code",
   "execution_count": 22,
   "source": [
    "mixing_netlist = {} #destination: {source, volume}\n",
    "\n",
    "for target, target_v in solution_details.items():\n",
    "    if target in stock_solutions:\n",
    "        continue #stock solution is already made\n",
    "    destination = f\"{target_v['labware']}-{target_v['slot']}\"\n",
    "    mixing_netlist[destination] = {}\n",
    "    required_volumes = calculate_mix(\n",
    "        target=target,\n",
    "        volume=target_v['volume'],\n",
    "        stock_solutions = stock_solutions\n",
    "    )\n",
    "    for stock, vol in zip(stock_solutions, required_volumes):\n",
    "        if vol > 0:    \n",
    "            stock_v = solution_details[stock]\n",
    "            source = f\"{stock_v['labware']}-{stock_v['slot']}\"\n",
    "            mixing_netlist[destination][source]=vol\n",
    "            \n"
   ],
   "outputs": [],
   "metadata": {}
  },
  {
   "cell_type": "markdown",
   "source": [
    "## Build the Experiment Schedule"
   ],
   "metadata": {}
  },
  {
   "cell_type": "code",
   "execution_count": 23,
   "source": [
    "for s in samples:\n",
    "    s.tasks = generate_tasks_for_sample(s)"
   ],
   "outputs": [],
   "metadata": {}
  },
  {
   "cell_type": "code",
   "execution_count": 24,
   "source": [
    "scheduler = Scheduler(\n",
    "    samples=samples,\n",
    "    spanning_tasks = [\n",
    "        (StorageToSpincoater, SpincoaterToHotplate),\n",
    "        (StorageToCharacterization, CharacterizationToStorage),\n",
    "    ] #these tasks spanning each pair must be done in sequence per sample\n",
    ")\n",
    "scheduler.solve(5) #argument defines how long (s) to work on finding a solution"
   ],
   "outputs": [
    {
     "output_type": "display_data",
     "data": {
      "text/plain": [
       "<Figure size 1008x360 with 1 Axes>"
      ],
      "image/png": "[encoded data removed]"
     },
     "metadata": {
      "needs_background": "light"
     }
    }
   ],
   "metadata": {}
  },
  {
   "cell_type": "code",
   "execution_count": 56,
   "source": [
    "ordered_tasks = [\n",
    "    task\n",
    "    for sample in samples\n",
    "    for task in sample.tasks\n",
    "]\n",
    "ordered_tasks.sort(key=lambda x:x.start)"
   ],
   "outputs": [],
   "metadata": {}
  },
  {
   "cell_type": "code",
   "execution_count": 57,
   "source": [
    "for precedent, task in zip(ordered_tasks, ordered_tasks[1:]):\n",
    "    if precedent.task == 'anneal' and precedent.sample != task.sample:\n",
    "        continue\n",
    "    if precedent not in [p[0] for p in task.precedents]:\n",
    "        task.precedents.append((precedent, False))\n"
   ],
   "outputs": [],
   "metadata": {}
  },
  {
   "cell_type": "markdown",
   "source": [
    "# Write final files to disk"
   ],
   "metadata": {}
  },
  {
   "cell_type": "markdown",
   "source": [
    "## Write mixing netlist to disk, will be copy-pasted into listener.py protocol"
   ],
   "metadata": {}
  },
  {
   "cell_type": "code",
   "execution_count": 26,
   "source": [
    "with open('ot2netlist.json', 'w') as f:\n",
    "    json.dump(mixing_netlist, f, indent=4, sort_keys=True)\n",
    "print('Liquid Handler Netlist String dumped to \"ot2netlist.json\"')"
   ],
   "outputs": [
    {
     "output_type": "stream",
     "name": "stdout",
     "text": [
      "Liquid Handler Netlist String dumped to \"ot2netlist.json\"\n"
     ]
    }
   ],
   "metadata": {}
  },
  {
   "cell_type": "markdown",
   "source": [
    "## Maestro netlist to disk, will be input to maestro to execute experiment"
   ],
   "metadata": {}
  },
  {
   "cell_type": "code",
   "execution_count": 62,
   "source": [
    "ordered_task_output = [\n",
    "    task.to_dict() for task in ordered_tasks\n",
    "]\n",
    "samples_output = {sample.name:sample.to_dict() for sample in samples}\n",
    "out = {\n",
    "    'samples': samples_output,\n",
    "    'tasks': ordered_task_output,\n",
    "}\n",
    "with open('maestronetlist.json', 'w') as f:\n",
    "    json.dump(out, f, indent=4, sort_keys=True)\n",
    "print('Maestro Netlist dumped to \"maestronetlist.json\"')"
   ],
   "outputs": [
    {
     "output_type": "stream",
     "name": "stdout",
     "text": [
      "Maestro Netlist dumped to \"maestronetlist.json\"\n"
     ]
    }
   ],
   "metadata": {}
  },
  {
   "cell_type": "markdown",
   "source": [
    "## Solution Instructions to csv, tells operator where/how much to put solutions"
   ],
   "metadata": {}
  },
  {
   "cell_type": "code",
   "execution_count": 28,
   "source": [
    "with open('stock_solutions.csv', 'w', newline='') as f:\n",
    "    writer = csv.writer(f, delimiter=',')\n",
    "    header = [\n",
    "        'Tray',\n",
    "        'Slot',\n",
    "        'Volume (uL)',\n",
    "        'Solutes',\n",
    "        'Molarity (M)',\n",
    "        'Solvent',        \n",
    "    ]\n",
    "    writer.writerow(header)\n",
    "    for solution, details in solution_details.items():\n",
    "        volume = volumes_needed_per_stock.get(solution, 'Empty Vial')    \n",
    "        line = [\n",
    "            details['labware'],\n",
    "            details['slot'],\n",
    "            volume,\n",
    "            solution.solutes,\n",
    "            solution.molarity,\n",
    "            solution.solvent,\n",
    "        ]\n",
    "        writer.writerow(line)"
   ],
   "outputs": [],
   "metadata": {}
  }
 ],
 "metadata": {
  "kernelspec": {
   "name": "python3",
   "display_name": "Python 3.8.0 64-bit ('pascal': conda)"
  },
  "language_info": {
   "codemirror_mode": {
    "name": "ipython",
    "version": 3
   },
   "file_extension": ".py",
   "mimetype": "text/x-python",
   "name": "python",
   "nbconvert_exporter": "python",
   "pygments_lexer": "ipython3",
   "version": "3.8.0"
  },
  "interpreter": {
   "hash": "e550aae00514e232b011b8daa9c111018f6799cbdd6b2b8c856d7d4b57330518"
  }
 },
 "nbformat": 4,
 "nbformat_minor": 5
}