{
 "cells": [
  {
   "cell_type": "code",
   "execution_count": 48,
   "id": "wicked-examination",
   "metadata": {},
   "outputs": [],
   "source": [
    "import numpy as np\n",
    "import matplotlib.pyplot as plt\n",
    "import pandas as pd\n",
    "import collections\n",
    "import uuid\n",
    "import itertools\n",
    "import json\n",
    "from frgpascal.experimentaldesign.recipes import SolutionRecipe, SpincoatRecipe, AnnealRecipe, Sample, from_json\n",
    "from frgpascal.experimentaldesign.helpers import components_to_name\n",
    "from frgpascal.hardware.sampletray import SampleTray\n",
    "from frgpascal.hardware.liquidlabware import LiquidLabware\n",
    "from copy import deepcopy"
   ]
  },
  {
   "cell_type": "markdown",
   "id": "universal-gallery",
   "metadata": {},
   "source": [
    "# Helper Functions"
   ]
  },
  {
   "cell_type": "code",
   "execution_count": 49,
   "id": "adverse-slovak",
   "metadata": {},
   "outputs": [],
   "source": [
    "def generate_unique_id():\n",
    "    return str(uuid.uuid4())"
   ]
  },
  {
   "cell_type": "markdown",
   "id": "sticky-holmes",
   "metadata": {},
   "source": [
    "# Placeholder Workflow"
   ]
  },
  {
   "cell_type": "code",
   "execution_count": 50,
   "id": "mighty-closure",
   "metadata": {},
   "outputs": [],
   "source": [
    "def build_sample_list(available_trays, input_substrates, target_solutions, spincoat_recipes, anneal_recipes, n_repeats=1, ignore_storage = False):\n",
    "    \"\"\"\n",
    "    Permutes experimental mesh into sample list\n",
    "    \"\"\"\n",
    "    sample_list = []\n",
    "    for tray in available_trays:\n",
    "        tray.unload_all()\n",
    "    trays = iter(available_trays)\n",
    "    current_tray = next(trays)\n",
    "\n",
    "    def get_storage_slot(name, current_tray, trays):\n",
    "        loaded = False\n",
    "        while not loaded:\n",
    "            try:\n",
    "                slot = current_tray.load(name)\n",
    "                loaded = True\n",
    "            except:\n",
    "                try:\n",
    "                    current_tray = next(trays)\n",
    "                except StopIteration:\n",
    "                    raise StopIteration('No more slots available in your storage trays!')\n",
    "        return {\n",
    "            'tray': current_tray.name,\n",
    "            'slot': slot\n",
    "        }, current_tray, trays\n",
    "    \n",
    "    for idx, (sub, sol, sc, an) in enumerate(itertools.product(input_substrates, target_solutions, spincoat_recipes, anneal_recipes)):\n",
    "        # recipe_id = generate_unique_id()\n",
    "        sc_ = deepcopy(sc)\n",
    "        sc_.solution = sol\n",
    "        \n",
    "        for r in range(n_repeats):\n",
    "            name = f'sample{idx}'\n",
    "            if ignore_storage:\n",
    "                storage_slot = None\n",
    "            else:\n",
    "                storage_slot, current_tray, trays = get_storage_slot(name, current_tray, trays)\n",
    "            sample_list.append(Sample(\n",
    "                name=name,\n",
    "                substrate=sub,\n",
    "                spincoat_recipe=sc_,\n",
    "                anneal_recipe=an,\n",
    "                storage_slot=storage_slot\n",
    "                # sampleid=sampleid\n",
    "            ))\n",
    "            \n",
    "    return sample_list"
   ]
  },
  {
   "cell_type": "code",
   "execution_count": 51,
   "id": "complicated-mailman",
   "metadata": {},
   "outputs": [],
   "source": [
    "def suggest_stock_solutions(target_solutions):\n",
    "    \"\"\"\n",
    "    suggests smallest number of stock solutions required to cover the\n",
    "    target solution space\n",
    "    \"\"\"\n",
    "    \n",
    "    return stock_solutions"
   ]
  },
  {
   "cell_type": "code",
   "execution_count": 52,
   "metadata": {},
   "outputs": [],
   "source": [
    "from scipy.optimize import nnls\n",
    "\n",
    "def calculate_mix(target: SolutionRecipe, volume: float, stock_solutions: list, tolerance:float =0.05):\n",
    "    \"\"\"\n",
    "    given a target solution, target volume, and list of stock solutions, calculates\n",
    "    the volumes needed from individual stocks to achieve target composition\n",
    "\n",
    "    tolerance (float): maximum error for single site (relative, not absolute) allowed.\n",
    "    \n",
    "    \"\"\"        \n",
    "    # get possible solution components from stock list\n",
    "    components = set()\n",
    "    for s in stock_solutions:\n",
    "        components.update(s.solute_dict.keys(), s.solvent_dict.keys())\n",
    "    components = list(components) #sets are not order-preserving, lists are - just safer this way\n",
    "\n",
    "    # organize components into a stock matrix, keep track of which rows are solvents\n",
    "    stock_matrix = np.zeros((len(components), len(stock_solutions)))\n",
    "    solvent_idx = set()\n",
    "    for n, s in enumerate(stock_solutions):\n",
    "        for m, c in enumerate(components):\n",
    "            if c in s.solute_dict: \n",
    "                stock_matrix[m,n] = s.solute_dict[c]*s.molarity\n",
    "            elif c in s.solvent_dict:\n",
    "                stock_matrix[m,n] = s.solvent_dict[c]\n",
    "                solvent_idx.add(m)\n",
    "    solvent_idx = list(solvent_idx)\n",
    "\n",
    "    # organize target solution into a matrix of total mols desired of each component \n",
    "    target_matrix = np.zeros((len(components),))\n",
    "    for m, c in enumerate(components):\n",
    "        if c in target.solute_dict: \n",
    "            target_matrix[m] = target.solute_dict[c]*target.molarity*volume\n",
    "        elif c in target.solvent_dict:\n",
    "            target_matrix[m] = target.solvent_dict[c]*volume\n",
    "\n",
    "    # solve for the mixture amounts\n",
    "    amount_matrix, *data = nnls(stock_matrix, target_matrix, maxiter=1e3) #volumes to mix. math is better if not such small values in matrix, so scale to uL for calculation\n",
    "    amount_matrix[amount_matrix < 1] = 0 #clean up values that are essentially 0. If we have a significant negative value here, should get caught downstream\n",
    "    amount_matrix = np.round(amount_matrix) #round to nearest uL (values are in L at this point)\n",
    "\n",
    "    # double check that the solved amounts make sense\n",
    "    doublecheck = stock_matrix @ amount_matrix\n",
    "    doublecheck[solvent_idx] /= doublecheck[solvent_idx].sum() / volume #solvents should sum to one\n",
    "    # print(stock_matrix)\n",
    "    # print(amount_matrix)\n",
    "    # print(target_matrix)\n",
    "    composition_error = max([np.abs(1-c/t) for c,t in zip(doublecheck, target_matrix) if t>0]) #max single-component error fraction\n",
    "\n",
    "    if composition_error < 0.05: #check that we are within 5% error wrt target composition AT EACH SITE\n",
    "        return amount_matrix\n",
    "    else:\n",
    "        solute = components_to_name({c:amt/target.molarity/volume for c,amt in zip(components, doublecheck) if amt > 0 and c not in target.solvent_dict})\n",
    "        solvent = components_to_name({c:amt/target.molarity/volume for c,amt in zip(components, doublecheck) if amt > 0 and c in target.solvent_dict})\n",
    "        # print(solvent)\n",
    "        raise Exception(f'Unable to generate target solution ({volume} uL of {target}) with current stock solutions.\\n\\n'\\\n",
    "                        f'Closest match ({volume} uL of {target.molarity}M {solute} in {solvent}) has a max site error of {composition_error*100:.2f}%')#{Off by {composition_error*100:.2f}%%')"
   ]
  },
  {
   "cell_type": "code",
   "execution_count": 53,
   "id": "continuous-philip",
   "metadata": {},
   "outputs": [],
   "source": [
    "def build_solution_library(sample_list, stock_solutions):\n",
    "    \"\"\"\n",
    "    finds volume required for each unique solution\n",
    "    assigns a (labware, well) per solution\n",
    "    generates a mixing netlist for liquid handler to convert stocks to mixed solutions\n",
    "    \"\"\"\n",
    "    return solution_map, lh_netlist"
   ]
  },
  {
   "cell_type": "code",
   "execution_count": 54,
   "id": "threatened-inspector",
   "metadata": {},
   "outputs": [],
   "source": [
    "def finalize_sample_list(sample_list, solution_map):\n",
    "    \"\"\"\n",
    "    assigns the storage slots (tray, slot) and solution sources (labware, well)\n",
    "    to each sample.\n",
    "    \"\"\"\n",
    "    return final_sample_list, tray_list"
   ]
  },
  {
   "cell_type": "markdown",
   "id": "laughing-assembly",
   "metadata": {},
   "source": [
    "## Generate Example Recipes"
   ]
  },
  {
   "cell_type": "code",
   "execution_count": 197,
   "metadata": {},
   "outputs": [],
   "source": [
    "available_trays = [\n",
    "    SampleTray(\n",
    "        name='Tray1',\n",
    "        version='storage_v1',\n",
    "        gantry=None,\n",
    "        gripper=None,\n",
    "        p0=[0,0,0]\n",
    "    ),\n",
    "    SampleTray(\n",
    "        name='Tray2',\n",
    "        version='storage_v1',\n",
    "        gantry=None,\n",
    "        gripper=None,\n",
    "        p0=[0,0,0]\n",
    "    )\n",
    "]"
   ]
  },
  {
   "cell_type": "code",
   "execution_count": 198,
   "id": "offshore-williams",
   "metadata": {},
   "outputs": [],
   "source": [
    "input_substrates = [\n",
    "    '1mm_FTO'\n",
    "]"
   ]
  },
  {
   "cell_type": "code",
   "execution_count": 199,
   "id": "silent-october",
   "metadata": {},
   "outputs": [],
   "source": [
    "target_solutions = [\n",
    "    SolutionRecipe(\n",
    "        solutes='MA_Pb_I3',\n",
    "        solvent='DMF9_DMSO1',\n",
    "        molarity=1\n",
    "    ),\n",
    "    SolutionRecipe(\n",
    "        solutes='FA_Pb_I3',\n",
    "        solvent='DMF9_DMSO1',\n",
    "        molarity=1\n",
    "    ),\n",
    "    SolutionRecipe(\n",
    "        solutes='FA0.25_MA0.75_Pb_I3',\n",
    "        solvent='DMF9_DMSO1',\n",
    "        molarity=1\n",
    "    ),\n",
    "    SolutionRecipe(\n",
    "        solutes='FA0.75_MA0.25_Pb_I3',\n",
    "        solvent='DMF9_DMSO1',\n",
    "        molarity=1\n",
    "    ),\n",
    "    SolutionRecipe(\n",
    "        solutes='MA0.5_FA0.5_Pb_I3',\n",
    "        solvent='DMF9_DMSO1',\n",
    "        molarity=1\n",
    "    ),\n",
    "]"
   ]
  },
  {
   "cell_type": "code",
   "execution_count": 200,
   "metadata": {},
   "outputs": [],
   "source": [
    "cb_antisolvent = SolutionRecipe(\n",
    "            solutes='',\n",
    "            solvent='Chlorobenzene',\n",
    "            molarity=1\n",
    "        )\n",
    "ma_antisolvent = SolutionRecipe(\n",
    "            solutes='',\n",
    "            solvent='MethylAcetate',\n",
    "            molarity=1\n",
    "        )\n"
   ]
  },
  {
   "cell_type": "code",
   "execution_count": 230,
   "id": "focal-catalyst",
   "metadata": {},
   "outputs": [],
   "source": [
    "spincoat_recipes = [\n",
    "    SpincoatRecipe(\n",
    "        steps=[\n",
    "            [500,1000,20], #speed (rpm), acceleration (rpm/s), duration (s)\n",
    "            [4000,4000,30]\n",
    "        ],\n",
    "        solution_volume=100, #uL\n",
    "        solution_droptime=-5, #seconds relative to start time\n",
    "        antisolvent=cb_antisolvent,\n",
    "        antisolvent_volume=50, #seconds relative to start time\n",
    "        antisolvent_droptime=40,\n",
    "    ),\n",
    "    SpincoatRecipe(\n",
    "        steps=[\n",
    "            [500,1000,20],\n",
    "            [4000,4000,30]\n",
    "        ],\n",
    "        solution_volume=100, #uL\n",
    "        solution_droptime=-5,\n",
    "        antisolvent=cb_antisolvent,\n",
    "        antisolvent_volume=50,\n",
    "        antisolvent_droptime=45,\n",
    "    ),\n",
    "]\n"
   ]
  },
  {
   "cell_type": "code",
   "execution_count": 231,
   "id": "reliable-killing",
   "metadata": {},
   "outputs": [],
   "source": [
    "anneal_recipes = [\n",
    "    AnnealRecipe(\n",
    "        temperature=100, #degrees C\n",
    "        duration=60*60, #seconds\n",
    "    ),\n",
    "    AnnealRecipe(\n",
    "        temperature=120, #degrees C\n",
    "        duration=60*40, #seconds\n",
    "    ),\n",
    "    AnnealRecipe(\n",
    "        temperature=140, #degrees C\n",
    "        duration=60*20, #seconds\n",
    "    ),\n",
    "]"
   ]
  },
  {
   "cell_type": "code",
   "execution_count": 232,
   "id": "thousand-mumbai",
   "metadata": {},
   "outputs": [
    {
     "output_type": "stream",
     "name": "stdout",
     "text": [
      "6 unique solutions required across 60 planned samples\n"
     ]
    }
   ],
   "source": [
    "samples = build_sample_list(\n",
    "    available_trays = available_trays,\n",
    "    input_substrates = input_substrates,\n",
    "    target_solutions = target_solutions,\n",
    "    spincoat_recipes=spincoat_recipes,\n",
    "    anneal_recipes=anneal_recipes,\n",
    "    n_repeats=2\n",
    ")\n",
    "unique_solutions = list(set(\n",
    "    [s.spincoat_recipe.solution for s in samples]\n",
    "    + [s.spincoat_recipe.antisolvent for s in samples]))\n",
    "\n",
    "print(f'{len(unique_solutions)} unique solutions required across {len(samples)} planned samples')"
   ]
  },
  {
   "source": [
    "## Define Stock Solutions"
   ],
   "cell_type": "markdown",
   "metadata": {}
  },
  {
   "cell_type": "code",
   "execution_count": 233,
   "metadata": {},
   "outputs": [],
   "source": [
    "stock_solutions = [\n",
    "    SolutionRecipe(\n",
    "        solutes='MA_Pb_I3',\n",
    "        solvent='DMF9_DMSO1',\n",
    "        molarity=1\n",
    "    ),\n",
    "    SolutionRecipe(\n",
    "        solutes='FA_Pb_I3',\n",
    "        solvent='DMF9_DMSO1',\n",
    "        molarity=1\n",
    "    ),\n",
    "    SolutionRecipe(\n",
    "        solutes='',\n",
    "        solvent='DMF',\n",
    "        molarity=1\n",
    "    ),\n",
    "    SolutionRecipe(\n",
    "        solutes='',\n",
    "        solvent='DMSO',\n",
    "        molarity=1\n",
    "    ),\n",
    "    SolutionRecipe(\n",
    "        solutes='',\n",
    "        solvent='Chlorobenzene',\n",
    "        molarity=1\n",
    "    ),\n",
    "    SolutionRecipe(\n",
    "        solutes='',\n",
    "        solvent='MethylAcetate',\n",
    "        molarity=1\n",
    "    ),\n",
    "]"
   ]
  },
  {
   "source": [
    "Can we cover target solutions with these stocks? and if so, how much of each stock to mix for each target?"
   ],
   "cell_type": "markdown",
   "metadata": {}
  },
  {
   "cell_type": "code",
   "execution_count": 234,
   "metadata": {},
   "outputs": [],
   "source": [
    "min_volume = 0\n",
    "solution_details = {s:dict(volume=min_volume, labware=None, slot=None) for s in unique_solutions}\n",
    "for s in samples:\n",
    "    for sol in [s.spincoat_recipe.solution, s.spincoat_recipe.antisolvent]:\n",
    "        if sol is not None:\n",
    "            solution_details[sol]['volume'] += s.spincoat_recipe.solution_volume\n",
    "    "
   ]
  },
  {
   "cell_type": "code",
   "execution_count": 235,
   "metadata": {},
   "outputs": [],
   "source": [
    "mixtures = np.array([\n",
    "    calculate_mix(\n",
    "        target=solution,\n",
    "        volume=v['volume'],\n",
    "        stock_solutions = stock_solutions\n",
    "    ) for solution, v in solution_details.items()])"
   ]
  },
  {
   "cell_type": "code",
   "execution_count": 236,
   "metadata": {},
   "outputs": [
    {
     "output_type": "stream",
     "name": "stdout",
     "text": [
      "3.0 mL of <SolutionRecipe> 1M MA_Pb_I3 in DMF9_DMSO1\n3.0 mL of <SolutionRecipe> 1M FA_Pb_I3 in DMF9_DMSO1\n6.0 mL of <SolutionRecipe> Chlorobenzene\n"
     ]
    }
   ],
   "source": [
    "volumes_needed_per_stock = mixtures.sum(axis=0)\n",
    "for s, v in zip(stock_solutions, volumes_needed_per_stock):\n",
    "    if v > 0:\n",
    "        print(f'{v/1e3} mL of {s}')"
   ]
  },
  {
   "source": [
    "Which solutions need to be made from stocks?"
   ],
   "cell_type": "markdown",
   "metadata": {}
  },
  {
   "cell_type": "code",
   "execution_count": 237,
   "metadata": {},
   "outputs": [],
   "source": [
    "to_be_mixed = {s:v for s,v in solution_details.items() if s not in stock_solutions}"
   ]
  },
  {
   "source": [
    "What vessel do we need to put everything in? depends on required volumes"
   ],
   "cell_type": "markdown",
   "metadata": {}
  },
  {
   "cell_type": "code",
   "execution_count": 238,
   "metadata": {},
   "outputs": [
    {
     "output_type": "stream",
     "name": "stdout",
     "text": [
      "Priority Fill Order:\n<LiquidLabware> 96_Plate1, 0.36 mL volume, 96 wells\n<LiquidLabware> 96_Plate2, 0.36 mL volume, 96 wells\n<LiquidLabware> 4mL_Tray1, 4.0 mL volume, 28 wells\n<LiquidLabware> 4mL_Tray2, 4.0 mL volume, 28 wells\n<LiquidLabware> 15mL_Tray1, 15.0 mL volume, 12 wells\n<LiquidLabware> 15m_Tray2, 15.0 mL volume, 12 wells\n"
     ]
    }
   ],
   "source": [
    "solution_storage = [\n",
    "    LiquidLabware(\n",
    "        name='96_Plate1',\n",
    "        version='greiner_96_wellplate_360ul'\n",
    "    ),\n",
    "    LiquidLabware(\n",
    "        name='96_Plate2',\n",
    "        version='greiner_96_wellplate_360ul'\n",
    "    ),\n",
    "    LiquidLabware(\n",
    "        name='4mL_Tray1',\n",
    "        version='frg_28_wellplate_4000ul'\n",
    "    ),\n",
    "\n",
    "    LiquidLabware(\n",
    "        name='4mL_Tray2',\n",
    "        version='frg_28_wellplate_4000ul'\n",
    "    ),\n",
    "    LiquidLabware(\n",
    "        name='15mL_Tray1',\n",
    "        version='frg_12_wellplate_15000ul'   \n",
    "    ),\n",
    "    LiquidLabware(\n",
    "        name='15m_Tray2',\n",
    "        version='frg_12_wellplate_15000ul'\n",
    "    ),\n",
    "]\n",
    "\n",
    "#sort by volume,name\n",
    "solution_storage.sort(key=lambda labware: labware.name)\n",
    "solution_storage.sort(key=lambda labware: labware.volume)\n",
    "print('Priority Fill Order:')\n",
    "for ss in solution_storage: print(ss)"
   ]
  },
  {
   "cell_type": "code",
   "execution_count": 239,
   "metadata": {},
   "outputs": [],
   "source": [
    "def where_to_store(volume, options):\n",
    "    for ll in options:\n",
    "        if volume <= ll.volume and len(ll._openslots) > 0:\n",
    "            return ll\n",
    "    raise ValueError(f'No options have enough space to hold {volume/1e3:.2f} mL!')\n",
    "\n"
   ]
  },
  {
   "cell_type": "code",
   "execution_count": 240,
   "metadata": {},
   "outputs": [],
   "source": [
    "for solution, v in solution_details.items():\n",
    "    ll = where_to_store(v['volume'], solution_storage) #which liquid labware\n",
    "    slot = ll.load(solution)\n",
    "    solution_details[solution]['labware'] = ll.name\n",
    "    solution_details[solution]['slot'] = slot"
   ]
  },
  {
   "cell_type": "code",
   "execution_count": 241,
   "metadata": {},
   "outputs": [
    {
     "output_type": "execute_result",
     "data": {
      "text/plain": [
       "{<SolutionRecipe> Chlorobenzene: {'volume': 6000,\n",
       "  'labware': '15mL_Tray1',\n",
       "  'slot': 'A1'},\n",
       " <SolutionRecipe> 1M FA0.75_MA0.25_Pb_I3 in DMF9_DMSO1: {'volume': 1200,\n",
       "  'labware': '4mL_Tray1',\n",
       "  'slot': 'A1'},\n",
       " <SolutionRecipe> 1M MA_Pb_I3 in DMF9_DMSO1: {'volume': 1200,\n",
       "  'labware': '4mL_Tray1',\n",
       "  'slot': 'A2'},\n",
       " <SolutionRecipe> 1M FA0.25_MA0.75_Pb_I3 in DMF9_DMSO1: {'volume': 1200,\n",
       "  'labware': '4mL_Tray1',\n",
       "  'slot': 'A3'},\n",
       " <SolutionRecipe> 1M FA_Pb_I3 in DMF9_DMSO1: {'volume': 1200,\n",
       "  'labware': '4mL_Tray1',\n",
       "  'slot': 'A4'},\n",
       " <SolutionRecipe> 1M MA0.5_FA0.5_Pb_I3 in DMF9_DMSO1: {'volume': 1200,\n",
       "  'labware': '4mL_Tray1',\n",
       "  'slot': 'A5'}}"
      ]
     },
     "metadata": {},
     "execution_count": 241
    }
   ],
   "source": [
    "solution_details"
   ]
  },
  {
   "source": [
    "Set up the mixing netlist for liquid handler"
   ],
   "cell_type": "markdown",
   "metadata": {}
  },
  {
   "cell_type": "code",
   "execution_count": 242,
   "metadata": {},
   "outputs": [],
   "source": [
    "mixing_netlist = {} #destination: {source, volume}\n",
    "\n",
    "for target, target_v in solution_details.items():\n",
    "    if target in stock_solutions:\n",
    "        continue #stock solution is already made\n",
    "    destination = f\"{target_v['labware']}-{target_v['slot']}\"\n",
    "    mixing_netlist[destination] = {}\n",
    "    required_volumes = calculate_mix(\n",
    "        target=target,\n",
    "        volume=target_v['volume'],\n",
    "        stock_solutions = stock_solutions\n",
    "    )\n",
    "    for stock, vol in zip(stock_solutions, required_volumes):\n",
    "        if vol > 0:    \n",
    "            stock_v = solution_details[stock]\n",
    "            source = f\"{stock_v['labware']}-{stock_v['slot']}\"\n",
    "            mixing_netlist[destination][source]=vol\n",
    "            \n"
   ]
  },
  {
   "source": [
    "Set up the sample instructions using specific labware/slots"
   ],
   "cell_type": "markdown",
   "metadata": {}
  },
  {
   "cell_type": "code",
   "execution_count": 243,
   "metadata": {},
   "outputs": [],
   "source": [
    "class Worker:\n",
    "    def __init__(self, name, capacity):\n",
    "        self.name = name\n",
    "        self.capacity = capacity\n",
    "\n",
    "    def __repr__(self):\n",
    "        return f'<Worker> {self.name}'"
   ]
  },
  {
   "cell_type": "code",
   "execution_count": 244,
   "metadata": {},
   "outputs": [
    {
     "output_type": "execute_result",
     "data": {
      "text/plain": [
       "[<Worker> gantry_gripper,\n",
       " <Worker> spincoater_liquidhander,\n",
       " <Worker> hotplate,\n",
       " <Worker> storage,\n",
       " <Worker> characterizationline]"
      ]
     },
     "metadata": {},
     "execution_count": 244
    }
   ],
   "source": [
    "gg = Worker(name='gantry_gripper', capacity=1)\n",
    "sclh = Worker(name='spincoater_liquidhander', capacity=1)\n",
    "hp = Worker(name='hotplate', capacity=25)\n",
    "st = Worker(name='storage', capacity=45)\n",
    "cl = Worker(name='characterizationline', capacity=1)\n",
    "\n",
    "workers = [gg,sclh,hp,st,cl]\n",
    "workers"
   ]
  },
  {
   "cell_type": "code",
   "execution_count": 245,
   "metadata": {},
   "outputs": [],
   "source": [
    "class Task:\n",
    "    def __init__(self, sample, task, workers, duration, task_details = '', precedents=[], reservoir=[]):\n",
    "        self.sample=sample\n",
    "        self.workers = workers\n",
    "        self.task = task\n",
    "        self.task_details = task_details\n",
    "        self.taskid = f'{task}-{str(uuid.uuid4())}'\n",
    "        self.precedents = precedents\n",
    "        self.reservoir=[]\n",
    "        if sum([immediate for task, immediate in precedents]) > 1:\n",
    "            raise ValueError('Only one precedent can be immediate!')\n",
    "        self.duration = int(duration)\n",
    "\n",
    "\n",
    "    def __repr__(self):\n",
    "        return f'<Task> {self.sample.name}, {self.task}'\n",
    "\n",
    "    def __eq__(self, other):\n",
    "        return other==self.taskid\n",
    "\n",
    "\n",
    "class StorageToSpincoater(Task):\n",
    "    def __init__(self, sample, precedents=[], start_time = 0):\n",
    "        super().__init__(\n",
    "            sample=sample,\n",
    "            task='storage_to_spincoater',\n",
    "            workers=[gg, sclh],\n",
    "            duration=30,\n",
    "            precedents = precedents,\n",
    "            reservoir = [\n",
    "                (sclh, 1)\n",
    "            ]\n",
    "            )\n",
    "class Spincoat(Task):\n",
    "    def __init__(self, sample, recipe:SpincoatRecipe, precedents=[], start_time = 0):\n",
    "        super().__init__(\n",
    "            sample=sample,\n",
    "            task='spincoat',\n",
    "            workers=[sclh],\n",
    "            duration=recipe.duration + 45,\n",
    "            task_details=recipe.to_json(),\n",
    "            precedents = precedents,\n",
    "            )\n",
    "class SpincoaterToHotplate(Task):\n",
    "    def __init__(self, sample, precedents=[], start_time = 0):\n",
    "        super().__init__(\n",
    "            sample=sample,\n",
    "            task='spincoater_to_hotplate',\n",
    "            workers=[gg, sclh],\n",
    "            duration= 30,\n",
    "            precedents = precedents,\n",
    "            reservoir = [\n",
    "                (sclh, -1)\n",
    "            ]\n",
    "            )\n",
    "class Anneal(Task):\n",
    "    def __init__(self, sample, recipe:AnnealRecipe, precedents=[], start_time = 0):\n",
    "        super().__init__(\n",
    "            sample=sample,\n",
    "            task='anneal',\n",
    "            workers=[hp],\n",
    "            duration=recipe.duration,\n",
    "            task_details=recipe.to_json(),\n",
    "            precedents = precedents,\n",
    "            )\n",
    "class HotplateToStorage(Task):\n",
    "    def __init__(self, sample, precedents=[], start_time = 0):\n",
    "        super().__init__(\n",
    "            sample=sample,\n",
    "            task='hotplate_to_storage',\n",
    "            workers=[gg],\n",
    "            duration= 30,\n",
    "            precedents = precedents,\n",
    "            )\n",
    "class Cooldown(Task):\n",
    "    def __init__(self, sample, precedents=[], start_time = 0):\n",
    "        super().__init__(\n",
    "            sample=sample,\n",
    "            task='cooldown',\n",
    "            workers=[st],\n",
    "            duration= 180,\n",
    "            precedents = precedents,\n",
    "            )\n",
    "class StorageToCharacterization(Task):\n",
    "    def __init__(self, sample, precedents=[], start_time = 0):\n",
    "        super().__init__(\n",
    "            sample=sample,\n",
    "            task='storage_to_characterization',\n",
    "            workers=[gg, cl],\n",
    "            duration= 30,\n",
    "            precedents = precedents,\n",
    "            reservoir = [\n",
    "                (cl, 1)\n",
    "            ]\n",
    "            )\n",
    "class Characterize(Task):\n",
    "    def __init__(self, sample, precedents=[], start_time = 0):\n",
    "        super().__init__(\n",
    "            sample=sample,\n",
    "            task='characterize',\n",
    "            workers=[cl],\n",
    "            duration= 120,\n",
    "            precedents = precedents,\n",
    "            )\n",
    "class CharacterizationToStorage(Task):\n",
    "    def __init__(self, sample, precedents=[], start_time = 0):\n",
    "        super().__init__(\n",
    "            sample=sample,\n",
    "            task='characterization_to_storage',\n",
    "            workers=[gg, cl],\n",
    "            duration= 30,\n",
    "            precedents = precedents,\n",
    "            reservoir = [\n",
    "                (cl, -1)\n",
    "            ]\n",
    "            )"
   ]
  },
  {
   "cell_type": "code",
   "execution_count": 246,
   "metadata": {},
   "outputs": [],
   "source": [
    "def generate_tasks_for_sample(sample: Sample, start_time = 0):\n",
    "    tasks = []\n",
    "    tasks.append(StorageToSpincoater(\n",
    "        sample=sample,\n",
    "        precedents=[]))\n",
    "    tasks.append(Spincoat(\n",
    "        sample=sample, \n",
    "        recipe=sample.spincoat_recipe, \n",
    "        precedents=[\n",
    "            (tasks[-1], False) #(task, (bool)immediate)\n",
    "        ]))\n",
    "    tasks.append(SpincoaterToHotplate(\n",
    "        sample=sample,\n",
    "        precedents=[\n",
    "            (tasks[-1], True)\n",
    "        ]))\n",
    "    tasks.append(Anneal(\n",
    "        sample=sample,\n",
    "        recipe = sample.anneal_recipe,\n",
    "        precedents=[\n",
    "            (tasks[-1], True)\n",
    "        ]))    \n",
    "    tasks.append(HotplateToStorage(\n",
    "        sample=sample, \n",
    "        precedents=[\n",
    "            (tasks[-1], True)\n",
    "        ]))    \n",
    "    tasks.append(Cooldown(\n",
    "        sample=sample,\n",
    "        precedents=[\n",
    "                (tasks[-1], True)\n",
    "            ]))    \n",
    "    tasks.append(StorageToCharacterization(\n",
    "        sample=sample,\n",
    "        precedents=[\n",
    "            (tasks[-1], False)\n",
    "        ]))    \n",
    "    tasks.append(Characterize(\n",
    "        sample=sample,\n",
    "        precedents=[\n",
    "            (tasks[-1], False)\n",
    "        ]))    \n",
    "    tasks.append(CharacterizationToStorage(\n",
    "        sample=sample,\n",
    "        precedents=[\n",
    "            (tasks[-1], False)\n",
    "        ]))    \n",
    "    return tasks"
   ]
  },
  {
   "cell_type": "code",
   "execution_count": 247,
   "metadata": {},
   "outputs": [],
   "source": [
    "tasks = collections.OrderedDict({s:generate_tasks_for_sample(s) for s in samples})"
   ]
  },
  {
   "cell_type": "code",
   "execution_count": 248,
   "metadata": {},
   "outputs": [],
   "source": [
    "from ortools.sat.python import cp_model\n",
    "\n",
    "class Scheduler:\n",
    "    def __init__(self, workers, tasks, spanning_tasks = []):\n",
    "        self.workers = workers\n",
    "        self.tasks = tasks\n",
    "        self.tasklist = [t\n",
    "            for sample_tasks in tasks.values()\n",
    "            for t in sample_tasks]\n",
    "        self.horizon = int(sum([\n",
    "            t.duration for t in self.tasklist]))\n",
    "        self.spanning_tasks = spanning_tasks\n",
    "        self.initialize_model()\n",
    "\n",
    "    def initialize_model(self):\n",
    "        self.model = cp_model.CpModel()\n",
    "        ending_variables = []\n",
    "        machine_intervals = {w:[] for w in self.workers}\n",
    "        reservoirs = {}\n",
    "        ### Task Constraints\n",
    "        for task in self.tasklist:\n",
    "            task.end_var = self.model.NewIntVar(task.duration, self.horizon, \"end\"+str(task))\n",
    "            ending_variables.append(task.end_var)\n",
    "\n",
    "        for task in self.tasklist:\n",
    "            ## connect to preceding tasks\n",
    "            immediate_precedent = [precedent for precedent, immediate in task.precedents if immediate] #list of immediate precedents  \n",
    "            if len(immediate_precedent) == 0:\n",
    "                task.start_var = self.model.NewIntVar(0, self.horizon, \"start\"+str(task))\n",
    "            else:\n",
    "                precedent = immediate_precedent[0]\n",
    "                task.start_var = precedent.end_var\n",
    "\n",
    "            for precedent, immediate in task.precedents:\n",
    "                if not immediate:\n",
    "                    self.model.Add(task.start_var >= precedent.end_var)\n",
    "            \n",
    "            ## mark workers as occupied during this task\n",
    "            interval_var = self.model.NewIntervalVar(task.start_var, task.duration, task.end_var, \"interval\"+str(task))\n",
    "            for w in task.workers:\n",
    "                machine_intervals[w].append(interval_var)\n",
    "        \n",
    "        ### Force sequential tasks to preserve order even if not immediate\n",
    "        spanning_tasks = {c:[] for c in self.spanning_tasks} \n",
    "        for sample, tasks in self.tasks.items():\n",
    "            for start_class, end_class in spanning_tasks:\n",
    "                start_var = [t for t in tasks if t.__class__ == start_class][0].start_var\n",
    "                end_var = [t for t in tasks if t.__class__ == end_class][0].end_var\n",
    "\n",
    "                duration = self.model.NewIntVar(0, self.horizon, 'duration')\n",
    "                interval = self.model.NewIntervalVar(start_var, duration, end_var, 'sampleinterval')\n",
    "                spanning_tasks[(start_class, end_class)].append(interval)\n",
    "        for intervals in spanning_tasks.values():\n",
    "            self.model.AddNoOverlap(intervals)\n",
    "\n",
    "        ### Worker Constraints\n",
    "        for w in workers:\n",
    "            intervals = machine_intervals[w]\n",
    "            if w.capacity > 1:\n",
    "                demands = [1 for _ in machine_intervals[w]]\n",
    "                self.model.AddCumulative(intervals, demands, w.capacity)\n",
    "            else:\n",
    "                self.model.AddNoOverlap(intervals)\n",
    "        for w, r in reservoirs.items():\n",
    "            self.modelAddReservoirConstraint(r['times'], r['demands'], 0, w.capacity)\n",
    "        objective_var = self.model.NewIntVar(0,self.horizon, 'makespan')\n",
    "        self.model.AddMaxEquality(objective_var, ending_variables)\n",
    "        self.model.Minimize(objective_var)\n",
    "\n",
    "    def solve(self, solve_time = 5):\n",
    "        self.solver = cp_model.CpSolver()\n",
    "        self.solver.parameters.max_time_in_seconds = solve_time\n",
    "        status = self.solver.Solve(self.model)\n",
    "\n",
    "    # def _set_start_time(self, task):\n",
    "    #     for pid in task.precedents:\n",
    "    #         ptidx = self.tasks.index(pid)\n",
    "    #         pt = self.tasks[ptidx]\n",
    "    #         if pt.end_time < task.start_time:\n",
    "    #             task.start_time = pt.end_time\n",
    "\n"
   ]
  },
  {
   "cell_type": "code",
   "execution_count": 249,
   "metadata": {},
   "outputs": [],
   "source": [
    "scheduler = Scheduler(\n",
    "    workers=workers,\n",
    "    tasks=tasks,\n",
    "    spanning_tasks = [\n",
    "        (StorageToSpincoater, SpincoaterToHotplate),\n",
    "        (StorageToCharacterization, CharacterizationToStorage),\n",
    "    ] #these tasks spanning each pair must be done in sequence per sample\n",
    ")"
   ]
  },
  {
   "cell_type": "code",
   "execution_count": 250,
   "metadata": {},
   "outputs": [],
   "source": [
    "scheduler.solve(5)"
   ]
  },
  {
   "cell_type": "code",
   "execution_count": 251,
   "metadata": {},
   "outputs": [
    {
     "output_type": "execute_result",
     "data": {
      "text/plain": [
       "Text(0.5, 0, 'Time (minutes)')"
      ]
     },
     "metadata": {},
     "execution_count": 251
    },
    {
     "output_type": "display_data",
     "data": {
      "text/plain": "<Figure size 1008x360 with 1 Axes>",
      "image/svg+xml": "<?xml version=\"1.0\" encoding=\"utf-8\" standalone=\"no\"?>\n<!DOCTYPE svg PUBLIC \"-//W3C//DTD SVG 1.1//EN\"\n  \"http://www.w3.org/Graphics/SVG/1.1/DTD/svg11.dtd\">\n<!-- Created with matplotlib (https://matplotlib.org/) -->\n<svg height=\"316.55625pt\" version=\"1.1\" viewBox=\"0 0 922.9875 316.55625\" width=\"922.9875pt\" xmlns=\"http://www.w3.org/2000/svg\" xmlns:xlink=\"http://www.w3.org/1999/xlink\">\n <metadata>\n  <rdf:RDF xmlns:cc=\"http://creativecommons.org/ns#\" xmlns:dc=\"http://purl.org/dc/elements/1.1/\" xmlns:rdf=\"http://www.w3.org/1999/02/22-rdf-syntax-ns#\">\n   <cc:Work>\n    <dc:type rdf:resource=\"http://purl.org/dc/dcmitype/StillImage\"/>\n    <dc:date>2021-07-22T12:43:24.186311</dc:date>\n    <dc:format>image/svg+xml</dc:format>\n    <dc:creator>\n     <cc:Agent>\n      <dc:title>Matplotlib v3.3.4, https://matplotlib.org/</dc:title>\n     </cc:Agent>\n    </dc:creator>\n   </cc:Work>\n  </rdf:RDF>\n </metadata>\n <defs>\n  <style type=\"text/css\">*{stroke-linecap:butt;stroke-linejoin:round;}</style>\n </defs>\n <g id=\"figure_1\">\n  <g id=\"patch_1\">\n   <path d=\"M 0 316.55625 \nL 922.9875 316.55625 \nL 922.9875 0 \nL 0 0 \nz\n\" style=\"fill:none;\"/>\n  </g>\n  <g id=\"axes_1\">\n   <g id=\"patch_2\">\n    <path d=\"M 134.5875 279 \nL 915.7875 279 \nL 915.7875 7.2 \nL 134.5875 7.2 \nz\n\" style=\"fill:#ffffff;\"/>\n   </g>\n   <g id=\"matplotlib.axis_1\">\n    <g id=\"xtick_1\">\n     <g id=\"line2d_1\">\n      <defs>\n       <path d=\"M 0 0 \nL 0 3.5 \n\" id=\"m8cd742964c\" style=\"stroke:#000000;stroke-width:0.8;\"/>\n      </defs>\n      <g>\n       <use style=\"stroke:#000000;stroke-width:0.8;\" x=\"170.096591\" xlink:href=\"#m8cd742964c\" y=\"279\"/>\n      </g>\n     </g>\n     <g id=\"text_1\">\n      <!-- 0 -->\n      <g transform=\"translate(166.915341 293.598437)scale(0.1 -0.1)\">\n       <defs>\n        <path d=\"M 31.78125 66.40625 \nQ 24.171875 66.40625 20.328125 58.90625 \nQ 16.5 51.421875 16.5 36.375 \nQ 16.5 21.390625 20.328125 13.890625 \nQ 24.171875 6.390625 31.78125 6.390625 \nQ 39.453125 6.390625 43.28125 13.890625 \nQ 47.125 21.390625 47.125 36.375 \nQ 47.125 51.421875 43.28125 58.90625 \nQ 39.453125 66.40625 31.78125 66.40625 \nz\nM 31.78125 74.21875 \nQ 44.046875 74.21875 50.515625 64.515625 \nQ 56.984375 54.828125 56.984375 36.375 \nQ 56.984375 17.96875 50.515625 8.265625 \nQ 44.046875 -1.421875 31.78125 -1.421875 \nQ 19.53125 -1.421875 13.0625 8.265625 \nQ 6.59375 17.96875 6.59375 36.375 \nQ 6.59375 54.828125 13.0625 64.515625 \nQ 19.53125 74.21875 31.78125 74.21875 \nz\n\" id=\"DejaVuSans-48\"/>\n       </defs>\n       <use xlink:href=\"#DejaVuSans-48\"/>\n      </g>\n     </g>\n    </g>\n    <g id=\"xtick_2\">\n     <g id=\"line2d_2\">\n      <g>\n       <use style=\"stroke:#000000;stroke-width:0.8;\" x=\"266.719968\" xlink:href=\"#m8cd742964c\" y=\"279\"/>\n      </g>\n     </g>\n     <g id=\"text_2\">\n      <!-- 20 -->\n      <g transform=\"translate(260.357468 293.598437)scale(0.1 -0.1)\">\n       <defs>\n        <path d=\"M 19.1875 8.296875 \nL 53.609375 8.296875 \nL 53.609375 0 \nL 7.328125 0 \nL 7.328125 8.296875 \nQ 12.9375 14.109375 22.625 23.890625 \nQ 32.328125 33.6875 34.8125 36.53125 \nQ 39.546875 41.84375 41.421875 45.53125 \nQ 43.3125 49.21875 43.3125 52.78125 \nQ 43.3125 58.59375 39.234375 62.25 \nQ 35.15625 65.921875 28.609375 65.921875 \nQ 23.96875 65.921875 18.8125 64.3125 \nQ 13.671875 62.703125 7.8125 59.421875 \nL 7.8125 69.390625 \nQ 13.765625 71.78125 18.9375 73 \nQ 24.125 74.21875 28.421875 74.21875 \nQ 39.75 74.21875 46.484375 68.546875 \nQ 53.21875 62.890625 53.21875 53.421875 \nQ 53.21875 48.921875 51.53125 44.890625 \nQ 49.859375 40.875 45.40625 35.40625 \nQ 44.1875 33.984375 37.640625 27.21875 \nQ 31.109375 20.453125 19.1875 8.296875 \nz\n\" id=\"DejaVuSans-50\"/>\n       </defs>\n       <use xlink:href=\"#DejaVuSans-50\"/>\n       <use x=\"63.623047\" xlink:href=\"#DejaVuSans-48\"/>\n      </g>\n     </g>\n    </g>\n    <g id=\"xtick_3\">\n     <g id=\"line2d_3\">\n      <g>\n       <use style=\"stroke:#000000;stroke-width:0.8;\" x=\"363.343344\" xlink:href=\"#m8cd742964c\" y=\"279\"/>\n      </g>\n     </g>\n     <g id=\"text_3\">\n      <!-- 40 -->\n      <g transform=\"translate(356.980844 293.598437)scale(0.1 -0.1)\">\n       <defs>\n        <path d=\"M 37.796875 64.3125 \nL 12.890625 25.390625 \nL 37.796875 25.390625 \nz\nM 35.203125 72.90625 \nL 47.609375 72.90625 \nL 47.609375 25.390625 \nL 58.015625 25.390625 \nL 58.015625 17.1875 \nL 47.609375 17.1875 \nL 47.609375 0 \nL 37.796875 0 \nL 37.796875 17.1875 \nL 4.890625 17.1875 \nL 4.890625 26.703125 \nz\n\" id=\"DejaVuSans-52\"/>\n       </defs>\n       <use xlink:href=\"#DejaVuSans-52\"/>\n       <use x=\"63.623047\" xlink:href=\"#DejaVuSans-48\"/>\n      </g>\n     </g>\n    </g>\n    <g id=\"xtick_4\">\n     <g id=\"line2d_4\">\n      <g>\n       <use style=\"stroke:#000000;stroke-width:0.8;\" x=\"459.966721\" xlink:href=\"#m8cd742964c\" y=\"279\"/>\n      </g>\n     </g>\n     <g id=\"text_4\">\n      <!-- 60 -->\n      <g transform=\"translate(453.604221 293.598437)scale(0.1 -0.1)\">\n       <defs>\n        <path d=\"M 33.015625 40.375 \nQ 26.375 40.375 22.484375 35.828125 \nQ 18.609375 31.296875 18.609375 23.390625 \nQ 18.609375 15.53125 22.484375 10.953125 \nQ 26.375 6.390625 33.015625 6.390625 \nQ 39.65625 6.390625 43.53125 10.953125 \nQ 47.40625 15.53125 47.40625 23.390625 \nQ 47.40625 31.296875 43.53125 35.828125 \nQ 39.65625 40.375 33.015625 40.375 \nz\nM 52.59375 71.296875 \nL 52.59375 62.3125 \nQ 48.875 64.0625 45.09375 64.984375 \nQ 41.3125 65.921875 37.59375 65.921875 \nQ 27.828125 65.921875 22.671875 59.328125 \nQ 17.53125 52.734375 16.796875 39.40625 \nQ 19.671875 43.65625 24.015625 45.921875 \nQ 28.375 48.1875 33.59375 48.1875 \nQ 44.578125 48.1875 50.953125 41.515625 \nQ 57.328125 34.859375 57.328125 23.390625 \nQ 57.328125 12.15625 50.6875 5.359375 \nQ 44.046875 -1.421875 33.015625 -1.421875 \nQ 20.359375 -1.421875 13.671875 8.265625 \nQ 6.984375 17.96875 6.984375 36.375 \nQ 6.984375 53.65625 15.1875 63.9375 \nQ 23.390625 74.21875 37.203125 74.21875 \nQ 40.921875 74.21875 44.703125 73.484375 \nQ 48.484375 72.75 52.59375 71.296875 \nz\n\" id=\"DejaVuSans-54\"/>\n       </defs>\n       <use xlink:href=\"#DejaVuSans-54\"/>\n       <use x=\"63.623047\" xlink:href=\"#DejaVuSans-48\"/>\n      </g>\n     </g>\n    </g>\n    <g id=\"xtick_5\">\n     <g id=\"line2d_5\">\n      <g>\n       <use style=\"stroke:#000000;stroke-width:0.8;\" x=\"556.590097\" xlink:href=\"#m8cd742964c\" y=\"279\"/>\n      </g>\n     </g>\n     <g id=\"text_5\">\n      <!-- 80 -->\n      <g transform=\"translate(550.227597 293.598437)scale(0.1 -0.1)\">\n       <defs>\n        <path d=\"M 31.78125 34.625 \nQ 24.75 34.625 20.71875 30.859375 \nQ 16.703125 27.09375 16.703125 20.515625 \nQ 16.703125 13.921875 20.71875 10.15625 \nQ 24.75 6.390625 31.78125 6.390625 \nQ 38.8125 6.390625 42.859375 10.171875 \nQ 46.921875 13.96875 46.921875 20.515625 \nQ 46.921875 27.09375 42.890625 30.859375 \nQ 38.875 34.625 31.78125 34.625 \nz\nM 21.921875 38.8125 \nQ 15.578125 40.375 12.03125 44.71875 \nQ 8.5 49.078125 8.5 55.328125 \nQ 8.5 64.0625 14.71875 69.140625 \nQ 20.953125 74.21875 31.78125 74.21875 \nQ 42.671875 74.21875 48.875 69.140625 \nQ 55.078125 64.0625 55.078125 55.328125 \nQ 55.078125 49.078125 51.53125 44.71875 \nQ 48 40.375 41.703125 38.8125 \nQ 48.828125 37.15625 52.796875 32.3125 \nQ 56.78125 27.484375 56.78125 20.515625 \nQ 56.78125 9.90625 50.3125 4.234375 \nQ 43.84375 -1.421875 31.78125 -1.421875 \nQ 19.734375 -1.421875 13.25 4.234375 \nQ 6.78125 9.90625 6.78125 20.515625 \nQ 6.78125 27.484375 10.78125 32.3125 \nQ 14.796875 37.15625 21.921875 38.8125 \nz\nM 18.3125 54.390625 \nQ 18.3125 48.734375 21.84375 45.5625 \nQ 25.390625 42.390625 31.78125 42.390625 \nQ 38.140625 42.390625 41.71875 45.5625 \nQ 45.3125 48.734375 45.3125 54.390625 \nQ 45.3125 60.0625 41.71875 63.234375 \nQ 38.140625 66.40625 31.78125 66.40625 \nQ 25.390625 66.40625 21.84375 63.234375 \nQ 18.3125 60.0625 18.3125 54.390625 \nz\n\" id=\"DejaVuSans-56\"/>\n       </defs>\n       <use xlink:href=\"#DejaVuSans-56\"/>\n       <use x=\"63.623047\" xlink:href=\"#DejaVuSans-48\"/>\n      </g>\n     </g>\n    </g>\n    <g id=\"xtick_6\">\n     <g id=\"line2d_6\">\n      <g>\n       <use style=\"stroke:#000000;stroke-width:0.8;\" x=\"653.213474\" xlink:href=\"#m8cd742964c\" y=\"279\"/>\n      </g>\n     </g>\n     <g id=\"text_6\">\n      <!-- 100 -->\n      <g transform=\"translate(643.669724 293.598437)scale(0.1 -0.1)\">\n       <defs>\n        <path d=\"M 12.40625 8.296875 \nL 28.515625 8.296875 \nL 28.515625 63.921875 \nL 10.984375 60.40625 \nL 10.984375 69.390625 \nL 28.421875 72.90625 \nL 38.28125 72.90625 \nL 38.28125 8.296875 \nL 54.390625 8.296875 \nL 54.390625 0 \nL 12.40625 0 \nz\n\" id=\"DejaVuSans-49\"/>\n       </defs>\n       <use xlink:href=\"#DejaVuSans-49\"/>\n       <use x=\"63.623047\" xlink:href=\"#DejaVuSans-48\"/>\n       <use x=\"127.246094\" xlink:href=\"#DejaVuSans-48\"/>\n      </g>\n     </g>\n    </g>\n    <g id=\"xtick_7\">\n     <g id=\"line2d_7\">\n      <g>\n       <use style=\"stroke:#000000;stroke-width:0.8;\" x=\"749.836851\" xlink:href=\"#m8cd742964c\" y=\"279\"/>\n      </g>\n     </g>\n     <g id=\"text_7\">\n      <!-- 120 -->\n      <g transform=\"translate(740.293101 293.598437)scale(0.1 -0.1)\">\n       <use xlink:href=\"#DejaVuSans-49\"/>\n       <use x=\"63.623047\" xlink:href=\"#DejaVuSans-50\"/>\n       <use x=\"127.246094\" xlink:href=\"#DejaVuSans-48\"/>\n      </g>\n     </g>\n    </g>\n    <g id=\"xtick_8\">\n     <g id=\"line2d_8\">\n      <g>\n       <use style=\"stroke:#000000;stroke-width:0.8;\" x=\"846.460227\" xlink:href=\"#m8cd742964c\" y=\"279\"/>\n      </g>\n     </g>\n     <g id=\"text_8\">\n      <!-- 140 -->\n      <g transform=\"translate(836.916477 293.598437)scale(0.1 -0.1)\">\n       <use xlink:href=\"#DejaVuSans-49\"/>\n       <use x=\"63.623047\" xlink:href=\"#DejaVuSans-52\"/>\n       <use x=\"127.246094\" xlink:href=\"#DejaVuSans-48\"/>\n      </g>\n     </g>\n    </g>\n    <g id=\"text_9\">\n     <!-- Time (minutes) -->\n     <g transform=\"translate(487.225 307.276562)scale(0.1 -0.1)\">\n      <defs>\n       <path d=\"M -0.296875 72.90625 \nL 61.375 72.90625 \nL 61.375 64.59375 \nL 35.5 64.59375 \nL 35.5 0 \nL 25.59375 0 \nL 25.59375 64.59375 \nL -0.296875 64.59375 \nz\n\" id=\"DejaVuSans-84\"/>\n       <path d=\"M 9.421875 54.6875 \nL 18.40625 54.6875 \nL 18.40625 0 \nL 9.421875 0 \nz\nM 9.421875 75.984375 \nL 18.40625 75.984375 \nL 18.40625 64.59375 \nL 9.421875 64.59375 \nz\n\" id=\"DejaVuSans-105\"/>\n       <path d=\"M 52 44.1875 \nQ 55.375 50.25 60.0625 53.125 \nQ 64.75 56 71.09375 56 \nQ 79.640625 56 84.28125 50.015625 \nQ 88.921875 44.046875 88.921875 33.015625 \nL 88.921875 0 \nL 79.890625 0 \nL 79.890625 32.71875 \nQ 79.890625 40.578125 77.09375 44.375 \nQ 74.3125 48.1875 68.609375 48.1875 \nQ 61.625 48.1875 57.5625 43.546875 \nQ 53.515625 38.921875 53.515625 30.90625 \nL 53.515625 0 \nL 44.484375 0 \nL 44.484375 32.71875 \nQ 44.484375 40.625 41.703125 44.40625 \nQ 38.921875 48.1875 33.109375 48.1875 \nQ 26.21875 48.1875 22.15625 43.53125 \nQ 18.109375 38.875 18.109375 30.90625 \nL 18.109375 0 \nL 9.078125 0 \nL 9.078125 54.6875 \nL 18.109375 54.6875 \nL 18.109375 46.1875 \nQ 21.1875 51.21875 25.484375 53.609375 \nQ 29.78125 56 35.6875 56 \nQ 41.65625 56 45.828125 52.96875 \nQ 50 49.953125 52 44.1875 \nz\n\" id=\"DejaVuSans-109\"/>\n       <path d=\"M 56.203125 29.59375 \nL 56.203125 25.203125 \nL 14.890625 25.203125 \nQ 15.484375 15.921875 20.484375 11.0625 \nQ 25.484375 6.203125 34.421875 6.203125 \nQ 39.59375 6.203125 44.453125 7.46875 \nQ 49.3125 8.734375 54.109375 11.28125 \nL 54.109375 2.78125 \nQ 49.265625 0.734375 44.1875 -0.34375 \nQ 39.109375 -1.421875 33.890625 -1.421875 \nQ 20.796875 -1.421875 13.15625 6.1875 \nQ 5.515625 13.8125 5.515625 26.8125 \nQ 5.515625 40.234375 12.765625 48.109375 \nQ 20.015625 56 32.328125 56 \nQ 43.359375 56 49.78125 48.890625 \nQ 56.203125 41.796875 56.203125 29.59375 \nz\nM 47.21875 32.234375 \nQ 47.125 39.59375 43.09375 43.984375 \nQ 39.0625 48.390625 32.421875 48.390625 \nQ 24.90625 48.390625 20.390625 44.140625 \nQ 15.875 39.890625 15.1875 32.171875 \nz\n\" id=\"DejaVuSans-101\"/>\n       <path id=\"DejaVuSans-32\"/>\n       <path d=\"M 31 75.875 \nQ 24.46875 64.65625 21.28125 53.65625 \nQ 18.109375 42.671875 18.109375 31.390625 \nQ 18.109375 20.125 21.3125 9.0625 \nQ 24.515625 -2 31 -13.1875 \nL 23.1875 -13.1875 \nQ 15.875 -1.703125 12.234375 9.375 \nQ 8.59375 20.453125 8.59375 31.390625 \nQ 8.59375 42.28125 12.203125 53.3125 \nQ 15.828125 64.359375 23.1875 75.875 \nz\n\" id=\"DejaVuSans-40\"/>\n       <path d=\"M 54.890625 33.015625 \nL 54.890625 0 \nL 45.90625 0 \nL 45.90625 32.71875 \nQ 45.90625 40.484375 42.875 44.328125 \nQ 39.84375 48.1875 33.796875 48.1875 \nQ 26.515625 48.1875 22.3125 43.546875 \nQ 18.109375 38.921875 18.109375 30.90625 \nL 18.109375 0 \nL 9.078125 0 \nL 9.078125 54.6875 \nL 18.109375 54.6875 \nL 18.109375 46.1875 \nQ 21.34375 51.125 25.703125 53.5625 \nQ 30.078125 56 35.796875 56 \nQ 45.21875 56 50.046875 50.171875 \nQ 54.890625 44.34375 54.890625 33.015625 \nz\n\" id=\"DejaVuSans-110\"/>\n       <path d=\"M 8.5 21.578125 \nL 8.5 54.6875 \nL 17.484375 54.6875 \nL 17.484375 21.921875 \nQ 17.484375 14.15625 20.5 10.265625 \nQ 23.53125 6.390625 29.59375 6.390625 \nQ 36.859375 6.390625 41.078125 11.03125 \nQ 45.3125 15.671875 45.3125 23.6875 \nL 45.3125 54.6875 \nL 54.296875 54.6875 \nL 54.296875 0 \nL 45.3125 0 \nL 45.3125 8.40625 \nQ 42.046875 3.421875 37.71875 1 \nQ 33.40625 -1.421875 27.6875 -1.421875 \nQ 18.265625 -1.421875 13.375 4.4375 \nQ 8.5 10.296875 8.5 21.578125 \nz\nM 31.109375 56 \nz\n\" id=\"DejaVuSans-117\"/>\n       <path d=\"M 18.3125 70.21875 \nL 18.3125 54.6875 \nL 36.8125 54.6875 \nL 36.8125 47.703125 \nL 18.3125 47.703125 \nL 18.3125 18.015625 \nQ 18.3125 11.328125 20.140625 9.421875 \nQ 21.96875 7.515625 27.59375 7.515625 \nL 36.8125 7.515625 \nL 36.8125 0 \nL 27.59375 0 \nQ 17.1875 0 13.234375 3.875 \nQ 9.28125 7.765625 9.28125 18.015625 \nL 9.28125 47.703125 \nL 2.6875 47.703125 \nL 2.6875 54.6875 \nL 9.28125 54.6875 \nL 9.28125 70.21875 \nz\n\" id=\"DejaVuSans-116\"/>\n       <path d=\"M 44.28125 53.078125 \nL 44.28125 44.578125 \nQ 40.484375 46.53125 36.375 47.5 \nQ 32.28125 48.484375 27.875 48.484375 \nQ 21.1875 48.484375 17.84375 46.4375 \nQ 14.5 44.390625 14.5 40.28125 \nQ 14.5 37.15625 16.890625 35.375 \nQ 19.28125 33.59375 26.515625 31.984375 \nL 29.59375 31.296875 \nQ 39.15625 29.25 43.1875 25.515625 \nQ 47.21875 21.78125 47.21875 15.09375 \nQ 47.21875 7.46875 41.1875 3.015625 \nQ 35.15625 -1.421875 24.609375 -1.421875 \nQ 20.21875 -1.421875 15.453125 -0.5625 \nQ 10.6875 0.296875 5.421875 2 \nL 5.421875 11.28125 \nQ 10.40625 8.6875 15.234375 7.390625 \nQ 20.0625 6.109375 24.8125 6.109375 \nQ 31.15625 6.109375 34.5625 8.28125 \nQ 37.984375 10.453125 37.984375 14.40625 \nQ 37.984375 18.0625 35.515625 20.015625 \nQ 33.0625 21.96875 24.703125 23.78125 \nL 21.578125 24.515625 \nQ 13.234375 26.265625 9.515625 29.90625 \nQ 5.8125 33.546875 5.8125 39.890625 \nQ 5.8125 47.609375 11.28125 51.796875 \nQ 16.75 56 26.8125 56 \nQ 31.78125 56 36.171875 55.265625 \nQ 40.578125 54.546875 44.28125 53.078125 \nz\n\" id=\"DejaVuSans-115\"/>\n       <path d=\"M 8.015625 75.875 \nL 15.828125 75.875 \nQ 23.140625 64.359375 26.78125 53.3125 \nQ 30.421875 42.28125 30.421875 31.390625 \nQ 30.421875 20.453125 26.78125 9.375 \nQ 23.140625 -1.703125 15.828125 -13.1875 \nL 8.015625 -13.1875 \nQ 14.5 -2 17.703125 9.0625 \nQ 20.90625 20.125 20.90625 31.390625 \nQ 20.90625 42.671875 17.703125 53.65625 \nQ 14.5 64.65625 8.015625 75.875 \nz\n\" id=\"DejaVuSans-41\"/>\n      </defs>\n      <use xlink:href=\"#DejaVuSans-84\"/>\n      <use x=\"57.958984\" xlink:href=\"#DejaVuSans-105\"/>\n      <use x=\"85.742188\" xlink:href=\"#DejaVuSans-109\"/>\n      <use x=\"183.154297\" xlink:href=\"#DejaVuSans-101\"/>\n      <use x=\"244.677734\" xlink:href=\"#DejaVuSans-32\"/>\n      <use x=\"276.464844\" xlink:href=\"#DejaVuSans-40\"/>\n      <use x=\"315.478516\" xlink:href=\"#DejaVuSans-109\"/>\n      <use x=\"412.890625\" xlink:href=\"#DejaVuSans-105\"/>\n      <use x=\"440.673828\" xlink:href=\"#DejaVuSans-110\"/>\n      <use x=\"504.052734\" xlink:href=\"#DejaVuSans-117\"/>\n      <use x=\"567.431641\" xlink:href=\"#DejaVuSans-116\"/>\n      <use x=\"606.640625\" xlink:href=\"#DejaVuSans-101\"/>\n      <use x=\"668.164062\" xlink:href=\"#DejaVuSans-115\"/>\n      <use x=\"720.263672\" xlink:href=\"#DejaVuSans-41\"/>\n     </g>\n    </g>\n   </g>\n   <g id=\"matplotlib.axis_2\">\n    <g id=\"ytick_1\">\n     <g id=\"line2d_9\">\n      <defs>\n       <path d=\"M 0 0 \nL -3.5 0 \n\" id=\"m2e4bbbdc60\" style=\"stroke:#000000;stroke-width:0.8;\"/>\n      </defs>\n      <g>\n       <use style=\"stroke:#000000;stroke-width:0.8;\" x=\"134.5875\" xlink:href=\"#m2e4bbbdc60\" y=\"254.529653\"/>\n      </g>\n     </g>\n     <g id=\"text_10\">\n      <!-- gantry_gripper -->\n      <g transform=\"translate(53.625 258.328872)scale(0.1 -0.1)\">\n       <defs>\n        <path d=\"M 45.40625 27.984375 \nQ 45.40625 37.75 41.375 43.109375 \nQ 37.359375 48.484375 30.078125 48.484375 \nQ 22.859375 48.484375 18.828125 43.109375 \nQ 14.796875 37.75 14.796875 27.984375 \nQ 14.796875 18.265625 18.828125 12.890625 \nQ 22.859375 7.515625 30.078125 7.515625 \nQ 37.359375 7.515625 41.375 12.890625 \nQ 45.40625 18.265625 45.40625 27.984375 \nz\nM 54.390625 6.78125 \nQ 54.390625 -7.171875 48.1875 -13.984375 \nQ 42 -20.796875 29.203125 -20.796875 \nQ 24.46875 -20.796875 20.265625 -20.09375 \nQ 16.0625 -19.390625 12.109375 -17.921875 \nL 12.109375 -9.1875 \nQ 16.0625 -11.328125 19.921875 -12.34375 \nQ 23.78125 -13.375 27.78125 -13.375 \nQ 36.625 -13.375 41.015625 -8.765625 \nQ 45.40625 -4.15625 45.40625 5.171875 \nL 45.40625 9.625 \nQ 42.625 4.78125 38.28125 2.390625 \nQ 33.9375 0 27.875 0 \nQ 17.828125 0 11.671875 7.65625 \nQ 5.515625 15.328125 5.515625 27.984375 \nQ 5.515625 40.671875 11.671875 48.328125 \nQ 17.828125 56 27.875 56 \nQ 33.9375 56 38.28125 53.609375 \nQ 42.625 51.21875 45.40625 46.390625 \nL 45.40625 54.6875 \nL 54.390625 54.6875 \nz\n\" id=\"DejaVuSans-103\"/>\n        <path d=\"M 34.28125 27.484375 \nQ 23.390625 27.484375 19.1875 25 \nQ 14.984375 22.515625 14.984375 16.5 \nQ 14.984375 11.71875 18.140625 8.90625 \nQ 21.296875 6.109375 26.703125 6.109375 \nQ 34.1875 6.109375 38.703125 11.40625 \nQ 43.21875 16.703125 43.21875 25.484375 \nL 43.21875 27.484375 \nz\nM 52.203125 31.203125 \nL 52.203125 0 \nL 43.21875 0 \nL 43.21875 8.296875 \nQ 40.140625 3.328125 35.546875 0.953125 \nQ 30.953125 -1.421875 24.3125 -1.421875 \nQ 15.921875 -1.421875 10.953125 3.296875 \nQ 6 8.015625 6 15.921875 \nQ 6 25.140625 12.171875 29.828125 \nQ 18.359375 34.515625 30.609375 34.515625 \nL 43.21875 34.515625 \nL 43.21875 35.40625 \nQ 43.21875 41.609375 39.140625 45 \nQ 35.0625 48.390625 27.6875 48.390625 \nQ 23 48.390625 18.546875 47.265625 \nQ 14.109375 46.140625 10.015625 43.890625 \nL 10.015625 52.203125 \nQ 14.9375 54.109375 19.578125 55.046875 \nQ 24.21875 56 28.609375 56 \nQ 40.484375 56 46.34375 49.84375 \nQ 52.203125 43.703125 52.203125 31.203125 \nz\n\" id=\"DejaVuSans-97\"/>\n        <path d=\"M 41.109375 46.296875 \nQ 39.59375 47.171875 37.8125 47.578125 \nQ 36.03125 48 33.890625 48 \nQ 26.265625 48 22.1875 43.046875 \nQ 18.109375 38.09375 18.109375 28.8125 \nL 18.109375 0 \nL 9.078125 0 \nL 9.078125 54.6875 \nL 18.109375 54.6875 \nL 18.109375 46.1875 \nQ 20.953125 51.171875 25.484375 53.578125 \nQ 30.03125 56 36.53125 56 \nQ 37.453125 56 38.578125 55.875 \nQ 39.703125 55.765625 41.0625 55.515625 \nz\n\" id=\"DejaVuSans-114\"/>\n        <path d=\"M 32.171875 -5.078125 \nQ 28.375 -14.84375 24.75 -17.8125 \nQ 21.140625 -20.796875 15.09375 -20.796875 \nL 7.90625 -20.796875 \nL 7.90625 -13.28125 \nL 13.1875 -13.28125 \nQ 16.890625 -13.28125 18.9375 -11.515625 \nQ 21 -9.765625 23.484375 -3.21875 \nL 25.09375 0.875 \nL 2.984375 54.6875 \nL 12.5 54.6875 \nL 29.59375 11.921875 \nL 46.6875 54.6875 \nL 56.203125 54.6875 \nz\n\" id=\"DejaVuSans-121\"/>\n        <path d=\"M 50.984375 -16.609375 \nL 50.984375 -23.578125 \nL -0.984375 -23.578125 \nL -0.984375 -16.609375 \nz\n\" id=\"DejaVuSans-95\"/>\n        <path d=\"M 18.109375 8.203125 \nL 18.109375 -20.796875 \nL 9.078125 -20.796875 \nL 9.078125 54.6875 \nL 18.109375 54.6875 \nL 18.109375 46.390625 \nQ 20.953125 51.265625 25.265625 53.625 \nQ 29.59375 56 35.59375 56 \nQ 45.5625 56 51.78125 48.09375 \nQ 58.015625 40.1875 58.015625 27.296875 \nQ 58.015625 14.40625 51.78125 6.484375 \nQ 45.5625 -1.421875 35.59375 -1.421875 \nQ 29.59375 -1.421875 25.265625 0.953125 \nQ 20.953125 3.328125 18.109375 8.203125 \nz\nM 48.6875 27.296875 \nQ 48.6875 37.203125 44.609375 42.84375 \nQ 40.53125 48.484375 33.40625 48.484375 \nQ 26.265625 48.484375 22.1875 42.84375 \nQ 18.109375 37.203125 18.109375 27.296875 \nQ 18.109375 17.390625 22.1875 11.75 \nQ 26.265625 6.109375 33.40625 6.109375 \nQ 40.53125 6.109375 44.609375 11.75 \nQ 48.6875 17.390625 48.6875 27.296875 \nz\n\" id=\"DejaVuSans-112\"/>\n       </defs>\n       <use xlink:href=\"#DejaVuSans-103\"/>\n       <use x=\"63.476562\" xlink:href=\"#DejaVuSans-97\"/>\n       <use x=\"124.755859\" xlink:href=\"#DejaVuSans-110\"/>\n       <use x=\"188.134766\" xlink:href=\"#DejaVuSans-116\"/>\n       <use x=\"227.34375\" xlink:href=\"#DejaVuSans-114\"/>\n       <use x=\"268.457031\" xlink:href=\"#DejaVuSans-121\"/>\n       <use x=\"327.636719\" xlink:href=\"#DejaVuSans-95\"/>\n       <use x=\"377.636719\" xlink:href=\"#DejaVuSans-103\"/>\n       <use x=\"441.113281\" xlink:href=\"#DejaVuSans-114\"/>\n       <use x=\"482.226562\" xlink:href=\"#DejaVuSans-105\"/>\n       <use x=\"510.009766\" xlink:href=\"#DejaVuSans-112\"/>\n       <use x=\"573.486328\" xlink:href=\"#DejaVuSans-112\"/>\n       <use x=\"636.962891\" xlink:href=\"#DejaVuSans-101\"/>\n       <use x=\"698.486328\" xlink:href=\"#DejaVuSans-114\"/>\n      </g>\n     </g>\n    </g>\n    <g id=\"ytick_2\">\n     <g id=\"line2d_10\">\n      <g>\n       <use style=\"stroke:#000000;stroke-width:0.8;\" x=\"134.5875\" xlink:href=\"#m2e4bbbdc60\" y=\"198.918219\"/>\n      </g>\n     </g>\n     <g id=\"text_11\">\n      <!-- spincoater_liquidhander -->\n      <g transform=\"translate(7.2 202.717438)scale(0.1 -0.1)\">\n       <defs>\n        <path d=\"M 48.78125 52.59375 \nL 48.78125 44.1875 \nQ 44.96875 46.296875 41.140625 47.34375 \nQ 37.3125 48.390625 33.40625 48.390625 \nQ 24.65625 48.390625 19.8125 42.84375 \nQ 14.984375 37.3125 14.984375 27.296875 \nQ 14.984375 17.28125 19.8125 11.734375 \nQ 24.65625 6.203125 33.40625 6.203125 \nQ 37.3125 6.203125 41.140625 7.25 \nQ 44.96875 8.296875 48.78125 10.40625 \nL 48.78125 2.09375 \nQ 45.015625 0.34375 40.984375 -0.53125 \nQ 36.96875 -1.421875 32.421875 -1.421875 \nQ 20.0625 -1.421875 12.78125 6.34375 \nQ 5.515625 14.109375 5.515625 27.296875 \nQ 5.515625 40.671875 12.859375 48.328125 \nQ 20.21875 56 33.015625 56 \nQ 37.15625 56 41.109375 55.140625 \nQ 45.0625 54.296875 48.78125 52.59375 \nz\n\" id=\"DejaVuSans-99\"/>\n        <path d=\"M 30.609375 48.390625 \nQ 23.390625 48.390625 19.1875 42.75 \nQ 14.984375 37.109375 14.984375 27.296875 \nQ 14.984375 17.484375 19.15625 11.84375 \nQ 23.34375 6.203125 30.609375 6.203125 \nQ 37.796875 6.203125 41.984375 11.859375 \nQ 46.1875 17.53125 46.1875 27.296875 \nQ 46.1875 37.015625 41.984375 42.703125 \nQ 37.796875 48.390625 30.609375 48.390625 \nz\nM 30.609375 56 \nQ 42.328125 56 49.015625 48.375 \nQ 55.71875 40.765625 55.71875 27.296875 \nQ 55.71875 13.875 49.015625 6.21875 \nQ 42.328125 -1.421875 30.609375 -1.421875 \nQ 18.84375 -1.421875 12.171875 6.21875 \nQ 5.515625 13.875 5.515625 27.296875 \nQ 5.515625 40.765625 12.171875 48.375 \nQ 18.84375 56 30.609375 56 \nz\n\" id=\"DejaVuSans-111\"/>\n        <path d=\"M 9.421875 75.984375 \nL 18.40625 75.984375 \nL 18.40625 0 \nL 9.421875 0 \nz\n\" id=\"DejaVuSans-108\"/>\n        <path d=\"M 14.796875 27.296875 \nQ 14.796875 17.390625 18.875 11.75 \nQ 22.953125 6.109375 30.078125 6.109375 \nQ 37.203125 6.109375 41.296875 11.75 \nQ 45.40625 17.390625 45.40625 27.296875 \nQ 45.40625 37.203125 41.296875 42.84375 \nQ 37.203125 48.484375 30.078125 48.484375 \nQ 22.953125 48.484375 18.875 42.84375 \nQ 14.796875 37.203125 14.796875 27.296875 \nz\nM 45.40625 8.203125 \nQ 42.578125 3.328125 38.25 0.953125 \nQ 33.9375 -1.421875 27.875 -1.421875 \nQ 17.96875 -1.421875 11.734375 6.484375 \nQ 5.515625 14.40625 5.515625 27.296875 \nQ 5.515625 40.1875 11.734375 48.09375 \nQ 17.96875 56 27.875 56 \nQ 33.9375 56 38.25 53.625 \nQ 42.578125 51.265625 45.40625 46.390625 \nL 45.40625 54.6875 \nL 54.390625 54.6875 \nL 54.390625 -20.796875 \nL 45.40625 -20.796875 \nz\n\" id=\"DejaVuSans-113\"/>\n        <path d=\"M 45.40625 46.390625 \nL 45.40625 75.984375 \nL 54.390625 75.984375 \nL 54.390625 0 \nL 45.40625 0 \nL 45.40625 8.203125 \nQ 42.578125 3.328125 38.25 0.953125 \nQ 33.9375 -1.421875 27.875 -1.421875 \nQ 17.96875 -1.421875 11.734375 6.484375 \nQ 5.515625 14.40625 5.515625 27.296875 \nQ 5.515625 40.1875 11.734375 48.09375 \nQ 17.96875 56 27.875 56 \nQ 33.9375 56 38.25 53.625 \nQ 42.578125 51.265625 45.40625 46.390625 \nz\nM 14.796875 27.296875 \nQ 14.796875 17.390625 18.875 11.75 \nQ 22.953125 6.109375 30.078125 6.109375 \nQ 37.203125 6.109375 41.296875 11.75 \nQ 45.40625 17.390625 45.40625 27.296875 \nQ 45.40625 37.203125 41.296875 42.84375 \nQ 37.203125 48.484375 30.078125 48.484375 \nQ 22.953125 48.484375 18.875 42.84375 \nQ 14.796875 37.203125 14.796875 27.296875 \nz\n\" id=\"DejaVuSans-100\"/>\n        <path d=\"M 54.890625 33.015625 \nL 54.890625 0 \nL 45.90625 0 \nL 45.90625 32.71875 \nQ 45.90625 40.484375 42.875 44.328125 \nQ 39.84375 48.1875 33.796875 48.1875 \nQ 26.515625 48.1875 22.3125 43.546875 \nQ 18.109375 38.921875 18.109375 30.90625 \nL 18.109375 0 \nL 9.078125 0 \nL 9.078125 75.984375 \nL 18.109375 75.984375 \nL 18.109375 46.1875 \nQ 21.34375 51.125 25.703125 53.5625 \nQ 30.078125 56 35.796875 56 \nQ 45.21875 56 50.046875 50.171875 \nQ 54.890625 44.34375 54.890625 33.015625 \nz\n\" id=\"DejaVuSans-104\"/>\n       </defs>\n       <use xlink:href=\"#DejaVuSans-115\"/>\n       <use x=\"52.099609\" xlink:href=\"#DejaVuSans-112\"/>\n       <use x=\"115.576172\" xlink:href=\"#DejaVuSans-105\"/>\n       <use x=\"143.359375\" xlink:href=\"#DejaVuSans-110\"/>\n       <use x=\"206.738281\" xlink:href=\"#DejaVuSans-99\"/>\n       <use x=\"261.71875\" xlink:href=\"#DejaVuSans-111\"/>\n       <use x=\"322.900391\" xlink:href=\"#DejaVuSans-97\"/>\n       <use x=\"384.179688\" xlink:href=\"#DejaVuSans-116\"/>\n       <use x=\"423.388672\" xlink:href=\"#DejaVuSans-101\"/>\n       <use x=\"484.912109\" xlink:href=\"#DejaVuSans-114\"/>\n       <use x=\"526.025391\" xlink:href=\"#DejaVuSans-95\"/>\n       <use x=\"576.025391\" xlink:href=\"#DejaVuSans-108\"/>\n       <use x=\"603.808594\" xlink:href=\"#DejaVuSans-105\"/>\n       <use x=\"631.591797\" xlink:href=\"#DejaVuSans-113\"/>\n       <use x=\"695.068359\" xlink:href=\"#DejaVuSans-117\"/>\n       <use x=\"758.447266\" xlink:href=\"#DejaVuSans-105\"/>\n       <use x=\"786.230469\" xlink:href=\"#DejaVuSans-100\"/>\n       <use x=\"849.707031\" xlink:href=\"#DejaVuSans-104\"/>\n       <use x=\"913.085938\" xlink:href=\"#DejaVuSans-97\"/>\n       <use x=\"974.365234\" xlink:href=\"#DejaVuSans-110\"/>\n       <use x=\"1037.744141\" xlink:href=\"#DejaVuSans-100\"/>\n       <use x=\"1101.220703\" xlink:href=\"#DejaVuSans-101\"/>\n       <use x=\"1162.744141\" xlink:href=\"#DejaVuSans-114\"/>\n      </g>\n     </g>\n    </g>\n    <g id=\"ytick_3\">\n     <g id=\"line2d_11\">\n      <g>\n       <use style=\"stroke:#000000;stroke-width:0.8;\" x=\"134.5875\" xlink:href=\"#m2e4bbbdc60\" y=\"143.306785\"/>\n      </g>\n     </g>\n     <g id=\"text_12\">\n      <!-- hotplate -->\n      <g transform=\"translate(85.882812 147.106004)scale(0.1 -0.1)\">\n       <use xlink:href=\"#DejaVuSans-104\"/>\n       <use x=\"63.378906\" xlink:href=\"#DejaVuSans-111\"/>\n       <use x=\"124.560547\" xlink:href=\"#DejaVuSans-116\"/>\n       <use x=\"163.769531\" xlink:href=\"#DejaVuSans-112\"/>\n       <use x=\"227.246094\" xlink:href=\"#DejaVuSans-108\"/>\n       <use x=\"255.029297\" xlink:href=\"#DejaVuSans-97\"/>\n       <use x=\"316.308594\" xlink:href=\"#DejaVuSans-116\"/>\n       <use x=\"355.517578\" xlink:href=\"#DejaVuSans-101\"/>\n      </g>\n     </g>\n    </g>\n    <g id=\"ytick_4\">\n     <g id=\"line2d_12\">\n      <g>\n       <use style=\"stroke:#000000;stroke-width:0.8;\" x=\"134.5875\" xlink:href=\"#m2e4bbbdc60\" y=\"87.695351\"/>\n      </g>\n     </g>\n     <g id=\"text_13\">\n      <!-- storage -->\n      <g transform=\"translate(89.598438 91.49457)scale(0.1 -0.1)\">\n       <use xlink:href=\"#DejaVuSans-115\"/>\n       <use x=\"52.099609\" xlink:href=\"#DejaVuSans-116\"/>\n       <use x=\"91.308594\" xlink:href=\"#DejaVuSans-111\"/>\n       <use x=\"152.490234\" xlink:href=\"#DejaVuSans-114\"/>\n       <use x=\"193.603516\" xlink:href=\"#DejaVuSans-97\"/>\n       <use x=\"254.882812\" xlink:href=\"#DejaVuSans-103\"/>\n       <use x=\"318.359375\" xlink:href=\"#DejaVuSans-101\"/>\n      </g>\n     </g>\n    </g>\n    <g id=\"ytick_5\">\n     <g id=\"line2d_13\">\n      <g>\n       <use style=\"stroke:#000000;stroke-width:0.8;\" x=\"134.5875\" xlink:href=\"#m2e4bbbdc60\" y=\"32.083917\"/>\n      </g>\n     </g>\n     <g id=\"text_14\">\n      <!-- characterizationline -->\n      <g transform=\"translate(28.345313 35.883136)scale(0.1 -0.1)\">\n       <defs>\n        <path d=\"M 5.515625 54.6875 \nL 48.1875 54.6875 \nL 48.1875 46.484375 \nL 14.40625 7.171875 \nL 48.1875 7.171875 \nL 48.1875 0 \nL 4.296875 0 \nL 4.296875 8.203125 \nL 38.09375 47.515625 \nL 5.515625 47.515625 \nz\n\" id=\"DejaVuSans-122\"/>\n       </defs>\n       <use xlink:href=\"#DejaVuSans-99\"/>\n       <use x=\"54.980469\" xlink:href=\"#DejaVuSans-104\"/>\n       <use x=\"118.359375\" xlink:href=\"#DejaVuSans-97\"/>\n       <use x=\"179.638672\" xlink:href=\"#DejaVuSans-114\"/>\n       <use x=\"220.751953\" xlink:href=\"#DejaVuSans-97\"/>\n       <use x=\"282.03125\" xlink:href=\"#DejaVuSans-99\"/>\n       <use x=\"337.011719\" xlink:href=\"#DejaVuSans-116\"/>\n       <use x=\"376.220703\" xlink:href=\"#DejaVuSans-101\"/>\n       <use x=\"437.744141\" xlink:href=\"#DejaVuSans-114\"/>\n       <use x=\"478.857422\" xlink:href=\"#DejaVuSans-105\"/>\n       <use x=\"506.640625\" xlink:href=\"#DejaVuSans-122\"/>\n       <use x=\"559.130859\" xlink:href=\"#DejaVuSans-97\"/>\n       <use x=\"620.410156\" xlink:href=\"#DejaVuSans-116\"/>\n       <use x=\"659.619141\" xlink:href=\"#DejaVuSans-105\"/>\n       <use x=\"687.402344\" xlink:href=\"#DejaVuSans-111\"/>\n       <use x=\"748.583984\" xlink:href=\"#DejaVuSans-110\"/>\n       <use x=\"811.962891\" xlink:href=\"#DejaVuSans-108\"/>\n       <use x=\"839.746094\" xlink:href=\"#DejaVuSans-105\"/>\n       <use x=\"867.529297\" xlink:href=\"#DejaVuSans-110\"/>\n       <use x=\"930.908203\" xlink:href=\"#DejaVuSans-101\"/>\n      </g>\n     </g>\n    </g>\n   </g>\n   <g id=\"line2d_14\">\n    <path clip-path=\"url(#p0a11f03510)\" d=\"M 380.252435 247.381389 \nL 382.668019 247.381389 \n\" style=\"fill:none;stroke:#1f77b4;stroke-linecap:square;stroke-width:1.5;\"/>\n   </g>\n   <g id=\"line2d_15\">\n    <path clip-path=\"url(#p0a11f03510)\" d=\"M 380.252435 191.769955 \nL 382.668019 191.769955 \n\" style=\"fill:none;stroke:#1f77b4;stroke-linecap:square;stroke-width:1.5;\"/>\n   </g>\n   <g id=\"line2d_16\">\n    <path clip-path=\"url(#p0a11f03510)\" d=\"M 383.473214 191.769955 \nL 391.525162 191.769955 \n\" style=\"fill:none;stroke:#1f77b4;stroke-linecap:square;stroke-width:1.5;\"/>\n   </g>\n   <g id=\"line2d_17\">\n    <path clip-path=\"url(#p0a11f03510)\" d=\"M 391.525162 247.381389 \nL 393.940747 247.381389 \n\" style=\"fill:none;stroke:#1f77b4;stroke-linecap:square;stroke-width:1.5;\"/>\n   </g>\n   <g id=\"line2d_18\">\n    <path clip-path=\"url(#p0a11f03510)\" d=\"M 391.525162 191.769955 \nL 393.940747 191.769955 \n\" style=\"fill:none;stroke:#1f77b4;stroke-linecap:square;stroke-width:1.5;\"/>\n   </g>\n   <g id=\"line2d_19\">\n    <path clip-path=\"url(#p0a11f03510)\" d=\"M 393.940747 136.158521 \nL 683.810877 136.158521 \n\" style=\"fill:none;stroke:#1f77b4;stroke-linecap:square;stroke-width:1.5;\"/>\n   </g>\n   <g id=\"line2d_20\">\n    <path clip-path=\"url(#p0a11f03510)\" d=\"M 683.810877 247.381389 \nL 686.226461 247.381389 \n\" style=\"fill:none;stroke:#1f77b4;stroke-linecap:square;stroke-width:1.5;\"/>\n   </g>\n   <g id=\"line2d_21\">\n    <path clip-path=\"url(#p0a11f03510)\" d=\"M 686.226461 80.547088 \nL 700.719968 80.547088 \n\" style=\"fill:none;stroke:#1f77b4;stroke-linecap:square;stroke-width:1.5;\"/>\n   </g>\n   <g id=\"line2d_22\">\n    <path clip-path=\"url(#p0a11f03510)\" d=\"M 701.525162 247.381389 \nL 703.940747 247.381389 \n\" style=\"fill:none;stroke:#1f77b4;stroke-linecap:square;stroke-width:1.5;\"/>\n   </g>\n   <g id=\"line2d_23\">\n    <path clip-path=\"url(#p0a11f03510)\" d=\"M 701.525162 24.935654 \nL 703.940747 24.935654 \n\" style=\"fill:none;stroke:#1f77b4;stroke-linecap:square;stroke-width:1.5;\"/>\n   </g>\n   <g id=\"line2d_24\">\n    <path clip-path=\"url(#p0a11f03510)\" d=\"M 703.940747 24.935654 \nL 713.603084 24.935654 \n\" style=\"fill:none;stroke:#1f77b4;stroke-linecap:square;stroke-width:1.5;\"/>\n   </g>\n   <g id=\"line2d_25\">\n    <path clip-path=\"url(#p0a11f03510)\" d=\"M 713.603084 247.381389 \nL 716.018669 247.381389 \n\" style=\"fill:none;stroke:#1f77b4;stroke-linecap:square;stroke-width:1.5;\"/>\n   </g>\n   <g id=\"line2d_26\">\n    <path clip-path=\"url(#p0a11f03510)\" d=\"M 713.603084 24.935654 \nL 716.018669 24.935654 \n\" style=\"fill:none;stroke:#1f77b4;stroke-linecap:square;stroke-width:1.5;\"/>\n   </g>\n   <g id=\"line2d_27\">\n    <path clip-path=\"url(#p0a11f03510)\" d=\"M 195.862825 257.336781 \nL 198.278409 257.336781 \n\" style=\"fill:none;stroke:#aec7e8;stroke-linecap:square;stroke-width:1.5;\"/>\n   </g>\n   <g id=\"line2d_28\">\n    <path clip-path=\"url(#p0a11f03510)\" d=\"M 195.862825 201.725348 \nL 198.278409 201.725348 \n\" style=\"fill:none;stroke:#aec7e8;stroke-linecap:square;stroke-width:1.5;\"/>\n   </g>\n   <g id=\"line2d_29\">\n    <path clip-path=\"url(#p0a11f03510)\" d=\"M 198.278409 201.725348 \nL 206.330357 201.725348 \n\" style=\"fill:none;stroke:#aec7e8;stroke-linecap:square;stroke-width:1.5;\"/>\n   </g>\n   <g id=\"line2d_30\">\n    <path clip-path=\"url(#p0a11f03510)\" d=\"M 206.330357 257.336781 \nL 208.745942 257.336781 \n\" style=\"fill:none;stroke:#aec7e8;stroke-linecap:square;stroke-width:1.5;\"/>\n   </g>\n   <g id=\"line2d_31\">\n    <path clip-path=\"url(#p0a11f03510)\" d=\"M 206.330357 201.725348 \nL 208.745942 201.725348 \n\" style=\"fill:none;stroke:#aec7e8;stroke-linecap:square;stroke-width:1.5;\"/>\n   </g>\n   <g id=\"line2d_32\">\n    <path clip-path=\"url(#p0a11f03510)\" d=\"M 208.745942 146.113914 \nL 401.992695 146.113914 \n\" style=\"fill:none;stroke:#aec7e8;stroke-linecap:square;stroke-width:1.5;\"/>\n   </g>\n   <g id=\"line2d_33\">\n    <path clip-path=\"url(#p0a11f03510)\" d=\"M 401.992695 257.336781 \nL 404.408279 257.336781 \n\" style=\"fill:none;stroke:#aec7e8;stroke-linecap:square;stroke-width:1.5;\"/>\n   </g>\n   <g id=\"line2d_34\">\n    <path clip-path=\"url(#p0a11f03510)\" d=\"M 404.408279 90.50248 \nL 418.901786 90.50248 \n\" style=\"fill:none;stroke:#aec7e8;stroke-linecap:square;stroke-width:1.5;\"/>\n   </g>\n   <g id=\"line2d_35\">\n    <path clip-path=\"url(#p0a11f03510)\" d=\"M 422.122565 257.336781 \nL 424.538149 257.336781 \n\" style=\"fill:none;stroke:#aec7e8;stroke-linecap:square;stroke-width:1.5;\"/>\n   </g>\n   <g id=\"line2d_36\">\n    <path clip-path=\"url(#p0a11f03510)\" d=\"M 422.122565 34.891046 \nL 424.538149 34.891046 \n\" style=\"fill:none;stroke:#aec7e8;stroke-linecap:square;stroke-width:1.5;\"/>\n   </g>\n   <g id=\"line2d_37\">\n    <path clip-path=\"url(#p0a11f03510)\" d=\"M 424.538149 34.891046 \nL 434.200487 34.891046 \n\" style=\"fill:none;stroke:#aec7e8;stroke-linecap:square;stroke-width:1.5;\"/>\n   </g>\n   <g id=\"line2d_38\">\n    <path clip-path=\"url(#p0a11f03510)\" d=\"M 439.031656 257.336781 \nL 441.44724 257.336781 \n\" style=\"fill:none;stroke:#aec7e8;stroke-linecap:square;stroke-width:1.5;\"/>\n   </g>\n   <g id=\"line2d_39\">\n    <path clip-path=\"url(#p0a11f03510)\" d=\"M 439.031656 34.891046 \nL 441.44724 34.891046 \n\" style=\"fill:none;stroke:#aec7e8;stroke-linecap:square;stroke-width:1.5;\"/>\n   </g>\n   <g id=\"line2d_40\">\n    <path clip-path=\"url(#p0a11f03510)\" d=\"M 182.979708 265.934223 \nL 185.395292 265.934223 \n\" style=\"fill:none;stroke:#ff7f0e;stroke-linecap:square;stroke-width:1.5;\"/>\n   </g>\n   <g id=\"line2d_41\">\n    <path clip-path=\"url(#p0a11f03510)\" d=\"M 182.979708 210.322789 \nL 185.395292 210.322789 \n\" style=\"fill:none;stroke:#ff7f0e;stroke-linecap:square;stroke-width:1.5;\"/>\n   </g>\n   <g id=\"line2d_42\">\n    <path clip-path=\"url(#p0a11f03510)\" d=\"M 185.395292 210.322789 \nL 193.44724 210.322789 \n\" style=\"fill:none;stroke:#ff7f0e;stroke-linecap:square;stroke-width:1.5;\"/>\n   </g>\n   <g id=\"line2d_43\">\n    <path clip-path=\"url(#p0a11f03510)\" d=\"M 193.44724 265.934223 \nL 195.862825 265.934223 \n\" style=\"fill:none;stroke:#ff7f0e;stroke-linecap:square;stroke-width:1.5;\"/>\n   </g>\n   <g id=\"line2d_44\">\n    <path clip-path=\"url(#p0a11f03510)\" d=\"M 193.44724 210.322789 \nL 195.862825 210.322789 \n\" style=\"fill:none;stroke:#ff7f0e;stroke-linecap:square;stroke-width:1.5;\"/>\n   </g>\n   <g id=\"line2d_45\">\n    <path clip-path=\"url(#p0a11f03510)\" d=\"M 195.862825 154.711356 \nL 292.486201 154.711356 \n\" style=\"fill:none;stroke:#ff7f0e;stroke-linecap:square;stroke-width:1.5;\"/>\n   </g>\n   <g id=\"line2d_46\">\n    <path clip-path=\"url(#p0a11f03510)\" d=\"M 292.486201 265.934223 \nL 294.901786 265.934223 \n\" style=\"fill:none;stroke:#ff7f0e;stroke-linecap:square;stroke-width:1.5;\"/>\n   </g>\n   <g id=\"line2d_47\">\n    <path clip-path=\"url(#p0a11f03510)\" d=\"M 294.901786 99.099922 \nL 309.395292 99.099922 \n\" style=\"fill:none;stroke:#ff7f0e;stroke-linecap:square;stroke-width:1.5;\"/>\n   </g>\n   <g id=\"line2d_48\">\n    <path clip-path=\"url(#p0a11f03510)\" d=\"M 320.668019 265.934223 \nL 323.083604 265.934223 \n\" style=\"fill:none;stroke:#ff7f0e;stroke-linecap:square;stroke-width:1.5;\"/>\n   </g>\n   <g id=\"line2d_49\">\n    <path clip-path=\"url(#p0a11f03510)\" d=\"M 320.668019 43.488488 \nL 323.083604 43.488488 \n\" style=\"fill:none;stroke:#ff7f0e;stroke-linecap:square;stroke-width:1.5;\"/>\n   </g>\n   <g id=\"line2d_50\">\n    <path clip-path=\"url(#p0a11f03510)\" d=\"M 323.083604 43.488488 \nL 332.745942 43.488488 \n\" style=\"fill:none;stroke:#ff7f0e;stroke-linecap:square;stroke-width:1.5;\"/>\n   </g>\n   <g id=\"line2d_51\">\n    <path clip-path=\"url(#p0a11f03510)\" d=\"M 333.551136 265.934223 \nL 335.966721 265.934223 \n\" style=\"fill:none;stroke:#ff7f0e;stroke-linecap:square;stroke-width:1.5;\"/>\n   </g>\n   <g id=\"line2d_52\">\n    <path clip-path=\"url(#p0a11f03510)\" d=\"M 333.551136 43.488488 \nL 335.966721 43.488488 \n\" style=\"fill:none;stroke:#ff7f0e;stroke-linecap:square;stroke-width:1.5;\"/>\n   </g>\n   <g id=\"line2d_53\">\n    <path clip-path=\"url(#p0a11f03510)\" d=\"M 406.823864 247.15759 \nL 409.239448 247.15759 \n\" style=\"fill:none;stroke:#ffbb78;stroke-linecap:square;stroke-width:1.5;\"/>\n   </g>\n   <g id=\"line2d_54\">\n    <path clip-path=\"url(#p0a11f03510)\" d=\"M 406.823864 191.546156 \nL 409.239448 191.546156 \n\" style=\"fill:none;stroke:#ffbb78;stroke-linecap:square;stroke-width:1.5;\"/>\n   </g>\n   <g id=\"line2d_55\">\n    <path clip-path=\"url(#p0a11f03510)\" d=\"M 409.239448 191.546156 \nL 417.291396 191.546156 \n\" style=\"fill:none;stroke:#ffbb78;stroke-linecap:square;stroke-width:1.5;\"/>\n   </g>\n   <g id=\"line2d_56\">\n    <path clip-path=\"url(#p0a11f03510)\" d=\"M 417.291396 247.15759 \nL 419.706981 247.15759 \n\" style=\"fill:none;stroke:#ffbb78;stroke-linecap:square;stroke-width:1.5;\"/>\n   </g>\n   <g id=\"line2d_57\">\n    <path clip-path=\"url(#p0a11f03510)\" d=\"M 417.291396 191.546156 \nL 419.706981 191.546156 \n\" style=\"fill:none;stroke:#ffbb78;stroke-linecap:square;stroke-width:1.5;\"/>\n   </g>\n   <g id=\"line2d_58\">\n    <path clip-path=\"url(#p0a11f03510)\" d=\"M 419.706981 135.934722 \nL 709.57711 135.934722 \n\" style=\"fill:none;stroke:#ffbb78;stroke-linecap:square;stroke-width:1.5;\"/>\n   </g>\n   <g id=\"line2d_59\">\n    <path clip-path=\"url(#p0a11f03510)\" d=\"M 709.57711 247.15759 \nL 711.992695 247.15759 \n\" style=\"fill:none;stroke:#ffbb78;stroke-linecap:square;stroke-width:1.5;\"/>\n   </g>\n   <g id=\"line2d_60\">\n    <path clip-path=\"url(#p0a11f03510)\" d=\"M 711.992695 80.323288 \nL 726.486201 80.323288 \n\" style=\"fill:none;stroke:#ffbb78;stroke-linecap:square;stroke-width:1.5;\"/>\n   </g>\n   <g id=\"line2d_61\">\n    <path clip-path=\"url(#p0a11f03510)\" d=\"M 826.330357 247.15759 \nL 828.745942 247.15759 \n\" style=\"fill:none;stroke:#ffbb78;stroke-linecap:square;stroke-width:1.5;\"/>\n   </g>\n   <g id=\"line2d_62\">\n    <path clip-path=\"url(#p0a11f03510)\" d=\"M 826.330357 24.711854 \nL 828.745942 24.711854 \n\" style=\"fill:none;stroke:#ffbb78;stroke-linecap:square;stroke-width:1.5;\"/>\n   </g>\n   <g id=\"line2d_63\">\n    <path clip-path=\"url(#p0a11f03510)\" d=\"M 828.745942 24.711854 \nL 838.408279 24.711854 \n\" style=\"fill:none;stroke:#ffbb78;stroke-linecap:square;stroke-width:1.5;\"/>\n   </g>\n   <g id=\"line2d_64\">\n    <path clip-path=\"url(#p0a11f03510)\" d=\"M 838.408279 247.15759 \nL 840.823864 247.15759 \n\" style=\"fill:none;stroke:#ffbb78;stroke-linecap:square;stroke-width:1.5;\"/>\n   </g>\n   <g id=\"line2d_65\">\n    <path clip-path=\"url(#p0a11f03510)\" d=\"M 838.408279 24.711854 \nL 840.823864 24.711854 \n\" style=\"fill:none;stroke:#ffbb78;stroke-linecap:square;stroke-width:1.5;\"/>\n   </g>\n   <g id=\"line2d_66\">\n    <path clip-path=\"url(#p0a11f03510)\" d=\"M 352.875812 265.350788 \nL 355.291396 265.350788 \n\" style=\"fill:none;stroke:#2ca02c;stroke-linecap:square;stroke-width:1.5;\"/>\n   </g>\n   <g id=\"line2d_67\">\n    <path clip-path=\"url(#p0a11f03510)\" d=\"M 352.875812 209.739354 \nL 355.291396 209.739354 \n\" style=\"fill:none;stroke:#2ca02c;stroke-linecap:square;stroke-width:1.5;\"/>\n   </g>\n   <g id=\"line2d_68\">\n    <path clip-path=\"url(#p0a11f03510)\" d=\"M 356.901786 209.739354 \nL 364.953734 209.739354 \n\" style=\"fill:none;stroke:#2ca02c;stroke-linecap:square;stroke-width:1.5;\"/>\n   </g>\n   <g id=\"line2d_69\">\n    <path clip-path=\"url(#p0a11f03510)\" d=\"M 364.953734 265.350788 \nL 367.369318 265.350788 \n\" style=\"fill:none;stroke:#2ca02c;stroke-linecap:square;stroke-width:1.5;\"/>\n   </g>\n   <g id=\"line2d_70\">\n    <path clip-path=\"url(#p0a11f03510)\" d=\"M 364.953734 209.739354 \nL 367.369318 209.739354 \n\" style=\"fill:none;stroke:#2ca02c;stroke-linecap:square;stroke-width:1.5;\"/>\n   </g>\n   <g id=\"line2d_71\">\n    <path clip-path=\"url(#p0a11f03510)\" d=\"M 367.369318 154.12792 \nL 560.616071 154.12792 \n\" style=\"fill:none;stroke:#2ca02c;stroke-linecap:square;stroke-width:1.5;\"/>\n   </g>\n   <g id=\"line2d_72\">\n    <path clip-path=\"url(#p0a11f03510)\" d=\"M 560.616071 265.350788 \nL 563.031656 265.350788 \n\" style=\"fill:none;stroke:#2ca02c;stroke-linecap:square;stroke-width:1.5;\"/>\n   </g>\n   <g id=\"line2d_73\">\n    <path clip-path=\"url(#p0a11f03510)\" d=\"M 563.031656 98.516486 \nL 577.525162 98.516486 \n\" style=\"fill:none;stroke:#2ca02c;stroke-linecap:square;stroke-width:1.5;\"/>\n   </g>\n   <g id=\"line2d_74\">\n    <path clip-path=\"url(#p0a11f03510)\" d=\"M 581.551136 265.350788 \nL 583.966721 265.350788 \n\" style=\"fill:none;stroke:#2ca02c;stroke-linecap:square;stroke-width:1.5;\"/>\n   </g>\n   <g id=\"line2d_75\">\n    <path clip-path=\"url(#p0a11f03510)\" d=\"M 581.551136 42.905052 \nL 583.966721 42.905052 \n\" style=\"fill:none;stroke:#2ca02c;stroke-linecap:square;stroke-width:1.5;\"/>\n   </g>\n   <g id=\"line2d_76\">\n    <path clip-path=\"url(#p0a11f03510)\" d=\"M 583.966721 42.905052 \nL 593.629058 42.905052 \n\" style=\"fill:none;stroke:#2ca02c;stroke-linecap:square;stroke-width:1.5;\"/>\n   </g>\n   <g id=\"line2d_77\">\n    <path clip-path=\"url(#p0a11f03510)\" d=\"M 593.629058 265.350788 \nL 596.044643 265.350788 \n\" style=\"fill:none;stroke:#2ca02c;stroke-linecap:square;stroke-width:1.5;\"/>\n   </g>\n   <g id=\"line2d_78\">\n    <path clip-path=\"url(#p0a11f03510)\" d=\"M 593.629058 42.905052 \nL 596.044643 42.905052 \n\" style=\"fill:none;stroke:#2ca02c;stroke-linecap:square;stroke-width:1.5;\"/>\n   </g>\n   <g id=\"line2d_79\">\n    <path clip-path=\"url(#p0a11f03510)\" d=\"M 208.745942 258.817164 \nL 211.161526 258.817164 \n\" style=\"fill:none;stroke:#98df8a;stroke-linecap:square;stroke-width:1.5;\"/>\n   </g>\n   <g id=\"line2d_80\">\n    <path clip-path=\"url(#p0a11f03510)\" d=\"M 208.745942 203.20573 \nL 211.161526 203.20573 \n\" style=\"fill:none;stroke:#98df8a;stroke-linecap:square;stroke-width:1.5;\"/>\n   </g>\n   <g id=\"line2d_81\">\n    <path clip-path=\"url(#p0a11f03510)\" d=\"M 211.161526 203.20573 \nL 219.213474 203.20573 \n\" style=\"fill:none;stroke:#98df8a;stroke-linecap:square;stroke-width:1.5;\"/>\n   </g>\n   <g id=\"line2d_82\">\n    <path clip-path=\"url(#p0a11f03510)\" d=\"M 219.213474 258.817164 \nL 221.629058 258.817164 \n\" style=\"fill:none;stroke:#98df8a;stroke-linecap:square;stroke-width:1.5;\"/>\n   </g>\n   <g id=\"line2d_83\">\n    <path clip-path=\"url(#p0a11f03510)\" d=\"M 219.213474 203.20573 \nL 221.629058 203.20573 \n\" style=\"fill:none;stroke:#98df8a;stroke-linecap:square;stroke-width:1.5;\"/>\n   </g>\n   <g id=\"line2d_84\">\n    <path clip-path=\"url(#p0a11f03510)\" d=\"M 221.629058 147.594296 \nL 318.252435 147.594296 \n\" style=\"fill:none;stroke:#98df8a;stroke-linecap:square;stroke-width:1.5;\"/>\n   </g>\n   <g id=\"line2d_85\">\n    <path clip-path=\"url(#p0a11f03510)\" d=\"M 318.252435 258.817164 \nL 320.668019 258.817164 \n\" style=\"fill:none;stroke:#98df8a;stroke-linecap:square;stroke-width:1.5;\"/>\n   </g>\n   <g id=\"line2d_86\">\n    <path clip-path=\"url(#p0a11f03510)\" d=\"M 320.668019 91.982862 \nL 335.161526 91.982862 \n\" style=\"fill:none;stroke:#98df8a;stroke-linecap:square;stroke-width:1.5;\"/>\n   </g>\n   <g id=\"line2d_87\">\n    <path clip-path=\"url(#p0a11f03510)\" d=\"M 362.538149 258.817164 \nL 364.953734 258.817164 \n\" style=\"fill:none;stroke:#98df8a;stroke-linecap:square;stroke-width:1.5;\"/>\n   </g>\n   <g id=\"line2d_88\">\n    <path clip-path=\"url(#p0a11f03510)\" d=\"M 362.538149 36.371428 \nL 364.953734 36.371428 \n\" style=\"fill:none;stroke:#98df8a;stroke-linecap:square;stroke-width:1.5;\"/>\n   </g>\n   <g id=\"line2d_89\">\n    <path clip-path=\"url(#p0a11f03510)\" d=\"M 364.953734 36.371428 \nL 374.616071 36.371428 \n\" style=\"fill:none;stroke:#98df8a;stroke-linecap:square;stroke-width:1.5;\"/>\n   </g>\n   <g id=\"line2d_90\">\n    <path clip-path=\"url(#p0a11f03510)\" d=\"M 374.616071 258.817164 \nL 377.031656 258.817164 \n\" style=\"fill:none;stroke:#98df8a;stroke-linecap:square;stroke-width:1.5;\"/>\n   </g>\n   <g id=\"line2d_91\">\n    <path clip-path=\"url(#p0a11f03510)\" d=\"M 374.616071 36.371428 \nL 377.031656 36.371428 \n\" style=\"fill:none;stroke:#98df8a;stroke-linecap:square;stroke-width:1.5;\"/>\n   </g>\n   <g id=\"line2d_92\">\n    <path clip-path=\"url(#p0a11f03510)\" d=\"M 286.044643 257.364092 \nL 288.460227 257.364092 \n\" style=\"fill:none;stroke:#d62728;stroke-linecap:square;stroke-width:1.5;\"/>\n   </g>\n   <g id=\"line2d_93\">\n    <path clip-path=\"url(#p0a11f03510)\" d=\"M 286.044643 201.752658 \nL 288.460227 201.752658 \n\" style=\"fill:none;stroke:#d62728;stroke-linecap:square;stroke-width:1.5;\"/>\n   </g>\n   <g id=\"line2d_94\">\n    <path clip-path=\"url(#p0a11f03510)\" d=\"M 290.875812 201.752658 \nL 298.92776 201.752658 \n\" style=\"fill:none;stroke:#d62728;stroke-linecap:square;stroke-width:1.5;\"/>\n   </g>\n   <g id=\"line2d_95\">\n    <path clip-path=\"url(#p0a11f03510)\" d=\"M 298.92776 257.364092 \nL 301.343344 257.364092 \n\" style=\"fill:none;stroke:#d62728;stroke-linecap:square;stroke-width:1.5;\"/>\n   </g>\n   <g id=\"line2d_96\">\n    <path clip-path=\"url(#p0a11f03510)\" d=\"M 298.92776 201.752658 \nL 301.343344 201.752658 \n\" style=\"fill:none;stroke:#d62728;stroke-linecap:square;stroke-width:1.5;\"/>\n   </g>\n   <g id=\"line2d_97\">\n    <path clip-path=\"url(#p0a11f03510)\" d=\"M 301.343344 146.141224 \nL 591.213474 146.141224 \n\" style=\"fill:none;stroke:#d62728;stroke-linecap:square;stroke-width:1.5;\"/>\n   </g>\n   <g id=\"line2d_98\">\n    <path clip-path=\"url(#p0a11f03510)\" d=\"M 591.213474 257.364092 \nL 593.629058 257.364092 \n\" style=\"fill:none;stroke:#d62728;stroke-linecap:square;stroke-width:1.5;\"/>\n   </g>\n   <g id=\"line2d_99\">\n    <path clip-path=\"url(#p0a11f03510)\" d=\"M 593.629058 90.52979 \nL 608.122565 90.52979 \n\" style=\"fill:none;stroke:#d62728;stroke-linecap:square;stroke-width:1.5;\"/>\n   </g>\n   <g id=\"line2d_100\">\n    <path clip-path=\"url(#p0a11f03510)\" d=\"M 608.122565 257.364092 \nL 610.538149 257.364092 \n\" style=\"fill:none;stroke:#d62728;stroke-linecap:square;stroke-width:1.5;\"/>\n   </g>\n   <g id=\"line2d_101\">\n    <path clip-path=\"url(#p0a11f03510)\" d=\"M 608.122565 34.918356 \nL 610.538149 34.918356 \n\" style=\"fill:none;stroke:#d62728;stroke-linecap:square;stroke-width:1.5;\"/>\n   </g>\n   <g id=\"line2d_102\">\n    <path clip-path=\"url(#p0a11f03510)\" d=\"M 610.538149 34.918356 \nL 620.200487 34.918356 \n\" style=\"fill:none;stroke:#d62728;stroke-linecap:square;stroke-width:1.5;\"/>\n   </g>\n   <g id=\"line2d_103\">\n    <path clip-path=\"url(#p0a11f03510)\" d=\"M 620.200487 257.364092 \nL 622.616071 257.364092 \n\" style=\"fill:none;stroke:#d62728;stroke-linecap:square;stroke-width:1.5;\"/>\n   </g>\n   <g id=\"line2d_104\">\n    <path clip-path=\"url(#p0a11f03510)\" d=\"M 620.200487 34.918356 \nL 622.616071 34.918356 \n\" style=\"fill:none;stroke:#d62728;stroke-linecap:square;stroke-width:1.5;\"/>\n   </g>\n   <g id=\"line2d_105\">\n    <path clip-path=\"url(#p0a11f03510)\" d=\"M 301.343344 246.197388 \nL 303.758929 246.197388 \n\" style=\"fill:none;stroke:#ff9896;stroke-linecap:square;stroke-width:1.5;\"/>\n   </g>\n   <g id=\"line2d_106\">\n    <path clip-path=\"url(#p0a11f03510)\" d=\"M 301.343344 190.585954 \nL 303.758929 190.585954 \n\" style=\"fill:none;stroke:#ff9896;stroke-linecap:square;stroke-width:1.5;\"/>\n   </g>\n   <g id=\"line2d_107\">\n    <path clip-path=\"url(#p0a11f03510)\" d=\"M 303.758929 190.585954 \nL 311.810877 190.585954 \n\" style=\"fill:none;stroke:#ff9896;stroke-linecap:square;stroke-width:1.5;\"/>\n   </g>\n   <g id=\"line2d_108\">\n    <path clip-path=\"url(#p0a11f03510)\" d=\"M 311.810877 246.197388 \nL 314.226461 246.197388 \n\" style=\"fill:none;stroke:#ff9896;stroke-linecap:square;stroke-width:1.5;\"/>\n   </g>\n   <g id=\"line2d_109\">\n    <path clip-path=\"url(#p0a11f03510)\" d=\"M 311.810877 190.585954 \nL 314.226461 190.585954 \n\" style=\"fill:none;stroke:#ff9896;stroke-linecap:square;stroke-width:1.5;\"/>\n   </g>\n   <g id=\"line2d_110\">\n    <path clip-path=\"url(#p0a11f03510)\" d=\"M 314.226461 134.974521 \nL 507.473214 134.974521 \n\" style=\"fill:none;stroke:#ff9896;stroke-linecap:square;stroke-width:1.5;\"/>\n   </g>\n   <g id=\"line2d_111\">\n    <path clip-path=\"url(#p0a11f03510)\" d=\"M 507.473214 246.197388 \nL 509.888799 246.197388 \n\" style=\"fill:none;stroke:#ff9896;stroke-linecap:square;stroke-width:1.5;\"/>\n   </g>\n   <g id=\"line2d_112\">\n    <path clip-path=\"url(#p0a11f03510)\" d=\"M 509.888799 79.363087 \nL 524.382305 79.363087 \n\" style=\"fill:none;stroke:#ff9896;stroke-linecap:square;stroke-width:1.5;\"/>\n   </g>\n   <g id=\"line2d_113\">\n    <path clip-path=\"url(#p0a11f03510)\" d=\"M 524.382305 246.197388 \nL 526.79789 246.197388 \n\" style=\"fill:none;stroke:#ff9896;stroke-linecap:square;stroke-width:1.5;\"/>\n   </g>\n   <g id=\"line2d_114\">\n    <path clip-path=\"url(#p0a11f03510)\" d=\"M 524.382305 23.751653 \nL 526.79789 23.751653 \n\" style=\"fill:none;stroke:#ff9896;stroke-linecap:square;stroke-width:1.5;\"/>\n   </g>\n   <g id=\"line2d_115\">\n    <path clip-path=\"url(#p0a11f03510)\" d=\"M 526.79789 23.751653 \nL 536.460227 23.751653 \n\" style=\"fill:none;stroke:#ff9896;stroke-linecap:square;stroke-width:1.5;\"/>\n   </g>\n   <g id=\"line2d_116\">\n    <path clip-path=\"url(#p0a11f03510)\" d=\"M 536.460227 246.197388 \nL 538.875812 246.197388 \n\" style=\"fill:none;stroke:#ff9896;stroke-linecap:square;stroke-width:1.5;\"/>\n   </g>\n   <g id=\"line2d_117\">\n    <path clip-path=\"url(#p0a11f03510)\" d=\"M 536.460227 23.751653 \nL 538.875812 23.751653 \n\" style=\"fill:none;stroke:#ff9896;stroke-linecap:square;stroke-width:1.5;\"/>\n   </g>\n   <g id=\"line2d_118\">\n    <path clip-path=\"url(#p0a11f03510)\" d=\"M 327.109578 250.040971 \nL 329.525162 250.040971 \n\" style=\"fill:none;stroke:#9467bd;stroke-linecap:square;stroke-width:1.5;\"/>\n   </g>\n   <g id=\"line2d_119\">\n    <path clip-path=\"url(#p0a11f03510)\" d=\"M 327.109578 194.429537 \nL 329.525162 194.429537 \n\" style=\"fill:none;stroke:#9467bd;stroke-linecap:square;stroke-width:1.5;\"/>\n   </g>\n   <g id=\"line2d_120\">\n    <path clip-path=\"url(#p0a11f03510)\" d=\"M 329.525162 194.429537 \nL 337.57711 194.429537 \n\" style=\"fill:none;stroke:#9467bd;stroke-linecap:square;stroke-width:1.5;\"/>\n   </g>\n   <g id=\"line2d_121\">\n    <path clip-path=\"url(#p0a11f03510)\" d=\"M 337.57711 250.040971 \nL 339.992695 250.040971 \n\" style=\"fill:none;stroke:#9467bd;stroke-linecap:square;stroke-width:1.5;\"/>\n   </g>\n   <g id=\"line2d_122\">\n    <path clip-path=\"url(#p0a11f03510)\" d=\"M 337.57711 194.429537 \nL 339.992695 194.429537 \n\" style=\"fill:none;stroke:#9467bd;stroke-linecap:square;stroke-width:1.5;\"/>\n   </g>\n   <g id=\"line2d_123\">\n    <path clip-path=\"url(#p0a11f03510)\" d=\"M 339.992695 138.818103 \nL 436.616071 138.818103 \n\" style=\"fill:none;stroke:#9467bd;stroke-linecap:square;stroke-width:1.5;\"/>\n   </g>\n   <g id=\"line2d_124\">\n    <path clip-path=\"url(#p0a11f03510)\" d=\"M 436.616071 250.040971 \nL 439.031656 250.040971 \n\" style=\"fill:none;stroke:#9467bd;stroke-linecap:square;stroke-width:1.5;\"/>\n   </g>\n   <g id=\"line2d_125\">\n    <path clip-path=\"url(#p0a11f03510)\" d=\"M 439.031656 83.206669 \nL 453.525162 83.206669 \n\" style=\"fill:none;stroke:#9467bd;stroke-linecap:square;stroke-width:1.5;\"/>\n   </g>\n   <g id=\"line2d_126\">\n    <path clip-path=\"url(#p0a11f03510)\" d=\"M 453.525162 250.040971 \nL 455.940747 250.040971 \n\" style=\"fill:none;stroke:#9467bd;stroke-linecap:square;stroke-width:1.5;\"/>\n   </g>\n   <g id=\"line2d_127\">\n    <path clip-path=\"url(#p0a11f03510)\" d=\"M 453.525162 27.595235 \nL 455.940747 27.595235 \n\" style=\"fill:none;stroke:#9467bd;stroke-linecap:square;stroke-width:1.5;\"/>\n   </g>\n   <g id=\"line2d_128\">\n    <path clip-path=\"url(#p0a11f03510)\" d=\"M 455.940747 27.595235 \nL 465.603084 27.595235 \n\" style=\"fill:none;stroke:#9467bd;stroke-linecap:square;stroke-width:1.5;\"/>\n   </g>\n   <g id=\"line2d_129\">\n    <path clip-path=\"url(#p0a11f03510)\" d=\"M 468.823864 250.040971 \nL 471.239448 250.040971 \n\" style=\"fill:none;stroke:#9467bd;stroke-linecap:square;stroke-width:1.5;\"/>\n   </g>\n   <g id=\"line2d_130\">\n    <path clip-path=\"url(#p0a11f03510)\" d=\"M 468.823864 27.595235 \nL 471.239448 27.595235 \n\" style=\"fill:none;stroke:#9467bd;stroke-linecap:square;stroke-width:1.5;\"/>\n   </g>\n   <g id=\"line2d_131\">\n    <path clip-path=\"url(#p0a11f03510)\" d=\"M 419.706981 253.471494 \nL 422.122565 253.471494 \n\" style=\"fill:none;stroke:#c5b0d5;stroke-linecap:square;stroke-width:1.5;\"/>\n   </g>\n   <g id=\"line2d_132\">\n    <path clip-path=\"url(#p0a11f03510)\" d=\"M 419.706981 197.86006 \nL 422.122565 197.86006 \n\" style=\"fill:none;stroke:#c5b0d5;stroke-linecap:square;stroke-width:1.5;\"/>\n   </g>\n   <g id=\"line2d_133\">\n    <path clip-path=\"url(#p0a11f03510)\" d=\"M 422.122565 197.86006 \nL 430.174513 197.86006 \n\" style=\"fill:none;stroke:#c5b0d5;stroke-linecap:square;stroke-width:1.5;\"/>\n   </g>\n   <g id=\"line2d_134\">\n    <path clip-path=\"url(#p0a11f03510)\" d=\"M 430.174513 253.471494 \nL 432.590097 253.471494 \n\" style=\"fill:none;stroke:#c5b0d5;stroke-linecap:square;stroke-width:1.5;\"/>\n   </g>\n   <g id=\"line2d_135\">\n    <path clip-path=\"url(#p0a11f03510)\" d=\"M 430.174513 197.86006 \nL 432.590097 197.86006 \n\" style=\"fill:none;stroke:#c5b0d5;stroke-linecap:square;stroke-width:1.5;\"/>\n   </g>\n   <g id=\"line2d_136\">\n    <path clip-path=\"url(#p0a11f03510)\" d=\"M 432.590097 142.248627 \nL 722.460227 142.248627 \n\" style=\"fill:none;stroke:#c5b0d5;stroke-linecap:square;stroke-width:1.5;\"/>\n   </g>\n   <g id=\"line2d_137\">\n    <path clip-path=\"url(#p0a11f03510)\" d=\"M 722.460227 253.471494 \nL 724.875812 253.471494 \n\" style=\"fill:none;stroke:#c5b0d5;stroke-linecap:square;stroke-width:1.5;\"/>\n   </g>\n   <g id=\"line2d_138\">\n    <path clip-path=\"url(#p0a11f03510)\" d=\"M 724.875812 86.637193 \nL 739.369318 86.637193 \n\" style=\"fill:none;stroke:#c5b0d5;stroke-linecap:square;stroke-width:1.5;\"/>\n   </g>\n   <g id=\"line2d_139\">\n    <path clip-path=\"url(#p0a11f03510)\" d=\"M 739.369318 253.471494 \nL 741.784903 253.471494 \n\" style=\"fill:none;stroke:#c5b0d5;stroke-linecap:square;stroke-width:1.5;\"/>\n   </g>\n   <g id=\"line2d_140\">\n    <path clip-path=\"url(#p0a11f03510)\" d=\"M 739.369318 31.025759 \nL 741.784903 31.025759 \n\" style=\"fill:none;stroke:#c5b0d5;stroke-linecap:square;stroke-width:1.5;\"/>\n   </g>\n   <g id=\"line2d_141\">\n    <path clip-path=\"url(#p0a11f03510)\" d=\"M 741.784903 31.025759 \nL 751.44724 31.025759 \n\" style=\"fill:none;stroke:#c5b0d5;stroke-linecap:square;stroke-width:1.5;\"/>\n   </g>\n   <g id=\"line2d_142\">\n    <path clip-path=\"url(#p0a11f03510)\" d=\"M 751.44724 253.471494 \nL 753.862825 253.471494 \n\" style=\"fill:none;stroke:#c5b0d5;stroke-linecap:square;stroke-width:1.5;\"/>\n   </g>\n   <g id=\"line2d_143\">\n    <path clip-path=\"url(#p0a11f03510)\" d=\"M 751.44724 31.025759 \nL 753.862825 31.025759 \n\" style=\"fill:none;stroke:#c5b0d5;stroke-linecap:square;stroke-width:1.5;\"/>\n   </g>\n   <g id=\"line2d_144\">\n    <path clip-path=\"url(#p0a11f03510)\" d=\"M 260.278409 260.156514 \nL 262.693994 260.156514 \n\" style=\"fill:none;stroke:#8c564b;stroke-linecap:square;stroke-width:1.5;\"/>\n   </g>\n   <g id=\"line2d_145\">\n    <path clip-path=\"url(#p0a11f03510)\" d=\"M 260.278409 204.54508 \nL 262.693994 204.54508 \n\" style=\"fill:none;stroke:#8c564b;stroke-linecap:square;stroke-width:1.5;\"/>\n   </g>\n   <g id=\"line2d_146\">\n    <path clip-path=\"url(#p0a11f03510)\" d=\"M 262.693994 204.54508 \nL 270.745942 204.54508 \n\" style=\"fill:none;stroke:#8c564b;stroke-linecap:square;stroke-width:1.5;\"/>\n   </g>\n   <g id=\"line2d_147\">\n    <path clip-path=\"url(#p0a11f03510)\" d=\"M 270.745942 260.156514 \nL 273.161526 260.156514 \n\" style=\"fill:none;stroke:#8c564b;stroke-linecap:square;stroke-width:1.5;\"/>\n   </g>\n   <g id=\"line2d_148\">\n    <path clip-path=\"url(#p0a11f03510)\" d=\"M 270.745942 204.54508 \nL 273.161526 204.54508 \n\" style=\"fill:none;stroke:#8c564b;stroke-linecap:square;stroke-width:1.5;\"/>\n   </g>\n   <g id=\"line2d_149\">\n    <path clip-path=\"url(#p0a11f03510)\" d=\"M 273.161526 148.933646 \nL 466.408279 148.933646 \n\" style=\"fill:none;stroke:#8c564b;stroke-linecap:square;stroke-width:1.5;\"/>\n   </g>\n   <g id=\"line2d_150\">\n    <path clip-path=\"url(#p0a11f03510)\" d=\"M 466.408279 260.156514 \nL 468.823864 260.156514 \n\" style=\"fill:none;stroke:#8c564b;stroke-linecap:square;stroke-width:1.5;\"/>\n   </g>\n   <g id=\"line2d_151\">\n    <path clip-path=\"url(#p0a11f03510)\" d=\"M 468.823864 93.322212 \nL 483.31737 93.322212 \n\" style=\"fill:none;stroke:#8c564b;stroke-linecap:square;stroke-width:1.5;\"/>\n   </g>\n   <g id=\"line2d_152\">\n    <path clip-path=\"url(#p0a11f03510)\" d=\"M 483.31737 260.156514 \nL 485.732955 260.156514 \n\" style=\"fill:none;stroke:#8c564b;stroke-linecap:square;stroke-width:1.5;\"/>\n   </g>\n   <g id=\"line2d_153\">\n    <path clip-path=\"url(#p0a11f03510)\" d=\"M 483.31737 37.710778 \nL 485.732955 37.710778 \n\" style=\"fill:none;stroke:#8c564b;stroke-linecap:square;stroke-width:1.5;\"/>\n   </g>\n   <g id=\"line2d_154\">\n    <path clip-path=\"url(#p0a11f03510)\" d=\"M 485.732955 37.710778 \nL 495.395292 37.710778 \n\" style=\"fill:none;stroke:#8c564b;stroke-linecap:square;stroke-width:1.5;\"/>\n   </g>\n   <g id=\"line2d_155\">\n    <path clip-path=\"url(#p0a11f03510)\" d=\"M 495.395292 260.156514 \nL 497.810877 260.156514 \n\" style=\"fill:none;stroke:#8c564b;stroke-linecap:square;stroke-width:1.5;\"/>\n   </g>\n   <g id=\"line2d_156\">\n    <path clip-path=\"url(#p0a11f03510)\" d=\"M 495.395292 37.710778 \nL 497.810877 37.710778 \n\" style=\"fill:none;stroke:#8c564b;stroke-linecap:square;stroke-width:1.5;\"/>\n   </g>\n   <g id=\"line2d_157\">\n    <path clip-path=\"url(#p0a11f03510)\" d=\"M 170.096591 259.449793 \nL 172.512175 259.449793 \n\" style=\"fill:none;stroke:#c49c94;stroke-linecap:square;stroke-width:1.5;\"/>\n   </g>\n   <g id=\"line2d_158\">\n    <path clip-path=\"url(#p0a11f03510)\" d=\"M 170.096591 203.838359 \nL 172.512175 203.838359 \n\" style=\"fill:none;stroke:#c49c94;stroke-linecap:square;stroke-width:1.5;\"/>\n   </g>\n   <g id=\"line2d_159\">\n    <path clip-path=\"url(#p0a11f03510)\" d=\"M 172.512175 203.838359 \nL 180.564123 203.838359 \n\" style=\"fill:none;stroke:#c49c94;stroke-linecap:square;stroke-width:1.5;\"/>\n   </g>\n   <g id=\"line2d_160\">\n    <path clip-path=\"url(#p0a11f03510)\" d=\"M 180.564123 259.449793 \nL 182.979708 259.449793 \n\" style=\"fill:none;stroke:#c49c94;stroke-linecap:square;stroke-width:1.5;\"/>\n   </g>\n   <g id=\"line2d_161\">\n    <path clip-path=\"url(#p0a11f03510)\" d=\"M 180.564123 203.838359 \nL 182.979708 203.838359 \n\" style=\"fill:none;stroke:#c49c94;stroke-linecap:square;stroke-width:1.5;\"/>\n   </g>\n   <g id=\"line2d_162\">\n    <path clip-path=\"url(#p0a11f03510)\" d=\"M 182.979708 148.226925 \nL 279.603084 148.226925 \n\" style=\"fill:none;stroke:#c49c94;stroke-linecap:square;stroke-width:1.5;\"/>\n   </g>\n   <g id=\"line2d_163\">\n    <path clip-path=\"url(#p0a11f03510)\" d=\"M 279.603084 259.449793 \nL 282.018669 259.449793 \n\" style=\"fill:none;stroke:#c49c94;stroke-linecap:square;stroke-width:1.5;\"/>\n   </g>\n   <g id=\"line2d_164\">\n    <path clip-path=\"url(#p0a11f03510)\" d=\"M 282.018669 92.615492 \nL 296.512175 92.615492 \n\" style=\"fill:none;stroke:#c49c94;stroke-linecap:square;stroke-width:1.5;\"/>\n   </g>\n   <g id=\"line2d_165\">\n    <path clip-path=\"url(#p0a11f03510)\" d=\"M 296.512175 259.449793 \nL 298.92776 259.449793 \n\" style=\"fill:none;stroke:#c49c94;stroke-linecap:square;stroke-width:1.5;\"/>\n   </g>\n   <g id=\"line2d_166\">\n    <path clip-path=\"url(#p0a11f03510)\" d=\"M 296.512175 37.004058 \nL 298.92776 37.004058 \n\" style=\"fill:none;stroke:#c49c94;stroke-linecap:square;stroke-width:1.5;\"/>\n   </g>\n   <g id=\"line2d_167\">\n    <path clip-path=\"url(#p0a11f03510)\" d=\"M 298.92776 37.004058 \nL 308.590097 37.004058 \n\" style=\"fill:none;stroke:#c49c94;stroke-linecap:square;stroke-width:1.5;\"/>\n   </g>\n   <g id=\"line2d_168\">\n    <path clip-path=\"url(#p0a11f03510)\" d=\"M 308.590097 259.449793 \nL 311.005682 259.449793 \n\" style=\"fill:none;stroke:#c49c94;stroke-linecap:square;stroke-width:1.5;\"/>\n   </g>\n   <g id=\"line2d_169\">\n    <path clip-path=\"url(#p0a11f03510)\" d=\"M 308.590097 37.004058 \nL 311.005682 37.004058 \n\" style=\"fill:none;stroke:#c49c94;stroke-linecap:square;stroke-width:1.5;\"/>\n   </g>\n   <g id=\"line2d_170\">\n    <path clip-path=\"url(#p0a11f03510)\" d=\"M 247.395292 254.595445 \nL 249.810877 254.595445 \n\" style=\"fill:none;stroke:#e377c2;stroke-linecap:square;stroke-width:1.5;\"/>\n   </g>\n   <g id=\"line2d_171\">\n    <path clip-path=\"url(#p0a11f03510)\" d=\"M 247.395292 198.984011 \nL 249.810877 198.984011 \n\" style=\"fill:none;stroke:#e377c2;stroke-linecap:square;stroke-width:1.5;\"/>\n   </g>\n   <g id=\"line2d_172\">\n    <path clip-path=\"url(#p0a11f03510)\" d=\"M 249.810877 198.984011 \nL 257.862825 198.984011 \n\" style=\"fill:none;stroke:#e377c2;stroke-linecap:square;stroke-width:1.5;\"/>\n   </g>\n   <g id=\"line2d_173\">\n    <path clip-path=\"url(#p0a11f03510)\" d=\"M 257.862825 254.595445 \nL 260.278409 254.595445 \n\" style=\"fill:none;stroke:#e377c2;stroke-linecap:square;stroke-width:1.5;\"/>\n   </g>\n   <g id=\"line2d_174\">\n    <path clip-path=\"url(#p0a11f03510)\" d=\"M 257.862825 198.984011 \nL 260.278409 198.984011 \n\" style=\"fill:none;stroke:#e377c2;stroke-linecap:square;stroke-width:1.5;\"/>\n   </g>\n   <g id=\"line2d_175\">\n    <path clip-path=\"url(#p0a11f03510)\" d=\"M 260.278409 143.372577 \nL 550.148539 143.372577 \n\" style=\"fill:none;stroke:#e377c2;stroke-linecap:square;stroke-width:1.5;\"/>\n   </g>\n   <g id=\"line2d_176\">\n    <path clip-path=\"url(#p0a11f03510)\" d=\"M 550.148539 254.595445 \nL 552.564123 254.595445 \n\" style=\"fill:none;stroke:#e377c2;stroke-linecap:square;stroke-width:1.5;\"/>\n   </g>\n   <g id=\"line2d_177\">\n    <path clip-path=\"url(#p0a11f03510)\" d=\"M 552.564123 87.761143 \nL 567.05763 87.761143 \n\" style=\"fill:none;stroke:#e377c2;stroke-linecap:square;stroke-width:1.5;\"/>\n   </g>\n   <g id=\"line2d_178\">\n    <path clip-path=\"url(#p0a11f03510)\" d=\"M 567.05763 254.595445 \nL 569.473214 254.595445 \n\" style=\"fill:none;stroke:#e377c2;stroke-linecap:square;stroke-width:1.5;\"/>\n   </g>\n   <g id=\"line2d_179\">\n    <path clip-path=\"url(#p0a11f03510)\" d=\"M 567.05763 32.149709 \nL 569.473214 32.149709 \n\" style=\"fill:none;stroke:#e377c2;stroke-linecap:square;stroke-width:1.5;\"/>\n   </g>\n   <g id=\"line2d_180\">\n    <path clip-path=\"url(#p0a11f03510)\" d=\"M 569.473214 32.149709 \nL 579.135552 32.149709 \n\" style=\"fill:none;stroke:#e377c2;stroke-linecap:square;stroke-width:1.5;\"/>\n   </g>\n   <g id=\"line2d_181\">\n    <path clip-path=\"url(#p0a11f03510)\" d=\"M 579.135552 254.595445 \nL 581.551136 254.595445 \n\" style=\"fill:none;stroke:#e377c2;stroke-linecap:square;stroke-width:1.5;\"/>\n   </g>\n   <g id=\"line2d_182\">\n    <path clip-path=\"url(#p0a11f03510)\" d=\"M 579.135552 32.149709 \nL 581.551136 32.149709 \n\" style=\"fill:none;stroke:#e377c2;stroke-linecap:square;stroke-width:1.5;\"/>\n   </g>\n   <g id=\"line2d_183\">\n    <path clip-path=\"url(#p0a11f03510)\" d=\"M 473.655032 257.35794 \nL 476.070617 257.35794 \n\" style=\"fill:none;stroke:#f7b6d2;stroke-linecap:square;stroke-width:1.5;\"/>\n   </g>\n   <g id=\"line2d_184\">\n    <path clip-path=\"url(#p0a11f03510)\" d=\"M 473.655032 201.746506 \nL 476.070617 201.746506 \n\" style=\"fill:none;stroke:#f7b6d2;stroke-linecap:square;stroke-width:1.5;\"/>\n   </g>\n   <g id=\"line2d_185\">\n    <path clip-path=\"url(#p0a11f03510)\" d=\"M 477.681006 201.746506 \nL 485.732955 201.746506 \n\" style=\"fill:none;stroke:#f7b6d2;stroke-linecap:square;stroke-width:1.5;\"/>\n   </g>\n   <g id=\"line2d_186\">\n    <path clip-path=\"url(#p0a11f03510)\" d=\"M 485.732955 257.35794 \nL 488.148539 257.35794 \n\" style=\"fill:none;stroke:#f7b6d2;stroke-linecap:square;stroke-width:1.5;\"/>\n   </g>\n   <g id=\"line2d_187\">\n    <path clip-path=\"url(#p0a11f03510)\" d=\"M 485.732955 201.746506 \nL 488.148539 201.746506 \n\" style=\"fill:none;stroke:#f7b6d2;stroke-linecap:square;stroke-width:1.5;\"/>\n   </g>\n   <g id=\"line2d_188\">\n    <path clip-path=\"url(#p0a11f03510)\" d=\"M 488.148539 146.135072 \nL 681.395292 146.135072 \n\" style=\"fill:none;stroke:#f7b6d2;stroke-linecap:square;stroke-width:1.5;\"/>\n   </g>\n   <g id=\"line2d_189\">\n    <path clip-path=\"url(#p0a11f03510)\" d=\"M 681.395292 257.35794 \nL 683.810877 257.35794 \n\" style=\"fill:none;stroke:#f7b6d2;stroke-linecap:square;stroke-width:1.5;\"/>\n   </g>\n   <g id=\"line2d_190\">\n    <path clip-path=\"url(#p0a11f03510)\" d=\"M 683.810877 90.523638 \nL 698.304383 90.523638 \n\" style=\"fill:none;stroke:#f7b6d2;stroke-linecap:square;stroke-width:1.5;\"/>\n   </g>\n   <g id=\"line2d_191\">\n    <path clip-path=\"url(#p0a11f03510)\" d=\"M 782.849838 257.35794 \nL 785.265422 257.35794 \n\" style=\"fill:none;stroke:#f7b6d2;stroke-linecap:square;stroke-width:1.5;\"/>\n   </g>\n   <g id=\"line2d_192\">\n    <path clip-path=\"url(#p0a11f03510)\" d=\"M 782.849838 34.912204 \nL 785.265422 34.912204 \n\" style=\"fill:none;stroke:#f7b6d2;stroke-linecap:square;stroke-width:1.5;\"/>\n   </g>\n   <g id=\"line2d_193\">\n    <path clip-path=\"url(#p0a11f03510)\" d=\"M 785.265422 34.912204 \nL 794.92776 34.912204 \n\" style=\"fill:none;stroke:#f7b6d2;stroke-linecap:square;stroke-width:1.5;\"/>\n   </g>\n   <g id=\"line2d_194\">\n    <path clip-path=\"url(#p0a11f03510)\" d=\"M 794.92776 257.35794 \nL 797.343344 257.35794 \n\" style=\"fill:none;stroke:#f7b6d2;stroke-linecap:square;stroke-width:1.5;\"/>\n   </g>\n   <g id=\"line2d_195\">\n    <path clip-path=\"url(#p0a11f03510)\" d=\"M 794.92776 34.912204 \nL 797.343344 34.912204 \n\" style=\"fill:none;stroke:#f7b6d2;stroke-linecap:square;stroke-width:1.5;\"/>\n   </g>\n   <g id=\"line2d_196\">\n    <path clip-path=\"url(#p0a11f03510)\" d=\"M 458.356331 265.780787 \nL 460.771916 265.780787 \n\" style=\"fill:none;stroke:#7f7f7f;stroke-linecap:square;stroke-width:1.5;\"/>\n   </g>\n   <g id=\"line2d_197\">\n    <path clip-path=\"url(#p0a11f03510)\" d=\"M 458.356331 210.169353 \nL 460.771916 210.169353 \n\" style=\"fill:none;stroke:#7f7f7f;stroke-linecap:square;stroke-width:1.5;\"/>\n   </g>\n   <g id=\"line2d_198\">\n    <path clip-path=\"url(#p0a11f03510)\" d=\"M 463.1875 210.169353 \nL 471.239448 210.169353 \n\" style=\"fill:none;stroke:#7f7f7f;stroke-linecap:square;stroke-width:1.5;\"/>\n   </g>\n   <g id=\"line2d_199\">\n    <path clip-path=\"url(#p0a11f03510)\" d=\"M 471.239448 265.780787 \nL 473.655032 265.780787 \n\" style=\"fill:none;stroke:#7f7f7f;stroke-linecap:square;stroke-width:1.5;\"/>\n   </g>\n   <g id=\"line2d_200\">\n    <path clip-path=\"url(#p0a11f03510)\" d=\"M 471.239448 210.169353 \nL 473.655032 210.169353 \n\" style=\"fill:none;stroke:#7f7f7f;stroke-linecap:square;stroke-width:1.5;\"/>\n   </g>\n   <g id=\"line2d_201\">\n    <path clip-path=\"url(#p0a11f03510)\" d=\"M 473.655032 154.557919 \nL 570.278409 154.557919 \n\" style=\"fill:none;stroke:#7f7f7f;stroke-linecap:square;stroke-width:1.5;\"/>\n   </g>\n   <g id=\"line2d_202\">\n    <path clip-path=\"url(#p0a11f03510)\" d=\"M 570.278409 265.780787 \nL 572.693994 265.780787 \n\" style=\"fill:none;stroke:#7f7f7f;stroke-linecap:square;stroke-width:1.5;\"/>\n   </g>\n   <g id=\"line2d_203\">\n    <path clip-path=\"url(#p0a11f03510)\" d=\"M 572.693994 98.946485 \nL 587.1875 98.946485 \n\" style=\"fill:none;stroke:#7f7f7f;stroke-linecap:square;stroke-width:1.5;\"/>\n   </g>\n   <g id=\"line2d_204\">\n    <path clip-path=\"url(#p0a11f03510)\" d=\"M 651.603084 265.780787 \nL 654.018669 265.780787 \n\" style=\"fill:none;stroke:#7f7f7f;stroke-linecap:square;stroke-width:1.5;\"/>\n   </g>\n   <g id=\"line2d_205\">\n    <path clip-path=\"url(#p0a11f03510)\" d=\"M 651.603084 43.335052 \nL 654.018669 43.335052 \n\" style=\"fill:none;stroke:#7f7f7f;stroke-linecap:square;stroke-width:1.5;\"/>\n   </g>\n   <g id=\"line2d_206\">\n    <path clip-path=\"url(#p0a11f03510)\" d=\"M 654.018669 43.335052 \nL 663.681006 43.335052 \n\" style=\"fill:none;stroke:#7f7f7f;stroke-linecap:square;stroke-width:1.5;\"/>\n   </g>\n   <g id=\"line2d_207\">\n    <path clip-path=\"url(#p0a11f03510)\" d=\"M 663.681006 265.780787 \nL 666.096591 265.780787 \n\" style=\"fill:none;stroke:#7f7f7f;stroke-linecap:square;stroke-width:1.5;\"/>\n   </g>\n   <g id=\"line2d_208\">\n    <path clip-path=\"url(#p0a11f03510)\" d=\"M 663.681006 43.335052 \nL 666.096591 43.335052 \n\" style=\"fill:none;stroke:#7f7f7f;stroke-linecap:square;stroke-width:1.5;\"/>\n   </g>\n   <g id=\"line2d_209\">\n    <path clip-path=\"url(#p0a11f03510)\" d=\"M 432.590097 266.645455 \nL 435.005682 266.645455 \n\" style=\"fill:none;stroke:#c7c7c7;stroke-linecap:square;stroke-width:1.5;\"/>\n   </g>\n   <g id=\"line2d_210\">\n    <path clip-path=\"url(#p0a11f03510)\" d=\"M 432.590097 211.034021 \nL 435.005682 211.034021 \n\" style=\"fill:none;stroke:#c7c7c7;stroke-linecap:square;stroke-width:1.5;\"/>\n   </g>\n   <g id=\"line2d_211\">\n    <path clip-path=\"url(#p0a11f03510)\" d=\"M 435.005682 211.034021 \nL 443.05763 211.034021 \n\" style=\"fill:none;stroke:#c7c7c7;stroke-linecap:square;stroke-width:1.5;\"/>\n   </g>\n   <g id=\"line2d_212\">\n    <path clip-path=\"url(#p0a11f03510)\" d=\"M 443.05763 266.645455 \nL 445.473214 266.645455 \n\" style=\"fill:none;stroke:#c7c7c7;stroke-linecap:square;stroke-width:1.5;\"/>\n   </g>\n   <g id=\"line2d_213\">\n    <path clip-path=\"url(#p0a11f03510)\" d=\"M 443.05763 211.034021 \nL 445.473214 211.034021 \n\" style=\"fill:none;stroke:#c7c7c7;stroke-linecap:square;stroke-width:1.5;\"/>\n   </g>\n   <g id=\"line2d_214\">\n    <path clip-path=\"url(#p0a11f03510)\" d=\"M 445.473214 155.422587 \nL 735.343344 155.422587 \n\" style=\"fill:none;stroke:#c7c7c7;stroke-linecap:square;stroke-width:1.5;\"/>\n   </g>\n   <g id=\"line2d_215\">\n    <path clip-path=\"url(#p0a11f03510)\" d=\"M 735.343344 266.645455 \nL 737.758929 266.645455 \n\" style=\"fill:none;stroke:#c7c7c7;stroke-linecap:square;stroke-width:1.5;\"/>\n   </g>\n   <g id=\"line2d_216\">\n    <path clip-path=\"url(#p0a11f03510)\" d=\"M 737.758929 99.811153 \nL 752.252435 99.811153 \n\" style=\"fill:none;stroke:#c7c7c7;stroke-linecap:square;stroke-width:1.5;\"/>\n   </g>\n   <g id=\"line2d_217\">\n    <path clip-path=\"url(#p0a11f03510)\" d=\"M 753.862825 266.645455 \nL 756.278409 266.645455 \n\" style=\"fill:none;stroke:#c7c7c7;stroke-linecap:square;stroke-width:1.5;\"/>\n   </g>\n   <g id=\"line2d_218\">\n    <path clip-path=\"url(#p0a11f03510)\" d=\"M 753.862825 44.199719 \nL 756.278409 44.199719 \n\" style=\"fill:none;stroke:#c7c7c7;stroke-linecap:square;stroke-width:1.5;\"/>\n   </g>\n   <g id=\"line2d_219\">\n    <path clip-path=\"url(#p0a11f03510)\" d=\"M 756.278409 44.199719 \nL 765.940747 44.199719 \n\" style=\"fill:none;stroke:#c7c7c7;stroke-linecap:square;stroke-width:1.5;\"/>\n   </g>\n   <g id=\"line2d_220\">\n    <path clip-path=\"url(#p0a11f03510)\" d=\"M 765.940747 266.645455 \nL 768.356331 266.645455 \n\" style=\"fill:none;stroke:#c7c7c7;stroke-linecap:square;stroke-width:1.5;\"/>\n   </g>\n   <g id=\"line2d_221\">\n    <path clip-path=\"url(#p0a11f03510)\" d=\"M 765.940747 44.199719 \nL 768.356331 44.199719 \n\" style=\"fill:none;stroke:#c7c7c7;stroke-linecap:square;stroke-width:1.5;\"/>\n   </g>\n   <g id=\"line2d_222\">\n    <path clip-path=\"url(#p0a11f03510)\" d=\"M 515.525162 248.720776 \nL 517.940747 248.720776 \n\" style=\"fill:none;stroke:#bcbd22;stroke-linecap:square;stroke-width:1.5;\"/>\n   </g>\n   <g id=\"line2d_223\">\n    <path clip-path=\"url(#p0a11f03510)\" d=\"M 515.525162 193.109342 \nL 517.940747 193.109342 \n\" style=\"fill:none;stroke:#bcbd22;stroke-linecap:square;stroke-width:1.5;\"/>\n   </g>\n   <g id=\"line2d_224\">\n    <path clip-path=\"url(#p0a11f03510)\" d=\"M 521.161526 193.109342 \nL 529.213474 193.109342 \n\" style=\"fill:none;stroke:#bcbd22;stroke-linecap:square;stroke-width:1.5;\"/>\n   </g>\n   <g id=\"line2d_225\">\n    <path clip-path=\"url(#p0a11f03510)\" d=\"M 529.213474 248.720776 \nL 531.629058 248.720776 \n\" style=\"fill:none;stroke:#bcbd22;stroke-linecap:square;stroke-width:1.5;\"/>\n   </g>\n   <g id=\"line2d_226\">\n    <path clip-path=\"url(#p0a11f03510)\" d=\"M 529.213474 193.109342 \nL 531.629058 193.109342 \n\" style=\"fill:none;stroke:#bcbd22;stroke-linecap:square;stroke-width:1.5;\"/>\n   </g>\n   <g id=\"line2d_227\">\n    <path clip-path=\"url(#p0a11f03510)\" d=\"M 531.629058 137.497908 \nL 724.875812 137.497908 \n\" style=\"fill:none;stroke:#bcbd22;stroke-linecap:square;stroke-width:1.5;\"/>\n   </g>\n   <g id=\"line2d_228\">\n    <path clip-path=\"url(#p0a11f03510)\" d=\"M 724.875812 248.720776 \nL 727.291396 248.720776 \n\" style=\"fill:none;stroke:#bcbd22;stroke-linecap:square;stroke-width:1.5;\"/>\n   </g>\n   <g id=\"line2d_229\">\n    <path clip-path=\"url(#p0a11f03510)\" d=\"M 727.291396 81.886474 \nL 741.784903 81.886474 \n\" style=\"fill:none;stroke:#bcbd22;stroke-linecap:square;stroke-width:1.5;\"/>\n   </g>\n   <g id=\"line2d_230\">\n    <path clip-path=\"url(#p0a11f03510)\" d=\"M 797.343344 248.720776 \nL 799.758929 248.720776 \n\" style=\"fill:none;stroke:#bcbd22;stroke-linecap:square;stroke-width:1.5;\"/>\n   </g>\n   <g id=\"line2d_231\">\n    <path clip-path=\"url(#p0a11f03510)\" d=\"M 797.343344 26.27504 \nL 799.758929 26.27504 \n\" style=\"fill:none;stroke:#bcbd22;stroke-linecap:square;stroke-width:1.5;\"/>\n   </g>\n   <g id=\"line2d_232\">\n    <path clip-path=\"url(#p0a11f03510)\" d=\"M 799.758929 26.27504 \nL 809.421266 26.27504 \n\" style=\"fill:none;stroke:#bcbd22;stroke-linecap:square;stroke-width:1.5;\"/>\n   </g>\n   <g id=\"line2d_233\">\n    <path clip-path=\"url(#p0a11f03510)\" d=\"M 809.421266 248.720776 \nL 811.836851 248.720776 \n\" style=\"fill:none;stroke:#bcbd22;stroke-linecap:square;stroke-width:1.5;\"/>\n   </g>\n   <g id=\"line2d_234\">\n    <path clip-path=\"url(#p0a11f03510)\" d=\"M 809.421266 26.27504 \nL 811.836851 26.27504 \n\" style=\"fill:none;stroke:#bcbd22;stroke-linecap:square;stroke-width:1.5;\"/>\n   </g>\n   <g id=\"line2d_235\">\n    <path clip-path=\"url(#p0a11f03510)\" d=\"M 234.512175 266.109134 \nL 236.92776 266.109134 \n\" style=\"fill:none;stroke:#dbdb8d;stroke-linecap:square;stroke-width:1.5;\"/>\n   </g>\n   <g id=\"line2d_236\">\n    <path clip-path=\"url(#p0a11f03510)\" d=\"M 234.512175 210.4977 \nL 236.92776 210.4977 \n\" style=\"fill:none;stroke:#dbdb8d;stroke-linecap:square;stroke-width:1.5;\"/>\n   </g>\n   <g id=\"line2d_237\">\n    <path clip-path=\"url(#p0a11f03510)\" d=\"M 236.92776 210.4977 \nL 244.979708 210.4977 \n\" style=\"fill:none;stroke:#dbdb8d;stroke-linecap:square;stroke-width:1.5;\"/>\n   </g>\n   <g id=\"line2d_238\">\n    <path clip-path=\"url(#p0a11f03510)\" d=\"M 244.979708 266.109134 \nL 247.395292 266.109134 \n\" style=\"fill:none;stroke:#dbdb8d;stroke-linecap:square;stroke-width:1.5;\"/>\n   </g>\n   <g id=\"line2d_239\">\n    <path clip-path=\"url(#p0a11f03510)\" d=\"M 244.979708 210.4977 \nL 247.395292 210.4977 \n\" style=\"fill:none;stroke:#dbdb8d;stroke-linecap:square;stroke-width:1.5;\"/>\n   </g>\n   <g id=\"line2d_240\">\n    <path clip-path=\"url(#p0a11f03510)\" d=\"M 247.395292 154.886266 \nL 344.018669 154.886266 \n\" style=\"fill:none;stroke:#dbdb8d;stroke-linecap:square;stroke-width:1.5;\"/>\n   </g>\n   <g id=\"line2d_241\">\n    <path clip-path=\"url(#p0a11f03510)\" d=\"M 344.018669 266.109134 \nL 346.434253 266.109134 \n\" style=\"fill:none;stroke:#dbdb8d;stroke-linecap:square;stroke-width:1.5;\"/>\n   </g>\n   <g id=\"line2d_242\">\n    <path clip-path=\"url(#p0a11f03510)\" d=\"M 346.434253 99.274832 \nL 360.92776 99.274832 \n\" style=\"fill:none;stroke:#dbdb8d;stroke-linecap:square;stroke-width:1.5;\"/>\n   </g>\n   <g id=\"line2d_243\">\n    <path clip-path=\"url(#p0a11f03510)\" d=\"M 385.083604 266.109134 \nL 387.499188 266.109134 \n\" style=\"fill:none;stroke:#dbdb8d;stroke-linecap:square;stroke-width:1.5;\"/>\n   </g>\n   <g id=\"line2d_244\">\n    <path clip-path=\"url(#p0a11f03510)\" d=\"M 385.083604 43.663398 \nL 387.499188 43.663398 \n\" style=\"fill:none;stroke:#dbdb8d;stroke-linecap:square;stroke-width:1.5;\"/>\n   </g>\n   <g id=\"line2d_245\">\n    <path clip-path=\"url(#p0a11f03510)\" d=\"M 387.499188 43.663398 \nL 397.161526 43.663398 \n\" style=\"fill:none;stroke:#dbdb8d;stroke-linecap:square;stroke-width:1.5;\"/>\n   </g>\n   <g id=\"line2d_246\">\n    <path clip-path=\"url(#p0a11f03510)\" d=\"M 397.161526 266.109134 \nL 399.57711 266.109134 \n\" style=\"fill:none;stroke:#dbdb8d;stroke-linecap:square;stroke-width:1.5;\"/>\n   </g>\n   <g id=\"line2d_247\">\n    <path clip-path=\"url(#p0a11f03510)\" d=\"M 397.161526 43.663398 \nL 399.57711 43.663398 \n\" style=\"fill:none;stroke:#dbdb8d;stroke-linecap:square;stroke-width:1.5;\"/>\n   </g>\n   <g id=\"line2d_248\">\n    <path clip-path=\"url(#p0a11f03510)\" d=\"M 531.629058 244.621025 \nL 534.044643 244.621025 \n\" style=\"fill:none;stroke:#17becf;stroke-linecap:square;stroke-width:1.5;\"/>\n   </g>\n   <g id=\"line2d_249\">\n    <path clip-path=\"url(#p0a11f03510)\" d=\"M 531.629058 189.009592 \nL 534.044643 189.009592 \n\" style=\"fill:none;stroke:#17becf;stroke-linecap:square;stroke-width:1.5;\"/>\n   </g>\n   <g id=\"line2d_250\">\n    <path clip-path=\"url(#p0a11f03510)\" d=\"M 534.044643 189.009592 \nL 542.096591 189.009592 \n\" style=\"fill:none;stroke:#17becf;stroke-linecap:square;stroke-width:1.5;\"/>\n   </g>\n   <g id=\"line2d_251\">\n    <path clip-path=\"url(#p0a11f03510)\" d=\"M 542.096591 244.621025 \nL 544.512175 244.621025 \n\" style=\"fill:none;stroke:#17becf;stroke-linecap:square;stroke-width:1.5;\"/>\n   </g>\n   <g id=\"line2d_252\">\n    <path clip-path=\"url(#p0a11f03510)\" d=\"M 542.096591 189.009592 \nL 544.512175 189.009592 \n\" style=\"fill:none;stroke:#17becf;stroke-linecap:square;stroke-width:1.5;\"/>\n   </g>\n   <g id=\"line2d_253\">\n    <path clip-path=\"url(#p0a11f03510)\" d=\"M 544.512175 133.398158 \nL 834.382305 133.398158 \n\" style=\"fill:none;stroke:#17becf;stroke-linecap:square;stroke-width:1.5;\"/>\n   </g>\n   <g id=\"line2d_254\">\n    <path clip-path=\"url(#p0a11f03510)\" d=\"M 834.382305 244.621025 \nL 836.79789 244.621025 \n\" style=\"fill:none;stroke:#17becf;stroke-linecap:square;stroke-width:1.5;\"/>\n   </g>\n   <g id=\"line2d_255\">\n    <path clip-path=\"url(#p0a11f03510)\" d=\"M 836.79789 77.786724 \nL 851.291396 77.786724 \n\" style=\"fill:none;stroke:#17becf;stroke-linecap:square;stroke-width:1.5;\"/>\n   </g>\n   <g id=\"line2d_256\">\n    <path clip-path=\"url(#p0a11f03510)\" d=\"M 851.291396 244.621025 \nL 853.706981 244.621025 \n\" style=\"fill:none;stroke:#17becf;stroke-linecap:square;stroke-width:1.5;\"/>\n   </g>\n   <g id=\"line2d_257\">\n    <path clip-path=\"url(#p0a11f03510)\" d=\"M 851.291396 22.17529 \nL 853.706981 22.17529 \n\" style=\"fill:none;stroke:#17becf;stroke-linecap:square;stroke-width:1.5;\"/>\n   </g>\n   <g id=\"line2d_258\">\n    <path clip-path=\"url(#p0a11f03510)\" d=\"M 853.706981 22.17529 \nL 863.369318 22.17529 \n\" style=\"fill:none;stroke:#17becf;stroke-linecap:square;stroke-width:1.5;\"/>\n   </g>\n   <g id=\"line2d_259\">\n    <path clip-path=\"url(#p0a11f03510)\" d=\"M 863.369318 244.621025 \nL 865.784903 244.621025 \n\" style=\"fill:none;stroke:#17becf;stroke-linecap:square;stroke-width:1.5;\"/>\n   </g>\n   <g id=\"line2d_260\">\n    <path clip-path=\"url(#p0a11f03510)\" d=\"M 863.369318 22.17529 \nL 865.784903 22.17529 \n\" style=\"fill:none;stroke:#17becf;stroke-linecap:square;stroke-width:1.5;\"/>\n   </g>\n   <g id=\"line2d_261\">\n    <path clip-path=\"url(#p0a11f03510)\" d=\"M 557.395292 262.765846 \nL 559.810877 262.765846 \n\" style=\"fill:none;stroke:#9edae5;stroke-linecap:square;stroke-width:1.5;\"/>\n   </g>\n   <g id=\"line2d_262\">\n    <path clip-path=\"url(#p0a11f03510)\" d=\"M 557.395292 207.154412 \nL 559.810877 207.154412 \n\" style=\"fill:none;stroke:#9edae5;stroke-linecap:square;stroke-width:1.5;\"/>\n   </g>\n   <g id=\"line2d_263\">\n    <path clip-path=\"url(#p0a11f03510)\" d=\"M 567.05763 207.154412 \nL 575.109578 207.154412 \n\" style=\"fill:none;stroke:#9edae5;stroke-linecap:square;stroke-width:1.5;\"/>\n   </g>\n   <g id=\"line2d_264\">\n    <path clip-path=\"url(#p0a11f03510)\" d=\"M 575.109578 262.765846 \nL 577.525162 262.765846 \n\" style=\"fill:none;stroke:#9edae5;stroke-linecap:square;stroke-width:1.5;\"/>\n   </g>\n   <g id=\"line2d_265\">\n    <path clip-path=\"url(#p0a11f03510)\" d=\"M 575.109578 207.154412 \nL 577.525162 207.154412 \n\" style=\"fill:none;stroke:#9edae5;stroke-linecap:square;stroke-width:1.5;\"/>\n   </g>\n   <g id=\"line2d_266\">\n    <path clip-path=\"url(#p0a11f03510)\" d=\"M 577.525162 151.542978 \nL 770.771916 151.542978 \n\" style=\"fill:none;stroke:#9edae5;stroke-linecap:square;stroke-width:1.5;\"/>\n   </g>\n   <g id=\"line2d_267\">\n    <path clip-path=\"url(#p0a11f03510)\" d=\"M 770.771916 262.765846 \nL 773.1875 262.765846 \n\" style=\"fill:none;stroke:#9edae5;stroke-linecap:square;stroke-width:1.5;\"/>\n   </g>\n   <g id=\"line2d_268\">\n    <path clip-path=\"url(#p0a11f03510)\" d=\"M 773.1875 95.931544 \nL 787.681006 95.931544 \n\" style=\"fill:none;stroke:#9edae5;stroke-linecap:square;stroke-width:1.5;\"/>\n   </g>\n   <g id=\"line2d_269\">\n    <path clip-path=\"url(#p0a11f03510)\" d=\"M 811.836851 262.765846 \nL 814.252435 262.765846 \n\" style=\"fill:none;stroke:#9edae5;stroke-linecap:square;stroke-width:1.5;\"/>\n   </g>\n   <g id=\"line2d_270\">\n    <path clip-path=\"url(#p0a11f03510)\" d=\"M 811.836851 40.32011 \nL 814.252435 40.32011 \n\" style=\"fill:none;stroke:#9edae5;stroke-linecap:square;stroke-width:1.5;\"/>\n   </g>\n   <g id=\"line2d_271\">\n    <path clip-path=\"url(#p0a11f03510)\" d=\"M 814.252435 40.32011 \nL 823.914773 40.32011 \n\" style=\"fill:none;stroke:#9edae5;stroke-linecap:square;stroke-width:1.5;\"/>\n   </g>\n   <g id=\"line2d_272\">\n    <path clip-path=\"url(#p0a11f03510)\" d=\"M 823.914773 262.765846 \nL 826.330357 262.765846 \n\" style=\"fill:none;stroke:#9edae5;stroke-linecap:square;stroke-width:1.5;\"/>\n   </g>\n   <g id=\"line2d_273\">\n    <path clip-path=\"url(#p0a11f03510)\" d=\"M 823.914773 40.32011 \nL 826.330357 40.32011 \n\" style=\"fill:none;stroke:#9edae5;stroke-linecap:square;stroke-width:1.5;\"/>\n   </g>\n   <g id=\"line2d_274\">\n    <path clip-path=\"url(#p0a11f03510)\" d=\"M 502.642045 248.279102 \nL 505.05763 248.279102 \n\" style=\"fill:none;stroke:#1f77b4;stroke-linecap:square;stroke-width:1.5;\"/>\n   </g>\n   <g id=\"line2d_275\">\n    <path clip-path=\"url(#p0a11f03510)\" d=\"M 502.642045 192.667668 \nL 505.05763 192.667668 \n\" style=\"fill:none;stroke:#1f77b4;stroke-linecap:square;stroke-width:1.5;\"/>\n   </g>\n   <g id=\"line2d_276\">\n    <path clip-path=\"url(#p0a11f03510)\" d=\"M 505.05763 192.667668 \nL 513.109578 192.667668 \n\" style=\"fill:none;stroke:#1f77b4;stroke-linecap:square;stroke-width:1.5;\"/>\n   </g>\n   <g id=\"line2d_277\">\n    <path clip-path=\"url(#p0a11f03510)\" d=\"M 513.109578 248.279102 \nL 515.525162 248.279102 \n\" style=\"fill:none;stroke:#1f77b4;stroke-linecap:square;stroke-width:1.5;\"/>\n   </g>\n   <g id=\"line2d_278\">\n    <path clip-path=\"url(#p0a11f03510)\" d=\"M 513.109578 192.667668 \nL 515.525162 192.667668 \n\" style=\"fill:none;stroke:#1f77b4;stroke-linecap:square;stroke-width:1.5;\"/>\n   </g>\n   <g id=\"line2d_279\">\n    <path clip-path=\"url(#p0a11f03510)\" d=\"M 515.525162 137.056234 \nL 612.148539 137.056234 \n\" style=\"fill:none;stroke:#1f77b4;stroke-linecap:square;stroke-width:1.5;\"/>\n   </g>\n   <g id=\"line2d_280\">\n    <path clip-path=\"url(#p0a11f03510)\" d=\"M 612.148539 248.279102 \nL 614.564123 248.279102 \n\" style=\"fill:none;stroke:#1f77b4;stroke-linecap:square;stroke-width:1.5;\"/>\n   </g>\n   <g id=\"line2d_281\">\n    <path clip-path=\"url(#p0a11f03510)\" d=\"M 614.564123 81.4448 \nL 629.05763 81.4448 \n\" style=\"fill:none;stroke:#1f77b4;stroke-linecap:square;stroke-width:1.5;\"/>\n   </g>\n   <g id=\"line2d_282\">\n    <path clip-path=\"url(#p0a11f03510)\" d=\"M 637.109578 248.279102 \nL 639.525162 248.279102 \n\" style=\"fill:none;stroke:#1f77b4;stroke-linecap:square;stroke-width:1.5;\"/>\n   </g>\n   <g id=\"line2d_283\">\n    <path clip-path=\"url(#p0a11f03510)\" d=\"M 637.109578 25.833366 \nL 639.525162 25.833366 \n\" style=\"fill:none;stroke:#1f77b4;stroke-linecap:square;stroke-width:1.5;\"/>\n   </g>\n   <g id=\"line2d_284\">\n    <path clip-path=\"url(#p0a11f03510)\" d=\"M 639.525162 25.833366 \nL 649.1875 25.833366 \n\" style=\"fill:none;stroke:#1f77b4;stroke-linecap:square;stroke-width:1.5;\"/>\n   </g>\n   <g id=\"line2d_285\">\n    <path clip-path=\"url(#p0a11f03510)\" d=\"M 649.1875 248.279102 \nL 651.603084 248.279102 \n\" style=\"fill:none;stroke:#1f77b4;stroke-linecap:square;stroke-width:1.5;\"/>\n   </g>\n   <g id=\"line2d_286\">\n    <path clip-path=\"url(#p0a11f03510)\" d=\"M 649.1875 25.833366 \nL 651.603084 25.833366 \n\" style=\"fill:none;stroke:#1f77b4;stroke-linecap:square;stroke-width:1.5;\"/>\n   </g>\n   <g id=\"line2d_287\">\n    <path clip-path=\"url(#p0a11f03510)\" d=\"M 445.473214 266.195461 \nL 447.888799 266.195461 \n\" style=\"fill:none;stroke:#aec7e8;stroke-linecap:square;stroke-width:1.5;\"/>\n   </g>\n   <g id=\"line2d_288\">\n    <path clip-path=\"url(#p0a11f03510)\" d=\"M 445.473214 210.584027 \nL 447.888799 210.584027 \n\" style=\"fill:none;stroke:#aec7e8;stroke-linecap:square;stroke-width:1.5;\"/>\n   </g>\n   <g id=\"line2d_289\">\n    <path clip-path=\"url(#p0a11f03510)\" d=\"M 447.888799 210.584027 \nL 455.940747 210.584027 \n\" style=\"fill:none;stroke:#aec7e8;stroke-linecap:square;stroke-width:1.5;\"/>\n   </g>\n   <g id=\"line2d_290\">\n    <path clip-path=\"url(#p0a11f03510)\" d=\"M 455.940747 266.195461 \nL 458.356331 266.195461 \n\" style=\"fill:none;stroke:#aec7e8;stroke-linecap:square;stroke-width:1.5;\"/>\n   </g>\n   <g id=\"line2d_291\">\n    <path clip-path=\"url(#p0a11f03510)\" d=\"M 455.940747 210.584027 \nL 458.356331 210.584027 \n\" style=\"fill:none;stroke:#aec7e8;stroke-linecap:square;stroke-width:1.5;\"/>\n   </g>\n   <g id=\"line2d_292\">\n    <path clip-path=\"url(#p0a11f03510)\" d=\"M 458.356331 154.972593 \nL 748.226461 154.972593 \n\" style=\"fill:none;stroke:#aec7e8;stroke-linecap:square;stroke-width:1.5;\"/>\n   </g>\n   <g id=\"line2d_293\">\n    <path clip-path=\"url(#p0a11f03510)\" d=\"M 748.226461 266.195461 \nL 750.642045 266.195461 \n\" style=\"fill:none;stroke:#aec7e8;stroke-linecap:square;stroke-width:1.5;\"/>\n   </g>\n   <g id=\"line2d_294\">\n    <path clip-path=\"url(#p0a11f03510)\" d=\"M 750.642045 99.361159 \nL 765.135552 99.361159 \n\" style=\"fill:none;stroke:#aec7e8;stroke-linecap:square;stroke-width:1.5;\"/>\n   </g>\n   <g id=\"line2d_295\">\n    <path clip-path=\"url(#p0a11f03510)\" d=\"M 768.356331 266.195461 \nL 770.771916 266.195461 \n\" style=\"fill:none;stroke:#aec7e8;stroke-linecap:square;stroke-width:1.5;\"/>\n   </g>\n   <g id=\"line2d_296\">\n    <path clip-path=\"url(#p0a11f03510)\" d=\"M 768.356331 43.749726 \nL 770.771916 43.749726 \n\" style=\"fill:none;stroke:#aec7e8;stroke-linecap:square;stroke-width:1.5;\"/>\n   </g>\n   <g id=\"line2d_297\">\n    <path clip-path=\"url(#p0a11f03510)\" d=\"M 770.771916 43.749726 \nL 780.434253 43.749726 \n\" style=\"fill:none;stroke:#aec7e8;stroke-linecap:square;stroke-width:1.5;\"/>\n   </g>\n   <g id=\"line2d_298\">\n    <path clip-path=\"url(#p0a11f03510)\" d=\"M 780.434253 266.195461 \nL 782.849838 266.195461 \n\" style=\"fill:none;stroke:#aec7e8;stroke-linecap:square;stroke-width:1.5;\"/>\n   </g>\n   <g id=\"line2d_299\">\n    <path clip-path=\"url(#p0a11f03510)\" d=\"M 780.434253 43.749726 \nL 782.849838 43.749726 \n\" style=\"fill:none;stroke:#aec7e8;stroke-linecap:square;stroke-width:1.5;\"/>\n   </g>\n   <g id=\"line2d_300\">\n    <path clip-path=\"url(#p0a11f03510)\" d=\"M 488.148539 242.000281 \nL 490.564123 242.000281 \n\" style=\"fill:none;stroke:#ff7f0e;stroke-linecap:square;stroke-width:1.5;\"/>\n   </g>\n   <g id=\"line2d_301\">\n    <path clip-path=\"url(#p0a11f03510)\" d=\"M 488.148539 186.388847 \nL 490.564123 186.388847 \n\" style=\"fill:none;stroke:#ff7f0e;stroke-linecap:square;stroke-width:1.5;\"/>\n   </g>\n   <g id=\"line2d_302\">\n    <path clip-path=\"url(#p0a11f03510)\" d=\"M 492.174513 186.388847 \nL 500.226461 186.388847 \n\" style=\"fill:none;stroke:#ff7f0e;stroke-linecap:square;stroke-width:1.5;\"/>\n   </g>\n   <g id=\"line2d_303\">\n    <path clip-path=\"url(#p0a11f03510)\" d=\"M 500.226461 242.000281 \nL 502.642045 242.000281 \n\" style=\"fill:none;stroke:#ff7f0e;stroke-linecap:square;stroke-width:1.5;\"/>\n   </g>\n   <g id=\"line2d_304\">\n    <path clip-path=\"url(#p0a11f03510)\" d=\"M 500.226461 186.388847 \nL 502.642045 186.388847 \n\" style=\"fill:none;stroke:#ff7f0e;stroke-linecap:square;stroke-width:1.5;\"/>\n   </g>\n   <g id=\"line2d_305\">\n    <path clip-path=\"url(#p0a11f03510)\" d=\"M 502.642045 130.777413 \nL 695.888799 130.777413 \n\" style=\"fill:none;stroke:#ff7f0e;stroke-linecap:square;stroke-width:1.5;\"/>\n   </g>\n   <g id=\"line2d_306\">\n    <path clip-path=\"url(#p0a11f03510)\" d=\"M 695.888799 242.000281 \nL 698.304383 242.000281 \n\" style=\"fill:none;stroke:#ff7f0e;stroke-linecap:square;stroke-width:1.5;\"/>\n   </g>\n   <g id=\"line2d_307\">\n    <path clip-path=\"url(#p0a11f03510)\" d=\"M 698.304383 75.165979 \nL 712.79789 75.165979 \n\" style=\"fill:none;stroke:#ff7f0e;stroke-linecap:square;stroke-width:1.5;\"/>\n   </g>\n   <g id=\"line2d_308\">\n    <path clip-path=\"url(#p0a11f03510)\" d=\"M 716.018669 242.000281 \nL 718.434253 242.000281 \n\" style=\"fill:none;stroke:#ff7f0e;stroke-linecap:square;stroke-width:1.5;\"/>\n   </g>\n   <g id=\"line2d_309\">\n    <path clip-path=\"url(#p0a11f03510)\" d=\"M 716.018669 19.554545 \nL 718.434253 19.554545 \n\" style=\"fill:none;stroke:#ff7f0e;stroke-linecap:square;stroke-width:1.5;\"/>\n   </g>\n   <g id=\"line2d_310\">\n    <path clip-path=\"url(#p0a11f03510)\" d=\"M 718.434253 19.554545 \nL 728.096591 19.554545 \n\" style=\"fill:none;stroke:#ff7f0e;stroke-linecap:square;stroke-width:1.5;\"/>\n   </g>\n   <g id=\"line2d_311\">\n    <path clip-path=\"url(#p0a11f03510)\" d=\"M 728.096591 242.000281 \nL 730.512175 242.000281 \n\" style=\"fill:none;stroke:#ff7f0e;stroke-linecap:square;stroke-width:1.5;\"/>\n   </g>\n   <g id=\"line2d_312\">\n    <path clip-path=\"url(#p0a11f03510)\" d=\"M 728.096591 19.554545 \nL 730.512175 19.554545 \n\" style=\"fill:none;stroke:#ff7f0e;stroke-linecap:square;stroke-width:1.5;\"/>\n   </g>\n   <g id=\"line2d_313\">\n    <path clip-path=\"url(#p0a11f03510)\" d=\"M 273.161526 242.905575 \nL 275.57711 242.905575 \n\" style=\"fill:none;stroke:#ffbb78;stroke-linecap:square;stroke-width:1.5;\"/>\n   </g>\n   <g id=\"line2d_314\">\n    <path clip-path=\"url(#p0a11f03510)\" d=\"M 273.161526 187.294141 \nL 275.57711 187.294141 \n\" style=\"fill:none;stroke:#ffbb78;stroke-linecap:square;stroke-width:1.5;\"/>\n   </g>\n   <g id=\"line2d_315\">\n    <path clip-path=\"url(#p0a11f03510)\" d=\"M 275.57711 187.294141 \nL 283.629058 187.294141 \n\" style=\"fill:none;stroke:#ffbb78;stroke-linecap:square;stroke-width:1.5;\"/>\n   </g>\n   <g id=\"line2d_316\">\n    <path clip-path=\"url(#p0a11f03510)\" d=\"M 283.629058 242.905575 \nL 286.044643 242.905575 \n\" style=\"fill:none;stroke:#ffbb78;stroke-linecap:square;stroke-width:1.5;\"/>\n   </g>\n   <g id=\"line2d_317\">\n    <path clip-path=\"url(#p0a11f03510)\" d=\"M 283.629058 187.294141 \nL 286.044643 187.294141 \n\" style=\"fill:none;stroke:#ffbb78;stroke-linecap:square;stroke-width:1.5;\"/>\n   </g>\n   <g id=\"line2d_318\">\n    <path clip-path=\"url(#p0a11f03510)\" d=\"M 286.044643 131.682707 \nL 382.668019 131.682707 \n\" style=\"fill:none;stroke:#ffbb78;stroke-linecap:square;stroke-width:1.5;\"/>\n   </g>\n   <g id=\"line2d_319\">\n    <path clip-path=\"url(#p0a11f03510)\" d=\"M 382.668019 242.905575 \nL 385.083604 242.905575 \n\" style=\"fill:none;stroke:#ffbb78;stroke-linecap:square;stroke-width:1.5;\"/>\n   </g>\n   <g id=\"line2d_320\">\n    <path clip-path=\"url(#p0a11f03510)\" d=\"M 385.083604 76.071274 \nL 399.57711 76.071274 \n\" style=\"fill:none;stroke:#ffbb78;stroke-linecap:square;stroke-width:1.5;\"/>\n   </g>\n   <g id=\"line2d_321\">\n    <path clip-path=\"url(#p0a11f03510)\" d=\"M 399.57711 242.905575 \nL 401.992695 242.905575 \n\" style=\"fill:none;stroke:#ffbb78;stroke-linecap:square;stroke-width:1.5;\"/>\n   </g>\n   <g id=\"line2d_322\">\n    <path clip-path=\"url(#p0a11f03510)\" d=\"M 399.57711 20.45984 \nL 401.992695 20.45984 \n\" style=\"fill:none;stroke:#ffbb78;stroke-linecap:square;stroke-width:1.5;\"/>\n   </g>\n   <g id=\"line2d_323\">\n    <path clip-path=\"url(#p0a11f03510)\" d=\"M 401.992695 20.45984 \nL 411.655032 20.45984 \n\" style=\"fill:none;stroke:#ffbb78;stroke-linecap:square;stroke-width:1.5;\"/>\n   </g>\n   <g id=\"line2d_324\">\n    <path clip-path=\"url(#p0a11f03510)\" d=\"M 411.655032 242.905575 \nL 414.070617 242.905575 \n\" style=\"fill:none;stroke:#ffbb78;stroke-linecap:square;stroke-width:1.5;\"/>\n   </g>\n   <g id=\"line2d_325\">\n    <path clip-path=\"url(#p0a11f03510)\" d=\"M 411.655032 20.45984 \nL 414.070617 20.45984 \n\" style=\"fill:none;stroke:#ffbb78;stroke-linecap:square;stroke-width:1.5;\"/>\n   </g>\n   <g id=\"line2d_326\">\n    <path clip-path=\"url(#p0a11f03510)\" d=\"M 367.369318 251.223312 \nL 369.784903 251.223312 \n\" style=\"fill:none;stroke:#2ca02c;stroke-linecap:square;stroke-width:1.5;\"/>\n   </g>\n   <g id=\"line2d_327\">\n    <path clip-path=\"url(#p0a11f03510)\" d=\"M 367.369318 195.611879 \nL 369.784903 195.611879 \n\" style=\"fill:none;stroke:#2ca02c;stroke-linecap:square;stroke-width:1.5;\"/>\n   </g>\n   <g id=\"line2d_328\">\n    <path clip-path=\"url(#p0a11f03510)\" d=\"M 369.784903 195.611879 \nL 377.836851 195.611879 \n\" style=\"fill:none;stroke:#2ca02c;stroke-linecap:square;stroke-width:1.5;\"/>\n   </g>\n   <g id=\"line2d_329\">\n    <path clip-path=\"url(#p0a11f03510)\" d=\"M 377.836851 251.223312 \nL 380.252435 251.223312 \n\" style=\"fill:none;stroke:#2ca02c;stroke-linecap:square;stroke-width:1.5;\"/>\n   </g>\n   <g id=\"line2d_330\">\n    <path clip-path=\"url(#p0a11f03510)\" d=\"M 377.836851 195.611879 \nL 380.252435 195.611879 \n\" style=\"fill:none;stroke:#2ca02c;stroke-linecap:square;stroke-width:1.5;\"/>\n   </g>\n   <g id=\"line2d_331\">\n    <path clip-path=\"url(#p0a11f03510)\" d=\"M 380.252435 140.000445 \nL 670.122565 140.000445 \n\" style=\"fill:none;stroke:#2ca02c;stroke-linecap:square;stroke-width:1.5;\"/>\n   </g>\n   <g id=\"line2d_332\">\n    <path clip-path=\"url(#p0a11f03510)\" d=\"M 670.122565 251.223312 \nL 672.538149 251.223312 \n\" style=\"fill:none;stroke:#2ca02c;stroke-linecap:square;stroke-width:1.5;\"/>\n   </g>\n   <g id=\"line2d_333\">\n    <path clip-path=\"url(#p0a11f03510)\" d=\"M 672.538149 84.389011 \nL 687.031656 84.389011 \n\" style=\"fill:none;stroke:#2ca02c;stroke-linecap:square;stroke-width:1.5;\"/>\n   </g>\n   <g id=\"line2d_334\">\n    <path clip-path=\"url(#p0a11f03510)\" d=\"M 687.031656 251.223312 \nL 689.44724 251.223312 \n\" style=\"fill:none;stroke:#2ca02c;stroke-linecap:square;stroke-width:1.5;\"/>\n   </g>\n   <g id=\"line2d_335\">\n    <path clip-path=\"url(#p0a11f03510)\" d=\"M 687.031656 28.777577 \nL 689.44724 28.777577 \n\" style=\"fill:none;stroke:#2ca02c;stroke-linecap:square;stroke-width:1.5;\"/>\n   </g>\n   <g id=\"line2d_336\">\n    <path clip-path=\"url(#p0a11f03510)\" d=\"M 689.44724 28.777577 \nL 699.109578 28.777577 \n\" style=\"fill:none;stroke:#2ca02c;stroke-linecap:square;stroke-width:1.5;\"/>\n   </g>\n   <g id=\"line2d_337\">\n    <path clip-path=\"url(#p0a11f03510)\" d=\"M 699.109578 251.223312 \nL 701.525162 251.223312 \n\" style=\"fill:none;stroke:#2ca02c;stroke-linecap:square;stroke-width:1.5;\"/>\n   </g>\n   <g id=\"line2d_338\">\n    <path clip-path=\"url(#p0a11f03510)\" d=\"M 699.109578 28.777577 \nL 701.525162 28.777577 \n\" style=\"fill:none;stroke:#2ca02c;stroke-linecap:square;stroke-width:1.5;\"/>\n   </g>\n   <g id=\"line2d_339\">\n    <path clip-path=\"url(#p0a11f03510)\" d=\"M 314.226461 257.628898 \nL 316.642045 257.628898 \n\" style=\"fill:none;stroke:#98df8a;stroke-linecap:square;stroke-width:1.5;\"/>\n   </g>\n   <g id=\"line2d_340\">\n    <path clip-path=\"url(#p0a11f03510)\" d=\"M 314.226461 202.017465 \nL 316.642045 202.017465 \n\" style=\"fill:none;stroke:#98df8a;stroke-linecap:square;stroke-width:1.5;\"/>\n   </g>\n   <g id=\"line2d_341\">\n    <path clip-path=\"url(#p0a11f03510)\" d=\"M 316.642045 202.017465 \nL 324.693994 202.017465 \n\" style=\"fill:none;stroke:#98df8a;stroke-linecap:square;stroke-width:1.5;\"/>\n   </g>\n   <g id=\"line2d_342\">\n    <path clip-path=\"url(#p0a11f03510)\" d=\"M 324.693994 257.628898 \nL 327.109578 257.628898 \n\" style=\"fill:none;stroke:#98df8a;stroke-linecap:square;stroke-width:1.5;\"/>\n   </g>\n   <g id=\"line2d_343\">\n    <path clip-path=\"url(#p0a11f03510)\" d=\"M 324.693994 202.017465 \nL 327.109578 202.017465 \n\" style=\"fill:none;stroke:#98df8a;stroke-linecap:square;stroke-width:1.5;\"/>\n   </g>\n   <g id=\"line2d_344\">\n    <path clip-path=\"url(#p0a11f03510)\" d=\"M 327.109578 146.406031 \nL 520.356331 146.406031 \n\" style=\"fill:none;stroke:#98df8a;stroke-linecap:square;stroke-width:1.5;\"/>\n   </g>\n   <g id=\"line2d_345\">\n    <path clip-path=\"url(#p0a11f03510)\" d=\"M 520.356331 257.628898 \nL 522.771916 257.628898 \n\" style=\"fill:none;stroke:#98df8a;stroke-linecap:square;stroke-width:1.5;\"/>\n   </g>\n   <g id=\"line2d_346\">\n    <path clip-path=\"url(#p0a11f03510)\" d=\"M 522.771916 90.794597 \nL 537.265422 90.794597 \n\" style=\"fill:none;stroke:#98df8a;stroke-linecap:square;stroke-width:1.5;\"/>\n   </g>\n   <g id=\"line2d_347\">\n    <path clip-path=\"url(#p0a11f03510)\" d=\"M 538.875812 257.628898 \nL 541.291396 257.628898 \n\" style=\"fill:none;stroke:#98df8a;stroke-linecap:square;stroke-width:1.5;\"/>\n   </g>\n   <g id=\"line2d_348\">\n    <path clip-path=\"url(#p0a11f03510)\" d=\"M 538.875812 35.183163 \nL 541.291396 35.183163 \n\" style=\"fill:none;stroke:#98df8a;stroke-linecap:square;stroke-width:1.5;\"/>\n   </g>\n   <g id=\"line2d_349\">\n    <path clip-path=\"url(#p0a11f03510)\" d=\"M 541.291396 35.183163 \nL 550.953734 35.183163 \n\" style=\"fill:none;stroke:#98df8a;stroke-linecap:square;stroke-width:1.5;\"/>\n   </g>\n   <g id=\"line2d_350\">\n    <path clip-path=\"url(#p0a11f03510)\" d=\"M 552.564123 257.628898 \nL 554.979708 257.628898 \n\" style=\"fill:none;stroke:#98df8a;stroke-linecap:square;stroke-width:1.5;\"/>\n   </g>\n   <g id=\"line2d_351\">\n    <path clip-path=\"url(#p0a11f03510)\" d=\"M 552.564123 35.183163 \nL 554.979708 35.183163 \n\" style=\"fill:none;stroke:#98df8a;stroke-linecap:square;stroke-width:1.5;\"/>\n   </g>\n   <g id=\"line2d_352\">\n    <path clip-path=\"url(#p0a11f03510)\" d=\"M 221.629058 251.714585 \nL 224.044643 251.714585 \n\" style=\"fill:none;stroke:#d62728;stroke-linecap:square;stroke-width:1.5;\"/>\n   </g>\n   <g id=\"line2d_353\">\n    <path clip-path=\"url(#p0a11f03510)\" d=\"M 221.629058 196.103151 \nL 224.044643 196.103151 \n\" style=\"fill:none;stroke:#d62728;stroke-linecap:square;stroke-width:1.5;\"/>\n   </g>\n   <g id=\"line2d_354\">\n    <path clip-path=\"url(#p0a11f03510)\" d=\"M 224.044643 196.103151 \nL 232.096591 196.103151 \n\" style=\"fill:none;stroke:#d62728;stroke-linecap:square;stroke-width:1.5;\"/>\n   </g>\n   <g id=\"line2d_355\">\n    <path clip-path=\"url(#p0a11f03510)\" d=\"M 232.096591 251.714585 \nL 234.512175 251.714585 \n\" style=\"fill:none;stroke:#d62728;stroke-linecap:square;stroke-width:1.5;\"/>\n   </g>\n   <g id=\"line2d_356\">\n    <path clip-path=\"url(#p0a11f03510)\" d=\"M 232.096591 196.103151 \nL 234.512175 196.103151 \n\" style=\"fill:none;stroke:#d62728;stroke-linecap:square;stroke-width:1.5;\"/>\n   </g>\n   <g id=\"line2d_357\">\n    <path clip-path=\"url(#p0a11f03510)\" d=\"M 234.512175 140.491717 \nL 331.135552 140.491717 \n\" style=\"fill:none;stroke:#d62728;stroke-linecap:square;stroke-width:1.5;\"/>\n   </g>\n   <g id=\"line2d_358\">\n    <path clip-path=\"url(#p0a11f03510)\" d=\"M 331.135552 251.714585 \nL 333.551136 251.714585 \n\" style=\"fill:none;stroke:#d62728;stroke-linecap:square;stroke-width:1.5;\"/>\n   </g>\n   <g id=\"line2d_359\">\n    <path clip-path=\"url(#p0a11f03510)\" d=\"M 333.551136 84.880284 \nL 348.044643 84.880284 \n\" style=\"fill:none;stroke:#d62728;stroke-linecap:square;stroke-width:1.5;\"/>\n   </g>\n   <g id=\"line2d_360\">\n    <path clip-path=\"url(#p0a11f03510)\" d=\"M 348.044643 251.714585 \nL 350.460227 251.714585 \n\" style=\"fill:none;stroke:#d62728;stroke-linecap:square;stroke-width:1.5;\"/>\n   </g>\n   <g id=\"line2d_361\">\n    <path clip-path=\"url(#p0a11f03510)\" d=\"M 348.044643 29.26885 \nL 350.460227 29.26885 \n\" style=\"fill:none;stroke:#d62728;stroke-linecap:square;stroke-width:1.5;\"/>\n   </g>\n   <g id=\"line2d_362\">\n    <path clip-path=\"url(#p0a11f03510)\" d=\"M 350.460227 29.26885 \nL 360.122565 29.26885 \n\" style=\"fill:none;stroke:#d62728;stroke-linecap:square;stroke-width:1.5;\"/>\n   </g>\n   <g id=\"line2d_363\">\n    <path clip-path=\"url(#p0a11f03510)\" d=\"M 360.122565 251.714585 \nL 362.538149 251.714585 \n\" style=\"fill:none;stroke:#d62728;stroke-linecap:square;stroke-width:1.5;\"/>\n   </g>\n   <g id=\"line2d_364\">\n    <path clip-path=\"url(#p0a11f03510)\" d=\"M 360.122565 29.26885 \nL 362.538149 29.26885 \n\" style=\"fill:none;stroke:#d62728;stroke-linecap:square;stroke-width:1.5;\"/>\n   </g>\n   <g id=\"line2d_365\">\n    <path clip-path=\"url(#p0a11f03510)\" d=\"M 544.512175 250.815841 \nL 546.92776 250.815841 \n\" style=\"fill:none;stroke:#ff9896;stroke-linecap:square;stroke-width:1.5;\"/>\n   </g>\n   <g id=\"line2d_366\">\n    <path clip-path=\"url(#p0a11f03510)\" d=\"M 544.512175 195.204407 \nL 546.92776 195.204407 \n\" style=\"fill:none;stroke:#ff9896;stroke-linecap:square;stroke-width:1.5;\"/>\n   </g>\n   <g id=\"line2d_367\">\n    <path clip-path=\"url(#p0a11f03510)\" d=\"M 546.92776 195.204407 \nL 554.979708 195.204407 \n\" style=\"fill:none;stroke:#ff9896;stroke-linecap:square;stroke-width:1.5;\"/>\n   </g>\n   <g id=\"line2d_368\">\n    <path clip-path=\"url(#p0a11f03510)\" d=\"M 554.979708 250.815841 \nL 557.395292 250.815841 \n\" style=\"fill:none;stroke:#ff9896;stroke-linecap:square;stroke-width:1.5;\"/>\n   </g>\n   <g id=\"line2d_369\">\n    <path clip-path=\"url(#p0a11f03510)\" d=\"M 554.979708 195.204407 \nL 557.395292 195.204407 \n\" style=\"fill:none;stroke:#ff9896;stroke-linecap:square;stroke-width:1.5;\"/>\n   </g>\n   <g id=\"line2d_370\">\n    <path clip-path=\"url(#p0a11f03510)\" d=\"M 557.395292 139.592973 \nL 847.265422 139.592973 \n\" style=\"fill:none;stroke:#ff9896;stroke-linecap:square;stroke-width:1.5;\"/>\n   </g>\n   <g id=\"line2d_371\">\n    <path clip-path=\"url(#p0a11f03510)\" d=\"M 847.265422 250.815841 \nL 849.681006 250.815841 \n\" style=\"fill:none;stroke:#ff9896;stroke-linecap:square;stroke-width:1.5;\"/>\n   </g>\n   <g id=\"line2d_372\">\n    <path clip-path=\"url(#p0a11f03510)\" d=\"M 849.681006 83.98154 \nL 864.174513 83.98154 \n\" style=\"fill:none;stroke:#ff9896;stroke-linecap:square;stroke-width:1.5;\"/>\n   </g>\n   <g id=\"line2d_373\">\n    <path clip-path=\"url(#p0a11f03510)\" d=\"M 865.784903 250.815841 \nL 868.200487 250.815841 \n\" style=\"fill:none;stroke:#ff9896;stroke-linecap:square;stroke-width:1.5;\"/>\n   </g>\n   <g id=\"line2d_374\">\n    <path clip-path=\"url(#p0a11f03510)\" d=\"M 865.784903 28.370106 \nL 868.200487 28.370106 \n\" style=\"fill:none;stroke:#ff9896;stroke-linecap:square;stroke-width:1.5;\"/>\n   </g>\n   <g id=\"line2d_375\">\n    <path clip-path=\"url(#p0a11f03510)\" d=\"M 868.200487 28.370106 \nL 877.862825 28.370106 \n\" style=\"fill:none;stroke:#ff9896;stroke-linecap:square;stroke-width:1.5;\"/>\n   </g>\n   <g id=\"line2d_376\">\n    <path clip-path=\"url(#p0a11f03510)\" d=\"M 877.862825 250.815841 \nL 880.278409 250.815841 \n\" style=\"fill:none;stroke:#ff9896;stroke-linecap:square;stroke-width:1.5;\"/>\n   </g>\n   <g id=\"line2d_377\">\n    <path clip-path=\"url(#p0a11f03510)\" d=\"M 877.862825 28.370106 \nL 880.278409 28.370106 \n\" style=\"fill:none;stroke:#ff9896;stroke-linecap:square;stroke-width:1.5;\"/>\n   </g>\n   <g id=\"line2d_378\">\n    <path clip-path=\"url(#p0a11f03510)\" d=\"M 393.940747 246.743555 \nL 396.356331 246.743555 \n\" style=\"fill:none;stroke:#9467bd;stroke-linecap:square;stroke-width:1.5;\"/>\n   </g>\n   <g id=\"line2d_379\">\n    <path clip-path=\"url(#p0a11f03510)\" d=\"M 393.940747 191.132121 \nL 396.356331 191.132121 \n\" style=\"fill:none;stroke:#9467bd;stroke-linecap:square;stroke-width:1.5;\"/>\n   </g>\n   <g id=\"line2d_380\">\n    <path clip-path=\"url(#p0a11f03510)\" d=\"M 396.356331 191.132121 \nL 404.408279 191.132121 \n\" style=\"fill:none;stroke:#9467bd;stroke-linecap:square;stroke-width:1.5;\"/>\n   </g>\n   <g id=\"line2d_381\">\n    <path clip-path=\"url(#p0a11f03510)\" d=\"M 404.408279 246.743555 \nL 406.823864 246.743555 \n\" style=\"fill:none;stroke:#9467bd;stroke-linecap:square;stroke-width:1.5;\"/>\n   </g>\n   <g id=\"line2d_382\">\n    <path clip-path=\"url(#p0a11f03510)\" d=\"M 404.408279 191.132121 \nL 406.823864 191.132121 \n\" style=\"fill:none;stroke:#9467bd;stroke-linecap:square;stroke-width:1.5;\"/>\n   </g>\n   <g id=\"line2d_383\">\n    <path clip-path=\"url(#p0a11f03510)\" d=\"M 406.823864 135.520687 \nL 600.070617 135.520687 \n\" style=\"fill:none;stroke:#9467bd;stroke-linecap:square;stroke-width:1.5;\"/>\n   </g>\n   <g id=\"line2d_384\">\n    <path clip-path=\"url(#p0a11f03510)\" d=\"M 600.070617 246.743555 \nL 602.486201 246.743555 \n\" style=\"fill:none;stroke:#9467bd;stroke-linecap:square;stroke-width:1.5;\"/>\n   </g>\n   <g id=\"line2d_385\">\n    <path clip-path=\"url(#p0a11f03510)\" d=\"M 602.486201 79.909253 \nL 616.979708 79.909253 \n\" style=\"fill:none;stroke:#9467bd;stroke-linecap:square;stroke-width:1.5;\"/>\n   </g>\n   <g id=\"line2d_386\">\n    <path clip-path=\"url(#p0a11f03510)\" d=\"M 622.616071 246.743555 \nL 625.031656 246.743555 \n\" style=\"fill:none;stroke:#9467bd;stroke-linecap:square;stroke-width:1.5;\"/>\n   </g>\n   <g id=\"line2d_387\">\n    <path clip-path=\"url(#p0a11f03510)\" d=\"M 622.616071 24.297819 \nL 625.031656 24.297819 \n\" style=\"fill:none;stroke:#9467bd;stroke-linecap:square;stroke-width:1.5;\"/>\n   </g>\n   <g id=\"line2d_388\">\n    <path clip-path=\"url(#p0a11f03510)\" d=\"M 625.031656 24.297819 \nL 634.693994 24.297819 \n\" style=\"fill:none;stroke:#9467bd;stroke-linecap:square;stroke-width:1.5;\"/>\n   </g>\n   <g id=\"line2d_389\">\n    <path clip-path=\"url(#p0a11f03510)\" d=\"M 634.693994 246.743555 \nL 637.109578 246.743555 \n\" style=\"fill:none;stroke:#9467bd;stroke-linecap:square;stroke-width:1.5;\"/>\n   </g>\n   <g id=\"line2d_390\">\n    <path clip-path=\"url(#p0a11f03510)\" d=\"M 634.693994 24.297819 \nL 637.109578 24.297819 \n\" style=\"fill:none;stroke:#9467bd;stroke-linecap:square;stroke-width:1.5;\"/>\n   </g>\n   <g id=\"line2d_391\">\n    <path clip-path=\"url(#p0a11f03510)\" d=\"M 339.992695 257.825125 \nL 342.408279 257.825125 \n\" style=\"fill:none;stroke:#c5b0d5;stroke-linecap:square;stroke-width:1.5;\"/>\n   </g>\n   <g id=\"line2d_392\">\n    <path clip-path=\"url(#p0a11f03510)\" d=\"M 339.992695 202.213691 \nL 342.408279 202.213691 \n\" style=\"fill:none;stroke:#c5b0d5;stroke-linecap:square;stroke-width:1.5;\"/>\n   </g>\n   <g id=\"line2d_393\">\n    <path clip-path=\"url(#p0a11f03510)\" d=\"M 342.408279 202.213691 \nL 350.460227 202.213691 \n\" style=\"fill:none;stroke:#c5b0d5;stroke-linecap:square;stroke-width:1.5;\"/>\n   </g>\n   <g id=\"line2d_394\">\n    <path clip-path=\"url(#p0a11f03510)\" d=\"M 350.460227 257.825125 \nL 352.875812 257.825125 \n\" style=\"fill:none;stroke:#c5b0d5;stroke-linecap:square;stroke-width:1.5;\"/>\n   </g>\n   <g id=\"line2d_395\">\n    <path clip-path=\"url(#p0a11f03510)\" d=\"M 350.460227 202.213691 \nL 352.875812 202.213691 \n\" style=\"fill:none;stroke:#c5b0d5;stroke-linecap:square;stroke-width:1.5;\"/>\n   </g>\n   <g id=\"line2d_396\">\n    <path clip-path=\"url(#p0a11f03510)\" d=\"M 352.875812 146.602258 \nL 449.499188 146.602258 \n\" style=\"fill:none;stroke:#c5b0d5;stroke-linecap:square;stroke-width:1.5;\"/>\n   </g>\n   <g id=\"line2d_397\">\n    <path clip-path=\"url(#p0a11f03510)\" d=\"M 449.499188 257.825125 \nL 451.914773 257.825125 \n\" style=\"fill:none;stroke:#c5b0d5;stroke-linecap:square;stroke-width:1.5;\"/>\n   </g>\n   <g id=\"line2d_398\">\n    <path clip-path=\"url(#p0a11f03510)\" d=\"M 451.914773 90.990824 \nL 466.408279 90.990824 \n\" style=\"fill:none;stroke:#c5b0d5;stroke-linecap:square;stroke-width:1.5;\"/>\n   </g>\n   <g id=\"line2d_399\">\n    <path clip-path=\"url(#p0a11f03510)\" d=\"M 497.810877 257.825125 \nL 500.226461 257.825125 \n\" style=\"fill:none;stroke:#c5b0d5;stroke-linecap:square;stroke-width:1.5;\"/>\n   </g>\n   <g id=\"line2d_400\">\n    <path clip-path=\"url(#p0a11f03510)\" d=\"M 497.810877 35.37939 \nL 500.226461 35.37939 \n\" style=\"fill:none;stroke:#c5b0d5;stroke-linecap:square;stroke-width:1.5;\"/>\n   </g>\n   <g id=\"line2d_401\">\n    <path clip-path=\"url(#p0a11f03510)\" d=\"M 500.226461 35.37939 \nL 509.888799 35.37939 \n\" style=\"fill:none;stroke:#c5b0d5;stroke-linecap:square;stroke-width:1.5;\"/>\n   </g>\n   <g id=\"line2d_402\">\n    <path clip-path=\"url(#p0a11f03510)\" d=\"M 509.888799 257.825125 \nL 512.304383 257.825125 \n\" style=\"fill:none;stroke:#c5b0d5;stroke-linecap:square;stroke-width:1.5;\"/>\n   </g>\n   <g id=\"line2d_403\">\n    <path clip-path=\"url(#p0a11f03510)\" d=\"M 509.888799 35.37939 \nL 512.304383 35.37939 \n\" style=\"fill:none;stroke:#c5b0d5;stroke-linecap:square;stroke-width:1.5;\"/>\n   </g>\n   <g id=\"patch_3\">\n    <path d=\"M 134.5875 279 \nL 134.5875 7.2 \n\" style=\"fill:none;stroke:#000000;stroke-linecap:square;stroke-linejoin:miter;stroke-width:0.8;\"/>\n   </g>\n   <g id=\"patch_4\">\n    <path d=\"M 915.7875 279 \nL 915.7875 7.2 \n\" style=\"fill:none;stroke:#000000;stroke-linecap:square;stroke-linejoin:miter;stroke-width:0.8;\"/>\n   </g>\n   <g id=\"patch_5\">\n    <path d=\"M 134.5875 279 \nL 915.7875 279 \n\" style=\"fill:none;stroke:#000000;stroke-linecap:square;stroke-linejoin:miter;stroke-width:0.8;\"/>\n   </g>\n   <g id=\"patch_6\">\n    <path d=\"M 134.5875 7.2 \nL 915.7875 7.2 \n\" style=\"fill:none;stroke:#000000;stroke-linecap:square;stroke-linejoin:miter;stroke-width:0.8;\"/>\n   </g>\n  </g>\n </g>\n <defs>\n  <clipPath id=\"p0a11f03510\">\n   <rect height=\"271.8\" width=\"781.2\" x=\"134.5875\" y=\"7.2\"/>\n  </clipPath>\n </defs>\n</svg>\n",
      "image/png": "[encoded data removed]"
     },
     "metadata": {
      "needs_background": "light"
     }
    }
   ],
   "source": [
    "plt.figure(figsize=(14,5))\n",
    "\n",
    "for idx, (sample, tasklist) in enumerate(scheduler.tasks.items()):\n",
    "    color = plt.cm.tab20(idx%20)\n",
    "    offset = np.random.random()*0.5 - 0.25\n",
    "    for t in tasklist:\n",
    "        for w in t.workers:\n",
    "            y = [scheduler.workers.index(w) + offset]*2\n",
    "            x = [scheduler.solver.Value(t.start_var)/60, scheduler.solver.Value(t.end_var)/60]\n",
    "            plt.plot(x,y, color=color)\n",
    "\n",
    "plt.yticks(range(len(scheduler.workers)), labels=[w.name for w in scheduler.workers])\n",
    "plt.xlabel('Time (minutes)')\n",
    "# plt.xlim(left=0)\n",
    "# plt.xlim(70,100)\n",
    "        "
   ]
  },
  {
   "cell_type": "code",
   "execution_count": 96,
   "metadata": {},
   "outputs": [],
   "source": [
    "ordered_tasks = []\n",
    "ott = collections.namedtuple('orderedtask', 'start sample task')\n",
    "for sample, tasklist in scheduler.tasks.items():\n",
    "    for task in tasklist:\n",
    "        start_time = scheduler.solver.Value(task._start)\n",
    "        ordered_tasks.append(ott(start_time, sample, task))\n",
    "ordered_tasks.sort(key=lambda x:x.start)"
   ]
  },
  {
   "cell_type": "code",
   "execution_count": 100,
   "metadata": {},
   "outputs": [
    {
     "output_type": "stream",
     "name": "stdout",
     "text": [
      "0, <Task> sample0, storage_to_spincoater\n30, <Task> sample0, spincoat\n130, <Task> sample0, spincoater_to_hotplate\n160, <Task> sample0, anneal\n160, <Task> sample1, storage_to_spincoater\n190, <Task> sample1, spincoat\n290, <Task> sample1, spincoater_to_hotplate\n320, <Task> sample1, anneal\n320, <Task> sample2, storage_to_spincoater\n350, <Task> sample2, spincoat\n450, <Task> sample2, spincoater_to_hotplate\n480, <Task> sample2, anneal\n480, <Task> sample3, storage_to_spincoater\n510, <Task> sample3, spincoat\n610, <Task> sample3, spincoater_to_hotplate\n640, <Task> sample3, anneal\n780, <Task> sample4, storage_to_spincoater\n810, <Task> sample4, spincoat\n910, <Task> sample4, spincoater_to_hotplate\n940, <Task> sample4, anneal\n980, <Task> sample6, storage_to_spincoater\n1010, <Task> sample6, spincoat\n1080, <Task> sample2, hotplate_to_storage\n1110, <Task> sample2, cooldown\n1110, <Task> sample6, spincoater_to_hotplate\n1140, <Task> sample6, anneal\n1220, <Task> sample9, storage_to_spincoater\n1250, <Task> sample9, spincoat\n1290, <Task> sample2, storage_to_characterization\n1320, <Task> sample2, characterize\n1350, <Task> sample9, spincoater_to_hotplate\n1380, <Task> sample9, anneal\n1440, <Task> sample2, spincoater_to_hotplate\n1520, <Task> sample1, hotplate_to_storage\n1550, <Task> sample1, cooldown\n1730, <Task> sample1, storage_to_characterization\n1760, <Task> sample1, characterize\n1880, <Task> sample1, spincoater_to_hotplate\n1920, <Task> sample5, storage_to_spincoater\n1950, <Task> sample5, spincoat\n1960, <Task> sample0, hotplate_to_storage\n1990, <Task> sample0, cooldown\n2050, <Task> sample5, spincoater_to_hotplate\n2080, <Task> sample5, anneal\n2080, <Task> sample7, storage_to_spincoater\n2110, <Task> sample7, spincoat\n2140, <Task> sample4, hotplate_to_storage\n2170, <Task> sample0, storage_to_characterization\n2170, <Task> sample4, cooldown\n2200, <Task> sample0, characterize\n2210, <Task> sample7, spincoater_to_hotplate\n2240, <Task> sample7, anneal\n2320, <Task> sample0, spincoater_to_hotplate\n2350, <Task> sample4, storage_to_characterization\n2380, <Task> sample4, characterize\n2440, <Task> sample3, hotplate_to_storage\n2470, <Task> sample3, cooldown\n2500, <Task> sample4, spincoater_to_hotplate\n2580, <Task> sample10, storage_to_spincoater\n2610, <Task> sample10, spincoat\n2650, <Task> sample3, storage_to_characterization\n2680, <Task> sample3, characterize\n2680, <Task> sample5, hotplate_to_storage\n2710, <Task> sample5, cooldown\n2710, <Task> sample10, spincoater_to_hotplate\n2740, <Task> sample10, anneal\n2800, <Task> sample3, spincoater_to_hotplate\n2860, <Task> sample8, storage_to_spincoater\n2890, <Task> sample5, storage_to_characterization\n2890, <Task> sample8, spincoat\n2920, <Task> sample5, characterize\n2940, <Task> sample6, hotplate_to_storage\n2970, <Task> sample6, cooldown\n2990, <Task> sample8, spincoater_to_hotplate\n3020, <Task> sample8, anneal\n3040, <Task> sample5, spincoater_to_hotplate\n3080, <Task> sample12, storage_to_spincoater\n3110, <Task> sample12, spincoat\n3150, <Task> sample6, storage_to_characterization\n3180, <Task> sample6, characterize\n3180, <Task> sample9, hotplate_to_storage\n3210, <Task> sample9, cooldown\n3210, <Task> sample12, spincoater_to_hotplate\n3240, <Task> sample12, anneal\n3300, <Task> sample6, spincoater_to_hotplate\n3360, <Task> sample11, storage_to_spincoater\n3390, <Task> sample9, storage_to_characterization\n3390, <Task> sample11, spincoat\n3420, <Task> sample9, characterize\n3440, <Task> sample7, hotplate_to_storage\n3470, <Task> sample7, cooldown\n3490, <Task> sample11, spincoater_to_hotplate\n3520, <Task> sample11, anneal\n3540, <Task> sample9, spincoater_to_hotplate\n3620, <Task> sample8, hotplate_to_storage\n3650, <Task> sample7, storage_to_characterization\n3650, <Task> sample8, cooldown\n3680, <Task> sample7, characterize\n3800, <Task> sample7, spincoater_to_hotplate\n3830, <Task> sample8, storage_to_characterization\n3860, <Task> sample8, characterize\n3940, <Task> sample10, hotplate_to_storage\n3970, <Task> sample10, cooldown\n3980, <Task> sample8, spincoater_to_hotplate\n4070, <Task> sample13, storage_to_spincoater\n4100, <Task> sample13, spincoat\n4120, <Task> sample11, hotplate_to_storage\n4150, <Task> sample10, storage_to_characterization\n4150, <Task> sample11, cooldown\n4180, <Task> sample10, characterize\n4200, <Task> sample13, spincoater_to_hotplate\n4230, <Task> sample13, anneal\n4300, <Task> sample10, spincoater_to_hotplate\n4330, <Task> sample11, storage_to_characterization\n4360, <Task> sample11, characterize\n4480, <Task> sample11, spincoater_to_hotplate\n4510, <Task> sample15, storage_to_spincoater\n4540, <Task> sample15, spincoat\n4640, <Task> sample15, spincoater_to_hotplate\n4670, <Task> sample15, anneal\n4670, <Task> sample16, storage_to_spincoater\n4700, <Task> sample16, spincoat\n4800, <Task> sample16, spincoater_to_hotplate\n4830, <Task> sample16, anneal\n4850, <Task> sample14, storage_to_spincoater\n4880, <Task> sample14, spincoat\n4980, <Task> sample14, spincoater_to_hotplate\n5010, <Task> sample14, anneal\n5040, <Task> sample12, hotplate_to_storage\n5070, <Task> sample12, cooldown\n5090, <Task> sample17, storage_to_spincoater\n5120, <Task> sample17, spincoat\n5220, <Task> sample17, spincoater_to_hotplate\n5250, <Task> sample12, storage_to_characterization\n5250, <Task> sample17, anneal\n5280, <Task> sample12, characterize\n5400, <Task> sample12, spincoater_to_hotplate\n5430, <Task> sample13, hotplate_to_storage\n5460, <Task> sample13, cooldown\n5540, <Task> sample18, storage_to_spincoater\n5570, <Task> sample18, spincoat\n5610, <Task> sample14, hotplate_to_storage\n5640, <Task> sample13, storage_to_characterization\n5640, <Task> sample14, cooldown\n5670, <Task> sample13, characterize\n5670, <Task> sample18, spincoater_to_hotplate\n5700, <Task> sample18, anneal\n5790, <Task> sample13, spincoater_to_hotplate\n5820, <Task> sample14, storage_to_characterization\n5850, <Task> sample14, characterize\n5850, <Task> sample17, hotplate_to_storage\n5880, <Task> sample17, cooldown\n5970, <Task> sample14, spincoater_to_hotplate\n6000, <Task> sample20, storage_to_spincoater\n6030, <Task> sample16, hotplate_to_storage\n6030, <Task> sample20, spincoat\n6060, <Task> sample16, cooldown\n6060, <Task> sample17, storage_to_characterization\n6090, <Task> sample17, characterize\n6130, <Task> sample20, spincoater_to_hotplate\n6160, <Task> sample20, anneal\n6210, <Task> sample17, spincoater_to_hotplate\n6240, <Task> sample16, storage_to_characterization\n6270, <Task> sample16, characterize\n6390, <Task> sample16, spincoater_to_hotplate\n6420, <Task> sample19, storage_to_spincoater\n6450, <Task> sample19, spincoat\n6470, <Task> sample15, hotplate_to_storage\n6500, <Task> sample15, cooldown\n6550, <Task> sample19, spincoater_to_hotplate\n6580, <Task> sample19, anneal\n6580, <Task> sample21, storage_to_spincoater\n6610, <Task> sample21, spincoat\n6680, <Task> sample15, storage_to_characterization\n6710, <Task> sample15, characterize\n6710, <Task> sample21, spincoater_to_hotplate\n6740, <Task> sample21, anneal\n6760, <Task> sample20, hotplate_to_storage\n6790, <Task> sample20, cooldown\n6830, <Task> sample15, spincoater_to_hotplate\n6870, <Task> sample22, storage_to_spincoater\n6900, <Task> sample22, spincoat\n6970, <Task> sample20, storage_to_characterization\n7000, <Task> sample20, characterize\n7000, <Task> sample22, spincoater_to_hotplate\n7030, <Task> sample22, anneal\n7120, <Task> sample20, spincoater_to_hotplate\n7200, <Task> sample23, storage_to_spincoater\n7230, <Task> sample23, spincoat\n7330, <Task> sample23, spincoater_to_hotplate\n7360, <Task> sample23, anneal\n7400, <Task> sample24, storage_to_spincoater\n7430, <Task> sample24, spincoat\n7500, <Task> sample18, hotplate_to_storage\n7530, <Task> sample18, cooldown\n7530, <Task> sample24, spincoater_to_hotplate\n7560, <Task> sample24, anneal\n7610, <Task> sample25, storage_to_spincoater\n7640, <Task> sample25, spincoat\n7710, <Task> sample18, storage_to_characterization\n7740, <Task> sample18, characterize\n7740, <Task> sample25, spincoater_to_hotplate\n7770, <Task> sample25, anneal\n7780, <Task> sample19, hotplate_to_storage\n7810, <Task> sample19, cooldown\n7860, <Task> sample18, spincoater_to_hotplate\n7910, <Task> sample27, storage_to_spincoater\n7940, <Task> sample27, spincoat\n7960, <Task> sample23, hotplate_to_storage\n7990, <Task> sample19, storage_to_characterization\n7990, <Task> sample23, cooldown\n8020, <Task> sample19, characterize\n8040, <Task> sample27, spincoater_to_hotplate\n8070, <Task> sample27, anneal\n8140, <Task> sample19, spincoater_to_hotplate\n8170, <Task> sample23, storage_to_characterization\n8200, <Task> sample23, characterize\n8230, <Task> sample22, hotplate_to_storage\n8260, <Task> sample22, cooldown\n8320, <Task> sample23, spincoater_to_hotplate\n8440, <Task> sample22, storage_to_characterization\n8470, <Task> sample22, characterize\n8540, <Task> sample21, hotplate_to_storage\n8570, <Task> sample21, cooldown\n8590, <Task> sample22, spincoater_to_hotplate\n8750, <Task> sample21, storage_to_characterization\n8780, <Task> sample21, characterize\n8900, <Task> sample21, spincoater_to_hotplate\n8930, <Task> sample26, storage_to_spincoater\n8960, <Task> sample26, spincoat\n8970, <Task> sample25, hotplate_to_storage\n9000, <Task> sample25, cooldown\n9060, <Task> sample26, spincoater_to_hotplate\n9090, <Task> sample26, anneal\n9090, <Task> sample28, storage_to_spincoater\n9120, <Task> sample28, spincoat\n9180, <Task> sample25, storage_to_characterization\n9210, <Task> sample25, characterize\n9220, <Task> sample28, spincoater_to_hotplate\n9250, <Task> sample28, anneal\n9330, <Task> sample25, spincoater_to_hotplate\n9360, <Task> sample24, hotplate_to_storage\n9390, <Task> sample24, cooldown\n9390, <Task> sample29, storage_to_spincoater\n9420, <Task> sample29, spincoat\n9520, <Task> sample29, spincoater_to_hotplate\n9550, <Task> sample29, anneal\n9570, <Task> sample24, storage_to_characterization\n9600, <Task> sample24, characterize\n9690, <Task> sample26, hotplate_to_storage\n9720, <Task> sample24, spincoater_to_hotplate\n9720, <Task> sample26, cooldown\n9870, <Task> sample27, hotplate_to_storage\n9900, <Task> sample26, storage_to_characterization\n9900, <Task> sample27, cooldown\n9930, <Task> sample26, characterize\n10050, <Task> sample26, spincoater_to_hotplate\n10080, <Task> sample27, storage_to_characterization\n10110, <Task> sample27, characterize\n10150, <Task> sample29, hotplate_to_storage\n10180, <Task> sample29, cooldown\n10230, <Task> sample27, spincoater_to_hotplate\n10360, <Task> sample29, storage_to_characterization\n10390, <Task> sample29, characterize\n10450, <Task> sample28, hotplate_to_storage\n10480, <Task> sample28, cooldown\n10510, <Task> sample29, spincoater_to_hotplate\n10660, <Task> sample28, storage_to_characterization\n10690, <Task> sample28, characterize\n10810, <Task> sample28, spincoater_to_hotplate\n"
     ]
    }
   ],
   "source": [
    "for t in ordered_tasks:\n",
    "    print(f'{t.start}, {t.task}')"
   ]
  },
  {
   "cell_type": "code",
   "execution_count": null,
   "metadata": {},
   "outputs": [],
   "source": []
  },
  {
   "cell_type": "code",
   "execution_count": null,
   "metadata": {},
   "outputs": [],
   "source": []
  },
  {
   "cell_type": "code",
   "execution_count": null,
   "metadata": {},
   "outputs": [],
   "source": []
  },
  {
   "cell_type": "code",
   "execution_count": null,
   "metadata": {},
   "outputs": [],
   "source": []
  },
  {
   "source": [
    "# Write final files to disk"
   ],
   "cell_type": "markdown",
   "metadata": {}
  },
  {
   "source": [
    "## Write mixing netlist to disk, will be copy-pasted into listener.py protocol"
   ],
   "cell_type": "markdown",
   "metadata": {}
  },
  {
   "cell_type": "code",
   "execution_count": 24,
   "metadata": {},
   "outputs": [
    {
     "output_type": "stream",
     "name": "stdout",
     "text": [
      "Liquid Handler Netlist String dumped to \"netlist.json\"\n"
     ]
    }
   ],
   "source": [
    "with open('netlist.json', 'w') as f:\n",
    "    json.dump(mixing_netlist, f)\n",
    "print('Liquid Handler Netlist String dumped to \"netlist.json\"')"
   ]
  },
  {
   "cell_type": "code",
   "execution_count": null,
   "metadata": {},
   "outputs": [],
   "source": []
  }
 ],
 "metadata": {
  "kernelspec": {
   "name": "python3",
   "display_name": "Python 3.8.0 64-bit ('pascal': conda)"
  },
  "language_info": {
   "codemirror_mode": {
    "name": "ipython",
    "version": 3
   },
   "file_extension": ".py",
   "mimetype": "text/x-python",
   "name": "python",
   "nbconvert_exporter": "python",
   "pygments_lexer": "ipython3",
   "version": "3.8.0"
  },
  "interpreter": {
   "hash": "e550aae00514e232b011b8daa9c111018f6799cbdd6b2b8c856d7d4b57330518"
  }
 },
 "nbformat": 4,
 "nbformat_minor": 5
}