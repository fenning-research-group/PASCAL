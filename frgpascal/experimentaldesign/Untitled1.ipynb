{
 "cells": [
  {
   "cell_type": "code",
   "execution_count": 1,
   "metadata": {},
   "outputs": [
    {
     "name": "stdout",
     "output_type": "stream",
     "text": [
      "\u001b[0m\u001b[40;33;01m/dev/tty\u001b[0m    \u001b[40;33;01m/dev/tty23\u001b[0m  \u001b[40;33;01m/dev/tty39\u001b[0m  \u001b[40;33;01m/dev/tty54\u001b[0m      \u001b[40;33;01m/dev/ttyS0\u001b[0m   \u001b[40;33;01m/dev/ttyS24\u001b[0m\r\n",
      "\u001b[40;33;01m/dev/tty0\u001b[0m   \u001b[40;33;01m/dev/tty24\u001b[0m  \u001b[40;33;01m/dev/tty4\u001b[0m   \u001b[40;33;01m/dev/tty55\u001b[0m      \u001b[40;33;01m/dev/ttyS1\u001b[0m   \u001b[40;33;01m/dev/ttyS25\u001b[0m\r\n",
      "\u001b[40;33;01m/dev/tty1\u001b[0m   \u001b[40;33;01m/dev/tty25\u001b[0m  \u001b[40;33;01m/dev/tty40\u001b[0m  \u001b[40;33;01m/dev/tty56\u001b[0m      \u001b[40;33;01m/dev/ttyS10\u001b[0m  \u001b[40;33;01m/dev/ttyS26\u001b[0m\r\n",
      "\u001b[40;33;01m/dev/tty10\u001b[0m  \u001b[40;33;01m/dev/tty26\u001b[0m  \u001b[40;33;01m/dev/tty41\u001b[0m  \u001b[40;33;01m/dev/tty57\u001b[0m      \u001b[40;33;01m/dev/ttyS11\u001b[0m  \u001b[40;33;01m/dev/ttyS27\u001b[0m\r\n",
      "\u001b[40;33;01m/dev/tty11\u001b[0m  \u001b[40;33;01m/dev/tty27\u001b[0m  \u001b[40;33;01m/dev/tty42\u001b[0m  \u001b[40;33;01m/dev/tty58\u001b[0m      \u001b[40;33;01m/dev/ttyS12\u001b[0m  \u001b[40;33;01m/dev/ttyS28\u001b[0m\r\n",
      "\u001b[40;33;01m/dev/tty12\u001b[0m  \u001b[40;33;01m/dev/tty28\u001b[0m  \u001b[40;33;01m/dev/tty43\u001b[0m  \u001b[40;33;01m/dev/tty59\u001b[0m      \u001b[40;33;01m/dev/ttyS13\u001b[0m  \u001b[40;33;01m/dev/ttyS29\u001b[0m\r\n",
      "\u001b[40;33;01m/dev/tty13\u001b[0m  \u001b[40;33;01m/dev/tty29\u001b[0m  \u001b[40;33;01m/dev/tty44\u001b[0m  \u001b[40;33;01m/dev/tty6\u001b[0m       \u001b[40;33;01m/dev/ttyS14\u001b[0m  \u001b[40;33;01m/dev/ttyS3\u001b[0m\r\n",
      "\u001b[40;33;01m/dev/tty14\u001b[0m  \u001b[40;33;01m/dev/tty3\u001b[0m   \u001b[40;33;01m/dev/tty45\u001b[0m  \u001b[40;33;01m/dev/tty60\u001b[0m      \u001b[40;33;01m/dev/ttyS15\u001b[0m  \u001b[40;33;01m/dev/ttyS30\u001b[0m\r\n",
      "\u001b[40;33;01m/dev/tty15\u001b[0m  \u001b[40;33;01m/dev/tty30\u001b[0m  \u001b[40;33;01m/dev/tty46\u001b[0m  \u001b[40;33;01m/dev/tty61\u001b[0m      \u001b[40;33;01m/dev/ttyS16\u001b[0m  \u001b[40;33;01m/dev/ttyS31\u001b[0m\r\n",
      "\u001b[40;33;01m/dev/tty16\u001b[0m  \u001b[40;33;01m/dev/tty31\u001b[0m  \u001b[40;33;01m/dev/tty47\u001b[0m  \u001b[40;33;01m/dev/tty62\u001b[0m      \u001b[40;33;01m/dev/ttyS17\u001b[0m  \u001b[40;33;01m/dev/ttyS4\u001b[0m\r\n",
      "\u001b[40;33;01m/dev/tty17\u001b[0m  \u001b[40;33;01m/dev/tty32\u001b[0m  \u001b[40;33;01m/dev/tty48\u001b[0m  \u001b[40;33;01m/dev/tty63\u001b[0m      \u001b[40;33;01m/dev/ttyS18\u001b[0m  \u001b[40;33;01m/dev/ttyS5\u001b[0m\r\n",
      "\u001b[40;33;01m/dev/tty18\u001b[0m  \u001b[40;33;01m/dev/tty33\u001b[0m  \u001b[40;33;01m/dev/tty49\u001b[0m  \u001b[40;33;01m/dev/tty7\u001b[0m       \u001b[40;33;01m/dev/ttyS19\u001b[0m  \u001b[40;33;01m/dev/ttyS6\u001b[0m\r\n",
      "\u001b[40;33;01m/dev/tty19\u001b[0m  \u001b[40;33;01m/dev/tty34\u001b[0m  \u001b[40;33;01m/dev/tty5\u001b[0m   \u001b[40;33;01m/dev/tty8\u001b[0m       \u001b[40;33;01m/dev/ttyS2\u001b[0m   \u001b[40;33;01m/dev/ttyS7\u001b[0m\r\n",
      "\u001b[40;33;01m/dev/tty2\u001b[0m   \u001b[40;33;01m/dev/tty35\u001b[0m  \u001b[40;33;01m/dev/tty50\u001b[0m  \u001b[40;33;01m/dev/tty9\u001b[0m       \u001b[40;33;01m/dev/ttyS20\u001b[0m  \u001b[40;33;01m/dev/ttyS8\u001b[0m\r\n",
      "\u001b[40;33;01m/dev/tty20\u001b[0m  \u001b[40;33;01m/dev/tty36\u001b[0m  \u001b[40;33;01m/dev/tty51\u001b[0m  \u001b[40;33;01m/dev/ttyACM2\u001b[0m    \u001b[40;33;01m/dev/ttyS21\u001b[0m  \u001b[40;33;01m/dev/ttyS9\u001b[0m\r\n",
      "\u001b[40;33;01m/dev/tty21\u001b[0m  \u001b[40;33;01m/dev/tty37\u001b[0m  \u001b[40;33;01m/dev/tty52\u001b[0m  \u001b[40;33;01m/dev/ttyACM4\u001b[0m    \u001b[40;33;01m/dev/ttyS22\u001b[0m\r\n",
      "\u001b[40;33;01m/dev/tty22\u001b[0m  \u001b[40;33;01m/dev/tty38\u001b[0m  \u001b[40;33;01m/dev/tty53\u001b[0m  \u001b[40;33;01m/dev/ttyprintk\u001b[0m  \u001b[40;33;01m/dev/ttyS23\u001b[0m\r\n"
     ]
    }
   ],
   "source": [
    "ls /dev/tty*"
   ]
  },
  {
   "cell_type": "code",
   "execution_count": null,
   "metadata": {},
   "outputs": [],
   "source": [
    "ls /dev/tty*"
   ]
  }
 ],
 "metadata": {
  "kernelspec": {
   "display_name": "Python 3",
   "language": "python",
   "name": "python3"
  },
  "language_info": {
   "codemirror_mode": {
    "name": "ipython",
    "version": 3
   },
   "file_extension": ".py",
   "mimetype": "text/x-python",
   "name": "python",
   "nbconvert_exporter": "python",
   "pygments_lexer": "ipython3",
   "version": "3.7.6"
  }
 },
 "nbformat": 4,
 "nbformat_minor": 4
}
