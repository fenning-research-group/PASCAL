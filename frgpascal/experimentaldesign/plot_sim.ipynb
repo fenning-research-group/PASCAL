{
 "cells": [
  {
   "cell_type": "code",
   "execution_count": 46,
   "source": [
    "import matplotlib.pyplot as plt\n",
    "import numpy as np\n",
    "import json"
   ],
   "outputs": [],
   "metadata": {}
  },
  {
   "cell_type": "code",
   "execution_count": 47,
   "source": [
    "speedup_factor = 100\n",
    "with open('simlog.json', 'r') as f:\n",
    "    sim = json.load(f)\n",
    "with open('maestronetlist.json', 'r') as f:\n",
    "    netlist = json.load(f)['tasks']"
   ],
   "outputs": [],
   "metadata": {}
  },
  {
   "cell_type": "code",
   "execution_count": 13,
   "source": [
    "target_order = [n['id'] for n in netlist]\n",
    "target_timings = [n['start'] for n in netlist]\n",
    "sim_order = list(sim.keys())\n",
    "sim_timings = [v*speedup_factor for v in sim.values()]"
   ],
   "outputs": [],
   "metadata": {}
  },
  {
   "cell_type": "code",
   "execution_count": 14,
   "source": [
    "np.unique([\n",
    "    t['task'] for t in netlist\n",
    "])"
   ],
   "outputs": [
    {
     "output_type": "execute_result",
     "data": {
      "text/plain": [
       "array(['anneal', 'characterization_to_storage', 'characterize',\n",
       "       'cooldown', 'hotplate_to_storage', 'spincoat',\n",
       "       'spincoater_to_hotplate', 'storage_to_characterization',\n",
       "       'storage_to_spincoater'], dtype='<U27')"
      ]
     },
     "metadata": {},
     "execution_count": 14
    }
   ],
   "metadata": {}
  },
  {
   "cell_type": "code",
   "execution_count": 43,
   "source": [
    "def plot_task_types(sim):\n",
    "    key = {\n",
    "        'heat/cool':['anneal', 'cooldown'],\n",
    "        'spincoat':['spincoat'],\n",
    "        'characterize':['characterize'],\n",
    "        'transfer':[\n",
    "            'characterization_to_storage',\n",
    "            'storage_to_characterization',\n",
    "            'spincoater_to_hotplate',\n",
    "            'storage_to_spincoater',\n",
    "            'hotplate_to_storage',\n",
    "        ]\n",
    "    }\n",
    "    colors = {k:plt.cm.Set2(i) for i,k in enumerate(key)}\n",
    "    yvals = {k:i for i,k in enumerate(key)}\n",
    "\n",
    "    for task, time in sim.items():\n",
    "        for k,v in key.items():\n",
    "            if task.split('-')[0] in v:\n",
    "                plt.scatter(time*speedup_factor, yvals[k], color=colors[k])\n",
    "                break\n",
    "    plt.yticks(range(len(key)), key.keys())\n",
    "\n"
   ],
   "outputs": [],
   "metadata": {}
  },
  {
   "cell_type": "code",
   "execution_count": 45,
   "source": [
    "{t:ti for t,ti in sim.items() if t.split('-')[0] == 'spincoat'}"
   ],
   "outputs": [
    {
     "output_type": "execute_result",
     "data": {
      "text/plain": [
       "{'spincoat-a9828248-d0d9-4a42-85d7-178b5ebdd257': 1.1101179122924805,\n",
       " 'spincoat-5b7ea12c-97e9-40df-9b06-09e0161cecea': 4.802550792694092,\n",
       " 'spincoat-296a5289-a885-4214-a968-34f104fb29ce': 8.48573923110962,\n",
       " 'spincoat-0d8f3520-0636-467d-bd68-e8107d3d4605': 10.97991418838501,\n",
       " 'spincoat-d2ca30e0-3358-4f67-8a1b-05de4664901a': 13.46450400352478,\n",
       " 'spincoat-138f5c9f-8cb0-415a-8d9f-685bd2c76a25': 14.746378183364868,\n",
       " 'spincoat-655a4705-48eb-472f-8d06-7bc52d462d63': 16.035661935806274,\n",
       " 'spincoat-93b52787-0a84-44d8-ba96-d2bee7b1478c': 19.7239351272583,\n",
       " 'spincoat-c2500b3a-335f-485c-8365-8f534fdba17a': 23.415459871292114,\n",
       " 'spincoat-e0f293be-fce8-4fb7-ad28-1bd3f1d559b8': 25.898453950881958,\n",
       " 'spincoat-19036bb3-3d3b-42cc-8d82-1a080d80cd6c': 28.38879084587097,\n",
       " 'spincoat-8cf8ef47-5434-4154-a5b2-782b178bf64b': 29.676740884780884,\n",
       " 'spincoat-4ad546e8-75d0-49a1-b04c-251655b64579': 30.96564483642578,\n",
       " 'spincoat-0d2143f6-7b6d-4be9-b1cb-3b837fabf07c': 35.031352043151855,\n",
       " 'spincoat-d46f8c3e-5d4f-47dc-9cb2-a00160cf4fc6': 38.72594118118286,\n",
       " 'spincoat-912f7197-cfc8-4d28-858d-f9c144827faa': 41.23010802268982,\n",
       " 'spincoat-376c234c-ba88-402d-8152-0732e2c3143d': 44.107083797454834,\n",
       " 'spincoat-cdb16cea-0e5a-47b5-abee-45553b3110e3': 45.78642225265503,\n",
       " 'spincoat-6ab0db5e-34da-4b37-812c-89b8ffc05321': 47.084502935409546,\n",
       " 'spincoat-1fd981f3-68fb-4e3f-958b-79e51f84d7e2': 50.77523398399353,\n",
       " 'spincoat-71f33c0c-bec6-4cac-9dce-44f993dcb2a8': 55.278696060180664,\n",
       " 'spincoat-7a050479-b7fc-4662-bee8-6d1e2757f890': 57.777897119522095,\n",
       " 'spincoat-29562510-0f82-48ff-aeee-ff762f8fca01': 60.46122884750366,\n",
       " 'spincoat-f0824af4-6561-4fd7-b0f7-37bad189f26b': 61.936110973358154,\n",
       " 'spincoat-097fa237-4fb5-41a6-b220-25673ad34542': 63.42482113838196,\n",
       " 'spincoat-1441a563-1993-4ea6-ad96-73d35b67f17d': 67.51858019828796,\n",
       " 'spincoat-6293ebc4-e15d-4460-bb9e-0f2733ddedd3': 71.41159415245056,\n",
       " 'spincoat-5dfea499-7858-40a7-9671-def1ec7716c2': 73.91486716270447,\n",
       " 'spincoat-266207f2-fb36-4ff7-94a4-795aa65d3ae7': 76.60250496864319,\n",
       " 'spincoat-e0efa1cb-cddb-4cae-9e4c-dd995b5323c8': 78.48877906799316,\n",
       " 'spincoat-33a28df9-3c52-4b4d-b2e6-d92a2445868e': 79.7811758518219,\n",
       " 'spincoat-07b76fa7-f87d-4799-952f-870f4a6b7fa1': 83.4716100692749,\n",
       " 'spincoat-f74e6b13-cd18-49ad-a81a-d8bba2059a4a': 87.35850787162781,\n",
       " 'spincoat-6e41a65b-7452-4759-a95a-6c4cd1d069b0': 90.04983305931091,\n",
       " 'spincoat-9ed6617b-b10e-42f2-ba78-4a504543ef78': 92.93668484687805,\n",
       " 'spincoat-585d3929-0544-4ee7-8072-2fa0a8203a89': 94.6271550655365,\n",
       " 'spincoat-dc80e31d-db77-4dd8-b0d7-839bb6fe8b01': 95.92074394226074,\n",
       " 'spincoat-08cc4c5c-95ae-42fd-ad15-006f2e35606a': 99.79771494865417,\n",
       " 'spincoat-2cbf0253-098c-4851-93a3-79461306c3e2': 103.69351696968079,\n",
       " 'spincoat-a60918a2-f7d4-4d3f-9e00-c75dba9484e8': 106.18496489524841,\n",
       " 'spincoat-35a26df6-7020-43ee-b9cb-812ec489ab17': 109.093740940094,\n",
       " 'spincoat-1ac73fd1-1712-4b4c-b643-e63c39f60b5c': 110.76989412307739,\n",
       " 'spincoat-2bbaccaf-4422-49f6-bdd6-569170fd37d4': 112.06551885604858,\n",
       " 'spincoat-ad21bed6-10eb-4dea-8b17-4f2d2519aaad': 115.95823407173157,\n",
       " 'spincoat-eb2f8e58-a5af-43f1-b3f8-04276c831c10': 119.83724093437195,\n",
       " 'spincoat-0277abf2-a677-429f-bd56-f94ecabade81': 122.33314895629883,\n",
       " 'spincoat-c49691f7-57fa-4700-9c61-006581bc82a7': 125.4387469291687,\n",
       " 'spincoat-5ca88381-5262-4776-be21-98a4e729dcf0': 126.92145705223083,\n",
       " 'spincoat-696624c3-9573-4231-b01b-7dc2f95db6e0': 128.40999007225037,\n",
       " 'spincoat-2b51c7d1-6828-40d8-90ea-872d6af4c437': 132.30145382881165,\n",
       " 'spincoat-97685524-5a96-44ae-a5e9-efb622b241db': 135.9990429878235,\n",
       " 'spincoat-3cdacab5-6678-40e4-b608-f798796cf9f4': 138.49922800064087,\n",
       " 'spincoat-1e9f4402-a571-42e4-bcf4-41dd7ae88e42': 141.58543491363525,\n",
       " 'spincoat-39ee8d02-124e-4f07-9753-b9ac4304ad90': 143.0723521709442,\n",
       " 'spincoat-a8559ca6-e498-4532-9c8b-b7dd14bb7d70': 144.54918098449707,\n",
       " 'spincoat-55db96b2-5b43-4ce9-a048-eaebc9cadb23': 148.43939900398254,\n",
       " 'spincoat-687a853e-d166-4ea3-9eba-912eed194983': 152.1409969329834,\n",
       " 'spincoat-037cd524-8e16-4412-8f1c-3b0ec5ad7ca0': 154.83546090126038,\n",
       " 'spincoat-dfd10d91-3869-43e5-a629-c5f488279735': 157.7196319103241,\n",
       " 'spincoat-900df6b6-eb1e-40a7-b6e5-e7becaa518f2': 159.20454692840576}"
      ]
     },
     "metadata": {},
     "execution_count": 45
    }
   ],
   "metadata": {}
  },
  {
   "cell_type": "code",
   "execution_count": 44,
   "source": [
    "plot_task_types(sim)"
   ],
   "outputs": [
    {
     "output_type": "display_data",
     "data": {
      "text/plain": [
       "<Figure size 432x288 with 1 Axes>"
      ],
      "image/png": "[encoded data removed]"
     },
     "metadata": {
      "needs_background": "light"
     }
    }
   ],
   "metadata": {}
  },
  {
   "cell_type": "code",
   "execution_count": 16,
   "source": [
    "fig, ax = plt.\n",
    "plt.scatter(sim_timings, target_timings)\n",
    "plt.plot(plt.xlim(), plt.xlim(), 'k--')"
   ],
   "outputs": [
    {
     "output_type": "execute_result",
     "data": {
      "text/plain": [
       "[<matplotlib.lines.Line2D at 0x7f9f81cb56d0>]"
      ]
     },
     "metadata": {},
     "execution_count": 16
    },
    {
     "output_type": "display_data",
     "data": {
      "text/plain": [
       "<Figure size 432x288 with 1 Axes>"
      ],
      "image/png": "[encoded data removed]"
     },
     "metadata": {
      "needs_background": "light"
     }
    }
   ],
   "metadata": {}
  },
  {
   "cell_type": "code",
   "execution_count": 14,
   "source": [
    "sim_order == target_order"
   ],
   "outputs": [
    {
     "output_type": "execute_result",
     "data": {
      "text/plain": [
       "True"
      ]
     },
     "metadata": {},
     "execution_count": 14
    }
   ],
   "metadata": {}
  },
  {
   "cell_type": "code",
   "execution_count": 6,
   "source": [
    "for i, t in enumerate(sim):\n",
    "    color = plt.cm.Spectral(target_order.index(t)/len(target_order))\n",
    "    plt.scatter(i, 1, c=[color])"
   ],
   "outputs": [
    {
     "output_type": "display_data",
     "data": {
      "text/plain": [
       "<Figure size 432x288 with 1 Axes>"
      ],
      "image/png": "[encoded data removed]"
     },
     "metadata": {
      "needs_background": "light"
     }
    }
   ],
   "metadata": {}
  },
  {
   "cell_type": "code",
   "execution_count": 66,
   "source": [
    "plt.scatter(goal_starts, actual_starts, alpha=)\n",
    "plt.plot([min(goal_starts), max(goal_starts)], [min(goal_starts), max(goal_starts)], 'k:')"
   ],
   "outputs": [
    {
     "output_type": "execute_result",
     "data": {
      "text/plain": [
       "[<matplotlib.lines.Line2D at 0x7ff469af62b0>]"
      ]
     },
     "metadata": {},
     "execution_count": 66
    },
    {
     "output_type": "display_data",
     "data": {
      "text/plain": [
       "<Figure size 432x288 with 1 Axes>"
      ],
      "image/png": "[encoded data removed]"
     },
     "metadata": {
      "needs_background": "light"
     }
    }
   ],
   "metadata": {}
  },
  {
   "cell_type": "markdown",
   "source": [
    "Plot simulated process order"
   ],
   "metadata": {}
  },
  {
   "cell_type": "markdown",
   "source": [],
   "metadata": {}
  },
  {
   "cell_type": "code",
   "execution_count": 56,
   "source": [
    "worker_tasks = {\n",
    "    'gripper_gantry': [\n",
    "        'storage_to_spincoater',\n",
    "        'spincoater_to_hotplate',\n",
    "        'hotplate_to_storage',\n",
    "        'storage_to_characterization',\n",
    "        'characterization_to_storage',\n",
    "    ],\n",
    "    'spincoater_liquidhandler': [\n",
    "        'storage_to_spincoater',\n",
    "        'spincoater_to_hotplate',\n",
    "        'spincoat',\n",
    "    ],\n",
    "    'hotplate': [\n",
    "        'anneal',\n",
    "    ],\n",
    "    'storage': [\n",
    "        'cooldown',\n",
    "    ],\n",
    "    'characterization': [\n",
    "        'characterize',\n",
    "        'storage_to_characterization',\n",
    "        'characterization_to_storage',\n",
    "    ]\n",
    "}"
   ],
   "outputs": [],
   "metadata": {}
  },
  {
   "cell_type": "code",
   "execution_count": 51,
   "source": [
    "sim['sample0']['tasks'][0]"
   ],
   "outputs": [
    {
     "output_type": "execute_result",
     "data": {
      "text/plain": [
       "{'details': '',\n",
       " 'id': 'storage_to_spincoater-247a68e4-5595-45a6-ba13-5884d883b296',\n",
       " 'precedents': [],\n",
       " 'sample': 'sample0',\n",
       " 'start': 0,\n",
       " 'task': 'storage_to_spincoater',\n",
       " 'start_actual': 1.0439341068267822,\n",
       " 'finish_actual': 1.045309066772461}"
      ]
     },
     "metadata": {},
     "execution_count": 51
    }
   ],
   "metadata": {}
  },
  {
   "cell_type": "code",
   "execution_count": 66,
   "source": [
    "def plot_solution(sim, ax=None):\n",
    "    plt.figure(figsize=(14, 5))\n",
    "    for idx, (sample, data) in enumerate(sim.items()):\n",
    "        color = plt.cm.tab20(idx % 20)\n",
    "        offset = np.random.random() * 0.5 - 0.25\n",
    "        for t in data['tasks']:\n",
    "            for i, (w, tl) in enumerate(worker_tasks.items()):\n",
    "                found = False\n",
    "                if t['task'] in tl:\n",
    "                    y = [i + offset] * 2\n",
    "\n",
    "                    st = t['start_actual']*speedup_factor / 60\n",
    "                    ft = t['finish_actual']*speedup_factor / 60\n",
    "\n",
    "                    minval = 0.5\n",
    "                    if ft-st < minval:\n",
    "                        ft = st+minval\n",
    "                    x = [st,ft]\n",
    "                    plt.plot(x, y, color=color)\n",
    "                    found = True\n",
    "                    break\n",
    "            if not found:\n",
    "                print(t['task'])\n",
    "\n",
    "    plt.yticks(range(len(worker_tasks)), labels=worker_tasks.keys())\n",
    "    plt.xlabel(\"Time (minutes)\")"
   ],
   "outputs": [],
   "metadata": {}
  },
  {
   "cell_type": "code",
   "execution_count": 67,
   "source": [
    "plot_solution(sim)"
   ],
   "outputs": [
    {
     "output_type": "display_data",
     "data": {
      "text/plain": [
       "<Figure size 1008x360 with 1 Axes>"
      ],
      "image/png": "[encoded data removed]"
     },
     "metadata": {
      "needs_background": "light"
     }
    }
   ],
   "metadata": {}
  },
  {
   "cell_type": "code",
   "execution_count": null,
   "source": [],
   "outputs": [],
   "metadata": {}
  }
 ],
 "metadata": {
  "orig_nbformat": 4,
  "language_info": {
   "name": "python",
   "version": "3.8.0",
   "mimetype": "text/x-python",
   "codemirror_mode": {
    "name": "ipython",
    "version": 3
   },
   "pygments_lexer": "ipython3",
   "nbconvert_exporter": "python",
   "file_extension": ".py"
  },
  "kernelspec": {
   "name": "python3",
   "display_name": "Python 3.8.0 64-bit ('pascal': conda)"
  },
  "interpreter": {
   "hash": "e550aae00514e232b011b8daa9c111018f6799cbdd6b2b8c856d7d4b57330518"
  }
 },
 "nbformat": 4,
 "nbformat_minor": 2
}