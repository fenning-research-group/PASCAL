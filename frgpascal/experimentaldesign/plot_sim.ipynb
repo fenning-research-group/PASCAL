{
 "cells": [
  {
   "cell_type": "code",
   "execution_count": 71,
   "source": [
    "import matplotlib.pyplot as plt\n",
    "import numpy as np\n",
    "import json"
   ],
   "outputs": [],
   "metadata": {}
  },
  {
   "cell_type": "code",
   "execution_count": 72,
   "source": [
    "speedup_factor = 5\n",
    "with open('simlog.json', 'r') as f:\n",
    "    sim = json.load(f)\n",
    "with open('maestronetlist.json', 'r') as f:\n",
    "    netlist = json.load(f)['tasks']"
   ],
   "outputs": [],
   "metadata": {}
  },
  {
   "cell_type": "code",
   "execution_count": 9,
   "source": [
    "target_order = [n['id'] for n in netlist]\n",
    "target_timings = [n['start'] for n in netlist]\n",
    "sim_order = list(sim.keys())\n",
    "sim_timings = [v*speedup_factor for v in sim.values()]"
   ],
   "outputs": [
    {
     "output_type": "error",
     "ename": "TypeError",
     "evalue": "unsupported operand type(s) for *: 'dict' and 'float'",
     "traceback": [
      "\u001b[0;31m---------------------------------------------------------------------------\u001b[0m",
      "\u001b[0;31mTypeError\u001b[0m                                 Traceback (most recent call last)",
      "\u001b[0;32m<ipython-input-9-cdac7a9ec950>\u001b[0m in \u001b[0;36m<module>\u001b[0;34m\u001b[0m\n\u001b[1;32m      2\u001b[0m \u001b[0mtarget_timings\u001b[0m \u001b[0;34m=\u001b[0m \u001b[0;34m[\u001b[0m\u001b[0mn\u001b[0m\u001b[0;34m[\u001b[0m\u001b[0;34m'start'\u001b[0m\u001b[0;34m]\u001b[0m \u001b[0;32mfor\u001b[0m \u001b[0mn\u001b[0m \u001b[0;32min\u001b[0m \u001b[0mnetlist\u001b[0m\u001b[0;34m]\u001b[0m\u001b[0;34m\u001b[0m\u001b[0;34m\u001b[0m\u001b[0m\n\u001b[1;32m      3\u001b[0m \u001b[0msim_order\u001b[0m \u001b[0;34m=\u001b[0m \u001b[0mlist\u001b[0m\u001b[0;34m(\u001b[0m\u001b[0msim\u001b[0m\u001b[0;34m.\u001b[0m\u001b[0mkeys\u001b[0m\u001b[0;34m(\u001b[0m\u001b[0;34m)\u001b[0m\u001b[0;34m)\u001b[0m\u001b[0;34m\u001b[0m\u001b[0;34m\u001b[0m\u001b[0m\n\u001b[0;32m----> 4\u001b[0;31m \u001b[0msim_timings\u001b[0m \u001b[0;34m=\u001b[0m \u001b[0;34m[\u001b[0m\u001b[0mv\u001b[0m\u001b[0;34m*\u001b[0m\u001b[0mspeedup_factor\u001b[0m \u001b[0;32mfor\u001b[0m \u001b[0mv\u001b[0m \u001b[0;32min\u001b[0m \u001b[0msim\u001b[0m\u001b[0;34m.\u001b[0m\u001b[0mvalues\u001b[0m\u001b[0;34m(\u001b[0m\u001b[0;34m)\u001b[0m\u001b[0;34m]\u001b[0m\u001b[0;34m\u001b[0m\u001b[0;34m\u001b[0m\u001b[0m\n\u001b[0m",
      "\u001b[0;32m<ipython-input-9-cdac7a9ec950>\u001b[0m in \u001b[0;36m<listcomp>\u001b[0;34m(.0)\u001b[0m\n\u001b[1;32m      2\u001b[0m \u001b[0mtarget_timings\u001b[0m \u001b[0;34m=\u001b[0m \u001b[0;34m[\u001b[0m\u001b[0mn\u001b[0m\u001b[0;34m[\u001b[0m\u001b[0;34m'start'\u001b[0m\u001b[0;34m]\u001b[0m \u001b[0;32mfor\u001b[0m \u001b[0mn\u001b[0m \u001b[0;32min\u001b[0m \u001b[0mnetlist\u001b[0m\u001b[0;34m]\u001b[0m\u001b[0;34m\u001b[0m\u001b[0;34m\u001b[0m\u001b[0m\n\u001b[1;32m      3\u001b[0m \u001b[0msim_order\u001b[0m \u001b[0;34m=\u001b[0m \u001b[0mlist\u001b[0m\u001b[0;34m(\u001b[0m\u001b[0msim\u001b[0m\u001b[0;34m.\u001b[0m\u001b[0mkeys\u001b[0m\u001b[0;34m(\u001b[0m\u001b[0;34m)\u001b[0m\u001b[0;34m)\u001b[0m\u001b[0;34m\u001b[0m\u001b[0;34m\u001b[0m\u001b[0m\n\u001b[0;32m----> 4\u001b[0;31m \u001b[0msim_timings\u001b[0m \u001b[0;34m=\u001b[0m \u001b[0;34m[\u001b[0m\u001b[0mv\u001b[0m\u001b[0;34m*\u001b[0m\u001b[0mspeedup_factor\u001b[0m \u001b[0;32mfor\u001b[0m \u001b[0mv\u001b[0m \u001b[0;32min\u001b[0m \u001b[0msim\u001b[0m\u001b[0;34m.\u001b[0m\u001b[0mvalues\u001b[0m\u001b[0;34m(\u001b[0m\u001b[0;34m)\u001b[0m\u001b[0;34m]\u001b[0m\u001b[0;34m\u001b[0m\u001b[0;34m\u001b[0m\u001b[0m\n\u001b[0m",
      "\u001b[0;31mTypeError\u001b[0m: unsupported operand type(s) for *: 'dict' and 'float'"
     ]
    }
   ],
   "metadata": {}
  },
  {
   "cell_type": "code",
   "execution_count": 21,
   "source": [
    "np.unique([\n",
    "    t['task'] for t in netlist\n",
    "])"
   ],
   "outputs": [
    {
     "output_type": "execute_result",
     "data": {
      "text/plain": [
       "array(['anneal', 'characterization_to_storage', 'characterize',\n",
       "       'cooldown', 'hotplate_to_storage', 'spincoat',\n",
       "       'spincoater_to_hotplate', 'storage_to_characterization',\n",
       "       'storage_to_spincoater'], dtype='<U27')"
      ]
     },
     "metadata": {},
     "execution_count": 21
    }
   ],
   "metadata": {}
  },
  {
   "cell_type": "code",
   "execution_count": 19,
   "source": [
    "def plot_task_types(sim):\n",
    "    key = {\n",
    "        'heat/cool':['anneal', 'cooldown'],\n",
    "        'spincoat':['spincoat'],\n",
    "        'characterize':['characterize'],\n",
    "        'transfer':[\n",
    "            'characterization_to_storage',\n",
    "            'storage_to_characterization',\n",
    "            'spincoater_to_hotplate',\n",
    "            'storage_to_spincoater',\n",
    "            'hotplate_to_storage',\n",
    "        ]\n",
    "    }\n",
    "    colors = {k:plt.cm.Set2(i) for i,k in enumerate(key)}\n",
    "    yvals = {k:i for i,k in enumerate(key)}\n",
    "\n",
    "    for task, time in sim.items():\n",
    "        for k,v in key.items():\n",
    "            if task.split('-')[0] in v:\n",
    "                plt.scatter(time*speedup_factor, yvals[k], color=colors[k])\n",
    "                break\n",
    "    plt.yticks(range(len(key)), key.keys())\n",
    "\n"
   ],
   "outputs": [],
   "metadata": {}
  },
  {
   "cell_type": "code",
   "execution_count": 20,
   "source": [
    "plot_task_types(sim)"
   ],
   "outputs": [
    {
     "output_type": "display_data",
     "data": {
      "text/plain": [
       "<Figure size 432x288 with 1 Axes>"
      ],
      "image/png": "[encoded data removed]"
     },
     "metadata": {
      "needs_background": "light"
     }
    }
   ],
   "metadata": {}
  },
  {
   "cell_type": "code",
   "execution_count": 18,
   "source": [
    "# fig, ax = plt.\n",
    "plt.scatter(sim_timings, target_timings)\n",
    "plt.plot(plt.xlim(), plt.xlim(), 'k--')"
   ],
   "outputs": [
    {
     "output_type": "error",
     "ename": "NameError",
     "evalue": "name 'sim_timings' is not defined",
     "traceback": [
      "\u001b[0;31m---------------------------------------------------------------------------\u001b[0m",
      "\u001b[0;31mNameError\u001b[0m                                 Traceback (most recent call last)",
      "\u001b[0;32m<ipython-input-18-5000cc3af667>\u001b[0m in \u001b[0;36m<module>\u001b[0;34m\u001b[0m\n\u001b[1;32m      1\u001b[0m \u001b[0;31m# fig, ax = plt.\u001b[0m\u001b[0;34m\u001b[0m\u001b[0;34m\u001b[0m\u001b[0;34m\u001b[0m\u001b[0m\n\u001b[0;32m----> 2\u001b[0;31m \u001b[0mplt\u001b[0m\u001b[0;34m.\u001b[0m\u001b[0mscatter\u001b[0m\u001b[0;34m(\u001b[0m\u001b[0msim_timings\u001b[0m\u001b[0;34m,\u001b[0m \u001b[0mtarget_timings\u001b[0m\u001b[0;34m)\u001b[0m\u001b[0;34m\u001b[0m\u001b[0;34m\u001b[0m\u001b[0m\n\u001b[0m\u001b[1;32m      3\u001b[0m \u001b[0mplt\u001b[0m\u001b[0;34m.\u001b[0m\u001b[0mplot\u001b[0m\u001b[0;34m(\u001b[0m\u001b[0mplt\u001b[0m\u001b[0;34m.\u001b[0m\u001b[0mxlim\u001b[0m\u001b[0;34m(\u001b[0m\u001b[0;34m)\u001b[0m\u001b[0;34m,\u001b[0m \u001b[0mplt\u001b[0m\u001b[0;34m.\u001b[0m\u001b[0mxlim\u001b[0m\u001b[0;34m(\u001b[0m\u001b[0;34m)\u001b[0m\u001b[0;34m,\u001b[0m \u001b[0;34m'k--'\u001b[0m\u001b[0;34m)\u001b[0m\u001b[0;34m\u001b[0m\u001b[0;34m\u001b[0m\u001b[0m\n",
      "\u001b[0;31mNameError\u001b[0m: name 'sim_timings' is not defined"
     ]
    }
   ],
   "metadata": {}
  },
  {
   "cell_type": "code",
   "execution_count": 14,
   "source": [
    "sim_order == target_order"
   ],
   "outputs": [
    {
     "output_type": "execute_result",
     "data": {
      "text/plain": [
       "True"
      ]
     },
     "metadata": {},
     "execution_count": 14
    }
   ],
   "metadata": {}
  },
  {
   "cell_type": "code",
   "execution_count": 6,
   "source": [
    "for i, t in enumerate(sim):\n",
    "    color = plt.cm.Spectral(target_order.index(t)/len(target_order))\n",
    "    plt.scatter(i, 1, c=[color])"
   ],
   "outputs": [
    {
     "output_type": "display_data",
     "data": {
      "text/plain": [
       "<Figure size 432x288 with 1 Axes>"
      ],
      "image/png": "[encoded data removed]"
     },
     "metadata": {
      "needs_background": "light"
     }
    }
   ],
   "metadata": {}
  },
  {
   "cell_type": "code",
   "execution_count": 66,
   "source": [
    "plt.scatter(goal_starts, actual_starts, alpha=)\n",
    "plt.plot([min(goal_starts), max(goal_starts)], [min(goal_starts), max(goal_starts)], 'k:')"
   ],
   "outputs": [
    {
     "output_type": "execute_result",
     "data": {
      "text/plain": [
       "[<matplotlib.lines.Line2D at 0x7ff469af62b0>]"
      ]
     },
     "metadata": {},
     "execution_count": 66
    },
    {
     "output_type": "display_data",
     "data": {
      "text/plain": [
       "<Figure size 432x288 with 1 Axes>"
      ],
      "image/png": "[encoded data removed]"
     },
     "metadata": {
      "needs_background": "light"
     }
    }
   ],
   "metadata": {}
  },
  {
   "cell_type": "markdown",
   "source": [
    "Plot simulated process order"
   ],
   "metadata": {}
  },
  {
   "cell_type": "markdown",
   "source": [],
   "metadata": {}
  },
  {
   "cell_type": "code",
   "execution_count": 49,
   "source": [
    "worker_tasks = {\n",
    "    'gripper_gantry': [\n",
    "        'storage_to_spincoater',\n",
    "        'spincoater_to_hotplate',\n",
    "        'hotplate_to_storage',\n",
    "        'storage_to_characterization',\n",
    "        'characterization_to_storage',\n",
    "    ],\n",
    "    'spincoater_liquidhandler': [\n",
    "        'storage_to_spincoater',\n",
    "        'spincoater_to_hotplate',\n",
    "        'spincoat',\n",
    "    ],\n",
    "    'hotplate': [\n",
    "        'anneal',\n",
    "    ],\n",
    "    'storage': [\n",
    "        'cooldown',\n",
    "    ],\n",
    "    'characterization': [\n",
    "        'characterize',\n",
    "        'storage_to_characterization',\n",
    "        'characterization_to_storage',\n",
    "    ]\n",
    "}"
   ],
   "outputs": [],
   "metadata": {}
  },
  {
   "cell_type": "code",
   "execution_count": 69,
   "source": [
    "def plot_solution(sim, ax=None):\n",
    "    plt.figure(figsize=(14, 5))\n",
    "    for idx, (sample, data) in enumerate(sim.items()):\n",
    "        color = plt.cm.tab20(idx % 20)\n",
    "        offset = np.random.random() * 0.5 - 0.25\n",
    "        for t in data['tasks']:\n",
    "            for i, (w, tl) in enumerate(worker_tasks.items()):\n",
    "                found = False\n",
    "                if t['task'] in tl:\n",
    "                    y = [i + offset] * 2\n",
    "\n",
    "                    st = t['start_actual']*speedup_factor / 60\n",
    "                    ft = t['finish_actual']*speedup_factor / 60\n",
    "                    if t['task'] == 'characterize':\n",
    "                        print(speedup_factor *(ft-st))\n",
    "\n",
    "                    # minval = 1\n",
    "                    # if ft-st < minval:\n",
    "                    #     ft = st+minval\n",
    "                    x = [st,ft]\n",
    "                    plt.plot(x, y, color=color)\n",
    "                    found = True\n",
    "                    break\n",
    "            if not found:\n",
    "                print(t['task'])\n",
    "\n",
    "    plt.yticks(range(len(worker_tasks)), labels=worker_tasks.keys())\n",
    "    plt.xlabel(\"Time (minutes)\")"
   ],
   "outputs": [],
   "metadata": {}
  },
  {
   "cell_type": "code",
   "execution_count": 73,
   "source": [
    "plot_solution(sim)\n",
    "# plt.xlim(0,50)"
   ],
   "outputs": [
    {
     "output_type": "stream",
     "name": "stdout",
     "text": [
      "1.2547322114308646\n",
      "1.2557071447372437\n",
      "1.2550912300745631\n",
      "1.2545213103294373\n",
      "1.254845360914869\n",
      "1.2547358870506287\n",
      "1.254688004652662\n",
      "1.2546929717063904\n",
      "1.2542334198951721\n",
      "1.254640817642212\n",
      "1.253839631875362\n",
      "1.2537141640981009\n",
      "1.2554916739463806\n",
      "1.2538122137387564\n",
      "1.2540804346402545\n",
      "1.2545475363731384\n",
      "1.2534721692403128\n",
      "1.2542208035786917\n",
      "1.2535662452379803\n",
      "1.2529570857683758\n",
      "1.2546730041503906\n",
      "1.254202922185268\n",
      "1.2549187739690026\n",
      "1.2543466687202454\n",
      "1.2532641490300556\n",
      "1.252346932888031\n",
      "1.252912978331242\n",
      "1.2544349829355994\n",
      "1.2518099943796734\n",
      "1.2517903248468976\n",
      "1.2517438332239728\n",
      "1.2515521049499512\n",
      "1.2509266535441022\n",
      "1.2527105212211609\n",
      "1.2543546160062147\n",
      "1.2530129154523273\n",
      "1.2526273727416992\n",
      "1.252584159374237\n",
      "1.2526625394821167\n",
      "1.2525626023610492\n",
      "1.252465049425755\n",
      "1.2524741888046265\n",
      "1.252402166525517\n",
      "1.2506124377250671\n",
      "1.252505381902047\n",
      "1.253270010153451\n",
      "1.252345045407619\n",
      "1.2522766987482647\n",
      "1.2522570292155066\n",
      "1.2522532542546472\n",
      "1.2523608406384668\n",
      "1.2522579232851605\n",
      "1.2522502740224262\n",
      "1.252259612083435\n",
      "1.2522720297177514\n",
      "1.2522908051808557\n",
      "1.2550570567448904\n",
      "1.255565881729126\n",
      "1.254650056362152\n",
      "1.2548290689786246\n"
     ]
    },
    {
     "output_type": "display_data",
     "data": {
      "text/plain": [
       "<Figure size 1008x360 with 1 Axes>"
      ],
      "image/png": "[encoded data removed]"
     },
     "metadata": {
      "needs_background": "light"
     }
    }
   ],
   "metadata": {}
  }
 ],
 "metadata": {
  "orig_nbformat": 4,
  "language_info": {
   "name": "python",
   "version": "3.8.0",
   "mimetype": "text/x-python",
   "codemirror_mode": {
    "name": "ipython",
    "version": 3
   },
   "pygments_lexer": "ipython3",
   "nbconvert_exporter": "python",
   "file_extension": ".py"
  },
  "kernelspec": {
   "name": "python3",
   "display_name": "Python 3.8.0 64-bit ('pascal': conda)"
  },
  "interpreter": {
   "hash": "e550aae00514e232b011b8daa9c111018f6799cbdd6b2b8c856d7d4b57330518"
  }
 },
 "nbformat": 4,
 "nbformat_minor": 2
}