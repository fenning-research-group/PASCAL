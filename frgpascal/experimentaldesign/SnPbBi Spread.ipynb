{
 "cells": [
  {
   "cell_type": "code",
   "execution_count": 1,
   "metadata": {},
   "outputs": [],
   "source": [
    "import numpy as np\n",
    "import itertools\n",
    "import random\n",
    "import pandas as pd\n",
    "import matplotlib.pyplot as plt\n",
    "import seaborn as sns\n",
    "import json\n",
    "from natsort import index_natsorted"
   ]
  },
  {
   "cell_type": "markdown",
   "metadata": {},
   "source": [
    "# Helper Functions - Run up to next header"
   ]
  },
  {
   "cell_type": "markdown",
   "metadata": {},
   "source": [
    "These will eventually live in a python module, but keeping here for development"
   ]
  },
  {
   "cell_type": "markdown",
   "metadata": {},
   "source": [
    "#### Compositions + Interpolation"
   ]
  },
  {
   "cell_type": "code",
   "execution_count": 2,
   "metadata": {},
   "outputs": [],
   "source": [
    "#### name parsing helper functions\n",
    "def components_to_name(components, delimiter = '_'):\n",
    "    composition_label = ''\n",
    "    for c, n in components.items():\n",
    "        if n == 1:\n",
    "            composition_label += '{0}{1}'.format(c, delimiter)            \n",
    "        elif n > 0:\n",
    "            nstr = f'{n:.3f}'.rstrip('0').rstrip('.')\n",
    "            composition_label += '{0}{1}{2}'.format(c, nstr, delimiter)\n",
    "\n",
    "    return composition_label[:-1]\n",
    "\n",
    "def name_to_components(name, factor = 1, delimiter = '_'):\n",
    "    '''\n",
    "    given a chemical formula, returns dictionary with individual components/amounts\n",
    "    expected name format = 'MA0.5_FA0.5_Pb1_I2_Br1'. \n",
    "    would return dictionary with keys ['MA, FA', 'Pb', 'I', 'Br'] and values [0.5,.05,1,2,1]*factor\n",
    "    '''\n",
    "    components = {}\n",
    "    for part in name.split(delimiter):\n",
    "        species = part\n",
    "        count = 1.0\n",
    "        for l in range(len(part), 0, -1):\n",
    "            try:\n",
    "                count = float(part[-l:])\n",
    "                species = part[:-l]\n",
    "                break\n",
    "            except:\n",
    "                pass\n",
    "        components[species] = count * factor\n",
    "    return components\n",
    "\n",
    "#### individual solution functions\n",
    "\n",
    "def get_components(name, factor = 1, delimiter = '_',):\n",
    "    components = {}\n",
    "    for part in name.split(delimiter):\n",
    "        species = part\n",
    "        count = 1.0\n",
    "        for l in range(len(part), 0, -1):\n",
    "            try:\n",
    "                count = float(part[-l:])\n",
    "                species = part[:-l]\n",
    "                break\n",
    "            except:\n",
    "                pass\n",
    "        components[species] = count * factor\n",
    "    return components\n",
    "\n",
    "def get_solvent(name):\n",
    "    '''\n",
    "    normalize solvent volumes -> solvent fractions\n",
    "    '''\n",
    "    solvent_dict = get_components(name)\n",
    "    total = np.sum(list(solvent_dict.values()))\n",
    "    return {solvent:amt/total for solvent,amt in solvent_dict.items()}\n",
    "\n",
    "#### combining functions to generate experiment mesh\n",
    "\n",
    "def compositions_spread(compositions, interp):\n",
    "    interp += 1\n",
    "    if interp <= 0:\n",
    "        raise ValueError('interp must be > 0!')\n",
    "        \n",
    "    # load all unique components in spread,\n",
    "    composition_components = [name_to_components(s) for s in compositions]\n",
    "    components = []\n",
    "    for s in composition_components:\n",
    "        components += list(s.keys())\n",
    "    components = np.unique(components)\n",
    "    \n",
    "    #sort by average order in endpoints (try to follow user convention for composition naming)\n",
    "    component_order = np.full((len(components), len(composition_components)), np.nan)\n",
    "    for n, s in enumerate(composition_components):\n",
    "        for i, c in enumerate(s):\n",
    "            m = np.where(components == c)[0]\n",
    "            component_order[m,n] = i\n",
    "    avg_order = np.argsort(np.nanmean(component_order, axis = 1))\n",
    "    components = components[avg_order]\n",
    "\n",
    "    #generate component matrix to interpolate between\n",
    "    mat = np.zeros((len(compositions), len(components)))\n",
    "    for sidx, s in enumerate(composition_components):\n",
    "        for cidx, c in enumerate(components):\n",
    "            if c in s:\n",
    "                mat[sidx, cidx] = s[c]\n",
    "    \n",
    "    compositions = []\n",
    "    for mix in itertools.combinations_with_replacement(mat, interp):\n",
    "        composition_amounts = np.array(mix).mean(axis = 0)\n",
    "        components_dict = {c:a for c,a in zip(components, composition_amounts)}\n",
    "        compositions.append(components_to_name(components_dict)) #exclude the last underscore\n",
    "\n",
    "    return list(np.unique(compositions))"
   ]
  },
  {
   "cell_type": "markdown",
   "metadata": {},
   "source": [
    "#### Well Plate Handling"
   ]
  },
  {
   "cell_type": "code",
   "execution_count": 3,
   "metadata": {},
   "outputs": [],
   "source": [
    "def well_list_generator(nrows = 12, ncols = 8, random = False):\n",
    "    if not random:\n",
    "        num = 0\n",
    "        col = -1\n",
    "        while num < nrows*ncols:\n",
    "            row = num%nrows\n",
    "            if row == 0:\n",
    "                col += 1\n",
    "            yield f'{str.upper(chr(col+97))}{row+1}'\n",
    "            num += 1\n",
    "    else:\n",
    "        wells = []\n",
    "        num = 0\n",
    "        col = -1\n",
    "        while num < nrows*ncols:\n",
    "            row = num%nrows\n",
    "            if row == 0:\n",
    "                col += 1\n",
    "            wells.append(f'{str.upper(chr(col+97))}{row+1}')\n",
    "            num += 1\n",
    "\n",
    "        idx = np.arange(nrows*ncols)\n",
    "        np.random.shuffle(idx)\n",
    "\n",
    "        for idx_ in idx:\n",
    "            yield(wells[idx_])        \n",
    "\n",
    "\n",
    "def generate_sample_list(compositions, solvents, molarities, volumes, randomize = True, repeats = 3, nrows = 12, ncols = 8):  \n",
    "    samples = []\n",
    "    plates = []\n",
    "    well_generator = well_list_generator(nrows = nrows, ncols = ncols, random = randomize) \n",
    "    \n",
    "    for c, s, m, v in itertools.product(compositions, solvents, molarities, volumes):\n",
    "        for r in range(repeats):\n",
    "            try:\n",
    "                this_well = next(well_generator)\n",
    "            except:\n",
    "                raise Exception('Too many samples, well can only hold up to 96!')\n",
    "            samples.append(dict(composition = c, solvent = s, molarity = m, volume = v, well = this_well))\n",
    "    if randomize:\n",
    "        random.shuffle(samples)\n",
    "    return samples"
   ]
  },
  {
   "cell_type": "code",
   "execution_count": 4,
   "metadata": {},
   "outputs": [],
   "source": [
    "def generate_composition_columns(df):\n",
    "    components = set()\n",
    "    for _,r in df.iterrows():\n",
    "        for c in name_to_components(r['composition']):\n",
    "            components.add(c)\n",
    "    dfData = {c:[] for c in components}\n",
    "    for _,r in df.iterrows():\n",
    "        this_components = name_to_components(r['composition'])\n",
    "        for c in components:\n",
    "            dfData[c].append(this_components.get(c,0))\n",
    "    df2 = pd.DataFrame(dfData)\n",
    "    df = df.join(df2)\n",
    "    return df"
   ]
  },
  {
   "cell_type": "markdown",
   "metadata": {},
   "source": [
    "#### Mix Calculator"
   ]
  },
  {
   "cell_type": "code",
   "execution_count": 5,
   "metadata": {},
   "outputs": [],
   "source": [
    "from scipy.optimize import nnls\n",
    "\n",
    "def calculate_mix(target, target_solvent, volume, molarity, solution_sources, min_volume = 10e-6):\n",
    "    # find unique solution components present in stock solutions\n",
    "    solutes = set([c for stk in solution_sources for c in name_to_components(stk) if 'Solvent' not in stk])\n",
    "    solvents = set([c for vals in solution_sources.values() for c in name_to_components(vals['solvent'])])\n",
    "    \n",
    "    ### Construct stock + target matrices\n",
    "    row_key = {}\n",
    "    i = 0\n",
    "    for s in solutes:\n",
    "        row_key[s] = i\n",
    "        i += 1\n",
    "    for s in solvents:\n",
    "        row_key[s] = i\n",
    "        i += 1\n",
    "        \n",
    "    stock_matrix = np.zeros((len(row_key), len(solution_sources)))\n",
    "    wells = []\n",
    "    for n, (name, vals) in enumerate(solution_sources.items()):\n",
    "        wells.append(vals['well'])\n",
    "        for solute, amt in get_components(name).items():\n",
    "            if 'Solvent' in solute:\n",
    "                continue\n",
    "            m = row_key[solute]\n",
    "            stock_matrix[m,n] = amt*vals['molarity']\n",
    "        for solvent, amt in get_solvent(vals['solvent']).items():\n",
    "            m = row_key[solvent]\n",
    "            stock_matrix[m,n] = amt\n",
    "    \n",
    "    target_matrix = np.zeros((len(row_key)))\n",
    "    for solute, amt in get_components(target).items():\n",
    "        if 'Solvent' in solute:\n",
    "            continue\n",
    "        try:\n",
    "            m = row_key[solute]\n",
    "        except:\n",
    "            raise Exception(f'{solute} not present in your stock solutions!')\n",
    "        target_matrix[m] = amt*molarity*volume\n",
    "    for solvent, amt in get_solvent(target_solvent).items():\n",
    "        try:\n",
    "            m = row_key[solvent]\n",
    "        except:\n",
    "            raise Exception(f'{solvent} not present in your stock solutions!')\n",
    "        target_matrix[m] = amt*volume\n",
    "    \n",
    "#     amount_matrix, *data = np.linalg.lstsq(stock_matrix*1e6, target_matrix*1e6, rcond = None) #volumes to mix. math is better if not such small values in matrix, so scale to uL for calculation\n",
    "    amount_matrix, *data = nnls(stock_matrix, target_matrix, maxiter=1e3) #volumes to mix. math is better if not such small values in matrix, so scale to uL for calculation\n",
    "    amount_matrix[amount_matrix < 1e-6] = 0 #clean up values that are essentially 0. If we have a significant negative value here, should get caught downstream\n",
    "    amount_matrix = np.round(amount_matrix,6) #round to nearest uL (values are in L at this point)\n",
    "    \n",
    "    doublecheck = stock_matrix @ amount_matrix\n",
    "    composition_error = max([np.abs(1-c/t) for c,t in zip(doublecheck, target_matrix) if t>0])\n",
    "\n",
    "    if composition_error < 0.05: #check that we are within 5% error wrt target composition AT EACH SITE\n",
    "        results = {}\n",
    "        for well, solution_volume in zip(wells, amount_matrix): \n",
    "            results[well] = solution_volume # round to nearest uL\n",
    "    else:\n",
    "        results = False\n",
    "        target_achieved = components_to_name({c:amt/molarity/volume for c,amt in zip(row_key, doublecheck) if amt > 0})\n",
    "\n",
    "\n",
    "        raise Exception(f'Unable to generate target solution ({volume*1e6} uL of {molarity}M {target} in'\\\n",
    "                        f'{target_solvent}) with current stock solutions.\\n\\n'\\\n",
    "                        f'Closest match is {target_achieved} - max site error of {composition_error*100:.2f}%')#{Off by {composition_error*100:.2f}%%')\n",
    "    \n",
    "#     if amount_matrix.sum() > volume:\n",
    "#         raise Exception(f'Volume Overflow ({amount_matrix.sum()/volume})')\n",
    "    return results"
   ]
  },
  {
   "cell_type": "markdown",
   "metadata": {},
   "source": [
    "### Plotting"
   ]
  },
  {
   "cell_type": "code",
   "execution_count": 10,
   "metadata": {},
   "outputs": [],
   "source": [
    "import ternary\n",
    "\n",
    "def ternary_composition(cols):\n",
    "    pts = np.array([sampledf[c].values for c in cols])\n",
    "\n",
    "    ## Boundary and Gridlines\n",
    "    scale = 1\n",
    "    fig,ax=plt.subplots(figsize=(5,4))\n",
    "    figure, tax = ternary.figure(ax=ax, scale=scale)\n",
    "\n",
    "    # Draw Boundary and Gridlines\n",
    "    tax.boundary(linewidth=0.5)\n",
    "    tax.gridlines(color=\"black\", multiple=0.2)\n",
    "    # tax.gridlines(color=\"blue\", multiple=1, linewidth=0.5)\n",
    "\n",
    "    # Set Axis labels and Title\n",
    "    fontsize = 20\n",
    "    # tax.set_title(\"Simplex Boundary and Gridlines\", fontsize=fontsize)\n",
    "    tax.left_corner_label(cols[2], fontsize=fontsize)\n",
    "    tax.right_corner_label(cols[0], fontsize=fontsize)\n",
    "    tax.top_corner_label(cols[1], fontsize=fontsize)\n",
    "    tax.right_axis_label('$\\longleftarrow$\\n', fontsize=fontsize/2)\n",
    "    tax.bottom_axis_label('$\\longrightarrow$', fontsize=fontsize/2)\n",
    "    tax.left_axis_label('$\\longleftarrow$\\n', fontsize=fontsize/2)\n",
    "    # tax.right_axis_label(\"Right label $\\\\beta^2$\", fontsize=fontsize)\n",
    "    # tax.bottom_axis_label(\"Bottom label $\\\\Gamma - \\\\Omega$\", fontsize=fontsize)\n",
    "\n",
    "    # Set ticks\n",
    "    tax.ticks(axis='lbr', linewidth=0.1, ticks=[0.2,0.4,0.6,0.8], locations=[0.2,0.4,0.6,0.8], tick_formats='%.1f', offset=0.02)\n",
    "    tax.scatter(pts.T, s=3, marker='x', c=[plt.cm.tab10(3)])\n",
    "    # Remove default Matplotlib Axes\n",
    "    tax.clear_matplotlib_ticks()\n",
    "    tax.get_axes().axis('off')\n"
   ]
  },
  {
   "cell_type": "markdown",
   "metadata": {},
   "source": [
    "# Define Experimental Mesh (start here)"
   ]
  },
  {
   "cell_type": "markdown",
   "metadata": {},
   "source": [
    "## Target Compositions"
   ]
  },
  {
   "cell_type": "markdown",
   "metadata": {},
   "source": [
    "List of composition endpoints - these will be included in the experiment, and interpolated between if desired\n",
    "\n",
    "component + amounts separated by underscores. No number implies 1"
   ]
  },
  {
   "cell_type": "code",
   "execution_count": 25,
   "metadata": {},
   "outputs": [],
   "source": [
    "# composition_endpoints = [\n",
    "#     'MA_Sn_I3',\n",
    "#     'MA_Pb0.6_Sn0.4_I3',\n",
    "#     'MA_Sn0.8_Bi0.2_I3',\n",
    "#     'MA_Pb0.48_Sn0.32_Bi0.2_I3',\n",
    "#     'MA_Sn0.8_Bi0.2_I3'\n",
    "\n",
    "# ]\n",
    "\n",
    "# compositions = compositions_spread(composition_endpoints, 3)\n",
    "\n",
    "# print(f'==={len(compositions)} compositions===')\n",
    "# for i, c in enumerate(compositions): print(f'{i}: {c}')"
   ]
  },
  {
   "cell_type": "code",
   "execution_count": 26,
   "metadata": {},
   "outputs": [
    {
     "name": "stdout",
     "output_type": "stream",
     "text": [
      "===44 compositions===\n",
      "0: MA_Sn1.000_Pb0.000_Bi0.000_I3\n",
      "1: MA_Sn0.990_Pb0.000_Bi0.010_I3\n",
      "2: MA_Sn0.980_Pb0.000_Bi0.020_I3\n",
      "3: MA_Sn0.970_Pb0.000_Bi0.030_I3\n",
      "4: MA_Sn0.960_Pb0.000_Bi0.040_I3\n",
      "5: MA_Sn0.950_Pb0.000_Bi0.050_I3\n",
      "6: MA_Sn0.925_Pb0.000_Bi0.075_I3\n",
      "7: MA_Sn0.900_Pb0.000_Bi0.100_I3\n",
      "8: MA_Sn0.867_Pb0.000_Bi0.133_I3\n",
      "9: MA_Sn0.834_Pb0.000_Bi0.166_I3\n",
      "10: MA_Sn0.800_Pb0.000_Bi0.200_I3\n",
      "11: MA_Sn0.800_Pb0.200_Bi0.000_I3\n",
      "12: MA_Sn0.792_Pb0.198_Bi0.010_I3\n",
      "13: MA_Sn0.784_Pb0.196_Bi0.020_I3\n",
      "14: MA_Sn0.776_Pb0.194_Bi0.030_I3\n",
      "15: MA_Sn0.768_Pb0.192_Bi0.040_I3\n",
      "16: MA_Sn0.760_Pb0.190_Bi0.050_I3\n",
      "17: MA_Sn0.740_Pb0.185_Bi0.075_I3\n",
      "18: MA_Sn0.720_Pb0.180_Bi0.100_I3\n",
      "19: MA_Sn0.694_Pb0.173_Bi0.133_I3\n",
      "20: MA_Sn0.667_Pb0.167_Bi0.166_I3\n",
      "21: MA_Sn0.640_Pb0.160_Bi0.200_I3\n",
      "22: MA_Sn0.600_Pb0.400_Bi0.000_I3\n",
      "23: MA_Sn0.594_Pb0.396_Bi0.010_I3\n",
      "24: MA_Sn0.588_Pb0.392_Bi0.020_I3\n",
      "25: MA_Sn0.582_Pb0.388_Bi0.030_I3\n",
      "26: MA_Sn0.576_Pb0.384_Bi0.040_I3\n",
      "27: MA_Sn0.570_Pb0.380_Bi0.050_I3\n",
      "28: MA_Sn0.555_Pb0.370_Bi0.075_I3\n",
      "29: MA_Sn0.540_Pb0.360_Bi0.100_I3\n",
      "30: MA_Sn0.520_Pb0.347_Bi0.133_I3\n",
      "31: MA_Sn0.500_Pb0.334_Bi0.166_I3\n",
      "32: MA_Sn0.480_Pb0.320_Bi0.200_I3\n",
      "33: MA_Sn0.400_Pb0.600_Bi0.000_I3\n",
      "34: MA_Sn0.396_Pb0.594_Bi0.010_I3\n",
      "35: MA_Sn0.392_Pb0.588_Bi0.020_I3\n",
      "36: MA_Sn0.388_Pb0.582_Bi0.030_I3\n",
      "37: MA_Sn0.384_Pb0.576_Bi0.040_I3\n",
      "38: MA_Sn0.380_Pb0.570_Bi0.050_I3\n",
      "39: MA_Sn0.370_Pb0.555_Bi0.075_I3\n",
      "40: MA_Sn0.360_Pb0.540_Bi0.100_I3\n",
      "41: MA_Sn0.347_Pb0.520_Bi0.133_I3\n",
      "42: MA_Sn0.334_Pb0.500_Bi0.166_I3\n",
      "43: MA_Sn0.320_Pb0.480_Bi0.200_I3\n"
     ]
    }
   ],
   "source": [
    "pbx = [0, 0.2, 0.4, 0.6] #MA_Sn(1-x)_Pb(x)_I3\n",
    "# bix = np.linspace(0,0.1,11) #MA_SnPb(1-x)_Bi(x)_I3\n",
    "bix = [0,0.01,0.02,0.03,0.04,0.05,0.075,0.1, 0.133, 0.166, 0.2]\n",
    "compositions = []\n",
    "for pb0 in pbx:\n",
    "    for bi in bix:\n",
    "        pb = pb0 * (1-bi)\n",
    "        sn = (1-bi) * (1-pb0)\n",
    "        compositions.append(f'MA_Sn{sn:.3f}_Pb{pb:.3f}_Bi{bi:.3f}_I3')\n",
    "    \n",
    "print(f'==={len(compositions)} compositions===')\n",
    "for i, c in enumerate(compositions): print(f'{i}: {c}')"
   ]
  },
  {
   "cell_type": "code",
   "execution_count": 27,
   "metadata": {},
   "outputs": [
    {
     "name": "stdout",
     "output_type": "stream",
     "text": [
      "===44 compositions===\n",
      "0: MA_Sn1.000_Pb0.000_Bi0.000_I3\n",
      "1: MA_Sn0.990_Pb0.000_Bi0.010_I3\n",
      "2: MA_Sn0.980_Pb0.000_Bi0.020_I3\n",
      "3: MA_Sn0.970_Pb0.000_Bi0.030_I3\n",
      "4: MA_Sn0.960_Pb0.000_Bi0.040_I3\n",
      "5: MA_Sn0.950_Pb0.000_Bi0.050_I3\n",
      "6: MA_Sn0.925_Pb0.000_Bi0.075_I3\n",
      "7: MA_Sn0.900_Pb0.000_Bi0.100_I3\n",
      "8: MA_Sn0.867_Pb0.000_Bi0.133_I3\n",
      "9: MA_Sn0.834_Pb0.000_Bi0.166_I3\n",
      "10: MA_Sn0.800_Pb0.000_Bi0.200_I3\n",
      "11: MA_Sn0.800_Pb0.200_Bi0.000_I3\n",
      "12: MA_Sn0.792_Pb0.198_Bi0.010_I3\n",
      "13: MA_Sn0.784_Pb0.196_Bi0.020_I3\n",
      "14: MA_Sn0.776_Pb0.194_Bi0.030_I3\n",
      "15: MA_Sn0.768_Pb0.192_Bi0.040_I3\n",
      "16: MA_Sn0.760_Pb0.190_Bi0.050_I3\n",
      "17: MA_Sn0.740_Pb0.185_Bi0.075_I3\n",
      "18: MA_Sn0.720_Pb0.180_Bi0.100_I3\n",
      "19: MA_Sn0.694_Pb0.173_Bi0.133_I3\n",
      "20: MA_Sn0.667_Pb0.167_Bi0.166_I3\n",
      "21: MA_Sn0.640_Pb0.160_Bi0.200_I3\n",
      "22: MA_Sn0.600_Pb0.400_Bi0.000_I3\n",
      "23: MA_Sn0.594_Pb0.396_Bi0.010_I3\n",
      "24: MA_Sn0.588_Pb0.392_Bi0.020_I3\n",
      "25: MA_Sn0.582_Pb0.388_Bi0.030_I3\n",
      "26: MA_Sn0.576_Pb0.384_Bi0.040_I3\n",
      "27: MA_Sn0.570_Pb0.380_Bi0.050_I3\n",
      "28: MA_Sn0.555_Pb0.370_Bi0.075_I3\n",
      "29: MA_Sn0.540_Pb0.360_Bi0.100_I3\n",
      "30: MA_Sn0.520_Pb0.347_Bi0.133_I3\n",
      "31: MA_Sn0.500_Pb0.334_Bi0.166_I3\n",
      "32: MA_Sn0.480_Pb0.320_Bi0.200_I3\n",
      "33: MA_Sn0.400_Pb0.600_Bi0.000_I3\n",
      "34: MA_Sn0.396_Pb0.594_Bi0.010_I3\n",
      "35: MA_Sn0.392_Pb0.588_Bi0.020_I3\n",
      "36: MA_Sn0.388_Pb0.582_Bi0.030_I3\n",
      "37: MA_Sn0.384_Pb0.576_Bi0.040_I3\n",
      "38: MA_Sn0.380_Pb0.570_Bi0.050_I3\n",
      "39: MA_Sn0.370_Pb0.555_Bi0.075_I3\n",
      "40: MA_Sn0.360_Pb0.540_Bi0.100_I3\n",
      "41: MA_Sn0.347_Pb0.520_Bi0.133_I3\n",
      "42: MA_Sn0.334_Pb0.500_Bi0.166_I3\n",
      "43: MA_Sn0.320_Pb0.480_Bi0.200_I3\n"
     ]
    }
   ],
   "source": [
    "indices_to_omit = [] #from list above\n",
    "\n",
    "compositions = [c for i,c in enumerate(compositions) if i not in indices_to_omit]\n",
    "print(f'==={len(compositions)} compositions===')\n",
    "for i, c in enumerate(compositions): print(f'{i}: {c}')"
   ]
  },
  {
   "cell_type": "markdown",
   "metadata": {},
   "source": [
    "Note that you can manually enter compositions if no meshing is desired"
   ]
  },
  {
   "cell_type": "code",
   "execution_count": 28,
   "metadata": {},
   "outputs": [],
   "source": [
    "# compositions = [\n",
    "#     'MA_Sn_I3',\n",
    "#     'MA_Sn0.2_Bi0.8_I3'\n",
    "# ]"
   ]
  },
  {
   "cell_type": "markdown",
   "metadata": {},
   "source": [
    "## Target Solvents"
   ]
  },
  {
   "cell_type": "markdown",
   "metadata": {},
   "source": [
    "Define solvent systems to use. at least one must be defined here. Same approach as above, but here we only care about solvent component _ratios_, ie `DMF0.5_DMSO0.5` and `DMF_DMSO` are equivalent"
   ]
  },
  {
   "cell_type": "code",
   "execution_count": 29,
   "metadata": {},
   "outputs": [],
   "source": [
    "# endpoint_solvents = [\n",
    "#     'DMSO',\n",
    "#     'DMF'\n",
    "# ]"
   ]
  },
  {
   "cell_type": "code",
   "execution_count": 30,
   "metadata": {},
   "outputs": [],
   "source": [
    "# solvents = compositions_spread(\n",
    "#     compositions = endpoint_solvents, \n",
    "#     n = 1\n",
    "# )\n",
    "\n",
    "# print(f'==={len(solvents)} solvent systems===')\n",
    "# for i, c in enumerate(solvents): print(f'{i}: {c}')"
   ]
  },
  {
   "cell_type": "code",
   "execution_count": 31,
   "metadata": {},
   "outputs": [],
   "source": [
    "# indices_to_omit = [] #from list above\n",
    "\n",
    "# solvents = [c for i,c in enumerate(solvents) if i not in indices_to_omit]\n",
    "# print(f'==={len(solvents)} solvent systems===')\n",
    "# for i, c in enumerate(solvents): print(f'{i}: {c}')"
   ]
  },
  {
   "cell_type": "markdown",
   "metadata": {},
   "source": [
    "Usually we dont need a substantial mesh of solvents, and we can define them manually."
   ]
  },
  {
   "cell_type": "code",
   "execution_count": 32,
   "metadata": {},
   "outputs": [],
   "source": [
    "solvents = [\n",
    "    'DMF4_DMSO1'\n",
    "]"
   ]
  },
  {
   "cell_type": "markdown",
   "metadata": {},
   "source": [
    "## Generate Sample List"
   ]
  },
  {
   "cell_type": "markdown",
   "metadata": {},
   "source": [
    "List your molarities and volumes, and importantly the number of repeats and whether to randomize the sample + well order or not. \n",
    "\n",
    "Randomization is desirable to reduce systematic effects (conditions drifting over time, or edge vs center well plate effects), but obviously makes interpreting your data a bit more involved."
   ]
  },
  {
   "cell_type": "code",
   "execution_count": 33,
   "metadata": {},
   "outputs": [
    {
     "name": "stdout",
     "output_type": "stream",
     "text": [
      "88/96 Wells Occupied\n"
     ]
    }
   ],
   "source": [
    "molarities = [0.5] #target solution molarities\n",
    "volumes = [60e-6] #target solution volume(s)\n",
    "\n",
    "samples = generate_sample_list(\n",
    "    compositions = compositions,\n",
    "    solvents = solvents,\n",
    "    molarities = molarities,\n",
    "    volumes = volumes,\n",
    "    randomize = True, #boolean, randomize well + sample order\n",
    "    repeats = 2 #number of duplicates per unique experimental point\n",
    ")\n",
    "print(f'{len(samples)}/96 Wells Occupied')"
   ]
  },
  {
   "cell_type": "code",
   "execution_count": 34,
   "metadata": {},
   "outputs": [
    {
     "data": {
      "text/html": [
       "<div>\n",
       "<style scoped>\n",
       "    .dataframe tbody tr th:only-of-type {\n",
       "        vertical-align: middle;\n",
       "    }\n",
       "\n",
       "    .dataframe tbody tr th {\n",
       "        vertical-align: top;\n",
       "    }\n",
       "\n",
       "    .dataframe thead th {\n",
       "        text-align: right;\n",
       "    }\n",
       "</style>\n",
       "<table border=\"1\" class=\"dataframe\">\n",
       "  <thead>\n",
       "    <tr style=\"text-align: right;\">\n",
       "      <th></th>\n",
       "      <th>composition</th>\n",
       "      <th>solvent</th>\n",
       "      <th>molarity</th>\n",
       "      <th>volume</th>\n",
       "      <th>Sn</th>\n",
       "      <th>I</th>\n",
       "      <th>Bi</th>\n",
       "      <th>Pb</th>\n",
       "      <th>MA</th>\n",
       "      <th>row</th>\n",
       "      <th>col</th>\n",
       "    </tr>\n",
       "    <tr>\n",
       "      <th>well</th>\n",
       "      <th></th>\n",
       "      <th></th>\n",
       "      <th></th>\n",
       "      <th></th>\n",
       "      <th></th>\n",
       "      <th></th>\n",
       "      <th></th>\n",
       "      <th></th>\n",
       "      <th></th>\n",
       "      <th></th>\n",
       "      <th></th>\n",
       "    </tr>\n",
       "  </thead>\n",
       "  <tbody>\n",
       "    <tr>\n",
       "      <th>A1</th>\n",
       "      <td>MA_Sn0.960_Pb0.000_Bi0.040_I3</td>\n",
       "      <td>DMF4_DMSO1</td>\n",
       "      <td>0.5</td>\n",
       "      <td>0.00006</td>\n",
       "      <td>0.960</td>\n",
       "      <td>3.0</td>\n",
       "      <td>0.040</td>\n",
       "      <td>0.000</td>\n",
       "      <td>1.0</td>\n",
       "      <td>A</td>\n",
       "      <td>1</td>\n",
       "    </tr>\n",
       "    <tr>\n",
       "      <th>A2</th>\n",
       "      <td>MA_Sn0.950_Pb0.000_Bi0.050_I3</td>\n",
       "      <td>DMF4_DMSO1</td>\n",
       "      <td>0.5</td>\n",
       "      <td>0.00006</td>\n",
       "      <td>0.950</td>\n",
       "      <td>3.0</td>\n",
       "      <td>0.050</td>\n",
       "      <td>0.000</td>\n",
       "      <td>1.0</td>\n",
       "      <td>A</td>\n",
       "      <td>2</td>\n",
       "    </tr>\n",
       "    <tr>\n",
       "      <th>A3</th>\n",
       "      <td>MA_Sn0.380_Pb0.570_Bi0.050_I3</td>\n",
       "      <td>DMF4_DMSO1</td>\n",
       "      <td>0.5</td>\n",
       "      <td>0.00006</td>\n",
       "      <td>0.380</td>\n",
       "      <td>3.0</td>\n",
       "      <td>0.050</td>\n",
       "      <td>0.570</td>\n",
       "      <td>1.0</td>\n",
       "      <td>A</td>\n",
       "      <td>3</td>\n",
       "    </tr>\n",
       "    <tr>\n",
       "      <th>A4</th>\n",
       "      <td>MA_Sn0.667_Pb0.167_Bi0.166_I3</td>\n",
       "      <td>DMF4_DMSO1</td>\n",
       "      <td>0.5</td>\n",
       "      <td>0.00006</td>\n",
       "      <td>0.667</td>\n",
       "      <td>3.0</td>\n",
       "      <td>0.166</td>\n",
       "      <td>0.167</td>\n",
       "      <td>1.0</td>\n",
       "      <td>A</td>\n",
       "      <td>4</td>\n",
       "    </tr>\n",
       "    <tr>\n",
       "      <th>A5</th>\n",
       "      <td>MA_Sn0.900_Pb0.000_Bi0.100_I3</td>\n",
       "      <td>DMF4_DMSO1</td>\n",
       "      <td>0.5</td>\n",
       "      <td>0.00006</td>\n",
       "      <td>0.900</td>\n",
       "      <td>3.0</td>\n",
       "      <td>0.100</td>\n",
       "      <td>0.000</td>\n",
       "      <td>1.0</td>\n",
       "      <td>A</td>\n",
       "      <td>5</td>\n",
       "    </tr>\n",
       "  </tbody>\n",
       "</table>\n",
       "</div>"
      ],
      "text/plain": [
       "                        composition     solvent  molarity   volume     Sn  \\\n",
       "well                                                                        \n",
       "A1    MA_Sn0.960_Pb0.000_Bi0.040_I3  DMF4_DMSO1       0.5  0.00006  0.960   \n",
       "A2    MA_Sn0.950_Pb0.000_Bi0.050_I3  DMF4_DMSO1       0.5  0.00006  0.950   \n",
       "A3    MA_Sn0.380_Pb0.570_Bi0.050_I3  DMF4_DMSO1       0.5  0.00006  0.380   \n",
       "A4    MA_Sn0.667_Pb0.167_Bi0.166_I3  DMF4_DMSO1       0.5  0.00006  0.667   \n",
       "A5    MA_Sn0.900_Pb0.000_Bi0.100_I3  DMF4_DMSO1       0.5  0.00006  0.900   \n",
       "\n",
       "        I     Bi     Pb   MA row  col  \n",
       "well                                   \n",
       "A1    3.0  0.040  0.000  1.0   A    1  \n",
       "A2    3.0  0.050  0.000  1.0   A    2  \n",
       "A3    3.0  0.050  0.570  1.0   A    3  \n",
       "A4    3.0  0.166  0.167  1.0   A    4  \n",
       "A5    3.0  0.100  0.000  1.0   A    5  "
      ]
     },
     "execution_count": 34,
     "metadata": {},
     "output_type": "execute_result"
    }
   ],
   "source": [
    "sampledf = pd.DataFrame(samples)\n",
    "# sampledf = pd.read_csv('wellplate_key_ACTUALLYUSED.csv', index_col = None, usecols = [1,2,3,4]) #load connor's actual run\n",
    "sampledf = generate_composition_columns(sampledf)\n",
    "sampledf['row'] = sampledf['well'].apply(lambda x: x[0])\n",
    "sampledf['col'] = sampledf['well'].apply(lambda x: int(x[1:]))\n",
    "sampledf.set_index('well', inplace = True)\n",
    "sampledf.sort_values(\n",
    "    by=\"well\",\n",
    "    key=lambda x: np.argsort(index_natsorted(x)),\n",
    "    inplace=True\n",
    ")\n",
    "sampledf.head() #display first five rows"
   ]
  },
  {
   "cell_type": "markdown",
   "metadata": {},
   "source": [
    "## Stock Solution Setup"
   ]
  },
  {
   "cell_type": "markdown",
   "metadata": {},
   "source": [
    "Define your stock solutions. These need to have compositions and molarities spanning the edges of your experimental space. The wells are for your own record, and should correspond to the well location on the stock solution deck on the liquid handler. solvent systems and compositions are defined with the same convention as earlier.\n",
    "\n",
    "All solvent-only solutions should be named with a `Solvent_` prefix. The `molarity` value for solvents is a dummy value not used for anything, and the `solvent` value should reflect the solvent ratio. Adding plain solvent is only needed if you want to dilute molarities."
   ]
  },
  {
   "cell_type": "code",
   "execution_count": 4,
   "metadata": {},
   "outputs": [],
   "source": [
    "stock_solutions = {\n",
    "    'MA_Sn_I3': dict(well = 'A7', molarity = 0.5, solvent = 'DMF4_DMSO1'),\n",
    "    'MA_Pb_I3': dict(well = 'B7', molarity = 0.5, solvent = 'DMF4_DMSO1'),\n",
    "    'MA_Sn0.8_Bi0.2_I3': dict(well = 'C7', molarity = 0.5, solvent = 'DMF4_DMSO1'),\n",
    "    'MA_Pb0.8_Bi0.2_I3': dict(well = 'D7', molarity = 0.5, solvent = 'DMF4_DMSO1'),\n",
    "#     'Solvent_DMF4_DMSO1': dict(well = 'B1', molarity = 1, solvent = 'DMF4_DMSO1'),\n",
    "}\n",
    "stock_wells = {v['well']:comp for comp,v in stock_solutions.items()}"
   ]
  },
  {
   "cell_type": "markdown",
   "metadata": {},
   "source": [
    "Some constants to make sure your stock doesnt go dry during handling. can vary based on stock vials"
   ]
  },
  {
   "cell_type": "code",
   "execution_count": 5,
   "metadata": {},
   "outputs": [],
   "source": [
    "min_volume_to_aspirate = 0.5e-3 #volume (L) below which the liquid level in the is too low to properly aspirate\n",
    "overhead = 0.05 #fraction of total volume you want to add as overhead. 0.1 = 10% extra"
   ]
  },
  {
   "cell_type": "markdown",
   "metadata": {},
   "source": [
    "### Calculate necessary stock volumes"
   ]
  },
  {
   "cell_type": "code",
   "execution_count": 6,
   "metadata": {},
   "outputs": [
    {
     "ename": "NameError",
     "evalue": "name 'samples' is not defined",
     "output_type": "error",
     "traceback": [
      "\u001b[1;31m---------------------------------------------------------------------------\u001b[0m",
      "\u001b[1;31mNameError\u001b[0m                                 Traceback (most recent call last)",
      "\u001b[1;32m<ipython-input-6-da5f6aed4a2b>\u001b[0m in \u001b[0;36m<module>\u001b[1;34m\u001b[0m\n\u001b[0;32m      2\u001b[0m \u001b[0mstockdfData\u001b[0m \u001b[1;33m=\u001b[0m \u001b[1;33m{\u001b[0m\u001b[0mw\u001b[0m\u001b[1;33m:\u001b[0m\u001b[1;33m[\u001b[0m\u001b[1;33m]\u001b[0m \u001b[1;32mfor\u001b[0m \u001b[0mw\u001b[0m \u001b[1;32min\u001b[0m \u001b[0mlist\u001b[0m\u001b[1;33m(\u001b[0m\u001b[0mstock_wells\u001b[0m\u001b[1;33m.\u001b[0m\u001b[0mkeys\u001b[0m\u001b[1;33m(\u001b[0m\u001b[1;33m)\u001b[0m\u001b[1;33m)\u001b[0m \u001b[1;33m+\u001b[0m \u001b[1;33m[\u001b[0m\u001b[1;34m'well'\u001b[0m\u001b[1;33m]\u001b[0m\u001b[1;33m}\u001b[0m\u001b[1;33m\u001b[0m\u001b[1;33m\u001b[0m\u001b[0m\n\u001b[0;32m      3\u001b[0m \u001b[1;33m\u001b[0m\u001b[0m\n\u001b[1;32m----> 4\u001b[1;33m \u001b[1;32mfor\u001b[0m \u001b[0mi\u001b[0m\u001b[1;33m,\u001b[0m \u001b[0ms\u001b[0m \u001b[1;32min\u001b[0m \u001b[0menumerate\u001b[0m\u001b[1;33m(\u001b[0m\u001b[0msamples\u001b[0m\u001b[1;33m)\u001b[0m\u001b[1;33m:\u001b[0m\u001b[1;33m\u001b[0m\u001b[1;33m\u001b[0m\u001b[0m\n\u001b[0m\u001b[0;32m      5\u001b[0m     \u001b[0mthis_mix\u001b[0m \u001b[1;33m=\u001b[0m \u001b[0mcalculate_mix\u001b[0m\u001b[1;33m(\u001b[0m\u001b[0ms\u001b[0m\u001b[1;33m[\u001b[0m\u001b[1;34m'composition'\u001b[0m\u001b[1;33m]\u001b[0m\u001b[1;33m,\u001b[0m \u001b[0ms\u001b[0m\u001b[1;33m[\u001b[0m\u001b[1;34m'solvent'\u001b[0m\u001b[1;33m]\u001b[0m\u001b[1;33m,\u001b[0m \u001b[0ms\u001b[0m\u001b[1;33m[\u001b[0m\u001b[1;34m'volume'\u001b[0m\u001b[1;33m]\u001b[0m\u001b[1;33m,\u001b[0m \u001b[0ms\u001b[0m\u001b[1;33m[\u001b[0m\u001b[1;34m'molarity'\u001b[0m\u001b[1;33m]\u001b[0m\u001b[1;33m,\u001b[0m \u001b[0mstock_solutions\u001b[0m\u001b[1;33m)\u001b[0m\u001b[1;33m\u001b[0m\u001b[1;33m\u001b[0m\u001b[0m\n\u001b[0;32m      6\u001b[0m     \u001b[1;32mfor\u001b[0m \u001b[0mwell\u001b[0m\u001b[1;33m,\u001b[0m \u001b[0mamount\u001b[0m \u001b[1;32min\u001b[0m \u001b[0mthis_mix\u001b[0m\u001b[1;33m.\u001b[0m\u001b[0mitems\u001b[0m\u001b[1;33m(\u001b[0m\u001b[1;33m)\u001b[0m\u001b[1;33m:\u001b[0m\u001b[1;33m\u001b[0m\u001b[1;33m\u001b[0m\u001b[0m\n",
      "\u001b[1;31mNameError\u001b[0m: name 'samples' is not defined"
     ]
    }
   ],
   "source": [
    "necessary_stock = {v['well']:0 for v in stock_solutions.values()}\n",
    "stockdfData = {w:[] for w in list(stock_wells.keys()) + ['well']}\n",
    "\n",
    "for i, s in enumerate(samples):\n",
    "    this_mix = calculate_mix(s['composition'], s['solvent'], s['volume'], s['molarity'], stock_solutions) \n",
    "    for well, amount in this_mix.items():\n",
    "        necessary_stock[well] += amount\n",
    "    for well in stock_wells:\n",
    "        stockdfData[well].append(this_mix.get(well, 0))\n",
    "    stockdfData['well'].append(s['well'])\n",
    "    samples[i]['stock_mixture'] = this_mix\n",
    "\n",
    "\n",
    "for stock, amt in necessary_stock.items():\n",
    "    if amt > 0:\n",
    "        necessary_stock[stock] = amt*(1+overhead) + min_volume_to_aspirate\n",
    "# necessary_stock = {w:amt*(1+overhead) + min_volume_to_aspirate for w, amt in necessary_stock.items() if amt > 0}\n",
    "print('=== Stock Solution Volumes Necessary === ')\n",
    "for well, amt_needed in necessary_stock.items():\n",
    "    print(f'{well} ({stock_wells[well]})\\t{amt_needed*1000:.2f} mL')"
   ]
  },
  {
   "cell_type": "code",
   "execution_count": 38,
   "metadata": {},
   "outputs": [
    {
     "data": {
      "text/html": [
       "<div>\n",
       "<style scoped>\n",
       "    .dataframe tbody tr th:only-of-type {\n",
       "        vertical-align: middle;\n",
       "    }\n",
       "\n",
       "    .dataframe tbody tr th {\n",
       "        vertical-align: top;\n",
       "    }\n",
       "\n",
       "    .dataframe thead th {\n",
       "        text-align: right;\n",
       "    }\n",
       "</style>\n",
       "<table border=\"1\" class=\"dataframe\">\n",
       "  <thead>\n",
       "    <tr style=\"text-align: right;\">\n",
       "      <th></th>\n",
       "      <th>well</th>\n",
       "      <th>molarity</th>\n",
       "      <th>solvent</th>\n",
       "      <th>volume (mL)</th>\n",
       "    </tr>\n",
       "  </thead>\n",
       "  <tbody>\n",
       "    <tr>\n",
       "      <th>MA_Sn_I3</th>\n",
       "      <td>A7</td>\n",
       "      <td>0.5</td>\n",
       "      <td>DMF4_DMSO1</td>\n",
       "      <td>2.8583</td>\n",
       "    </tr>\n",
       "    <tr>\n",
       "      <th>MA_Pb_I3</th>\n",
       "      <td>B7</td>\n",
       "      <td>0.5</td>\n",
       "      <td>DMF4_DMSO1</td>\n",
       "      <td>1.6025</td>\n",
       "    </tr>\n",
       "    <tr>\n",
       "      <th>MA_Sn0.8_Bi0.2_I3</th>\n",
       "      <td>C7</td>\n",
       "      <td>0.5</td>\n",
       "      <td>DMF4_DMSO1</td>\n",
       "      <td>2.0309</td>\n",
       "    </tr>\n",
       "    <tr>\n",
       "      <th>MA_Pb0.8_Bi0.2_I3</th>\n",
       "      <td>D7</td>\n",
       "      <td>0.5</td>\n",
       "      <td>DMF4_DMSO1</td>\n",
       "      <td>1.0418</td>\n",
       "    </tr>\n",
       "  </tbody>\n",
       "</table>\n",
       "</div>"
      ],
      "text/plain": [
       "                  well molarity     solvent  volume (mL)\n",
       "MA_Sn_I3            A7      0.5  DMF4_DMSO1       2.8583\n",
       "MA_Pb_I3            B7      0.5  DMF4_DMSO1       1.6025\n",
       "MA_Sn0.8_Bi0.2_I3   C7      0.5  DMF4_DMSO1       2.0309\n",
       "MA_Pb0.8_Bi0.2_I3   D7      0.5  DMF4_DMSO1       1.0418"
      ]
     },
     "metadata": {},
     "output_type": "display_data"
    }
   ],
   "source": [
    "def volume_necessary(well):\n",
    "    return necessary_stock[well]*1e3\n",
    "\n",
    "stockdf = pd.DataFrame(stock_solutions).T\n",
    "stockdf.sort_values(\n",
    "    by=\"well\",\n",
    "    key=lambda x: np.argsort(index_natsorted(x)),\n",
    "    inplace=True\n",
    ")\n",
    "stockdf['volume (mL)'] = stockdf['well'].apply(volume_necessary)\n",
    "display(stockdf)"
   ]
  },
  {
   "cell_type": "markdown",
   "metadata": {},
   "source": [
    "## Visualize Well Plate"
   ]
  },
  {
   "cell_type": "markdown",
   "metadata": {},
   "source": [
    "Can copy the following cell and change the \"column\" value to any columns present in the sampledf dataframe displayed above ^^\n",
    "\n",
    "colormaps can be changed using `palette` argument. possible values in these references\n",
    "- https://seaborn.pydata.org/tutorial/color_palettes.html\n",
    "- https://matplotlib.org/3.1.1/gallery/color/colormap_reference.html"
   ]
  },
  {
   "cell_type": "code",
   "execution_count": 15,
   "metadata": {},
   "outputs": [
    {
     "data": {
      "image/png": "[encoded data removed]",
      "text/plain": [
       "<Figure size 360x288 with 1 Axes>"
      ]
     },
     "metadata": {},
     "output_type": "display_data"
    }
   ],
   "source": [
    "ternary_composition(['Pb', 'Bi', 'Sn'])\n",
    "plt.savefig('SnPbBi_tern', dpi=300, bbox_inches='tight')"
   ]
  },
  {
   "cell_type": "code",
   "execution_count": 40,
   "metadata": {},
   "outputs": [
    {
     "data": {
      "image/png": "[encoded data removed]",
      "text/plain": [
       "<Figure size 432x288 with 1 Axes>"
      ]
     },
     "metadata": {
      "needs_background": "light"
     },
     "output_type": "display_data"
    }
   ],
   "source": [
    "column = 'molarity'\n",
    "\n",
    "sns.scatterplot(\n",
    "    data = sampledf,\n",
    "    x = 'col',\n",
    "    y = 'row',\n",
    "    hue = column,\n",
    "    s = 300\n",
    ")\n",
    "plt.xticks(np.arange(1,13))\n",
    "plt.legend(bbox_to_anchor=(1.05, 1), loc=2, borderaxespad=0., title = column)\n",
    "plt.savefig('Molarity', bbox_inches = 'tight')\n",
    "plt.show()"
   ]
  },
  {
   "cell_type": "code",
   "execution_count": 41,
   "metadata": {},
   "outputs": [
    {
     "data": {
      "image/png": "[encoded data removed]",
      "text/plain": [
       "<Figure size 432x288 with 1 Axes>"
      ]
     },
     "metadata": {
      "needs_background": "light"
     },
     "output_type": "display_data"
    }
   ],
   "source": [
    "sns.scatterplot(\n",
    "    data = sampledf,\n",
    "    x = 'col',\n",
    "    y = 'row',\n",
    "    hue = sampledf['Pb']/sampledf['Sn'],\n",
    "    palette = 'crest_r', \n",
    "    s = 300\n",
    ")\n",
    "plt.xticks(np.arange(1,13))\n",
    "plt.legend(bbox_to_anchor=(1.05, 1), loc=2, borderaxespad=0., title = 'Pb:Sn Ratio')\n",
    "plt.savefig('Pb-Sn Ratio', bbox_inches = 'tight')\n",
    "plt.show()"
   ]
  },
  {
   "cell_type": "code",
   "execution_count": 42,
   "metadata": {},
   "outputs": [
    {
     "data": {
      "image/png": "[encoded data removed]",
      "text/plain": [
       "<Figure size 432x288 with 1 Axes>"
      ]
     },
     "metadata": {
      "needs_background": "light"
     },
     "output_type": "display_data"
    }
   ],
   "source": [
    "column = 'Bi'\n",
    "\n",
    "sns.scatterplot(\n",
    "    data = sampledf,\n",
    "    x = 'col',\n",
    "    y = 'row',\n",
    "    hue = column,\n",
    "    palette = 'Oranges', \n",
    "    s = 300\n",
    ")\n",
    "plt.xticks(np.arange(1,13))\n",
    "plt.legend(bbox_to_anchor=(1.05, 1), loc=2, borderaxespad=0., title = column)\n",
    "plt.savefig('Bi Loading', bbox_inches = 'tight')\n",
    "plt.show()"
   ]
  },
  {
   "cell_type": "markdown",
   "metadata": {},
   "source": [
    "# Export Files"
   ]
  },
  {
   "cell_type": "code",
   "execution_count": 2,
   "metadata": {},
   "outputs": [],
   "source": [
    "sampledf = pd.read_csv('samples.csv')"
   ]
  },
  {
   "cell_type": "markdown",
   "metadata": {},
   "source": [
    "#### Sample Table"
   ]
  },
  {
   "cell_type": "code",
   "execution_count": 43,
   "metadata": {},
   "outputs": [],
   "source": [
    "def add_stock_volume_columns(sampledf):\n",
    "    stockcols = [c for c in sampledf.columns if 'stock volume' not in c]\n",
    "    sampledf = sampledf[stockcols]\n",
    "    df = pd.DataFrame(stockdfData)\n",
    "    df.set_index('well', inplace = True)\n",
    "    df = df.rename(columns = {c:f'{c} stock volume' for c in df.columns})\n",
    "    sampledf = sampledf.join(df)\n",
    "    return sampledf\n",
    "\n",
    "sampledf = add_stock_volume_columns(sampledf)"
   ]
  },
  {
   "cell_type": "code",
   "execution_count": 45,
   "metadata": {},
   "outputs": [
    {
     "data": {
      "text/html": [
       "<div>\n",
       "<style scoped>\n",
       "    .dataframe tbody tr th:only-of-type {\n",
       "        vertical-align: middle;\n",
       "    }\n",
       "\n",
       "    .dataframe tbody tr th {\n",
       "        vertical-align: top;\n",
       "    }\n",
       "\n",
       "    .dataframe thead th {\n",
       "        text-align: right;\n",
       "    }\n",
       "</style>\n",
       "<table border=\"1\" class=\"dataframe\">\n",
       "  <thead>\n",
       "    <tr style=\"text-align: right;\">\n",
       "      <th></th>\n",
       "      <th>composition</th>\n",
       "      <th>solvent</th>\n",
       "      <th>molarity</th>\n",
       "      <th>volume</th>\n",
       "      <th>Sn</th>\n",
       "      <th>I</th>\n",
       "      <th>Bi</th>\n",
       "      <th>Pb</th>\n",
       "      <th>MA</th>\n",
       "      <th>row</th>\n",
       "      <th>col</th>\n",
       "      <th>A7 stock volume</th>\n",
       "      <th>B7 stock volume</th>\n",
       "      <th>C7 stock volume</th>\n",
       "      <th>D7 stock volume</th>\n",
       "    </tr>\n",
       "    <tr>\n",
       "      <th>well</th>\n",
       "      <th></th>\n",
       "      <th></th>\n",
       "      <th></th>\n",
       "      <th></th>\n",
       "      <th></th>\n",
       "      <th></th>\n",
       "      <th></th>\n",
       "      <th></th>\n",
       "      <th></th>\n",
       "      <th></th>\n",
       "      <th></th>\n",
       "      <th></th>\n",
       "      <th></th>\n",
       "      <th></th>\n",
       "      <th></th>\n",
       "    </tr>\n",
       "  </thead>\n",
       "  <tbody>\n",
       "    <tr>\n",
       "      <th>A1</th>\n",
       "      <td>MA_Sn0.960_Pb0.000_Bi0.040_I3</td>\n",
       "      <td>DMF4_DMSO1</td>\n",
       "      <td>0.5</td>\n",
       "      <td>0.00006</td>\n",
       "      <td>0.960</td>\n",
       "      <td>3.0</td>\n",
       "      <td>0.040</td>\n",
       "      <td>0.000</td>\n",
       "      <td>1.0</td>\n",
       "      <td>A</td>\n",
       "      <td>1</td>\n",
       "      <td>0.000048</td>\n",
       "      <td>0.000000</td>\n",
       "      <td>0.000012</td>\n",
       "      <td>0.000000</td>\n",
       "    </tr>\n",
       "    <tr>\n",
       "      <th>A2</th>\n",
       "      <td>MA_Sn0.950_Pb0.000_Bi0.050_I3</td>\n",
       "      <td>DMF4_DMSO1</td>\n",
       "      <td>0.5</td>\n",
       "      <td>0.00006</td>\n",
       "      <td>0.950</td>\n",
       "      <td>3.0</td>\n",
       "      <td>0.050</td>\n",
       "      <td>0.000</td>\n",
       "      <td>1.0</td>\n",
       "      <td>A</td>\n",
       "      <td>2</td>\n",
       "      <td>0.000045</td>\n",
       "      <td>0.000000</td>\n",
       "      <td>0.000015</td>\n",
       "      <td>0.000000</td>\n",
       "    </tr>\n",
       "    <tr>\n",
       "      <th>A3</th>\n",
       "      <td>MA_Sn0.380_Pb0.570_Bi0.050_I3</td>\n",
       "      <td>DMF4_DMSO1</td>\n",
       "      <td>0.5</td>\n",
       "      <td>0.00006</td>\n",
       "      <td>0.380</td>\n",
       "      <td>3.0</td>\n",
       "      <td>0.050</td>\n",
       "      <td>0.570</td>\n",
       "      <td>1.0</td>\n",
       "      <td>A</td>\n",
       "      <td>3</td>\n",
       "      <td>0.000023</td>\n",
       "      <td>0.000022</td>\n",
       "      <td>0.000000</td>\n",
       "      <td>0.000015</td>\n",
       "    </tr>\n",
       "    <tr>\n",
       "      <th>A4</th>\n",
       "      <td>MA_Sn0.667_Pb0.167_Bi0.166_I3</td>\n",
       "      <td>DMF4_DMSO1</td>\n",
       "      <td>0.5</td>\n",
       "      <td>0.00006</td>\n",
       "      <td>0.667</td>\n",
       "      <td>3.0</td>\n",
       "      <td>0.166</td>\n",
       "      <td>0.167</td>\n",
       "      <td>1.0</td>\n",
       "      <td>A</td>\n",
       "      <td>4</td>\n",
       "      <td>0.000000</td>\n",
       "      <td>0.000010</td>\n",
       "      <td>0.000050</td>\n",
       "      <td>0.000000</td>\n",
       "    </tr>\n",
       "    <tr>\n",
       "      <th>A5</th>\n",
       "      <td>MA_Sn0.900_Pb0.000_Bi0.100_I3</td>\n",
       "      <td>DMF4_DMSO1</td>\n",
       "      <td>0.5</td>\n",
       "      <td>0.00006</td>\n",
       "      <td>0.900</td>\n",
       "      <td>3.0</td>\n",
       "      <td>0.100</td>\n",
       "      <td>0.000</td>\n",
       "      <td>1.0</td>\n",
       "      <td>A</td>\n",
       "      <td>5</td>\n",
       "      <td>0.000030</td>\n",
       "      <td>0.000000</td>\n",
       "      <td>0.000030</td>\n",
       "      <td>0.000000</td>\n",
       "    </tr>\n",
       "  </tbody>\n",
       "</table>\n",
       "</div>"
      ],
      "text/plain": [
       "                        composition     solvent  molarity   volume     Sn  \\\n",
       "well                                                                        \n",
       "A1    MA_Sn0.960_Pb0.000_Bi0.040_I3  DMF4_DMSO1       0.5  0.00006  0.960   \n",
       "A2    MA_Sn0.950_Pb0.000_Bi0.050_I3  DMF4_DMSO1       0.5  0.00006  0.950   \n",
       "A3    MA_Sn0.380_Pb0.570_Bi0.050_I3  DMF4_DMSO1       0.5  0.00006  0.380   \n",
       "A4    MA_Sn0.667_Pb0.167_Bi0.166_I3  DMF4_DMSO1       0.5  0.00006  0.667   \n",
       "A5    MA_Sn0.900_Pb0.000_Bi0.100_I3  DMF4_DMSO1       0.5  0.00006  0.900   \n",
       "\n",
       "        I     Bi     Pb   MA row  col  A7 stock volume  B7 stock volume  \\\n",
       "well                                                                      \n",
       "A1    3.0  0.040  0.000  1.0   A    1         0.000048         0.000000   \n",
       "A2    3.0  0.050  0.000  1.0   A    2         0.000045         0.000000   \n",
       "A3    3.0  0.050  0.570  1.0   A    3         0.000023         0.000022   \n",
       "A4    3.0  0.166  0.167  1.0   A    4         0.000000         0.000010   \n",
       "A5    3.0  0.100  0.000  1.0   A    5         0.000030         0.000000   \n",
       "\n",
       "      C7 stock volume  D7 stock volume  \n",
       "well                                    \n",
       "A1           0.000012         0.000000  \n",
       "A2           0.000015         0.000000  \n",
       "A3           0.000000         0.000015  \n",
       "A4           0.000050         0.000000  \n",
       "A5           0.000030         0.000000  "
      ]
     },
     "execution_count": 45,
     "metadata": {},
     "output_type": "execute_result"
    }
   ],
   "source": [
    "sampledf.head()"
   ]
  },
  {
   "cell_type": "code",
   "execution_count": 46,
   "metadata": {},
   "outputs": [],
   "source": [
    "sampledf.to_csv('samples.csv')"
   ]
  },
  {
   "cell_type": "markdown",
   "metadata": {},
   "source": [
    "#### Stock Solution Table"
   ]
  },
  {
   "cell_type": "code",
   "execution_count": 47,
   "metadata": {},
   "outputs": [
    {
     "data": {
      "text/html": [
       "<div>\n",
       "<style scoped>\n",
       "    .dataframe tbody tr th:only-of-type {\n",
       "        vertical-align: middle;\n",
       "    }\n",
       "\n",
       "    .dataframe tbody tr th {\n",
       "        vertical-align: top;\n",
       "    }\n",
       "\n",
       "    .dataframe thead th {\n",
       "        text-align: right;\n",
       "    }\n",
       "</style>\n",
       "<table border=\"1\" class=\"dataframe\">\n",
       "  <thead>\n",
       "    <tr style=\"text-align: right;\">\n",
       "      <th></th>\n",
       "      <th>well</th>\n",
       "      <th>molarity</th>\n",
       "      <th>solvent</th>\n",
       "      <th>volume (mL)</th>\n",
       "    </tr>\n",
       "  </thead>\n",
       "  <tbody>\n",
       "    <tr>\n",
       "      <th>MA_Sn_I3</th>\n",
       "      <td>A7</td>\n",
       "      <td>0.5</td>\n",
       "      <td>DMF4_DMSO1</td>\n",
       "      <td>2.8583</td>\n",
       "    </tr>\n",
       "    <tr>\n",
       "      <th>MA_Pb_I3</th>\n",
       "      <td>B7</td>\n",
       "      <td>0.5</td>\n",
       "      <td>DMF4_DMSO1</td>\n",
       "      <td>1.6025</td>\n",
       "    </tr>\n",
       "    <tr>\n",
       "      <th>MA_Sn0.8_Bi0.2_I3</th>\n",
       "      <td>C7</td>\n",
       "      <td>0.5</td>\n",
       "      <td>DMF4_DMSO1</td>\n",
       "      <td>2.0309</td>\n",
       "    </tr>\n",
       "    <tr>\n",
       "      <th>MA_Pb0.8_Bi0.2_I3</th>\n",
       "      <td>D7</td>\n",
       "      <td>0.5</td>\n",
       "      <td>DMF4_DMSO1</td>\n",
       "      <td>1.0418</td>\n",
       "    </tr>\n",
       "  </tbody>\n",
       "</table>\n",
       "</div>"
      ],
      "text/plain": [
       "                  well molarity     solvent  volume (mL)\n",
       "MA_Sn_I3            A7      0.5  DMF4_DMSO1       2.8583\n",
       "MA_Pb_I3            B7      0.5  DMF4_DMSO1       1.6025\n",
       "MA_Sn0.8_Bi0.2_I3   C7      0.5  DMF4_DMSO1       2.0309\n",
       "MA_Pb0.8_Bi0.2_I3   D7      0.5  DMF4_DMSO1       1.0418"
      ]
     },
     "execution_count": 47,
     "metadata": {},
     "output_type": "execute_result"
    }
   ],
   "source": [
    "stockdf.head()"
   ]
  },
  {
   "cell_type": "code",
   "execution_count": 48,
   "metadata": {},
   "outputs": [],
   "source": [
    "stockdf.to_csv('stock_solutions.csv')"
   ]
  },
  {
   "cell_type": "markdown",
   "metadata": {},
   "source": [
    "#### Liquid Handler Instructions"
   ]
  },
  {
   "cell_type": "markdown",
   "metadata": {},
   "source": [
    "No need to change anything here - if you are happy with everything you set up above, this section creates a json string of volume transfers for the liquid handler. The output file `transfer_list.json` will be copy-pasted into the liquid handler protocol file."
   ]
  },
  {
   "cell_type": "code",
   "execution_count": 7,
   "metadata": {},
   "outputs": [
    {
     "ename": "NameError",
     "evalue": "name 'samples' is not defined",
     "output_type": "error",
     "traceback": [
      "\u001b[1;31m---------------------------------------------------------------------------\u001b[0m",
      "\u001b[1;31mNameError\u001b[0m                                 Traceback (most recent call last)",
      "\u001b[1;32m<ipython-input-7-b939c8af8129>\u001b[0m in \u001b[0;36m<module>\u001b[1;34m\u001b[0m\n\u001b[0;32m      1\u001b[0m \u001b[0mtransfers\u001b[0m \u001b[1;33m=\u001b[0m \u001b[1;33m{\u001b[0m\u001b[0mwell\u001b[0m\u001b[1;33m:\u001b[0m\u001b[0mdict\u001b[0m\u001b[1;33m(\u001b[0m\u001b[0mdestination_wells\u001b[0m \u001b[1;33m=\u001b[0m \u001b[1;33m[\u001b[0m\u001b[1;33m]\u001b[0m\u001b[1;33m,\u001b[0m \u001b[0mtransfer_volumes\u001b[0m \u001b[1;33m=\u001b[0m \u001b[1;33m[\u001b[0m\u001b[1;33m]\u001b[0m\u001b[1;33m)\u001b[0m  \u001b[1;32mfor\u001b[0m \u001b[0mwell\u001b[0m \u001b[1;32min\u001b[0m \u001b[0mstock_wells\u001b[0m\u001b[1;33m}\u001b[0m\u001b[1;33m\u001b[0m\u001b[1;33m\u001b[0m\u001b[0m\n\u001b[0;32m      2\u001b[0m \u001b[1;33m\u001b[0m\u001b[0m\n\u001b[1;32m----> 3\u001b[1;33m \u001b[0msample_by_well\u001b[0m \u001b[1;33m=\u001b[0m \u001b[1;33m{\u001b[0m\u001b[0ms\u001b[0m\u001b[1;33m[\u001b[0m\u001b[1;34m'well'\u001b[0m\u001b[1;33m]\u001b[0m\u001b[1;33m:\u001b[0m\u001b[0ms\u001b[0m \u001b[1;32mfor\u001b[0m \u001b[0ms\u001b[0m \u001b[1;32min\u001b[0m \u001b[0msamples\u001b[0m\u001b[1;33m}\u001b[0m\u001b[1;33m\u001b[0m\u001b[1;33m\u001b[0m\u001b[0m\n\u001b[0m\u001b[0;32m      4\u001b[0m \u001b[0mempty\u001b[0m \u001b[1;33m=\u001b[0m \u001b[0mdict\u001b[0m\u001b[1;33m(\u001b[0m\u001b[0mstock_mixture\u001b[0m \u001b[1;33m=\u001b[0m \u001b[1;33m{\u001b[0m\u001b[0mwell\u001b[0m\u001b[1;33m:\u001b[0m\u001b[1;36m0\u001b[0m \u001b[1;32mfor\u001b[0m \u001b[0mwell\u001b[0m \u001b[1;32min\u001b[0m \u001b[0mstock_wells\u001b[0m\u001b[1;33m}\u001b[0m\u001b[1;33m)\u001b[0m\u001b[1;33m\u001b[0m\u001b[1;33m\u001b[0m\u001b[0m\n\u001b[0;32m      5\u001b[0m \u001b[1;33m\u001b[0m\u001b[0m\n",
      "\u001b[1;31mNameError\u001b[0m: name 'samples' is not defined"
     ]
    }
   ],
   "source": [
    "transfers = {well:dict(destination_wells = [], transfer_volumes = [])  for well in stock_wells}\n",
    "\n",
    "sample_by_well = {s['well']:s for s in samples}\n",
    "empty = dict(stock_mixture = {well:0 for well in stock_wells})\n",
    "\n",
    "for well in well_list_generator(random = False):\n",
    "    amts = sample_by_well.get(well, empty)['stock_mixture']\n",
    "    for stock_well, stock_volume in amts.items():\n",
    "        transfers[stock_well]['destination_wells'].append(well)\n",
    "        transfers[stock_well]['transfer_volumes'].append(stock_volume*1e6) #robot takes inputs in uL"
   ]
  },
  {
   "cell_type": "code",
   "execution_count": 50,
   "metadata": {},
   "outputs": [],
   "source": [
    "with open('transfer_list.json', 'w') as f:\n",
    "    json.dump(transfers, f)"
   ]
  }
 ],
 "metadata": {
  "kernelspec": {
   "display_name": "Python 3",
   "language": "python",
   "name": "python3"
  },
  "language_info": {
   "codemirror_mode": {
    "name": "ipython",
    "version": 3
   },
   "file_extension": ".py",
   "mimetype": "text/x-python",
   "name": "python",
   "nbconvert_exporter": "python",
   "pygments_lexer": "ipython3",
   "version": "3.8.5"
  }
 },
 "nbformat": 4,
 "nbformat_minor": 4
}
