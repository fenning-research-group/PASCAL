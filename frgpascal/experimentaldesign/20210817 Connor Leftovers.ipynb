{
 "cells": [
  {
   "cell_type": "code",
   "execution_count": 1,
   "source": [
    "import numpy as np\r\n",
    "import matplotlib.pyplot as plt\r\n",
    "%matplotlib inline\r\n",
    "import pandas as pd\r\n",
    "import collections\r\n",
    "import uuid\r\n",
    "import itertools\r\n",
    "import json\r\n",
    "import csv\r\n",
    "from frgpascal.hardware.sampletray import SampleTray, AVAILABLE_VERSIONS as sampletray_versions\r\n",
    "from frgpascal.hardware.liquidlabware import LiquidLabware, AVAILABLE_VERSIONS as liquid_labware_versions\r\n",
    "from frgpascal.hardware.hotplate import AVAILABLE_VERSIONS as hotplate_versions\r\n",
    "from frgpascal.experimentaldesign.helpers import where_to_store, calculate_mix, build_sample_list, generate_unique_id\r\n",
    "from frgpascal.experimentaldesign.recipes import SolutionRecipe, SpincoatRecipe, AnnealRecipe, Sample\r\n",
    "from frgpascal.experimentaldesign.tasks import *"
   ],
   "outputs": [
    {
     "output_type": "error",
     "ename": "ModuleNotFoundError",
     "evalue": "No module named 'ortools'",
     "traceback": [
      "\u001b[1;31m---------------------------------------------------------------------------\u001b[0m",
      "\u001b[1;31mModuleNotFoundError\u001b[0m                       Traceback (most recent call last)",
      "\u001b[1;32m<ipython-input-1-c16042ab5771>\u001b[0m in \u001b[0;36m<module>\u001b[1;34m\u001b[0m\n\u001b[0;32m     13\u001b[0m \u001b[1;32mfrom\u001b[0m \u001b[0mfrgpascal\u001b[0m\u001b[1;33m.\u001b[0m\u001b[0mexperimentaldesign\u001b[0m\u001b[1;33m.\u001b[0m\u001b[0mhelpers\u001b[0m \u001b[1;32mimport\u001b[0m \u001b[0mwhere_to_store\u001b[0m\u001b[1;33m,\u001b[0m \u001b[0mcalculate_mix\u001b[0m\u001b[1;33m,\u001b[0m \u001b[0mbuild_sample_list\u001b[0m\u001b[1;33m,\u001b[0m \u001b[0mgenerate_unique_id\u001b[0m\u001b[1;33m\u001b[0m\u001b[1;33m\u001b[0m\u001b[0m\n\u001b[0;32m     14\u001b[0m \u001b[1;32mfrom\u001b[0m \u001b[0mfrgpascal\u001b[0m\u001b[1;33m.\u001b[0m\u001b[0mexperimentaldesign\u001b[0m\u001b[1;33m.\u001b[0m\u001b[0mrecipes\u001b[0m \u001b[1;32mimport\u001b[0m \u001b[0mSolutionRecipe\u001b[0m\u001b[1;33m,\u001b[0m \u001b[0mSpincoatRecipe\u001b[0m\u001b[1;33m,\u001b[0m \u001b[0mAnnealRecipe\u001b[0m\u001b[1;33m,\u001b[0m \u001b[0mSample\u001b[0m\u001b[1;33m\u001b[0m\u001b[1;33m\u001b[0m\u001b[0m\n\u001b[1;32m---> 15\u001b[1;33m \u001b[1;32mfrom\u001b[0m \u001b[0mfrgpascal\u001b[0m\u001b[1;33m.\u001b[0m\u001b[0mexperimentaldesign\u001b[0m\u001b[1;33m.\u001b[0m\u001b[0mtasks\u001b[0m \u001b[1;32mimport\u001b[0m \u001b[1;33m*\u001b[0m\u001b[1;33m\u001b[0m\u001b[1;33m\u001b[0m\u001b[0m\n\u001b[0m",
      "\u001b[1;32mc:\\users\\admin\\documents\\github\\pascal\\frgpascal\\experimentaldesign\\tasks.py\u001b[0m in \u001b[0;36m<module>\u001b[1;34m\u001b[0m\n\u001b[1;32m----> 1\u001b[1;33m \u001b[1;32mfrom\u001b[0m \u001b[0mortools\u001b[0m\u001b[1;33m.\u001b[0m\u001b[0msat\u001b[0m\u001b[1;33m.\u001b[0m\u001b[0mpython\u001b[0m \u001b[1;32mimport\u001b[0m \u001b[0mcp_model\u001b[0m\u001b[1;33m\u001b[0m\u001b[1;33m\u001b[0m\u001b[0m\n\u001b[0m\u001b[0;32m      2\u001b[0m \u001b[1;32mimport\u001b[0m \u001b[0mmatplotlib\u001b[0m\u001b[1;33m.\u001b[0m\u001b[0mpyplot\u001b[0m \u001b[1;32mas\u001b[0m \u001b[0mplt\u001b[0m\u001b[1;33m\u001b[0m\u001b[1;33m\u001b[0m\u001b[0m\n\u001b[0;32m      3\u001b[0m \u001b[1;32mimport\u001b[0m \u001b[0mnumpy\u001b[0m \u001b[1;32mas\u001b[0m \u001b[0mnp\u001b[0m\u001b[1;33m\u001b[0m\u001b[1;33m\u001b[0m\u001b[0m\n\u001b[0;32m      4\u001b[0m \u001b[1;32mimport\u001b[0m \u001b[0muuid\u001b[0m\u001b[1;33m\u001b[0m\u001b[1;33m\u001b[0m\u001b[0m\n\u001b[0;32m      5\u001b[0m \u001b[1;33m\u001b[0m\u001b[0m\n",
      "\u001b[1;31mModuleNotFoundError\u001b[0m: No module named 'ortools'"
     ]
    }
   ],
   "metadata": {}
  },
  {
   "cell_type": "markdown",
   "source": [
    "# Placeholder Workflow"
   ],
   "metadata": {}
  },
  {
   "cell_type": "code",
   "execution_count": null,
   "source": [
    "def build_solution_library(sample_list, stock_solutions):\r\n",
    "    \"\"\"\r\n",
    "    finds volume required for each unique solution\r\n",
    "    assigns a (labware, well) per solution\r\n",
    "    generates a mixing netlist for liquid handler to convert stocks to mixed solutions\r\n",
    "    \"\"\"\r\n",
    "    return solution_map, lh_netlist"
   ],
   "outputs": [],
   "metadata": {}
  },
  {
   "cell_type": "code",
   "execution_count": null,
   "source": [
    "def finalize_sample_list(sample_list, solution_map):\r\n",
    "    \"\"\"\r\n",
    "    assigns the storage slots (tray, slot) and solution sources (labware, well)\r\n",
    "    to each sample.\r\n",
    "    \"\"\"\r\n",
    "    return final_sample_list, tray_list"
   ],
   "outputs": [],
   "metadata": {}
  },
  {
   "cell_type": "markdown",
   "source": [
    "# Define Labware"
   ],
   "metadata": {}
  },
  {
   "cell_type": "markdown",
   "source": [
    "## Storage Trays"
   ],
   "metadata": {}
  },
  {
   "cell_type": "code",
   "execution_count": null,
   "source": [
    "print('Available Versions:')\r\n",
    "for v in sampletray_versions:\r\n",
    "    print(f'\\t{v}')"
   ],
   "outputs": [
    {
     "output_type": "stream",
     "name": "stdout",
     "text": [
      "Available Versions:\n",
      "\tstorage_v1\n",
      "\tstorage_v2\n",
      "\tstorage_v3\n"
     ]
    }
   ],
   "metadata": {}
  },
  {
   "cell_type": "code",
   "execution_count": 2,
   "source": [
    "sample_trays = [\r\n",
    "    SampleTray(\r\n",
    "        name='Tray1',\r\n",
    "        version='storage_v1',\r\n",
    "        gantry=None,\r\n",
    "        gripper=None,\r\n",
    "        p0=[0,0,0]\r\n",
    "    ),\r\n",
    "    SampleTray(\r\n",
    "        name='Tray2',\r\n",
    "        version='storage_v1',\r\n",
    "        gantry=None,\r\n",
    "        gripper=None,\r\n",
    "        p0=[0,0,0]\r\n",
    "    )\r\n",
    "]"
   ],
   "outputs": [],
   "metadata": {}
  },
  {
   "cell_type": "markdown",
   "source": [
    "## Liquid Labware \n",
    "Versions are defined by the same json files used to define custom labware for the Opentrons2 liquid handler. \n",
    "\n",
    "New labware can be defined by following https://support.opentrons.com/en/articles/3136504-creating-custom-labware-definitions"
   ],
   "metadata": {}
  },
  {
   "cell_type": "code",
   "execution_count": 3,
   "source": [
    "print('Available Versions:')\r\n",
    "for v in liquid_labware_versions:\r\n",
    "    print(f'\\t{v}')"
   ],
   "outputs": [
    {
     "output_type": "stream",
     "name": "stdout",
     "text": [
      "Available Versions:\n",
      "\tfrg_12_wellplate_15000ul\n",
      "\tfrg_24_wellplate_4000ul\n",
      "\tfrg_spincoater_v1\n",
      "\tgreiner_96_wellplate_360ul\n",
      "\tsartorius_safetyspace_tiprack_200ul\n"
     ]
    }
   ],
   "metadata": {}
  },
  {
   "cell_type": "markdown",
   "source": [
    "Include _all possible_ liquid storage. Later on we will narrow this down to what is required once we know what solutions and volumes we need"
   ],
   "metadata": {}
  },
  {
   "cell_type": "code",
   "execution_count": 4,
   "source": [
    "solution_storage = [\r\n",
    "    # LiquidLabware(\r\n",
    "    #     name='96_Plate1',\r\n",
    "    #     version='greiner_96_wellplate_360ul'\r\n",
    "    # ),\r\n",
    "    # LiquidLabware(\r\n",
    "    #     name='96_Plate2',\r\n",
    "    #     version='greiner_96_wellplate_360ul'\r\n",
    "    # ),\r\n",
    "    LiquidLabware(\r\n",
    "        name='4mL_Tray1',\r\n",
    "        version='frg_24_wellplate_4000ul'\r\n",
    "    ),\r\n",
    "\r\n",
    "    LiquidLabware(\r\n",
    "        name='4mL_Tray2',\r\n",
    "        version='frg_24_wellplate_4000ul'\r\n",
    "    ),\r\n",
    "    LiquidLabware(\r\n",
    "        name='15mL_Tray1',\r\n",
    "        version='frg_12_wellplate_15000ul'   \r\n",
    "    ),\r\n",
    "    LiquidLabware(\r\n",
    "        name='15m_Tray2',\r\n",
    "        version='frg_12_wellplate_15000ul'\r\n",
    "    ),\r\n",
    "]\r\n",
    "\r\n",
    "#sort by volume,name\r\n",
    "solution_storage.sort(key=lambda labware: labware.name)\r\n",
    "solution_storage.sort(key=lambda labware: labware.volume)\r\n",
    "print('Priority Fill Order:')\r\n",
    "for ss in solution_storage: print(ss)"
   ],
   "outputs": [
    {
     "output_type": "stream",
     "name": "stdout",
     "text": [
      "Priority Fill Order:\n",
      "<LiquidLabware> 4mL_Tray1, 4.0 mL volume, 24 wells\n",
      "<LiquidLabware> 4mL_Tray2, 4.0 mL volume, 24 wells\n",
      "<LiquidLabware> 15mL_Tray1, 15.0 mL volume, 12 wells\n",
      "<LiquidLabware> 15m_Tray2, 15.0 mL volume, 12 wells\n"
     ]
    }
   ],
   "metadata": {}
  },
  {
   "cell_type": "markdown",
   "source": [
    "## Define Experimental Mesh\n",
    "\n",
    "Each of the following cells defines one dimension of the experiment. After defining the individual dimensions, a full sample list will be constructed using a user-selected Design of Expeiment (DOE)"
   ],
   "metadata": {}
  },
  {
   "cell_type": "markdown",
   "source": [
    "### List of unique substrates. \n",
    "Eventually these may link to specific sample id's, but for now just set the unique types of substrates used"
   ],
   "metadata": {}
  },
  {
   "cell_type": "code",
   "execution_count": 6,
   "source": [
    "input_substrates = [\r\n",
    "    '2mm_FTO'\r\n",
    "]"
   ],
   "outputs": [],
   "metadata": {}
  },
  {
   "cell_type": "markdown",
   "source": [
    "### List of target solutions to spin cast. \n",
    "\n",
    "Solutions are defined using `SolutionRecipe` class instances.\n",
    "\n",
    "Chemical formula is defined with underscores between each component. If no coefficient is provided, assumes =1. Example:\n",
    "\n",
    "``` \n",
    "SolutionRecipe(\n",
    "        solutes='MA_Pb_I3',\n",
    "        solvent='DMF9_DMSO1',\n",
    "        molarity=1\n",
    "    )\n",
    "```"
   ],
   "metadata": {}
  },
  {
   "cell_type": "code",
   "execution_count": 7,
   "source": [
    "target_solutions = [\r\n",
    "    SolutionRecipe(\r\n",
    "        solutes='MA_Bi0.5_Sn0.5_I3',\r\n",
    "        solvent='DMF4_DMSO1',\r\n",
    "        molarity=1.25\r\n",
    "    ),\r\n",
    "SolutionRecipe(\r\n",
    "        solutes='MA_Bi0.5_Sn0.5_I3',\r\n",
    "        solvent='GBL',\r\n",
    "        molarity=1.25\r\n",
    "    ),\r\n",
    "    # SolutionRecipe(\r\n",
    "    #     solutes='FA_Pb_I3',\r\n",
    "    #     solvent='DMF9_DMSO1',\r\n",
    "    #     molarity=1\r\n",
    "    # ),\r\n",
    "    # SolutionRecipe(\r\n",
    "    #     solutes='FA0.25_MA0.75_Pb_I3',\r\n",
    "    #     solvent='DMF9_DMSO1',\r\n",
    "    #     molarity=1\r\n",
    "    # ),\r\n",
    "    # SolutionRecipe(\r\n",
    "    #     solutes='FA0.75_MA0.25_Pb_I3',\r\n",
    "    #     solvent='DMF9_DMSO1',\r\n",
    "    #     molarity=1\r\n",
    "    # ),\r\n",
    "    # SolutionRecipe(\r\n",
    "    #     solutes='MA0.5_FA0.5_Pb_I3',\r\n",
    "    #     solvent='DMF9_DMSO1',\r\n",
    "    #     molarity=1\r\n",
    "    # ),\r\n",
    "]"
   ],
   "outputs": [],
   "metadata": {}
  },
  {
   "cell_type": "markdown",
   "source": [
    "### Spincoating Recipes\n"
   ],
   "metadata": {}
  },
  {
   "cell_type": "markdown",
   "source": [
    "#### Defining Antisolvents\n",
    "Antisolvents are also defined using `SolutionRecipe` class instances. Solutes are left empty, and molarity is unused so can be left as 1/whatever number you like.\n",
    "\n",
    "Example:\n",
    "``` \n",
    "SolutionRecipe(\n",
    "        solutes='',\n",
    "        solvent='Chlorobenzene',\n",
    "        molarity=1\n",
    "    )\n",
    "```\n",
    "\n",
    "Note that these do not have to be stored in a list, as antisolvents are not considered a standalone experimental dimension. We will include these as spincoating parameters, which along with spin speeds etc. form an experimental dimension that can be permuted/whatever"
   ],
   "metadata": {}
  },
  {
   "cell_type": "code",
   "execution_count": 9,
   "source": [
    "toluene_antisolvent = SolutionRecipe(\r\n",
    "            solutes='',\r\n",
    "            solvent='Toluene',\r\n",
    "            molarity=1\r\n",
    "        )\r\n",
    "# ma_antisolvent = SolutionRecipe(\r\n",
    "#             solutes='',\r\n",
    "#             solvent='MethylAcetate',\r\n",
    "#             molarity=1\r\n",
    "#         )"
   ],
   "outputs": [],
   "metadata": {}
  },
  {
   "cell_type": "markdown",
   "source": [
    "\n",
    "#### Defining spincoating parameters\n",
    "\n",
    "Spincoating recipes are defined using the `SpincoatRecipe` object. This consists of a nested list of [speed, acceleration, duration] spin steps. The `SolutionRecipe`, volume, and droptime of both the initial solution and optional antisolvent are also defined. Drop times are relative to t=0. Static spincoating (dispense before spin start) can be achieved by setting a negative number for drop time. Example:\n",
    "\n",
    "```\n",
    "SpincoatRecipe(\n",
    "        steps=[\n",
    "            [500,1000,20], #speed (rpm), acceleration (rpm/s), duration (s)\n",
    "            [4000,4000,30]\n",
    "        ],\n",
    "        solution=SolutionRecipe(...), #this would usually be defined earlier\n",
    "        solution_volume=100, #uL\n",
    "        solution_droptime=-5, #seconds relative to start time\n",
    "        antisolvent=SolutionRecipe(...), #also defined earlier\n",
    "        antisolvent_volume=50, #seconds relative to start time\n",
    "        antisolvent_droptime=40,\n",
    "    )\n",
    "```\n",
    "\n",
    "the initial solution is typically left out here, as it will be filled in with the `target_solutions` defined earlier when building the DOE. Example:\n",
    "\n",
    "```\n",
    "SpincoatRecipe(\n",
    "        steps=[\n",
    "            [500,1000,20], #speed (rpm), acceleration (rpm/s), duration (s)\n",
    "            [4000,4000,30]\n",
    "        ],\n",
    "        solution_volume=100, #uL\n",
    "        solution_droptime=-5, #seconds relative to start time\n",
    "        antisolvent=SolutionRecipe(...), #also defined earlier\n",
    "        antisolvent_volume=50, #seconds relative to start time\n",
    "        antisolvent_droptime=40,\n",
    "    )\n",
    "```\n",
    "\n",
    "In the case that no antisolvent is needed, the three antisolvent terms can be left out.\n",
    "\n",
    "```\n",
    "SpincoatRecipe(\n",
    "        steps=[\n",
    "            [500,1000,20], #speed (rpm), acceleration (rpm/s), duration (s)\n",
    "            [4000,4000,30]\n",
    "        ],\n",
    "        solution=SolutionRecipe(...), #this would usually be defined earlier\n",
    "        solution_volume=100, #uL\n",
    "        solution_droptime=-5, #seconds relative to start time\n",
    "    )\n",
    "```"
   ],
   "metadata": {}
  },
  {
   "cell_type": "code",
   "execution_count": 14,
   "source": [
    "spincoat_recipes = [\r\n",
    "    # SpincoatRecipe(\r\n",
    "    #     steps=[\r\n",
    "    #         [1000,500,10], #speed (rpm), acceleration (rpm/s), duration (s)\r\n",
    "    #         [3000,1000,30]\r\n",
    "    #     ],\r\n",
    "    #     solution_volume=20, #uL\r\n",
    "    #     solution_droptime=-5, #seconds relative to start time\r\n",
    "    #     antisolvent=None,\r\n",
    "    # ),\r\n",
    "    SpincoatRecipe(\r\n",
    "        steps=[\r\n",
    "            [1000,500,20],\r\n",
    "            [3000,1000,30]\r\n",
    "        ],\r\n",
    "        solution_volume=20, #uL\r\n",
    "        solution_droptime=-5,\r\n",
    "        antisolvent=toluene_antisolvent,\r\n",
    "        antisolvent_volume=30,\r\n",
    "        antisolvent_droptime=40,\r\n",
    "    ),\r\n",
    "    SpincoatRecipe(\r\n",
    "        steps=[\r\n",
    "            [1000,500,20],\r\n",
    "            [3000,1000,30]\r\n",
    "        ],\r\n",
    "        solution_volume=20, #uL\r\n",
    "        solution_droptime=-5,\r\n",
    "        antisolvent=toluene_antisolvent,\r\n",
    "        antisolvent_volume=30,\r\n",
    "        antisolvent_droptime=35,\r\n",
    "    ),\r\n",
    "    # SpincoatRecipe(\r\n",
    "    #     steps=[\r\n",
    "    #         [1000,500,10], #speed (rpm), acceleration (rpm/s), duration (s)\r\n",
    "    #         [3000,1000,30]\r\n",
    "    #     ],\r\n",
    "    #     solution_volume=20, #uL\r\n",
    "    #     solution_droptime=1, #seconds relative to start time\r\n",
    "    #     antisolvent=None,\r\n",
    "    # ),\r\n",
    "    SpincoatRecipe(\r\n",
    "        steps=[\r\n",
    "            [1000,500,20],\r\n",
    "            [3000,1000,30]\r\n",
    "        ],\r\n",
    "        solution_volume=20, #uL\r\n",
    "        solution_droptime=1,\r\n",
    "        antisolvent=toluene_antisolvent,\r\n",
    "        antisolvent_volume=30,\r\n",
    "        antisolvent_droptime=40,\r\n",
    "    ),\r\n",
    "]\r\n"
   ],
   "outputs": [],
   "metadata": {}
  },
  {
   "cell_type": "markdown",
   "source": [
    "#### Annealing Conditions\n",
    "Annealing conditions are defined as a list of `AnnealRecipe` class instances. Only two parameters - temperature (C) and duration (s)\n",
    "\n",
    "Example:\n",
    "``` \n",
    "    AnnealRecipe(\n",
    "        temperature=100, #degrees C\n",
    "        duration=60*60, #seconds\n",
    "    ),\n",
    "```"
   ],
   "metadata": {}
  },
  {
   "cell_type": "code",
   "execution_count": 15,
   "source": [
    "anneal_recipes = [\r\n",
    "    AnnealRecipe(\r\n",
    "        temperature=100, #degrees C\r\n",
    "        duration=30*60, #seconds\r\n",
    "    )\r\n",
    "]"
   ],
   "outputs": [],
   "metadata": {}
  },
  {
   "cell_type": "markdown",
   "source": [
    "## Design of Experiment\n",
    "\n",
    "currently only a full-factorial design is implemented. arguments are lists defined above, and n_repeats is the number of times to repeat each unique combination of conditions"
   ],
   "metadata": {}
  },
  {
   "cell_type": "code",
   "execution_count": 17,
   "source": [
    "samples = build_sample_list(\r\n",
    "    available_trays = sample_trays,\r\n",
    "    input_substrates = input_substrates,\r\n",
    "    target_solutions = target_solutions,\r\n",
    "    spincoat_recipes=spincoat_recipes,\r\n",
    "    anneal_recipes=anneal_recipes,\r\n",
    "    n_repeats=2\r\n",
    ")\r\n",
    "unique_solutions = list(set(\r\n",
    "    [s.spincoat_recipe.solution for s in samples]\r\n",
    "    + [s.spincoat_recipe.antisolvent for s in samples]))\r\n",
    "\r\n",
    "print(f'{len(unique_solutions)} unique solutions required across {len(samples)} planned samples')"
   ],
   "outputs": [
    {
     "output_type": "stream",
     "name": "stdout",
     "text": [
      "3 unique solutions required across 12 planned samples\n"
     ]
    }
   ],
   "metadata": {}
  },
  {
   "cell_type": "markdown",
   "source": [
    "# Preparing the Solutions"
   ],
   "metadata": {}
  },
  {
   "cell_type": "markdown",
   "source": [
    "## Define Stock Solutions\n",
    "\n",
    "These are the solutions that you will be mixing to (hopefully) cover your target solutions. If they don't work, the code will tell you, and you can come back to this point and try again."
   ],
   "metadata": {}
  },
  {
   "cell_type": "code",
   "execution_count": 18,
   "source": [
    "stock_solutions = [\r\n",
    "    SolutionRecipe(\r\n",
    "        solutes='MA_Bi0.5_Sn0.5_I3',\r\n",
    "        solvent='DMF4_DMSO1',\r\n",
    "        molarity=1.25\r\n",
    "    ),\r\n",
    "SolutionRecipe(\r\n",
    "        solutes='MA_Bi0.5_Sn0.5_I3',\r\n",
    "        solvent='GBL',\r\n",
    "        molarity=1.25\r\n",
    "    ),\r\n",
    "    SolutionRecipe(\r\n",
    "        solutes='',\r\n",
    "        solvent='Toluene',\r\n",
    "        molarity=1\r\n",
    "    ),\r\n",
    "]"
   ],
   "outputs": [],
   "metadata": {}
  },
  {
   "cell_type": "markdown",
   "source": [
    "Can we cover target solutions with these stocks? and if so, how much of each stock to mix for each target?"
   ],
   "metadata": {}
  },
  {
   "cell_type": "code",
   "execution_count": 19,
   "source": [
    "min_volume = 0\r\n",
    "solution_details = {s:dict(volume=min_volume, labware=None, slot=None) for s in unique_solutions}\r\n",
    "for s in samples:\r\n",
    "    for sol in [s.spincoat_recipe.solution, s.spincoat_recipe.antisolvent]:\r\n",
    "        if sol is not None:\r\n",
    "            solution_details[sol]['volume'] += s.spincoat_recipe.solution_volume\r\n",
    "    "
   ],
   "outputs": [],
   "metadata": {}
  },
  {
   "cell_type": "code",
   "execution_count": 20,
   "source": [
    "mixtures = np.array([\r\n",
    "    calculate_mix(\r\n",
    "        target=solution,\r\n",
    "        volume=v['volume'],\r\n",
    "        stock_solutions = stock_solutions\r\n",
    "    ) for solution, v in solution_details.items()])"
   ],
   "outputs": [],
   "metadata": {}
  },
  {
   "cell_type": "code",
   "execution_count": 21,
   "source": [
    "volumes_needed_per_stock = {\r\n",
    "    soln: vol for soln,vol in zip(stock_solutions,mixtures.sum(axis=0))}\r\n",
    "for s, v in volumes_needed_per_stock.items():\r\n",
    "    if v > 0:\r\n",
    "        print(f'{v/1e3} mL of {s}')"
   ],
   "outputs": [
    {
     "output_type": "stream",
     "name": "stdout",
     "text": [
      "0.12 mL of <SolutionRecipe> 1.25M MA_Bi0.5_Sn0.5_I3 in DMF4_DMSO1\n",
      "0.12 mL of <SolutionRecipe> 1.25M MA_Bi0.5_Sn0.5_I3 in GBL\n",
      "0.24 mL of <SolutionRecipe> Toluene\n"
     ]
    }
   ],
   "metadata": {}
  },
  {
   "cell_type": "markdown",
   "source": [
    "Which solutions need to be made from stocks?"
   ],
   "metadata": {}
  },
  {
   "cell_type": "code",
   "execution_count": 22,
   "source": [
    "to_be_mixed = {s:v for s,v in solution_details.items() if s not in stock_solutions}"
   ],
   "outputs": [],
   "metadata": {}
  },
  {
   "cell_type": "code",
   "execution_count": 23,
   "source": [
    "for solution, v in solution_details.items():\r\n",
    "    ll = where_to_store(v['volume'], solution_storage) #which liquid labware\r\n",
    "    slot = ll.load(solution)\r\n",
    "    solution_details[solution]['labware'] = ll.name\r\n",
    "    solution_details[solution]['slot'] = slot"
   ],
   "outputs": [],
   "metadata": {}
  },
  {
   "cell_type": "code",
   "execution_count": 24,
   "source": [
    "for s in samples:\r\n",
    "    solution = s.spincoat_recipe.solution\r\n",
    "    d = solution_details[solution]\r\n",
    "    solution.well = {\r\n",
    "        'tray': d['labware'],\r\n",
    "        'slot': d['slot'],\r\n",
    "    }\r\n",
    "\r\n",
    "    antisolvent = s.spincoat_recipe.antisolvent\r\n",
    "    if antisolvent is not None:\r\n",
    "        d = solution_details[antisolvent]\r\n",
    "        antisolvent.well = {\r\n",
    "            'tray': d['labware'],\r\n",
    "            'slot': d['slot'],\r\n",
    "        }"
   ],
   "outputs": [],
   "metadata": {}
  },
  {
   "cell_type": "markdown",
   "source": [
    "Set up the mixing netlist for liquid handler"
   ],
   "metadata": {}
  },
  {
   "cell_type": "code",
   "execution_count": 25,
   "source": [
    "mixing_netlist = {} #destination: {source, volume}\r\n",
    "\r\n",
    "for target, target_v in solution_details.items():\r\n",
    "    if target in stock_solutions:\r\n",
    "        continue #stock solution is already made\r\n",
    "    destination = f\"{target_v['labware']}-{target_v['slot']}\"\r\n",
    "    mixing_netlist[destination] = {}\r\n",
    "    required_volumes = calculate_mix(\r\n",
    "        target=target,\r\n",
    "        volume=target_v['volume'],\r\n",
    "        stock_solutions = stock_solutions\r\n",
    "    )\r\n",
    "    for stock, vol in zip(stock_solutions, required_volumes):\r\n",
    "        if vol > 0:    \r\n",
    "            stock_v = solution_details[stock]\r\n",
    "            source = f\"{stock_v['labware']}-{stock_v['slot']}\"\r\n",
    "            mixing_netlist[destination][source]=vol\r\n",
    "            \r\n"
   ],
   "outputs": [],
   "metadata": {}
  },
  {
   "cell_type": "markdown",
   "source": [
    "## Build the Experiment Schedule"
   ],
   "metadata": {}
  },
  {
   "cell_type": "code",
   "execution_count": 26,
   "source": [
    "for s in samples:\r\n",
    "    s.tasks = generate_tasks_for_sample(s)"
   ],
   "outputs": [
    {
     "output_type": "error",
     "ename": "NameError",
     "evalue": "name 'generate_tasks_for_sample' is not defined",
     "traceback": [
      "\u001b[1;31m---------------------------------------------------------------------------\u001b[0m",
      "\u001b[1;31mNameError\u001b[0m                                 Traceback (most recent call last)",
      "\u001b[1;32m<ipython-input-26-380b05b58eb0>\u001b[0m in \u001b[0;36m<module>\u001b[1;34m\u001b[0m\n\u001b[0;32m      1\u001b[0m \u001b[1;32mfor\u001b[0m \u001b[0ms\u001b[0m \u001b[1;32min\u001b[0m \u001b[0msamples\u001b[0m\u001b[1;33m:\u001b[0m\u001b[1;33m\u001b[0m\u001b[1;33m\u001b[0m\u001b[0m\n\u001b[1;32m----> 2\u001b[1;33m     \u001b[0ms\u001b[0m\u001b[1;33m.\u001b[0m\u001b[0mtasks\u001b[0m \u001b[1;33m=\u001b[0m \u001b[0mgenerate_tasks_for_sample\u001b[0m\u001b[1;33m(\u001b[0m\u001b[0ms\u001b[0m\u001b[1;33m)\u001b[0m\u001b[1;33m\u001b[0m\u001b[1;33m\u001b[0m\u001b[0m\n\u001b[0m",
      "\u001b[1;31mNameError\u001b[0m: name 'generate_tasks_for_sample' is not defined"
     ]
    }
   ],
   "metadata": {}
  },
  {
   "cell_type": "code",
   "execution_count": 26,
   "source": [
    "scheduler = Scheduler(\r\n",
    "    samples=samples,\r\n",
    "    spanning_tasks = [\r\n",
    "        (StorageToSpincoater, SpincoaterToHotplate),\r\n",
    "        (StorageToCharacterization, CharacterizationToStorage),\r\n",
    "    ], #these tasks spanning each pair must be done in sequence per sample\r\n",
    "    enforce_sample_order=False\r\n",
    ")\r\n",
    "scheduler.solve(30) #argument defines how long (s) to work on finding a solution"
   ],
   "outputs": [
    {
     "output_type": "display_data",
     "data": {
      "text/plain": [
       "<Figure size 1008x360 with 1 Axes>"
      ],
      "image/svg+xml": "<?xml version=\"1.0\" encoding=\"utf-8\" standalone=\"no\"?>\r\n<!DOCTYPE svg PUBLIC \"-//W3C//DTD SVG 1.1//EN\"\r\n  \"http://www.w3.org/Graphics/SVG/1.1/DTD/svg11.dtd\">\r\n<!-- Created with matplotlib (https://matplotlib.org/) -->\r\n<svg height=\"316.55625pt\" version=\"1.1\" viewBox=\"0 0 926.506056 316.55625\" width=\"926.506056pt\" xmlns=\"http://www.w3.org/2000/svg\" xmlns:xlink=\"http://www.w3.org/1999/xlink\">\r\n <metadata>\r\n  <rdf:RDF xmlns:cc=\"http://creativecommons.org/ns#\" xmlns:dc=\"http://purl.org/dc/elements/1.1/\" xmlns:rdf=\"http://www.w3.org/1999/02/22-rdf-syntax-ns#\">\r\n   <cc:Work>\r\n    <dc:type rdf:resource=\"http://purl.org/dc/dcmitype/StillImage\"/>\r\n    <dc:date>2021-08-16T10:00:48.236119</dc:date>\r\n    <dc:format>image/svg+xml</dc:format>\r\n    <dc:creator>\r\n     <cc:Agent>\r\n      <dc:title>Matplotlib v3.3.4, https://matplotlib.org/</dc:title>\r\n     </cc:Agent>\r\n    </dc:creator>\r\n   </cc:Work>\r\n  </rdf:RDF>\r\n </metadata>\r\n <defs>\r\n  <style type=\"text/css\">*{stroke-linecap:butt;stroke-linejoin:round;}</style>\r\n </defs>\r\n <g id=\"figure_1\">\r\n  <g id=\"patch_1\">\r\n   <path d=\"M 0 316.55625 \r\nL 926.506056 316.55625 \r\nL 926.506056 0 \r\nL 0 0 \r\nz\r\n\" style=\"fill:none;\"/>\r\n  </g>\r\n  <g id=\"axes_1\">\r\n   <g id=\"patch_2\">\r\n    <path d=\"M 134.5875 279 \r\nL 915.7875 279 \r\nL 915.7875 7.2 \r\nL 134.5875 7.2 \r\nz\r\n\" style=\"fill:#ffffff;\"/>\r\n   </g>\r\n   <g id=\"matplotlib.axis_1\">\r\n    <g id=\"xtick_1\">\r\n     <g id=\"line2d_1\">\r\n      <defs>\r\n       <path d=\"M 0 0 \r\nL 0 3.5 \r\n\" id=\"m864eb335bd\" style=\"stroke:#000000;stroke-width:0.8;\"/>\r\n      </defs>\r\n      <g>\r\n       <use style=\"stroke:#000000;stroke-width:0.8;\" x=\"170.096591\" xlink:href=\"#m864eb335bd\" y=\"279\"/>\r\n      </g>\r\n     </g>\r\n     <g id=\"text_1\">\r\n      <!-- 0 -->\r\n      <g transform=\"translate(166.915341 293.598437)scale(0.1 -0.1)\">\r\n       <defs>\r\n        <path d=\"M 31.78125 66.40625 \r\nQ 24.171875 66.40625 20.328125 58.90625 \r\nQ 16.5 51.421875 16.5 36.375 \r\nQ 16.5 21.390625 20.328125 13.890625 \r\nQ 24.171875 6.390625 31.78125 6.390625 \r\nQ 39.453125 6.390625 43.28125 13.890625 \r\nQ 47.125 21.390625 47.125 36.375 \r\nQ 47.125 51.421875 43.28125 58.90625 \r\nQ 39.453125 66.40625 31.78125 66.40625 \r\nz\r\nM 31.78125 74.21875 \r\nQ 44.046875 74.21875 50.515625 64.515625 \r\nQ 56.984375 54.828125 56.984375 36.375 \r\nQ 56.984375 17.96875 50.515625 8.265625 \r\nQ 44.046875 -1.421875 31.78125 -1.421875 \r\nQ 19.53125 -1.421875 13.0625 8.265625 \r\nQ 6.59375 17.96875 6.59375 36.375 \r\nQ 6.59375 54.828125 13.0625 64.515625 \r\nQ 19.53125 74.21875 31.78125 74.21875 \r\nz\r\n\" id=\"DejaVuSans-48\"/>\r\n       </defs>\r\n       <use xlink:href=\"#DejaVuSans-48\"/>\r\n      </g>\r\n     </g>\r\n    </g>\r\n    <g id=\"xtick_2\">\r\n     <g id=\"line2d_2\">\r\n      <g>\r\n       <use style=\"stroke:#000000;stroke-width:0.8;\" x=\"293.37421\" xlink:href=\"#m864eb335bd\" y=\"279\"/>\r\n      </g>\r\n     </g>\r\n     <g id=\"text_2\">\r\n      <!-- 20 -->\r\n      <g transform=\"translate(287.01171 293.598437)scale(0.1 -0.1)\">\r\n       <defs>\r\n        <path d=\"M 19.1875 8.296875 \r\nL 53.609375 8.296875 \r\nL 53.609375 0 \r\nL 7.328125 0 \r\nL 7.328125 8.296875 \r\nQ 12.9375 14.109375 22.625 23.890625 \r\nQ 32.328125 33.6875 34.8125 36.53125 \r\nQ 39.546875 41.84375 41.421875 45.53125 \r\nQ 43.3125 49.21875 43.3125 52.78125 \r\nQ 43.3125 58.59375 39.234375 62.25 \r\nQ 35.15625 65.921875 28.609375 65.921875 \r\nQ 23.96875 65.921875 18.8125 64.3125 \r\nQ 13.671875 62.703125 7.8125 59.421875 \r\nL 7.8125 69.390625 \r\nQ 13.765625 71.78125 18.9375 73 \r\nQ 24.125 74.21875 28.421875 74.21875 \r\nQ 39.75 74.21875 46.484375 68.546875 \r\nQ 53.21875 62.890625 53.21875 53.421875 \r\nQ 53.21875 48.921875 51.53125 44.890625 \r\nQ 49.859375 40.875 45.40625 35.40625 \r\nQ 44.1875 33.984375 37.640625 27.21875 \r\nQ 31.109375 20.453125 19.1875 8.296875 \r\nz\r\n\" id=\"DejaVuSans-50\"/>\r\n       </defs>\r\n       <use xlink:href=\"#DejaVuSans-50\"/>\r\n       <use x=\"63.623047\" xlink:href=\"#DejaVuSans-48\"/>\r\n      </g>\r\n     </g>\r\n    </g>\r\n    <g id=\"xtick_3\">\r\n     <g id=\"line2d_3\">\r\n      <g>\r\n       <use style=\"stroke:#000000;stroke-width:0.8;\" x=\"416.651829\" xlink:href=\"#m864eb335bd\" y=\"279\"/>\r\n      </g>\r\n     </g>\r\n     <g id=\"text_3\">\r\n      <!-- 40 -->\r\n      <g transform=\"translate(410.289329 293.598437)scale(0.1 -0.1)\">\r\n       <defs>\r\n        <path d=\"M 37.796875 64.3125 \r\nL 12.890625 25.390625 \r\nL 37.796875 25.390625 \r\nz\r\nM 35.203125 72.90625 \r\nL 47.609375 72.90625 \r\nL 47.609375 25.390625 \r\nL 58.015625 25.390625 \r\nL 58.015625 17.1875 \r\nL 47.609375 17.1875 \r\nL 47.609375 0 \r\nL 37.796875 0 \r\nL 37.796875 17.1875 \r\nL 4.890625 17.1875 \r\nL 4.890625 26.703125 \r\nz\r\n\" id=\"DejaVuSans-52\"/>\r\n       </defs>\r\n       <use xlink:href=\"#DejaVuSans-52\"/>\r\n       <use x=\"63.623047\" xlink:href=\"#DejaVuSans-48\"/>\r\n      </g>\r\n     </g>\r\n    </g>\r\n    <g id=\"xtick_4\">\r\n     <g id=\"line2d_4\">\r\n      <g>\r\n       <use style=\"stroke:#000000;stroke-width:0.8;\" x=\"539.929449\" xlink:href=\"#m864eb335bd\" y=\"279\"/>\r\n      </g>\r\n     </g>\r\n     <g id=\"text_4\">\r\n      <!-- 60 -->\r\n      <g transform=\"translate(533.566949 293.598437)scale(0.1 -0.1)\">\r\n       <defs>\r\n        <path d=\"M 33.015625 40.375 \r\nQ 26.375 40.375 22.484375 35.828125 \r\nQ 18.609375 31.296875 18.609375 23.390625 \r\nQ 18.609375 15.53125 22.484375 10.953125 \r\nQ 26.375 6.390625 33.015625 6.390625 \r\nQ 39.65625 6.390625 43.53125 10.953125 \r\nQ 47.40625 15.53125 47.40625 23.390625 \r\nQ 47.40625 31.296875 43.53125 35.828125 \r\nQ 39.65625 40.375 33.015625 40.375 \r\nz\r\nM 52.59375 71.296875 \r\nL 52.59375 62.3125 \r\nQ 48.875 64.0625 45.09375 64.984375 \r\nQ 41.3125 65.921875 37.59375 65.921875 \r\nQ 27.828125 65.921875 22.671875 59.328125 \r\nQ 17.53125 52.734375 16.796875 39.40625 \r\nQ 19.671875 43.65625 24.015625 45.921875 \r\nQ 28.375 48.1875 33.59375 48.1875 \r\nQ 44.578125 48.1875 50.953125 41.515625 \r\nQ 57.328125 34.859375 57.328125 23.390625 \r\nQ 57.328125 12.15625 50.6875 5.359375 \r\nQ 44.046875 -1.421875 33.015625 -1.421875 \r\nQ 20.359375 -1.421875 13.671875 8.265625 \r\nQ 6.984375 17.96875 6.984375 36.375 \r\nQ 6.984375 53.65625 15.1875 63.9375 \r\nQ 23.390625 74.21875 37.203125 74.21875 \r\nQ 40.921875 74.21875 44.703125 73.484375 \r\nQ 48.484375 72.75 52.59375 71.296875 \r\nz\r\n\" id=\"DejaVuSans-54\"/>\r\n       </defs>\r\n       <use xlink:href=\"#DejaVuSans-54\"/>\r\n       <use x=\"63.623047\" xlink:href=\"#DejaVuSans-48\"/>\r\n      </g>\r\n     </g>\r\n    </g>\r\n    <g id=\"xtick_5\">\r\n     <g id=\"line2d_5\">\r\n      <g>\r\n       <use style=\"stroke:#000000;stroke-width:0.8;\" x=\"663.207068\" xlink:href=\"#m864eb335bd\" y=\"279\"/>\r\n      </g>\r\n     </g>\r\n     <g id=\"text_5\">\r\n      <!-- 80 -->\r\n      <g transform=\"translate(656.844568 293.598437)scale(0.1 -0.1)\">\r\n       <defs>\r\n        <path d=\"M 31.78125 34.625 \r\nQ 24.75 34.625 20.71875 30.859375 \r\nQ 16.703125 27.09375 16.703125 20.515625 \r\nQ 16.703125 13.921875 20.71875 10.15625 \r\nQ 24.75 6.390625 31.78125 6.390625 \r\nQ 38.8125 6.390625 42.859375 10.171875 \r\nQ 46.921875 13.96875 46.921875 20.515625 \r\nQ 46.921875 27.09375 42.890625 30.859375 \r\nQ 38.875 34.625 31.78125 34.625 \r\nz\r\nM 21.921875 38.8125 \r\nQ 15.578125 40.375 12.03125 44.71875 \r\nQ 8.5 49.078125 8.5 55.328125 \r\nQ 8.5 64.0625 14.71875 69.140625 \r\nQ 20.953125 74.21875 31.78125 74.21875 \r\nQ 42.671875 74.21875 48.875 69.140625 \r\nQ 55.078125 64.0625 55.078125 55.328125 \r\nQ 55.078125 49.078125 51.53125 44.71875 \r\nQ 48 40.375 41.703125 38.8125 \r\nQ 48.828125 37.15625 52.796875 32.3125 \r\nQ 56.78125 27.484375 56.78125 20.515625 \r\nQ 56.78125 9.90625 50.3125 4.234375 \r\nQ 43.84375 -1.421875 31.78125 -1.421875 \r\nQ 19.734375 -1.421875 13.25 4.234375 \r\nQ 6.78125 9.90625 6.78125 20.515625 \r\nQ 6.78125 27.484375 10.78125 32.3125 \r\nQ 14.796875 37.15625 21.921875 38.8125 \r\nz\r\nM 18.3125 54.390625 \r\nQ 18.3125 48.734375 21.84375 45.5625 \r\nQ 25.390625 42.390625 31.78125 42.390625 \r\nQ 38.140625 42.390625 41.71875 45.5625 \r\nQ 45.3125 48.734375 45.3125 54.390625 \r\nQ 45.3125 60.0625 41.71875 63.234375 \r\nQ 38.140625 66.40625 31.78125 66.40625 \r\nQ 25.390625 66.40625 21.84375 63.234375 \r\nQ 18.3125 60.0625 18.3125 54.390625 \r\nz\r\n\" id=\"DejaVuSans-56\"/>\r\n       </defs>\r\n       <use xlink:href=\"#DejaVuSans-56\"/>\r\n       <use x=\"63.623047\" xlink:href=\"#DejaVuSans-48\"/>\r\n      </g>\r\n     </g>\r\n    </g>\r\n    <g id=\"xtick_6\">\r\n     <g id=\"line2d_6\">\r\n      <g>\r\n       <use style=\"stroke:#000000;stroke-width:0.8;\" x=\"786.484687\" xlink:href=\"#m864eb335bd\" y=\"279\"/>\r\n      </g>\r\n     </g>\r\n     <g id=\"text_6\">\r\n      <!-- 100 -->\r\n      <g transform=\"translate(776.940937 293.598437)scale(0.1 -0.1)\">\r\n       <defs>\r\n        <path d=\"M 12.40625 8.296875 \r\nL 28.515625 8.296875 \r\nL 28.515625 63.921875 \r\nL 10.984375 60.40625 \r\nL 10.984375 69.390625 \r\nL 28.421875 72.90625 \r\nL 38.28125 72.90625 \r\nL 38.28125 8.296875 \r\nL 54.390625 8.296875 \r\nL 54.390625 0 \r\nL 12.40625 0 \r\nz\r\n\" id=\"DejaVuSans-49\"/>\r\n       </defs>\r\n       <use xlink:href=\"#DejaVuSans-49\"/>\r\n       <use x=\"63.623047\" xlink:href=\"#DejaVuSans-48\"/>\r\n       <use x=\"127.246094\" xlink:href=\"#DejaVuSans-48\"/>\r\n      </g>\r\n     </g>\r\n    </g>\r\n    <g id=\"xtick_7\">\r\n     <g id=\"line2d_7\">\r\n      <g>\r\n       <use style=\"stroke:#000000;stroke-width:0.8;\" x=\"909.762306\" xlink:href=\"#m864eb335bd\" y=\"279\"/>\r\n      </g>\r\n     </g>\r\n     <g id=\"text_7\">\r\n      <!-- 120 -->\r\n      <g transform=\"translate(900.218556 293.598437)scale(0.1 -0.1)\">\r\n       <use xlink:href=\"#DejaVuSans-49\"/>\r\n       <use x=\"63.623047\" xlink:href=\"#DejaVuSans-50\"/>\r\n       <use x=\"127.246094\" xlink:href=\"#DejaVuSans-48\"/>\r\n      </g>\r\n     </g>\r\n    </g>\r\n    <g id=\"text_8\">\r\n     <!-- Time (minutes) -->\r\n     <g transform=\"translate(487.225 307.276562)scale(0.1 -0.1)\">\r\n      <defs>\r\n       <path d=\"M -0.296875 72.90625 \r\nL 61.375 72.90625 \r\nL 61.375 64.59375 \r\nL 35.5 64.59375 \r\nL 35.5 0 \r\nL 25.59375 0 \r\nL 25.59375 64.59375 \r\nL -0.296875 64.59375 \r\nz\r\n\" id=\"DejaVuSans-84\"/>\r\n       <path d=\"M 9.421875 54.6875 \r\nL 18.40625 54.6875 \r\nL 18.40625 0 \r\nL 9.421875 0 \r\nz\r\nM 9.421875 75.984375 \r\nL 18.40625 75.984375 \r\nL 18.40625 64.59375 \r\nL 9.421875 64.59375 \r\nz\r\n\" id=\"DejaVuSans-105\"/>\r\n       <path d=\"M 52 44.1875 \r\nQ 55.375 50.25 60.0625 53.125 \r\nQ 64.75 56 71.09375 56 \r\nQ 79.640625 56 84.28125 50.015625 \r\nQ 88.921875 44.046875 88.921875 33.015625 \r\nL 88.921875 0 \r\nL 79.890625 0 \r\nL 79.890625 32.71875 \r\nQ 79.890625 40.578125 77.09375 44.375 \r\nQ 74.3125 48.1875 68.609375 48.1875 \r\nQ 61.625 48.1875 57.5625 43.546875 \r\nQ 53.515625 38.921875 53.515625 30.90625 \r\nL 53.515625 0 \r\nL 44.484375 0 \r\nL 44.484375 32.71875 \r\nQ 44.484375 40.625 41.703125 44.40625 \r\nQ 38.921875 48.1875 33.109375 48.1875 \r\nQ 26.21875 48.1875 22.15625 43.53125 \r\nQ 18.109375 38.875 18.109375 30.90625 \r\nL 18.109375 0 \r\nL 9.078125 0 \r\nL 9.078125 54.6875 \r\nL 18.109375 54.6875 \r\nL 18.109375 46.1875 \r\nQ 21.1875 51.21875 25.484375 53.609375 \r\nQ 29.78125 56 35.6875 56 \r\nQ 41.65625 56 45.828125 52.96875 \r\nQ 50 49.953125 52 44.1875 \r\nz\r\n\" id=\"DejaVuSans-109\"/>\r\n       <path d=\"M 56.203125 29.59375 \r\nL 56.203125 25.203125 \r\nL 14.890625 25.203125 \r\nQ 15.484375 15.921875 20.484375 11.0625 \r\nQ 25.484375 6.203125 34.421875 6.203125 \r\nQ 39.59375 6.203125 44.453125 7.46875 \r\nQ 49.3125 8.734375 54.109375 11.28125 \r\nL 54.109375 2.78125 \r\nQ 49.265625 0.734375 44.1875 -0.34375 \r\nQ 39.109375 -1.421875 33.890625 -1.421875 \r\nQ 20.796875 -1.421875 13.15625 6.1875 \r\nQ 5.515625 13.8125 5.515625 26.8125 \r\nQ 5.515625 40.234375 12.765625 48.109375 \r\nQ 20.015625 56 32.328125 56 \r\nQ 43.359375 56 49.78125 48.890625 \r\nQ 56.203125 41.796875 56.203125 29.59375 \r\nz\r\nM 47.21875 32.234375 \r\nQ 47.125 39.59375 43.09375 43.984375 \r\nQ 39.0625 48.390625 32.421875 48.390625 \r\nQ 24.90625 48.390625 20.390625 44.140625 \r\nQ 15.875 39.890625 15.1875 32.171875 \r\nz\r\n\" id=\"DejaVuSans-101\"/>\r\n       <path id=\"DejaVuSans-32\"/>\r\n       <path d=\"M 31 75.875 \r\nQ 24.46875 64.65625 21.28125 53.65625 \r\nQ 18.109375 42.671875 18.109375 31.390625 \r\nQ 18.109375 20.125 21.3125 9.0625 \r\nQ 24.515625 -2 31 -13.1875 \r\nL 23.1875 -13.1875 \r\nQ 15.875 -1.703125 12.234375 9.375 \r\nQ 8.59375 20.453125 8.59375 31.390625 \r\nQ 8.59375 42.28125 12.203125 53.3125 \r\nQ 15.828125 64.359375 23.1875 75.875 \r\nz\r\n\" id=\"DejaVuSans-40\"/>\r\n       <path d=\"M 54.890625 33.015625 \r\nL 54.890625 0 \r\nL 45.90625 0 \r\nL 45.90625 32.71875 \r\nQ 45.90625 40.484375 42.875 44.328125 \r\nQ 39.84375 48.1875 33.796875 48.1875 \r\nQ 26.515625 48.1875 22.3125 43.546875 \r\nQ 18.109375 38.921875 18.109375 30.90625 \r\nL 18.109375 0 \r\nL 9.078125 0 \r\nL 9.078125 54.6875 \r\nL 18.109375 54.6875 \r\nL 18.109375 46.1875 \r\nQ 21.34375 51.125 25.703125 53.5625 \r\nQ 30.078125 56 35.796875 56 \r\nQ 45.21875 56 50.046875 50.171875 \r\nQ 54.890625 44.34375 54.890625 33.015625 \r\nz\r\n\" id=\"DejaVuSans-110\"/>\r\n       <path d=\"M 8.5 21.578125 \r\nL 8.5 54.6875 \r\nL 17.484375 54.6875 \r\nL 17.484375 21.921875 \r\nQ 17.484375 14.15625 20.5 10.265625 \r\nQ 23.53125 6.390625 29.59375 6.390625 \r\nQ 36.859375 6.390625 41.078125 11.03125 \r\nQ 45.3125 15.671875 45.3125 23.6875 \r\nL 45.3125 54.6875 \r\nL 54.296875 54.6875 \r\nL 54.296875 0 \r\nL 45.3125 0 \r\nL 45.3125 8.40625 \r\nQ 42.046875 3.421875 37.71875 1 \r\nQ 33.40625 -1.421875 27.6875 -1.421875 \r\nQ 18.265625 -1.421875 13.375 4.4375 \r\nQ 8.5 10.296875 8.5 21.578125 \r\nz\r\nM 31.109375 56 \r\nz\r\n\" id=\"DejaVuSans-117\"/>\r\n       <path d=\"M 18.3125 70.21875 \r\nL 18.3125 54.6875 \r\nL 36.8125 54.6875 \r\nL 36.8125 47.703125 \r\nL 18.3125 47.703125 \r\nL 18.3125 18.015625 \r\nQ 18.3125 11.328125 20.140625 9.421875 \r\nQ 21.96875 7.515625 27.59375 7.515625 \r\nL 36.8125 7.515625 \r\nL 36.8125 0 \r\nL 27.59375 0 \r\nQ 17.1875 0 13.234375 3.875 \r\nQ 9.28125 7.765625 9.28125 18.015625 \r\nL 9.28125 47.703125 \r\nL 2.6875 47.703125 \r\nL 2.6875 54.6875 \r\nL 9.28125 54.6875 \r\nL 9.28125 70.21875 \r\nz\r\n\" id=\"DejaVuSans-116\"/>\r\n       <path d=\"M 44.28125 53.078125 \r\nL 44.28125 44.578125 \r\nQ 40.484375 46.53125 36.375 47.5 \r\nQ 32.28125 48.484375 27.875 48.484375 \r\nQ 21.1875 48.484375 17.84375 46.4375 \r\nQ 14.5 44.390625 14.5 40.28125 \r\nQ 14.5 37.15625 16.890625 35.375 \r\nQ 19.28125 33.59375 26.515625 31.984375 \r\nL 29.59375 31.296875 \r\nQ 39.15625 29.25 43.1875 25.515625 \r\nQ 47.21875 21.78125 47.21875 15.09375 \r\nQ 47.21875 7.46875 41.1875 3.015625 \r\nQ 35.15625 -1.421875 24.609375 -1.421875 \r\nQ 20.21875 -1.421875 15.453125 -0.5625 \r\nQ 10.6875 0.296875 5.421875 2 \r\nL 5.421875 11.28125 \r\nQ 10.40625 8.6875 15.234375 7.390625 \r\nQ 20.0625 6.109375 24.8125 6.109375 \r\nQ 31.15625 6.109375 34.5625 8.28125 \r\nQ 37.984375 10.453125 37.984375 14.40625 \r\nQ 37.984375 18.0625 35.515625 20.015625 \r\nQ 33.0625 21.96875 24.703125 23.78125 \r\nL 21.578125 24.515625 \r\nQ 13.234375 26.265625 9.515625 29.90625 \r\nQ 5.8125 33.546875 5.8125 39.890625 \r\nQ 5.8125 47.609375 11.28125 51.796875 \r\nQ 16.75 56 26.8125 56 \r\nQ 31.78125 56 36.171875 55.265625 \r\nQ 40.578125 54.546875 44.28125 53.078125 \r\nz\r\n\" id=\"DejaVuSans-115\"/>\r\n       <path d=\"M 8.015625 75.875 \r\nL 15.828125 75.875 \r\nQ 23.140625 64.359375 26.78125 53.3125 \r\nQ 30.421875 42.28125 30.421875 31.390625 \r\nQ 30.421875 20.453125 26.78125 9.375 \r\nQ 23.140625 -1.703125 15.828125 -13.1875 \r\nL 8.015625 -13.1875 \r\nQ 14.5 -2 17.703125 9.0625 \r\nQ 20.90625 20.125 20.90625 31.390625 \r\nQ 20.90625 42.671875 17.703125 53.65625 \r\nQ 14.5 64.65625 8.015625 75.875 \r\nz\r\n\" id=\"DejaVuSans-41\"/>\r\n      </defs>\r\n      <use xlink:href=\"#DejaVuSans-84\"/>\r\n      <use x=\"57.958984\" xlink:href=\"#DejaVuSans-105\"/>\r\n      <use x=\"85.742188\" xlink:href=\"#DejaVuSans-109\"/>\r\n      <use x=\"183.154297\" xlink:href=\"#DejaVuSans-101\"/>\r\n      <use x=\"244.677734\" xlink:href=\"#DejaVuSans-32\"/>\r\n      <use x=\"276.464844\" xlink:href=\"#DejaVuSans-40\"/>\r\n      <use x=\"315.478516\" xlink:href=\"#DejaVuSans-109\"/>\r\n      <use x=\"412.890625\" xlink:href=\"#DejaVuSans-105\"/>\r\n      <use x=\"440.673828\" xlink:href=\"#DejaVuSans-110\"/>\r\n      <use x=\"504.052734\" xlink:href=\"#DejaVuSans-117\"/>\r\n      <use x=\"567.431641\" xlink:href=\"#DejaVuSans-116\"/>\r\n      <use x=\"606.640625\" xlink:href=\"#DejaVuSans-101\"/>\r\n      <use x=\"668.164062\" xlink:href=\"#DejaVuSans-115\"/>\r\n      <use x=\"720.263672\" xlink:href=\"#DejaVuSans-41\"/>\r\n     </g>\r\n    </g>\r\n   </g>\r\n   <g id=\"matplotlib.axis_2\">\r\n    <g id=\"ytick_1\">\r\n     <g id=\"line2d_8\">\r\n      <defs>\r\n       <path d=\"M 0 0 \r\nL -3.5 0 \r\n\" id=\"m7d957793bd\" style=\"stroke:#000000;stroke-width:0.8;\"/>\r\n      </defs>\r\n      <g>\r\n       <use style=\"stroke:#000000;stroke-width:0.8;\" x=\"134.5875\" xlink:href=\"#m7d957793bd\" y=\"252.894332\"/>\r\n      </g>\r\n     </g>\r\n     <g id=\"text_9\">\r\n      <!-- gantry_gripper -->\r\n      <g transform=\"translate(53.625 256.69355)scale(0.1 -0.1)\">\r\n       <defs>\r\n        <path d=\"M 45.40625 27.984375 \r\nQ 45.40625 37.75 41.375 43.109375 \r\nQ 37.359375 48.484375 30.078125 48.484375 \r\nQ 22.859375 48.484375 18.828125 43.109375 \r\nQ 14.796875 37.75 14.796875 27.984375 \r\nQ 14.796875 18.265625 18.828125 12.890625 \r\nQ 22.859375 7.515625 30.078125 7.515625 \r\nQ 37.359375 7.515625 41.375 12.890625 \r\nQ 45.40625 18.265625 45.40625 27.984375 \r\nz\r\nM 54.390625 6.78125 \r\nQ 54.390625 -7.171875 48.1875 -13.984375 \r\nQ 42 -20.796875 29.203125 -20.796875 \r\nQ 24.46875 -20.796875 20.265625 -20.09375 \r\nQ 16.0625 -19.390625 12.109375 -17.921875 \r\nL 12.109375 -9.1875 \r\nQ 16.0625 -11.328125 19.921875 -12.34375 \r\nQ 23.78125 -13.375 27.78125 -13.375 \r\nQ 36.625 -13.375 41.015625 -8.765625 \r\nQ 45.40625 -4.15625 45.40625 5.171875 \r\nL 45.40625 9.625 \r\nQ 42.625 4.78125 38.28125 2.390625 \r\nQ 33.9375 0 27.875 0 \r\nQ 17.828125 0 11.671875 7.65625 \r\nQ 5.515625 15.328125 5.515625 27.984375 \r\nQ 5.515625 40.671875 11.671875 48.328125 \r\nQ 17.828125 56 27.875 56 \r\nQ 33.9375 56 38.28125 53.609375 \r\nQ 42.625 51.21875 45.40625 46.390625 \r\nL 45.40625 54.6875 \r\nL 54.390625 54.6875 \r\nz\r\n\" id=\"DejaVuSans-103\"/>\r\n        <path d=\"M 34.28125 27.484375 \r\nQ 23.390625 27.484375 19.1875 25 \r\nQ 14.984375 22.515625 14.984375 16.5 \r\nQ 14.984375 11.71875 18.140625 8.90625 \r\nQ 21.296875 6.109375 26.703125 6.109375 \r\nQ 34.1875 6.109375 38.703125 11.40625 \r\nQ 43.21875 16.703125 43.21875 25.484375 \r\nL 43.21875 27.484375 \r\nz\r\nM 52.203125 31.203125 \r\nL 52.203125 0 \r\nL 43.21875 0 \r\nL 43.21875 8.296875 \r\nQ 40.140625 3.328125 35.546875 0.953125 \r\nQ 30.953125 -1.421875 24.3125 -1.421875 \r\nQ 15.921875 -1.421875 10.953125 3.296875 \r\nQ 6 8.015625 6 15.921875 \r\nQ 6 25.140625 12.171875 29.828125 \r\nQ 18.359375 34.515625 30.609375 34.515625 \r\nL 43.21875 34.515625 \r\nL 43.21875 35.40625 \r\nQ 43.21875 41.609375 39.140625 45 \r\nQ 35.0625 48.390625 27.6875 48.390625 \r\nQ 23 48.390625 18.546875 47.265625 \r\nQ 14.109375 46.140625 10.015625 43.890625 \r\nL 10.015625 52.203125 \r\nQ 14.9375 54.109375 19.578125 55.046875 \r\nQ 24.21875 56 28.609375 56 \r\nQ 40.484375 56 46.34375 49.84375 \r\nQ 52.203125 43.703125 52.203125 31.203125 \r\nz\r\n\" id=\"DejaVuSans-97\"/>\r\n        <path d=\"M 41.109375 46.296875 \r\nQ 39.59375 47.171875 37.8125 47.578125 \r\nQ 36.03125 48 33.890625 48 \r\nQ 26.265625 48 22.1875 43.046875 \r\nQ 18.109375 38.09375 18.109375 28.8125 \r\nL 18.109375 0 \r\nL 9.078125 0 \r\nL 9.078125 54.6875 \r\nL 18.109375 54.6875 \r\nL 18.109375 46.1875 \r\nQ 20.953125 51.171875 25.484375 53.578125 \r\nQ 30.03125 56 36.53125 56 \r\nQ 37.453125 56 38.578125 55.875 \r\nQ 39.703125 55.765625 41.0625 55.515625 \r\nz\r\n\" id=\"DejaVuSans-114\"/>\r\n        <path d=\"M 32.171875 -5.078125 \r\nQ 28.375 -14.84375 24.75 -17.8125 \r\nQ 21.140625 -20.796875 15.09375 -20.796875 \r\nL 7.90625 -20.796875 \r\nL 7.90625 -13.28125 \r\nL 13.1875 -13.28125 \r\nQ 16.890625 -13.28125 18.9375 -11.515625 \r\nQ 21 -9.765625 23.484375 -3.21875 \r\nL 25.09375 0.875 \r\nL 2.984375 54.6875 \r\nL 12.5 54.6875 \r\nL 29.59375 11.921875 \r\nL 46.6875 54.6875 \r\nL 56.203125 54.6875 \r\nz\r\n\" id=\"DejaVuSans-121\"/>\r\n        <path d=\"M 50.984375 -16.609375 \r\nL 50.984375 -23.578125 \r\nL -0.984375 -23.578125 \r\nL -0.984375 -16.609375 \r\nz\r\n\" id=\"DejaVuSans-95\"/>\r\n        <path d=\"M 18.109375 8.203125 \r\nL 18.109375 -20.796875 \r\nL 9.078125 -20.796875 \r\nL 9.078125 54.6875 \r\nL 18.109375 54.6875 \r\nL 18.109375 46.390625 \r\nQ 20.953125 51.265625 25.265625 53.625 \r\nQ 29.59375 56 35.59375 56 \r\nQ 45.5625 56 51.78125 48.09375 \r\nQ 58.015625 40.1875 58.015625 27.296875 \r\nQ 58.015625 14.40625 51.78125 6.484375 \r\nQ 45.5625 -1.421875 35.59375 -1.421875 \r\nQ 29.59375 -1.421875 25.265625 0.953125 \r\nQ 20.953125 3.328125 18.109375 8.203125 \r\nz\r\nM 48.6875 27.296875 \r\nQ 48.6875 37.203125 44.609375 42.84375 \r\nQ 40.53125 48.484375 33.40625 48.484375 \r\nQ 26.265625 48.484375 22.1875 42.84375 \r\nQ 18.109375 37.203125 18.109375 27.296875 \r\nQ 18.109375 17.390625 22.1875 11.75 \r\nQ 26.265625 6.109375 33.40625 6.109375 \r\nQ 40.53125 6.109375 44.609375 11.75 \r\nQ 48.6875 17.390625 48.6875 27.296875 \r\nz\r\n\" id=\"DejaVuSans-112\"/>\r\n       </defs>\r\n       <use xlink:href=\"#DejaVuSans-103\"/>\r\n       <use x=\"63.476562\" xlink:href=\"#DejaVuSans-97\"/>\r\n       <use x=\"124.755859\" xlink:href=\"#DejaVuSans-110\"/>\r\n       <use x=\"188.134766\" xlink:href=\"#DejaVuSans-116\"/>\r\n       <use x=\"227.34375\" xlink:href=\"#DejaVuSans-114\"/>\r\n       <use x=\"268.457031\" xlink:href=\"#DejaVuSans-121\"/>\r\n       <use x=\"327.636719\" xlink:href=\"#DejaVuSans-95\"/>\r\n       <use x=\"377.636719\" xlink:href=\"#DejaVuSans-103\"/>\r\n       <use x=\"441.113281\" xlink:href=\"#DejaVuSans-114\"/>\r\n       <use x=\"482.226562\" xlink:href=\"#DejaVuSans-105\"/>\r\n       <use x=\"510.009766\" xlink:href=\"#DejaVuSans-112\"/>\r\n       <use x=\"573.486328\" xlink:href=\"#DejaVuSans-112\"/>\r\n       <use x=\"636.962891\" xlink:href=\"#DejaVuSans-101\"/>\r\n       <use x=\"698.486328\" xlink:href=\"#DejaVuSans-114\"/>\r\n      </g>\r\n     </g>\r\n    </g>\r\n    <g id=\"ytick_2\">\r\n     <g id=\"line2d_9\">\r\n      <g>\r\n       <use style=\"stroke:#000000;stroke-width:0.8;\" x=\"134.5875\" xlink:href=\"#m7d957793bd\" y=\"197.704596\"/>\r\n      </g>\r\n     </g>\r\n     <g id=\"text_10\">\r\n      <!-- spincoater_liquidhander -->\r\n      <g transform=\"translate(7.2 201.503815)scale(0.1 -0.1)\">\r\n       <defs>\r\n        <path d=\"M 48.78125 52.59375 \r\nL 48.78125 44.1875 \r\nQ 44.96875 46.296875 41.140625 47.34375 \r\nQ 37.3125 48.390625 33.40625 48.390625 \r\nQ 24.65625 48.390625 19.8125 42.84375 \r\nQ 14.984375 37.3125 14.984375 27.296875 \r\nQ 14.984375 17.28125 19.8125 11.734375 \r\nQ 24.65625 6.203125 33.40625 6.203125 \r\nQ 37.3125 6.203125 41.140625 7.25 \r\nQ 44.96875 8.296875 48.78125 10.40625 \r\nL 48.78125 2.09375 \r\nQ 45.015625 0.34375 40.984375 -0.53125 \r\nQ 36.96875 -1.421875 32.421875 -1.421875 \r\nQ 20.0625 -1.421875 12.78125 6.34375 \r\nQ 5.515625 14.109375 5.515625 27.296875 \r\nQ 5.515625 40.671875 12.859375 48.328125 \r\nQ 20.21875 56 33.015625 56 \r\nQ 37.15625 56 41.109375 55.140625 \r\nQ 45.0625 54.296875 48.78125 52.59375 \r\nz\r\n\" id=\"DejaVuSans-99\"/>\r\n        <path d=\"M 30.609375 48.390625 \r\nQ 23.390625 48.390625 19.1875 42.75 \r\nQ 14.984375 37.109375 14.984375 27.296875 \r\nQ 14.984375 17.484375 19.15625 11.84375 \r\nQ 23.34375 6.203125 30.609375 6.203125 \r\nQ 37.796875 6.203125 41.984375 11.859375 \r\nQ 46.1875 17.53125 46.1875 27.296875 \r\nQ 46.1875 37.015625 41.984375 42.703125 \r\nQ 37.796875 48.390625 30.609375 48.390625 \r\nz\r\nM 30.609375 56 \r\nQ 42.328125 56 49.015625 48.375 \r\nQ 55.71875 40.765625 55.71875 27.296875 \r\nQ 55.71875 13.875 49.015625 6.21875 \r\nQ 42.328125 -1.421875 30.609375 -1.421875 \r\nQ 18.84375 -1.421875 12.171875 6.21875 \r\nQ 5.515625 13.875 5.515625 27.296875 \r\nQ 5.515625 40.765625 12.171875 48.375 \r\nQ 18.84375 56 30.609375 56 \r\nz\r\n\" id=\"DejaVuSans-111\"/>\r\n        <path d=\"M 9.421875 75.984375 \r\nL 18.40625 75.984375 \r\nL 18.40625 0 \r\nL 9.421875 0 \r\nz\r\n\" id=\"DejaVuSans-108\"/>\r\n        <path d=\"M 14.796875 27.296875 \r\nQ 14.796875 17.390625 18.875 11.75 \r\nQ 22.953125 6.109375 30.078125 6.109375 \r\nQ 37.203125 6.109375 41.296875 11.75 \r\nQ 45.40625 17.390625 45.40625 27.296875 \r\nQ 45.40625 37.203125 41.296875 42.84375 \r\nQ 37.203125 48.484375 30.078125 48.484375 \r\nQ 22.953125 48.484375 18.875 42.84375 \r\nQ 14.796875 37.203125 14.796875 27.296875 \r\nz\r\nM 45.40625 8.203125 \r\nQ 42.578125 3.328125 38.25 0.953125 \r\nQ 33.9375 -1.421875 27.875 -1.421875 \r\nQ 17.96875 -1.421875 11.734375 6.484375 \r\nQ 5.515625 14.40625 5.515625 27.296875 \r\nQ 5.515625 40.1875 11.734375 48.09375 \r\nQ 17.96875 56 27.875 56 \r\nQ 33.9375 56 38.25 53.625 \r\nQ 42.578125 51.265625 45.40625 46.390625 \r\nL 45.40625 54.6875 \r\nL 54.390625 54.6875 \r\nL 54.390625 -20.796875 \r\nL 45.40625 -20.796875 \r\nz\r\n\" id=\"DejaVuSans-113\"/>\r\n        <path d=\"M 45.40625 46.390625 \r\nL 45.40625 75.984375 \r\nL 54.390625 75.984375 \r\nL 54.390625 0 \r\nL 45.40625 0 \r\nL 45.40625 8.203125 \r\nQ 42.578125 3.328125 38.25 0.953125 \r\nQ 33.9375 -1.421875 27.875 -1.421875 \r\nQ 17.96875 -1.421875 11.734375 6.484375 \r\nQ 5.515625 14.40625 5.515625 27.296875 \r\nQ 5.515625 40.1875 11.734375 48.09375 \r\nQ 17.96875 56 27.875 56 \r\nQ 33.9375 56 38.25 53.625 \r\nQ 42.578125 51.265625 45.40625 46.390625 \r\nz\r\nM 14.796875 27.296875 \r\nQ 14.796875 17.390625 18.875 11.75 \r\nQ 22.953125 6.109375 30.078125 6.109375 \r\nQ 37.203125 6.109375 41.296875 11.75 \r\nQ 45.40625 17.390625 45.40625 27.296875 \r\nQ 45.40625 37.203125 41.296875 42.84375 \r\nQ 37.203125 48.484375 30.078125 48.484375 \r\nQ 22.953125 48.484375 18.875 42.84375 \r\nQ 14.796875 37.203125 14.796875 27.296875 \r\nz\r\n\" id=\"DejaVuSans-100\"/>\r\n        <path d=\"M 54.890625 33.015625 \r\nL 54.890625 0 \r\nL 45.90625 0 \r\nL 45.90625 32.71875 \r\nQ 45.90625 40.484375 42.875 44.328125 \r\nQ 39.84375 48.1875 33.796875 48.1875 \r\nQ 26.515625 48.1875 22.3125 43.546875 \r\nQ 18.109375 38.921875 18.109375 30.90625 \r\nL 18.109375 0 \r\nL 9.078125 0 \r\nL 9.078125 75.984375 \r\nL 18.109375 75.984375 \r\nL 18.109375 46.1875 \r\nQ 21.34375 51.125 25.703125 53.5625 \r\nQ 30.078125 56 35.796875 56 \r\nQ 45.21875 56 50.046875 50.171875 \r\nQ 54.890625 44.34375 54.890625 33.015625 \r\nz\r\n\" id=\"DejaVuSans-104\"/>\r\n       </defs>\r\n       <use xlink:href=\"#DejaVuSans-115\"/>\r\n       <use x=\"52.099609\" xlink:href=\"#DejaVuSans-112\"/>\r\n       <use x=\"115.576172\" xlink:href=\"#DejaVuSans-105\"/>\r\n       <use x=\"143.359375\" xlink:href=\"#DejaVuSans-110\"/>\r\n       <use x=\"206.738281\" xlink:href=\"#DejaVuSans-99\"/>\r\n       <use x=\"261.71875\" xlink:href=\"#DejaVuSans-111\"/>\r\n       <use x=\"322.900391\" xlink:href=\"#DejaVuSans-97\"/>\r\n       <use x=\"384.179688\" xlink:href=\"#DejaVuSans-116\"/>\r\n       <use x=\"423.388672\" xlink:href=\"#DejaVuSans-101\"/>\r\n       <use x=\"484.912109\" xlink:href=\"#DejaVuSans-114\"/>\r\n       <use x=\"526.025391\" xlink:href=\"#DejaVuSans-95\"/>\r\n       <use x=\"576.025391\" xlink:href=\"#DejaVuSans-108\"/>\r\n       <use x=\"603.808594\" xlink:href=\"#DejaVuSans-105\"/>\r\n       <use x=\"631.591797\" xlink:href=\"#DejaVuSans-113\"/>\r\n       <use x=\"695.068359\" xlink:href=\"#DejaVuSans-117\"/>\r\n       <use x=\"758.447266\" xlink:href=\"#DejaVuSans-105\"/>\r\n       <use x=\"786.230469\" xlink:href=\"#DejaVuSans-100\"/>\r\n       <use x=\"849.707031\" xlink:href=\"#DejaVuSans-104\"/>\r\n       <use x=\"913.085938\" xlink:href=\"#DejaVuSans-97\"/>\r\n       <use x=\"974.365234\" xlink:href=\"#DejaVuSans-110\"/>\r\n       <use x=\"1037.744141\" xlink:href=\"#DejaVuSans-100\"/>\r\n       <use x=\"1101.220703\" xlink:href=\"#DejaVuSans-101\"/>\r\n       <use x=\"1162.744141\" xlink:href=\"#DejaVuSans-114\"/>\r\n      </g>\r\n     </g>\r\n    </g>\r\n    <g id=\"ytick_3\">\r\n     <g id=\"line2d_10\">\r\n      <g>\r\n       <use style=\"stroke:#000000;stroke-width:0.8;\" x=\"134.5875\" xlink:href=\"#m7d957793bd\" y=\"142.514861\"/>\r\n      </g>\r\n     </g>\r\n     <g id=\"text_11\">\r\n      <!-- hotplate -->\r\n      <g transform=\"translate(85.882812 146.31408)scale(0.1 -0.1)\">\r\n       <use xlink:href=\"#DejaVuSans-104\"/>\r\n       <use x=\"63.378906\" xlink:href=\"#DejaVuSans-111\"/>\r\n       <use x=\"124.560547\" xlink:href=\"#DejaVuSans-116\"/>\r\n       <use x=\"163.769531\" xlink:href=\"#DejaVuSans-112\"/>\r\n       <use x=\"227.246094\" xlink:href=\"#DejaVuSans-108\"/>\r\n       <use x=\"255.029297\" xlink:href=\"#DejaVuSans-97\"/>\r\n       <use x=\"316.308594\" xlink:href=\"#DejaVuSans-116\"/>\r\n       <use x=\"355.517578\" xlink:href=\"#DejaVuSans-101\"/>\r\n      </g>\r\n     </g>\r\n    </g>\r\n    <g id=\"ytick_4\">\r\n     <g id=\"line2d_11\">\r\n      <g>\r\n       <use style=\"stroke:#000000;stroke-width:0.8;\" x=\"134.5875\" xlink:href=\"#m7d957793bd\" y=\"87.325126\"/>\r\n      </g>\r\n     </g>\r\n     <g id=\"text_12\">\r\n      <!-- storage -->\r\n      <g transform=\"translate(89.598438 91.124345)scale(0.1 -0.1)\">\r\n       <use xlink:href=\"#DejaVuSans-115\"/>\r\n       <use x=\"52.099609\" xlink:href=\"#DejaVuSans-116\"/>\r\n       <use x=\"91.308594\" xlink:href=\"#DejaVuSans-111\"/>\r\n       <use x=\"152.490234\" xlink:href=\"#DejaVuSans-114\"/>\r\n       <use x=\"193.603516\" xlink:href=\"#DejaVuSans-97\"/>\r\n       <use x=\"254.882812\" xlink:href=\"#DejaVuSans-103\"/>\r\n       <use x=\"318.359375\" xlink:href=\"#DejaVuSans-101\"/>\r\n      </g>\r\n     </g>\r\n    </g>\r\n    <g id=\"ytick_5\">\r\n     <g id=\"line2d_12\">\r\n      <g>\r\n       <use style=\"stroke:#000000;stroke-width:0.8;\" x=\"134.5875\" xlink:href=\"#m7d957793bd\" y=\"32.135391\"/>\r\n      </g>\r\n     </g>\r\n     <g id=\"text_13\">\r\n      <!-- characterizationline -->\r\n      <g transform=\"translate(28.345313 35.93461)scale(0.1 -0.1)\">\r\n       <defs>\r\n        <path d=\"M 5.515625 54.6875 \r\nL 48.1875 54.6875 \r\nL 48.1875 46.484375 \r\nL 14.40625 7.171875 \r\nL 48.1875 7.171875 \r\nL 48.1875 0 \r\nL 4.296875 0 \r\nL 4.296875 8.203125 \r\nL 38.09375 47.515625 \r\nL 5.515625 47.515625 \r\nz\r\n\" id=\"DejaVuSans-122\"/>\r\n       </defs>\r\n       <use xlink:href=\"#DejaVuSans-99\"/>\r\n       <use x=\"54.980469\" xlink:href=\"#DejaVuSans-104\"/>\r\n       <use x=\"118.359375\" xlink:href=\"#DejaVuSans-97\"/>\r\n       <use x=\"179.638672\" xlink:href=\"#DejaVuSans-114\"/>\r\n       <use x=\"220.751953\" xlink:href=\"#DejaVuSans-97\"/>\r\n       <use x=\"282.03125\" xlink:href=\"#DejaVuSans-99\"/>\r\n       <use x=\"337.011719\" xlink:href=\"#DejaVuSans-116\"/>\r\n       <use x=\"376.220703\" xlink:href=\"#DejaVuSans-101\"/>\r\n       <use x=\"437.744141\" xlink:href=\"#DejaVuSans-114\"/>\r\n       <use x=\"478.857422\" xlink:href=\"#DejaVuSans-105\"/>\r\n       <use x=\"506.640625\" xlink:href=\"#DejaVuSans-122\"/>\r\n       <use x=\"559.130859\" xlink:href=\"#DejaVuSans-97\"/>\r\n       <use x=\"620.410156\" xlink:href=\"#DejaVuSans-116\"/>\r\n       <use x=\"659.619141\" xlink:href=\"#DejaVuSans-105\"/>\r\n       <use x=\"687.402344\" xlink:href=\"#DejaVuSans-111\"/>\r\n       <use x=\"748.583984\" xlink:href=\"#DejaVuSans-110\"/>\r\n       <use x=\"811.962891\" xlink:href=\"#DejaVuSans-108\"/>\r\n       <use x=\"839.746094\" xlink:href=\"#DejaVuSans-105\"/>\r\n       <use x=\"867.529297\" xlink:href=\"#DejaVuSans-110\"/>\r\n       <use x=\"930.908203\" xlink:href=\"#DejaVuSans-101\"/>\r\n      </g>\r\n     </g>\r\n    </g>\r\n   </g>\r\n   <g id=\"line2d_13\">\r\n    <path clip-path=\"url(#pb2ff9dbaaf)\" d=\"M 170.096591 245.662707 \r\nL 173.486725 245.662707 \r\n\" style=\"fill:none;stroke:#1f77b4;stroke-linecap:square;stroke-width:1.5;\"/>\r\n   </g>\r\n   <g id=\"line2d_14\">\r\n    <path clip-path=\"url(#pb2ff9dbaaf)\" d=\"M 170.096591 190.472972 \r\nL 173.486725 190.472972 \r\n\" style=\"fill:none;stroke:#1f77b4;stroke-linecap:square;stroke-width:1.5;\"/>\r\n   </g>\r\n   <g id=\"line2d_15\">\r\n    <path clip-path=\"url(#pb2ff9dbaaf)\" d=\"M 173.486725 190.472972 \r\nL 182.21889 190.472972 \r\n\" style=\"fill:none;stroke:#1f77b4;stroke-linecap:square;stroke-width:1.5;\"/>\r\n   </g>\r\n   <g id=\"line2d_16\">\r\n    <path clip-path=\"url(#pb2ff9dbaaf)\" d=\"M 182.21889 245.662707 \r\nL 184.787174 245.662707 \r\n\" style=\"fill:none;stroke:#1f77b4;stroke-linecap:square;stroke-width:1.5;\"/>\r\n   </g>\r\n   <g id=\"line2d_17\">\r\n    <path clip-path=\"url(#pb2ff9dbaaf)\" d=\"M 182.21889 190.472972 \r\nL 184.787174 190.472972 \r\n\" style=\"fill:none;stroke:#1f77b4;stroke-linecap:square;stroke-width:1.5;\"/>\r\n   </g>\r\n   <g id=\"line2d_18\">\r\n    <path clip-path=\"url(#pb2ff9dbaaf)\" d=\"M 184.787174 135.283237 \r\nL 369.703603 135.283237 \r\n\" style=\"fill:none;stroke:#1f77b4;stroke-linecap:square;stroke-width:1.5;\"/>\r\n   </g>\r\n   <g id=\"line2d_19\">\r\n    <path clip-path=\"url(#pb2ff9dbaaf)\" d=\"M 369.703603 245.662707 \r\nL 371.552767 245.662707 \r\n\" style=\"fill:none;stroke:#1f77b4;stroke-linecap:square;stroke-width:1.5;\"/>\r\n   </g>\r\n   <g id=\"line2d_20\">\r\n    <path clip-path=\"url(#pb2ff9dbaaf)\" d=\"M 371.552767 80.093502 \r\nL 390.04441 80.093502 \r\n\" style=\"fill:none;stroke:#1f77b4;stroke-linecap:square;stroke-width:1.5;\"/>\r\n   </g>\r\n   <g id=\"line2d_21\">\r\n    <path clip-path=\"url(#pb2ff9dbaaf)\" d=\"M 390.04441 245.662707 \r\nL 391.893574 245.662707 \r\n\" style=\"fill:none;stroke:#1f77b4;stroke-linecap:square;stroke-width:1.5;\"/>\r\n   </g>\r\n   <g id=\"line2d_22\">\r\n    <path clip-path=\"url(#pb2ff9dbaaf)\" d=\"M 390.04441 24.903767 \r\nL 391.893574 24.903767 \r\n\" style=\"fill:none;stroke:#1f77b4;stroke-linecap:square;stroke-width:1.5;\"/>\r\n   </g>\r\n   <g id=\"line2d_23\">\r\n    <path clip-path=\"url(#pb2ff9dbaaf)\" d=\"M 391.893574 24.903767 \r\nL 399.598425 24.903767 \r\n\" style=\"fill:none;stroke:#1f77b4;stroke-linecap:square;stroke-width:1.5;\"/>\r\n   </g>\r\n   <g id=\"line2d_24\">\r\n    <path clip-path=\"url(#pb2ff9dbaaf)\" d=\"M 399.598425 245.662707 \r\nL 401.44759 245.662707 \r\n\" style=\"fill:none;stroke:#1f77b4;stroke-linecap:square;stroke-width:1.5;\"/>\r\n   </g>\r\n   <g id=\"line2d_25\">\r\n    <path clip-path=\"url(#pb2ff9dbaaf)\" d=\"M 399.598425 24.903767 \r\nL 401.44759 24.903767 \r\n\" style=\"fill:none;stroke:#1f77b4;stroke-linecap:square;stroke-width:1.5;\"/>\r\n   </g>\r\n   <g id=\"line2d_26\">\r\n    <path clip-path=\"url(#pb2ff9dbaaf)\" d=\"M 553.284524 240.650546 \r\nL 556.674659 240.650546 \r\n\" style=\"fill:none;stroke:#aec7e8;stroke-linecap:square;stroke-width:1.5;\"/>\r\n   </g>\r\n   <g id=\"line2d_27\">\r\n    <path clip-path=\"url(#pb2ff9dbaaf)\" d=\"M 553.284524 185.460811 \r\nL 556.674659 185.460811 \r\n\" style=\"fill:none;stroke:#aec7e8;stroke-linecap:square;stroke-width:1.5;\"/>\r\n   </g>\r\n   <g id=\"line2d_28\">\r\n    <path clip-path=\"url(#pb2ff9dbaaf)\" d=\"M 566.845062 185.460811 \r\nL 575.577227 185.460811 \r\n\" style=\"fill:none;stroke:#aec7e8;stroke-linecap:square;stroke-width:1.5;\"/>\r\n   </g>\r\n   <g id=\"line2d_29\">\r\n    <path clip-path=\"url(#pb2ff9dbaaf)\" d=\"M 575.577227 240.650546 \r\nL 578.145511 240.650546 \r\n\" style=\"fill:none;stroke:#aec7e8;stroke-linecap:square;stroke-width:1.5;\"/>\r\n   </g>\r\n   <g id=\"line2d_30\">\r\n    <path clip-path=\"url(#pb2ff9dbaaf)\" d=\"M 575.577227 185.460811 \r\nL 578.145511 185.460811 \r\n\" style=\"fill:none;stroke:#aec7e8;stroke-linecap:square;stroke-width:1.5;\"/>\r\n   </g>\r\n   <g id=\"line2d_31\">\r\n    <path clip-path=\"url(#pb2ff9dbaaf)\" d=\"M 578.145511 130.271076 \r\nL 763.061939 130.271076 \r\n\" style=\"fill:none;stroke:#aec7e8;stroke-linecap:square;stroke-width:1.5;\"/>\r\n   </g>\r\n   <g id=\"line2d_32\">\r\n    <path clip-path=\"url(#pb2ff9dbaaf)\" d=\"M 763.061939 240.650546 \r\nL 764.911104 240.650546 \r\n\" style=\"fill:none;stroke:#aec7e8;stroke-linecap:square;stroke-width:1.5;\"/>\r\n   </g>\r\n   <g id=\"line2d_33\">\r\n    <path clip-path=\"url(#pb2ff9dbaaf)\" d=\"M 764.911104 75.08134 \r\nL 783.402747 75.08134 \r\n\" style=\"fill:none;stroke:#aec7e8;stroke-linecap:square;stroke-width:1.5;\"/>\r\n   </g>\r\n   <g id=\"line2d_34\">\r\n    <path clip-path=\"url(#pb2ff9dbaaf)\" d=\"M 846.06887 240.650546 \r\nL 847.918034 240.650546 \r\n\" style=\"fill:none;stroke:#aec7e8;stroke-linecap:square;stroke-width:1.5;\"/>\r\n   </g>\r\n   <g id=\"line2d_35\">\r\n    <path clip-path=\"url(#pb2ff9dbaaf)\" d=\"M 846.06887 19.891605 \r\nL 847.918034 19.891605 \r\n\" style=\"fill:none;stroke:#aec7e8;stroke-linecap:square;stroke-width:1.5;\"/>\r\n   </g>\r\n   <g id=\"line2d_36\">\r\n    <path clip-path=\"url(#pb2ff9dbaaf)\" d=\"M 847.918034 19.891605 \r\nL 855.622885 19.891605 \r\n\" style=\"fill:none;stroke:#aec7e8;stroke-linecap:square;stroke-width:1.5;\"/>\r\n   </g>\r\n   <g id=\"line2d_37\">\r\n    <path clip-path=\"url(#pb2ff9dbaaf)\" d=\"M 855.622885 240.650546 \r\nL 857.47205 240.650546 \r\n\" style=\"fill:none;stroke:#aec7e8;stroke-linecap:square;stroke-width:1.5;\"/>\r\n   </g>\r\n   <g id=\"line2d_38\">\r\n    <path clip-path=\"url(#pb2ff9dbaaf)\" d=\"M 855.622885 19.891605 \r\nL 857.47205 19.891605 \r\n\" style=\"fill:none;stroke:#aec7e8;stroke-linecap:square;stroke-width:1.5;\"/>\r\n   </g>\r\n   <g id=\"line2d_39\">\r\n    <path clip-path=\"url(#pb2ff9dbaaf)\" d=\"M 374.121051 257.198013 \r\nL 377.511185 257.198013 \r\n\" style=\"fill:none;stroke:#ff7f0e;stroke-linecap:square;stroke-width:1.5;\"/>\r\n   </g>\r\n   <g id=\"line2d_40\">\r\n    <path clip-path=\"url(#pb2ff9dbaaf)\" d=\"M 374.121051 202.008278 \r\nL 377.511185 202.008278 \r\n\" style=\"fill:none;stroke:#ff7f0e;stroke-linecap:square;stroke-width:1.5;\"/>\r\n   </g>\r\n   <g id=\"line2d_41\">\r\n    <path clip-path=\"url(#pb2ff9dbaaf)\" d=\"M 377.511185 202.008278 \r\nL 386.24335 202.008278 \r\n\" style=\"fill:none;stroke:#ff7f0e;stroke-linecap:square;stroke-width:1.5;\"/>\r\n   </g>\r\n   <g id=\"line2d_42\">\r\n    <path clip-path=\"url(#pb2ff9dbaaf)\" d=\"M 386.24335 257.198013 \r\nL 388.811634 257.198013 \r\n\" style=\"fill:none;stroke:#ff7f0e;stroke-linecap:square;stroke-width:1.5;\"/>\r\n   </g>\r\n   <g id=\"line2d_43\">\r\n    <path clip-path=\"url(#pb2ff9dbaaf)\" d=\"M 386.24335 202.008278 \r\nL 388.811634 202.008278 \r\n\" style=\"fill:none;stroke:#ff7f0e;stroke-linecap:square;stroke-width:1.5;\"/>\r\n   </g>\r\n   <g id=\"line2d_44\">\r\n    <path clip-path=\"url(#pb2ff9dbaaf)\" d=\"M 388.811634 146.818543 \r\nL 573.728063 146.818543 \r\n\" style=\"fill:none;stroke:#ff7f0e;stroke-linecap:square;stroke-width:1.5;\"/>\r\n   </g>\r\n   <g id=\"line2d_45\">\r\n    <path clip-path=\"url(#pb2ff9dbaaf)\" d=\"M 573.728063 257.198013 \r\nL 575.577227 257.198013 \r\n\" style=\"fill:none;stroke:#ff7f0e;stroke-linecap:square;stroke-width:1.5;\"/>\r\n   </g>\r\n   <g id=\"line2d_46\">\r\n    <path clip-path=\"url(#pb2ff9dbaaf)\" d=\"M 575.577227 91.628808 \r\nL 594.06887 91.628808 \r\n\" style=\"fill:none;stroke:#ff7f0e;stroke-linecap:square;stroke-width:1.5;\"/>\r\n   </g>\r\n   <g id=\"line2d_47\">\r\n    <path clip-path=\"url(#pb2ff9dbaaf)\" d=\"M 601.979184 257.198013 \r\nL 603.828348 257.198013 \r\n\" style=\"fill:none;stroke:#ff7f0e;stroke-linecap:square;stroke-width:1.5;\"/>\r\n   </g>\r\n   <g id=\"line2d_48\">\r\n    <path clip-path=\"url(#pb2ff9dbaaf)\" d=\"M 601.979184 36.439073 \r\nL 603.828348 36.439073 \r\n\" style=\"fill:none;stroke:#ff7f0e;stroke-linecap:square;stroke-width:1.5;\"/>\r\n   </g>\r\n   <g id=\"line2d_49\">\r\n    <path clip-path=\"url(#pb2ff9dbaaf)\" d=\"M 603.828348 36.439073 \r\nL 611.533199 36.439073 \r\n\" style=\"fill:none;stroke:#ff7f0e;stroke-linecap:square;stroke-width:1.5;\"/>\r\n   </g>\r\n   <g id=\"line2d_50\">\r\n    <path clip-path=\"url(#pb2ff9dbaaf)\" d=\"M 611.533199 257.198013 \r\nL 613.382363 257.198013 \r\n\" style=\"fill:none;stroke:#ff7f0e;stroke-linecap:square;stroke-width:1.5;\"/>\r\n   </g>\r\n   <g id=\"line2d_51\">\r\n    <path clip-path=\"url(#pb2ff9dbaaf)\" d=\"M 611.533199 36.439073 \r\nL 613.382363 36.439073 \r\n\" style=\"fill:none;stroke:#ff7f0e;stroke-linecap:square;stroke-width:1.5;\"/>\r\n   </g>\r\n   <g id=\"line2d_52\">\r\n    <path clip-path=\"url(#pb2ff9dbaaf)\" d=\"M 255.671805 258.417037 \r\nL 259.061939 258.417037 \r\n\" style=\"fill:none;stroke:#ffbb78;stroke-linecap:square;stroke-width:1.5;\"/>\r\n   </g>\r\n   <g id=\"line2d_53\">\r\n    <path clip-path=\"url(#pb2ff9dbaaf)\" d=\"M 255.671805 203.227302 \r\nL 259.061939 203.227302 \r\n\" style=\"fill:none;stroke:#ffbb78;stroke-linecap:square;stroke-width:1.5;\"/>\r\n   </g>\r\n   <g id=\"line2d_54\">\r\n    <path clip-path=\"url(#pb2ff9dbaaf)\" d=\"M 259.061939 203.227302 \r\nL 267.794104 203.227302 \r\n\" style=\"fill:none;stroke:#ffbb78;stroke-linecap:square;stroke-width:1.5;\"/>\r\n   </g>\r\n   <g id=\"line2d_55\">\r\n    <path clip-path=\"url(#pb2ff9dbaaf)\" d=\"M 267.794104 258.417037 \r\nL 270.362388 258.417037 \r\n\" style=\"fill:none;stroke:#ffbb78;stroke-linecap:square;stroke-width:1.5;\"/>\r\n   </g>\r\n   <g id=\"line2d_56\">\r\n    <path clip-path=\"url(#pb2ff9dbaaf)\" d=\"M 267.794104 203.227302 \r\nL 270.362388 203.227302 \r\n\" style=\"fill:none;stroke:#ffbb78;stroke-linecap:square;stroke-width:1.5;\"/>\r\n   </g>\r\n   <g id=\"line2d_57\">\r\n    <path clip-path=\"url(#pb2ff9dbaaf)\" d=\"M 270.362388 148.037567 \r\nL 547.737031 148.037567 \r\n\" style=\"fill:none;stroke:#ffbb78;stroke-linecap:square;stroke-width:1.5;\"/>\r\n   </g>\r\n   <g id=\"line2d_58\">\r\n    <path clip-path=\"url(#pb2ff9dbaaf)\" d=\"M 547.737031 258.417037 \r\nL 549.586195 258.417037 \r\n\" style=\"fill:none;stroke:#ffbb78;stroke-linecap:square;stroke-width:1.5;\"/>\r\n   </g>\r\n   <g id=\"line2d_59\">\r\n    <path clip-path=\"url(#pb2ff9dbaaf)\" d=\"M 549.586195 92.847832 \r\nL 568.077838 92.847832 \r\n\" style=\"fill:none;stroke:#ffbb78;stroke-linecap:square;stroke-width:1.5;\"/>\r\n   </g>\r\n   <g id=\"line2d_60\">\r\n    <path clip-path=\"url(#pb2ff9dbaaf)\" d=\"M 571.159779 258.417037 \r\nL 573.008943 258.417037 \r\n\" style=\"fill:none;stroke:#ffbb78;stroke-linecap:square;stroke-width:1.5;\"/>\r\n   </g>\r\n   <g id=\"line2d_61\">\r\n    <path clip-path=\"url(#pb2ff9dbaaf)\" d=\"M 571.159779 37.658097 \r\nL 573.008943 37.658097 \r\n\" style=\"fill:none;stroke:#ffbb78;stroke-linecap:square;stroke-width:1.5;\"/>\r\n   </g>\r\n   <g id=\"line2d_62\">\r\n    <path clip-path=\"url(#pb2ff9dbaaf)\" d=\"M 573.008943 37.658097 \r\nL 580.713794 37.658097 \r\n\" style=\"fill:none;stroke:#ffbb78;stroke-linecap:square;stroke-width:1.5;\"/>\r\n   </g>\r\n   <g id=\"line2d_63\">\r\n    <path clip-path=\"url(#pb2ff9dbaaf)\" d=\"M 580.713794 258.417037 \r\nL 582.562959 258.417037 \r\n\" style=\"fill:none;stroke:#ffbb78;stroke-linecap:square;stroke-width:1.5;\"/>\r\n   </g>\r\n   <g id=\"line2d_64\">\r\n    <path clip-path=\"url(#pb2ff9dbaaf)\" d=\"M 580.713794 37.658097 \r\nL 582.562959 37.658097 \r\n\" style=\"fill:none;stroke:#ffbb78;stroke-linecap:square;stroke-width:1.5;\"/>\r\n   </g>\r\n   <g id=\"line2d_65\">\r\n    <path clip-path=\"url(#pb2ff9dbaaf)\" d=\"M 214.16834 245.619429 \r\nL 217.558474 245.619429 \r\n\" style=\"fill:none;stroke:#2ca02c;stroke-linecap:square;stroke-width:1.5;\"/>\r\n   </g>\r\n   <g id=\"line2d_66\">\r\n    <path clip-path=\"url(#pb2ff9dbaaf)\" d=\"M 214.16834 190.429694 \r\nL 217.558474 190.429694 \r\n\" style=\"fill:none;stroke:#2ca02c;stroke-linecap:square;stroke-width:1.5;\"/>\r\n   </g>\r\n   <g id=\"line2d_67\">\r\n    <path clip-path=\"url(#pb2ff9dbaaf)\" d=\"M 217.558474 190.429694 \r\nL 226.290639 190.429694 \r\n\" style=\"fill:none;stroke:#2ca02c;stroke-linecap:square;stroke-width:1.5;\"/>\r\n   </g>\r\n   <g id=\"line2d_68\">\r\n    <path clip-path=\"url(#pb2ff9dbaaf)\" d=\"M 226.290639 245.619429 \r\nL 228.858923 245.619429 \r\n\" style=\"fill:none;stroke:#2ca02c;stroke-linecap:square;stroke-width:1.5;\"/>\r\n   </g>\r\n   <g id=\"line2d_69\">\r\n    <path clip-path=\"url(#pb2ff9dbaaf)\" d=\"M 226.290639 190.429694 \r\nL 228.858923 190.429694 \r\n\" style=\"fill:none;stroke:#2ca02c;stroke-linecap:square;stroke-width:1.5;\"/>\r\n   </g>\r\n   <g id=\"line2d_70\">\r\n    <path clip-path=\"url(#pb2ff9dbaaf)\" d=\"M 228.858923 135.239959 \r\nL 506.233566 135.239959 \r\n\" style=\"fill:none;stroke:#2ca02c;stroke-linecap:square;stroke-width:1.5;\"/>\r\n   </g>\r\n   <g id=\"line2d_71\">\r\n    <path clip-path=\"url(#pb2ff9dbaaf)\" d=\"M 506.233566 245.619429 \r\nL 508.08273 245.619429 \r\n\" style=\"fill:none;stroke:#2ca02c;stroke-linecap:square;stroke-width:1.5;\"/>\r\n   </g>\r\n   <g id=\"line2d_72\">\r\n    <path clip-path=\"url(#pb2ff9dbaaf)\" d=\"M 508.08273 80.050224 \r\nL 526.574373 80.050224 \r\n\" style=\"fill:none;stroke:#2ca02c;stroke-linecap:square;stroke-width:1.5;\"/>\r\n   </g>\r\n   <g id=\"line2d_73\">\r\n    <path clip-path=\"url(#pb2ff9dbaaf)\" d=\"M 526.574373 245.619429 \r\nL 528.423538 245.619429 \r\n\" style=\"fill:none;stroke:#2ca02c;stroke-linecap:square;stroke-width:1.5;\"/>\r\n   </g>\r\n   <g id=\"line2d_74\">\r\n    <path clip-path=\"url(#pb2ff9dbaaf)\" d=\"M 526.574373 24.860488 \r\nL 528.423538 24.860488 \r\n\" style=\"fill:none;stroke:#2ca02c;stroke-linecap:square;stroke-width:1.5;\"/>\r\n   </g>\r\n   <g id=\"line2d_75\">\r\n    <path clip-path=\"url(#pb2ff9dbaaf)\" d=\"M 528.423538 24.860488 \r\nL 536.128389 24.860488 \r\n\" style=\"fill:none;stroke:#2ca02c;stroke-linecap:square;stroke-width:1.5;\"/>\r\n   </g>\r\n   <g id=\"line2d_76\">\r\n    <path clip-path=\"url(#pb2ff9dbaaf)\" d=\"M 536.128389 245.619429 \r\nL 537.977553 245.619429 \r\n\" style=\"fill:none;stroke:#2ca02c;stroke-linecap:square;stroke-width:1.5;\"/>\r\n   </g>\r\n   <g id=\"line2d_77\">\r\n    <path clip-path=\"url(#pb2ff9dbaaf)\" d=\"M 536.128389 24.860488 \r\nL 537.977553 24.860488 \r\n\" style=\"fill:none;stroke:#2ca02c;stroke-linecap:square;stroke-width:1.5;\"/>\r\n   </g>\r\n   <g id=\"line2d_78\">\r\n    <path clip-path=\"url(#pb2ff9dbaaf)\" d=\"M 475.31143 246.480805 \r\nL 478.701564 246.480805 \r\n\" style=\"fill:none;stroke:#98df8a;stroke-linecap:square;stroke-width:1.5;\"/>\r\n   </g>\r\n   <g id=\"line2d_79\">\r\n    <path clip-path=\"url(#pb2ff9dbaaf)\" d=\"M 475.31143 191.29107 \r\nL 478.701564 191.29107 \r\n\" style=\"fill:none;stroke:#98df8a;stroke-linecap:square;stroke-width:1.5;\"/>\r\n   </g>\r\n   <g id=\"line2d_80\">\r\n    <path clip-path=\"url(#pb2ff9dbaaf)\" d=\"M 478.701564 191.29107 \r\nL 487.433729 191.29107 \r\n\" style=\"fill:none;stroke:#98df8a;stroke-linecap:square;stroke-width:1.5;\"/>\r\n   </g>\r\n   <g id=\"line2d_81\">\r\n    <path clip-path=\"url(#pb2ff9dbaaf)\" d=\"M 487.433729 246.480805 \r\nL 490.002013 246.480805 \r\n\" style=\"fill:none;stroke:#98df8a;stroke-linecap:square;stroke-width:1.5;\"/>\r\n   </g>\r\n   <g id=\"line2d_82\">\r\n    <path clip-path=\"url(#pb2ff9dbaaf)\" d=\"M 487.433729 191.29107 \r\nL 490.002013 191.29107 \r\n\" style=\"fill:none;stroke:#98df8a;stroke-linecap:square;stroke-width:1.5;\"/>\r\n   </g>\r\n   <g id=\"line2d_83\">\r\n    <path clip-path=\"url(#pb2ff9dbaaf)\" d=\"M 490.002013 136.101335 \r\nL 767.376656 136.101335 \r\n\" style=\"fill:none;stroke:#98df8a;stroke-linecap:square;stroke-width:1.5;\"/>\r\n   </g>\r\n   <g id=\"line2d_84\">\r\n    <path clip-path=\"url(#pb2ff9dbaaf)\" d=\"M 767.376656 246.480805 \r\nL 769.22582 246.480805 \r\n\" style=\"fill:none;stroke:#98df8a;stroke-linecap:square;stroke-width:1.5;\"/>\r\n   </g>\r\n   <g id=\"line2d_85\">\r\n    <path clip-path=\"url(#pb2ff9dbaaf)\" d=\"M 769.22582 80.9116 \r\nL 787.717463 80.9116 \r\n\" style=\"fill:none;stroke:#98df8a;stroke-linecap:square;stroke-width:1.5;\"/>\r\n   </g>\r\n   <g id=\"line2d_86\">\r\n    <path clip-path=\"url(#pb2ff9dbaaf)\" d=\"M 834.66569 246.480805 \r\nL 836.514854 246.480805 \r\n\" style=\"fill:none;stroke:#98df8a;stroke-linecap:square;stroke-width:1.5;\"/>\r\n   </g>\r\n   <g id=\"line2d_87\">\r\n    <path clip-path=\"url(#pb2ff9dbaaf)\" d=\"M 834.66569 25.721865 \r\nL 836.514854 25.721865 \r\n\" style=\"fill:none;stroke:#98df8a;stroke-linecap:square;stroke-width:1.5;\"/>\r\n   </g>\r\n   <g id=\"line2d_88\">\r\n    <path clip-path=\"url(#pb2ff9dbaaf)\" d=\"M 836.514854 25.721865 \r\nL 844.219705 25.721865 \r\n\" style=\"fill:none;stroke:#98df8a;stroke-linecap:square;stroke-width:1.5;\"/>\r\n   </g>\r\n   <g id=\"line2d_89\">\r\n    <path clip-path=\"url(#pb2ff9dbaaf)\" d=\"M 844.219705 246.480805 \r\nL 846.06887 246.480805 \r\n\" style=\"fill:none;stroke:#98df8a;stroke-linecap:square;stroke-width:1.5;\"/>\r\n   </g>\r\n   <g id=\"line2d_90\">\r\n    <path clip-path=\"url(#pb2ff9dbaaf)\" d=\"M 844.219705 25.721865 \r\nL 846.06887 25.721865 \r\n\" style=\"fill:none;stroke:#98df8a;stroke-linecap:square;stroke-width:1.5;\"/>\r\n   </g>\r\n   <g id=\"line2d_91\">\r\n    <path clip-path=\"url(#pb2ff9dbaaf)\" d=\"M 240.981222 240.313486 \r\nL 244.371357 240.313486 \r\n\" style=\"fill:none;stroke:#d62728;stroke-linecap:square;stroke-width:1.5;\"/>\r\n   </g>\r\n   <g id=\"line2d_92\">\r\n    <path clip-path=\"url(#pb2ff9dbaaf)\" d=\"M 240.981222 185.123751 \r\nL 244.371357 185.123751 \r\n\" style=\"fill:none;stroke:#d62728;stroke-linecap:square;stroke-width:1.5;\"/>\r\n   </g>\r\n   <g id=\"line2d_93\">\r\n    <path clip-path=\"url(#pb2ff9dbaaf)\" d=\"M 244.371357 185.123751 \r\nL 253.103521 185.123751 \r\n\" style=\"fill:none;stroke:#d62728;stroke-linecap:square;stroke-width:1.5;\"/>\r\n   </g>\r\n   <g id=\"line2d_94\">\r\n    <path clip-path=\"url(#pb2ff9dbaaf)\" d=\"M 253.103521 240.313486 \r\nL 255.671805 240.313486 \r\n\" style=\"fill:none;stroke:#d62728;stroke-linecap:square;stroke-width:1.5;\"/>\r\n   </g>\r\n   <g id=\"line2d_95\">\r\n    <path clip-path=\"url(#pb2ff9dbaaf)\" d=\"M 253.103521 185.123751 \r\nL 255.671805 185.123751 \r\n\" style=\"fill:none;stroke:#d62728;stroke-linecap:square;stroke-width:1.5;\"/>\r\n   </g>\r\n   <g id=\"line2d_96\">\r\n    <path clip-path=\"url(#pb2ff9dbaaf)\" d=\"M 255.671805 129.934016 \r\nL 625.504663 129.934016 \r\n\" style=\"fill:none;stroke:#d62728;stroke-linecap:square;stroke-width:1.5;\"/>\r\n   </g>\r\n   <g id=\"line2d_97\">\r\n    <path clip-path=\"url(#pb2ff9dbaaf)\" d=\"M 625.504663 240.313486 \r\nL 627.353827 240.313486 \r\n\" style=\"fill:none;stroke:#d62728;stroke-linecap:square;stroke-width:1.5;\"/>\r\n   </g>\r\n   <g id=\"line2d_98\">\r\n    <path clip-path=\"url(#pb2ff9dbaaf)\" d=\"M 627.353827 74.744281 \r\nL 645.84547 74.744281 \r\n\" style=\"fill:none;stroke:#d62728;stroke-linecap:square;stroke-width:1.5;\"/>\r\n   </g>\r\n   <g id=\"line2d_99\">\r\n    <path clip-path=\"url(#pb2ff9dbaaf)\" d=\"M 645.84547 240.313486 \r\nL 647.694634 240.313486 \r\n\" style=\"fill:none;stroke:#d62728;stroke-linecap:square;stroke-width:1.5;\"/>\r\n   </g>\r\n   <g id=\"line2d_100\">\r\n    <path clip-path=\"url(#pb2ff9dbaaf)\" d=\"M 645.84547 19.554545 \r\nL 647.694634 19.554545 \r\n\" style=\"fill:none;stroke:#d62728;stroke-linecap:square;stroke-width:1.5;\"/>\r\n   </g>\r\n   <g id=\"line2d_101\">\r\n    <path clip-path=\"url(#pb2ff9dbaaf)\" d=\"M 647.694634 19.554545 \r\nL 655.399485 19.554545 \r\n\" style=\"fill:none;stroke:#d62728;stroke-linecap:square;stroke-width:1.5;\"/>\r\n   </g>\r\n   <g id=\"line2d_102\">\r\n    <path clip-path=\"url(#pb2ff9dbaaf)\" d=\"M 655.399485 240.313486 \r\nL 657.24865 240.313486 \r\n\" style=\"fill:none;stroke:#d62728;stroke-linecap:square;stroke-width:1.5;\"/>\r\n   </g>\r\n   <g id=\"line2d_103\">\r\n    <path clip-path=\"url(#pb2ff9dbaaf)\" d=\"M 655.399485 19.554545 \r\nL 657.24865 19.554545 \r\n\" style=\"fill:none;stroke:#d62728;stroke-linecap:square;stroke-width:1.5;\"/>\r\n   </g>\r\n   <g id=\"line2d_104\">\r\n    <path clip-path=\"url(#pb2ff9dbaaf)\" d=\"M 199.477757 265.483193 \r\nL 202.867891 265.483193 \r\n\" style=\"fill:none;stroke:#ff9896;stroke-linecap:square;stroke-width:1.5;\"/>\r\n   </g>\r\n   <g id=\"line2d_105\">\r\n    <path clip-path=\"url(#pb2ff9dbaaf)\" d=\"M 199.477757 210.293458 \r\nL 202.867891 210.293458 \r\n\" style=\"fill:none;stroke:#ff9896;stroke-linecap:square;stroke-width:1.5;\"/>\r\n   </g>\r\n   <g id=\"line2d_106\">\r\n    <path clip-path=\"url(#pb2ff9dbaaf)\" d=\"M 202.867891 210.293458 \r\nL 211.600056 210.293458 \r\n\" style=\"fill:none;stroke:#ff9896;stroke-linecap:square;stroke-width:1.5;\"/>\r\n   </g>\r\n   <g id=\"line2d_107\">\r\n    <path clip-path=\"url(#pb2ff9dbaaf)\" d=\"M 211.600056 265.483193 \r\nL 214.16834 265.483193 \r\n\" style=\"fill:none;stroke:#ff9896;stroke-linecap:square;stroke-width:1.5;\"/>\r\n   </g>\r\n   <g id=\"line2d_108\">\r\n    <path clip-path=\"url(#pb2ff9dbaaf)\" d=\"M 211.600056 210.293458 \r\nL 214.16834 210.293458 \r\n\" style=\"fill:none;stroke:#ff9896;stroke-linecap:square;stroke-width:1.5;\"/>\r\n   </g>\r\n   <g id=\"line2d_109\">\r\n    <path clip-path=\"url(#pb2ff9dbaaf)\" d=\"M 214.16834 155.103723 \r\nL 584.001198 155.103723 \r\n\" style=\"fill:none;stroke:#ff9896;stroke-linecap:square;stroke-width:1.5;\"/>\r\n   </g>\r\n   <g id=\"line2d_110\">\r\n    <path clip-path=\"url(#pb2ff9dbaaf)\" d=\"M 584.001198 265.483193 \r\nL 585.850362 265.483193 \r\n\" style=\"fill:none;stroke:#ff9896;stroke-linecap:square;stroke-width:1.5;\"/>\r\n   </g>\r\n   <g id=\"line2d_111\">\r\n    <path clip-path=\"url(#pb2ff9dbaaf)\" d=\"M 585.850362 99.913988 \r\nL 604.342005 99.913988 \r\n\" style=\"fill:none;stroke:#ff9896;stroke-linecap:square;stroke-width:1.5;\"/>\r\n   </g>\r\n   <g id=\"line2d_112\">\r\n    <path clip-path=\"url(#pb2ff9dbaaf)\" d=\"M 630.024842 265.483193 \r\nL 631.874006 265.483193 \r\n\" style=\"fill:none;stroke:#ff9896;stroke-linecap:square;stroke-width:1.5;\"/>\r\n   </g>\r\n   <g id=\"line2d_113\">\r\n    <path clip-path=\"url(#pb2ff9dbaaf)\" d=\"M 630.024842 44.724253 \r\nL 631.874006 44.724253 \r\n\" style=\"fill:none;stroke:#ff9896;stroke-linecap:square;stroke-width:1.5;\"/>\r\n   </g>\r\n   <g id=\"line2d_114\">\r\n    <path clip-path=\"url(#pb2ff9dbaaf)\" d=\"M 631.874006 44.724253 \r\nL 639.578858 44.724253 \r\n\" style=\"fill:none;stroke:#ff9896;stroke-linecap:square;stroke-width:1.5;\"/>\r\n   </g>\r\n   <g id=\"line2d_115\">\r\n    <path clip-path=\"url(#pb2ff9dbaaf)\" d=\"M 639.578858 265.483193 \r\nL 641.428022 265.483193 \r\n\" style=\"fill:none;stroke:#ff9896;stroke-linecap:square;stroke-width:1.5;\"/>\r\n   </g>\r\n   <g id=\"line2d_116\">\r\n    <path clip-path=\"url(#pb2ff9dbaaf)\" d=\"M 639.578858 44.724253 \r\nL 641.428022 44.724253 \r\n\" style=\"fill:none;stroke:#ff9896;stroke-linecap:square;stroke-width:1.5;\"/>\r\n   </g>\r\n   <g id=\"line2d_117\">\r\n    <path clip-path=\"url(#pb2ff9dbaaf)\" d=\"M 184.787174 240.842163 \r\nL 188.177308 240.842163 \r\n\" style=\"fill:none;stroke:#9467bd;stroke-linecap:square;stroke-width:1.5;\"/>\r\n   </g>\r\n   <g id=\"line2d_118\">\r\n    <path clip-path=\"url(#pb2ff9dbaaf)\" d=\"M 184.787174 185.652428 \r\nL 188.177308 185.652428 \r\n\" style=\"fill:none;stroke:#9467bd;stroke-linecap:square;stroke-width:1.5;\"/>\r\n   </g>\r\n   <g id=\"line2d_119\">\r\n    <path clip-path=\"url(#pb2ff9dbaaf)\" d=\"M 188.177308 185.652428 \r\nL 196.909473 185.652428 \r\n\" style=\"fill:none;stroke:#9467bd;stroke-linecap:square;stroke-width:1.5;\"/>\r\n   </g>\r\n   <g id=\"line2d_120\">\r\n    <path clip-path=\"url(#pb2ff9dbaaf)\" d=\"M 196.909473 240.842163 \r\nL 199.477757 240.842163 \r\n\" style=\"fill:none;stroke:#9467bd;stroke-linecap:square;stroke-width:1.5;\"/>\r\n   </g>\r\n   <g id=\"line2d_121\">\r\n    <path clip-path=\"url(#pb2ff9dbaaf)\" d=\"M 196.909473 185.652428 \r\nL 199.477757 185.652428 \r\n\" style=\"fill:none;stroke:#9467bd;stroke-linecap:square;stroke-width:1.5;\"/>\r\n   </g>\r\n   <g id=\"line2d_122\">\r\n    <path clip-path=\"url(#pb2ff9dbaaf)\" d=\"M 199.477757 130.462693 \r\nL 569.310615 130.462693 \r\n\" style=\"fill:none;stroke:#9467bd;stroke-linecap:square;stroke-width:1.5;\"/>\r\n   </g>\r\n   <g id=\"line2d_123\">\r\n    <path clip-path=\"url(#pb2ff9dbaaf)\" d=\"M 569.310615 240.842163 \r\nL 571.159779 240.842163 \r\n\" style=\"fill:none;stroke:#9467bd;stroke-linecap:square;stroke-width:1.5;\"/>\r\n   </g>\r\n   <g id=\"line2d_124\">\r\n    <path clip-path=\"url(#pb2ff9dbaaf)\" d=\"M 571.159779 75.272958 \r\nL 589.651422 75.272958 \r\n\" style=\"fill:none;stroke:#9467bd;stroke-linecap:square;stroke-width:1.5;\"/>\r\n   </g>\r\n   <g id=\"line2d_125\">\r\n    <path clip-path=\"url(#pb2ff9dbaaf)\" d=\"M 589.651422 240.842163 \r\nL 591.500586 240.842163 \r\n\" style=\"fill:none;stroke:#9467bd;stroke-linecap:square;stroke-width:1.5;\"/>\r\n   </g>\r\n   <g id=\"line2d_126\">\r\n    <path clip-path=\"url(#pb2ff9dbaaf)\" d=\"M 589.651422 20.083223 \r\nL 591.500586 20.083223 \r\n\" style=\"fill:none;stroke:#9467bd;stroke-linecap:square;stroke-width:1.5;\"/>\r\n   </g>\r\n   <g id=\"line2d_127\">\r\n    <path clip-path=\"url(#pb2ff9dbaaf)\" d=\"M 591.500586 20.083223 \r\nL 599.205437 20.083223 \r\n\" style=\"fill:none;stroke:#9467bd;stroke-linecap:square;stroke-width:1.5;\"/>\r\n   </g>\r\n   <g id=\"line2d_128\">\r\n    <path clip-path=\"url(#pb2ff9dbaaf)\" d=\"M 600.130019 240.842163 \r\nL 601.979184 240.842163 \r\n\" style=\"fill:none;stroke:#9467bd;stroke-linecap:square;stroke-width:1.5;\"/>\r\n   </g>\r\n   <g id=\"line2d_129\">\r\n    <path clip-path=\"url(#pb2ff9dbaaf)\" d=\"M 600.130019 20.083223 \r\nL 601.979184 20.083223 \r\n\" style=\"fill:none;stroke:#9467bd;stroke-linecap:square;stroke-width:1.5;\"/>\r\n   </g>\r\n   <g id=\"line2d_130\">\r\n    <path clip-path=\"url(#pb2ff9dbaaf)\" d=\"M 490.002013 244.633332 \r\nL 493.392147 244.633332 \r\n\" style=\"fill:none;stroke:#c5b0d5;stroke-linecap:square;stroke-width:1.5;\"/>\r\n   </g>\r\n   <g id=\"line2d_131\">\r\n    <path clip-path=\"url(#pb2ff9dbaaf)\" d=\"M 490.002013 189.443597 \r\nL 493.392147 189.443597 \r\n\" style=\"fill:none;stroke:#c5b0d5;stroke-linecap:square;stroke-width:1.5;\"/>\r\n   </g>\r\n   <g id=\"line2d_132\">\r\n    <path clip-path=\"url(#pb2ff9dbaaf)\" d=\"M 493.494879 189.443597 \r\nL 501.713387 189.443597 \r\n\" style=\"fill:none;stroke:#c5b0d5;stroke-linecap:square;stroke-width:1.5;\"/>\r\n   </g>\r\n   <g id=\"line2d_133\">\r\n    <path clip-path=\"url(#pb2ff9dbaaf)\" d=\"M 501.713387 244.633332 \r\nL 504.28167 244.633332 \r\n\" style=\"fill:none;stroke:#c5b0d5;stroke-linecap:square;stroke-width:1.5;\"/>\r\n   </g>\r\n   <g id=\"line2d_134\">\r\n    <path clip-path=\"url(#pb2ff9dbaaf)\" d=\"M 501.713387 189.443597 \r\nL 504.28167 189.443597 \r\n\" style=\"fill:none;stroke:#c5b0d5;stroke-linecap:square;stroke-width:1.5;\"/>\r\n   </g>\r\n   <g id=\"line2d_135\">\r\n    <path clip-path=\"url(#pb2ff9dbaaf)\" d=\"M 504.28167 134.253862 \r\nL 689.198099 134.253862 \r\n\" style=\"fill:none;stroke:#c5b0d5;stroke-linecap:square;stroke-width:1.5;\"/>\r\n   </g>\r\n   <g id=\"line2d_136\">\r\n    <path clip-path=\"url(#pb2ff9dbaaf)\" d=\"M 689.198099 244.633332 \r\nL 691.047264 244.633332 \r\n\" style=\"fill:none;stroke:#c5b0d5;stroke-linecap:square;stroke-width:1.5;\"/>\r\n   </g>\r\n   <g id=\"line2d_137\">\r\n    <path clip-path=\"url(#pb2ff9dbaaf)\" d=\"M 691.047264 79.064127 \r\nL 709.538906 79.064127 \r\n\" style=\"fill:none;stroke:#c5b0d5;stroke-linecap:square;stroke-width:1.5;\"/>\r\n   </g>\r\n   <g id=\"line2d_138\">\r\n    <path clip-path=\"url(#pb2ff9dbaaf)\" d=\"M 734.605356 244.633332 \r\nL 736.45452 244.633332 \r\n\" style=\"fill:none;stroke:#c5b0d5;stroke-linecap:square;stroke-width:1.5;\"/>\r\n   </g>\r\n   <g id=\"line2d_139\">\r\n    <path clip-path=\"url(#pb2ff9dbaaf)\" d=\"M 734.605356 23.874392 \r\nL 736.45452 23.874392 \r\n\" style=\"fill:none;stroke:#c5b0d5;stroke-linecap:square;stroke-width:1.5;\"/>\r\n   </g>\r\n   <g id=\"line2d_140\">\r\n    <path clip-path=\"url(#pb2ff9dbaaf)\" d=\"M 736.45452 23.874392 \r\nL 744.159371 23.874392 \r\n\" style=\"fill:none;stroke:#c5b0d5;stroke-linecap:square;stroke-width:1.5;\"/>\r\n   </g>\r\n   <g id=\"line2d_141\">\r\n    <path clip-path=\"url(#pb2ff9dbaaf)\" d=\"M 744.159371 244.633332 \r\nL 746.008535 244.633332 \r\n\" style=\"fill:none;stroke:#c5b0d5;stroke-linecap:square;stroke-width:1.5;\"/>\r\n   </g>\r\n   <g id=\"line2d_142\">\r\n    <path clip-path=\"url(#pb2ff9dbaaf)\" d=\"M 744.159371 23.874392 \r\nL 746.008535 23.874392 \r\n\" style=\"fill:none;stroke:#c5b0d5;stroke-linecap:square;stroke-width:1.5;\"/>\r\n   </g>\r\n   <g id=\"line2d_143\">\r\n    <path clip-path=\"url(#pb2ff9dbaaf)\" d=\"M 430.315099 247.910367 \r\nL 433.705233 247.910367 \r\n\" style=\"fill:none;stroke:#8c564b;stroke-linecap:square;stroke-width:1.5;\"/>\r\n   </g>\r\n   <g id=\"line2d_144\">\r\n    <path clip-path=\"url(#pb2ff9dbaaf)\" d=\"M 430.315099 192.720632 \r\nL 433.705233 192.720632 \r\n\" style=\"fill:none;stroke:#8c564b;stroke-linecap:square;stroke-width:1.5;\"/>\r\n   </g>\r\n   <g id=\"line2d_145\">\r\n    <path clip-path=\"url(#pb2ff9dbaaf)\" d=\"M 436.170786 192.720632 \r\nL 444.389294 192.720632 \r\n\" style=\"fill:none;stroke:#8c564b;stroke-linecap:square;stroke-width:1.5;\"/>\r\n   </g>\r\n   <g id=\"line2d_146\">\r\n    <path clip-path=\"url(#pb2ff9dbaaf)\" d=\"M 444.389294 247.910367 \r\nL 446.957577 247.910367 \r\n\" style=\"fill:none;stroke:#8c564b;stroke-linecap:square;stroke-width:1.5;\"/>\r\n   </g>\r\n   <g id=\"line2d_147\">\r\n    <path clip-path=\"url(#pb2ff9dbaaf)\" d=\"M 444.389294 192.720632 \r\nL 446.957577 192.720632 \r\n\" style=\"fill:none;stroke:#8c564b;stroke-linecap:square;stroke-width:1.5;\"/>\r\n   </g>\r\n   <g id=\"line2d_148\">\r\n    <path clip-path=\"url(#pb2ff9dbaaf)\" d=\"M 446.957577 137.530897 \r\nL 631.874006 137.530897 \r\n\" style=\"fill:none;stroke:#8c564b;stroke-linecap:square;stroke-width:1.5;\"/>\r\n   </g>\r\n   <g id=\"line2d_149\">\r\n    <path clip-path=\"url(#pb2ff9dbaaf)\" d=\"M 631.874006 247.910367 \r\nL 633.723171 247.910367 \r\n\" style=\"fill:none;stroke:#8c564b;stroke-linecap:square;stroke-width:1.5;\"/>\r\n   </g>\r\n   <g id=\"line2d_150\">\r\n    <path clip-path=\"url(#pb2ff9dbaaf)\" d=\"M 633.723171 82.341162 \r\nL 652.214813 82.341162 \r\n\" style=\"fill:none;stroke:#8c564b;stroke-linecap:square;stroke-width:1.5;\"/>\r\n   </g>\r\n   <g id=\"line2d_151\">\r\n    <path clip-path=\"url(#pb2ff9dbaaf)\" d=\"M 684.061532 247.910367 \r\nL 685.910696 247.910367 \r\n\" style=\"fill:none;stroke:#8c564b;stroke-linecap:square;stroke-width:1.5;\"/>\r\n   </g>\r\n   <g id=\"line2d_152\">\r\n    <path clip-path=\"url(#pb2ff9dbaaf)\" d=\"M 684.061532 27.151426 \r\nL 685.910696 27.151426 \r\n\" style=\"fill:none;stroke:#8c564b;stroke-linecap:square;stroke-width:1.5;\"/>\r\n   </g>\r\n   <g id=\"line2d_153\">\r\n    <path clip-path=\"url(#pb2ff9dbaaf)\" d=\"M 685.910696 27.151426 \r\nL 693.615547 27.151426 \r\n\" style=\"fill:none;stroke:#8c564b;stroke-linecap:square;stroke-width:1.5;\"/>\r\n   </g>\r\n   <g id=\"line2d_154\">\r\n    <path clip-path=\"url(#pb2ff9dbaaf)\" d=\"M 693.615547 247.910367 \r\nL 695.464712 247.910367 \r\n\" style=\"fill:none;stroke:#8c564b;stroke-linecap:square;stroke-width:1.5;\"/>\r\n   </g>\r\n   <g id=\"line2d_155\">\r\n    <path clip-path=\"url(#pb2ff9dbaaf)\" d=\"M 693.615547 27.151426 \r\nL 695.464712 27.151426 \r\n\" style=\"fill:none;stroke:#8c564b;stroke-linecap:square;stroke-width:1.5;\"/>\r\n   </g>\r\n   <g id=\"line2d_156\">\r\n    <path clip-path=\"url(#pb2ff9dbaaf)\" d=\"M 357.273109 263.133302 \r\nL 360.663244 263.133302 \r\n\" style=\"fill:none;stroke:#c49c94;stroke-linecap:square;stroke-width:1.5;\"/>\r\n   </g>\r\n   <g id=\"line2d_157\">\r\n    <path clip-path=\"url(#pb2ff9dbaaf)\" d=\"M 357.273109 207.943566 \r\nL 360.663244 207.943566 \r\n\" style=\"fill:none;stroke:#c49c94;stroke-linecap:square;stroke-width:1.5;\"/>\r\n   </g>\r\n   <g id=\"line2d_158\">\r\n    <path clip-path=\"url(#pb2ff9dbaaf)\" d=\"M 363.334259 207.943566 \r\nL 371.552767 207.943566 \r\n\" style=\"fill:none;stroke:#c49c94;stroke-linecap:square;stroke-width:1.5;\"/>\r\n   </g>\r\n   <g id=\"line2d_159\">\r\n    <path clip-path=\"url(#pb2ff9dbaaf)\" d=\"M 371.552767 263.133302 \r\nL 374.121051 263.133302 \r\n\" style=\"fill:none;stroke:#c49c94;stroke-linecap:square;stroke-width:1.5;\"/>\r\n   </g>\r\n   <g id=\"line2d_160\">\r\n    <path clip-path=\"url(#pb2ff9dbaaf)\" d=\"M 371.552767 207.943566 \r\nL 374.121051 207.943566 \r\n\" style=\"fill:none;stroke:#c49c94;stroke-linecap:square;stroke-width:1.5;\"/>\r\n   </g>\r\n   <g id=\"line2d_161\">\r\n    <path clip-path=\"url(#pb2ff9dbaaf)\" d=\"M 374.121051 152.753831 \r\nL 559.03748 152.753831 \r\n\" style=\"fill:none;stroke:#c49c94;stroke-linecap:square;stroke-width:1.5;\"/>\r\n   </g>\r\n   <g id=\"line2d_162\">\r\n    <path clip-path=\"url(#pb2ff9dbaaf)\" d=\"M 559.03748 263.133302 \r\nL 560.886644 263.133302 \r\n\" style=\"fill:none;stroke:#c49c94;stroke-linecap:square;stroke-width:1.5;\"/>\r\n   </g>\r\n   <g id=\"line2d_163\">\r\n    <path clip-path=\"url(#pb2ff9dbaaf)\" d=\"M 560.886644 97.564096 \r\nL 579.378287 97.564096 \r\n\" style=\"fill:none;stroke:#c49c94;stroke-linecap:square;stroke-width:1.5;\"/>\r\n   </g>\r\n   <g id=\"line2d_164\">\r\n    <path clip-path=\"url(#pb2ff9dbaaf)\" d=\"M 746.008535 263.133302 \r\nL 747.8577 263.133302 \r\n\" style=\"fill:none;stroke:#c49c94;stroke-linecap:square;stroke-width:1.5;\"/>\r\n   </g>\r\n   <g id=\"line2d_165\">\r\n    <path clip-path=\"url(#pb2ff9dbaaf)\" d=\"M 746.008535 42.374361 \r\nL 747.8577 42.374361 \r\n\" style=\"fill:none;stroke:#c49c94;stroke-linecap:square;stroke-width:1.5;\"/>\r\n   </g>\r\n   <g id=\"line2d_166\">\r\n    <path clip-path=\"url(#pb2ff9dbaaf)\" d=\"M 747.8577 42.374361 \r\nL 755.562551 42.374361 \r\n\" style=\"fill:none;stroke:#c49c94;stroke-linecap:square;stroke-width:1.5;\"/>\r\n   </g>\r\n   <g id=\"line2d_167\">\r\n    <path clip-path=\"url(#pb2ff9dbaaf)\" d=\"M 755.562551 263.133302 \r\nL 757.411715 263.133302 \r\n\" style=\"fill:none;stroke:#c49c94;stroke-linecap:square;stroke-width:1.5;\"/>\r\n   </g>\r\n   <g id=\"line2d_168\">\r\n    <path clip-path=\"url(#pb2ff9dbaaf)\" d=\"M 755.562551 42.374361 \r\nL 757.411715 42.374361 \r\n\" style=\"fill:none;stroke:#c49c94;stroke-linecap:square;stroke-width:1.5;\"/>\r\n   </g>\r\n   <g id=\"line2d_169\">\r\n    <path clip-path=\"url(#pb2ff9dbaaf)\" d=\"M 522.773313 264.54102 \r\nL 526.163448 264.54102 \r\n\" style=\"fill:none;stroke:#e377c2;stroke-linecap:square;stroke-width:1.5;\"/>\r\n   </g>\r\n   <g id=\"line2d_170\">\r\n    <path clip-path=\"url(#pb2ff9dbaaf)\" d=\"M 522.773313 209.351285 \r\nL 526.163448 209.351285 \r\n\" style=\"fill:none;stroke:#e377c2;stroke-linecap:square;stroke-width:1.5;\"/>\r\n   </g>\r\n   <g id=\"line2d_171\">\r\n    <path clip-path=\"url(#pb2ff9dbaaf)\" d=\"M 534.176493 209.351285 \r\nL 542.395001 209.351285 \r\n\" style=\"fill:none;stroke:#e377c2;stroke-linecap:square;stroke-width:1.5;\"/>\r\n   </g>\r\n   <g id=\"line2d_172\">\r\n    <path clip-path=\"url(#pb2ff9dbaaf)\" d=\"M 542.395001 264.54102 \r\nL 544.963285 264.54102 \r\n\" style=\"fill:none;stroke:#e377c2;stroke-linecap:square;stroke-width:1.5;\"/>\r\n   </g>\r\n   <g id=\"line2d_173\">\r\n    <path clip-path=\"url(#pb2ff9dbaaf)\" d=\"M 542.395001 209.351285 \r\nL 544.963285 209.351285 \r\n\" style=\"fill:none;stroke:#e377c2;stroke-linecap:square;stroke-width:1.5;\"/>\r\n   </g>\r\n   <g id=\"line2d_174\">\r\n    <path clip-path=\"url(#pb2ff9dbaaf)\" d=\"M 544.963285 154.16155 \r\nL 822.337928 154.16155 \r\n\" style=\"fill:none;stroke:#e377c2;stroke-linecap:square;stroke-width:1.5;\"/>\r\n   </g>\r\n   <g id=\"line2d_175\">\r\n    <path clip-path=\"url(#pb2ff9dbaaf)\" d=\"M 822.337928 264.54102 \r\nL 824.187092 264.54102 \r\n\" style=\"fill:none;stroke:#e377c2;stroke-linecap:square;stroke-width:1.5;\"/>\r\n   </g>\r\n   <g id=\"line2d_176\">\r\n    <path clip-path=\"url(#pb2ff9dbaaf)\" d=\"M 824.187092 98.971815 \r\nL 842.678735 98.971815 \r\n\" style=\"fill:none;stroke:#e377c2;stroke-linecap:square;stroke-width:1.5;\"/>\r\n   </g>\r\n   <g id=\"line2d_177\">\r\n    <path clip-path=\"url(#pb2ff9dbaaf)\" d=\"M 857.47205 264.54102 \r\nL 859.321214 264.54102 \r\n\" style=\"fill:none;stroke:#e377c2;stroke-linecap:square;stroke-width:1.5;\"/>\r\n   </g>\r\n   <g id=\"line2d_178\">\r\n    <path clip-path=\"url(#pb2ff9dbaaf)\" d=\"M 857.47205 43.78208 \r\nL 859.321214 43.78208 \r\n\" style=\"fill:none;stroke:#e377c2;stroke-linecap:square;stroke-width:1.5;\"/>\r\n   </g>\r\n   <g id=\"line2d_179\">\r\n    <path clip-path=\"url(#pb2ff9dbaaf)\" d=\"M 859.321214 43.78208 \r\nL 867.026065 43.78208 \r\n\" style=\"fill:none;stroke:#e377c2;stroke-linecap:square;stroke-width:1.5;\"/>\r\n   </g>\r\n   <g id=\"line2d_180\">\r\n    <path clip-path=\"url(#pb2ff9dbaaf)\" d=\"M 867.026065 264.54102 \r\nL 868.875229 264.54102 \r\n\" style=\"fill:none;stroke:#e377c2;stroke-linecap:square;stroke-width:1.5;\"/>\r\n   </g>\r\n   <g id=\"line2d_181\">\r\n    <path clip-path=\"url(#pb2ff9dbaaf)\" d=\"M 867.026065 43.78208 \r\nL 868.875229 43.78208 \r\n\" style=\"fill:none;stroke:#e377c2;stroke-linecap:square;stroke-width:1.5;\"/>\r\n   </g>\r\n   <g id=\"line2d_182\">\r\n    <path clip-path=\"url(#pb2ff9dbaaf)\" d=\"M 461.134504 262.535858 \r\nL 464.524638 262.535858 \r\n\" style=\"fill:none;stroke:#f7b6d2;stroke-linecap:square;stroke-width:1.5;\"/>\r\n   </g>\r\n   <g id=\"line2d_183\">\r\n    <path clip-path=\"url(#pb2ff9dbaaf)\" d=\"M 461.134504 207.346123 \r\nL 464.524638 207.346123 \r\n\" style=\"fill:none;stroke:#f7b6d2;stroke-linecap:square;stroke-width:1.5;\"/>\r\n   </g>\r\n   <g id=\"line2d_184\">\r\n    <path clip-path=\"url(#pb2ff9dbaaf)\" d=\"M 464.524638 207.346123 \r\nL 472.743146 207.346123 \r\n\" style=\"fill:none;stroke:#f7b6d2;stroke-linecap:square;stroke-width:1.5;\"/>\r\n   </g>\r\n   <g id=\"line2d_185\">\r\n    <path clip-path=\"url(#pb2ff9dbaaf)\" d=\"M 472.743146 262.535858 \r\nL 475.31143 262.535858 \r\n\" style=\"fill:none;stroke:#f7b6d2;stroke-linecap:square;stroke-width:1.5;\"/>\r\n   </g>\r\n   <g id=\"line2d_186\">\r\n    <path clip-path=\"url(#pb2ff9dbaaf)\" d=\"M 472.743146 207.346123 \r\nL 475.31143 207.346123 \r\n\" style=\"fill:none;stroke:#f7b6d2;stroke-linecap:square;stroke-width:1.5;\"/>\r\n   </g>\r\n   <g id=\"line2d_187\">\r\n    <path clip-path=\"url(#pb2ff9dbaaf)\" d=\"M 475.31143 152.156388 \r\nL 752.686073 152.156388 \r\n\" style=\"fill:none;stroke:#f7b6d2;stroke-linecap:square;stroke-width:1.5;\"/>\r\n   </g>\r\n   <g id=\"line2d_188\">\r\n    <path clip-path=\"url(#pb2ff9dbaaf)\" d=\"M 752.686073 262.535858 \r\nL 754.535237 262.535858 \r\n\" style=\"fill:none;stroke:#f7b6d2;stroke-linecap:square;stroke-width:1.5;\"/>\r\n   </g>\r\n   <g id=\"line2d_189\">\r\n    <path clip-path=\"url(#pb2ff9dbaaf)\" d=\"M 754.535237 96.966653 \r\nL 773.02688 96.966653 \r\n\" style=\"fill:none;stroke:#f7b6d2;stroke-linecap:square;stroke-width:1.5;\"/>\r\n   </g>\r\n   <g id=\"line2d_190\">\r\n    <path clip-path=\"url(#pb2ff9dbaaf)\" d=\"M 775.697895 262.535858 \r\nL 777.54706 262.535858 \r\n\" style=\"fill:none;stroke:#f7b6d2;stroke-linecap:square;stroke-width:1.5;\"/>\r\n   </g>\r\n   <g id=\"line2d_191\">\r\n    <path clip-path=\"url(#pb2ff9dbaaf)\" d=\"M 775.697895 41.776918 \r\nL 777.54706 41.776918 \r\n\" style=\"fill:none;stroke:#f7b6d2;stroke-linecap:square;stroke-width:1.5;\"/>\r\n   </g>\r\n   <g id=\"line2d_192\">\r\n    <path clip-path=\"url(#pb2ff9dbaaf)\" d=\"M 777.54706 41.776918 \r\nL 785.251911 41.776918 \r\n\" style=\"fill:none;stroke:#f7b6d2;stroke-linecap:square;stroke-width:1.5;\"/>\r\n   </g>\r\n   <g id=\"line2d_193\">\r\n    <path clip-path=\"url(#pb2ff9dbaaf)\" d=\"M 785.251911 262.535858 \r\nL 787.101075 262.535858 \r\n\" style=\"fill:none;stroke:#f7b6d2;stroke-linecap:square;stroke-width:1.5;\"/>\r\n   </g>\r\n   <g id=\"line2d_194\">\r\n    <path clip-path=\"url(#pb2ff9dbaaf)\" d=\"M 785.251911 41.776918 \r\nL 787.101075 41.776918 \r\n\" style=\"fill:none;stroke:#f7b6d2;stroke-linecap:square;stroke-width:1.5;\"/>\r\n   </g>\r\n   <g id=\"line2d_195\">\r\n    <path clip-path=\"url(#pb2ff9dbaaf)\" d=\"M 508.08273 246.410776 \r\nL 511.472865 246.410776 \r\n\" style=\"fill:none;stroke:#7f7f7f;stroke-linecap:square;stroke-width:1.5;\"/>\r\n   </g>\r\n   <g id=\"line2d_196\">\r\n    <path clip-path=\"url(#pb2ff9dbaaf)\" d=\"M 508.08273 191.221041 \r\nL 511.472865 191.221041 \r\n\" style=\"fill:none;stroke:#7f7f7f;stroke-linecap:square;stroke-width:1.5;\"/>\r\n   </g>\r\n   <g id=\"line2d_197\">\r\n    <path clip-path=\"url(#pb2ff9dbaaf)\" d=\"M 511.986522 191.221041 \r\nL 520.20503 191.221041 \r\n\" style=\"fill:none;stroke:#7f7f7f;stroke-linecap:square;stroke-width:1.5;\"/>\r\n   </g>\r\n   <g id=\"line2d_198\">\r\n    <path clip-path=\"url(#pb2ff9dbaaf)\" d=\"M 520.20503 246.410776 \r\nL 522.773313 246.410776 \r\n\" style=\"fill:none;stroke:#7f7f7f;stroke-linecap:square;stroke-width:1.5;\"/>\r\n   </g>\r\n   <g id=\"line2d_199\">\r\n    <path clip-path=\"url(#pb2ff9dbaaf)\" d=\"M 520.20503 191.221041 \r\nL 522.773313 191.221041 \r\n\" style=\"fill:none;stroke:#7f7f7f;stroke-linecap:square;stroke-width:1.5;\"/>\r\n   </g>\r\n   <g id=\"line2d_200\">\r\n    <path clip-path=\"url(#pb2ff9dbaaf)\" d=\"M 522.773313 136.031306 \r\nL 800.147957 136.031306 \r\n\" style=\"fill:none;stroke:#7f7f7f;stroke-linecap:square;stroke-width:1.5;\"/>\r\n   </g>\r\n   <g id=\"line2d_201\">\r\n    <path clip-path=\"url(#pb2ff9dbaaf)\" d=\"M 800.147957 246.410776 \r\nL 801.997121 246.410776 \r\n\" style=\"fill:none;stroke:#7f7f7f;stroke-linecap:square;stroke-width:1.5;\"/>\r\n   </g>\r\n   <g id=\"line2d_202\">\r\n    <path clip-path=\"url(#pb2ff9dbaaf)\" d=\"M 801.997121 80.841571 \r\nL 820.488764 80.841571 \r\n\" style=\"fill:none;stroke:#7f7f7f;stroke-linecap:square;stroke-width:1.5;\"/>\r\n   </g>\r\n   <g id=\"line2d_203\">\r\n    <path clip-path=\"url(#pb2ff9dbaaf)\" d=\"M 820.488764 246.410776 \r\nL 822.337928 246.410776 \r\n\" style=\"fill:none;stroke:#7f7f7f;stroke-linecap:square;stroke-width:1.5;\"/>\r\n   </g>\r\n   <g id=\"line2d_204\">\r\n    <path clip-path=\"url(#pb2ff9dbaaf)\" d=\"M 820.488764 25.651836 \r\nL 822.337928 25.651836 \r\n\" style=\"fill:none;stroke:#7f7f7f;stroke-linecap:square;stroke-width:1.5;\"/>\r\n   </g>\r\n   <g id=\"line2d_205\">\r\n    <path clip-path=\"url(#pb2ff9dbaaf)\" d=\"M 822.337928 25.651836 \r\nL 830.042779 25.651836 \r\n\" style=\"fill:none;stroke:#7f7f7f;stroke-linecap:square;stroke-width:1.5;\"/>\r\n   </g>\r\n   <g id=\"line2d_206\">\r\n    <path clip-path=\"url(#pb2ff9dbaaf)\" d=\"M 832.816526 246.410776 \r\nL 834.66569 246.410776 \r\n\" style=\"fill:none;stroke:#7f7f7f;stroke-linecap:square;stroke-width:1.5;\"/>\r\n   </g>\r\n   <g id=\"line2d_207\">\r\n    <path clip-path=\"url(#pb2ff9dbaaf)\" d=\"M 832.816526 25.651836 \r\nL 834.66569 25.651836 \r\n\" style=\"fill:none;stroke:#7f7f7f;stroke-linecap:square;stroke-width:1.5;\"/>\r\n   </g>\r\n   <g id=\"line2d_208\">\r\n    <path clip-path=\"url(#pb2ff9dbaaf)\" d=\"M 294.606986 246.08133 \r\nL 297.997121 246.08133 \r\n\" style=\"fill:none;stroke:#c7c7c7;stroke-linecap:square;stroke-width:1.5;\"/>\r\n   </g>\r\n   <g id=\"line2d_209\">\r\n    <path clip-path=\"url(#pb2ff9dbaaf)\" d=\"M 294.606986 190.891595 \r\nL 297.997121 190.891595 \r\n\" style=\"fill:none;stroke:#c7c7c7;stroke-linecap:square;stroke-width:1.5;\"/>\r\n   </g>\r\n   <g id=\"line2d_210\">\r\n    <path clip-path=\"url(#pb2ff9dbaaf)\" d=\"M 297.997121 190.891595 \r\nL 306.215629 190.891595 \r\n\" style=\"fill:none;stroke:#c7c7c7;stroke-linecap:square;stroke-width:1.5;\"/>\r\n   </g>\r\n   <g id=\"line2d_211\">\r\n    <path clip-path=\"url(#pb2ff9dbaaf)\" d=\"M 306.215629 246.08133 \r\nL 308.783913 246.08133 \r\n\" style=\"fill:none;stroke:#c7c7c7;stroke-linecap:square;stroke-width:1.5;\"/>\r\n   </g>\r\n   <g id=\"line2d_212\">\r\n    <path clip-path=\"url(#pb2ff9dbaaf)\" d=\"M 306.215629 190.891595 \r\nL 308.783913 190.891595 \r\n\" style=\"fill:none;stroke:#c7c7c7;stroke-linecap:square;stroke-width:1.5;\"/>\r\n   </g>\r\n   <g id=\"line2d_213\">\r\n    <path clip-path=\"url(#pb2ff9dbaaf)\" d=\"M 308.783913 135.701859 \r\nL 678.61677 135.701859 \r\n\" style=\"fill:none;stroke:#c7c7c7;stroke-linecap:square;stroke-width:1.5;\"/>\r\n   </g>\r\n   <g id=\"line2d_214\">\r\n    <path clip-path=\"url(#pb2ff9dbaaf)\" d=\"M 678.61677 246.08133 \r\nL 680.465935 246.08133 \r\n\" style=\"fill:none;stroke:#c7c7c7;stroke-linecap:square;stroke-width:1.5;\"/>\r\n   </g>\r\n   <g id=\"line2d_215\">\r\n    <path clip-path=\"url(#pb2ff9dbaaf)\" d=\"M 680.465935 80.512124 \r\nL 698.957577 80.512124 \r\n\" style=\"fill:none;stroke:#c7c7c7;stroke-linecap:square;stroke-width:1.5;\"/>\r\n   </g>\r\n   <g id=\"line2d_216\">\r\n    <path clip-path=\"url(#pb2ff9dbaaf)\" d=\"M 698.957577 246.08133 \r\nL 700.806742 246.08133 \r\n\" style=\"fill:none;stroke:#c7c7c7;stroke-linecap:square;stroke-width:1.5;\"/>\r\n   </g>\r\n   <g id=\"line2d_217\">\r\n    <path clip-path=\"url(#pb2ff9dbaaf)\" d=\"M 698.957577 25.322389 \r\nL 700.806742 25.322389 \r\n\" style=\"fill:none;stroke:#c7c7c7;stroke-linecap:square;stroke-width:1.5;\"/>\r\n   </g>\r\n   <g id=\"line2d_218\">\r\n    <path clip-path=\"url(#pb2ff9dbaaf)\" d=\"M 700.806742 25.322389 \r\nL 708.511593 25.322389 \r\n\" style=\"fill:none;stroke:#c7c7c7;stroke-linecap:square;stroke-width:1.5;\"/>\r\n   </g>\r\n   <g id=\"line2d_219\">\r\n    <path clip-path=\"url(#pb2ff9dbaaf)\" d=\"M 708.511593 246.08133 \r\nL 710.360757 246.08133 \r\n\" style=\"fill:none;stroke:#c7c7c7;stroke-linecap:square;stroke-width:1.5;\"/>\r\n   </g>\r\n   <g id=\"line2d_220\">\r\n    <path clip-path=\"url(#pb2ff9dbaaf)\" d=\"M 708.511593 25.322389 \r\nL 710.360757 25.322389 \r\n\" style=\"fill:none;stroke:#c7c7c7;stroke-linecap:square;stroke-width:1.5;\"/>\r\n   </g>\r\n   <g id=\"line2d_221\">\r\n    <path clip-path=\"url(#pb2ff9dbaaf)\" d=\"M 404.015873 240.486747 \r\nL 407.406008 240.486747 \r\n\" style=\"fill:none;stroke:#bcbd22;stroke-linecap:square;stroke-width:1.5;\"/>\r\n   </g>\r\n   <g id=\"line2d_222\">\r\n    <path clip-path=\"url(#pb2ff9dbaaf)\" d=\"M 404.015873 185.297012 \r\nL 407.406008 185.297012 \r\n\" style=\"fill:none;stroke:#bcbd22;stroke-linecap:square;stroke-width:1.5;\"/>\r\n   </g>\r\n   <g id=\"line2d_223\">\r\n    <path clip-path=\"url(#pb2ff9dbaaf)\" d=\"M 407.406008 185.297012 \r\nL 415.624516 185.297012 \r\n\" style=\"fill:none;stroke:#bcbd22;stroke-linecap:square;stroke-width:1.5;\"/>\r\n   </g>\r\n   <g id=\"line2d_224\">\r\n    <path clip-path=\"url(#pb2ff9dbaaf)\" d=\"M 415.624516 240.486747 \r\nL 418.1928 240.486747 \r\n\" style=\"fill:none;stroke:#bcbd22;stroke-linecap:square;stroke-width:1.5;\"/>\r\n   </g>\r\n   <g id=\"line2d_225\">\r\n    <path clip-path=\"url(#pb2ff9dbaaf)\" d=\"M 415.624516 185.297012 \r\nL 418.1928 185.297012 \r\n\" style=\"fill:none;stroke:#bcbd22;stroke-linecap:square;stroke-width:1.5;\"/>\r\n   </g>\r\n   <g id=\"line2d_226\">\r\n    <path clip-path=\"url(#pb2ff9dbaaf)\" d=\"M 418.1928 130.107277 \r\nL 788.025657 130.107277 \r\n\" style=\"fill:none;stroke:#bcbd22;stroke-linecap:square;stroke-width:1.5;\"/>\r\n   </g>\r\n   <g id=\"line2d_227\">\r\n    <path clip-path=\"url(#pb2ff9dbaaf)\" d=\"M 788.025657 240.486747 \r\nL 789.874822 240.486747 \r\n\" style=\"fill:none;stroke:#bcbd22;stroke-linecap:square;stroke-width:1.5;\"/>\r\n   </g>\r\n   <g id=\"line2d_228\">\r\n    <path clip-path=\"url(#pb2ff9dbaaf)\" d=\"M 789.874822 74.917542 \r\nL 808.366465 74.917542 \r\n\" style=\"fill:none;stroke:#bcbd22;stroke-linecap:square;stroke-width:1.5;\"/>\r\n   </g>\r\n   <g id=\"line2d_229\">\r\n    <path clip-path=\"url(#pb2ff9dbaaf)\" d=\"M 808.366465 240.486747 \r\nL 810.215629 240.486747 \r\n\" style=\"fill:none;stroke:#bcbd22;stroke-linecap:square;stroke-width:1.5;\"/>\r\n   </g>\r\n   <g id=\"line2d_230\">\r\n    <path clip-path=\"url(#pb2ff9dbaaf)\" d=\"M 808.366465 19.727807 \r\nL 810.215629 19.727807 \r\n\" style=\"fill:none;stroke:#bcbd22;stroke-linecap:square;stroke-width:1.5;\"/>\r\n   </g>\r\n   <g id=\"line2d_231\">\r\n    <path clip-path=\"url(#pb2ff9dbaaf)\" d=\"M 810.215629 19.727807 \r\nL 817.92048 19.727807 \r\n\" style=\"fill:none;stroke:#bcbd22;stroke-linecap:square;stroke-width:1.5;\"/>\r\n   </g>\r\n   <g id=\"line2d_232\">\r\n    <path clip-path=\"url(#pb2ff9dbaaf)\" d=\"M 817.92048 240.486747 \r\nL 819.769644 240.486747 \r\n\" style=\"fill:none;stroke:#bcbd22;stroke-linecap:square;stroke-width:1.5;\"/>\r\n   </g>\r\n   <g id=\"line2d_233\">\r\n    <path clip-path=\"url(#pb2ff9dbaaf)\" d=\"M 817.92048 19.727807 \r\nL 819.769644 19.727807 \r\n\" style=\"fill:none;stroke:#bcbd22;stroke-linecap:square;stroke-width:1.5;\"/>\r\n   </g>\r\n   <g id=\"line2d_234\">\r\n    <path clip-path=\"url(#pb2ff9dbaaf)\" d=\"M 446.957577 263.682247 \r\nL 450.347712 263.682247 \r\n\" style=\"fill:none;stroke:#dbdb8d;stroke-linecap:square;stroke-width:1.5;\"/>\r\n   </g>\r\n   <g id=\"line2d_235\">\r\n    <path clip-path=\"url(#pb2ff9dbaaf)\" d=\"M 446.957577 208.492512 \r\nL 450.347712 208.492512 \r\n\" style=\"fill:none;stroke:#dbdb8d;stroke-linecap:square;stroke-width:1.5;\"/>\r\n   </g>\r\n   <g id=\"line2d_236\">\r\n    <path clip-path=\"url(#pb2ff9dbaaf)\" d=\"M 450.347712 208.492512 \r\nL 458.56622 208.492512 \r\n\" style=\"fill:none;stroke:#dbdb8d;stroke-linecap:square;stroke-width:1.5;\"/>\r\n   </g>\r\n   <g id=\"line2d_237\">\r\n    <path clip-path=\"url(#pb2ff9dbaaf)\" d=\"M 458.56622 263.682247 \r\nL 461.134504 263.682247 \r\n\" style=\"fill:none;stroke:#dbdb8d;stroke-linecap:square;stroke-width:1.5;\"/>\r\n   </g>\r\n   <g id=\"line2d_238\">\r\n    <path clip-path=\"url(#pb2ff9dbaaf)\" d=\"M 458.56622 208.492512 \r\nL 461.134504 208.492512 \r\n\" style=\"fill:none;stroke:#dbdb8d;stroke-linecap:square;stroke-width:1.5;\"/>\r\n   </g>\r\n   <g id=\"line2d_239\">\r\n    <path clip-path=\"url(#pb2ff9dbaaf)\" d=\"M 461.134504 153.302777 \r\nL 830.967361 153.302777 \r\n\" style=\"fill:none;stroke:#dbdb8d;stroke-linecap:square;stroke-width:1.5;\"/>\r\n   </g>\r\n   <g id=\"line2d_240\">\r\n    <path clip-path=\"url(#pb2ff9dbaaf)\" d=\"M 830.967361 263.682247 \r\nL 832.816526 263.682247 \r\n\" style=\"fill:none;stroke:#dbdb8d;stroke-linecap:square;stroke-width:1.5;\"/>\r\n   </g>\r\n   <g id=\"line2d_241\">\r\n    <path clip-path=\"url(#pb2ff9dbaaf)\" d=\"M 832.816526 98.113042 \r\nL 851.308169 98.113042 \r\n\" style=\"fill:none;stroke:#dbdb8d;stroke-linecap:square;stroke-width:1.5;\"/>\r\n   </g>\r\n   <g id=\"line2d_242\">\r\n    <path clip-path=\"url(#pb2ff9dbaaf)\" d=\"M 868.875229 263.682247 \r\nL 870.724394 263.682247 \r\n\" style=\"fill:none;stroke:#dbdb8d;stroke-linecap:square;stroke-width:1.5;\"/>\r\n   </g>\r\n   <g id=\"line2d_243\">\r\n    <path clip-path=\"url(#pb2ff9dbaaf)\" d=\"M 868.875229 42.923307 \r\nL 870.724394 42.923307 \r\n\" style=\"fill:none;stroke:#dbdb8d;stroke-linecap:square;stroke-width:1.5;\"/>\r\n   </g>\r\n   <g id=\"line2d_244\">\r\n    <path clip-path=\"url(#pb2ff9dbaaf)\" d=\"M 870.724394 42.923307 \r\nL 878.429245 42.923307 \r\n\" style=\"fill:none;stroke:#dbdb8d;stroke-linecap:square;stroke-width:1.5;\"/>\r\n   </g>\r\n   <g id=\"line2d_245\">\r\n    <path clip-path=\"url(#pb2ff9dbaaf)\" d=\"M 878.429245 263.682247 \r\nL 880.278409 263.682247 \r\n\" style=\"fill:none;stroke:#dbdb8d;stroke-linecap:square;stroke-width:1.5;\"/>\r\n   </g>\r\n   <g id=\"line2d_246\">\r\n    <path clip-path=\"url(#pb2ff9dbaaf)\" d=\"M 878.429245 42.923307 \r\nL 880.278409 42.923307 \r\n\" style=\"fill:none;stroke:#dbdb8d;stroke-linecap:square;stroke-width:1.5;\"/>\r\n   </g>\r\n   <g id=\"line2d_247\">\r\n    <path clip-path=\"url(#pb2ff9dbaaf)\" d=\"M 282.484687 266.645455 \r\nL 285.874822 266.645455 \r\n\" style=\"fill:none;stroke:#17becf;stroke-linecap:square;stroke-width:1.5;\"/>\r\n   </g>\r\n   <g id=\"line2d_248\">\r\n    <path clip-path=\"url(#pb2ff9dbaaf)\" d=\"M 282.484687 211.455719 \r\nL 285.874822 211.455719 \r\n\" style=\"fill:none;stroke:#17becf;stroke-linecap:square;stroke-width:1.5;\"/>\r\n   </g>\r\n   <g id=\"line2d_249\">\r\n    <path clip-path=\"url(#pb2ff9dbaaf)\" d=\"M 285.874822 211.455719 \r\nL 292.038703 211.455719 \r\n\" style=\"fill:none;stroke:#17becf;stroke-linecap:square;stroke-width:1.5;\"/>\r\n   </g>\r\n   <g id=\"line2d_250\">\r\n    <path clip-path=\"url(#pb2ff9dbaaf)\" d=\"M 292.038703 266.645455 \r\nL 294.606986 266.645455 \r\n\" style=\"fill:none;stroke:#17becf;stroke-linecap:square;stroke-width:1.5;\"/>\r\n   </g>\r\n   <g id=\"line2d_251\">\r\n    <path clip-path=\"url(#pb2ff9dbaaf)\" d=\"M 292.038703 211.455719 \r\nL 294.606986 211.455719 \r\n\" style=\"fill:none;stroke:#17becf;stroke-linecap:square;stroke-width:1.5;\"/>\r\n   </g>\r\n   <g id=\"line2d_252\">\r\n    <path clip-path=\"url(#pb2ff9dbaaf)\" d=\"M 294.606986 156.265984 \r\nL 479.523415 156.265984 \r\n\" style=\"fill:none;stroke:#17becf;stroke-linecap:square;stroke-width:1.5;\"/>\r\n   </g>\r\n   <g id=\"line2d_253\">\r\n    <path clip-path=\"url(#pb2ff9dbaaf)\" d=\"M 479.523415 266.645455 \r\nL 481.372579 266.645455 \r\n\" style=\"fill:none;stroke:#17becf;stroke-linecap:square;stroke-width:1.5;\"/>\r\n   </g>\r\n   <g id=\"line2d_254\">\r\n    <path clip-path=\"url(#pb2ff9dbaaf)\" d=\"M 481.372579 101.076249 \r\nL 499.864222 101.076249 \r\n\" style=\"fill:none;stroke:#17becf;stroke-linecap:square;stroke-width:1.5;\"/>\r\n   </g>\r\n   <g id=\"line2d_255\">\r\n    <path clip-path=\"url(#pb2ff9dbaaf)\" d=\"M 499.864222 266.645455 \r\nL 501.713387 266.645455 \r\n\" style=\"fill:none;stroke:#17becf;stroke-linecap:square;stroke-width:1.5;\"/>\r\n   </g>\r\n   <g id=\"line2d_256\">\r\n    <path clip-path=\"url(#pb2ff9dbaaf)\" d=\"M 499.864222 45.886514 \r\nL 501.713387 45.886514 \r\n\" style=\"fill:none;stroke:#17becf;stroke-linecap:square;stroke-width:1.5;\"/>\r\n   </g>\r\n   <g id=\"line2d_257\">\r\n    <path clip-path=\"url(#pb2ff9dbaaf)\" d=\"M 501.713387 45.886514 \r\nL 509.418238 45.886514 \r\n\" style=\"fill:none;stroke:#17becf;stroke-linecap:square;stroke-width:1.5;\"/>\r\n   </g>\r\n   <g id=\"line2d_258\">\r\n    <path clip-path=\"url(#pb2ff9dbaaf)\" d=\"M 511.472865 266.645455 \r\nL 513.322029 266.645455 \r\n\" style=\"fill:none;stroke:#17becf;stroke-linecap:square;stroke-width:1.5;\"/>\r\n   </g>\r\n   <g id=\"line2d_259\">\r\n    <path clip-path=\"url(#pb2ff9dbaaf)\" d=\"M 511.472865 45.886514 \r\nL 513.322029 45.886514 \r\n\" style=\"fill:none;stroke:#17becf;stroke-linecap:square;stroke-width:1.5;\"/>\r\n   </g>\r\n   <g id=\"line2d_260\">\r\n    <path clip-path=\"url(#pb2ff9dbaaf)\" d=\"M 418.1928 244.083107 \r\nL 421.582934 244.083107 \r\n\" style=\"fill:none;stroke:#9edae5;stroke-linecap:square;stroke-width:1.5;\"/>\r\n   </g>\r\n   <g id=\"line2d_261\">\r\n    <path clip-path=\"url(#pb2ff9dbaaf)\" d=\"M 418.1928 188.893372 \r\nL 421.582934 188.893372 \r\n\" style=\"fill:none;stroke:#9edae5;stroke-linecap:square;stroke-width:1.5;\"/>\r\n   </g>\r\n   <g id=\"line2d_262\">\r\n    <path clip-path=\"url(#pb2ff9dbaaf)\" d=\"M 421.582934 188.893372 \r\nL 427.746815 188.893372 \r\n\" style=\"fill:none;stroke:#9edae5;stroke-linecap:square;stroke-width:1.5;\"/>\r\n   </g>\r\n   <g id=\"line2d_263\">\r\n    <path clip-path=\"url(#pb2ff9dbaaf)\" d=\"M 427.746815 244.083107 \r\nL 430.315099 244.083107 \r\n\" style=\"fill:none;stroke:#9edae5;stroke-linecap:square;stroke-width:1.5;\"/>\r\n   </g>\r\n   <g id=\"line2d_264\">\r\n    <path clip-path=\"url(#pb2ff9dbaaf)\" d=\"M 427.746815 188.893372 \r\nL 430.315099 188.893372 \r\n\" style=\"fill:none;stroke:#9edae5;stroke-linecap:square;stroke-width:1.5;\"/>\r\n   </g>\r\n   <g id=\"line2d_265\">\r\n    <path clip-path=\"url(#pb2ff9dbaaf)\" d=\"M 430.315099 133.703637 \r\nL 615.231528 133.703637 \r\n\" style=\"fill:none;stroke:#9edae5;stroke-linecap:square;stroke-width:1.5;\"/>\r\n   </g>\r\n   <g id=\"line2d_266\">\r\n    <path clip-path=\"url(#pb2ff9dbaaf)\" d=\"M 615.231528 244.083107 \r\nL 617.080692 244.083107 \r\n\" style=\"fill:none;stroke:#9edae5;stroke-linecap:square;stroke-width:1.5;\"/>\r\n   </g>\r\n   <g id=\"line2d_267\">\r\n    <path clip-path=\"url(#pb2ff9dbaaf)\" d=\"M 617.080692 78.513902 \r\nL 635.572335 78.513902 \r\n\" style=\"fill:none;stroke:#9edae5;stroke-linecap:square;stroke-width:1.5;\"/>\r\n   </g>\r\n   <g id=\"line2d_268\">\r\n    <path clip-path=\"url(#pb2ff9dbaaf)\" d=\"M 710.360757 244.083107 \r\nL 712.209922 244.083107 \r\n\" style=\"fill:none;stroke:#9edae5;stroke-linecap:square;stroke-width:1.5;\"/>\r\n   </g>\r\n   <g id=\"line2d_269\">\r\n    <path clip-path=\"url(#pb2ff9dbaaf)\" d=\"M 710.360757 23.324167 \r\nL 712.209922 23.324167 \r\n\" style=\"fill:none;stroke:#9edae5;stroke-linecap:square;stroke-width:1.5;\"/>\r\n   </g>\r\n   <g id=\"line2d_270\">\r\n    <path clip-path=\"url(#pb2ff9dbaaf)\" d=\"M 712.209922 23.324167 \r\nL 719.914773 23.324167 \r\n\" style=\"fill:none;stroke:#9edae5;stroke-linecap:square;stroke-width:1.5;\"/>\r\n   </g>\r\n   <g id=\"line2d_271\">\r\n    <path clip-path=\"url(#pb2ff9dbaaf)\" d=\"M 719.914773 244.083107 \r\nL 721.763937 244.083107 \r\n\" style=\"fill:none;stroke:#9edae5;stroke-linecap:square;stroke-width:1.5;\"/>\r\n   </g>\r\n   <g id=\"line2d_272\">\r\n    <path clip-path=\"url(#pb2ff9dbaaf)\" d=\"M 719.914773 23.324167 \r\nL 721.763937 23.324167 \r\n\" style=\"fill:none;stroke:#9edae5;stroke-linecap:square;stroke-width:1.5;\"/>\r\n   </g>\r\n   <g id=\"line2d_273\">\r\n    <path clip-path=\"url(#pb2ff9dbaaf)\" d=\"M 333.028511 260.455945 \r\nL 336.418646 260.455945 \r\n\" style=\"fill:none;stroke:#1f77b4;stroke-linecap:square;stroke-width:1.5;\"/>\r\n   </g>\r\n   <g id=\"line2d_274\">\r\n    <path clip-path=\"url(#pb2ff9dbaaf)\" d=\"M 333.028511 205.26621 \r\nL 336.418646 205.26621 \r\n\" style=\"fill:none;stroke:#1f77b4;stroke-linecap:square;stroke-width:1.5;\"/>\r\n   </g>\r\n   <g id=\"line2d_275\">\r\n    <path clip-path=\"url(#pb2ff9dbaaf)\" d=\"M 336.418646 205.26621 \r\nL 342.582526 205.26621 \r\n\" style=\"fill:none;stroke:#1f77b4;stroke-linecap:square;stroke-width:1.5;\"/>\r\n   </g>\r\n   <g id=\"line2d_276\">\r\n    <path clip-path=\"url(#pb2ff9dbaaf)\" d=\"M 342.582526 260.455945 \r\nL 345.15081 260.455945 \r\n\" style=\"fill:none;stroke:#1f77b4;stroke-linecap:square;stroke-width:1.5;\"/>\r\n   </g>\r\n   <g id=\"line2d_277\">\r\n    <path clip-path=\"url(#pb2ff9dbaaf)\" d=\"M 342.582526 205.26621 \r\nL 345.15081 205.26621 \r\n\" style=\"fill:none;stroke:#1f77b4;stroke-linecap:square;stroke-width:1.5;\"/>\r\n   </g>\r\n   <g id=\"line2d_278\">\r\n    <path clip-path=\"url(#pb2ff9dbaaf)\" d=\"M 345.15081 150.076475 \r\nL 530.067239 150.076475 \r\n\" style=\"fill:none;stroke:#1f77b4;stroke-linecap:square;stroke-width:1.5;\"/>\r\n   </g>\r\n   <g id=\"line2d_279\">\r\n    <path clip-path=\"url(#pb2ff9dbaaf)\" d=\"M 530.067239 260.455945 \r\nL 531.916403 260.455945 \r\n\" style=\"fill:none;stroke:#1f77b4;stroke-linecap:square;stroke-width:1.5;\"/>\r\n   </g>\r\n   <g id=\"line2d_280\">\r\n    <path clip-path=\"url(#pb2ff9dbaaf)\" d=\"M 531.916403 94.88674 \r\nL 550.408046 94.88674 \r\n\" style=\"fill:none;stroke:#1f77b4;stroke-linecap:square;stroke-width:1.5;\"/>\r\n   </g>\r\n   <g id=\"line2d_281\">\r\n    <path clip-path=\"url(#pb2ff9dbaaf)\" d=\"M 551.43536 260.455945 \r\nL 553.284524 260.455945 \r\n\" style=\"fill:none;stroke:#1f77b4;stroke-linecap:square;stroke-width:1.5;\"/>\r\n   </g>\r\n   <g id=\"line2d_282\">\r\n    <path clip-path=\"url(#pb2ff9dbaaf)\" d=\"M 551.43536 39.697005 \r\nL 553.284524 39.697005 \r\n\" style=\"fill:none;stroke:#1f77b4;stroke-linecap:square;stroke-width:1.5;\"/>\r\n   </g>\r\n   <g id=\"line2d_283\">\r\n    <path clip-path=\"url(#pb2ff9dbaaf)\" d=\"M 553.284524 39.697005 \r\nL 560.989375 39.697005 \r\n\" style=\"fill:none;stroke:#1f77b4;stroke-linecap:square;stroke-width:1.5;\"/>\r\n   </g>\r\n   <g id=\"line2d_284\">\r\n    <path clip-path=\"url(#pb2ff9dbaaf)\" d=\"M 560.989375 260.455945 \r\nL 562.83854 260.455945 \r\n\" style=\"fill:none;stroke:#1f77b4;stroke-linecap:square;stroke-width:1.5;\"/>\r\n   </g>\r\n   <g id=\"line2d_285\">\r\n    <path clip-path=\"url(#pb2ff9dbaaf)\" d=\"M 560.989375 39.697005 \r\nL 562.83854 39.697005 \r\n\" style=\"fill:none;stroke:#1f77b4;stroke-linecap:square;stroke-width:1.5;\"/>\r\n   </g>\r\n   <g id=\"line2d_286\">\r\n    <path clip-path=\"url(#pb2ff9dbaaf)\" d=\"M 345.15081 246.082743 \r\nL 348.540945 246.082743 \r\n\" style=\"fill:none;stroke:#aec7e8;stroke-linecap:square;stroke-width:1.5;\"/>\r\n   </g>\r\n   <g id=\"line2d_287\">\r\n    <path clip-path=\"url(#pb2ff9dbaaf)\" d=\"M 345.15081 190.893008 \r\nL 348.540945 190.893008 \r\n\" style=\"fill:none;stroke:#aec7e8;stroke-linecap:square;stroke-width:1.5;\"/>\r\n   </g>\r\n   <g id=\"line2d_288\">\r\n    <path clip-path=\"url(#pb2ff9dbaaf)\" d=\"M 348.540945 190.893008 \r\nL 354.704826 190.893008 \r\n\" style=\"fill:none;stroke:#aec7e8;stroke-linecap:square;stroke-width:1.5;\"/>\r\n   </g>\r\n   <g id=\"line2d_289\">\r\n    <path clip-path=\"url(#pb2ff9dbaaf)\" d=\"M 354.704826 246.082743 \r\nL 357.273109 246.082743 \r\n\" style=\"fill:none;stroke:#aec7e8;stroke-linecap:square;stroke-width:1.5;\"/>\r\n   </g>\r\n   <g id=\"line2d_290\">\r\n    <path clip-path=\"url(#pb2ff9dbaaf)\" d=\"M 354.704826 190.893008 \r\nL 357.273109 190.893008 \r\n\" style=\"fill:none;stroke:#aec7e8;stroke-linecap:square;stroke-width:1.5;\"/>\r\n   </g>\r\n   <g id=\"line2d_291\">\r\n    <path clip-path=\"url(#pb2ff9dbaaf)\" d=\"M 357.273109 135.703273 \r\nL 634.647753 135.703273 \r\n\" style=\"fill:none;stroke:#aec7e8;stroke-linecap:square;stroke-width:1.5;\"/>\r\n   </g>\r\n   <g id=\"line2d_292\">\r\n    <path clip-path=\"url(#pb2ff9dbaaf)\" d=\"M 634.647753 246.082743 \r\nL 636.496917 246.082743 \r\n\" style=\"fill:none;stroke:#aec7e8;stroke-linecap:square;stroke-width:1.5;\"/>\r\n   </g>\r\n   <g id=\"line2d_293\">\r\n    <path clip-path=\"url(#pb2ff9dbaaf)\" d=\"M 636.496917 80.513538 \r\nL 654.98856 80.513538 \r\n\" style=\"fill:none;stroke:#aec7e8;stroke-linecap:square;stroke-width:1.5;\"/>\r\n   </g>\r\n   <g id=\"line2d_294\">\r\n    <path clip-path=\"url(#pb2ff9dbaaf)\" d=\"M 657.24865 246.082743 \r\nL 659.097814 246.082743 \r\n\" style=\"fill:none;stroke:#aec7e8;stroke-linecap:square;stroke-width:1.5;\"/>\r\n   </g>\r\n   <g id=\"line2d_295\">\r\n    <path clip-path=\"url(#pb2ff9dbaaf)\" d=\"M 657.24865 25.323803 \r\nL 659.097814 25.323803 \r\n\" style=\"fill:none;stroke:#aec7e8;stroke-linecap:square;stroke-width:1.5;\"/>\r\n   </g>\r\n   <g id=\"line2d_296\">\r\n    <path clip-path=\"url(#pb2ff9dbaaf)\" d=\"M 659.097814 25.323803 \r\nL 666.802665 25.323803 \r\n\" style=\"fill:none;stroke:#aec7e8;stroke-linecap:square;stroke-width:1.5;\"/>\r\n   </g>\r\n   <g id=\"line2d_297\">\r\n    <path clip-path=\"url(#pb2ff9dbaaf)\" d=\"M 666.802665 246.082743 \r\nL 668.651829 246.082743 \r\n\" style=\"fill:none;stroke:#aec7e8;stroke-linecap:square;stroke-width:1.5;\"/>\r\n   </g>\r\n   <g id=\"line2d_298\">\r\n    <path clip-path=\"url(#pb2ff9dbaaf)\" d=\"M 666.802665 25.323803 \r\nL 668.651829 25.323803 \r\n\" style=\"fill:none;stroke:#aec7e8;stroke-linecap:square;stroke-width:1.5;\"/>\r\n   </g>\r\n   <g id=\"line2d_299\">\r\n    <path clip-path=\"url(#pb2ff9dbaaf)\" d=\"M 308.783913 265.272602 \r\nL 312.174047 265.272602 \r\n\" style=\"fill:none;stroke:#ff7f0e;stroke-linecap:square;stroke-width:1.5;\"/>\r\n   </g>\r\n   <g id=\"line2d_300\">\r\n    <path clip-path=\"url(#pb2ff9dbaaf)\" d=\"M 308.783913 210.082866 \r\nL 312.174047 210.082866 \r\n\" style=\"fill:none;stroke:#ff7f0e;stroke-linecap:square;stroke-width:1.5;\"/>\r\n   </g>\r\n   <g id=\"line2d_301\">\r\n    <path clip-path=\"url(#pb2ff9dbaaf)\" d=\"M 312.174047 210.082866 \r\nL 318.337928 210.082866 \r\n\" style=\"fill:none;stroke:#ff7f0e;stroke-linecap:square;stroke-width:1.5;\"/>\r\n   </g>\r\n   <g id=\"line2d_302\">\r\n    <path clip-path=\"url(#pb2ff9dbaaf)\" d=\"M 318.337928 265.272602 \r\nL 320.906212 265.272602 \r\n\" style=\"fill:none;stroke:#ff7f0e;stroke-linecap:square;stroke-width:1.5;\"/>\r\n   </g>\r\n   <g id=\"line2d_303\">\r\n    <path clip-path=\"url(#pb2ff9dbaaf)\" d=\"M 318.337928 210.082866 \r\nL 320.906212 210.082866 \r\n\" style=\"fill:none;stroke:#ff7f0e;stroke-linecap:square;stroke-width:1.5;\"/>\r\n   </g>\r\n   <g id=\"line2d_304\">\r\n    <path clip-path=\"url(#pb2ff9dbaaf)\" d=\"M 320.906212 154.893131 \r\nL 598.280855 154.893131 \r\n\" style=\"fill:none;stroke:#ff7f0e;stroke-linecap:square;stroke-width:1.5;\"/>\r\n   </g>\r\n   <g id=\"line2d_305\">\r\n    <path clip-path=\"url(#pb2ff9dbaaf)\" d=\"M 598.280855 265.272602 \r\nL 600.130019 265.272602 \r\n\" style=\"fill:none;stroke:#ff7f0e;stroke-linecap:square;stroke-width:1.5;\"/>\r\n   </g>\r\n   <g id=\"line2d_306\">\r\n    <path clip-path=\"url(#pb2ff9dbaaf)\" d=\"M 600.130019 99.703396 \r\nL 618.621662 99.703396 \r\n\" style=\"fill:none;stroke:#ff7f0e;stroke-linecap:square;stroke-width:1.5;\"/>\r\n   </g>\r\n   <g id=\"line2d_307\">\r\n    <path clip-path=\"url(#pb2ff9dbaaf)\" d=\"M 618.621662 265.272602 \r\nL 620.470827 265.272602 \r\n\" style=\"fill:none;stroke:#ff7f0e;stroke-linecap:square;stroke-width:1.5;\"/>\r\n   </g>\r\n   <g id=\"line2d_308\">\r\n    <path clip-path=\"url(#pb2ff9dbaaf)\" d=\"M 618.621662 44.513661 \r\nL 620.470827 44.513661 \r\n\" style=\"fill:none;stroke:#ff7f0e;stroke-linecap:square;stroke-width:1.5;\"/>\r\n   </g>\r\n   <g id=\"line2d_309\">\r\n    <path clip-path=\"url(#pb2ff9dbaaf)\" d=\"M 620.470827 44.513661 \r\nL 628.175678 44.513661 \r\n\" style=\"fill:none;stroke:#ff7f0e;stroke-linecap:square;stroke-width:1.5;\"/>\r\n   </g>\r\n   <g id=\"line2d_310\">\r\n    <path clip-path=\"url(#pb2ff9dbaaf)\" d=\"M 628.175678 265.272602 \r\nL 630.024842 265.272602 \r\n\" style=\"fill:none;stroke:#ff7f0e;stroke-linecap:square;stroke-width:1.5;\"/>\r\n   </g>\r\n   <g id=\"line2d_311\">\r\n    <path clip-path=\"url(#pb2ff9dbaaf)\" d=\"M 628.175678 44.513661 \r\nL 630.024842 44.513661 \r\n\" style=\"fill:none;stroke:#ff7f0e;stroke-linecap:square;stroke-width:1.5;\"/>\r\n   </g>\r\n   <g id=\"line2d_312\">\r\n    <path clip-path=\"url(#pb2ff9dbaaf)\" d=\"M 228.858923 265.911274 \r\nL 232.249057 265.911274 \r\n\" style=\"fill:none;stroke:#ffbb78;stroke-linecap:square;stroke-width:1.5;\"/>\r\n   </g>\r\n   <g id=\"line2d_313\">\r\n    <path clip-path=\"url(#pb2ff9dbaaf)\" d=\"M 228.858923 210.721539 \r\nL 232.249057 210.721539 \r\n\" style=\"fill:none;stroke:#ffbb78;stroke-linecap:square;stroke-width:1.5;\"/>\r\n   </g>\r\n   <g id=\"line2d_314\">\r\n    <path clip-path=\"url(#pb2ff9dbaaf)\" d=\"M 232.249057 210.721539 \r\nL 238.412938 210.721539 \r\n\" style=\"fill:none;stroke:#ffbb78;stroke-linecap:square;stroke-width:1.5;\"/>\r\n   </g>\r\n   <g id=\"line2d_315\">\r\n    <path clip-path=\"url(#pb2ff9dbaaf)\" d=\"M 238.412938 265.911274 \r\nL 240.981222 265.911274 \r\n\" style=\"fill:none;stroke:#ffbb78;stroke-linecap:square;stroke-width:1.5;\"/>\r\n   </g>\r\n   <g id=\"line2d_316\">\r\n    <path clip-path=\"url(#pb2ff9dbaaf)\" d=\"M 238.412938 210.721539 \r\nL 240.981222 210.721539 \r\n\" style=\"fill:none;stroke:#ffbb78;stroke-linecap:square;stroke-width:1.5;\"/>\r\n   </g>\r\n   <g id=\"line2d_317\">\r\n    <path clip-path=\"url(#pb2ff9dbaaf)\" d=\"M 240.981222 155.531804 \r\nL 518.355865 155.531804 \r\n\" style=\"fill:none;stroke:#ffbb78;stroke-linecap:square;stroke-width:1.5;\"/>\r\n   </g>\r\n   <g id=\"line2d_318\">\r\n    <path clip-path=\"url(#pb2ff9dbaaf)\" d=\"M 518.355865 265.911274 \r\nL 520.20503 265.911274 \r\n\" style=\"fill:none;stroke:#ffbb78;stroke-linecap:square;stroke-width:1.5;\"/>\r\n   </g>\r\n   <g id=\"line2d_319\">\r\n    <path clip-path=\"url(#pb2ff9dbaaf)\" d=\"M 520.20503 100.342069 \r\nL 538.696672 100.342069 \r\n\" style=\"fill:none;stroke:#ffbb78;stroke-linecap:square;stroke-width:1.5;\"/>\r\n   </g>\r\n   <g id=\"line2d_320\">\r\n    <path clip-path=\"url(#pb2ff9dbaaf)\" d=\"M 538.696672 265.911274 \r\nL 540.545837 265.911274 \r\n\" style=\"fill:none;stroke:#ffbb78;stroke-linecap:square;stroke-width:1.5;\"/>\r\n   </g>\r\n   <g id=\"line2d_321\">\r\n    <path clip-path=\"url(#pb2ff9dbaaf)\" d=\"M 538.696672 45.152334 \r\nL 540.545837 45.152334 \r\n\" style=\"fill:none;stroke:#ffbb78;stroke-linecap:square;stroke-width:1.5;\"/>\r\n   </g>\r\n   <g id=\"line2d_322\">\r\n    <path clip-path=\"url(#pb2ff9dbaaf)\" d=\"M 540.545837 45.152334 \r\nL 548.250688 45.152334 \r\n\" style=\"fill:none;stroke:#ffbb78;stroke-linecap:square;stroke-width:1.5;\"/>\r\n   </g>\r\n   <g id=\"line2d_323\">\r\n    <path clip-path=\"url(#pb2ff9dbaaf)\" d=\"M 549.586195 265.911274 \r\nL 551.43536 265.911274 \r\n\" style=\"fill:none;stroke:#ffbb78;stroke-linecap:square;stroke-width:1.5;\"/>\r\n   </g>\r\n   <g id=\"line2d_324\">\r\n    <path clip-path=\"url(#pb2ff9dbaaf)\" d=\"M 549.586195 45.152334 \r\nL 551.43536 45.152334 \r\n\" style=\"fill:none;stroke:#ffbb78;stroke-linecap:square;stroke-width:1.5;\"/>\r\n   </g>\r\n   <g id=\"line2d_325\">\r\n    <path clip-path=\"url(#pb2ff9dbaaf)\" d=\"M 320.906212 261.981553 \r\nL 324.296346 261.981553 \r\n\" style=\"fill:none;stroke:#2ca02c;stroke-linecap:square;stroke-width:1.5;\"/>\r\n   </g>\r\n   <g id=\"line2d_326\">\r\n    <path clip-path=\"url(#pb2ff9dbaaf)\" d=\"M 320.906212 206.791818 \r\nL 324.296346 206.791818 \r\n\" style=\"fill:none;stroke:#2ca02c;stroke-linecap:square;stroke-width:1.5;\"/>\r\n   </g>\r\n   <g id=\"line2d_327\">\r\n    <path clip-path=\"url(#pb2ff9dbaaf)\" d=\"M 324.296346 206.791818 \r\nL 330.460227 206.791818 \r\n\" style=\"fill:none;stroke:#2ca02c;stroke-linecap:square;stroke-width:1.5;\"/>\r\n   </g>\r\n   <g id=\"line2d_328\">\r\n    <path clip-path=\"url(#pb2ff9dbaaf)\" d=\"M 330.460227 261.981553 \r\nL 333.028511 261.981553 \r\n\" style=\"fill:none;stroke:#2ca02c;stroke-linecap:square;stroke-width:1.5;\"/>\r\n   </g>\r\n   <g id=\"line2d_329\">\r\n    <path clip-path=\"url(#pb2ff9dbaaf)\" d=\"M 330.460227 206.791818 \r\nL 333.028511 206.791818 \r\n\" style=\"fill:none;stroke:#2ca02c;stroke-linecap:square;stroke-width:1.5;\"/>\r\n   </g>\r\n   <g id=\"line2d_330\">\r\n    <path clip-path=\"url(#pb2ff9dbaaf)\" d=\"M 333.028511 151.602083 \r\nL 702.861369 151.602083 \r\n\" style=\"fill:none;stroke:#2ca02c;stroke-linecap:square;stroke-width:1.5;\"/>\r\n   </g>\r\n   <g id=\"line2d_331\">\r\n    <path clip-path=\"url(#pb2ff9dbaaf)\" d=\"M 702.861369 261.981553 \r\nL 704.710533 261.981553 \r\n\" style=\"fill:none;stroke:#2ca02c;stroke-linecap:square;stroke-width:1.5;\"/>\r\n   </g>\r\n   <g id=\"line2d_332\">\r\n    <path clip-path=\"url(#pb2ff9dbaaf)\" d=\"M 704.710533 96.412348 \r\nL 723.202176 96.412348 \r\n\" style=\"fill:none;stroke:#2ca02c;stroke-linecap:square;stroke-width:1.5;\"/>\r\n   </g>\r\n   <g id=\"line2d_333\">\r\n    <path clip-path=\"url(#pb2ff9dbaaf)\" d=\"M 723.202176 261.981553 \r\nL 725.05134 261.981553 \r\n\" style=\"fill:none;stroke:#2ca02c;stroke-linecap:square;stroke-width:1.5;\"/>\r\n   </g>\r\n   <g id=\"line2d_334\">\r\n    <path clip-path=\"url(#pb2ff9dbaaf)\" d=\"M 723.202176 41.222613 \r\nL 725.05134 41.222613 \r\n\" style=\"fill:none;stroke:#2ca02c;stroke-linecap:square;stroke-width:1.5;\"/>\r\n   </g>\r\n   <g id=\"line2d_335\">\r\n    <path clip-path=\"url(#pb2ff9dbaaf)\" d=\"M 725.05134 41.222613 \r\nL 732.756191 41.222613 \r\n\" style=\"fill:none;stroke:#2ca02c;stroke-linecap:square;stroke-width:1.5;\"/>\r\n   </g>\r\n   <g id=\"line2d_336\">\r\n    <path clip-path=\"url(#pb2ff9dbaaf)\" d=\"M 732.756191 261.981553 \r\nL 734.605356 261.981553 \r\n\" style=\"fill:none;stroke:#2ca02c;stroke-linecap:square;stroke-width:1.5;\"/>\r\n   </g>\r\n   <g id=\"line2d_337\">\r\n    <path clip-path=\"url(#pb2ff9dbaaf)\" d=\"M 732.756191 41.222613 \r\nL 734.605356 41.222613 \r\n\" style=\"fill:none;stroke:#2ca02c;stroke-linecap:square;stroke-width:1.5;\"/>\r\n   </g>\r\n   <g id=\"line2d_338\">\r\n    <path clip-path=\"url(#pb2ff9dbaaf)\" d=\"M 270.362388 248.777934 \r\nL 273.752522 248.777934 \r\n\" style=\"fill:none;stroke:#98df8a;stroke-linecap:square;stroke-width:1.5;\"/>\r\n   </g>\r\n   <g id=\"line2d_339\">\r\n    <path clip-path=\"url(#pb2ff9dbaaf)\" d=\"M 270.362388 193.588198 \r\nL 273.752522 193.588198 \r\n\" style=\"fill:none;stroke:#98df8a;stroke-linecap:square;stroke-width:1.5;\"/>\r\n   </g>\r\n   <g id=\"line2d_340\">\r\n    <path clip-path=\"url(#pb2ff9dbaaf)\" d=\"M 273.752522 193.588198 \r\nL 279.916403 193.588198 \r\n\" style=\"fill:none;stroke:#98df8a;stroke-linecap:square;stroke-width:1.5;\"/>\r\n   </g>\r\n   <g id=\"line2d_341\">\r\n    <path clip-path=\"url(#pb2ff9dbaaf)\" d=\"M 279.916403 248.777934 \r\nL 282.484687 248.777934 \r\n\" style=\"fill:none;stroke:#98df8a;stroke-linecap:square;stroke-width:1.5;\"/>\r\n   </g>\r\n   <g id=\"line2d_342\">\r\n    <path clip-path=\"url(#pb2ff9dbaaf)\" d=\"M 279.916403 193.588198 \r\nL 282.484687 193.588198 \r\n\" style=\"fill:none;stroke:#98df8a;stroke-linecap:square;stroke-width:1.5;\"/>\r\n   </g>\r\n   <g id=\"line2d_343\">\r\n    <path clip-path=\"url(#pb2ff9dbaaf)\" d=\"M 282.484687 138.398463 \r\nL 652.317545 138.398463 \r\n\" style=\"fill:none;stroke:#98df8a;stroke-linecap:square;stroke-width:1.5;\"/>\r\n   </g>\r\n   <g id=\"line2d_344\">\r\n    <path clip-path=\"url(#pb2ff9dbaaf)\" d=\"M 652.317545 248.777934 \r\nL 654.166709 248.777934 \r\n\" style=\"fill:none;stroke:#98df8a;stroke-linecap:square;stroke-width:1.5;\"/>\r\n   </g>\r\n   <g id=\"line2d_345\">\r\n    <path clip-path=\"url(#pb2ff9dbaaf)\" d=\"M 654.166709 83.208728 \r\nL 672.658352 83.208728 \r\n\" style=\"fill:none;stroke:#98df8a;stroke-linecap:square;stroke-width:1.5;\"/>\r\n   </g>\r\n   <g id=\"line2d_346\">\r\n    <path clip-path=\"url(#pb2ff9dbaaf)\" d=\"M 672.658352 248.777934 \r\nL 674.507516 248.777934 \r\n\" style=\"fill:none;stroke:#98df8a;stroke-linecap:square;stroke-width:1.5;\"/>\r\n   </g>\r\n   <g id=\"line2d_347\">\r\n    <path clip-path=\"url(#pb2ff9dbaaf)\" d=\"M 672.658352 28.018993 \r\nL 674.507516 28.018993 \r\n\" style=\"fill:none;stroke:#98df8a;stroke-linecap:square;stroke-width:1.5;\"/>\r\n   </g>\r\n   <g id=\"line2d_348\">\r\n    <path clip-path=\"url(#pb2ff9dbaaf)\" d=\"M 674.507516 28.018993 \r\nL 682.212368 28.018993 \r\n\" style=\"fill:none;stroke:#98df8a;stroke-linecap:square;stroke-width:1.5;\"/>\r\n   </g>\r\n   <g id=\"line2d_349\">\r\n    <path clip-path=\"url(#pb2ff9dbaaf)\" d=\"M 682.212368 248.777934 \r\nL 684.061532 248.777934 \r\n\" style=\"fill:none;stroke:#98df8a;stroke-linecap:square;stroke-width:1.5;\"/>\r\n   </g>\r\n   <g id=\"line2d_350\">\r\n    <path clip-path=\"url(#pb2ff9dbaaf)\" d=\"M 682.212368 28.018993 \r\nL 684.061532 28.018993 \r\n\" style=\"fill:none;stroke:#98df8a;stroke-linecap:square;stroke-width:1.5;\"/>\r\n   </g>\r\n   <g id=\"line2d_351\">\r\n    <path clip-path=\"url(#pb2ff9dbaaf)\" d=\"M 391.893574 245.173976 \r\nL 395.283709 245.173976 \r\n\" style=\"fill:none;stroke:#d62728;stroke-linecap:square;stroke-width:1.5;\"/>\r\n   </g>\r\n   <g id=\"line2d_352\">\r\n    <path clip-path=\"url(#pb2ff9dbaaf)\" d=\"M 391.893574 189.984241 \r\nL 395.283709 189.984241 \r\n\" style=\"fill:none;stroke:#d62728;stroke-linecap:square;stroke-width:1.5;\"/>\r\n   </g>\r\n   <g id=\"line2d_353\">\r\n    <path clip-path=\"url(#pb2ff9dbaaf)\" d=\"M 395.283709 189.984241 \r\nL 401.44759 189.984241 \r\n\" style=\"fill:none;stroke:#d62728;stroke-linecap:square;stroke-width:1.5;\"/>\r\n   </g>\r\n   <g id=\"line2d_354\">\r\n    <path clip-path=\"url(#pb2ff9dbaaf)\" d=\"M 401.44759 245.173976 \r\nL 404.015873 245.173976 \r\n\" style=\"fill:none;stroke:#d62728;stroke-linecap:square;stroke-width:1.5;\"/>\r\n   </g>\r\n   <g id=\"line2d_355\">\r\n    <path clip-path=\"url(#pb2ff9dbaaf)\" d=\"M 401.44759 189.984241 \r\nL 404.015873 189.984241 \r\n\" style=\"fill:none;stroke:#d62728;stroke-linecap:square;stroke-width:1.5;\"/>\r\n   </g>\r\n   <g id=\"line2d_356\">\r\n    <path clip-path=\"url(#pb2ff9dbaaf)\" d=\"M 404.015873 134.794506 \r\nL 773.848731 134.794506 \r\n\" style=\"fill:none;stroke:#d62728;stroke-linecap:square;stroke-width:1.5;\"/>\r\n   </g>\r\n   <g id=\"line2d_357\">\r\n    <path clip-path=\"url(#pb2ff9dbaaf)\" d=\"M 773.848731 245.173976 \r\nL 775.697895 245.173976 \r\n\" style=\"fill:none;stroke:#d62728;stroke-linecap:square;stroke-width:1.5;\"/>\r\n   </g>\r\n   <g id=\"line2d_358\">\r\n    <path clip-path=\"url(#pb2ff9dbaaf)\" d=\"M 775.697895 79.60477 \r\nL 794.189538 79.60477 \r\n\" style=\"fill:none;stroke:#d62728;stroke-linecap:square;stroke-width:1.5;\"/>\r\n   </g>\r\n   <g id=\"line2d_359\">\r\n    <path clip-path=\"url(#pb2ff9dbaaf)\" d=\"M 794.189538 245.173976 \r\nL 796.038703 245.173976 \r\n\" style=\"fill:none;stroke:#d62728;stroke-linecap:square;stroke-width:1.5;\"/>\r\n   </g>\r\n   <g id=\"line2d_360\">\r\n    <path clip-path=\"url(#pb2ff9dbaaf)\" d=\"M 794.189538 24.415035 \r\nL 796.038703 24.415035 \r\n\" style=\"fill:none;stroke:#d62728;stroke-linecap:square;stroke-width:1.5;\"/>\r\n   </g>\r\n   <g id=\"line2d_361\">\r\n    <path clip-path=\"url(#pb2ff9dbaaf)\" d=\"M 796.038703 24.415035 \r\nL 803.743554 24.415035 \r\n\" style=\"fill:none;stroke:#d62728;stroke-linecap:square;stroke-width:1.5;\"/>\r\n   </g>\r\n   <g id=\"line2d_362\">\r\n    <path clip-path=\"url(#pb2ff9dbaaf)\" d=\"M 803.743554 245.173976 \r\nL 805.592718 245.173976 \r\n\" style=\"fill:none;stroke:#d62728;stroke-linecap:square;stroke-width:1.5;\"/>\r\n   </g>\r\n   <g id=\"line2d_363\">\r\n    <path clip-path=\"url(#pb2ff9dbaaf)\" d=\"M 803.743554 24.415035 \r\nL 805.592718 24.415035 \r\n\" style=\"fill:none;stroke:#d62728;stroke-linecap:square;stroke-width:1.5;\"/>\r\n   </g>\r\n   <g id=\"patch_3\">\r\n    <path d=\"M 134.5875 279 \r\nL 134.5875 7.2 \r\n\" style=\"fill:none;stroke:#000000;stroke-linecap:square;stroke-linejoin:miter;stroke-width:0.8;\"/>\r\n   </g>\r\n   <g id=\"patch_4\">\r\n    <path d=\"M 915.7875 279 \r\nL 915.7875 7.2 \r\n\" style=\"fill:none;stroke:#000000;stroke-linecap:square;stroke-linejoin:miter;stroke-width:0.8;\"/>\r\n   </g>\r\n   <g id=\"patch_5\">\r\n    <path d=\"M 134.5875 279 \r\nL 915.7875 279 \r\n\" style=\"fill:none;stroke:#000000;stroke-linecap:square;stroke-linejoin:miter;stroke-width:0.8;\"/>\r\n   </g>\r\n   <g id=\"patch_6\">\r\n    <path d=\"M 134.5875 7.2 \r\nL 915.7875 7.2 \r\n\" style=\"fill:none;stroke:#000000;stroke-linecap:square;stroke-linejoin:miter;stroke-width:0.8;\"/>\r\n   </g>\r\n  </g>\r\n </g>\r\n <defs>\r\n  <clipPath id=\"pb2ff9dbaaf\">\r\n   <rect height=\"271.8\" width=\"781.2\" x=\"134.5875\" y=\"7.2\"/>\r\n  </clipPath>\r\n </defs>\r\n</svg>\r\n",
      "image/png": "[encoded data removed]"
     },
     "metadata": {
      "needs_background": "light"
     }
    }
   ],
   "metadata": {}
  },
  {
   "cell_type": "code",
   "execution_count": 27,
   "source": [
    "ordered_tasks = [\r\n",
    "    task\r\n",
    "    for sample in samples\r\n",
    "    for task in sample.tasks\r\n",
    "]\r\n",
    "ordered_tasks.sort(key=lambda x:x.start)"
   ],
   "outputs": [],
   "metadata": {}
  },
  {
   "cell_type": "code",
   "execution_count": 28,
   "source": [
    "gg_tasks = [t for t in ordered_tasks if gg in t.workers]\r\n",
    "for precedent, task in zip(gg_tasks, gg_tasks[1:]):\r\n",
    "    gantry_idle_time = task.start - precedent.end\r\n",
    "    if precedent.task.endswith('to_hotplate') and gantry_idle_time > 10:\r\n",
    "        idle_task = IdleGantry(\r\n",
    "            sample=precedent.sample,\r\n",
    "            precedents=[(precedent, True)],\r\n",
    "            start_time = precedent.end\r\n",
    "        )\r\n",
    "        idle_task.start = precedent.start+1\r\n",
    "        idle_task.end = idle_task.start+idle_task.duration\r\n",
    "        ordered_tasks.append(idle_task)\r\n",
    "\r\n",
    "        sample_tasklist = precedent.sample.tasks\r\n",
    "        idx = sample_tasklist.index(precedent)\r\n",
    "        sample_tasklist.insert(idx+1, idle_task)\r\n",
    "        print(f'added idle_gantry between {precedent} and {task} (idle time of {gantry_idle_time} seconds)')\r\n",
    "ordered_tasks.sort(key=lambda x:x.start)"
   ],
   "outputs": [
    {
     "output_type": "stream",
     "name": "stdout",
     "text": [
      "added idle_gantry between <Task> sample2, spincoater_to_hotplate and <Task> sample0, storage_to_characterization (idle time of 12 seconds)\n",
      "added idle_gantry between <Task> sample9, spincoater_to_hotplate and <Task> sample4, hotplate_to_storage (idle time of 19 seconds)\n",
      "added idle_gantry between <Task> sample12, spincoater_to_hotplate and <Task> sample3, hotplate_to_storage (idle time of 27 seconds)\n",
      "added idle_gantry between <Task> sample1, spincoater_to_hotplate and <Task> sample3, characterization_to_storage (idle time of 25 seconds)\n"
     ]
    }
   ],
   "metadata": {}
  },
  {
   "cell_type": "markdown",
   "source": [
    "# Write final files to disk"
   ],
   "metadata": {}
  },
  {
   "cell_type": "markdown",
   "source": [
    "## Write mixing netlist to disk, will be copy-pasted into listener.py protocol"
   ],
   "metadata": {}
  },
  {
   "cell_type": "code",
   "execution_count": 29,
   "source": [
    "with open('ot2netlist.json', 'w') as f:\r\n",
    "    json.dump(mixing_netlist, f, indent=4, sort_keys=True)\r\n",
    "print('Liquid Handler Netlist String dumped to \"ot2netlist.json\"')"
   ],
   "outputs": [
    {
     "output_type": "stream",
     "name": "stdout",
     "text": [
      "Liquid Handler Netlist String dumped to \"ot2netlist.json\"\n"
     ]
    }
   ],
   "metadata": {}
  },
  {
   "cell_type": "markdown",
   "source": [
    "## Maestro netlist to disk, will be input to maestro to execute experiment"
   ],
   "metadata": {}
  },
  {
   "cell_type": "code",
   "execution_count": 30,
   "source": [
    "ordered_task_output = [\r\n",
    "    task.to_dict() for task in ordered_tasks\r\n",
    "]\r\n",
    "samples_output = {sample.name:sample.to_dict() for sample in samples}\r\n",
    "out = {\r\n",
    "    'samples': samples_output,\r\n",
    "    'tasks': ordered_task_output,\r\n",
    "}\r\n",
    "with open('maestronetlist.json', 'w') as f:\r\n",
    "    json.dump(out, f, indent=4, sort_keys=True)\r\n",
    "print('Maestro Netlist dumped to \"maestronetlist.json\"')"
   ],
   "outputs": [
    {
     "output_type": "stream",
     "name": "stdout",
     "text": [
      "Maestro Netlist dumped to \"maestronetlist.json\"\n"
     ]
    }
   ],
   "metadata": {}
  },
  {
   "cell_type": "markdown",
   "source": [
    "## Solution Instructions to csv, tells operator where/how much to put solutions"
   ],
   "metadata": {}
  },
  {
   "cell_type": "code",
   "execution_count": 31,
   "source": [
    "with open('stock_solutions.csv', 'w', newline='') as f:\r\n",
    "    writer = csv.writer(f, delimiter=',')\r\n",
    "    header = [\r\n",
    "        'Tray',\r\n",
    "        'Slot',\r\n",
    "        'Volume (uL)',\r\n",
    "        'Solutes',\r\n",
    "        'Molarity (M)',\r\n",
    "        'Solvent',        \r\n",
    "    ]\r\n",
    "    writer.writerow(header)\r\n",
    "    for solution, details in solution_details.items():\r\n",
    "        volume = volumes_needed_per_stock.get(solution, 'Empty Vial')    \r\n",
    "        line = [\r\n",
    "            details['labware'],\r\n",
    "            details['slot'],\r\n",
    "            volume,\r\n",
    "            solution.solutes,\r\n",
    "            solution.molarity,\r\n",
    "            solution.solvent,\r\n",
    "        ]\r\n",
    "        writer.writerow(line)"
   ],
   "outputs": [],
   "metadata": {}
  },
  {
   "cell_type": "code",
   "execution_count": null,
   "source": [],
   "outputs": [],
   "metadata": {}
  }
 ],
 "metadata": {
  "kernelspec": {
   "name": "python3",
   "display_name": "Python 3.8.5 64-bit ('base': conda)"
  },
  "language_info": {
   "codemirror_mode": {
    "name": "ipython",
    "version": 3
   },
   "file_extension": ".py",
   "mimetype": "text/x-python",
   "name": "python",
   "nbconvert_exporter": "python",
   "pygments_lexer": "ipython3",
   "version": "3.8.5"
  },
  "interpreter": {
   "hash": "b3ba2566441a7c06988d0923437866b63cedc61552a5af99d1f4fb67d367b25f"
  }
 },
 "nbformat": 4,
 "nbformat_minor": 5
}