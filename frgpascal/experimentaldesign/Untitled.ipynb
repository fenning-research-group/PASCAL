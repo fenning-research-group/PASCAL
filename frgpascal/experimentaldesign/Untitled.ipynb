{
 "cells": [
  {
   "cell_type": "code",
   "execution_count": 2,
   "metadata": {},
   "outputs": [],
   "source": [
    "import pandas as pandas"
   ]
  },
  {
   "cell_type": "code",
   "execution_count": 3,
   "metadata": {},
   "outputs": [],
   "source": [
    "def tasks_from_rishi(spreadsheet_path, resources_dict=None,\n",
    "                           sheetname='tasks', resources_sheetname='resources',\n",
    "                           tasks_color=\"blue\",\n",
    "                           task_name_prefix=\"\", sep=\";\"):\n",
    "    if resources_dict is None:\n",
    "        resources_dict = resources_from_spreadsheet(\n",
    "            spreadsheet_path, sheetname=resources_sheetname)\n",
    "\n",
    "\n",
    "    if spreadsheet_path.endswith(\"csv\"):\n",
    "        process_df = pandas.read_csv(spreadsheet_path, sep=sep)\n",
    "    else:\n",
    "        process_df = pandas.read_excel(spreadsheet_path,\n",
    "                                       sheet_name=sheetname)\n",
    "    process_tasks = {}\n",
    "    tasks_list = []\n",
    "    for i, row in process_df.iterrows():\n",
    "        task_resources = [\n",
    "            resources_dict[r.strip()]\n",
    "            for r in row.resources.split(\",\")\n",
    "        ]\n",
    "        follows = str(row.follows)\n",
    "        if follows == \"nan\":\n",
    "            follows = ()\n",
    "        else:\n",
    "            follows = [process_tasks[t.strip()] for t in follows.split(\",\")]\n",
    "\n",
    "        if str(row.scheduled_resources) == \"nan\":\n",
    "            scheduled_resources = None\n",
    "        else:\n",
    "            scheduled_resources = {\n",
    "                resources_dict[r.split(\":\")[0].strip()]: int(r.split(\":\")[1])\n",
    "                for r in row.scheduled_resources.split(\",\")\n",
    "            }\n",
    "        new_task = Task(\n",
    "            name=task_name_prefix + row.task,\n",
    "            resources=task_resources,\n",
    "            duration=row.duration,\n",
    "            follows=follows,\n",
    "            color=(tasks_color if (str(row.color) == \"nan\")\n",
    "                               else row.color),\n",
    "            max_wait=(None if (str(row.max_wait) == \"nan\")\n",
    "                           else int(row.max_wait)),\n",
    "            scheduled_start=(None if (str(row.scheduled_start) == \"nan\")\n",
    "                                  else int(row.scheduled_start)),\n",
    "            scheduled_resources=scheduled_resources\n",
    "        )\n",
    "        process_tasks[row.task] = new_task\n",
    "        tasks_list.append(new_task)\n",
    "\n",
    "    return tasks_list"
   ]
  },
  {
   "cell_type": "code",
   "execution_count": 4,
   "metadata": {},
   "outputs": [],
   "source": [
    "%matplotlib qt"
   ]
  },
  {
   "cell_type": "code",
   "execution_count": 5,
   "metadata": {},
   "outputs": [],
   "source": [
    "from taskpacker import (tasks_from_spreadsheet,\n",
    "                        resources_from_spreadsheet,\n",
    "                        schedule_processes_series,\n",
    "                        plot_tasks_dependency_graph,\n",
    "                        plot_schedule, Task)\n",
    "import os\n",
    "import matplotlib.cm as cm\n",
    "\n",
    "ALLOW_BREAKS = False\n",
    "NUM_SAMPLES = 60\n",
    "\n",
    "colors = (cm.Spectral(0.21 * i % 1.0) for i in range(NUM_SAMPLES))\n",
    "\n",
    "\n",
    "# LOAD THE PROCESS AND RESOURCES CONFIGURATIONS\n",
    "\n",
    "spreadsheet_path = os.path.join(\"dna_assembly.xls\")\n",
    "\n",
    "resources = resources_from_spreadsheet(spreadsheet_path=spreadsheet_path,\n",
    "                                       sheetname=\"resources\")\n",
    "\n",
    "processes = [\n",
    "    tasks_from_rishi(spreadsheet_path=spreadsheet_path,\n",
    "                           sheetname=\"process\",\n",
    "                           resources_dict=resources,\n",
    "                           tasks_color=next(colors),\n",
    "                           task_name_prefix=\"WU%d_\" % (i + 1))\n",
    "    for i in range(NUM_SAMPLES)\n",
    "]\n",
    "\n",
    "\n",
    "# CREATE THE BREAKS\n",
    "\n",
    "# if ALLOW_BREAKS:\n",
    "#     scheduled_breaks = [\n",
    "#         Task(\"break_%03d\" % i,\n",
    "#              resources=[resources[\"igor\"]],\n",
    "#              scheduled_resources={resources[\"igor\"]: 1},\n",
    "#              duration=12 * 60, scheduled_start=24 * 60 * i,\n",
    "#              color='white')\n",
    "#         for i in range(6)\n",
    "#     ]\n",
    "# else:\n",
    "#     scheduled_breaks = []\n",
    "\n",
    "\n",
    "# # OPTIMIZE THE SCHEDULE\n",
    "\n",
    "# print(\"NOW OPTIMIZING THE SCHEDULE, BE PATIENT...\")\n",
    "# new_processes = schedule_processes_series(\n",
    "#     processes, est_process_duration=5000, time_limit=5,\n",
    "#     scheduled_tasks=scheduled_breaks\n",
    "# )\n",
    "\n",
    "\n",
    "# # PLOT THE TASKS DEPENDENCY TREE\n",
    "\n",
    "# ax = plot_tasks_dependency_graph(processes[0])\n",
    "# ax.set_title(\"PLAN OF A PROCESS\")\n",
    "# ax.figure.savefig(\"dna_assembly_process.pdf\", bbox_inches=\"tight\")\n",
    "\n",
    "\n",
    "# # PLOT THE OPTIMIZED SCHEDULE\n",
    "\n",
    "# all_tasks = [t for process in new_processes for t in process] + scheduled_breaks\n",
    "# ax = plot_schedule(all_tasks)\n",
    "# # ax.set_xlim((5800, 6500))\n",
    "# ax.figure.set_size_inches((10, 5))\n",
    "# ax.set_xlabel(\"time (seconds)\")\n",
    "# # plt.savefig('hp_limited')\n"
   ]
  },
  {
   "cell_type": "code",
   "execution_count": 22,
   "metadata": {},
   "outputs": [
    {
     "data": {
      "text/plain": [
       "{'gantry': gantry, 'hp': hp, 'ot2': ot2}"
      ]
     },
     "execution_count": 22,
     "metadata": {},
     "output_type": "execute_result"
    }
   ],
   "source": [
    "resources"
   ]
  },
  {
   "cell_type": "code",
   "execution_count": 24,
   "metadata": {},
   "outputs": [
    {
     "name": "stdout",
     "output_type": "stream",
     "text": [
      "capacity:1\n",
      "hash:<bound method Resource.hash of gantry>\n",
      "name:gantry\n"
     ]
    }
   ],
   "source": [
    "item = resources['gantry']\n",
    "props = [p for p in dir(item) if '_' not in p]\n",
    "for p in props:print(f'{p}:{getattr(item,p)}')"
   ]
  },
  {
   "cell_type": "code",
   "execution_count": 14,
   "metadata": {},
   "outputs": [
    {
     "data": {
      "text/plain": [
       "30"
      ]
     },
     "execution_count": 14,
     "metadata": {},
     "output_type": "execute_result"
    }
   ],
   "source": [
    "processes[0][4].max_wait"
   ]
  },
  {
   "cell_type": "code",
   "execution_count": 15,
   "metadata": {},
   "outputs": [],
   "source": [
    "all_tasks = processes"
   ]
  },
  {
   "cell_type": "code",
   "execution_count": 18,
   "metadata": {},
   "outputs": [],
   "source": [
    "props = [p for p in dir(all_tasks[0][1]) if '_' not in p]"
   ]
  },
  {
   "cell_type": "code",
   "execution_count": 19,
   "metadata": {},
   "outputs": [
    {
     "name": "stdout",
     "output_type": "stream",
     "text": [
      "color:(0.6196078431372549, 0.00392156862745098, 0.25882352941176473, 1.0)\n",
      "duration:60\n",
      "follows:[Task(WU1_move_storage_ot2, 10)]\n",
      "id:WU1_spincoat176708970027854230177174200101110379380\n",
      "name:WU1_spincoat\n",
      "priority:1\n",
      "resources:[ot2]\n"
     ]
    }
   ],
   "source": [
    "for p in props:print(f'{p}:{getattr(all_tasks[0][1],p)}')"
   ]
  },
  {
   "cell_type": "code",
   "execution_count": null,
   "metadata": {},
   "outputs": [],
   "source": []
  }
 ],
 "metadata": {
  "kernelspec": {
   "display_name": "Python 3",
   "language": "python",
   "name": "python3"
  },
  "language_info": {
   "codemirror_mode": {
    "name": "ipython",
    "version": 3
   },
   "file_extension": ".py",
   "mimetype": "text/x-python",
   "name": "python",
   "nbconvert_exporter": "python",
   "pygments_lexer": "ipython3",
   "version": "3.7.6"
  }
 },
 "nbformat": 4,
 "nbformat_minor": 4
}
